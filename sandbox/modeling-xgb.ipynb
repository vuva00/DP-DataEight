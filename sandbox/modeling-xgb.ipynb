{
 "cells": [
  {
   "cell_type": "markdown",
   "id": "8b95da3a",
   "metadata": {},
   "source": [
    "This script builds a predictive model using XGBoost to identify users who are likely to withdraw their credits \n",
    "(based on behavioral and demographic data). It performs the following steps:\n",
    "\n",
    "1. **Data Loading**: Loads three datasets: user demographic features (Atlas), payment transactions, and current credit balances.\n",
    "\n",
    "2. **Cleaning**: Filters out invalid rows (e.g., zero credits, missing user IDs).\n",
    "\n",
    "3. **Feature Engineering (Atlas)**:\n",
    "   - Transforms binary-encoded demographic features grouped by category.\n",
    "   - Encodes categorical sets into numeric IDs for model compatibility.\n",
    "\n",
    "4. **Withdrawal Stats Aggregation**:\n",
    "   - Calculates historical withdrawal frequency and volume per user.\n",
    "\n",
    "5. **Target Construction**:\n",
    "   - Merges current eligible users (credits ≥ 500) with past withdrawal stats.\n",
    "   - Assigns a binary `target` indicating whether a user is likely to withdraw now, based on average past behavior.\n",
    "\n",
    "6. **Data Merging**:\n",
    "   - Combines processed Atlas features with credit and withdrawal stats into one modeling dataframe.\n",
    "\n",
    "7. **Preprocessing**:\n",
    "   - Drops irrelevant or leakage-prone features.\n",
    "   - Scales numerical data using `StandardScaler`.\n",
    "\n",
    "8. **Modeling**:\n",
    "   - Splits data into training/testing sets with stratification.\n",
    "   - Defines a hyperparameter grid and performs cross-validated training (Stratified K-Fold, n=5).\n",
    "   - Tunes classification threshold to maximize F1-score for class 1 (users likely to withdraw).\n",
    "   - Tracks and logs the best performing model and evaluation report.\n",
    "\n",
    "9. **Logging**:\n",
    "   - Outputs detailed logs at each major step including data loading, feature processing, training, and evaluation."
   ]
  },
  {
   "cell_type": "code",
   "execution_count": 1,
   "id": "8da40f34",
   "metadata": {},
   "outputs": [],
   "source": [
    "import logging\n",
    "import numpy as np\n",
    "import pandas as pd\n",
    "from sklearn.model_selection import train_test_split\n",
    "from collections import defaultdict\n",
    "import xgboost as xgb\n",
    "from sklearn.model_selection import ParameterSampler, StratifiedKFold\n",
    "from sklearn.metrics import classification_report, f1_score\n",
    "from tqdm import tqdm\n",
    "from sklearn.preprocessing import StandardScaler\n",
    "import joblib\n",
    "import os"
   ]
  },
  {
   "cell_type": "code",
   "execution_count": 2,
   "id": "96b9aa9e",
   "metadata": {},
   "outputs": [
    {
     "name": "stderr",
     "output_type": "stream",
     "text": [
      "2025-06-04 10:39:14,895 - INFO - Loading datasets\n",
      "2025-06-04 10:39:19,378 - INFO - Cleaning data\n",
      "2025-06-04 10:39:19,402 - INFO - Transforming Atlas data\n",
      "2025-06-04 10:44:13,965 - INFO - Aggregating withdrawal stats\n",
      "2025-06-04 10:44:14,012 - INFO - Building eligible user set\n",
      "2025-06-04 10:44:14,151 - INFO - Merging structured Atlas features\n",
      "2025-06-04 10:44:14,580 - INFO - Scaling features\n",
      "2025-06-04 10:44:14,711 - INFO - Starting cross-validated hyperparameter search\n",
      "CV Search:   0%|          | 0/200 [00:00<?, ?it/s]2025-06-04 10:44:16,486 - INFO - Params: {'subsample': 0.8, 'scale_pos_weight': 1.5, 'max_depth': 7, 'learning_rate': 0.25, 'colsample_bytree': 1.0}, Mean F1: 0.7154\n",
      "CV Search:   0%|          | 1/200 [00:01<05:51,  1.77s/it]2025-06-04 10:44:18,294 - INFO - Params: {'subsample': 0.8, 'scale_pos_weight': 2.0, 'max_depth': 8, 'learning_rate': 0.25, 'colsample_bytree': 1.0}, Mean F1: 0.7170\n",
      "CV Search:   1%|          | 2/200 [00:03<05:55,  1.80s/it]2025-06-04 10:44:20,068 - INFO - Params: {'subsample': 0.8, 'scale_pos_weight': 1.5, 'max_depth': 6, 'learning_rate': 0.15, 'colsample_bytree': 1.0}, Mean F1: 0.7326\n",
      "CV Search:   2%|▏         | 3/200 [00:05<05:50,  1.78s/it]2025-06-04 10:44:21,770 - INFO - Params: {'subsample': 0.8, 'scale_pos_weight': 2.0, 'max_depth': 7, 'learning_rate': 0.2, 'colsample_bytree': 1.0}, Mean F1: 0.7272\n",
      "CV Search:   2%|▏         | 4/200 [00:07<05:42,  1.75s/it]2025-06-04 10:44:24,123 - INFO - Params: {'subsample': 0.8, 'scale_pos_weight': 2.0, 'max_depth': 7, 'learning_rate': 0.1, 'colsample_bytree': 0.9}, Mean F1: 0.7298\n",
      "CV Search:   2%|▎         | 5/200 [00:09<06:23,  1.97s/it]2025-06-04 10:44:26,142 - INFO - Params: {'subsample': 0.8, 'scale_pos_weight': 1.5, 'max_depth': 6, 'learning_rate': 0.1, 'colsample_bytree': 1.0}, Mean F1: 0.7314\n",
      "CV Search:   3%|▎         | 6/200 [00:11<06:25,  1.99s/it]2025-06-04 10:44:28,028 - INFO - Params: {'subsample': 1.0, 'scale_pos_weight': 1.0, 'max_depth': 8, 'learning_rate': 0.2, 'colsample_bytree': 1.0}, Mean F1: 0.7100\n",
      "CV Search:   4%|▎         | 7/200 [00:13<06:16,  1.95s/it]2025-06-04 10:44:30,008 - INFO - Params: {'subsample': 0.9, 'scale_pos_weight': 1.0, 'max_depth': 8, 'learning_rate': 0.2, 'colsample_bytree': 0.9}, Mean F1: 0.7087\n",
      "CV Search:   4%|▍         | 8/200 [00:15<06:16,  1.96s/it]2025-06-04 10:44:31,717 - INFO - Params: {'subsample': 0.9, 'scale_pos_weight': 2.0, 'max_depth': 7, 'learning_rate': 0.25, 'colsample_bytree': 1.0}, Mean F1: 0.7177\n",
      "CV Search:   4%|▍         | 9/200 [00:16<05:59,  1.88s/it]2025-06-04 10:44:33,469 - INFO - Params: {'subsample': 0.9, 'scale_pos_weight': 1.5, 'max_depth': 6, 'learning_rate': 0.15, 'colsample_bytree': 1.0}, Mean F1: 0.7273\n",
      "CV Search:   5%|▌         | 10/200 [00:18<05:49,  1.84s/it]2025-06-04 10:44:35,514 - INFO - Params: {'subsample': 0.8, 'scale_pos_weight': 2.0, 'max_depth': 8, 'learning_rate': 0.15, 'colsample_bytree': 1.0}, Mean F1: 0.7253\n",
      "CV Search:   6%|▌         | 11/200 [00:20<05:59,  1.90s/it]2025-06-04 10:44:37,259 - INFO - Params: {'subsample': 0.8, 'scale_pos_weight': 1.5, 'max_depth': 6, 'learning_rate': 0.15, 'colsample_bytree': 0.9}, Mean F1: 0.7275\n",
      "CV Search:   6%|▌         | 12/200 [00:22<05:49,  1.86s/it]2025-06-04 10:44:38,814 - INFO - Params: {'subsample': 0.9, 'scale_pos_weight': 1.0, 'max_depth': 6, 'learning_rate': 0.25, 'colsample_bytree': 1.0}, Mean F1: 0.7089\n",
      "CV Search:   6%|▋         | 13/200 [00:24<05:29,  1.76s/it]2025-06-04 10:44:41,166 - INFO - Params: {'subsample': 0.8, 'scale_pos_weight': 1.0, 'max_depth': 7, 'learning_rate': 0.1, 'colsample_bytree': 0.9}, Mean F1: 0.7232\n",
      "CV Search:   7%|▋         | 14/200 [00:26<06:01,  1.94s/it]2025-06-04 10:44:43,081 - INFO - Params: {'subsample': 0.9, 'scale_pos_weight': 1.5, 'max_depth': 7, 'learning_rate': 0.2, 'colsample_bytree': 0.9}, Mean F1: 0.7188\n",
      "CV Search:   8%|▊         | 15/200 [00:28<05:57,  1.93s/it]2025-06-04 10:44:44,879 - INFO - Params: {'subsample': 1.0, 'scale_pos_weight': 1.5, 'max_depth': 7, 'learning_rate': 0.2, 'colsample_bytree': 1.0}, Mean F1: 0.7280\n",
      "CV Search:   8%|▊         | 16/200 [00:30<05:48,  1.89s/it]2025-06-04 10:44:46,689 - INFO - Params: {'subsample': 0.9, 'scale_pos_weight': 1.0, 'max_depth': 7, 'learning_rate': 0.2, 'colsample_bytree': 1.0}, Mean F1: 0.7121\n",
      "CV Search:   8%|▊         | 17/200 [00:31<05:42,  1.87s/it]2025-06-04 10:44:49,377 - INFO - Params: {'subsample': 0.8, 'scale_pos_weight': 1.0, 'max_depth': 8, 'learning_rate': 0.1, 'colsample_bytree': 0.9}, Mean F1: 0.7208\n",
      "CV Search:   9%|▉         | 18/200 [00:34<06:24,  2.11s/it]2025-06-04 10:44:51,537 - INFO - Params: {'subsample': 0.9, 'scale_pos_weight': 1.0, 'max_depth': 8, 'learning_rate': 0.15, 'colsample_bytree': 1.0}, Mean F1: 0.7173\n",
      "CV Search:  10%|▉         | 19/200 [00:36<06:25,  2.13s/it]2025-06-04 10:44:53,471 - INFO - Params: {'subsample': 0.8, 'scale_pos_weight': 1.5, 'max_depth': 7, 'learning_rate': 0.2, 'colsample_bytree': 0.9}, Mean F1: 0.7158\n",
      "CV Search:  10%|█         | 20/200 [00:38<06:12,  2.07s/it]2025-06-04 10:44:55,686 - INFO - Params: {'subsample': 0.8, 'scale_pos_weight': 2.0, 'max_depth': 8, 'learning_rate': 0.2, 'colsample_bytree': 1.0}, Mean F1: 0.7246\n",
      "CV Search:  10%|█         | 21/200 [00:40<06:18,  2.11s/it]2025-06-04 10:44:57,535 - INFO - Params: {'subsample': 0.9, 'scale_pos_weight': 2.0, 'max_depth': 6, 'learning_rate': 0.15, 'colsample_bytree': 1.0}, Mean F1: 0.7302\n",
      "CV Search:  11%|█         | 22/200 [00:42<06:01,  2.03s/it]2025-06-04 10:44:59,692 - INFO - Params: {'subsample': 0.9, 'scale_pos_weight': 2.0, 'max_depth': 8, 'learning_rate': 0.2, 'colsample_bytree': 0.9}, Mean F1: 0.7198\n",
      "CV Search:  12%|█▏        | 23/200 [00:44<06:06,  2.07s/it]2025-06-04 10:45:02,435 - INFO - Params: {'subsample': 0.9, 'scale_pos_weight': 2.0, 'max_depth': 8, 'learning_rate': 0.1, 'colsample_bytree': 0.9}, Mean F1: 0.7267\n",
      "CV Search:  12%|█▏        | 24/200 [00:47<06:39,  2.27s/it]2025-06-04 10:45:04,242 - INFO - Params: {'subsample': 1.0, 'scale_pos_weight': 1.5, 'max_depth': 8, 'learning_rate': 0.25, 'colsample_bytree': 0.9}, Mean F1: 0.7125\n",
      "CV Search:  12%|█▎        | 25/200 [00:49<06:13,  2.13s/it]2025-06-04 10:45:06,212 - INFO - Params: {'subsample': 1.0, 'scale_pos_weight': 1.0, 'max_depth': 7, 'learning_rate': 0.15, 'colsample_bytree': 1.0}, Mean F1: 0.7200\n",
      "CV Search:  13%|█▎        | 26/200 [00:51<06:02,  2.08s/it]2025-06-04 10:45:08,293 - INFO - Params: {'subsample': 1.0, 'scale_pos_weight': 2.0, 'max_depth': 8, 'learning_rate': 0.15, 'colsample_bytree': 1.0}, Mean F1: 0.7329\n",
      "CV Search:  14%|█▎        | 27/200 [00:53<06:01,  2.09s/it]2025-06-04 10:45:10,701 - INFO - Params: {'subsample': 0.9, 'scale_pos_weight': 2.0, 'max_depth': 7, 'learning_rate': 0.1, 'colsample_bytree': 0.9}, Mean F1: 0.7317\n",
      "CV Search:  14%|█▍        | 28/200 [00:55<06:15,  2.18s/it]2025-06-04 10:45:12,817 - INFO - Params: {'subsample': 0.8, 'scale_pos_weight': 1.0, 'max_depth': 8, 'learning_rate': 0.15, 'colsample_bytree': 0.9}, Mean F1: 0.7139\n",
      "CV Search:  14%|█▍        | 29/200 [00:58<06:09,  2.16s/it]2025-06-04 10:45:14,433 - INFO - Params: {'subsample': 0.9, 'scale_pos_weight': 1.0, 'max_depth': 7, 'learning_rate': 0.25, 'colsample_bytree': 1.0}, Mean F1: 0.7014\n",
      "CV Search:  15%|█▌        | 30/200 [00:59<05:39,  2.00s/it]2025-06-04 10:45:16,407 - INFO - Params: {'subsample': 0.8, 'scale_pos_weight': 1.0, 'max_depth': 6, 'learning_rate': 0.1, 'colsample_bytree': 1.0}, Mean F1: 0.7240\n",
      "CV Search:  16%|█▌        | 31/200 [01:01<05:36,  1.99s/it]2025-06-04 10:45:18,031 - INFO - Params: {'subsample': 0.9, 'scale_pos_weight': 1.0, 'max_depth': 6, 'learning_rate': 0.2, 'colsample_bytree': 0.9}, Mean F1: 0.7145\n",
      "CV Search:  16%|█▌        | 32/200 [01:03<05:15,  1.88s/it]2025-06-04 10:45:20,062 - INFO - Params: {'subsample': 0.9, 'scale_pos_weight': 1.5, 'max_depth': 6, 'learning_rate': 0.1, 'colsample_bytree': 1.0}, Mean F1: 0.7327\n",
      "CV Search:  16%|█▋        | 33/200 [01:05<05:21,  1.92s/it]2025-06-04 10:45:21,684 - INFO - Params: {'subsample': 0.8, 'scale_pos_weight': 1.5, 'max_depth': 6, 'learning_rate': 0.25, 'colsample_bytree': 1.0}, Mean F1: 0.7184\n",
      "CV Search:  17%|█▋        | 34/200 [01:06<05:04,  1.83s/it]2025-06-04 10:45:24,233 - INFO - Params: {'subsample': 0.9, 'scale_pos_weight': 2.0, 'max_depth': 7, 'learning_rate': 0.1, 'colsample_bytree': 1.0}, Mean F1: 0.7332\n",
      "CV Search:  18%|█▊        | 35/200 [01:09<05:38,  2.05s/it]2025-06-04 10:45:26,640 - INFO - Params: {'subsample': 1.0, 'scale_pos_weight': 1.0, 'max_depth': 8, 'learning_rate': 0.1, 'colsample_bytree': 1.0}, Mean F1: 0.7245\n",
      "CV Search:  18%|█▊        | 36/200 [01:11<05:53,  2.15s/it]2025-06-04 10:45:28,551 - INFO - Params: {'subsample': 0.8, 'scale_pos_weight': 1.5, 'max_depth': 8, 'learning_rate': 0.2, 'colsample_bytree': 0.9}, Mean F1: 0.7158\n",
      "CV Search:  18%|█▊        | 37/200 [01:13<05:39,  2.08s/it]2025-06-04 10:45:30,240 - INFO - Params: {'subsample': 0.8, 'scale_pos_weight': 1.0, 'max_depth': 6, 'learning_rate': 0.15, 'colsample_bytree': 1.0}, Mean F1: 0.7249\n",
      "CV Search:  19%|█▉        | 38/200 [01:15<05:18,  1.96s/it]2025-06-04 10:45:32,396 - INFO - Params: {'subsample': 0.9, 'scale_pos_weight': 1.0, 'max_depth': 7, 'learning_rate': 0.1, 'colsample_bytree': 1.0}, Mean F1: 0.7282\n",
      "CV Search:  20%|█▉        | 39/200 [01:17<05:25,  2.02s/it]2025-06-04 10:45:34,084 - INFO - Params: {'subsample': 1.0, 'scale_pos_weight': 2.0, 'max_depth': 7, 'learning_rate': 0.25, 'colsample_bytree': 0.9}, Mean F1: 0.7294\n",
      "CV Search:  20%|██        | 40/200 [01:19<05:07,  1.92s/it]2025-06-04 10:45:35,742 - INFO - Params: {'subsample': 0.8, 'scale_pos_weight': 2.0, 'max_depth': 7, 'learning_rate': 0.25, 'colsample_bytree': 0.9}, Mean F1: 0.7117\n",
      "CV Search:  20%|██        | 41/200 [01:21<04:52,  1.84s/it]2025-06-04 10:45:37,541 - INFO - Params: {'subsample': 0.9, 'scale_pos_weight': 1.5, 'max_depth': 8, 'learning_rate': 0.2, 'colsample_bytree': 1.0}, Mean F1: 0.7318\n",
      "CV Search:  21%|██        | 42/200 [01:22<04:48,  1.83s/it]2025-06-04 10:45:39,797 - INFO - Params: {'subsample': 0.8, 'scale_pos_weight': 1.0, 'max_depth': 7, 'learning_rate': 0.1, 'colsample_bytree': 1.0}, Mean F1: 0.7252\n",
      "CV Search:  22%|██▏       | 43/200 [01:25<05:07,  1.96s/it]2025-06-04 10:45:41,423 - INFO - Params: {'subsample': 0.8, 'scale_pos_weight': 1.5, 'max_depth': 7, 'learning_rate': 0.25, 'colsample_bytree': 0.9}, Mean F1: 0.7067\n",
      "CV Search:  22%|██▏       | 44/200 [01:26<04:50,  1.86s/it]2025-06-04 10:45:42,878 - INFO - Params: {'subsample': 0.8, 'scale_pos_weight': 1.5, 'max_depth': 6, 'learning_rate': 0.25, 'colsample_bytree': 0.9}, Mean F1: 0.7226\n",
      "CV Search:  22%|██▎       | 45/200 [01:28<04:28,  1.74s/it]2025-06-04 10:45:44,470 - INFO - Params: {'subsample': 1.0, 'scale_pos_weight': 1.5, 'max_depth': 7, 'learning_rate': 0.25, 'colsample_bytree': 0.9}, Mean F1: 0.7197\n",
      "CV Search:  23%|██▎       | 46/200 [01:29<04:20,  1.69s/it]2025-06-04 10:45:46,160 - INFO - Params: {'subsample': 1.0, 'scale_pos_weight': 1.0, 'max_depth': 6, 'learning_rate': 0.15, 'colsample_bytree': 1.0}, Mean F1: 0.7251\n",
      "CV Search:  24%|██▎       | 47/200 [01:31<04:18,  1.69s/it]2025-06-04 10:45:47,882 - INFO - Params: {'subsample': 0.9, 'scale_pos_weight': 1.5, 'max_depth': 8, 'learning_rate': 0.25, 'colsample_bytree': 1.0}, Mean F1: 0.7135\n",
      "CV Search:  24%|██▍       | 48/200 [01:33<04:18,  1.70s/it]2025-06-04 10:45:49,428 - INFO - Params: {'subsample': 1.0, 'scale_pos_weight': 1.5, 'max_depth': 6, 'learning_rate': 0.25, 'colsample_bytree': 0.9}, Mean F1: 0.7254\n",
      "CV Search:  24%|██▍       | 49/200 [01:34<04:09,  1.65s/it]2025-06-04 10:45:51,059 - INFO - Params: {'subsample': 0.9, 'scale_pos_weight': 1.0, 'max_depth': 6, 'learning_rate': 0.2, 'colsample_bytree': 1.0}, Mean F1: 0.7172\n",
      "CV Search:  25%|██▌       | 50/200 [01:36<04:07,  1.65s/it]2025-06-04 10:45:53,097 - INFO - Params: {'subsample': 0.8, 'scale_pos_weight': 1.0, 'max_depth': 8, 'learning_rate': 0.15, 'colsample_bytree': 1.0}, Mean F1: 0.7105\n",
      "CV Search:  26%|██▌       | 51/200 [01:38<04:22,  1.77s/it]2025-06-04 10:45:55,288 - INFO - Params: {'subsample': 1.0, 'scale_pos_weight': 1.0, 'max_depth': 7, 'learning_rate': 0.15, 'colsample_bytree': 0.9}, Mean F1: 0.7164\n",
      "CV Search:  26%|██▌       | 52/200 [01:40<04:40,  1.89s/it]2025-06-04 10:45:58,177 - INFO - Params: {'subsample': 0.8, 'scale_pos_weight': 2.0, 'max_depth': 8, 'learning_rate': 0.1, 'colsample_bytree': 0.9}, Mean F1: 0.7279\n",
      "CV Search:  26%|██▋       | 53/200 [01:43<05:22,  2.19s/it]2025-06-04 10:45:59,787 - INFO - Params: {'subsample': 1.0, 'scale_pos_weight': 2.0, 'max_depth': 6, 'learning_rate': 0.2, 'colsample_bytree': 1.0}, Mean F1: 0.7292\n",
      "CV Search:  27%|██▋       | 54/200 [01:45<04:54,  2.02s/it]2025-06-04 10:46:02,208 - INFO - Params: {'subsample': 0.8, 'scale_pos_weight': 1.5, 'max_depth': 7, 'learning_rate': 0.1, 'colsample_bytree': 1.0}, Mean F1: 0.7298\n",
      "CV Search:  28%|██▊       | 55/200 [01:47<05:09,  2.14s/it]2025-06-04 10:46:04,024 - INFO - Params: {'subsample': 1.0, 'scale_pos_weight': 1.0, 'max_depth': 6, 'learning_rate': 0.15, 'colsample_bytree': 0.9}, Mean F1: 0.7250\n",
      "CV Search:  28%|██▊       | 56/200 [01:49<04:53,  2.04s/it]2025-06-04 10:46:06,720 - INFO - Params: {'subsample': 0.9, 'scale_pos_weight': 1.0, 'max_depth': 8, 'learning_rate': 0.1, 'colsample_bytree': 0.9}, Mean F1: 0.7276\n",
      "CV Search:  28%|██▊       | 57/200 [01:51<05:20,  2.24s/it]2025-06-04 10:46:08,567 - INFO - Params: {'subsample': 0.8, 'scale_pos_weight': 2.0, 'max_depth': 7, 'learning_rate': 0.2, 'colsample_bytree': 0.9}, Mean F1: 0.7216\n",
      "CV Search:  29%|██▉       | 58/200 [01:53<05:01,  2.12s/it]2025-06-04 10:46:10,276 - INFO - Params: {'subsample': 0.9, 'scale_pos_weight': 2.0, 'max_depth': 7, 'learning_rate': 0.25, 'colsample_bytree': 0.9}, Mean F1: 0.7192\n",
      "CV Search:  30%|██▉       | 59/200 [01:55<04:41,  2.00s/it]2025-06-04 10:46:12,018 - INFO - Params: {'subsample': 0.8, 'scale_pos_weight': 2.0, 'max_depth': 6, 'learning_rate': 0.2, 'colsample_bytree': 0.9}, Mean F1: 0.7265\n",
      "CV Search:  30%|███       | 60/200 [01:57<04:28,  1.92s/it]2025-06-04 10:46:14,000 - INFO - Params: {'subsample': 1.0, 'scale_pos_weight': 1.5, 'max_depth': 7, 'learning_rate': 0.2, 'colsample_bytree': 0.9}, Mean F1: 0.7204\n",
      "CV Search:  30%|███       | 61/200 [01:59<04:29,  1.94s/it]2025-06-04 10:46:16,306 - INFO - Params: {'subsample': 1.0, 'scale_pos_weight': 1.5, 'max_depth': 6, 'learning_rate': 0.1, 'colsample_bytree': 0.9}, Mean F1: 0.7311\n",
      "CV Search:  31%|███       | 62/200 [02:01<04:42,  2.05s/it]2025-06-04 10:46:18,015 - INFO - Params: {'subsample': 0.9, 'scale_pos_weight': 1.0, 'max_depth': 6, 'learning_rate': 0.15, 'colsample_bytree': 1.0}, Mean F1: 0.7315\n",
      "CV Search:  32%|███▏      | 63/200 [02:03<04:26,  1.95s/it]2025-06-04 10:46:19,672 - INFO - Params: {'subsample': 1.0, 'scale_pos_weight': 1.0, 'max_depth': 6, 'learning_rate': 0.2, 'colsample_bytree': 0.9}, Mean F1: 0.7141\n",
      "CV Search:  32%|███▏      | 64/200 [02:04<04:13,  1.86s/it]2025-06-04 10:46:21,558 - INFO - Params: {'subsample': 0.9, 'scale_pos_weight': 1.0, 'max_depth': 8, 'learning_rate': 0.25, 'colsample_bytree': 0.9}, Mean F1: 0.6972\n",
      "CV Search:  32%|███▎      | 65/200 [02:06<04:11,  1.87s/it]2025-06-04 10:46:23,491 - INFO - Params: {'subsample': 1.0, 'scale_pos_weight': 2.0, 'max_depth': 7, 'learning_rate': 0.15, 'colsample_bytree': 1.0}, Mean F1: 0.7298\n",
      "CV Search:  33%|███▎      | 66/200 [02:08<04:13,  1.89s/it]2025-06-04 10:46:25,033 - INFO - Params: {'subsample': 0.9, 'scale_pos_weight': 1.0, 'max_depth': 6, 'learning_rate': 0.25, 'colsample_bytree': 0.9}, Mean F1: 0.7111\n",
      "CV Search:  34%|███▎      | 67/200 [02:10<03:56,  1.78s/it]2025-06-04 10:46:26,866 - INFO - Params: {'subsample': 1.0, 'scale_pos_weight': 1.0, 'max_depth': 7, 'learning_rate': 0.2, 'colsample_bytree': 0.9}, Mean F1: 0.7096\n",
      "CV Search:  34%|███▍      | 68/200 [02:12<03:57,  1.80s/it]2025-06-04 10:46:28,826 - INFO - Params: {'subsample': 0.9, 'scale_pos_weight': 1.0, 'max_depth': 6, 'learning_rate': 0.1, 'colsample_bytree': 1.0}, Mean F1: 0.7293\n",
      "CV Search:  34%|███▍      | 69/200 [02:14<04:01,  1.85s/it]2025-06-04 10:46:30,848 - INFO - Params: {'subsample': 0.8, 'scale_pos_weight': 1.5, 'max_depth': 8, 'learning_rate': 0.2, 'colsample_bytree': 1.0}, Mean F1: 0.7282\n",
      "CV Search:  35%|███▌      | 70/200 [02:16<04:06,  1.90s/it]2025-06-04 10:46:32,804 - INFO - Params: {'subsample': 0.9, 'scale_pos_weight': 1.5, 'max_depth': 6, 'learning_rate': 0.15, 'colsample_bytree': 0.9}, Mean F1: 0.7266\n",
      "CV Search:  36%|███▌      | 71/200 [02:18<04:07,  1.92s/it]2025-06-04 10:46:35,087 - INFO - Params: {'subsample': 0.8, 'scale_pos_weight': 1.5, 'max_depth': 7, 'learning_rate': 0.1, 'colsample_bytree': 0.9}, Mean F1: 0.7254\n",
      "CV Search:  36%|███▌      | 72/200 [02:20<04:19,  2.03s/it]2025-06-04 10:46:36,896 - INFO - Params: {'subsample': 1.0, 'scale_pos_weight': 2.0, 'max_depth': 6, 'learning_rate': 0.15, 'colsample_bytree': 0.9}, Mean F1: 0.7329\n",
      "CV Search:  36%|███▋      | 73/200 [02:22<04:08,  1.96s/it]2025-06-04 10:46:38,780 - INFO - Params: {'subsample': 0.9, 'scale_pos_weight': 1.0, 'max_depth': 6, 'learning_rate': 0.15, 'colsample_bytree': 0.9}, Mean F1: 0.7193\n",
      "CV Search:  37%|███▋      | 74/200 [02:24<04:04,  1.94s/it]2025-06-04 10:46:41,120 - INFO - Params: {'subsample': 0.8, 'scale_pos_weight': 2.0, 'max_depth': 7, 'learning_rate': 0.15, 'colsample_bytree': 0.9}, Mean F1: 0.7254\n",
      "CV Search:  38%|███▊      | 75/200 [02:26<04:17,  2.06s/it]2025-06-04 10:46:42,861 - INFO - Params: {'subsample': 1.0, 'scale_pos_weight': 1.0, 'max_depth': 8, 'learning_rate': 0.25, 'colsample_bytree': 1.0}, Mean F1: 0.7056\n",
      "CV Search:  38%|███▊      | 76/200 [02:28<04:03,  1.96s/it]2025-06-04 10:46:44,779 - INFO - Params: {'subsample': 1.0, 'scale_pos_weight': 1.0, 'max_depth': 8, 'learning_rate': 0.25, 'colsample_bytree': 0.9}, Mean F1: 0.7052\n",
      "CV Search:  38%|███▊      | 77/200 [02:30<03:59,  1.95s/it]2025-06-04 10:46:47,095 - INFO - Params: {'subsample': 0.8, 'scale_pos_weight': 1.5, 'max_depth': 7, 'learning_rate': 0.15, 'colsample_bytree': 1.0}, Mean F1: 0.7230\n",
      "CV Search:  39%|███▉      | 78/200 [02:32<04:11,  2.06s/it]2025-06-04 10:46:49,728 - INFO - Params: {'subsample': 0.8, 'scale_pos_weight': 2.0, 'max_depth': 8, 'learning_rate': 0.15, 'colsample_bytree': 0.9}, Mean F1: 0.7256\n",
      "CV Search:  40%|███▉      | 79/200 [02:34<04:29,  2.23s/it]2025-06-04 10:46:51,422 - INFO - Params: {'subsample': 1.0, 'scale_pos_weight': 2.0, 'max_depth': 7, 'learning_rate': 0.25, 'colsample_bytree': 1.0}, Mean F1: 0.7225\n",
      "CV Search:  40%|████      | 80/200 [02:36<04:08,  2.07s/it]2025-06-04 10:46:53,383 - INFO - Params: {'subsample': 0.8, 'scale_pos_weight': 1.0, 'max_depth': 8, 'learning_rate': 0.2, 'colsample_bytree': 1.0}, Mean F1: 0.7127\n",
      "CV Search:  40%|████      | 81/200 [02:38<04:02,  2.04s/it]2025-06-04 10:46:55,428 - INFO - Params: {'subsample': 0.9, 'scale_pos_weight': 1.5, 'max_depth': 8, 'learning_rate': 0.2, 'colsample_bytree': 0.9}, Mean F1: 0.7159\n",
      "CV Search:  41%|████      | 82/200 [02:40<04:01,  2.04s/it]2025-06-04 10:46:57,593 - INFO - Params: {'subsample': 1.0, 'scale_pos_weight': 1.5, 'max_depth': 7, 'learning_rate': 0.15, 'colsample_bytree': 0.9}, Mean F1: 0.7275\n",
      "CV Search:  42%|████▏     | 83/200 [02:42<04:02,  2.08s/it]2025-06-04 10:47:00,351 - INFO - Params: {'subsample': 0.8, 'scale_pos_weight': 2.0, 'max_depth': 8, 'learning_rate': 0.1, 'colsample_bytree': 1.0}, Mean F1: 0.7303\n",
      "CV Search:  42%|████▏     | 84/200 [02:45<04:24,  2.28s/it]2025-06-04 10:47:02,619 - INFO - Params: {'subsample': 0.8, 'scale_pos_weight': 2.0, 'max_depth': 8, 'learning_rate': 0.2, 'colsample_bytree': 0.9}, Mean F1: 0.7217\n",
      "CV Search:  42%|████▎     | 85/200 [02:47<04:21,  2.28s/it]2025-06-04 10:47:05,288 - INFO - Params: {'subsample': 0.9, 'scale_pos_weight': 1.0, 'max_depth': 8, 'learning_rate': 0.1, 'colsample_bytree': 1.0}, Mean F1: 0.7243\n",
      "CV Search:  43%|████▎     | 86/200 [02:50<04:32,  2.39s/it]2025-06-04 10:47:08,095 - INFO - Params: {'subsample': 1.0, 'scale_pos_weight': 2.0, 'max_depth': 8, 'learning_rate': 0.1, 'colsample_bytree': 0.9}, Mean F1: 0.7296\n",
      "CV Search:  44%|████▎     | 87/200 [02:53<04:44,  2.52s/it]2025-06-04 10:47:09,975 - INFO - Params: {'subsample': 1.0, 'scale_pos_weight': 2.0, 'max_depth': 6, 'learning_rate': 0.15, 'colsample_bytree': 1.0}, Mean F1: 0.7312\n",
      "CV Search:  44%|████▍     | 88/200 [02:55<04:20,  2.33s/it]2025-06-04 10:47:12,042 - INFO - Params: {'subsample': 1.0, 'scale_pos_weight': 1.5, 'max_depth': 6, 'learning_rate': 0.1, 'colsample_bytree': 1.0}, Mean F1: 0.7334\n",
      "CV Search:  44%|████▍     | 89/200 [02:57<04:10,  2.25s/it]2025-06-04 10:47:14,384 - INFO - Params: {'subsample': 1.0, 'scale_pos_weight': 2.0, 'max_depth': 7, 'learning_rate': 0.1, 'colsample_bytree': 1.0}, Mean F1: 0.7336\n",
      "CV Search:  45%|████▌     | 90/200 [02:59<04:10,  2.28s/it]2025-06-04 10:47:16,645 - INFO - Params: {'subsample': 1.0, 'scale_pos_weight': 1.0, 'max_depth': 6, 'learning_rate': 0.1, 'colsample_bytree': 0.9}, Mean F1: 0.7266\n",
      "CV Search:  46%|████▌     | 91/200 [03:01<04:07,  2.27s/it]2025-06-04 10:47:18,761 - INFO - Params: {'subsample': 1.0, 'scale_pos_weight': 1.5, 'max_depth': 8, 'learning_rate': 0.2, 'colsample_bytree': 0.9}, Mean F1: 0.7199\n",
      "CV Search:  46%|████▌     | 92/200 [03:04<04:00,  2.22s/it]2025-06-04 10:47:20,996 - INFO - Params: {'subsample': 0.9, 'scale_pos_weight': 1.0, 'max_depth': 8, 'learning_rate': 0.15, 'colsample_bytree': 0.9}, Mean F1: 0.7187\n",
      "CV Search:  46%|████▋     | 93/200 [03:06<03:58,  2.23s/it]2025-06-04 10:47:22,813 - INFO - Params: {'subsample': 0.9, 'scale_pos_weight': 1.5, 'max_depth': 7, 'learning_rate': 0.2, 'colsample_bytree': 1.0}, Mean F1: 0.7230\n",
      "CV Search:  47%|████▋     | 94/200 [03:08<03:42,  2.10s/it]2025-06-04 10:47:24,859 - INFO - Params: {'subsample': 0.9, 'scale_pos_weight': 2.0, 'max_depth': 6, 'learning_rate': 0.1, 'colsample_bytree': 1.0}, Mean F1: 0.7379\n",
      "CV Search:  48%|████▊     | 95/200 [03:10<03:39,  2.09s/it]2025-06-04 10:47:26,556 - INFO - Params: {'subsample': 0.8, 'scale_pos_weight': 1.0, 'max_depth': 7, 'learning_rate': 0.25, 'colsample_bytree': 0.9}, Mean F1: 0.7084\n",
      "CV Search:  48%|████▊     | 96/200 [03:11<03:24,  1.97s/it]2025-06-04 10:47:28,092 - INFO - Params: {'subsample': 0.9, 'scale_pos_weight': 1.5, 'max_depth': 6, 'learning_rate': 0.25, 'colsample_bytree': 0.9}, Mean F1: 0.7254\n",
      "CV Search:  48%|████▊     | 97/200 [03:13<03:09,  1.84s/it]2025-06-04 10:47:29,968 - INFO - Params: {'subsample': 0.8, 'scale_pos_weight': 1.0, 'max_depth': 7, 'learning_rate': 0.15, 'colsample_bytree': 1.0}, Mean F1: 0.7173\n",
      "CV Search:  49%|████▉     | 98/200 [03:15<03:08,  1.85s/it]2025-06-04 10:47:32,045 - INFO - Params: {'subsample': 0.8, 'scale_pos_weight': 1.0, 'max_depth': 7, 'learning_rate': 0.15, 'colsample_bytree': 0.9}, Mean F1: 0.7165\n",
      "CV Search:  50%|████▉     | 99/200 [03:17<03:13,  1.92s/it]2025-06-04 10:47:34,274 - INFO - Params: {'subsample': 1.0, 'scale_pos_weight': 1.5, 'max_depth': 7, 'learning_rate': 0.1, 'colsample_bytree': 1.0}, Mean F1: 0.7303\n",
      "CV Search:  50%|█████     | 100/200 [03:19<03:21,  2.01s/it]2025-06-04 10:47:35,920 - INFO - Params: {'subsample': 0.9, 'scale_pos_weight': 2.0, 'max_depth': 6, 'learning_rate': 0.2, 'colsample_bytree': 0.9}, Mean F1: 0.7266\n",
      "CV Search:  50%|█████     | 101/200 [03:21<03:08,  1.90s/it]2025-06-04 10:47:38,524 - INFO - Params: {'subsample': 0.9, 'scale_pos_weight': 1.5, 'max_depth': 8, 'learning_rate': 0.1, 'colsample_bytree': 0.9}, Mean F1: 0.7273\n",
      "CV Search:  51%|█████     | 102/200 [03:23<03:27,  2.11s/it]2025-06-04 10:47:40,287 - INFO - Params: {'subsample': 0.8, 'scale_pos_weight': 2.0, 'max_depth': 6, 'learning_rate': 0.15, 'colsample_bytree': 1.0}, Mean F1: 0.7300\n",
      "CV Search:  52%|█████▏    | 103/200 [03:25<03:14,  2.01s/it]2025-06-04 10:47:42,538 - INFO - Params: {'subsample': 1.0, 'scale_pos_weight': 1.0, 'max_depth': 7, 'learning_rate': 0.1, 'colsample_bytree': 1.0}, Mean F1: 0.7289\n",
      "CV Search:  52%|█████▏    | 104/200 [03:27<03:19,  2.08s/it]2025-06-04 10:47:44,548 - INFO - Params: {'subsample': 0.8, 'scale_pos_weight': 2.0, 'max_depth': 6, 'learning_rate': 0.15, 'colsample_bytree': 0.9}, Mean F1: 0.7279\n",
      "CV Search:  52%|█████▎    | 105/200 [03:29<03:15,  2.06s/it]2025-06-04 10:47:46,992 - INFO - Params: {'subsample': 1.0, 'scale_pos_weight': 1.0, 'max_depth': 7, 'learning_rate': 0.1, 'colsample_bytree': 0.9}, Mean F1: 0.7243\n",
      "CV Search:  53%|█████▎    | 106/200 [03:32<03:24,  2.18s/it]2025-06-04 10:47:48,880 - INFO - Params: {'subsample': 0.8, 'scale_pos_weight': 1.5, 'max_depth': 8, 'learning_rate': 0.25, 'colsample_bytree': 1.0}, Mean F1: 0.7132\n",
      "CV Search:  54%|█████▎    | 107/200 [03:34<03:14,  2.09s/it]2025-06-04 10:47:50,603 - INFO - Params: {'subsample': 0.8, 'scale_pos_weight': 1.0, 'max_depth': 7, 'learning_rate': 0.2, 'colsample_bytree': 1.0}, Mean F1: 0.7084\n",
      "CV Search:  54%|█████▍    | 108/200 [03:35<03:01,  1.98s/it]2025-06-04 10:47:52,818 - INFO - Params: {'subsample': 0.8, 'scale_pos_weight': 2.0, 'max_depth': 6, 'learning_rate': 0.1, 'colsample_bytree': 0.9}, Mean F1: 0.7318\n",
      "CV Search:  55%|█████▍    | 109/200 [03:38<03:06,  2.05s/it]2025-06-04 10:47:54,667 - INFO - Params: {'subsample': 0.8, 'scale_pos_weight': 1.0, 'max_depth': 6, 'learning_rate': 0.15, 'colsample_bytree': 0.9}, Mean F1: 0.7169\n",
      "CV Search:  55%|█████▌    | 110/200 [03:39<02:59,  1.99s/it]2025-06-04 10:47:56,675 - INFO - Params: {'subsample': 0.8, 'scale_pos_weight': 2.0, 'max_depth': 7, 'learning_rate': 0.15, 'colsample_bytree': 1.0}, Mean F1: 0.7248\n",
      "CV Search:  56%|█████▌    | 111/200 [03:41<02:57,  1.99s/it]2025-06-04 10:47:58,472 - INFO - Params: {'subsample': 0.8, 'scale_pos_weight': 1.0, 'max_depth': 8, 'learning_rate': 0.25, 'colsample_bytree': 1.0}, Mean F1: 0.7026\n",
      "CV Search:  56%|█████▌    | 112/200 [03:43<02:50,  1.94s/it]2025-06-04 10:48:00,429 - INFO - Params: {'subsample': 0.9, 'scale_pos_weight': 1.5, 'max_depth': 7, 'learning_rate': 0.15, 'colsample_bytree': 1.0}, Mean F1: 0.7268\n",
      "CV Search:  56%|█████▋    | 113/200 [03:45<02:48,  1.94s/it]2025-06-04 10:48:02,863 - INFO - Params: {'subsample': 0.9, 'scale_pos_weight': 1.5, 'max_depth': 6, 'learning_rate': 0.1, 'colsample_bytree': 0.9}, Mean F1: 0.7300\n",
      "CV Search:  57%|█████▋    | 114/200 [03:48<02:59,  2.09s/it]2025-06-04 10:48:04,807 - INFO - Params: {'subsample': 1.0, 'scale_pos_weight': 1.5, 'max_depth': 6, 'learning_rate': 0.15, 'colsample_bytree': 0.9}, Mean F1: 0.7322\n",
      "CV Search:  57%|█████▊    | 115/200 [03:50<02:53,  2.05s/it]2025-06-04 10:48:06,665 - INFO - Params: {'subsample': 0.8, 'scale_pos_weight': 2.0, 'max_depth': 7, 'learning_rate': 0.25, 'colsample_bytree': 1.0}, Mean F1: 0.7212\n",
      "CV Search:  58%|█████▊    | 116/200 [03:51<02:47,  1.99s/it]2025-06-04 10:48:08,963 - INFO - Params: {'subsample': 0.8, 'scale_pos_weight': 1.5, 'max_depth': 8, 'learning_rate': 0.15, 'colsample_bytree': 1.0}, Mean F1: 0.7287\n",
      "CV Search:  58%|█████▊    | 117/200 [03:54<02:52,  2.08s/it]2025-06-04 10:48:10,883 - INFO - Params: {'subsample': 1.0, 'scale_pos_weight': 1.0, 'max_depth': 7, 'learning_rate': 0.2, 'colsample_bytree': 1.0}, Mean F1: 0.7135\n",
      "CV Search:  59%|█████▉    | 118/200 [03:56<02:46,  2.03s/it]2025-06-04 10:48:13,102 - INFO - Params: {'subsample': 1.0, 'scale_pos_weight': 1.0, 'max_depth': 8, 'learning_rate': 0.15, 'colsample_bytree': 1.0}, Mean F1: 0.7126\n",
      "CV Search:  60%|█████▉    | 119/200 [03:58<02:49,  2.09s/it]2025-06-04 10:48:15,164 - INFO - Params: {'subsample': 0.8, 'scale_pos_weight': 2.0, 'max_depth': 6, 'learning_rate': 0.1, 'colsample_bytree': 1.0}, Mean F1: 0.7321\n",
      "CV Search:  60%|██████    | 120/200 [04:00<02:46,  2.08s/it]2025-06-04 10:48:17,881 - INFO - Params: {'subsample': 0.9, 'scale_pos_weight': 1.0, 'max_depth': 7, 'learning_rate': 0.1, 'colsample_bytree': 0.9}, Mean F1: 0.7238\n",
      "CV Search:  60%|██████    | 121/200 [04:03<02:59,  2.27s/it]2025-06-04 10:48:19,656 - INFO - Params: {'subsample': 1.0, 'scale_pos_weight': 2.0, 'max_depth': 6, 'learning_rate': 0.2, 'colsample_bytree': 0.9}, Mean F1: 0.7267\n",
      "CV Search:  61%|██████    | 122/200 [04:04<02:45,  2.12s/it]2025-06-04 10:48:22,677 - INFO - Params: {'subsample': 0.8, 'scale_pos_weight': 1.0, 'max_depth': 8, 'learning_rate': 0.1, 'colsample_bytree': 1.0}, Mean F1: 0.7246\n",
      "CV Search:  62%|██████▏   | 123/200 [04:07<03:04,  2.39s/it]2025-06-04 10:48:24,199 - INFO - Params: {'subsample': 0.9, 'scale_pos_weight': 1.5, 'max_depth': 6, 'learning_rate': 0.25, 'colsample_bytree': 1.0}, Mean F1: 0.7213\n",
      "CV Search:  62%|██████▏   | 124/200 [04:09<02:41,  2.13s/it]2025-06-04 10:48:25,960 - INFO - Params: {'subsample': 0.9, 'scale_pos_weight': 2.0, 'max_depth': 7, 'learning_rate': 0.2, 'colsample_bytree': 1.0}, Mean F1: 0.7250\n",
      "CV Search:  62%|██████▎   | 125/200 [04:11<02:31,  2.02s/it]2025-06-04 10:48:28,144 - INFO - Params: {'subsample': 0.8, 'scale_pos_weight': 1.0, 'max_depth': 6, 'learning_rate': 0.1, 'colsample_bytree': 0.9}, Mean F1: 0.7246\n",
      "CV Search:  63%|██████▎   | 126/200 [04:13<02:33,  2.07s/it]2025-06-04 10:48:29,818 - INFO - Params: {'subsample': 1.0, 'scale_pos_weight': 1.5, 'max_depth': 6, 'learning_rate': 0.25, 'colsample_bytree': 1.0}, Mean F1: 0.7285\n",
      "CV Search:  64%|██████▎   | 127/200 [04:15<02:22,  1.95s/it]2025-06-04 10:48:31,434 - INFO - Params: {'subsample': 1.0, 'scale_pos_weight': 1.0, 'max_depth': 6, 'learning_rate': 0.2, 'colsample_bytree': 1.0}, Mean F1: 0.7174\n",
      "CV Search:  64%|██████▍   | 128/200 [04:16<02:13,  1.85s/it]2025-06-04 10:48:33,219 - INFO - Params: {'subsample': 0.9, 'scale_pos_weight': 2.0, 'max_depth': 7, 'learning_rate': 0.2, 'colsample_bytree': 0.9}, Mean F1: 0.7213\n",
      "CV Search:  64%|██████▍   | 129/200 [04:18<02:10,  1.83s/it]2025-06-04 10:48:34,817 - INFO - Params: {'subsample': 1.0, 'scale_pos_weight': 1.5, 'max_depth': 6, 'learning_rate': 0.2, 'colsample_bytree': 1.0}, Mean F1: 0.7313\n",
      "CV Search:  65%|██████▌   | 130/200 [04:20<02:03,  1.76s/it]2025-06-04 10:48:36,720 - INFO - Params: {'subsample': 0.9, 'scale_pos_weight': 1.0, 'max_depth': 7, 'learning_rate': 0.2, 'colsample_bytree': 0.9}, Mean F1: 0.7109\n",
      "CV Search:  66%|██████▌   | 131/200 [04:21<02:04,  1.80s/it]2025-06-04 10:48:38,626 - INFO - Params: {'subsample': 1.0, 'scale_pos_weight': 2.0, 'max_depth': 7, 'learning_rate': 0.15, 'colsample_bytree': 0.9}, Mean F1: 0.7321\n",
      "CV Search:  66%|██████▌   | 132/200 [04:23<02:04,  1.84s/it]2025-06-04 10:48:40,267 - INFO - Params: {'subsample': 1.0, 'scale_pos_weight': 1.5, 'max_depth': 6, 'learning_rate': 0.15, 'colsample_bytree': 1.0}, Mean F1: 0.7312\n",
      "CV Search:  66%|██████▋   | 133/200 [04:25<01:59,  1.78s/it]2025-06-04 10:48:42,310 - INFO - Params: {'subsample': 0.9, 'scale_pos_weight': 1.5, 'max_depth': 7, 'learning_rate': 0.15, 'colsample_bytree': 0.9}, Mean F1: 0.7269\n",
      "CV Search:  67%|██████▋   | 134/200 [04:27<02:02,  1.85s/it]2025-06-04 10:48:44,635 - INFO - Params: {'subsample': 0.8, 'scale_pos_weight': 2.0, 'max_depth': 7, 'learning_rate': 0.1, 'colsample_bytree': 1.0}, Mean F1: 0.7284\n",
      "CV Search:  68%|██████▊   | 135/200 [04:29<02:09,  2.00s/it]2025-06-04 10:48:47,408 - INFO - Params: {'subsample': 1.0, 'scale_pos_weight': 1.5, 'max_depth': 8, 'learning_rate': 0.1, 'colsample_bytree': 0.9}, Mean F1: 0.7263\n",
      "CV Search:  68%|██████▊   | 136/200 [04:32<02:22,  2.23s/it]2025-06-04 10:48:48,965 - INFO - Params: {'subsample': 0.8, 'scale_pos_weight': 1.0, 'max_depth': 6, 'learning_rate': 0.2, 'colsample_bytree': 1.0}, Mean F1: 0.7134\n",
      "CV Search:  68%|██████▊   | 137/200 [04:34<02:07,  2.03s/it]2025-06-04 10:48:51,048 - INFO - Params: {'subsample': 1.0, 'scale_pos_weight': 1.5, 'max_depth': 8, 'learning_rate': 0.15, 'colsample_bytree': 1.0}, Mean F1: 0.7250\n",
      "CV Search:  69%|██████▉   | 138/200 [04:36<02:07,  2.05s/it]2025-06-04 10:48:52,648 - INFO - Params: {'subsample': 0.8, 'scale_pos_weight': 1.0, 'max_depth': 6, 'learning_rate': 0.25, 'colsample_bytree': 0.9}, Mean F1: 0.7081\n",
      "CV Search:  70%|██████▉   | 139/200 [04:37<01:56,  1.91s/it]2025-06-04 10:48:54,674 - INFO - Params: {'subsample': 0.8, 'scale_pos_weight': 1.5, 'max_depth': 7, 'learning_rate': 0.15, 'colsample_bytree': 0.9}, Mean F1: 0.7255\n",
      "CV Search:  70%|███████   | 140/200 [04:39<01:56,  1.94s/it]2025-06-04 10:48:56,532 - INFO - Params: {'subsample': 0.9, 'scale_pos_weight': 1.0, 'max_depth': 8, 'learning_rate': 0.2, 'colsample_bytree': 1.0}, Mean F1: 0.7090\n",
      "CV Search:  70%|███████   | 141/200 [04:41<01:53,  1.92s/it]2025-06-04 10:48:58,824 - INFO - Params: {'subsample': 1.0, 'scale_pos_weight': 1.0, 'max_depth': 8, 'learning_rate': 0.15, 'colsample_bytree': 0.9}, Mean F1: 0.7210\n",
      "CV Search:  71%|███████   | 142/200 [04:44<01:57,  2.03s/it]2025-06-04 10:49:00,471 - INFO - Params: {'subsample': 0.9, 'scale_pos_weight': 1.5, 'max_depth': 7, 'learning_rate': 0.25, 'colsample_bytree': 0.9}, Mean F1: 0.7082\n",
      "CV Search:  72%|███████▏  | 143/200 [04:45<01:49,  1.91s/it]2025-06-04 10:49:02,022 - INFO - Params: {'subsample': 0.8, 'scale_pos_weight': 1.5, 'max_depth': 6, 'learning_rate': 0.2, 'colsample_bytree': 1.0}, Mean F1: 0.7248\n",
      "CV Search:  72%|███████▏  | 144/200 [04:47<01:41,  1.81s/it]2025-06-04 10:49:04,048 - INFO - Params: {'subsample': 0.9, 'scale_pos_weight': 2.0, 'max_depth': 7, 'learning_rate': 0.15, 'colsample_bytree': 0.9}, Mean F1: 0.7262\n",
      "CV Search:  72%|███████▎  | 145/200 [04:49<01:42,  1.87s/it]2025-06-04 10:49:06,010 - INFO - Params: {'subsample': 0.9, 'scale_pos_weight': 1.0, 'max_depth': 7, 'learning_rate': 0.15, 'colsample_bytree': 1.0}, Mean F1: 0.7200\n",
      "CV Search:  73%|███████▎  | 146/200 [04:51<01:42,  1.90s/it]2025-06-04 10:49:07,589 - INFO - Params: {'subsample': 1.0, 'scale_pos_weight': 2.0, 'max_depth': 6, 'learning_rate': 0.25, 'colsample_bytree': 1.0}, Mean F1: 0.7256\n",
      "CV Search:  74%|███████▎  | 147/200 [04:52<01:35,  1.80s/it]2025-06-04 10:49:09,809 - INFO - Params: {'subsample': 0.8, 'scale_pos_weight': 1.5, 'max_depth': 6, 'learning_rate': 0.1, 'colsample_bytree': 0.9}, Mean F1: 0.7296\n",
      "CV Search:  74%|███████▍  | 148/200 [04:55<01:40,  1.93s/it]2025-06-04 10:49:11,719 - INFO - Params: {'subsample': 0.8, 'scale_pos_weight': 2.0, 'max_depth': 8, 'learning_rate': 0.25, 'colsample_bytree': 0.9}, Mean F1: 0.7096\n",
      "CV Search:  74%|███████▍  | 149/200 [04:56<01:38,  1.92s/it]2025-06-04 10:49:13,961 - INFO - Params: {'subsample': 1.0, 'scale_pos_weight': 2.0, 'max_depth': 8, 'learning_rate': 0.15, 'colsample_bytree': 0.9}, Mean F1: 0.7312\n",
      "CV Search:  75%|███████▌  | 150/200 [04:59<01:40,  2.02s/it]2025-06-04 10:49:16,353 - INFO - Params: {'subsample': 0.9, 'scale_pos_weight': 2.0, 'max_depth': 8, 'learning_rate': 0.1, 'colsample_bytree': 1.0}, Mean F1: 0.7355\n",
      "CV Search:  76%|███████▌  | 151/200 [05:01<01:44,  2.13s/it]2025-06-04 10:49:17,856 - INFO - Params: {'subsample': 0.8, 'scale_pos_weight': 2.0, 'max_depth': 6, 'learning_rate': 0.25, 'colsample_bytree': 1.0}, Mean F1: 0.7301\n",
      "CV Search:  76%|███████▌  | 152/200 [05:03<01:33,  1.94s/it]2025-06-04 10:49:19,495 - INFO - Params: {'subsample': 0.8, 'scale_pos_weight': 2.0, 'max_depth': 6, 'learning_rate': 0.2, 'colsample_bytree': 1.0}, Mean F1: 0.7268\n",
      "CV Search:  76%|███████▋  | 153/200 [05:04<01:27,  1.85s/it]2025-06-04 10:49:21,161 - INFO - Params: {'subsample': 1.0, 'scale_pos_weight': 1.0, 'max_depth': 7, 'learning_rate': 0.25, 'colsample_bytree': 1.0}, Mean F1: 0.7020\n",
      "CV Search:  77%|███████▋  | 154/200 [05:06<01:22,  1.79s/it]2025-06-04 10:49:23,419 - INFO - Params: {'subsample': 0.9, 'scale_pos_weight': 1.5, 'max_depth': 8, 'learning_rate': 0.15, 'colsample_bytree': 0.9}, Mean F1: 0.7216\n",
      "CV Search:  78%|███████▊  | 155/200 [05:08<01:27,  1.93s/it]2025-06-04 10:49:25,375 - INFO - Params: {'subsample': 1.0, 'scale_pos_weight': 2.0, 'max_depth': 8, 'learning_rate': 0.2, 'colsample_bytree': 0.9}, Mean F1: 0.7234\n",
      "CV Search:  78%|███████▊  | 156/200 [05:10<01:25,  1.94s/it]2025-06-04 10:49:27,142 - INFO - Params: {'subsample': 0.9, 'scale_pos_weight': 2.0, 'max_depth': 6, 'learning_rate': 0.15, 'colsample_bytree': 0.9}, Mean F1: 0.7307\n",
      "CV Search:  78%|███████▊  | 157/200 [05:12<01:21,  1.89s/it]2025-06-04 10:49:29,375 - INFO - Params: {'subsample': 0.9, 'scale_pos_weight': 2.0, 'max_depth': 6, 'learning_rate': 0.1, 'colsample_bytree': 0.9}, Mean F1: 0.7296\n",
      "CV Search:  79%|███████▉  | 158/200 [05:14<01:23,  1.99s/it]2025-06-04 10:49:31,274 - INFO - Params: {'subsample': 1.0, 'scale_pos_weight': 1.0, 'max_depth': 6, 'learning_rate': 0.1, 'colsample_bytree': 1.0}, Mean F1: 0.7302\n",
      "CV Search:  80%|███████▉  | 159/200 [05:16<01:20,  1.96s/it]2025-06-04 10:49:32,893 - INFO - Params: {'subsample': 0.9, 'scale_pos_weight': 1.0, 'max_depth': 7, 'learning_rate': 0.25, 'colsample_bytree': 0.9}, Mean F1: 0.7164\n",
      "CV Search:  80%|████████  | 160/200 [05:18<01:14,  1.86s/it]2025-06-04 10:49:34,574 - INFO - Params: {'subsample': 1.0, 'scale_pos_weight': 1.0, 'max_depth': 6, 'learning_rate': 0.25, 'colsample_bytree': 0.9}, Mean F1: 0.7133\n",
      "CV Search:  80%|████████  | 161/200 [05:19<01:10,  1.81s/it]2025-06-04 10:49:36,096 - INFO - Params: {'subsample': 1.0, 'scale_pos_weight': 1.0, 'max_depth': 6, 'learning_rate': 0.25, 'colsample_bytree': 1.0}, Mean F1: 0.7157\n",
      "CV Search:  81%|████████  | 162/200 [05:21<01:05,  1.72s/it]2025-06-04 10:49:37,653 - INFO - Params: {'subsample': 0.9, 'scale_pos_weight': 2.0, 'max_depth': 6, 'learning_rate': 0.25, 'colsample_bytree': 1.0}, Mean F1: 0.7262\n",
      "CV Search:  82%|████████▏ | 163/200 [05:22<01:01,  1.67s/it]2025-06-04 10:49:39,065 - INFO - Params: {'subsample': 1.0, 'scale_pos_weight': 2.0, 'max_depth': 6, 'learning_rate': 0.25, 'colsample_bytree': 0.9}, Mean F1: 0.7254\n",
      "CV Search:  82%|████████▏ | 164/200 [05:24<00:57,  1.60s/it]2025-06-04 10:49:40,892 - INFO - Params: {'subsample': 1.0, 'scale_pos_weight': 2.0, 'max_depth': 6, 'learning_rate': 0.1, 'colsample_bytree': 0.9}, Mean F1: 0.7327\n",
      "CV Search:  82%|████████▎ | 165/200 [05:26<00:58,  1.66s/it]2025-06-04 10:49:42,970 - INFO - Params: {'subsample': 0.9, 'scale_pos_weight': 1.5, 'max_depth': 7, 'learning_rate': 0.1, 'colsample_bytree': 0.9}, Mean F1: 0.7298\n",
      "CV Search:  83%|████████▎ | 166/200 [05:28<01:00,  1.79s/it]2025-06-04 10:49:44,619 - INFO - Params: {'subsample': 1.0, 'scale_pos_weight': 1.5, 'max_depth': 6, 'learning_rate': 0.2, 'colsample_bytree': 0.9}, Mean F1: 0.7268\n",
      "CV Search:  84%|████████▎ | 167/200 [05:29<00:57,  1.75s/it]2025-06-04 10:49:46,368 - INFO - Params: {'subsample': 1.0, 'scale_pos_weight': 1.5, 'max_depth': 8, 'learning_rate': 0.2, 'colsample_bytree': 1.0}, Mean F1: 0.7256\n",
      "CV Search:  84%|████████▍ | 168/200 [05:31<00:55,  1.75s/it]2025-06-04 10:49:48,948 - INFO - Params: {'subsample': 1.0, 'scale_pos_weight': 1.5, 'max_depth': 8, 'learning_rate': 0.1, 'colsample_bytree': 1.0}, Mean F1: 0.7294\n",
      "CV Search:  84%|████████▍ | 169/200 [05:34<01:01,  2.00s/it]2025-06-04 10:49:51,030 - INFO - Params: {'subsample': 1.0, 'scale_pos_weight': 2.0, 'max_depth': 7, 'learning_rate': 0.1, 'colsample_bytree': 0.9}, Mean F1: 0.7328\n",
      "CV Search:  85%|████████▌ | 170/200 [05:36<01:00,  2.02s/it]2025-06-04 10:49:52,295 - INFO - Params: {'subsample': 0.9, 'scale_pos_weight': 1.5, 'max_depth': 6, 'learning_rate': 0.2, 'colsample_bytree': 1.0}, Mean F1: 0.7317\n",
      "CV Search:  86%|████████▌ | 171/200 [05:37<00:52,  1.79s/it]2025-06-04 10:49:53,910 - INFO - Params: {'subsample': 0.8, 'scale_pos_weight': 1.0, 'max_depth': 8, 'learning_rate': 0.2, 'colsample_bytree': 0.9}, Mean F1: 0.7034\n",
      "CV Search:  86%|████████▌ | 172/200 [05:39<00:48,  1.74s/it]2025-06-04 10:49:55,303 - INFO - Params: {'subsample': 0.8, 'scale_pos_weight': 1.0, 'max_depth': 6, 'learning_rate': 0.25, 'colsample_bytree': 1.0}, Mean F1: 0.7074\n",
      "CV Search:  86%|████████▋ | 173/200 [05:40<00:44,  1.64s/it]2025-06-04 10:49:57,726 - INFO - Params: {'subsample': 1.0, 'scale_pos_weight': 2.0, 'max_depth': 8, 'learning_rate': 0.1, 'colsample_bytree': 1.0}, Mean F1: 0.7326\n",
      "CV Search:  87%|████████▋ | 174/200 [05:42<00:48,  1.87s/it]2025-06-04 10:49:59,223 - INFO - Params: {'subsample': 0.9, 'scale_pos_weight': 2.0, 'max_depth': 8, 'learning_rate': 0.25, 'colsample_bytree': 1.0}, Mean F1: 0.7120\n",
      "CV Search:  88%|████████▊ | 175/200 [05:44<00:44,  1.76s/it]2025-06-04 10:50:00,810 - INFO - Params: {'subsample': 0.8, 'scale_pos_weight': 1.0, 'max_depth': 7, 'learning_rate': 0.25, 'colsample_bytree': 1.0}, Mean F1: 0.7118\n",
      "CV Search:  88%|████████▊ | 176/200 [05:46<00:41,  1.71s/it]2025-06-04 10:50:02,517 - INFO - Params: {'subsample': 0.8, 'scale_pos_weight': 1.0, 'max_depth': 7, 'learning_rate': 0.2, 'colsample_bytree': 0.9}, Mean F1: 0.7094\n",
      "CV Search:  88%|████████▊ | 177/200 [05:47<00:39,  1.71s/it]2025-06-04 10:50:04,173 - INFO - Params: {'subsample': 0.8, 'scale_pos_weight': 1.0, 'max_depth': 6, 'learning_rate': 0.2, 'colsample_bytree': 0.9}, Mean F1: 0.7106\n",
      "CV Search:  89%|████████▉ | 178/200 [05:49<00:37,  1.69s/it]2025-06-04 10:50:05,956 - INFO - Params: {'subsample': 1.0, 'scale_pos_weight': 2.0, 'max_depth': 8, 'learning_rate': 0.25, 'colsample_bytree': 0.9}, Mean F1: 0.7170\n",
      "CV Search:  90%|████████▉ | 179/200 [05:51<00:36,  1.72s/it]2025-06-04 10:50:08,223 - INFO - Params: {'subsample': 1.0, 'scale_pos_weight': 1.5, 'max_depth': 8, 'learning_rate': 0.15, 'colsample_bytree': 0.9}, Mean F1: 0.7266\n",
      "CV Search:  90%|█████████ | 180/200 [05:53<00:37,  1.88s/it]2025-06-04 10:50:09,935 - INFO - Params: {'subsample': 0.8, 'scale_pos_weight': 1.5, 'max_depth': 7, 'learning_rate': 0.2, 'colsample_bytree': 1.0}, Mean F1: 0.7228\n",
      "CV Search:  90%|█████████ | 181/200 [05:55<00:34,  1.83s/it]2025-06-04 10:50:11,675 - INFO - Params: {'subsample': 1.0, 'scale_pos_weight': 1.5, 'max_depth': 8, 'learning_rate': 0.25, 'colsample_bytree': 1.0}, Mean F1: 0.7140\n",
      "CV Search:  91%|█████████ | 182/200 [05:56<00:32,  1.80s/it]2025-06-04 10:50:13,268 - INFO - Params: {'subsample': 0.9, 'scale_pos_weight': 2.0, 'max_depth': 6, 'learning_rate': 0.2, 'colsample_bytree': 1.0}, Mean F1: 0.7309\n",
      "CV Search:  92%|█████████▏| 183/200 [05:58<00:29,  1.74s/it]2025-06-04 10:50:14,833 - INFO - Params: {'subsample': 0.9, 'scale_pos_weight': 1.5, 'max_depth': 6, 'learning_rate': 0.2, 'colsample_bytree': 0.9}, Mean F1: 0.7270\n",
      "CV Search:  92%|█████████▏| 184/200 [06:00<00:26,  1.69s/it]2025-06-04 10:50:17,112 - INFO - Params: {'subsample': 0.8, 'scale_pos_weight': 1.5, 'max_depth': 8, 'learning_rate': 0.15, 'colsample_bytree': 0.9}, Mean F1: 0.7189\n",
      "CV Search:  92%|█████████▎| 185/200 [06:02<00:27,  1.86s/it]2025-06-04 10:50:18,667 - INFO - Params: {'subsample': 0.9, 'scale_pos_weight': 2.0, 'max_depth': 6, 'learning_rate': 0.25, 'colsample_bytree': 0.9}, Mean F1: 0.7261\n",
      "CV Search:  93%|█████████▎| 186/200 [06:03<00:24,  1.77s/it]2025-06-04 10:50:21,136 - INFO - Params: {'subsample': 0.8, 'scale_pos_weight': 1.5, 'max_depth': 8, 'learning_rate': 0.1, 'colsample_bytree': 0.9}, Mean F1: 0.7225\n",
      "CV Search:  94%|█████████▎| 187/200 [06:06<00:25,  1.98s/it]2025-06-04 10:50:22,939 - INFO - Params: {'subsample': 0.8, 'scale_pos_weight': 1.5, 'max_depth': 6, 'learning_rate': 0.2, 'colsample_bytree': 0.9}, Mean F1: 0.7177\n",
      "CV Search:  94%|█████████▍| 188/200 [06:08<00:23,  1.93s/it]2025-06-04 10:50:24,965 - INFO - Params: {'subsample': 0.9, 'scale_pos_weight': 2.0, 'max_depth': 8, 'learning_rate': 0.15, 'colsample_bytree': 1.0}, Mean F1: 0.7263\n",
      "CV Search:  94%|█████████▍| 189/200 [06:10<00:21,  1.96s/it]2025-06-04 10:50:26,665 - INFO - Params: {'subsample': 0.9, 'scale_pos_weight': 1.0, 'max_depth': 8, 'learning_rate': 0.25, 'colsample_bytree': 1.0}, Mean F1: 0.7085\n",
      "CV Search:  95%|█████████▌| 190/200 [06:11<00:18,  1.88s/it]2025-06-04 10:50:28,485 - INFO - Params: {'subsample': 0.9, 'scale_pos_weight': 2.0, 'max_depth': 8, 'learning_rate': 0.2, 'colsample_bytree': 1.0}, Mean F1: 0.7235\n",
      "CV Search:  96%|█████████▌| 191/200 [06:13<00:16,  1.86s/it]2025-06-04 10:50:30,846 - INFO - Params: {'subsample': 0.8, 'scale_pos_weight': 1.5, 'max_depth': 8, 'learning_rate': 0.1, 'colsample_bytree': 1.0}, Mean F1: 0.7295\n",
      "CV Search:  96%|█████████▌| 192/200 [06:16<00:16,  2.01s/it]2025-06-04 10:50:32,825 - INFO - Params: {'subsample': 0.9, 'scale_pos_weight': 1.0, 'max_depth': 7, 'learning_rate': 0.15, 'colsample_bytree': 0.9}, Mean F1: 0.7238\n",
      "CV Search:  96%|█████████▋| 193/200 [06:18<00:14,  2.00s/it]2025-06-04 10:50:34,815 - INFO - Params: {'subsample': 0.9, 'scale_pos_weight': 1.5, 'max_depth': 8, 'learning_rate': 0.15, 'colsample_bytree': 1.0}, Mean F1: 0.7245\n",
      "CV Search:  97%|█████████▋| 194/200 [06:20<00:12,  2.00s/it]2025-06-04 10:50:36,493 - INFO - Params: {'subsample': 1.0, 'scale_pos_weight': 1.5, 'max_depth': 7, 'learning_rate': 0.25, 'colsample_bytree': 1.0}, Mean F1: 0.7224\n",
      "CV Search:  98%|█████████▊| 195/200 [06:21<00:09,  1.90s/it]2025-06-04 10:50:38,619 - INFO - Params: {'subsample': 0.9, 'scale_pos_weight': 1.0, 'max_depth': 6, 'learning_rate': 0.1, 'colsample_bytree': 0.9}, Mean F1: 0.7238\n",
      "CV Search:  98%|█████████▊| 196/200 [06:23<00:07,  1.97s/it]2025-06-04 10:50:41,151 - INFO - Params: {'subsample': 0.9, 'scale_pos_weight': 2.0, 'max_depth': 8, 'learning_rate': 0.15, 'colsample_bytree': 0.9}, Mean F1: 0.7264\n",
      "CV Search:  98%|█████████▊| 197/200 [06:26<00:06,  2.14s/it]2025-06-04 10:50:43,406 - INFO - Params: {'subsample': 1.0, 'scale_pos_weight': 1.5, 'max_depth': 7, 'learning_rate': 0.15, 'colsample_bytree': 1.0}, Mean F1: 0.7277\n",
      "CV Search:  99%|█████████▉| 198/200 [06:28<00:04,  2.17s/it]2025-06-04 10:50:46,187 - INFO - Params: {'subsample': 0.9, 'scale_pos_weight': 1.5, 'max_depth': 8, 'learning_rate': 0.1, 'colsample_bytree': 1.0}, Mean F1: 0.7346\n",
      "CV Search: 100%|█████████▉| 199/200 [06:31<00:02,  2.35s/it]2025-06-04 10:50:48,177 - INFO - Params: {'subsample': 0.9, 'scale_pos_weight': 2.0, 'max_depth': 7, 'learning_rate': 0.15, 'colsample_bytree': 1.0}, Mean F1: 0.7299\n",
      "CV Search: 100%|██████████| 200/200 [06:33<00:00,  1.97s/it]\n",
      "2025-06-04 10:50:48,185 - INFO - Best Mean F1: 0.7379 at threshold=0.55\n",
      "2025-06-04 10:50:48,193 - INFO - Best Params: {'objective': 'binary:logistic', 'eval_metric': 'logloss', 'seed': 42, 'subsample': 0.9, 'scale_pos_weight': 2.0, 'max_depth': 6, 'learning_rate': 0.1, 'colsample_bytree': 1.0}\n",
      "2025-06-04 10:50:48,193 - INFO - Best CV Fold Report:\n",
      "              precision    recall  f1-score   support\n",
      "\n",
      "           0       0.97      0.86      0.91       611\n",
      "           1       0.64      0.90      0.75       174\n",
      "\n",
      "    accuracy                           0.87       785\n",
      "   macro avg       0.80      0.88      0.83       785\n",
      "weighted avg       0.89      0.87      0.87       785\n",
      "\n",
      "2025-06-04 10:50:48,243 - INFO - Model, scaler, and threshold saved to 'models/'\n"
     ]
    }
   ],
   "source": [
    "# Set up logging\n",
    "logging.basicConfig(level=logging.INFO, format='%(asctime)s - %(levelname)s - %(message)s')\n",
    "logger = logging.getLogger(__name__)\n",
    "\n",
    "# Load datasets\n",
    "logger.info(\"Loading datasets\")\n",
    "df_atlas = pd.read_csv('../data/Atlas Cechu Student Access.csv', encoding='utf-8')\n",
    "df_payments = pd.read_csv('../data/Payments Student Access.csv', encoding='utf-8')\n",
    "df_credits = pd.read_csv('../data/User Credits Student Access.csv', encoding='utf-8')\n",
    "\n",
    "# Clean data\n",
    "logger.info(\"Cleaning data\")\n",
    "df_credits_cleaned = df_credits[df_credits['credits'] > 0]\n",
    "df_payments_cleaned = df_payments[df_payments['user'].notna()]\n",
    "\n",
    "# Process Atlas data into structured format\n",
    "logger.info(\"Transforming Atlas data\")\n",
    "grouped_cols = defaultdict(dict)\n",
    "for col in df_atlas.columns:\n",
    "    if \"-\" in col:\n",
    "        group, key = col.split('-', 1)\n",
    "        grouped_cols[group][key] = col\n",
    "    else:\n",
    "        grouped_cols[col][col] = col\n",
    "\n",
    "structured_data = []\n",
    "for _, row in df_atlas.iterrows():\n",
    "    entry = {}\n",
    "    for group, mapping in grouped_cols.items():\n",
    "        entry[group] = [key for key, col in mapping.items() if row[col] == 1]\n",
    "    structured_data.append(entry)\n",
    "\n",
    "# Encode structured features\n",
    "df_atlas_numeric_values = pd.DataFrame(structured_data).drop(columns=['user_id'])\n",
    "df_atlas_nv = pd.concat([df_atlas['user_id'], df_atlas_numeric_values], axis=1, join='inner')\n",
    "mapping_dicts = {}\n",
    "for col in df_atlas_nv.columns:\n",
    "    if col == 'user_id':\n",
    "        continue\n",
    "    unique_lists = df_atlas_nv[col].apply(lambda x: tuple(sorted(x))).unique()\n",
    "    mapping_dicts[col] = {lst: idx + 1 for idx, lst in enumerate(unique_lists)}\n",
    "    df_atlas_nv[col] = df_atlas_nv[col].apply(lambda x: mapping_dicts[col][tuple(sorted(x))])\n",
    "\n",
    "# Extract withdrawal statistics\n",
    "logger.info(\"Aggregating withdrawal stats\")\n",
    "withdrawals = df_payments[(df_payments['credits'] >= 500) & (df_payments['state'].isin(['PAID', 'APPROVED']))]\n",
    "withdrawal_stats = withdrawals.groupby('user').agg(\n",
    "    num_withdrawals=('credits', 'count'),\n",
    "    avg_withdrawal=('credits', 'mean'),\n",
    "    total_withdrawn=('credits', 'sum')\n",
    ").reset_index()\n",
    "\n",
    "# Identify currently eligible users\n",
    "logger.info(\"Building eligible user set\")\n",
    "eligible_now = df_credits[df_credits['credits'] >= 480].copy()\n",
    "eligible_now = eligible_now.merge(withdrawal_stats, on='user', how='left')\n",
    "eligible_now[['num_withdrawals', 'avg_withdrawal', 'total_withdrawn']] = eligible_now[\n",
    "    ['num_withdrawals', 'avg_withdrawal', 'total_withdrawn']\n",
    "].fillna(0)\n",
    "\n",
    "def assign_behavior(row):\n",
    "    if row['num_withdrawals'] == 0:\n",
    "        return 'new'\n",
    "    elif row['num_withdrawals'] <= 2:\n",
    "        return 'occasional'\n",
    "    else:\n",
    "        return 'regular'\n",
    "\n",
    "eligible_now['withdrawal_segment'] = eligible_now.apply(assign_behavior, axis=1)\n",
    "segment_mapping = {'new': 0, 'occasional': 1, 'regular': 2}\n",
    "eligible_now['withdrawal_segment_code'] = eligible_now['withdrawal_segment'].map(segment_mapping)\n",
    "eligible_now.drop(columns=['withdrawal_segment', 'wage'], inplace=True, errors='ignore')\n",
    "\n",
    "def likely_to_withdraw_now(row):\n",
    "    if row['num_withdrawals'] == 0:\n",
    "        return 0\n",
    "    expected_threshold = max(0.9 * row['avg_withdrawal'], 450)\n",
    "    return int(row['credits'] >= expected_threshold)\n",
    "\n",
    "eligible_now['target'] = eligible_now.apply(likely_to_withdraw_now, axis=1)\n",
    "\n",
    "# Merge Atlas features\n",
    "logger.info(\"Merging structured Atlas features\")\n",
    "df_atlas_clean_nv = df_atlas_nv.copy()\n",
    "df_atlas_clean_nv.rename(columns={'user_id': 'user'}, inplace=True)\n",
    "df_model = pd.merge(eligible_now, df_atlas_clean_nv, on='user', how='left')\n",
    "\n",
    "# Feature engineering\n",
    "X = df_model.drop(columns=[\n",
    "    'target', 'user', 'credits',\n",
    "    'num_withdrawals', 'avg_withdrawal', 'total_withdrawn', \n",
    "    'is_active', 'is_verified', 'is_locked'\n",
    "])\n",
    "y = df_model['target']\n",
    "X = X.fillna(0)\n",
    "\n",
    "# Normalize features\n",
    "logger.info(\"Scaling features\")\n",
    "scaler = StandardScaler()\n",
    "X_scaled = scaler.fit_transform(X)\n",
    "\n",
    "# Split data for validation\n",
    "X_train, X_test, y_train, y_test = train_test_split(X_scaled, y, stratify=y, test_size=0.2, random_state=42)\n",
    "dtrain = xgb.DMatrix(X_train, label=y_train)\n",
    "dvalid = xgb.DMatrix(X_test, label=y_test)\n",
    "\n",
    "# Set up cross-validation and hyperparameter tuning\n",
    "logger.info(\"Starting cross-validated hyperparameter search\")\n",
    "n_splits = 5\n",
    "cv = StratifiedKFold(n_splits=n_splits, shuffle=True, random_state=42)\n",
    "\n",
    "best_f1 = 0\n",
    "best_threshold = 0.5\n",
    "best_params = None\n",
    "best_booster = None\n",
    "best_report = \"\"\n",
    "\n",
    "param_dist = {\n",
    "    'learning_rate': [0.1, 0.15, 0.2, 0.25],\n",
    "    'max_depth': [6, 7, 8],\n",
    "    'subsample': [0.8, 0.9, 1.0],\n",
    "    'colsample_bytree': [0.9, 1.0],\n",
    "    'scale_pos_weight': [1.0, 1.5, 2.0],\n",
    "}\n",
    "param_list = list(ParameterSampler(param_dist, n_iter=200, random_state=42))\n",
    "\n",
    "def f1_eval(preds, dtrain):\n",
    "    labels = dtrain.get_label()\n",
    "    preds_binary = (preds > 0.5).astype(int)\n",
    "    return 'f1', f1_score(labels, preds_binary)\n",
    "\n",
    "# Run training loop with cross-validation\n",
    "for params in tqdm(param_list, desc=\"CV Search\"):\n",
    "    full_params = {\n",
    "        'objective': 'binary:logistic',\n",
    "        'eval_metric': 'logloss',\n",
    "        'seed': 42,\n",
    "        **params\n",
    "    }\n",
    "    cv_f1_scores = []\n",
    "\n",
    "    for train_idx, valid_idx in cv.split(X_scaled, y):\n",
    "        X_train_cv, X_valid_cv = X_scaled[train_idx], X_scaled[valid_idx]\n",
    "        y_train_cv, y_valid_cv = y.iloc[train_idx], y.iloc[valid_idx]\n",
    "\n",
    "        dtrain_cv = xgb.DMatrix(X_train_cv, label=y_train_cv)\n",
    "        dvalid_cv = xgb.DMatrix(X_valid_cv, label=y_valid_cv)\n",
    "\n",
    "        booster = xgb.train(\n",
    "            full_params,\n",
    "            dtrain_cv,\n",
    "            num_boost_round=200,\n",
    "            evals=[(dvalid_cv, 'eval')],\n",
    "            early_stopping_rounds=10,\n",
    "            verbose_eval=False\n",
    "        )\n",
    "\n",
    "        y_proba = booster.predict(dvalid_cv)\n",
    "\n",
    "        # Threshold tuning\n",
    "        best_f1_cv = 0\n",
    "        for thresh in np.linspace(0.3, 0.55, 30):\n",
    "            y_pred_cv = (y_proba > thresh).astype(int)\n",
    "            f1_cv = f1_score(y_valid_cv, y_pred_cv)\n",
    "            best_f1_cv = max(best_f1_cv, f1_cv)\n",
    "\n",
    "        cv_f1_scores.append(best_f1_cv)\n",
    "\n",
    "    mean_f1 = np.mean(cv_f1_scores)\n",
    "    logger.info(f\"Params: {params}, Mean F1: {mean_f1:.4f}\")\n",
    "\n",
    "    if mean_f1 > best_f1:\n",
    "        best_f1 = mean_f1\n",
    "        best_params = full_params\n",
    "        best_booster = booster\n",
    "        best_threshold = thresh\n",
    "        y_final_pred = (y_proba > best_threshold).astype(int)\n",
    "        best_report = classification_report(y_valid_cv, y_final_pred, output_dict=False)\n",
    "\n",
    "logger.info(f\"Best Mean F1: {best_f1:.4f} at threshold={best_threshold:.2f}\")\n",
    "logger.info(f\"Best Params: {best_params}\")\n",
    "logger.info(f\"Best CV Fold Report:\\n{best_report}\")\n",
    "\n",
    "os.makedirs(\"models\", exist_ok=True)\n",
    "\n",
    "model_path = \"models/best_xgb_model.json\"\n",
    "best_booster.save_model(model_path)\n",
    "\n",
    "joblib.dump(scaler, \"models/standard_scaler.pkl\")\n",
    "joblib.dump(best_threshold, \"models/best_threshold.pkl\")\n",
    "joblib.dump(X.columns.tolist(), \"models/feature_names.pkl\")\n",
    "\n",
    "logger.info(f\"Model, scaler, and threshold saved to 'models/'\")"
   ]
  },
  {
   "cell_type": "code",
   "execution_count": 5,
   "id": "20e13b6f",
   "metadata": {},
   "outputs": [
    {
     "name": "stdout",
     "output_type": "stream",
     "text": [
      "👥 Estimated number of users who will cash out: 998\n",
      "\n",
      "💰 Estimated reserve needed for upcoming withdrawals: 1,131,599 CZK\n"
     ]
    }
   ],
   "source": [
    "# Prepare prediction input (must match training features)\n",
    "X_pred = df_model.drop(columns=[\n",
    "    'target', 'user', 'credits',\n",
    "    'num_withdrawals', 'avg_withdrawal', 'total_withdrawn',\n",
    "    'is_active', 'is_verified', 'is_locked'\n",
    "], errors='ignore')\n",
    "\n",
    "X_pred = X_pred.fillna(0)\n",
    "\n",
    "# Ensure same scaling and order\n",
    "X_pred_scaled = scaler.transform(X_pred)\n",
    "dpred = xgb.DMatrix(X_pred_scaled)\n",
    "\n",
    "# Predict using best booster and threshold\n",
    "y_pred_proba_final = best_booster.predict(dpred)\n",
    "df_model['prediction'] = (y_pred_proba_final > best_threshold).astype(int)\n",
    "\n",
    "# Estimate total withdrawal amount\n",
    "predicted_cashouts = df_model[df_model['prediction'] == 1]\n",
    "total_predicted_credits = predicted_cashouts['credits'].sum()\n",
    "\n",
    "# Count users predicted to withdraw\n",
    "num_predicted_users = df_model['prediction'].sum()\n",
    "print(f\"👥 Estimated number of users who will cash out: {num_predicted_users}\")\n",
    "\n",
    "print(f\"\\n💰 Estimated reserve needed for upcoming withdrawals: {total_predicted_credits:,.0f} CZK\")"
   ]
  },
  {
   "cell_type": "code",
   "execution_count": 4,
   "id": "7578594b",
   "metadata": {},
   "outputs": [
    {
     "data": {
      "application/vnd.plotly.v1+json": {
       "config": {
        "plotlyServerURL": "https://plot.ly"
       },
       "data": [
        {
         "alignmentgroup": "True",
         "hovertemplate": "Month=%{x}<br>Withdrawn Credits (CZK)=%{y}<br>year=%{marker.color}<extra></extra>",
         "legendgroup": "",
         "marker": {
          "color": {
           "bdata": "4QcAAOEHAADhBwAA4QcAAOEHAADiBwAA4gcAAOIHAADiBwAA4gcAAOIHAADiBwAA4gcAAOIHAADiBwAA4gcAAOIHAADjBwAA4wcAAOMHAADjBwAA4wcAAOMHAADjBwAA4wcAAOMHAADjBwAA4wcAAOMHAADkBwAA5AcAAOQHAADkBwAA5AcAAOQHAADkBwAA5AcAAOQHAADkBwAA5AcAAOQHAADlBwAA5QcAAOUHAADlBwAA5QcAAOUHAADlBwAA5QcAAOUHAADlBwAA5QcAAOUHAADmBwAA5gcAAOYHAADmBwAA5gcAAOYHAADmBwAA5gcAAOYHAADmBwAA5gcAAOYHAADnBwAA5wcAAOcHAADnBwAA5wcAAOcHAADnBwAA5wcAAOcHAADnBwAA5wcAAOcHAADoBwAA6AcAAOgHAADoBwAA6AcAAOgHAADoBwAA6AcAAOgHAADoBwAA6AcAAOgHAADpBwAA6QcAAOkHAADpBwAA",
           "dtype": "i4"
          },
          "coloraxis": "coloraxis",
          "pattern": {
           "shape": ""
          }
         },
         "name": "",
         "offsetgroup": "",
         "orientation": "v",
         "showlegend": false,
         "textposition": "auto",
         "type": "bar",
         "x": {
          "bdata": "CAAAAAkAAAAKAAAACwAAAAwAAAABAAAAAgAAAAMAAAAEAAAABQAAAAYAAAAHAAAACAAAAAkAAAAKAAAACwAAAAwAAAABAAAAAgAAAAMAAAAEAAAABQAAAAYAAAAHAAAACAAAAAkAAAAKAAAACwAAAAwAAAABAAAAAgAAAAMAAAAEAAAABQAAAAYAAAAHAAAACAAAAAkAAAAKAAAACwAAAAwAAAABAAAAAgAAAAMAAAAEAAAABQAAAAYAAAAHAAAACAAAAAkAAAAKAAAACwAAAAwAAAABAAAAAgAAAAMAAAAEAAAABQAAAAYAAAAHAAAACAAAAAkAAAAKAAAACwAAAAwAAAABAAAAAgAAAAMAAAAEAAAABQAAAAYAAAAHAAAACAAAAAkAAAAKAAAACwAAAAwAAAABAAAAAgAAAAMAAAAEAAAABQAAAAYAAAAHAAAACAAAAAkAAAAKAAAACwAAAAwAAAABAAAAAgAAAAMAAAAEAAAA",
          "dtype": "i4"
         },
         "xaxis": "x",
         "y": {
          "bdata": "AAAAAAA+wEAAAAAAACiBQAAAAAAAJK1AAAAAAID9zkAAAAAAAPe6QAAAAAAAWIVAAAAAAIAEx0AAAAAAgL/VQAAAAAAAFcNAAAAAAICv00AAAAAA4LLjQAAAAACA4tJAAAAAAMD73EAAAAAAYEjoQAAAAADgWeRAAAAAAIDA4EAAAAAAQObUQAAAAAAAcPhAAAAAABD39kAAAAAAgA8CQQAAAABg2PlAAAAAAFDd/UAAAAAAkJXxQAAAAAAwtPBAAAAAAMCX/kAAAAAAgMrtQAAAAAAwSPFAAAAAAGh1BEEAAAAAYBX9QAAAAAAgsfpAAAAAAJD1/0AAAAAA8L/0QAAAAABAdvVAAAAAAHBLAEEAAAAAwDEBQQAAAADAXQFBAAAAAICJ+0AAAAAAYNkIQQAAAABwegRBAAAAAIDoC0EAAAAAsPIBQQAAAABAnvhAAAAAAJDr9UAAAAAAYMf7QAAAAAC4CAFBAAAAADBt/EAAAAAAgDH9QAAAAABQKgFBAAAAAKiKDEEAAAAAUD4DQQAAAACAMABBAAAAAIj2CkEAAAAAOP8HQQAAAADwL/pAAAAAAJChAUEAAAAAbCgXQQAAAACAXfZAAAAAABjwA0EAAAAAADoHQQAAAAAwH/tAAAAAACD8AkEAAAAAmBIHQQAAAABECxBBAAAAAMTLE0EAAAAANIMQQQAAAAAo7RFBAAAAAOD+BEEAAAAAaMINQQAAAACInAhBAAAAAGBIC0EAAAAAkHcPQQAAAABI2gtBAAAAAABtDUEAAAAACNsQQQAAAABwrRJBAAAAAJzPFEEAAAAAlCAWQQAAAAB8OhZBAAAAAIDWFEEAAAAAPLEXQQAAAACkeRRBAAAAAEgWFkEAAAAAuEUWQQAAAABwzhZBAAAAANAvHkEAAAAAXAsdQQAAAADCOiNBAAAAANyqJkEAAAAAwGgjQQAAAADOVyZBAAAAAMq1I0EAAAAA0jApQQAAAACwN/NA",
          "dtype": "f8"
         },
         "yaxis": "y"
        }
       ],
       "layout": {
        "barmode": "group",
        "coloraxis": {
         "colorbar": {
          "title": {
           "text": "year"
          }
         },
         "colorscale": [
          [
           0,
           "#0d0887"
          ],
          [
           0.1111111111111111,
           "#46039f"
          ],
          [
           0.2222222222222222,
           "#7201a8"
          ],
          [
           0.3333333333333333,
           "#9c179e"
          ],
          [
           0.4444444444444444,
           "#bd3786"
          ],
          [
           0.5555555555555556,
           "#d8576b"
          ],
          [
           0.6666666666666666,
           "#ed7953"
          ],
          [
           0.7777777777777778,
           "#fb9f3a"
          ],
          [
           0.8888888888888888,
           "#fdca26"
          ],
          [
           1,
           "#f0f921"
          ]
         ]
        },
        "legend": {
         "tracegroupgap": 0
        },
        "template": {
         "data": {
          "bar": [
           {
            "error_x": {
             "color": "#2a3f5f"
            },
            "error_y": {
             "color": "#2a3f5f"
            },
            "marker": {
             "line": {
              "color": "#E5ECF6",
              "width": 0.5
             },
             "pattern": {
              "fillmode": "overlay",
              "size": 10,
              "solidity": 0.2
             }
            },
            "type": "bar"
           }
          ],
          "barpolar": [
           {
            "marker": {
             "line": {
              "color": "#E5ECF6",
              "width": 0.5
             },
             "pattern": {
              "fillmode": "overlay",
              "size": 10,
              "solidity": 0.2
             }
            },
            "type": "barpolar"
           }
          ],
          "carpet": [
           {
            "aaxis": {
             "endlinecolor": "#2a3f5f",
             "gridcolor": "white",
             "linecolor": "white",
             "minorgridcolor": "white",
             "startlinecolor": "#2a3f5f"
            },
            "baxis": {
             "endlinecolor": "#2a3f5f",
             "gridcolor": "white",
             "linecolor": "white",
             "minorgridcolor": "white",
             "startlinecolor": "#2a3f5f"
            },
            "type": "carpet"
           }
          ],
          "choropleth": [
           {
            "colorbar": {
             "outlinewidth": 0,
             "ticks": ""
            },
            "type": "choropleth"
           }
          ],
          "contour": [
           {
            "colorbar": {
             "outlinewidth": 0,
             "ticks": ""
            },
            "colorscale": [
             [
              0,
              "#0d0887"
             ],
             [
              0.1111111111111111,
              "#46039f"
             ],
             [
              0.2222222222222222,
              "#7201a8"
             ],
             [
              0.3333333333333333,
              "#9c179e"
             ],
             [
              0.4444444444444444,
              "#bd3786"
             ],
             [
              0.5555555555555556,
              "#d8576b"
             ],
             [
              0.6666666666666666,
              "#ed7953"
             ],
             [
              0.7777777777777778,
              "#fb9f3a"
             ],
             [
              0.8888888888888888,
              "#fdca26"
             ],
             [
              1,
              "#f0f921"
             ]
            ],
            "type": "contour"
           }
          ],
          "contourcarpet": [
           {
            "colorbar": {
             "outlinewidth": 0,
             "ticks": ""
            },
            "type": "contourcarpet"
           }
          ],
          "heatmap": [
           {
            "colorbar": {
             "outlinewidth": 0,
             "ticks": ""
            },
            "colorscale": [
             [
              0,
              "#0d0887"
             ],
             [
              0.1111111111111111,
              "#46039f"
             ],
             [
              0.2222222222222222,
              "#7201a8"
             ],
             [
              0.3333333333333333,
              "#9c179e"
             ],
             [
              0.4444444444444444,
              "#bd3786"
             ],
             [
              0.5555555555555556,
              "#d8576b"
             ],
             [
              0.6666666666666666,
              "#ed7953"
             ],
             [
              0.7777777777777778,
              "#fb9f3a"
             ],
             [
              0.8888888888888888,
              "#fdca26"
             ],
             [
              1,
              "#f0f921"
             ]
            ],
            "type": "heatmap"
           }
          ],
          "histogram": [
           {
            "marker": {
             "pattern": {
              "fillmode": "overlay",
              "size": 10,
              "solidity": 0.2
             }
            },
            "type": "histogram"
           }
          ],
          "histogram2d": [
           {
            "colorbar": {
             "outlinewidth": 0,
             "ticks": ""
            },
            "colorscale": [
             [
              0,
              "#0d0887"
             ],
             [
              0.1111111111111111,
              "#46039f"
             ],
             [
              0.2222222222222222,
              "#7201a8"
             ],
             [
              0.3333333333333333,
              "#9c179e"
             ],
             [
              0.4444444444444444,
              "#bd3786"
             ],
             [
              0.5555555555555556,
              "#d8576b"
             ],
             [
              0.6666666666666666,
              "#ed7953"
             ],
             [
              0.7777777777777778,
              "#fb9f3a"
             ],
             [
              0.8888888888888888,
              "#fdca26"
             ],
             [
              1,
              "#f0f921"
             ]
            ],
            "type": "histogram2d"
           }
          ],
          "histogram2dcontour": [
           {
            "colorbar": {
             "outlinewidth": 0,
             "ticks": ""
            },
            "colorscale": [
             [
              0,
              "#0d0887"
             ],
             [
              0.1111111111111111,
              "#46039f"
             ],
             [
              0.2222222222222222,
              "#7201a8"
             ],
             [
              0.3333333333333333,
              "#9c179e"
             ],
             [
              0.4444444444444444,
              "#bd3786"
             ],
             [
              0.5555555555555556,
              "#d8576b"
             ],
             [
              0.6666666666666666,
              "#ed7953"
             ],
             [
              0.7777777777777778,
              "#fb9f3a"
             ],
             [
              0.8888888888888888,
              "#fdca26"
             ],
             [
              1,
              "#f0f921"
             ]
            ],
            "type": "histogram2dcontour"
           }
          ],
          "mesh3d": [
           {
            "colorbar": {
             "outlinewidth": 0,
             "ticks": ""
            },
            "type": "mesh3d"
           }
          ],
          "parcoords": [
           {
            "line": {
             "colorbar": {
              "outlinewidth": 0,
              "ticks": ""
             }
            },
            "type": "parcoords"
           }
          ],
          "pie": [
           {
            "automargin": true,
            "type": "pie"
           }
          ],
          "scatter": [
           {
            "fillpattern": {
             "fillmode": "overlay",
             "size": 10,
             "solidity": 0.2
            },
            "type": "scatter"
           }
          ],
          "scatter3d": [
           {
            "line": {
             "colorbar": {
              "outlinewidth": 0,
              "ticks": ""
             }
            },
            "marker": {
             "colorbar": {
              "outlinewidth": 0,
              "ticks": ""
             }
            },
            "type": "scatter3d"
           }
          ],
          "scattercarpet": [
           {
            "marker": {
             "colorbar": {
              "outlinewidth": 0,
              "ticks": ""
             }
            },
            "type": "scattercarpet"
           }
          ],
          "scattergeo": [
           {
            "marker": {
             "colorbar": {
              "outlinewidth": 0,
              "ticks": ""
             }
            },
            "type": "scattergeo"
           }
          ],
          "scattergl": [
           {
            "marker": {
             "colorbar": {
              "outlinewidth": 0,
              "ticks": ""
             }
            },
            "type": "scattergl"
           }
          ],
          "scattermap": [
           {
            "marker": {
             "colorbar": {
              "outlinewidth": 0,
              "ticks": ""
             }
            },
            "type": "scattermap"
           }
          ],
          "scattermapbox": [
           {
            "marker": {
             "colorbar": {
              "outlinewidth": 0,
              "ticks": ""
             }
            },
            "type": "scattermapbox"
           }
          ],
          "scatterpolar": [
           {
            "marker": {
             "colorbar": {
              "outlinewidth": 0,
              "ticks": ""
             }
            },
            "type": "scatterpolar"
           }
          ],
          "scatterpolargl": [
           {
            "marker": {
             "colorbar": {
              "outlinewidth": 0,
              "ticks": ""
             }
            },
            "type": "scatterpolargl"
           }
          ],
          "scatterternary": [
           {
            "marker": {
             "colorbar": {
              "outlinewidth": 0,
              "ticks": ""
             }
            },
            "type": "scatterternary"
           }
          ],
          "surface": [
           {
            "colorbar": {
             "outlinewidth": 0,
             "ticks": ""
            },
            "colorscale": [
             [
              0,
              "#0d0887"
             ],
             [
              0.1111111111111111,
              "#46039f"
             ],
             [
              0.2222222222222222,
              "#7201a8"
             ],
             [
              0.3333333333333333,
              "#9c179e"
             ],
             [
              0.4444444444444444,
              "#bd3786"
             ],
             [
              0.5555555555555556,
              "#d8576b"
             ],
             [
              0.6666666666666666,
              "#ed7953"
             ],
             [
              0.7777777777777778,
              "#fb9f3a"
             ],
             [
              0.8888888888888888,
              "#fdca26"
             ],
             [
              1,
              "#f0f921"
             ]
            ],
            "type": "surface"
           }
          ],
          "table": [
           {
            "cells": {
             "fill": {
              "color": "#EBF0F8"
             },
             "line": {
              "color": "white"
             }
            },
            "header": {
             "fill": {
              "color": "#C8D4E3"
             },
             "line": {
              "color": "white"
             }
            },
            "type": "table"
           }
          ]
         },
         "layout": {
          "annotationdefaults": {
           "arrowcolor": "#2a3f5f",
           "arrowhead": 0,
           "arrowwidth": 1
          },
          "autotypenumbers": "strict",
          "coloraxis": {
           "colorbar": {
            "outlinewidth": 0,
            "ticks": ""
           }
          },
          "colorscale": {
           "diverging": [
            [
             0,
             "#8e0152"
            ],
            [
             0.1,
             "#c51b7d"
            ],
            [
             0.2,
             "#de77ae"
            ],
            [
             0.3,
             "#f1b6da"
            ],
            [
             0.4,
             "#fde0ef"
            ],
            [
             0.5,
             "#f7f7f7"
            ],
            [
             0.6,
             "#e6f5d0"
            ],
            [
             0.7,
             "#b8e186"
            ],
            [
             0.8,
             "#7fbc41"
            ],
            [
             0.9,
             "#4d9221"
            ],
            [
             1,
             "#276419"
            ]
           ],
           "sequential": [
            [
             0,
             "#0d0887"
            ],
            [
             0.1111111111111111,
             "#46039f"
            ],
            [
             0.2222222222222222,
             "#7201a8"
            ],
            [
             0.3333333333333333,
             "#9c179e"
            ],
            [
             0.4444444444444444,
             "#bd3786"
            ],
            [
             0.5555555555555556,
             "#d8576b"
            ],
            [
             0.6666666666666666,
             "#ed7953"
            ],
            [
             0.7777777777777778,
             "#fb9f3a"
            ],
            [
             0.8888888888888888,
             "#fdca26"
            ],
            [
             1,
             "#f0f921"
            ]
           ],
           "sequentialminus": [
            [
             0,
             "#0d0887"
            ],
            [
             0.1111111111111111,
             "#46039f"
            ],
            [
             0.2222222222222222,
             "#7201a8"
            ],
            [
             0.3333333333333333,
             "#9c179e"
            ],
            [
             0.4444444444444444,
             "#bd3786"
            ],
            [
             0.5555555555555556,
             "#d8576b"
            ],
            [
             0.6666666666666666,
             "#ed7953"
            ],
            [
             0.7777777777777778,
             "#fb9f3a"
            ],
            [
             0.8888888888888888,
             "#fdca26"
            ],
            [
             1,
             "#f0f921"
            ]
           ]
          },
          "colorway": [
           "#636efa",
           "#EF553B",
           "#00cc96",
           "#ab63fa",
           "#FFA15A",
           "#19d3f3",
           "#FF6692",
           "#B6E880",
           "#FF97FF",
           "#FECB52"
          ],
          "font": {
           "color": "#2a3f5f"
          },
          "geo": {
           "bgcolor": "white",
           "lakecolor": "white",
           "landcolor": "#E5ECF6",
           "showlakes": true,
           "showland": true,
           "subunitcolor": "white"
          },
          "hoverlabel": {
           "align": "left"
          },
          "hovermode": "closest",
          "mapbox": {
           "style": "light"
          },
          "paper_bgcolor": "white",
          "plot_bgcolor": "#E5ECF6",
          "polar": {
           "angularaxis": {
            "gridcolor": "white",
            "linecolor": "white",
            "ticks": ""
           },
           "bgcolor": "#E5ECF6",
           "radialaxis": {
            "gridcolor": "white",
            "linecolor": "white",
            "ticks": ""
           }
          },
          "scene": {
           "xaxis": {
            "backgroundcolor": "#E5ECF6",
            "gridcolor": "white",
            "gridwidth": 2,
            "linecolor": "white",
            "showbackground": true,
            "ticks": "",
            "zerolinecolor": "white"
           },
           "yaxis": {
            "backgroundcolor": "#E5ECF6",
            "gridcolor": "white",
            "gridwidth": 2,
            "linecolor": "white",
            "showbackground": true,
            "ticks": "",
            "zerolinecolor": "white"
           },
           "zaxis": {
            "backgroundcolor": "#E5ECF6",
            "gridcolor": "white",
            "gridwidth": 2,
            "linecolor": "white",
            "showbackground": true,
            "ticks": "",
            "zerolinecolor": "white"
           }
          },
          "shapedefaults": {
           "line": {
            "color": "#2a3f5f"
           }
          },
          "ternary": {
           "aaxis": {
            "gridcolor": "white",
            "linecolor": "white",
            "ticks": ""
           },
           "baxis": {
            "gridcolor": "white",
            "linecolor": "white",
            "ticks": ""
           },
           "bgcolor": "#E5ECF6",
           "caxis": {
            "gridcolor": "white",
            "linecolor": "white",
            "ticks": ""
           }
          },
          "title": {
           "x": 0.05
          },
          "xaxis": {
           "automargin": true,
           "gridcolor": "white",
           "linecolor": "white",
           "ticks": "",
           "title": {
            "standoff": 15
           },
           "zerolinecolor": "white",
           "zerolinewidth": 2
          },
          "yaxis": {
           "automargin": true,
           "gridcolor": "white",
           "linecolor": "white",
           "ticks": "",
           "title": {
            "standoff": 15
           },
           "zerolinecolor": "white",
           "zerolinewidth": 2
          }
         }
        },
        "title": {
         "text": "Total Withdrawals per Month by Year"
        },
        "xaxis": {
         "anchor": "y",
         "domain": [
          0,
          1
         ],
         "title": {
          "text": "Month"
         }
        },
        "yaxis": {
         "anchor": "x",
         "domain": [
          0,
          1
         ],
         "title": {
          "text": "Withdrawn Credits (CZK)"
         }
        }
       }
      }
     },
     "metadata": {},
     "output_type": "display_data"
    },
    {
     "data": {
      "application/vnd.plotly.v1+json": {
       "config": {
        "plotlyServerURL": "https://plot.ly"
       },
       "data": [
        {
         "cells": {
          "values": [
           [
            2017,
            2017,
            2017,
            2017,
            2017,
            2018,
            2018,
            2018,
            2018,
            2018,
            2018,
            2018,
            2018,
            2018,
            2018,
            2018,
            2018,
            2019,
            2019,
            2019,
            2019,
            2019,
            2019,
            2019,
            2019,
            2019,
            2019,
            2019,
            2019,
            2020,
            2020,
            2020,
            2020,
            2020,
            2020,
            2020,
            2020,
            2020,
            2020,
            2020,
            2020,
            2021,
            2021,
            2021,
            2021,
            2021,
            2021,
            2021,
            2021,
            2021,
            2021,
            2021,
            2021,
            2022,
            2022,
            2022,
            2022,
            2022,
            2022,
            2022,
            2022,
            2022,
            2022,
            2022,
            2022,
            2023,
            2023,
            2023,
            2023,
            2023,
            2023,
            2023,
            2023,
            2023,
            2023,
            2023,
            2023,
            2024,
            2024,
            2024,
            2024,
            2024,
            2024,
            2024,
            2024,
            2024,
            2024,
            2024,
            2024,
            2025,
            2025,
            2025,
            2025
           ],
           [
            8,
            9,
            10,
            11,
            12,
            1,
            2,
            3,
            4,
            5,
            6,
            7,
            8,
            9,
            10,
            11,
            12,
            1,
            2,
            3,
            4,
            5,
            6,
            7,
            8,
            9,
            10,
            11,
            12,
            1,
            2,
            3,
            4,
            5,
            6,
            7,
            8,
            9,
            10,
            11,
            12,
            1,
            2,
            3,
            4,
            5,
            6,
            7,
            8,
            9,
            10,
            11,
            12,
            1,
            2,
            3,
            4,
            5,
            6,
            7,
            8,
            9,
            10,
            11,
            12,
            1,
            2,
            3,
            4,
            5,
            6,
            7,
            8,
            9,
            10,
            11,
            12,
            1,
            2,
            3,
            4,
            5,
            6,
            7,
            8,
            9,
            10,
            11,
            12,
            1,
            2,
            3,
            4
           ],
           [
            8316,
            549,
            3730,
            15867,
            6903,
            683,
            11785,
            22270,
            9770,
            20158,
            40343,
            19338,
            29679,
            49731,
            41679,
            34308,
            21401,
            100096,
            94065,
            147952,
            105862,
            122325,
            72025,
            68419,
            125308,
            61012,
            70787,
            167597,
            119126,
            109330,
            130905,
            84991,
            87908,
            133486,
            140856,
            142264,
            112792,
            203564,
            167758,
            228624,
            147030,
            100836,
            89785,
            113782,
            139543,
            116435,
            119576,
            140618,
            233813,
            157642,
            132624,
            220881,
            196583,
            107263,
            144434,
            379419,
            91608,
            163331,
            190272,
            111091,
            155524,
            189011,
            262865,
            324337,
            270541,
            293706,
            171996,
            243789,
            201617,
            223500,
            257778,
            228169,
            241056,
            276162,
            306012,
            340967,
            362533,
            364191,
            341408,
            388175,
            335465,
            361874,
            364910,
            373660,
            494580,
            475863,
            630113,
            742766,
            636000,
            732135,
            645861,
            825449,
            78715
           ]
          ]
         },
         "header": {
          "values": [
           "Year",
           "Month",
           "Withdrawn Credits"
          ]
         },
         "type": "table"
        }
       ],
       "layout": {
        "template": {
         "data": {
          "bar": [
           {
            "error_x": {
             "color": "#2a3f5f"
            },
            "error_y": {
             "color": "#2a3f5f"
            },
            "marker": {
             "line": {
              "color": "#E5ECF6",
              "width": 0.5
             },
             "pattern": {
              "fillmode": "overlay",
              "size": 10,
              "solidity": 0.2
             }
            },
            "type": "bar"
           }
          ],
          "barpolar": [
           {
            "marker": {
             "line": {
              "color": "#E5ECF6",
              "width": 0.5
             },
             "pattern": {
              "fillmode": "overlay",
              "size": 10,
              "solidity": 0.2
             }
            },
            "type": "barpolar"
           }
          ],
          "carpet": [
           {
            "aaxis": {
             "endlinecolor": "#2a3f5f",
             "gridcolor": "white",
             "linecolor": "white",
             "minorgridcolor": "white",
             "startlinecolor": "#2a3f5f"
            },
            "baxis": {
             "endlinecolor": "#2a3f5f",
             "gridcolor": "white",
             "linecolor": "white",
             "minorgridcolor": "white",
             "startlinecolor": "#2a3f5f"
            },
            "type": "carpet"
           }
          ],
          "choropleth": [
           {
            "colorbar": {
             "outlinewidth": 0,
             "ticks": ""
            },
            "type": "choropleth"
           }
          ],
          "contour": [
           {
            "colorbar": {
             "outlinewidth": 0,
             "ticks": ""
            },
            "colorscale": [
             [
              0,
              "#0d0887"
             ],
             [
              0.1111111111111111,
              "#46039f"
             ],
             [
              0.2222222222222222,
              "#7201a8"
             ],
             [
              0.3333333333333333,
              "#9c179e"
             ],
             [
              0.4444444444444444,
              "#bd3786"
             ],
             [
              0.5555555555555556,
              "#d8576b"
             ],
             [
              0.6666666666666666,
              "#ed7953"
             ],
             [
              0.7777777777777778,
              "#fb9f3a"
             ],
             [
              0.8888888888888888,
              "#fdca26"
             ],
             [
              1,
              "#f0f921"
             ]
            ],
            "type": "contour"
           }
          ],
          "contourcarpet": [
           {
            "colorbar": {
             "outlinewidth": 0,
             "ticks": ""
            },
            "type": "contourcarpet"
           }
          ],
          "heatmap": [
           {
            "colorbar": {
             "outlinewidth": 0,
             "ticks": ""
            },
            "colorscale": [
             [
              0,
              "#0d0887"
             ],
             [
              0.1111111111111111,
              "#46039f"
             ],
             [
              0.2222222222222222,
              "#7201a8"
             ],
             [
              0.3333333333333333,
              "#9c179e"
             ],
             [
              0.4444444444444444,
              "#bd3786"
             ],
             [
              0.5555555555555556,
              "#d8576b"
             ],
             [
              0.6666666666666666,
              "#ed7953"
             ],
             [
              0.7777777777777778,
              "#fb9f3a"
             ],
             [
              0.8888888888888888,
              "#fdca26"
             ],
             [
              1,
              "#f0f921"
             ]
            ],
            "type": "heatmap"
           }
          ],
          "histogram": [
           {
            "marker": {
             "pattern": {
              "fillmode": "overlay",
              "size": 10,
              "solidity": 0.2
             }
            },
            "type": "histogram"
           }
          ],
          "histogram2d": [
           {
            "colorbar": {
             "outlinewidth": 0,
             "ticks": ""
            },
            "colorscale": [
             [
              0,
              "#0d0887"
             ],
             [
              0.1111111111111111,
              "#46039f"
             ],
             [
              0.2222222222222222,
              "#7201a8"
             ],
             [
              0.3333333333333333,
              "#9c179e"
             ],
             [
              0.4444444444444444,
              "#bd3786"
             ],
             [
              0.5555555555555556,
              "#d8576b"
             ],
             [
              0.6666666666666666,
              "#ed7953"
             ],
             [
              0.7777777777777778,
              "#fb9f3a"
             ],
             [
              0.8888888888888888,
              "#fdca26"
             ],
             [
              1,
              "#f0f921"
             ]
            ],
            "type": "histogram2d"
           }
          ],
          "histogram2dcontour": [
           {
            "colorbar": {
             "outlinewidth": 0,
             "ticks": ""
            },
            "colorscale": [
             [
              0,
              "#0d0887"
             ],
             [
              0.1111111111111111,
              "#46039f"
             ],
             [
              0.2222222222222222,
              "#7201a8"
             ],
             [
              0.3333333333333333,
              "#9c179e"
             ],
             [
              0.4444444444444444,
              "#bd3786"
             ],
             [
              0.5555555555555556,
              "#d8576b"
             ],
             [
              0.6666666666666666,
              "#ed7953"
             ],
             [
              0.7777777777777778,
              "#fb9f3a"
             ],
             [
              0.8888888888888888,
              "#fdca26"
             ],
             [
              1,
              "#f0f921"
             ]
            ],
            "type": "histogram2dcontour"
           }
          ],
          "mesh3d": [
           {
            "colorbar": {
             "outlinewidth": 0,
             "ticks": ""
            },
            "type": "mesh3d"
           }
          ],
          "parcoords": [
           {
            "line": {
             "colorbar": {
              "outlinewidth": 0,
              "ticks": ""
             }
            },
            "type": "parcoords"
           }
          ],
          "pie": [
           {
            "automargin": true,
            "type": "pie"
           }
          ],
          "scatter": [
           {
            "fillpattern": {
             "fillmode": "overlay",
             "size": 10,
             "solidity": 0.2
            },
            "type": "scatter"
           }
          ],
          "scatter3d": [
           {
            "line": {
             "colorbar": {
              "outlinewidth": 0,
              "ticks": ""
             }
            },
            "marker": {
             "colorbar": {
              "outlinewidth": 0,
              "ticks": ""
             }
            },
            "type": "scatter3d"
           }
          ],
          "scattercarpet": [
           {
            "marker": {
             "colorbar": {
              "outlinewidth": 0,
              "ticks": ""
             }
            },
            "type": "scattercarpet"
           }
          ],
          "scattergeo": [
           {
            "marker": {
             "colorbar": {
              "outlinewidth": 0,
              "ticks": ""
             }
            },
            "type": "scattergeo"
           }
          ],
          "scattergl": [
           {
            "marker": {
             "colorbar": {
              "outlinewidth": 0,
              "ticks": ""
             }
            },
            "type": "scattergl"
           }
          ],
          "scattermap": [
           {
            "marker": {
             "colorbar": {
              "outlinewidth": 0,
              "ticks": ""
             }
            },
            "type": "scattermap"
           }
          ],
          "scattermapbox": [
           {
            "marker": {
             "colorbar": {
              "outlinewidth": 0,
              "ticks": ""
             }
            },
            "type": "scattermapbox"
           }
          ],
          "scatterpolar": [
           {
            "marker": {
             "colorbar": {
              "outlinewidth": 0,
              "ticks": ""
             }
            },
            "type": "scatterpolar"
           }
          ],
          "scatterpolargl": [
           {
            "marker": {
             "colorbar": {
              "outlinewidth": 0,
              "ticks": ""
             }
            },
            "type": "scatterpolargl"
           }
          ],
          "scatterternary": [
           {
            "marker": {
             "colorbar": {
              "outlinewidth": 0,
              "ticks": ""
             }
            },
            "type": "scatterternary"
           }
          ],
          "surface": [
           {
            "colorbar": {
             "outlinewidth": 0,
             "ticks": ""
            },
            "colorscale": [
             [
              0,
              "#0d0887"
             ],
             [
              0.1111111111111111,
              "#46039f"
             ],
             [
              0.2222222222222222,
              "#7201a8"
             ],
             [
              0.3333333333333333,
              "#9c179e"
             ],
             [
              0.4444444444444444,
              "#bd3786"
             ],
             [
              0.5555555555555556,
              "#d8576b"
             ],
             [
              0.6666666666666666,
              "#ed7953"
             ],
             [
              0.7777777777777778,
              "#fb9f3a"
             ],
             [
              0.8888888888888888,
              "#fdca26"
             ],
             [
              1,
              "#f0f921"
             ]
            ],
            "type": "surface"
           }
          ],
          "table": [
           {
            "cells": {
             "fill": {
              "color": "#EBF0F8"
             },
             "line": {
              "color": "white"
             }
            },
            "header": {
             "fill": {
              "color": "#C8D4E3"
             },
             "line": {
              "color": "white"
             }
            },
            "type": "table"
           }
          ]
         },
         "layout": {
          "annotationdefaults": {
           "arrowcolor": "#2a3f5f",
           "arrowhead": 0,
           "arrowwidth": 1
          },
          "autotypenumbers": "strict",
          "coloraxis": {
           "colorbar": {
            "outlinewidth": 0,
            "ticks": ""
           }
          },
          "colorscale": {
           "diverging": [
            [
             0,
             "#8e0152"
            ],
            [
             0.1,
             "#c51b7d"
            ],
            [
             0.2,
             "#de77ae"
            ],
            [
             0.3,
             "#f1b6da"
            ],
            [
             0.4,
             "#fde0ef"
            ],
            [
             0.5,
             "#f7f7f7"
            ],
            [
             0.6,
             "#e6f5d0"
            ],
            [
             0.7,
             "#b8e186"
            ],
            [
             0.8,
             "#7fbc41"
            ],
            [
             0.9,
             "#4d9221"
            ],
            [
             1,
             "#276419"
            ]
           ],
           "sequential": [
            [
             0,
             "#0d0887"
            ],
            [
             0.1111111111111111,
             "#46039f"
            ],
            [
             0.2222222222222222,
             "#7201a8"
            ],
            [
             0.3333333333333333,
             "#9c179e"
            ],
            [
             0.4444444444444444,
             "#bd3786"
            ],
            [
             0.5555555555555556,
             "#d8576b"
            ],
            [
             0.6666666666666666,
             "#ed7953"
            ],
            [
             0.7777777777777778,
             "#fb9f3a"
            ],
            [
             0.8888888888888888,
             "#fdca26"
            ],
            [
             1,
             "#f0f921"
            ]
           ],
           "sequentialminus": [
            [
             0,
             "#0d0887"
            ],
            [
             0.1111111111111111,
             "#46039f"
            ],
            [
             0.2222222222222222,
             "#7201a8"
            ],
            [
             0.3333333333333333,
             "#9c179e"
            ],
            [
             0.4444444444444444,
             "#bd3786"
            ],
            [
             0.5555555555555556,
             "#d8576b"
            ],
            [
             0.6666666666666666,
             "#ed7953"
            ],
            [
             0.7777777777777778,
             "#fb9f3a"
            ],
            [
             0.8888888888888888,
             "#fdca26"
            ],
            [
             1,
             "#f0f921"
            ]
           ]
          },
          "colorway": [
           "#636efa",
           "#EF553B",
           "#00cc96",
           "#ab63fa",
           "#FFA15A",
           "#19d3f3",
           "#FF6692",
           "#B6E880",
           "#FF97FF",
           "#FECB52"
          ],
          "font": {
           "color": "#2a3f5f"
          },
          "geo": {
           "bgcolor": "white",
           "lakecolor": "white",
           "landcolor": "#E5ECF6",
           "showlakes": true,
           "showland": true,
           "subunitcolor": "white"
          },
          "hoverlabel": {
           "align": "left"
          },
          "hovermode": "closest",
          "mapbox": {
           "style": "light"
          },
          "paper_bgcolor": "white",
          "plot_bgcolor": "#E5ECF6",
          "polar": {
           "angularaxis": {
            "gridcolor": "white",
            "linecolor": "white",
            "ticks": ""
           },
           "bgcolor": "#E5ECF6",
           "radialaxis": {
            "gridcolor": "white",
            "linecolor": "white",
            "ticks": ""
           }
          },
          "scene": {
           "xaxis": {
            "backgroundcolor": "#E5ECF6",
            "gridcolor": "white",
            "gridwidth": 2,
            "linecolor": "white",
            "showbackground": true,
            "ticks": "",
            "zerolinecolor": "white"
           },
           "yaxis": {
            "backgroundcolor": "#E5ECF6",
            "gridcolor": "white",
            "gridwidth": 2,
            "linecolor": "white",
            "showbackground": true,
            "ticks": "",
            "zerolinecolor": "white"
           },
           "zaxis": {
            "backgroundcolor": "#E5ECF6",
            "gridcolor": "white",
            "gridwidth": 2,
            "linecolor": "white",
            "showbackground": true,
            "ticks": "",
            "zerolinecolor": "white"
           }
          },
          "shapedefaults": {
           "line": {
            "color": "#2a3f5f"
           }
          },
          "ternary": {
           "aaxis": {
            "gridcolor": "white",
            "linecolor": "white",
            "ticks": ""
           },
           "baxis": {
            "gridcolor": "white",
            "linecolor": "white",
            "ticks": ""
           },
           "bgcolor": "#E5ECF6",
           "caxis": {
            "gridcolor": "white",
            "linecolor": "white",
            "ticks": ""
           }
          },
          "title": {
           "x": 0.05
          },
          "xaxis": {
           "automargin": true,
           "gridcolor": "white",
           "linecolor": "white",
           "ticks": "",
           "title": {
            "standoff": 15
           },
           "zerolinecolor": "white",
           "zerolinewidth": 2
          },
          "yaxis": {
           "automargin": true,
           "gridcolor": "white",
           "linecolor": "white",
           "ticks": "",
           "title": {
            "standoff": 15
           },
           "zerolinecolor": "white",
           "zerolinewidth": 2
          }
         }
        }
       }
      }
     },
     "metadata": {},
     "output_type": "display_data"
    }
   ],
   "source": [
    "df_payments['created_at'] = pd.to_datetime(df_payments['created_at'], errors='coerce')\n",
    "\n",
    "df_successful = df_payments[df_payments['state'].isin(['PAID', 'APPROVED'])].copy()\n",
    "\n",
    "df_successful['year'] = df_successful['created_at'].dt.year\n",
    "df_successful['month'] = df_successful['created_at'].dt.month\n",
    "\n",
    "monthly_withdrawals = (\n",
    "    df_successful.groupby(['year', 'month'])['credits']\n",
    "    .sum()\n",
    "    .reset_index()\n",
    "    .sort_values(['year', 'month'])\n",
    ")\n",
    "\n",
    "import plotly.express as px\n",
    "fig = px.bar(\n",
    "    monthly_withdrawals,\n",
    "    x='month',\n",
    "    y='credits',\n",
    "    color='year',\n",
    "    barmode='group',\n",
    "    title='Total Withdrawals per Month by Year',\n",
    "    labels={'credits': 'Withdrawn Credits (CZK)', 'month': 'Month'}\n",
    ")\n",
    "fig.show()\n",
    "\n",
    "import plotly.graph_objects as go\n",
    "fig_table = go.Figure(data=[go.Table(\n",
    "    header=dict(values=[\"Year\", \"Month\", \"Withdrawn Credits\"]),\n",
    "    cells=dict(values=[\n",
    "        monthly_withdrawals['year'],\n",
    "        monthly_withdrawals['month'],\n",
    "        monthly_withdrawals['credits'].round(2)\n",
    "    ])\n",
    ")])\n",
    "fig_table.show()\n"
   ]
  },
  {
   "cell_type": "code",
   "execution_count": 5,
   "id": "2800f882",
   "metadata": {},
   "outputs": [],
   "source": [
    "# Count number of withdrawals per month (state must be PAID or APPROVED)\n",
    "monthly_withdrawal_counts = (\n",
    "    df_successful\n",
    "    .groupby(['year', 'month'])\n",
    "    .size()\n",
    "    .reset_index(name='withdrawal_count')\n",
    "    .sort_values(['year', 'month'])\n",
    ")\n"
   ]
  },
  {
   "cell_type": "code",
   "execution_count": 7,
   "id": "4ee861c9",
   "metadata": {},
   "outputs": [
    {
     "data": {
      "application/vnd.plotly.v1+json": {
       "config": {
        "plotlyServerURL": "https://plot.ly"
       },
       "data": [
        {
         "alignmentgroup": "True",
         "hovertemplate": "Month=%{x}<br>Number of Withdrawals=%{y}<br>year=%{marker.color}<extra></extra>",
         "legendgroup": "",
         "marker": {
          "color": {
           "bdata": "4QcAAOEHAADhBwAA4QcAAOEHAADiBwAA4gcAAOIHAADiBwAA4gcAAOIHAADiBwAA4gcAAOIHAADiBwAA4gcAAOIHAADjBwAA4wcAAOMHAADjBwAA4wcAAOMHAADjBwAA4wcAAOMHAADjBwAA4wcAAOMHAADkBwAA5AcAAOQHAADkBwAA5AcAAOQHAADkBwAA5AcAAOQHAADkBwAA5AcAAOQHAADlBwAA5QcAAOUHAADlBwAA5QcAAOUHAADlBwAA5QcAAOUHAADlBwAA5QcAAOUHAADmBwAA5gcAAOYHAADmBwAA5gcAAOYHAADmBwAA5gcAAOYHAADmBwAA5gcAAOYHAADnBwAA5wcAAOcHAADnBwAA5wcAAOcHAADnBwAA5wcAAOcHAADnBwAA5wcAAOcHAADoBwAA6AcAAOgHAADoBwAA6AcAAOgHAADoBwAA6AcAAOgHAADoBwAA6AcAAOgHAADpBwAA6QcAAOkHAADpBwAA",
           "dtype": "i4"
          },
          "coloraxis": "coloraxis",
          "pattern": {
           "shape": ""
          }
         },
         "name": "",
         "offsetgroup": "",
         "orientation": "v",
         "showlegend": false,
         "textposition": "auto",
         "type": "bar",
         "x": {
          "bdata": "CAAAAAkAAAAKAAAACwAAAAwAAAABAAAAAgAAAAMAAAAEAAAABQAAAAYAAAAHAAAACAAAAAkAAAAKAAAACwAAAAwAAAABAAAAAgAAAAMAAAAEAAAABQAAAAYAAAAHAAAACAAAAAkAAAAKAAAACwAAAAwAAAABAAAAAgAAAAMAAAAEAAAABQAAAAYAAAAHAAAACAAAAAkAAAAKAAAACwAAAAwAAAABAAAAAgAAAAMAAAAEAAAABQAAAAYAAAAHAAAACAAAAAkAAAAKAAAACwAAAAwAAAABAAAAAgAAAAMAAAAEAAAABQAAAAYAAAAHAAAACAAAAAkAAAAKAAAACwAAAAwAAAABAAAAAgAAAAMAAAAEAAAABQAAAAYAAAAHAAAACAAAAAkAAAAKAAAACwAAAAwAAAABAAAAAgAAAAMAAAAEAAAABQAAAAYAAAAHAAAACAAAAAkAAAAKAAAACwAAAAwAAAABAAAAAgAAAAMAAAAEAAAA",
          "dtype": "i4"
         },
         "xaxis": "x",
         "y": {
          "bdata": "EAABAAcAEQAJAAEAEgAlABIAJgAnACEAMgBcAEsAQAAnAKkAowD+ALAAtQB4AGQAyABdAG0AAQG0AKcAygCPAI4A2gDKANEApQAnAegAUQHBAJgAhACWANoAqACZANEAPwH7AKcALgEgAZMAxQA+ApAA6gAEAZgA7gAUAZIB1AGEAa8B+wBaAUEBQAGFAVUBcgGiAagB8gEhAiwCGwJiAhICIAJDAk0C9wLsAvADfgSmA5UEDgQ1BX0A",
          "dtype": "i2"
         },
         "yaxis": "y"
        }
       ],
       "layout": {
        "barmode": "group",
        "coloraxis": {
         "colorbar": {
          "title": {
           "text": "year"
          }
         },
         "colorscale": [
          [
           0,
           "#0d0887"
          ],
          [
           0.1111111111111111,
           "#46039f"
          ],
          [
           0.2222222222222222,
           "#7201a8"
          ],
          [
           0.3333333333333333,
           "#9c179e"
          ],
          [
           0.4444444444444444,
           "#bd3786"
          ],
          [
           0.5555555555555556,
           "#d8576b"
          ],
          [
           0.6666666666666666,
           "#ed7953"
          ],
          [
           0.7777777777777778,
           "#fb9f3a"
          ],
          [
           0.8888888888888888,
           "#fdca26"
          ],
          [
           1,
           "#f0f921"
          ]
         ]
        },
        "legend": {
         "tracegroupgap": 0
        },
        "template": {
         "data": {
          "bar": [
           {
            "error_x": {
             "color": "#2a3f5f"
            },
            "error_y": {
             "color": "#2a3f5f"
            },
            "marker": {
             "line": {
              "color": "#E5ECF6",
              "width": 0.5
             },
             "pattern": {
              "fillmode": "overlay",
              "size": 10,
              "solidity": 0.2
             }
            },
            "type": "bar"
           }
          ],
          "barpolar": [
           {
            "marker": {
             "line": {
              "color": "#E5ECF6",
              "width": 0.5
             },
             "pattern": {
              "fillmode": "overlay",
              "size": 10,
              "solidity": 0.2
             }
            },
            "type": "barpolar"
           }
          ],
          "carpet": [
           {
            "aaxis": {
             "endlinecolor": "#2a3f5f",
             "gridcolor": "white",
             "linecolor": "white",
             "minorgridcolor": "white",
             "startlinecolor": "#2a3f5f"
            },
            "baxis": {
             "endlinecolor": "#2a3f5f",
             "gridcolor": "white",
             "linecolor": "white",
             "minorgridcolor": "white",
             "startlinecolor": "#2a3f5f"
            },
            "type": "carpet"
           }
          ],
          "choropleth": [
           {
            "colorbar": {
             "outlinewidth": 0,
             "ticks": ""
            },
            "type": "choropleth"
           }
          ],
          "contour": [
           {
            "colorbar": {
             "outlinewidth": 0,
             "ticks": ""
            },
            "colorscale": [
             [
              0,
              "#0d0887"
             ],
             [
              0.1111111111111111,
              "#46039f"
             ],
             [
              0.2222222222222222,
              "#7201a8"
             ],
             [
              0.3333333333333333,
              "#9c179e"
             ],
             [
              0.4444444444444444,
              "#bd3786"
             ],
             [
              0.5555555555555556,
              "#d8576b"
             ],
             [
              0.6666666666666666,
              "#ed7953"
             ],
             [
              0.7777777777777778,
              "#fb9f3a"
             ],
             [
              0.8888888888888888,
              "#fdca26"
             ],
             [
              1,
              "#f0f921"
             ]
            ],
            "type": "contour"
           }
          ],
          "contourcarpet": [
           {
            "colorbar": {
             "outlinewidth": 0,
             "ticks": ""
            },
            "type": "contourcarpet"
           }
          ],
          "heatmap": [
           {
            "colorbar": {
             "outlinewidth": 0,
             "ticks": ""
            },
            "colorscale": [
             [
              0,
              "#0d0887"
             ],
             [
              0.1111111111111111,
              "#46039f"
             ],
             [
              0.2222222222222222,
              "#7201a8"
             ],
             [
              0.3333333333333333,
              "#9c179e"
             ],
             [
              0.4444444444444444,
              "#bd3786"
             ],
             [
              0.5555555555555556,
              "#d8576b"
             ],
             [
              0.6666666666666666,
              "#ed7953"
             ],
             [
              0.7777777777777778,
              "#fb9f3a"
             ],
             [
              0.8888888888888888,
              "#fdca26"
             ],
             [
              1,
              "#f0f921"
             ]
            ],
            "type": "heatmap"
           }
          ],
          "histogram": [
           {
            "marker": {
             "pattern": {
              "fillmode": "overlay",
              "size": 10,
              "solidity": 0.2
             }
            },
            "type": "histogram"
           }
          ],
          "histogram2d": [
           {
            "colorbar": {
             "outlinewidth": 0,
             "ticks": ""
            },
            "colorscale": [
             [
              0,
              "#0d0887"
             ],
             [
              0.1111111111111111,
              "#46039f"
             ],
             [
              0.2222222222222222,
              "#7201a8"
             ],
             [
              0.3333333333333333,
              "#9c179e"
             ],
             [
              0.4444444444444444,
              "#bd3786"
             ],
             [
              0.5555555555555556,
              "#d8576b"
             ],
             [
              0.6666666666666666,
              "#ed7953"
             ],
             [
              0.7777777777777778,
              "#fb9f3a"
             ],
             [
              0.8888888888888888,
              "#fdca26"
             ],
             [
              1,
              "#f0f921"
             ]
            ],
            "type": "histogram2d"
           }
          ],
          "histogram2dcontour": [
           {
            "colorbar": {
             "outlinewidth": 0,
             "ticks": ""
            },
            "colorscale": [
             [
              0,
              "#0d0887"
             ],
             [
              0.1111111111111111,
              "#46039f"
             ],
             [
              0.2222222222222222,
              "#7201a8"
             ],
             [
              0.3333333333333333,
              "#9c179e"
             ],
             [
              0.4444444444444444,
              "#bd3786"
             ],
             [
              0.5555555555555556,
              "#d8576b"
             ],
             [
              0.6666666666666666,
              "#ed7953"
             ],
             [
              0.7777777777777778,
              "#fb9f3a"
             ],
             [
              0.8888888888888888,
              "#fdca26"
             ],
             [
              1,
              "#f0f921"
             ]
            ],
            "type": "histogram2dcontour"
           }
          ],
          "mesh3d": [
           {
            "colorbar": {
             "outlinewidth": 0,
             "ticks": ""
            },
            "type": "mesh3d"
           }
          ],
          "parcoords": [
           {
            "line": {
             "colorbar": {
              "outlinewidth": 0,
              "ticks": ""
             }
            },
            "type": "parcoords"
           }
          ],
          "pie": [
           {
            "automargin": true,
            "type": "pie"
           }
          ],
          "scatter": [
           {
            "fillpattern": {
             "fillmode": "overlay",
             "size": 10,
             "solidity": 0.2
            },
            "type": "scatter"
           }
          ],
          "scatter3d": [
           {
            "line": {
             "colorbar": {
              "outlinewidth": 0,
              "ticks": ""
             }
            },
            "marker": {
             "colorbar": {
              "outlinewidth": 0,
              "ticks": ""
             }
            },
            "type": "scatter3d"
           }
          ],
          "scattercarpet": [
           {
            "marker": {
             "colorbar": {
              "outlinewidth": 0,
              "ticks": ""
             }
            },
            "type": "scattercarpet"
           }
          ],
          "scattergeo": [
           {
            "marker": {
             "colorbar": {
              "outlinewidth": 0,
              "ticks": ""
             }
            },
            "type": "scattergeo"
           }
          ],
          "scattergl": [
           {
            "marker": {
             "colorbar": {
              "outlinewidth": 0,
              "ticks": ""
             }
            },
            "type": "scattergl"
           }
          ],
          "scattermap": [
           {
            "marker": {
             "colorbar": {
              "outlinewidth": 0,
              "ticks": ""
             }
            },
            "type": "scattermap"
           }
          ],
          "scattermapbox": [
           {
            "marker": {
             "colorbar": {
              "outlinewidth": 0,
              "ticks": ""
             }
            },
            "type": "scattermapbox"
           }
          ],
          "scatterpolar": [
           {
            "marker": {
             "colorbar": {
              "outlinewidth": 0,
              "ticks": ""
             }
            },
            "type": "scatterpolar"
           }
          ],
          "scatterpolargl": [
           {
            "marker": {
             "colorbar": {
              "outlinewidth": 0,
              "ticks": ""
             }
            },
            "type": "scatterpolargl"
           }
          ],
          "scatterternary": [
           {
            "marker": {
             "colorbar": {
              "outlinewidth": 0,
              "ticks": ""
             }
            },
            "type": "scatterternary"
           }
          ],
          "surface": [
           {
            "colorbar": {
             "outlinewidth": 0,
             "ticks": ""
            },
            "colorscale": [
             [
              0,
              "#0d0887"
             ],
             [
              0.1111111111111111,
              "#46039f"
             ],
             [
              0.2222222222222222,
              "#7201a8"
             ],
             [
              0.3333333333333333,
              "#9c179e"
             ],
             [
              0.4444444444444444,
              "#bd3786"
             ],
             [
              0.5555555555555556,
              "#d8576b"
             ],
             [
              0.6666666666666666,
              "#ed7953"
             ],
             [
              0.7777777777777778,
              "#fb9f3a"
             ],
             [
              0.8888888888888888,
              "#fdca26"
             ],
             [
              1,
              "#f0f921"
             ]
            ],
            "type": "surface"
           }
          ],
          "table": [
           {
            "cells": {
             "fill": {
              "color": "#EBF0F8"
             },
             "line": {
              "color": "white"
             }
            },
            "header": {
             "fill": {
              "color": "#C8D4E3"
             },
             "line": {
              "color": "white"
             }
            },
            "type": "table"
           }
          ]
         },
         "layout": {
          "annotationdefaults": {
           "arrowcolor": "#2a3f5f",
           "arrowhead": 0,
           "arrowwidth": 1
          },
          "autotypenumbers": "strict",
          "coloraxis": {
           "colorbar": {
            "outlinewidth": 0,
            "ticks": ""
           }
          },
          "colorscale": {
           "diverging": [
            [
             0,
             "#8e0152"
            ],
            [
             0.1,
             "#c51b7d"
            ],
            [
             0.2,
             "#de77ae"
            ],
            [
             0.3,
             "#f1b6da"
            ],
            [
             0.4,
             "#fde0ef"
            ],
            [
             0.5,
             "#f7f7f7"
            ],
            [
             0.6,
             "#e6f5d0"
            ],
            [
             0.7,
             "#b8e186"
            ],
            [
             0.8,
             "#7fbc41"
            ],
            [
             0.9,
             "#4d9221"
            ],
            [
             1,
             "#276419"
            ]
           ],
           "sequential": [
            [
             0,
             "#0d0887"
            ],
            [
             0.1111111111111111,
             "#46039f"
            ],
            [
             0.2222222222222222,
             "#7201a8"
            ],
            [
             0.3333333333333333,
             "#9c179e"
            ],
            [
             0.4444444444444444,
             "#bd3786"
            ],
            [
             0.5555555555555556,
             "#d8576b"
            ],
            [
             0.6666666666666666,
             "#ed7953"
            ],
            [
             0.7777777777777778,
             "#fb9f3a"
            ],
            [
             0.8888888888888888,
             "#fdca26"
            ],
            [
             1,
             "#f0f921"
            ]
           ],
           "sequentialminus": [
            [
             0,
             "#0d0887"
            ],
            [
             0.1111111111111111,
             "#46039f"
            ],
            [
             0.2222222222222222,
             "#7201a8"
            ],
            [
             0.3333333333333333,
             "#9c179e"
            ],
            [
             0.4444444444444444,
             "#bd3786"
            ],
            [
             0.5555555555555556,
             "#d8576b"
            ],
            [
             0.6666666666666666,
             "#ed7953"
            ],
            [
             0.7777777777777778,
             "#fb9f3a"
            ],
            [
             0.8888888888888888,
             "#fdca26"
            ],
            [
             1,
             "#f0f921"
            ]
           ]
          },
          "colorway": [
           "#636efa",
           "#EF553B",
           "#00cc96",
           "#ab63fa",
           "#FFA15A",
           "#19d3f3",
           "#FF6692",
           "#B6E880",
           "#FF97FF",
           "#FECB52"
          ],
          "font": {
           "color": "#2a3f5f"
          },
          "geo": {
           "bgcolor": "white",
           "lakecolor": "white",
           "landcolor": "#E5ECF6",
           "showlakes": true,
           "showland": true,
           "subunitcolor": "white"
          },
          "hoverlabel": {
           "align": "left"
          },
          "hovermode": "closest",
          "mapbox": {
           "style": "light"
          },
          "paper_bgcolor": "white",
          "plot_bgcolor": "#E5ECF6",
          "polar": {
           "angularaxis": {
            "gridcolor": "white",
            "linecolor": "white",
            "ticks": ""
           },
           "bgcolor": "#E5ECF6",
           "radialaxis": {
            "gridcolor": "white",
            "linecolor": "white",
            "ticks": ""
           }
          },
          "scene": {
           "xaxis": {
            "backgroundcolor": "#E5ECF6",
            "gridcolor": "white",
            "gridwidth": 2,
            "linecolor": "white",
            "showbackground": true,
            "ticks": "",
            "zerolinecolor": "white"
           },
           "yaxis": {
            "backgroundcolor": "#E5ECF6",
            "gridcolor": "white",
            "gridwidth": 2,
            "linecolor": "white",
            "showbackground": true,
            "ticks": "",
            "zerolinecolor": "white"
           },
           "zaxis": {
            "backgroundcolor": "#E5ECF6",
            "gridcolor": "white",
            "gridwidth": 2,
            "linecolor": "white",
            "showbackground": true,
            "ticks": "",
            "zerolinecolor": "white"
           }
          },
          "shapedefaults": {
           "line": {
            "color": "#2a3f5f"
           }
          },
          "ternary": {
           "aaxis": {
            "gridcolor": "white",
            "linecolor": "white",
            "ticks": ""
           },
           "baxis": {
            "gridcolor": "white",
            "linecolor": "white",
            "ticks": ""
           },
           "bgcolor": "#E5ECF6",
           "caxis": {
            "gridcolor": "white",
            "linecolor": "white",
            "ticks": ""
           }
          },
          "title": {
           "x": 0.05
          },
          "xaxis": {
           "automargin": true,
           "gridcolor": "white",
           "linecolor": "white",
           "ticks": "",
           "title": {
            "standoff": 15
           },
           "zerolinecolor": "white",
           "zerolinewidth": 2
          },
          "yaxis": {
           "automargin": true,
           "gridcolor": "white",
           "linecolor": "white",
           "ticks": "",
           "title": {
            "standoff": 15
           },
           "zerolinecolor": "white",
           "zerolinewidth": 2
          }
         }
        },
        "title": {
         "text": "Number of Successful Withdrawals per Month by Year"
        },
        "xaxis": {
         "anchor": "y",
         "domain": [
          0,
          1
         ],
         "title": {
          "text": "Month"
         }
        },
        "yaxis": {
         "anchor": "x",
         "domain": [
          0,
          1
         ],
         "title": {
          "text": "Number of Withdrawals"
         }
        }
       }
      }
     },
     "metadata": {},
     "output_type": "display_data"
    },
    {
     "data": {
      "application/vnd.plotly.v1+json": {
       "config": {
        "plotlyServerURL": "https://plot.ly"
       },
       "data": [
        {
         "cells": {
          "values": [
           [
            2017,
            2017,
            2017,
            2017,
            2017,
            2018,
            2018,
            2018,
            2018,
            2018,
            2018,
            2018,
            2018,
            2018,
            2018,
            2018,
            2018,
            2019,
            2019,
            2019,
            2019,
            2019,
            2019,
            2019,
            2019,
            2019,
            2019,
            2019,
            2019,
            2020,
            2020,
            2020,
            2020,
            2020,
            2020,
            2020,
            2020,
            2020,
            2020,
            2020,
            2020,
            2021,
            2021,
            2021,
            2021,
            2021,
            2021,
            2021,
            2021,
            2021,
            2021,
            2021,
            2021,
            2022,
            2022,
            2022,
            2022,
            2022,
            2022,
            2022,
            2022,
            2022,
            2022,
            2022,
            2022,
            2023,
            2023,
            2023,
            2023,
            2023,
            2023,
            2023,
            2023,
            2023,
            2023,
            2023,
            2023,
            2024,
            2024,
            2024,
            2024,
            2024,
            2024,
            2024,
            2024,
            2024,
            2024,
            2024,
            2024,
            2025,
            2025,
            2025,
            2025
           ],
           [
            8,
            9,
            10,
            11,
            12,
            1,
            2,
            3,
            4,
            5,
            6,
            7,
            8,
            9,
            10,
            11,
            12,
            1,
            2,
            3,
            4,
            5,
            6,
            7,
            8,
            9,
            10,
            11,
            12,
            1,
            2,
            3,
            4,
            5,
            6,
            7,
            8,
            9,
            10,
            11,
            12,
            1,
            2,
            3,
            4,
            5,
            6,
            7,
            8,
            9,
            10,
            11,
            12,
            1,
            2,
            3,
            4,
            5,
            6,
            7,
            8,
            9,
            10,
            11,
            12,
            1,
            2,
            3,
            4,
            5,
            6,
            7,
            8,
            9,
            10,
            11,
            12,
            1,
            2,
            3,
            4,
            5,
            6,
            7,
            8,
            9,
            10,
            11,
            12,
            1,
            2,
            3,
            4
           ],
           [
            16,
            1,
            7,
            17,
            9,
            1,
            18,
            37,
            18,
            38,
            39,
            33,
            50,
            92,
            75,
            64,
            39,
            169,
            163,
            254,
            176,
            181,
            120,
            100,
            200,
            93,
            109,
            257,
            180,
            167,
            202,
            143,
            142,
            218,
            202,
            209,
            165,
            295,
            232,
            337,
            193,
            152,
            132,
            150,
            218,
            168,
            153,
            209,
            319,
            251,
            167,
            302,
            288,
            147,
            197,
            574,
            144,
            234,
            260,
            152,
            238,
            276,
            402,
            468,
            388,
            431,
            251,
            346,
            321,
            320,
            389,
            341,
            370,
            418,
            424,
            498,
            545,
            556,
            539,
            610,
            530,
            544,
            579,
            589,
            759,
            748,
            1008,
            1150,
            934,
            1173,
            1038,
            1333,
            125
           ]
          ]
         },
         "header": {
          "values": [
           "Year",
           "Month",
           "Number of Withdrawals"
          ]
         },
         "type": "table"
        }
       ],
       "layout": {
        "template": {
         "data": {
          "bar": [
           {
            "error_x": {
             "color": "#2a3f5f"
            },
            "error_y": {
             "color": "#2a3f5f"
            },
            "marker": {
             "line": {
              "color": "#E5ECF6",
              "width": 0.5
             },
             "pattern": {
              "fillmode": "overlay",
              "size": 10,
              "solidity": 0.2
             }
            },
            "type": "bar"
           }
          ],
          "barpolar": [
           {
            "marker": {
             "line": {
              "color": "#E5ECF6",
              "width": 0.5
             },
             "pattern": {
              "fillmode": "overlay",
              "size": 10,
              "solidity": 0.2
             }
            },
            "type": "barpolar"
           }
          ],
          "carpet": [
           {
            "aaxis": {
             "endlinecolor": "#2a3f5f",
             "gridcolor": "white",
             "linecolor": "white",
             "minorgridcolor": "white",
             "startlinecolor": "#2a3f5f"
            },
            "baxis": {
             "endlinecolor": "#2a3f5f",
             "gridcolor": "white",
             "linecolor": "white",
             "minorgridcolor": "white",
             "startlinecolor": "#2a3f5f"
            },
            "type": "carpet"
           }
          ],
          "choropleth": [
           {
            "colorbar": {
             "outlinewidth": 0,
             "ticks": ""
            },
            "type": "choropleth"
           }
          ],
          "contour": [
           {
            "colorbar": {
             "outlinewidth": 0,
             "ticks": ""
            },
            "colorscale": [
             [
              0,
              "#0d0887"
             ],
             [
              0.1111111111111111,
              "#46039f"
             ],
             [
              0.2222222222222222,
              "#7201a8"
             ],
             [
              0.3333333333333333,
              "#9c179e"
             ],
             [
              0.4444444444444444,
              "#bd3786"
             ],
             [
              0.5555555555555556,
              "#d8576b"
             ],
             [
              0.6666666666666666,
              "#ed7953"
             ],
             [
              0.7777777777777778,
              "#fb9f3a"
             ],
             [
              0.8888888888888888,
              "#fdca26"
             ],
             [
              1,
              "#f0f921"
             ]
            ],
            "type": "contour"
           }
          ],
          "contourcarpet": [
           {
            "colorbar": {
             "outlinewidth": 0,
             "ticks": ""
            },
            "type": "contourcarpet"
           }
          ],
          "heatmap": [
           {
            "colorbar": {
             "outlinewidth": 0,
             "ticks": ""
            },
            "colorscale": [
             [
              0,
              "#0d0887"
             ],
             [
              0.1111111111111111,
              "#46039f"
             ],
             [
              0.2222222222222222,
              "#7201a8"
             ],
             [
              0.3333333333333333,
              "#9c179e"
             ],
             [
              0.4444444444444444,
              "#bd3786"
             ],
             [
              0.5555555555555556,
              "#d8576b"
             ],
             [
              0.6666666666666666,
              "#ed7953"
             ],
             [
              0.7777777777777778,
              "#fb9f3a"
             ],
             [
              0.8888888888888888,
              "#fdca26"
             ],
             [
              1,
              "#f0f921"
             ]
            ],
            "type": "heatmap"
           }
          ],
          "histogram": [
           {
            "marker": {
             "pattern": {
              "fillmode": "overlay",
              "size": 10,
              "solidity": 0.2
             }
            },
            "type": "histogram"
           }
          ],
          "histogram2d": [
           {
            "colorbar": {
             "outlinewidth": 0,
             "ticks": ""
            },
            "colorscale": [
             [
              0,
              "#0d0887"
             ],
             [
              0.1111111111111111,
              "#46039f"
             ],
             [
              0.2222222222222222,
              "#7201a8"
             ],
             [
              0.3333333333333333,
              "#9c179e"
             ],
             [
              0.4444444444444444,
              "#bd3786"
             ],
             [
              0.5555555555555556,
              "#d8576b"
             ],
             [
              0.6666666666666666,
              "#ed7953"
             ],
             [
              0.7777777777777778,
              "#fb9f3a"
             ],
             [
              0.8888888888888888,
              "#fdca26"
             ],
             [
              1,
              "#f0f921"
             ]
            ],
            "type": "histogram2d"
           }
          ],
          "histogram2dcontour": [
           {
            "colorbar": {
             "outlinewidth": 0,
             "ticks": ""
            },
            "colorscale": [
             [
              0,
              "#0d0887"
             ],
             [
              0.1111111111111111,
              "#46039f"
             ],
             [
              0.2222222222222222,
              "#7201a8"
             ],
             [
              0.3333333333333333,
              "#9c179e"
             ],
             [
              0.4444444444444444,
              "#bd3786"
             ],
             [
              0.5555555555555556,
              "#d8576b"
             ],
             [
              0.6666666666666666,
              "#ed7953"
             ],
             [
              0.7777777777777778,
              "#fb9f3a"
             ],
             [
              0.8888888888888888,
              "#fdca26"
             ],
             [
              1,
              "#f0f921"
             ]
            ],
            "type": "histogram2dcontour"
           }
          ],
          "mesh3d": [
           {
            "colorbar": {
             "outlinewidth": 0,
             "ticks": ""
            },
            "type": "mesh3d"
           }
          ],
          "parcoords": [
           {
            "line": {
             "colorbar": {
              "outlinewidth": 0,
              "ticks": ""
             }
            },
            "type": "parcoords"
           }
          ],
          "pie": [
           {
            "automargin": true,
            "type": "pie"
           }
          ],
          "scatter": [
           {
            "fillpattern": {
             "fillmode": "overlay",
             "size": 10,
             "solidity": 0.2
            },
            "type": "scatter"
           }
          ],
          "scatter3d": [
           {
            "line": {
             "colorbar": {
              "outlinewidth": 0,
              "ticks": ""
             }
            },
            "marker": {
             "colorbar": {
              "outlinewidth": 0,
              "ticks": ""
             }
            },
            "type": "scatter3d"
           }
          ],
          "scattercarpet": [
           {
            "marker": {
             "colorbar": {
              "outlinewidth": 0,
              "ticks": ""
             }
            },
            "type": "scattercarpet"
           }
          ],
          "scattergeo": [
           {
            "marker": {
             "colorbar": {
              "outlinewidth": 0,
              "ticks": ""
             }
            },
            "type": "scattergeo"
           }
          ],
          "scattergl": [
           {
            "marker": {
             "colorbar": {
              "outlinewidth": 0,
              "ticks": ""
             }
            },
            "type": "scattergl"
           }
          ],
          "scattermap": [
           {
            "marker": {
             "colorbar": {
              "outlinewidth": 0,
              "ticks": ""
             }
            },
            "type": "scattermap"
           }
          ],
          "scattermapbox": [
           {
            "marker": {
             "colorbar": {
              "outlinewidth": 0,
              "ticks": ""
             }
            },
            "type": "scattermapbox"
           }
          ],
          "scatterpolar": [
           {
            "marker": {
             "colorbar": {
              "outlinewidth": 0,
              "ticks": ""
             }
            },
            "type": "scatterpolar"
           }
          ],
          "scatterpolargl": [
           {
            "marker": {
             "colorbar": {
              "outlinewidth": 0,
              "ticks": ""
             }
            },
            "type": "scatterpolargl"
           }
          ],
          "scatterternary": [
           {
            "marker": {
             "colorbar": {
              "outlinewidth": 0,
              "ticks": ""
             }
            },
            "type": "scatterternary"
           }
          ],
          "surface": [
           {
            "colorbar": {
             "outlinewidth": 0,
             "ticks": ""
            },
            "colorscale": [
             [
              0,
              "#0d0887"
             ],
             [
              0.1111111111111111,
              "#46039f"
             ],
             [
              0.2222222222222222,
              "#7201a8"
             ],
             [
              0.3333333333333333,
              "#9c179e"
             ],
             [
              0.4444444444444444,
              "#bd3786"
             ],
             [
              0.5555555555555556,
              "#d8576b"
             ],
             [
              0.6666666666666666,
              "#ed7953"
             ],
             [
              0.7777777777777778,
              "#fb9f3a"
             ],
             [
              0.8888888888888888,
              "#fdca26"
             ],
             [
              1,
              "#f0f921"
             ]
            ],
            "type": "surface"
           }
          ],
          "table": [
           {
            "cells": {
             "fill": {
              "color": "#EBF0F8"
             },
             "line": {
              "color": "white"
             }
            },
            "header": {
             "fill": {
              "color": "#C8D4E3"
             },
             "line": {
              "color": "white"
             }
            },
            "type": "table"
           }
          ]
         },
         "layout": {
          "annotationdefaults": {
           "arrowcolor": "#2a3f5f",
           "arrowhead": 0,
           "arrowwidth": 1
          },
          "autotypenumbers": "strict",
          "coloraxis": {
           "colorbar": {
            "outlinewidth": 0,
            "ticks": ""
           }
          },
          "colorscale": {
           "diverging": [
            [
             0,
             "#8e0152"
            ],
            [
             0.1,
             "#c51b7d"
            ],
            [
             0.2,
             "#de77ae"
            ],
            [
             0.3,
             "#f1b6da"
            ],
            [
             0.4,
             "#fde0ef"
            ],
            [
             0.5,
             "#f7f7f7"
            ],
            [
             0.6,
             "#e6f5d0"
            ],
            [
             0.7,
             "#b8e186"
            ],
            [
             0.8,
             "#7fbc41"
            ],
            [
             0.9,
             "#4d9221"
            ],
            [
             1,
             "#276419"
            ]
           ],
           "sequential": [
            [
             0,
             "#0d0887"
            ],
            [
             0.1111111111111111,
             "#46039f"
            ],
            [
             0.2222222222222222,
             "#7201a8"
            ],
            [
             0.3333333333333333,
             "#9c179e"
            ],
            [
             0.4444444444444444,
             "#bd3786"
            ],
            [
             0.5555555555555556,
             "#d8576b"
            ],
            [
             0.6666666666666666,
             "#ed7953"
            ],
            [
             0.7777777777777778,
             "#fb9f3a"
            ],
            [
             0.8888888888888888,
             "#fdca26"
            ],
            [
             1,
             "#f0f921"
            ]
           ],
           "sequentialminus": [
            [
             0,
             "#0d0887"
            ],
            [
             0.1111111111111111,
             "#46039f"
            ],
            [
             0.2222222222222222,
             "#7201a8"
            ],
            [
             0.3333333333333333,
             "#9c179e"
            ],
            [
             0.4444444444444444,
             "#bd3786"
            ],
            [
             0.5555555555555556,
             "#d8576b"
            ],
            [
             0.6666666666666666,
             "#ed7953"
            ],
            [
             0.7777777777777778,
             "#fb9f3a"
            ],
            [
             0.8888888888888888,
             "#fdca26"
            ],
            [
             1,
             "#f0f921"
            ]
           ]
          },
          "colorway": [
           "#636efa",
           "#EF553B",
           "#00cc96",
           "#ab63fa",
           "#FFA15A",
           "#19d3f3",
           "#FF6692",
           "#B6E880",
           "#FF97FF",
           "#FECB52"
          ],
          "font": {
           "color": "#2a3f5f"
          },
          "geo": {
           "bgcolor": "white",
           "lakecolor": "white",
           "landcolor": "#E5ECF6",
           "showlakes": true,
           "showland": true,
           "subunitcolor": "white"
          },
          "hoverlabel": {
           "align": "left"
          },
          "hovermode": "closest",
          "mapbox": {
           "style": "light"
          },
          "paper_bgcolor": "white",
          "plot_bgcolor": "#E5ECF6",
          "polar": {
           "angularaxis": {
            "gridcolor": "white",
            "linecolor": "white",
            "ticks": ""
           },
           "bgcolor": "#E5ECF6",
           "radialaxis": {
            "gridcolor": "white",
            "linecolor": "white",
            "ticks": ""
           }
          },
          "scene": {
           "xaxis": {
            "backgroundcolor": "#E5ECF6",
            "gridcolor": "white",
            "gridwidth": 2,
            "linecolor": "white",
            "showbackground": true,
            "ticks": "",
            "zerolinecolor": "white"
           },
           "yaxis": {
            "backgroundcolor": "#E5ECF6",
            "gridcolor": "white",
            "gridwidth": 2,
            "linecolor": "white",
            "showbackground": true,
            "ticks": "",
            "zerolinecolor": "white"
           },
           "zaxis": {
            "backgroundcolor": "#E5ECF6",
            "gridcolor": "white",
            "gridwidth": 2,
            "linecolor": "white",
            "showbackground": true,
            "ticks": "",
            "zerolinecolor": "white"
           }
          },
          "shapedefaults": {
           "line": {
            "color": "#2a3f5f"
           }
          },
          "ternary": {
           "aaxis": {
            "gridcolor": "white",
            "linecolor": "white",
            "ticks": ""
           },
           "baxis": {
            "gridcolor": "white",
            "linecolor": "white",
            "ticks": ""
           },
           "bgcolor": "#E5ECF6",
           "caxis": {
            "gridcolor": "white",
            "linecolor": "white",
            "ticks": ""
           }
          },
          "title": {
           "x": 0.05
          },
          "xaxis": {
           "automargin": true,
           "gridcolor": "white",
           "linecolor": "white",
           "ticks": "",
           "title": {
            "standoff": 15
           },
           "zerolinecolor": "white",
           "zerolinewidth": 2
          },
          "yaxis": {
           "automargin": true,
           "gridcolor": "white",
           "linecolor": "white",
           "ticks": "",
           "title": {
            "standoff": 15
           },
           "zerolinecolor": "white",
           "zerolinewidth": 2
          }
         }
        }
       }
      }
     },
     "metadata": {},
     "output_type": "display_data"
    }
   ],
   "source": [
    "fig_count = px.bar(\n",
    "    monthly_withdrawal_counts,\n",
    "    x='month',\n",
    "    y='withdrawal_count',\n",
    "    color='year',\n",
    "    barmode='group',\n",
    "    title='Number of Successful Withdrawals per Month by Year',\n",
    "    labels={'withdrawal_count': 'Number of Withdrawals', 'month': 'Month'}\n",
    ")\n",
    "fig_count.show()\n",
    "\n",
    "fig_table_counts = go.Figure(data=[go.Table(\n",
    "    header=dict(values=[\"Year\", \"Month\", \"Number of Withdrawals\"]),\n",
    "    cells=dict(values=[\n",
    "        monthly_withdrawal_counts['year'],\n",
    "        monthly_withdrawal_counts['month'],\n",
    "        monthly_withdrawal_counts['withdrawal_count']\n",
    "    ])\n",
    ")])\n",
    "fig_table_counts.show()"
   ]
  },
  {
   "cell_type": "code",
   "execution_count": 3,
   "id": "17e03a4c",
   "metadata": {},
   "outputs": [],
   "source": [
    "df_atlas = pd.read_csv('../data/Atlas Cechu Student Access.csv', encoding='utf-8')\n",
    "df_payments = pd.read_csv('../data/Payments Student Access.csv', encoding='utf-8')\n",
    "df_credits = pd.read_csv('../data/User Credits Student Access.csv', encoding='utf-8')"
   ]
  },
  {
   "cell_type": "code",
   "execution_count": 5,
   "id": "75629a4b",
   "metadata": {},
   "outputs": [
    {
     "data": {
      "text/plain": [
       "array(['Peníze', nan, 'Trendaro', 'Útulek pro psy', 'Dětský domov',\n",
       "       'Lékaři bez hranic'], dtype=object)"
      ]
     },
     "execution_count": 5,
     "metadata": {},
     "output_type": "execute_result"
    }
   ],
   "source": [
    "df_credits.wage.unique()"
   ]
  }
 ],
 "metadata": {
  "kernelspec": {
   "display_name": "venv",
   "language": "python",
   "name": "python3"
  },
  "language_info": {
   "codemirror_mode": {
    "name": "ipython",
    "version": 3
   },
   "file_extension": ".py",
   "mimetype": "text/x-python",
   "name": "python",
   "nbconvert_exporter": "python",
   "pygments_lexer": "ipython3",
   "version": "3.11.0"
  }
 },
 "nbformat": 4,
 "nbformat_minor": 5
}
