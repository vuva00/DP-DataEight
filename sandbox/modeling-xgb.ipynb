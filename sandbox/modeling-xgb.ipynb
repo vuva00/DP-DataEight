{
 "cells": [
  {
   "cell_type": "markdown",
   "id": "8b95da3a",
   "metadata": {},
   "source": [
    "This script builds a predictive model using XGBoost to identify users who are likely to withdraw their credits \n",
    "(based on behavioral and demographic data). It performs the following steps:\n",
    "\n",
    "1. **Data Loading**: Loads three datasets: user demographic features (Atlas), payment transactions, and current credit balances.\n",
    "\n",
    "2. **Cleaning**: Filters out invalid rows (e.g., zero credits, missing user IDs).\n",
    "\n",
    "3. **Feature Engineering (Atlas)**:\n",
    "   - Transforms binary-encoded demographic features grouped by category.\n",
    "   - Encodes categorical sets into numeric IDs for model compatibility.\n",
    "\n",
    "4. **Withdrawal Stats Aggregation**:\n",
    "   - Calculates historical withdrawal frequency and volume per user.\n",
    "\n",
    "5. **Target Construction**:\n",
    "   - Merges current eligible users (credits ≥ 500) with past withdrawal stats.\n",
    "   - Assigns a binary `target` indicating whether a user is likely to withdraw now, based on average past behavior.\n",
    "\n",
    "6. **Data Merging**:\n",
    "   - Combines processed Atlas features with credit and withdrawal stats into one modeling dataframe.\n",
    "\n",
    "7. **Preprocessing**:\n",
    "   - Drops irrelevant or leakage-prone features.\n",
    "   - Scales numerical data using `StandardScaler`.\n",
    "\n",
    "8. **Modeling**:\n",
    "   - Splits data into training/testing sets with stratification.\n",
    "   - Defines a hyperparameter grid and performs cross-validated training (Stratified K-Fold, n=5).\n",
    "   - Tunes classification threshold to maximize F1-score for class 1 (users likely to withdraw).\n",
    "   - Tracks and logs the best performing model and evaluation report.\n",
    "\n",
    "9. **Logging**:\n",
    "   - Outputs detailed logs at each major step including data loading, feature processing, training, and evaluation."
   ]
  },
  {
   "cell_type": "code",
   "execution_count": 1,
   "id": "8da40f34",
   "metadata": {},
   "outputs": [],
   "source": [
    "import logging\n",
    "import numpy as np\n",
    "import pandas as pd\n",
    "from sklearn.model_selection import train_test_split\n",
    "from collections import defaultdict\n",
    "import xgboost as xgb\n",
    "from sklearn.model_selection import ParameterSampler, StratifiedKFold\n",
    "from sklearn.metrics import classification_report, f1_score\n",
    "from tqdm import tqdm\n",
    "from sklearn.preprocessing import StandardScaler\n",
    "import joblib\n",
    "import os"
   ]
  },
  {
   "cell_type": "code",
   "execution_count": 2,
   "id": "96b9aa9e",
   "metadata": {},
   "outputs": [
    {
     "name": "stderr",
     "output_type": "stream",
     "text": [
      "2025-06-08 17:32:34,249 - INFO - Loading datasets\n"
     ]
    },
    {
     "name": "stderr",
     "output_type": "stream",
     "text": [
      "2025-06-08 17:32:37,013 - INFO - Cleaning data\n",
      "2025-06-08 17:32:37,091 - INFO - Transforming Atlas data\n",
      "2025-06-08 17:34:34,797 - INFO - Aggregating withdrawal stats\n",
      "2025-06-08 17:34:35,191 - INFO - Building eligible user set\n",
      "2025-06-08 17:34:35,319 - INFO - Merging structured Atlas features\n",
      "2025-06-08 17:34:35,441 - INFO - Scaling features\n",
      "2025-06-08 17:34:35,737 - INFO - Starting cross-validated hyperparameter search\n",
      "CV Search:   0%|          | 0/200 [00:00<?, ?it/s]2025-06-08 17:34:36,984 - INFO - Params: {'subsample': 0.8, 'scale_pos_weight': 1.5, 'max_depth': 7, 'learning_rate': 0.25, 'colsample_bytree': 1.0}, Mean F1: 0.7154\n",
      "CV Search:   0%|          | 1/200 [00:01<04:07,  1.24s/it]2025-06-08 17:34:38,357 - INFO - Params: {'subsample': 0.8, 'scale_pos_weight': 2.0, 'max_depth': 8, 'learning_rate': 0.25, 'colsample_bytree': 1.0}, Mean F1: 0.7170\n",
      "CV Search:   1%|          | 2/200 [00:02<04:21,  1.32s/it]2025-06-08 17:34:39,625 - INFO - Params: {'subsample': 0.8, 'scale_pos_weight': 1.5, 'max_depth': 6, 'learning_rate': 0.15, 'colsample_bytree': 1.0}, Mean F1: 0.7326\n",
      "CV Search:   2%|▏         | 3/200 [00:03<04:15,  1.30s/it]2025-06-08 17:34:40,884 - INFO - Params: {'subsample': 0.8, 'scale_pos_weight': 2.0, 'max_depth': 7, 'learning_rate': 0.2, 'colsample_bytree': 1.0}, Mean F1: 0.7272\n",
      "CV Search:   2%|▏         | 4/200 [00:05<04:10,  1.28s/it]2025-06-08 17:34:42,640 - INFO - Params: {'subsample': 0.8, 'scale_pos_weight': 2.0, 'max_depth': 7, 'learning_rate': 0.1, 'colsample_bytree': 0.9}, Mean F1: 0.7298\n",
      "CV Search:   2%|▎         | 5/200 [00:06<04:42,  1.45s/it]2025-06-08 17:34:44,153 - INFO - Params: {'subsample': 0.8, 'scale_pos_weight': 1.5, 'max_depth': 6, 'learning_rate': 0.1, 'colsample_bytree': 1.0}, Mean F1: 0.7314\n",
      "CV Search:   3%|▎         | 6/200 [00:08<04:45,  1.47s/it]2025-06-08 17:34:45,632 - INFO - Params: {'subsample': 1.0, 'scale_pos_weight': 1.0, 'max_depth': 8, 'learning_rate': 0.2, 'colsample_bytree': 1.0}, Mean F1: 0.7100\n",
      "CV Search:   4%|▎         | 7/200 [00:09<04:44,  1.47s/it]2025-06-08 17:34:47,273 - INFO - Params: {'subsample': 0.9, 'scale_pos_weight': 1.0, 'max_depth': 8, 'learning_rate': 0.2, 'colsample_bytree': 0.9}, Mean F1: 0.7087\n",
      "CV Search:   4%|▍         | 8/200 [00:11<04:53,  1.53s/it]2025-06-08 17:34:48,743 - INFO - Params: {'subsample': 0.9, 'scale_pos_weight': 2.0, 'max_depth': 7, 'learning_rate': 0.25, 'colsample_bytree': 1.0}, Mean F1: 0.7177\n",
      "CV Search:   4%|▍         | 9/200 [00:12<04:48,  1.51s/it]2025-06-08 17:34:50,231 - INFO - Params: {'subsample': 0.9, 'scale_pos_weight': 1.5, 'max_depth': 6, 'learning_rate': 0.15, 'colsample_bytree': 1.0}, Mean F1: 0.7273\n",
      "CV Search:   5%|▌         | 10/200 [00:14<04:45,  1.50s/it]2025-06-08 17:34:52,044 - INFO - Params: {'subsample': 0.8, 'scale_pos_weight': 2.0, 'max_depth': 8, 'learning_rate': 0.15, 'colsample_bytree': 1.0}, Mean F1: 0.7253\n",
      "CV Search:   6%|▌         | 11/200 [00:16<05:01,  1.60s/it]2025-06-08 17:34:53,575 - INFO - Params: {'subsample': 0.8, 'scale_pos_weight': 1.5, 'max_depth': 6, 'learning_rate': 0.15, 'colsample_bytree': 0.9}, Mean F1: 0.7275\n",
      "CV Search:   6%|▌         | 12/200 [00:17<04:56,  1.58s/it]2025-06-08 17:34:54,911 - INFO - Params: {'subsample': 0.9, 'scale_pos_weight': 1.0, 'max_depth': 6, 'learning_rate': 0.25, 'colsample_bytree': 1.0}, Mean F1: 0.7089\n",
      "CV Search:   6%|▋         | 13/200 [00:19<04:41,  1.50s/it]2025-06-08 17:34:56,906 - INFO - Params: {'subsample': 0.8, 'scale_pos_weight': 1.0, 'max_depth': 7, 'learning_rate': 0.1, 'colsample_bytree': 0.9}, Mean F1: 0.7232\n",
      "CV Search:   7%|▋         | 14/200 [00:21<05:07,  1.65s/it]2025-06-08 17:34:58,482 - INFO - Params: {'subsample': 0.9, 'scale_pos_weight': 1.5, 'max_depth': 7, 'learning_rate': 0.2, 'colsample_bytree': 0.9}, Mean F1: 0.7188\n",
      "CV Search:   8%|▊         | 15/200 [00:22<05:01,  1.63s/it]2025-06-08 17:35:00,010 - INFO - Params: {'subsample': 1.0, 'scale_pos_weight': 1.5, 'max_depth': 7, 'learning_rate': 0.2, 'colsample_bytree': 1.0}, Mean F1: 0.7280\n",
      "CV Search:   8%|▊         | 16/200 [00:24<04:54,  1.60s/it]2025-06-08 17:35:01,514 - INFO - Params: {'subsample': 0.9, 'scale_pos_weight': 1.0, 'max_depth': 7, 'learning_rate': 0.2, 'colsample_bytree': 1.0}, Mean F1: 0.7121\n",
      "CV Search:   8%|▊         | 17/200 [00:25<04:47,  1.57s/it]2025-06-08 17:35:03,780 - INFO - Params: {'subsample': 0.8, 'scale_pos_weight': 1.0, 'max_depth': 8, 'learning_rate': 0.1, 'colsample_bytree': 0.9}, Mean F1: 0.7208\n",
      "CV Search:   9%|▉         | 18/200 [00:28<05:23,  1.78s/it]2025-06-08 17:35:05,591 - INFO - Params: {'subsample': 0.9, 'scale_pos_weight': 1.0, 'max_depth': 8, 'learning_rate': 0.15, 'colsample_bytree': 1.0}, Mean F1: 0.7173\n",
      "CV Search:  10%|▉         | 19/200 [00:29<05:23,  1.79s/it]2025-06-08 17:35:07,137 - INFO - Params: {'subsample': 0.8, 'scale_pos_weight': 1.5, 'max_depth': 7, 'learning_rate': 0.2, 'colsample_bytree': 0.9}, Mean F1: 0.7158\n",
      "CV Search:  10%|█         | 20/200 [00:31<05:08,  1.72s/it]2025-06-08 17:35:08,834 - INFO - Params: {'subsample': 0.8, 'scale_pos_weight': 2.0, 'max_depth': 8, 'learning_rate': 0.2, 'colsample_bytree': 1.0}, Mean F1: 0.7246\n",
      "CV Search:  10%|█         | 21/200 [00:33<05:06,  1.71s/it]2025-06-08 17:35:10,339 - INFO - Params: {'subsample': 0.9, 'scale_pos_weight': 2.0, 'max_depth': 6, 'learning_rate': 0.15, 'colsample_bytree': 1.0}, Mean F1: 0.7302\n",
      "CV Search:  11%|█         | 22/200 [00:34<04:53,  1.65s/it]2025-06-08 17:35:12,190 - INFO - Params: {'subsample': 0.9, 'scale_pos_weight': 2.0, 'max_depth': 8, 'learning_rate': 0.2, 'colsample_bytree': 0.9}, Mean F1: 0.7198\n",
      "CV Search:  12%|█▏        | 23/200 [00:36<05:02,  1.71s/it]2025-06-08 17:35:14,545 - INFO - Params: {'subsample': 0.9, 'scale_pos_weight': 2.0, 'max_depth': 8, 'learning_rate': 0.1, 'colsample_bytree': 0.9}, Mean F1: 0.7267\n",
      "CV Search:  12%|█▏        | 24/200 [00:38<05:34,  1.90s/it]2025-06-08 17:35:16,091 - INFO - Params: {'subsample': 1.0, 'scale_pos_weight': 1.5, 'max_depth': 8, 'learning_rate': 0.25, 'colsample_bytree': 0.9}, Mean F1: 0.7125\n",
      "CV Search:  12%|█▎        | 25/200 [00:40<05:14,  1.80s/it]2025-06-08 17:35:17,906 - INFO - Params: {'subsample': 1.0, 'scale_pos_weight': 1.0, 'max_depth': 7, 'learning_rate': 0.15, 'colsample_bytree': 1.0}, Mean F1: 0.7200\n",
      "CV Search:  13%|█▎        | 26/200 [00:42<05:13,  1.80s/it]2025-06-08 17:35:19,728 - INFO - Params: {'subsample': 1.0, 'scale_pos_weight': 2.0, 'max_depth': 8, 'learning_rate': 0.15, 'colsample_bytree': 1.0}, Mean F1: 0.7329\n",
      "CV Search:  14%|█▎        | 27/200 [00:43<05:13,  1.81s/it]2025-06-08 17:35:21,924 - INFO - Params: {'subsample': 0.9, 'scale_pos_weight': 2.0, 'max_depth': 7, 'learning_rate': 0.1, 'colsample_bytree': 0.9}, Mean F1: 0.7317\n",
      "CV Search:  14%|█▍        | 28/200 [00:46<05:30,  1.92s/it]2025-06-08 17:35:23,875 - INFO - Params: {'subsample': 0.8, 'scale_pos_weight': 1.0, 'max_depth': 8, 'learning_rate': 0.15, 'colsample_bytree': 0.9}, Mean F1: 0.7139\n",
      "CV Search:  14%|█▍        | 29/200 [00:48<05:30,  1.93s/it]2025-06-08 17:35:25,358 - INFO - Params: {'subsample': 0.9, 'scale_pos_weight': 1.0, 'max_depth': 7, 'learning_rate': 0.25, 'colsample_bytree': 1.0}, Mean F1: 0.7014\n",
      "CV Search:  15%|█▌        | 30/200 [00:49<05:05,  1.80s/it]2025-06-08 17:35:27,149 - INFO - Params: {'subsample': 0.8, 'scale_pos_weight': 1.0, 'max_depth': 6, 'learning_rate': 0.1, 'colsample_bytree': 1.0}, Mean F1: 0.7240\n",
      "CV Search:  16%|█▌        | 31/200 [00:51<05:03,  1.80s/it]2025-06-08 17:35:28,533 - INFO - Params: {'subsample': 0.9, 'scale_pos_weight': 1.0, 'max_depth': 6, 'learning_rate': 0.2, 'colsample_bytree': 0.9}, Mean F1: 0.7145\n",
      "CV Search:  16%|█▌        | 32/200 [00:52<04:40,  1.67s/it]2025-06-08 17:35:30,448 - INFO - Params: {'subsample': 0.9, 'scale_pos_weight': 1.5, 'max_depth': 6, 'learning_rate': 0.1, 'colsample_bytree': 1.0}, Mean F1: 0.7327\n",
      "CV Search:  16%|█▋        | 33/200 [00:54<04:51,  1.74s/it]2025-06-08 17:35:31,759 - INFO - Params: {'subsample': 0.8, 'scale_pos_weight': 1.5, 'max_depth': 6, 'learning_rate': 0.25, 'colsample_bytree': 1.0}, Mean F1: 0.7184\n",
      "CV Search:  17%|█▋        | 34/200 [00:56<04:28,  1.61s/it]2025-06-08 17:35:33,911 - INFO - Params: {'subsample': 0.9, 'scale_pos_weight': 2.0, 'max_depth': 7, 'learning_rate': 0.1, 'colsample_bytree': 1.0}, Mean F1: 0.7332\n",
      "CV Search:  18%|█▊        | 35/200 [00:58<04:53,  1.78s/it]2025-06-08 17:35:36,077 - INFO - Params: {'subsample': 1.0, 'scale_pos_weight': 1.0, 'max_depth': 8, 'learning_rate': 0.1, 'colsample_bytree': 1.0}, Mean F1: 0.7245\n",
      "CV Search:  18%|█▊        | 36/200 [01:00<05:10,  1.89s/it]2025-06-08 17:35:37,749 - INFO - Params: {'subsample': 0.8, 'scale_pos_weight': 1.5, 'max_depth': 8, 'learning_rate': 0.2, 'colsample_bytree': 0.9}, Mean F1: 0.7158\n",
      "CV Search:  18%|█▊        | 37/200 [01:02<04:57,  1.83s/it]2025-06-08 17:35:39,280 - INFO - Params: {'subsample': 0.8, 'scale_pos_weight': 1.0, 'max_depth': 6, 'learning_rate': 0.15, 'colsample_bytree': 1.0}, Mean F1: 0.7249\n",
      "CV Search:  19%|█▉        | 38/200 [01:03<04:41,  1.74s/it]2025-06-08 17:35:41,170 - INFO - Params: {'subsample': 0.9, 'scale_pos_weight': 1.0, 'max_depth': 7, 'learning_rate': 0.1, 'colsample_bytree': 1.0}, Mean F1: 0.7282\n",
      "CV Search:  20%|█▉        | 39/200 [01:05<04:47,  1.78s/it]2025-06-08 17:35:42,641 - INFO - Params: {'subsample': 1.0, 'scale_pos_weight': 2.0, 'max_depth': 7, 'learning_rate': 0.25, 'colsample_bytree': 0.9}, Mean F1: 0.7294\n",
      "CV Search:  20%|██        | 40/200 [01:06<04:30,  1.69s/it]2025-06-08 17:35:44,075 - INFO - Params: {'subsample': 0.8, 'scale_pos_weight': 2.0, 'max_depth': 7, 'learning_rate': 0.25, 'colsample_bytree': 0.9}, Mean F1: 0.7117\n",
      "CV Search:  20%|██        | 41/200 [01:08<04:16,  1.61s/it]2025-06-08 17:35:45,873 - INFO - Params: {'subsample': 0.9, 'scale_pos_weight': 1.5, 'max_depth': 8, 'learning_rate': 0.2, 'colsample_bytree': 1.0}, Mean F1: 0.7318\n",
      "CV Search:  21%|██        | 42/200 [01:10<04:23,  1.67s/it]2025-06-08 17:35:48,003 - INFO - Params: {'subsample': 0.8, 'scale_pos_weight': 1.0, 'max_depth': 7, 'learning_rate': 0.1, 'colsample_bytree': 1.0}, Mean F1: 0.7252\n",
      "CV Search:  22%|██▏       | 43/200 [01:12<04:43,  1.81s/it]2025-06-08 17:35:49,517 - INFO - Params: {'subsample': 0.8, 'scale_pos_weight': 1.5, 'max_depth': 7, 'learning_rate': 0.25, 'colsample_bytree': 0.9}, Mean F1: 0.7067\n",
      "CV Search:  22%|██▏       | 44/200 [01:13<04:28,  1.72s/it]2025-06-08 17:35:50,902 - INFO - Params: {'subsample': 0.8, 'scale_pos_weight': 1.5, 'max_depth': 6, 'learning_rate': 0.25, 'colsample_bytree': 0.9}, Mean F1: 0.7226\n",
      "CV Search:  22%|██▎       | 45/200 [01:15<04:10,  1.62s/it]2025-06-08 17:35:52,373 - INFO - Params: {'subsample': 1.0, 'scale_pos_weight': 1.5, 'max_depth': 7, 'learning_rate': 0.25, 'colsample_bytree': 0.9}, Mean F1: 0.7197\n",
      "CV Search:  23%|██▎       | 46/200 [01:16<04:02,  1.57s/it]2025-06-08 17:35:53,971 - INFO - Params: {'subsample': 1.0, 'scale_pos_weight': 1.0, 'max_depth': 6, 'learning_rate': 0.15, 'colsample_bytree': 1.0}, Mean F1: 0.7251\n",
      "CV Search:  24%|██▎       | 47/200 [01:18<04:02,  1.58s/it]2025-06-08 17:35:55,609 - INFO - Params: {'subsample': 0.9, 'scale_pos_weight': 1.5, 'max_depth': 8, 'learning_rate': 0.25, 'colsample_bytree': 1.0}, Mean F1: 0.7135\n",
      "CV Search:  24%|██▍       | 48/200 [01:19<04:02,  1.60s/it]2025-06-08 17:35:57,014 - INFO - Params: {'subsample': 1.0, 'scale_pos_weight': 1.5, 'max_depth': 6, 'learning_rate': 0.25, 'colsample_bytree': 0.9}, Mean F1: 0.7254\n",
      "CV Search:  24%|██▍       | 49/200 [01:21<03:52,  1.54s/it]2025-06-08 17:35:58,438 - INFO - Params: {'subsample': 0.9, 'scale_pos_weight': 1.0, 'max_depth': 6, 'learning_rate': 0.2, 'colsample_bytree': 1.0}, Mean F1: 0.7172\n",
      "CV Search:  25%|██▌       | 50/200 [01:22<03:45,  1.51s/it]2025-06-08 17:36:00,187 - INFO - Params: {'subsample': 0.8, 'scale_pos_weight': 1.0, 'max_depth': 8, 'learning_rate': 0.15, 'colsample_bytree': 1.0}, Mean F1: 0.7105\n",
      "CV Search:  26%|██▌       | 51/200 [01:24<03:55,  1.58s/it]2025-06-08 17:36:01,957 - INFO - Params: {'subsample': 1.0, 'scale_pos_weight': 1.0, 'max_depth': 7, 'learning_rate': 0.15, 'colsample_bytree': 0.9}, Mean F1: 0.7164\n",
      "CV Search:  26%|██▌       | 52/200 [01:26<04:02,  1.64s/it]2025-06-08 17:36:04,391 - INFO - Params: {'subsample': 0.8, 'scale_pos_weight': 2.0, 'max_depth': 8, 'learning_rate': 0.1, 'colsample_bytree': 0.9}, Mean F1: 0.7279\n",
      "CV Search:  26%|██▋       | 53/200 [01:28<04:35,  1.88s/it]2025-06-08 17:36:05,729 - INFO - Params: {'subsample': 1.0, 'scale_pos_weight': 2.0, 'max_depth': 6, 'learning_rate': 0.2, 'colsample_bytree': 1.0}, Mean F1: 0.7292\n",
      "CV Search:  27%|██▋       | 54/200 [01:29<04:10,  1.71s/it]2025-06-08 17:36:07,745 - INFO - Params: {'subsample': 0.8, 'scale_pos_weight': 1.5, 'max_depth': 7, 'learning_rate': 0.1, 'colsample_bytree': 1.0}, Mean F1: 0.7298\n",
      "CV Search:  28%|██▊       | 55/200 [01:31<04:21,  1.80s/it]2025-06-08 17:36:09,329 - INFO - Params: {'subsample': 1.0, 'scale_pos_weight': 1.0, 'max_depth': 6, 'learning_rate': 0.15, 'colsample_bytree': 0.9}, Mean F1: 0.7250\n",
      "CV Search:  28%|██▊       | 56/200 [01:33<04:10,  1.74s/it]2025-06-08 17:36:11,703 - INFO - Params: {'subsample': 0.9, 'scale_pos_weight': 1.0, 'max_depth': 8, 'learning_rate': 0.1, 'colsample_bytree': 0.9}, Mean F1: 0.7276\n",
      "CV Search:  28%|██▊       | 57/200 [01:35<04:35,  1.93s/it]2025-06-08 17:36:13,250 - INFO - Params: {'subsample': 0.8, 'scale_pos_weight': 2.0, 'max_depth': 7, 'learning_rate': 0.2, 'colsample_bytree': 0.9}, Mean F1: 0.7216\n",
      "CV Search:  29%|██▉       | 58/200 [01:37<04:17,  1.81s/it]2025-06-08 17:36:14,754 - INFO - Params: {'subsample': 0.9, 'scale_pos_weight': 2.0, 'max_depth': 7, 'learning_rate': 0.25, 'colsample_bytree': 0.9}, Mean F1: 0.7192\n",
      "CV Search:  30%|██▉       | 59/200 [01:39<04:02,  1.72s/it]2025-06-08 17:36:16,295 - INFO - Params: {'subsample': 0.8, 'scale_pos_weight': 2.0, 'max_depth': 6, 'learning_rate': 0.2, 'colsample_bytree': 0.9}, Mean F1: 0.7265\n",
      "CV Search:  30%|███       | 60/200 [01:40<03:53,  1.67s/it]2025-06-08 17:36:17,887 - INFO - Params: {'subsample': 1.0, 'scale_pos_weight': 1.5, 'max_depth': 7, 'learning_rate': 0.2, 'colsample_bytree': 0.9}, Mean F1: 0.7204\n",
      "CV Search:  30%|███       | 61/200 [01:42<03:48,  1.64s/it]2025-06-08 17:36:19,745 - INFO - Params: {'subsample': 1.0, 'scale_pos_weight': 1.5, 'max_depth': 6, 'learning_rate': 0.1, 'colsample_bytree': 0.9}, Mean F1: 0.7311\n",
      "CV Search:  31%|███       | 62/200 [01:43<03:55,  1.71s/it]2025-06-08 17:36:21,451 - INFO - Params: {'subsample': 0.9, 'scale_pos_weight': 1.0, 'max_depth': 6, 'learning_rate': 0.15, 'colsample_bytree': 1.0}, Mean F1: 0.7315\n",
      "CV Search:  32%|███▏      | 63/200 [01:45<03:53,  1.71s/it]2025-06-08 17:36:23,156 - INFO - Params: {'subsample': 1.0, 'scale_pos_weight': 1.0, 'max_depth': 6, 'learning_rate': 0.2, 'colsample_bytree': 0.9}, Mean F1: 0.7141\n",
      "CV Search:  32%|███▏      | 64/200 [01:47<03:52,  1.71s/it]2025-06-08 17:36:24,796 - INFO - Params: {'subsample': 0.9, 'scale_pos_weight': 1.0, 'max_depth': 8, 'learning_rate': 0.25, 'colsample_bytree': 0.9}, Mean F1: 0.6972\n",
      "CV Search:  32%|███▎      | 65/200 [01:49<03:47,  1.69s/it]2025-06-08 17:36:26,564 - INFO - Params: {'subsample': 1.0, 'scale_pos_weight': 2.0, 'max_depth': 7, 'learning_rate': 0.15, 'colsample_bytree': 1.0}, Mean F1: 0.7298\n",
      "CV Search:  33%|███▎      | 66/200 [01:50<03:49,  1.71s/it]2025-06-08 17:36:27,937 - INFO - Params: {'subsample': 0.9, 'scale_pos_weight': 1.0, 'max_depth': 6, 'learning_rate': 0.25, 'colsample_bytree': 0.9}, Mean F1: 0.7111\n",
      "CV Search:  34%|███▎      | 67/200 [01:52<03:34,  1.61s/it]2025-06-08 17:36:29,498 - INFO - Params: {'subsample': 1.0, 'scale_pos_weight': 1.0, 'max_depth': 7, 'learning_rate': 0.2, 'colsample_bytree': 0.9}, Mean F1: 0.7096\n",
      "CV Search:  34%|███▍      | 68/200 [01:53<03:30,  1.60s/it]2025-06-08 17:36:31,269 - INFO - Params: {'subsample': 0.9, 'scale_pos_weight': 1.0, 'max_depth': 6, 'learning_rate': 0.1, 'colsample_bytree': 1.0}, Mean F1: 0.7293\n",
      "CV Search:  34%|███▍      | 69/200 [01:55<03:35,  1.65s/it]2025-06-08 17:36:32,948 - INFO - Params: {'subsample': 0.8, 'scale_pos_weight': 1.5, 'max_depth': 8, 'learning_rate': 0.2, 'colsample_bytree': 1.0}, Mean F1: 0.7282\n",
      "CV Search:  35%|███▌      | 70/200 [01:57<03:35,  1.66s/it]2025-06-08 17:36:34,576 - INFO - Params: {'subsample': 0.9, 'scale_pos_weight': 1.5, 'max_depth': 6, 'learning_rate': 0.15, 'colsample_bytree': 0.9}, Mean F1: 0.7266\n",
      "CV Search:  36%|███▌      | 71/200 [01:58<03:32,  1.65s/it]2025-06-08 17:36:36,531 - INFO - Params: {'subsample': 0.8, 'scale_pos_weight': 1.5, 'max_depth': 7, 'learning_rate': 0.1, 'colsample_bytree': 0.9}, Mean F1: 0.7254\n",
      "CV Search:  36%|███▌      | 72/200 [02:00<03:42,  1.74s/it]2025-06-08 17:36:38,073 - INFO - Params: {'subsample': 1.0, 'scale_pos_weight': 2.0, 'max_depth': 6, 'learning_rate': 0.15, 'colsample_bytree': 0.9}, Mean F1: 0.7329\n",
      "CV Search:  36%|███▋      | 73/200 [02:02<03:33,  1.68s/it]2025-06-08 17:36:39,670 - INFO - Params: {'subsample': 0.9, 'scale_pos_weight': 1.0, 'max_depth': 6, 'learning_rate': 0.15, 'colsample_bytree': 0.9}, Mean F1: 0.7193\n",
      "CV Search:  37%|███▋      | 74/200 [02:03<03:28,  1.66s/it]2025-06-08 17:36:41,572 - INFO - Params: {'subsample': 0.8, 'scale_pos_weight': 2.0, 'max_depth': 7, 'learning_rate': 0.15, 'colsample_bytree': 0.9}, Mean F1: 0.7254\n",
      "CV Search:  38%|███▊      | 75/200 [02:05<03:36,  1.73s/it]2025-06-08 17:36:43,199 - INFO - Params: {'subsample': 1.0, 'scale_pos_weight': 1.0, 'max_depth': 8, 'learning_rate': 0.25, 'colsample_bytree': 1.0}, Mean F1: 0.7056\n",
      "CV Search:  38%|███▊      | 76/200 [02:07<03:30,  1.70s/it]2025-06-08 17:36:44,790 - INFO - Params: {'subsample': 1.0, 'scale_pos_weight': 1.0, 'max_depth': 8, 'learning_rate': 0.25, 'colsample_bytree': 0.9}, Mean F1: 0.7052\n",
      "CV Search:  38%|███▊      | 77/200 [02:09<03:24,  1.67s/it]2025-06-08 17:36:46,484 - INFO - Params: {'subsample': 0.8, 'scale_pos_weight': 1.5, 'max_depth': 7, 'learning_rate': 0.15, 'colsample_bytree': 1.0}, Mean F1: 0.7230\n",
      "CV Search:  39%|███▉      | 78/200 [02:10<03:24,  1.67s/it]2025-06-08 17:36:48,427 - INFO - Params: {'subsample': 0.8, 'scale_pos_weight': 2.0, 'max_depth': 8, 'learning_rate': 0.15, 'colsample_bytree': 0.9}, Mean F1: 0.7256\n",
      "CV Search:  40%|███▉      | 79/200 [02:12<03:32,  1.76s/it]2025-06-08 17:36:49,811 - INFO - Params: {'subsample': 1.0, 'scale_pos_weight': 2.0, 'max_depth': 7, 'learning_rate': 0.25, 'colsample_bytree': 1.0}, Mean F1: 0.7225\n",
      "CV Search:  40%|████      | 80/200 [02:14<03:17,  1.64s/it]2025-06-08 17:36:51,481 - INFO - Params: {'subsample': 0.8, 'scale_pos_weight': 1.0, 'max_depth': 8, 'learning_rate': 0.2, 'colsample_bytree': 1.0}, Mean F1: 0.7127\n",
      "CV Search:  40%|████      | 81/200 [02:15<03:16,  1.65s/it]2025-06-08 17:36:53,204 - INFO - Params: {'subsample': 0.9, 'scale_pos_weight': 1.5, 'max_depth': 8, 'learning_rate': 0.2, 'colsample_bytree': 0.9}, Mean F1: 0.7159\n",
      "CV Search:  41%|████      | 82/200 [02:17<03:17,  1.67s/it]2025-06-08 17:36:55,031 - INFO - Params: {'subsample': 1.0, 'scale_pos_weight': 1.5, 'max_depth': 7, 'learning_rate': 0.15, 'colsample_bytree': 0.9}, Mean F1: 0.7275\n",
      "CV Search:  42%|████▏     | 83/200 [02:19<03:21,  1.72s/it]2025-06-08 17:36:57,407 - INFO - Params: {'subsample': 0.8, 'scale_pos_weight': 2.0, 'max_depth': 8, 'learning_rate': 0.1, 'colsample_bytree': 1.0}, Mean F1: 0.7303\n",
      "CV Search:  42%|████▏     | 84/200 [02:21<03:42,  1.92s/it]2025-06-08 17:36:59,231 - INFO - Params: {'subsample': 0.8, 'scale_pos_weight': 2.0, 'max_depth': 8, 'learning_rate': 0.2, 'colsample_bytree': 0.9}, Mean F1: 0.7217\n",
      "CV Search:  42%|████▎     | 85/200 [02:23<03:37,  1.89s/it]2025-06-08 17:37:01,455 - INFO - Params: {'subsample': 0.9, 'scale_pos_weight': 1.0, 'max_depth': 8, 'learning_rate': 0.1, 'colsample_bytree': 1.0}, Mean F1: 0.7243\n",
      "CV Search:  43%|████▎     | 86/200 [02:25<03:46,  1.99s/it]2025-06-08 17:37:04,168 - INFO - Params: {'subsample': 1.0, 'scale_pos_weight': 2.0, 'max_depth': 8, 'learning_rate': 0.1, 'colsample_bytree': 0.9}, Mean F1: 0.7296\n",
      "CV Search:  44%|████▎     | 87/200 [02:28<04:09,  2.21s/it]2025-06-08 17:37:05,980 - INFO - Params: {'subsample': 1.0, 'scale_pos_weight': 2.0, 'max_depth': 6, 'learning_rate': 0.15, 'colsample_bytree': 1.0}, Mean F1: 0.7312\n",
      "CV Search:  44%|████▍     | 88/200 [02:30<03:53,  2.09s/it]2025-06-08 17:37:07,751 - INFO - Params: {'subsample': 1.0, 'scale_pos_weight': 1.5, 'max_depth': 6, 'learning_rate': 0.1, 'colsample_bytree': 1.0}, Mean F1: 0.7334\n",
      "CV Search:  44%|████▍     | 89/200 [02:32<03:41,  2.00s/it]2025-06-08 17:37:09,918 - INFO - Params: {'subsample': 1.0, 'scale_pos_weight': 2.0, 'max_depth': 7, 'learning_rate': 0.1, 'colsample_bytree': 1.0}, Mean F1: 0.7336\n",
      "CV Search:  45%|████▌     | 90/200 [02:34<03:45,  2.05s/it]2025-06-08 17:37:11,844 - INFO - Params: {'subsample': 1.0, 'scale_pos_weight': 1.0, 'max_depth': 6, 'learning_rate': 0.1, 'colsample_bytree': 0.9}, Mean F1: 0.7266\n",
      "CV Search:  46%|████▌     | 91/200 [02:36<03:38,  2.01s/it]2025-06-08 17:37:13,575 - INFO - Params: {'subsample': 1.0, 'scale_pos_weight': 1.5, 'max_depth': 8, 'learning_rate': 0.2, 'colsample_bytree': 0.9}, Mean F1: 0.7199\n",
      "CV Search:  46%|████▌     | 92/200 [02:37<03:27,  1.92s/it]2025-06-08 17:37:15,440 - INFO - Params: {'subsample': 0.9, 'scale_pos_weight': 1.0, 'max_depth': 8, 'learning_rate': 0.15, 'colsample_bytree': 0.9}, Mean F1: 0.7187\n",
      "CV Search:  46%|████▋     | 93/200 [02:39<03:24,  1.91s/it]2025-06-08 17:37:17,033 - INFO - Params: {'subsample': 0.9, 'scale_pos_weight': 1.5, 'max_depth': 7, 'learning_rate': 0.2, 'colsample_bytree': 1.0}, Mean F1: 0.7230\n",
      "CV Search:  47%|████▋     | 94/200 [02:41<03:12,  1.81s/it]2025-06-08 17:37:19,028 - INFO - Params: {'subsample': 0.9, 'scale_pos_weight': 2.0, 'max_depth': 6, 'learning_rate': 0.1, 'colsample_bytree': 1.0}, Mean F1: 0.7379\n",
      "CV Search:  48%|████▊     | 95/200 [02:43<03:16,  1.87s/it]2025-06-08 17:37:20,515 - INFO - Params: {'subsample': 0.8, 'scale_pos_weight': 1.0, 'max_depth': 7, 'learning_rate': 0.25, 'colsample_bytree': 0.9}, Mean F1: 0.7084\n",
      "CV Search:  48%|████▊     | 96/200 [02:44<03:02,  1.75s/it]2025-06-08 17:37:21,902 - INFO - Params: {'subsample': 0.9, 'scale_pos_weight': 1.5, 'max_depth': 6, 'learning_rate': 0.25, 'colsample_bytree': 0.9}, Mean F1: 0.7254\n",
      "CV Search:  48%|████▊     | 97/200 [02:46<02:49,  1.64s/it]2025-06-08 17:37:23,529 - INFO - Params: {'subsample': 0.8, 'scale_pos_weight': 1.0, 'max_depth': 7, 'learning_rate': 0.15, 'colsample_bytree': 1.0}, Mean F1: 0.7173\n",
      "CV Search:  49%|████▉     | 98/200 [02:47<02:47,  1.64s/it]2025-06-08 17:37:25,315 - INFO - Params: {'subsample': 0.8, 'scale_pos_weight': 1.0, 'max_depth': 7, 'learning_rate': 0.15, 'colsample_bytree': 0.9}, Mean F1: 0.7165\n",
      "CV Search:  50%|████▉     | 99/200 [02:49<02:49,  1.68s/it]2025-06-08 17:37:27,603 - INFO - Params: {'subsample': 1.0, 'scale_pos_weight': 1.5, 'max_depth': 7, 'learning_rate': 0.1, 'colsample_bytree': 1.0}, Mean F1: 0.7303\n",
      "CV Search:  50%|█████     | 100/200 [02:51<03:06,  1.86s/it]2025-06-08 17:37:29,380 - INFO - Params: {'subsample': 0.9, 'scale_pos_weight': 2.0, 'max_depth': 6, 'learning_rate': 0.2, 'colsample_bytree': 0.9}, Mean F1: 0.7266\n",
      "CV Search:  50%|█████     | 101/200 [02:53<03:01,  1.84s/it]2025-06-08 17:37:31,824 - INFO - Params: {'subsample': 0.9, 'scale_pos_weight': 1.5, 'max_depth': 8, 'learning_rate': 0.1, 'colsample_bytree': 0.9}, Mean F1: 0.7273\n",
      "CV Search:  51%|█████     | 102/200 [02:56<03:17,  2.02s/it]2025-06-08 17:37:33,480 - INFO - Params: {'subsample': 0.8, 'scale_pos_weight': 2.0, 'max_depth': 6, 'learning_rate': 0.15, 'colsample_bytree': 1.0}, Mean F1: 0.7300\n",
      "CV Search:  52%|█████▏    | 103/200 [02:57<03:05,  1.91s/it]2025-06-08 17:37:35,376 - INFO - Params: {'subsample': 1.0, 'scale_pos_weight': 1.0, 'max_depth': 7, 'learning_rate': 0.1, 'colsample_bytree': 1.0}, Mean F1: 0.7289\n",
      "CV Search:  52%|█████▏    | 104/200 [02:59<03:03,  1.91s/it]2025-06-08 17:37:37,013 - INFO - Params: {'subsample': 0.8, 'scale_pos_weight': 2.0, 'max_depth': 6, 'learning_rate': 0.15, 'colsample_bytree': 0.9}, Mean F1: 0.7279\n",
      "CV Search:  52%|█████▎    | 105/200 [03:01<02:53,  1.83s/it]2025-06-08 17:37:39,297 - INFO - Params: {'subsample': 1.0, 'scale_pos_weight': 1.0, 'max_depth': 7, 'learning_rate': 0.1, 'colsample_bytree': 0.9}, Mean F1: 0.7243\n",
      "CV Search:  53%|█████▎    | 106/200 [03:03<03:04,  1.96s/it]2025-06-08 17:37:40,857 - INFO - Params: {'subsample': 0.8, 'scale_pos_weight': 1.5, 'max_depth': 8, 'learning_rate': 0.25, 'colsample_bytree': 1.0}, Mean F1: 0.7132\n",
      "CV Search:  54%|█████▎    | 107/200 [03:05<02:51,  1.84s/it]2025-06-08 17:37:42,370 - INFO - Params: {'subsample': 0.8, 'scale_pos_weight': 1.0, 'max_depth': 7, 'learning_rate': 0.2, 'colsample_bytree': 1.0}, Mean F1: 0.7084\n",
      "CV Search:  54%|█████▍    | 108/200 [03:06<02:40,  1.74s/it]2025-06-08 17:37:44,325 - INFO - Params: {'subsample': 0.8, 'scale_pos_weight': 2.0, 'max_depth': 6, 'learning_rate': 0.1, 'colsample_bytree': 0.9}, Mean F1: 0.7318\n",
      "CV Search:  55%|█████▍    | 109/200 [03:08<02:44,  1.81s/it]2025-06-08 17:37:46,000 - INFO - Params: {'subsample': 0.8, 'scale_pos_weight': 1.0, 'max_depth': 6, 'learning_rate': 0.15, 'colsample_bytree': 0.9}, Mean F1: 0.7169\n",
      "CV Search:  55%|█████▌    | 110/200 [03:10<02:39,  1.77s/it]2025-06-08 17:37:47,795 - INFO - Params: {'subsample': 0.8, 'scale_pos_weight': 2.0, 'max_depth': 7, 'learning_rate': 0.15, 'colsample_bytree': 1.0}, Mean F1: 0.7248\n",
      "CV Search:  56%|█████▌    | 111/200 [03:12<02:38,  1.78s/it]2025-06-08 17:37:49,284 - INFO - Params: {'subsample': 0.8, 'scale_pos_weight': 1.0, 'max_depth': 8, 'learning_rate': 0.25, 'colsample_bytree': 1.0}, Mean F1: 0.7026\n",
      "CV Search:  56%|█████▌    | 112/200 [03:13<02:28,  1.69s/it]2025-06-08 17:37:50,980 - INFO - Params: {'subsample': 0.9, 'scale_pos_weight': 1.5, 'max_depth': 7, 'learning_rate': 0.15, 'colsample_bytree': 1.0}, Mean F1: 0.7268\n",
      "CV Search:  56%|█████▋    | 113/200 [03:15<02:27,  1.69s/it]2025-06-08 17:37:52,874 - INFO - Params: {'subsample': 0.9, 'scale_pos_weight': 1.5, 'max_depth': 6, 'learning_rate': 0.1, 'colsample_bytree': 0.9}, Mean F1: 0.7300\n",
      "CV Search:  57%|█████▋    | 114/200 [03:17<02:30,  1.75s/it]2025-06-08 17:37:54,450 - INFO - Params: {'subsample': 1.0, 'scale_pos_weight': 1.5, 'max_depth': 6, 'learning_rate': 0.15, 'colsample_bytree': 0.9}, Mean F1: 0.7322\n",
      "CV Search:  57%|█████▊    | 115/200 [03:18<02:24,  1.70s/it]2025-06-08 17:37:55,937 - INFO - Params: {'subsample': 0.8, 'scale_pos_weight': 2.0, 'max_depth': 7, 'learning_rate': 0.25, 'colsample_bytree': 1.0}, Mean F1: 0.7212\n",
      "CV Search:  58%|█████▊    | 116/200 [03:20<02:17,  1.64s/it]2025-06-08 17:37:57,811 - INFO - Params: {'subsample': 0.8, 'scale_pos_weight': 1.5, 'max_depth': 8, 'learning_rate': 0.15, 'colsample_bytree': 1.0}, Mean F1: 0.7287\n",
      "CV Search:  58%|█████▊    | 117/200 [03:22<02:21,  1.71s/it]2025-06-08 17:37:59,419 - INFO - Params: {'subsample': 1.0, 'scale_pos_weight': 1.0, 'max_depth': 7, 'learning_rate': 0.2, 'colsample_bytree': 1.0}, Mean F1: 0.7135\n",
      "CV Search:  59%|█████▉    | 118/200 [03:23<02:17,  1.68s/it]2025-06-08 17:38:01,297 - INFO - Params: {'subsample': 1.0, 'scale_pos_weight': 1.0, 'max_depth': 8, 'learning_rate': 0.15, 'colsample_bytree': 1.0}, Mean F1: 0.7126\n",
      "CV Search:  60%|█████▉    | 119/200 [03:25<02:20,  1.74s/it]2025-06-08 17:38:03,232 - INFO - Params: {'subsample': 0.8, 'scale_pos_weight': 2.0, 'max_depth': 6, 'learning_rate': 0.1, 'colsample_bytree': 1.0}, Mean F1: 0.7321\n",
      "CV Search:  60%|██████    | 120/200 [03:27<02:23,  1.80s/it]2025-06-08 17:38:05,432 - INFO - Params: {'subsample': 0.9, 'scale_pos_weight': 1.0, 'max_depth': 7, 'learning_rate': 0.1, 'colsample_bytree': 0.9}, Mean F1: 0.7238\n",
      "CV Search:  60%|██████    | 121/200 [03:29<02:31,  1.92s/it]2025-06-08 17:38:07,059 - INFO - Params: {'subsample': 1.0, 'scale_pos_weight': 2.0, 'max_depth': 6, 'learning_rate': 0.2, 'colsample_bytree': 0.9}, Mean F1: 0.7267\n",
      "CV Search:  61%|██████    | 122/200 [03:31<02:22,  1.83s/it]2025-06-08 17:38:09,432 - INFO - Params: {'subsample': 0.8, 'scale_pos_weight': 1.0, 'max_depth': 8, 'learning_rate': 0.1, 'colsample_bytree': 1.0}, Mean F1: 0.7246\n",
      "CV Search:  62%|██████▏   | 123/200 [03:33<02:33,  1.99s/it]2025-06-08 17:38:10,810 - INFO - Params: {'subsample': 0.9, 'scale_pos_weight': 1.5, 'max_depth': 6, 'learning_rate': 0.25, 'colsample_bytree': 1.0}, Mean F1: 0.7213\n",
      "CV Search:  62%|██████▏   | 124/200 [03:35<02:17,  1.81s/it]2025-06-08 17:38:12,312 - INFO - Params: {'subsample': 0.9, 'scale_pos_weight': 2.0, 'max_depth': 7, 'learning_rate': 0.2, 'colsample_bytree': 1.0}, Mean F1: 0.7250\n",
      "CV Search:  62%|██████▎   | 125/200 [03:36<02:08,  1.72s/it]2025-06-08 17:38:14,092 - INFO - Params: {'subsample': 0.8, 'scale_pos_weight': 1.0, 'max_depth': 6, 'learning_rate': 0.1, 'colsample_bytree': 0.9}, Mean F1: 0.7246\n",
      "CV Search:  63%|██████▎   | 126/200 [03:38<02:08,  1.74s/it]2025-06-08 17:38:15,406 - INFO - Params: {'subsample': 1.0, 'scale_pos_weight': 1.5, 'max_depth': 6, 'learning_rate': 0.25, 'colsample_bytree': 1.0}, Mean F1: 0.7285\n",
      "CV Search:  64%|██████▎   | 127/200 [03:39<01:57,  1.61s/it]2025-06-08 17:38:16,858 - INFO - Params: {'subsample': 1.0, 'scale_pos_weight': 1.0, 'max_depth': 6, 'learning_rate': 0.2, 'colsample_bytree': 1.0}, Mean F1: 0.7174\n",
      "CV Search:  64%|██████▍   | 128/200 [03:41<01:52,  1.56s/it]2025-06-08 17:38:18,421 - INFO - Params: {'subsample': 0.9, 'scale_pos_weight': 2.0, 'max_depth': 7, 'learning_rate': 0.2, 'colsample_bytree': 0.9}, Mean F1: 0.7213\n",
      "CV Search:  64%|██████▍   | 129/200 [03:42<01:50,  1.56s/it]2025-06-08 17:38:19,796 - INFO - Params: {'subsample': 1.0, 'scale_pos_weight': 1.5, 'max_depth': 6, 'learning_rate': 0.2, 'colsample_bytree': 1.0}, Mean F1: 0.7313\n",
      "CV Search:  65%|██████▌   | 130/200 [03:44<01:45,  1.51s/it]2025-06-08 17:38:21,343 - INFO - Params: {'subsample': 0.9, 'scale_pos_weight': 1.0, 'max_depth': 7, 'learning_rate': 0.2, 'colsample_bytree': 0.9}, Mean F1: 0.7109\n",
      "CV Search:  66%|██████▌   | 131/200 [03:45<01:44,  1.52s/it]2025-06-08 17:38:23,060 - INFO - Params: {'subsample': 1.0, 'scale_pos_weight': 2.0, 'max_depth': 7, 'learning_rate': 0.15, 'colsample_bytree': 0.9}, Mean F1: 0.7321\n",
      "CV Search:  66%|██████▌   | 132/200 [03:47<01:47,  1.58s/it]2025-06-08 17:38:24,529 - INFO - Params: {'subsample': 1.0, 'scale_pos_weight': 1.5, 'max_depth': 6, 'learning_rate': 0.15, 'colsample_bytree': 1.0}, Mean F1: 0.7312\n",
      "CV Search:  66%|██████▋   | 133/200 [03:48<01:43,  1.55s/it]2025-06-08 17:38:26,264 - INFO - Params: {'subsample': 0.9, 'scale_pos_weight': 1.5, 'max_depth': 7, 'learning_rate': 0.15, 'colsample_bytree': 0.9}, Mean F1: 0.7269\n",
      "CV Search:  67%|██████▋   | 134/200 [03:50<01:45,  1.60s/it]2025-06-08 17:38:28,345 - INFO - Params: {'subsample': 0.8, 'scale_pos_weight': 2.0, 'max_depth': 7, 'learning_rate': 0.1, 'colsample_bytree': 1.0}, Mean F1: 0.7284\n",
      "CV Search:  68%|██████▊   | 135/200 [03:52<01:53,  1.75s/it]2025-06-08 17:38:30,827 - INFO - Params: {'subsample': 1.0, 'scale_pos_weight': 1.5, 'max_depth': 8, 'learning_rate': 0.1, 'colsample_bytree': 0.9}, Mean F1: 0.7263\n",
      "CV Search:  68%|██████▊   | 136/200 [03:55<02:05,  1.97s/it]2025-06-08 17:38:32,220 - INFO - Params: {'subsample': 0.8, 'scale_pos_weight': 1.0, 'max_depth': 6, 'learning_rate': 0.2, 'colsample_bytree': 1.0}, Mean F1: 0.7134\n",
      "CV Search:  68%|██████▊   | 137/200 [03:56<01:53,  1.79s/it]2025-06-08 17:38:34,091 - INFO - Params: {'subsample': 1.0, 'scale_pos_weight': 1.5, 'max_depth': 8, 'learning_rate': 0.15, 'colsample_bytree': 1.0}, Mean F1: 0.7250\n",
      "CV Search:  69%|██████▉   | 138/200 [03:58<01:52,  1.82s/it]2025-06-08 17:38:35,447 - INFO - Params: {'subsample': 0.8, 'scale_pos_weight': 1.0, 'max_depth': 6, 'learning_rate': 0.25, 'colsample_bytree': 0.9}, Mean F1: 0.7081\n",
      "CV Search:  70%|██████▉   | 139/200 [03:59<01:42,  1.68s/it]2025-06-08 17:38:37,172 - INFO - Params: {'subsample': 0.8, 'scale_pos_weight': 1.5, 'max_depth': 7, 'learning_rate': 0.15, 'colsample_bytree': 0.9}, Mean F1: 0.7255\n",
      "CV Search:  70%|███████   | 140/200 [04:01<01:41,  1.69s/it]2025-06-08 17:38:38,820 - INFO - Params: {'subsample': 0.9, 'scale_pos_weight': 1.0, 'max_depth': 8, 'learning_rate': 0.2, 'colsample_bytree': 1.0}, Mean F1: 0.7090\n",
      "CV Search:  70%|███████   | 141/200 [04:03<01:39,  1.68s/it]2025-06-08 17:38:40,783 - INFO - Params: {'subsample': 1.0, 'scale_pos_weight': 1.0, 'max_depth': 8, 'learning_rate': 0.15, 'colsample_bytree': 0.9}, Mean F1: 0.7210\n",
      "CV Search:  71%|███████   | 142/200 [04:05<01:42,  1.76s/it]2025-06-08 17:38:42,278 - INFO - Params: {'subsample': 0.9, 'scale_pos_weight': 1.5, 'max_depth': 7, 'learning_rate': 0.25, 'colsample_bytree': 0.9}, Mean F1: 0.7082\n",
      "CV Search:  72%|███████▏  | 143/200 [04:06<01:35,  1.68s/it]2025-06-08 17:38:43,721 - INFO - Params: {'subsample': 0.8, 'scale_pos_weight': 1.5, 'max_depth': 6, 'learning_rate': 0.2, 'colsample_bytree': 1.0}, Mean F1: 0.7248\n",
      "CV Search:  72%|███████▏  | 144/200 [04:07<01:30,  1.61s/it]2025-06-08 17:38:45,547 - INFO - Params: {'subsample': 0.9, 'scale_pos_weight': 2.0, 'max_depth': 7, 'learning_rate': 0.15, 'colsample_bytree': 0.9}, Mean F1: 0.7262\n",
      "CV Search:  72%|███████▎  | 145/200 [04:09<01:32,  1.68s/it]2025-06-08 17:38:47,341 - INFO - Params: {'subsample': 0.9, 'scale_pos_weight': 1.0, 'max_depth': 7, 'learning_rate': 0.15, 'colsample_bytree': 1.0}, Mean F1: 0.7200\n",
      "CV Search:  73%|███████▎  | 146/200 [04:11<01:32,  1.71s/it]2025-06-08 17:38:48,782 - INFO - Params: {'subsample': 1.0, 'scale_pos_weight': 2.0, 'max_depth': 6, 'learning_rate': 0.25, 'colsample_bytree': 1.0}, Mean F1: 0.7256\n",
      "CV Search:  74%|███████▎  | 147/200 [04:13<01:26,  1.63s/it]2025-06-08 17:38:50,654 - INFO - Params: {'subsample': 0.8, 'scale_pos_weight': 1.5, 'max_depth': 6, 'learning_rate': 0.1, 'colsample_bytree': 0.9}, Mean F1: 0.7296\n",
      "CV Search:  74%|███████▍  | 148/200 [04:14<01:28,  1.70s/it]2025-06-08 17:38:52,250 - INFO - Params: {'subsample': 0.8, 'scale_pos_weight': 2.0, 'max_depth': 8, 'learning_rate': 0.25, 'colsample_bytree': 0.9}, Mean F1: 0.7096\n",
      "CV Search:  74%|███████▍  | 149/200 [04:16<01:25,  1.67s/it]2025-06-08 17:38:54,234 - INFO - Params: {'subsample': 1.0, 'scale_pos_weight': 2.0, 'max_depth': 8, 'learning_rate': 0.15, 'colsample_bytree': 0.9}, Mean F1: 0.7312\n",
      "CV Search:  75%|███████▌  | 150/200 [04:18<01:28,  1.76s/it]2025-06-08 17:38:56,528 - INFO - Params: {'subsample': 0.9, 'scale_pos_weight': 2.0, 'max_depth': 8, 'learning_rate': 0.1, 'colsample_bytree': 1.0}, Mean F1: 0.7355\n",
      "CV Search:  76%|███████▌  | 151/200 [04:20<01:34,  1.92s/it]2025-06-08 17:38:57,906 - INFO - Params: {'subsample': 0.8, 'scale_pos_weight': 2.0, 'max_depth': 6, 'learning_rate': 0.25, 'colsample_bytree': 1.0}, Mean F1: 0.7301\n",
      "CV Search:  76%|███████▌  | 152/200 [04:22<01:24,  1.76s/it]2025-06-08 17:38:59,281 - INFO - Params: {'subsample': 0.8, 'scale_pos_weight': 2.0, 'max_depth': 6, 'learning_rate': 0.2, 'colsample_bytree': 1.0}, Mean F1: 0.7268\n",
      "CV Search:  76%|███████▋  | 153/200 [04:23<01:17,  1.64s/it]2025-06-08 17:39:00,717 - INFO - Params: {'subsample': 1.0, 'scale_pos_weight': 1.0, 'max_depth': 7, 'learning_rate': 0.25, 'colsample_bytree': 1.0}, Mean F1: 0.7020\n",
      "CV Search:  77%|███████▋  | 154/200 [04:24<01:12,  1.58s/it]2025-06-08 17:39:02,645 - INFO - Params: {'subsample': 0.9, 'scale_pos_weight': 1.5, 'max_depth': 8, 'learning_rate': 0.15, 'colsample_bytree': 0.9}, Mean F1: 0.7216\n",
      "CV Search:  78%|███████▊  | 155/200 [04:26<01:15,  1.69s/it]2025-06-08 17:39:04,407 - INFO - Params: {'subsample': 1.0, 'scale_pos_weight': 2.0, 'max_depth': 8, 'learning_rate': 0.2, 'colsample_bytree': 0.9}, Mean F1: 0.7234\n",
      "CV Search:  78%|███████▊  | 156/200 [04:28<01:15,  1.71s/it]2025-06-08 17:39:05,936 - INFO - Params: {'subsample': 0.9, 'scale_pos_weight': 2.0, 'max_depth': 6, 'learning_rate': 0.15, 'colsample_bytree': 0.9}, Mean F1: 0.7307\n",
      "CV Search:  78%|███████▊  | 157/200 [04:30<01:11,  1.65s/it]2025-06-08 17:39:07,983 - INFO - Params: {'subsample': 0.9, 'scale_pos_weight': 2.0, 'max_depth': 6, 'learning_rate': 0.1, 'colsample_bytree': 0.9}, Mean F1: 0.7296\n",
      "CV Search:  79%|███████▉  | 158/200 [04:32<01:14,  1.77s/it]2025-06-08 17:39:09,704 - INFO - Params: {'subsample': 1.0, 'scale_pos_weight': 1.0, 'max_depth': 6, 'learning_rate': 0.1, 'colsample_bytree': 1.0}, Mean F1: 0.7302\n",
      "CV Search:  80%|███████▉  | 159/200 [04:33<01:12,  1.76s/it]2025-06-08 17:39:11,211 - INFO - Params: {'subsample': 0.9, 'scale_pos_weight': 1.0, 'max_depth': 7, 'learning_rate': 0.25, 'colsample_bytree': 0.9}, Mean F1: 0.7164\n",
      "CV Search:  80%|████████  | 160/200 [04:35<01:07,  1.68s/it]2025-06-08 17:39:12,595 - INFO - Params: {'subsample': 1.0, 'scale_pos_weight': 1.0, 'max_depth': 6, 'learning_rate': 0.25, 'colsample_bytree': 0.9}, Mean F1: 0.7133\n",
      "CV Search:  80%|████████  | 161/200 [04:36<01:02,  1.59s/it]2025-06-08 17:39:13,983 - INFO - Params: {'subsample': 1.0, 'scale_pos_weight': 1.0, 'max_depth': 6, 'learning_rate': 0.25, 'colsample_bytree': 1.0}, Mean F1: 0.7157\n",
      "CV Search:  81%|████████  | 162/200 [04:38<00:58,  1.53s/it]2025-06-08 17:39:15,503 - INFO - Params: {'subsample': 0.9, 'scale_pos_weight': 2.0, 'max_depth': 6, 'learning_rate': 0.25, 'colsample_bytree': 1.0}, Mean F1: 0.7262\n",
      "CV Search:  82%|████████▏ | 163/200 [04:39<00:56,  1.53s/it]2025-06-08 17:39:16,936 - INFO - Params: {'subsample': 1.0, 'scale_pos_weight': 2.0, 'max_depth': 6, 'learning_rate': 0.25, 'colsample_bytree': 0.9}, Mean F1: 0.7254\n",
      "CV Search:  82%|████████▏ | 164/200 [04:41<00:53,  1.50s/it]2025-06-08 17:39:18,937 - INFO - Params: {'subsample': 1.0, 'scale_pos_weight': 2.0, 'max_depth': 6, 'learning_rate': 0.1, 'colsample_bytree': 0.9}, Mean F1: 0.7327\n",
      "CV Search:  82%|████████▎ | 165/200 [04:43<00:57,  1.65s/it]2025-06-08 17:39:21,080 - INFO - Params: {'subsample': 0.9, 'scale_pos_weight': 1.5, 'max_depth': 7, 'learning_rate': 0.1, 'colsample_bytree': 0.9}, Mean F1: 0.7298\n",
      "CV Search:  83%|████████▎ | 166/200 [04:45<01:01,  1.80s/it]2025-06-08 17:39:22,579 - INFO - Params: {'subsample': 1.0, 'scale_pos_weight': 1.5, 'max_depth': 6, 'learning_rate': 0.2, 'colsample_bytree': 0.9}, Mean F1: 0.7268\n",
      "CV Search:  84%|████████▎ | 167/200 [04:46<00:56,  1.71s/it]2025-06-08 17:39:24,232 - INFO - Params: {'subsample': 1.0, 'scale_pos_weight': 1.5, 'max_depth': 8, 'learning_rate': 0.2, 'colsample_bytree': 1.0}, Mean F1: 0.7256\n",
      "CV Search:  84%|████████▍ | 168/200 [04:48<00:54,  1.69s/it]2025-06-08 17:39:26,434 - INFO - Params: {'subsample': 1.0, 'scale_pos_weight': 1.5, 'max_depth': 8, 'learning_rate': 0.1, 'colsample_bytree': 1.0}, Mean F1: 0.7294\n",
      "CV Search:  84%|████████▍ | 169/200 [04:50<00:57,  1.84s/it]2025-06-08 17:39:28,566 - INFO - Params: {'subsample': 1.0, 'scale_pos_weight': 2.0, 'max_depth': 7, 'learning_rate': 0.1, 'colsample_bytree': 0.9}, Mean F1: 0.7328\n",
      "CV Search:  85%|████████▌ | 170/200 [04:52<00:57,  1.93s/it]2025-06-08 17:39:30,057 - INFO - Params: {'subsample': 0.9, 'scale_pos_weight': 1.5, 'max_depth': 6, 'learning_rate': 0.2, 'colsample_bytree': 1.0}, Mean F1: 0.7317\n",
      "CV Search:  86%|████████▌ | 171/200 [04:54<00:52,  1.80s/it]2025-06-08 17:39:31,806 - INFO - Params: {'subsample': 0.8, 'scale_pos_weight': 1.0, 'max_depth': 8, 'learning_rate': 0.2, 'colsample_bytree': 0.9}, Mean F1: 0.7034\n",
      "CV Search:  86%|████████▌ | 172/200 [04:56<00:49,  1.78s/it]2025-06-08 17:39:33,149 - INFO - Params: {'subsample': 0.8, 'scale_pos_weight': 1.0, 'max_depth': 6, 'learning_rate': 0.25, 'colsample_bytree': 1.0}, Mean F1: 0.7074\n",
      "CV Search:  86%|████████▋ | 173/200 [04:57<00:44,  1.65s/it]2025-06-08 17:39:35,437 - INFO - Params: {'subsample': 1.0, 'scale_pos_weight': 2.0, 'max_depth': 8, 'learning_rate': 0.1, 'colsample_bytree': 1.0}, Mean F1: 0.7326\n",
      "CV Search:  87%|████████▋ | 174/200 [04:59<00:47,  1.84s/it]2025-06-08 17:39:36,985 - INFO - Params: {'subsample': 0.9, 'scale_pos_weight': 2.0, 'max_depth': 8, 'learning_rate': 0.25, 'colsample_bytree': 1.0}, Mean F1: 0.7120\n",
      "CV Search:  88%|████████▊ | 175/200 [05:01<00:43,  1.75s/it]2025-06-08 17:39:38,470 - INFO - Params: {'subsample': 0.8, 'scale_pos_weight': 1.0, 'max_depth': 7, 'learning_rate': 0.25, 'colsample_bytree': 1.0}, Mean F1: 0.7118\n",
      "CV Search:  88%|████████▊ | 176/200 [05:02<00:40,  1.67s/it]2025-06-08 17:39:39,966 - INFO - Params: {'subsample': 0.8, 'scale_pos_weight': 1.0, 'max_depth': 7, 'learning_rate': 0.2, 'colsample_bytree': 0.9}, Mean F1: 0.7094\n",
      "CV Search:  88%|████████▊ | 177/200 [05:04<00:37,  1.62s/it]2025-06-08 17:39:41,420 - INFO - Params: {'subsample': 0.8, 'scale_pos_weight': 1.0, 'max_depth': 6, 'learning_rate': 0.2, 'colsample_bytree': 0.9}, Mean F1: 0.7106\n",
      "CV Search:  89%|████████▉ | 178/200 [05:05<00:34,  1.57s/it]2025-06-08 17:39:43,091 - INFO - Params: {'subsample': 1.0, 'scale_pos_weight': 2.0, 'max_depth': 8, 'learning_rate': 0.25, 'colsample_bytree': 0.9}, Mean F1: 0.7170\n",
      "CV Search:  90%|████████▉ | 179/200 [05:07<00:33,  1.60s/it]2025-06-08 17:39:45,061 - INFO - Params: {'subsample': 1.0, 'scale_pos_weight': 1.5, 'max_depth': 8, 'learning_rate': 0.15, 'colsample_bytree': 0.9}, Mean F1: 0.7266\n",
      "CV Search:  90%|█████████ | 180/200 [05:09<00:34,  1.71s/it]2025-06-08 17:39:46,547 - INFO - Params: {'subsample': 0.8, 'scale_pos_weight': 1.5, 'max_depth': 7, 'learning_rate': 0.2, 'colsample_bytree': 1.0}, Mean F1: 0.7228\n",
      "CV Search:  90%|█████████ | 181/200 [05:10<00:31,  1.64s/it]2025-06-08 17:39:48,110 - INFO - Params: {'subsample': 1.0, 'scale_pos_weight': 1.5, 'max_depth': 8, 'learning_rate': 0.25, 'colsample_bytree': 1.0}, Mean F1: 0.7140\n",
      "CV Search:  91%|█████████ | 182/200 [05:12<00:29,  1.62s/it]2025-06-08 17:39:49,563 - INFO - Params: {'subsample': 0.9, 'scale_pos_weight': 2.0, 'max_depth': 6, 'learning_rate': 0.2, 'colsample_bytree': 1.0}, Mean F1: 0.7309\n",
      "CV Search:  92%|█████████▏| 183/200 [05:13<00:26,  1.57s/it]2025-06-08 17:39:50,981 - INFO - Params: {'subsample': 0.9, 'scale_pos_weight': 1.5, 'max_depth': 6, 'learning_rate': 0.2, 'colsample_bytree': 0.9}, Mean F1: 0.7270\n",
      "CV Search:  92%|█████████▏| 184/200 [05:15<00:24,  1.52s/it]2025-06-08 17:39:52,842 - INFO - Params: {'subsample': 0.8, 'scale_pos_weight': 1.5, 'max_depth': 8, 'learning_rate': 0.15, 'colsample_bytree': 0.9}, Mean F1: 0.7189\n",
      "CV Search:  92%|█████████▎| 185/200 [05:17<00:24,  1.62s/it]2025-06-08 17:39:54,202 - INFO - Params: {'subsample': 0.9, 'scale_pos_weight': 2.0, 'max_depth': 6, 'learning_rate': 0.25, 'colsample_bytree': 0.9}, Mean F1: 0.7261\n",
      "CV Search:  93%|█████████▎| 186/200 [05:18<00:21,  1.55s/it]2025-06-08 17:39:56,420 - INFO - Params: {'subsample': 0.8, 'scale_pos_weight': 1.5, 'max_depth': 8, 'learning_rate': 0.1, 'colsample_bytree': 0.9}, Mean F1: 0.7225\n",
      "CV Search:  94%|█████████▎| 187/200 [05:20<00:22,  1.75s/it]2025-06-08 17:39:58,000 - INFO - Params: {'subsample': 0.8, 'scale_pos_weight': 1.5, 'max_depth': 6, 'learning_rate': 0.2, 'colsample_bytree': 0.9}, Mean F1: 0.7177\n",
      "CV Search:  94%|█████████▍| 188/200 [05:22<00:20,  1.70s/it]2025-06-08 17:39:59,811 - INFO - Params: {'subsample': 0.9, 'scale_pos_weight': 2.0, 'max_depth': 8, 'learning_rate': 0.15, 'colsample_bytree': 1.0}, Mean F1: 0.7263\n",
      "CV Search:  94%|█████████▍| 189/200 [05:24<00:19,  1.73s/it]2025-06-08 17:40:01,361 - INFO - Params: {'subsample': 0.9, 'scale_pos_weight': 1.0, 'max_depth': 8, 'learning_rate': 0.25, 'colsample_bytree': 1.0}, Mean F1: 0.7085\n",
      "CV Search:  95%|█████████▌| 190/200 [05:25<00:16,  1.68s/it]2025-06-08 17:40:03,031 - INFO - Params: {'subsample': 0.9, 'scale_pos_weight': 2.0, 'max_depth': 8, 'learning_rate': 0.2, 'colsample_bytree': 1.0}, Mean F1: 0.7235\n",
      "CV Search:  96%|█████████▌| 191/200 [05:27<00:15,  1.67s/it]2025-06-08 17:40:05,139 - INFO - Params: {'subsample': 0.8, 'scale_pos_weight': 1.5, 'max_depth': 8, 'learning_rate': 0.1, 'colsample_bytree': 1.0}, Mean F1: 0.7295\n",
      "CV Search:  96%|█████████▌| 192/200 [05:29<00:14,  1.80s/it]2025-06-08 17:40:06,869 - INFO - Params: {'subsample': 0.9, 'scale_pos_weight': 1.0, 'max_depth': 7, 'learning_rate': 0.15, 'colsample_bytree': 0.9}, Mean F1: 0.7238\n",
      "CV Search:  96%|█████████▋| 193/200 [05:31<00:12,  1.78s/it]2025-06-08 17:40:08,608 - INFO - Params: {'subsample': 0.9, 'scale_pos_weight': 1.5, 'max_depth': 8, 'learning_rate': 0.15, 'colsample_bytree': 1.0}, Mean F1: 0.7245\n",
      "CV Search:  97%|█████████▋| 194/200 [05:32<00:10,  1.77s/it]2025-06-08 17:40:10,063 - INFO - Params: {'subsample': 1.0, 'scale_pos_weight': 1.5, 'max_depth': 7, 'learning_rate': 0.25, 'colsample_bytree': 1.0}, Mean F1: 0.7224\n",
      "CV Search:  98%|█████████▊| 195/200 [05:34<00:08,  1.67s/it]2025-06-08 17:40:11,888 - INFO - Params: {'subsample': 0.9, 'scale_pos_weight': 1.0, 'max_depth': 6, 'learning_rate': 0.1, 'colsample_bytree': 0.9}, Mean F1: 0.7238\n",
      "CV Search:  98%|█████████▊| 196/200 [05:36<00:06,  1.72s/it]2025-06-08 17:40:13,823 - INFO - Params: {'subsample': 0.9, 'scale_pos_weight': 2.0, 'max_depth': 8, 'learning_rate': 0.15, 'colsample_bytree': 0.9}, Mean F1: 0.7264\n",
      "CV Search:  98%|█████████▊| 197/200 [05:38<00:05,  1.78s/it]2025-06-08 17:40:15,546 - INFO - Params: {'subsample': 1.0, 'scale_pos_weight': 1.5, 'max_depth': 7, 'learning_rate': 0.15, 'colsample_bytree': 1.0}, Mean F1: 0.7277\n",
      "CV Search:  99%|█████████▉| 198/200 [05:39<00:03,  1.77s/it]2025-06-08 17:40:17,699 - INFO - Params: {'subsample': 0.9, 'scale_pos_weight': 1.5, 'max_depth': 8, 'learning_rate': 0.1, 'colsample_bytree': 1.0}, Mean F1: 0.7346\n",
      "CV Search: 100%|█████████▉| 199/200 [05:41<00:01,  1.88s/it]2025-06-08 17:40:19,357 - INFO - Params: {'subsample': 0.9, 'scale_pos_weight': 2.0, 'max_depth': 7, 'learning_rate': 0.15, 'colsample_bytree': 1.0}, Mean F1: 0.7299\n",
      "CV Search: 100%|██████████| 200/200 [05:43<00:00,  1.72s/it]\n",
      "2025-06-08 17:40:19,360 - INFO - Best Mean F1: 0.7379 at threshold=0.55\n",
      "2025-06-08 17:40:19,361 - INFO - Best Params: {'objective': 'binary:logistic', 'eval_metric': 'logloss', 'seed': 42, 'subsample': 0.9, 'scale_pos_weight': 2.0, 'max_depth': 6, 'learning_rate': 0.1, 'colsample_bytree': 1.0}\n",
      "2025-06-08 17:40:19,363 - INFO - Best CV Fold Report:\n",
      "              precision    recall  f1-score   support\n",
      "\n",
      "           0       0.97      0.86      0.91       611\n",
      "           1       0.64      0.90      0.75       174\n",
      "\n",
      "    accuracy                           0.87       785\n",
      "   macro avg       0.80      0.88      0.83       785\n",
      "weighted avg       0.89      0.87      0.87       785\n",
      "\n",
      "2025-06-08 17:40:19,380 - INFO - Model, scaler, and threshold saved to 'models/'\n"
     ]
    }
   ],
   "source": [
    "# Set up logging\n",
    "logging.basicConfig(level=logging.INFO, format='%(asctime)s - %(levelname)s - %(message)s')\n",
    "logger = logging.getLogger(__name__)\n",
    "\n",
    "# Load datasets\n",
    "logger.info(\"Loading datasets\")\n",
    "df_atlas = pd.read_csv('../data/Atlas Cechu Student Access.csv', encoding='utf-8')\n",
    "df_payments = pd.read_csv('../data/Payments Student Access.csv', encoding='utf-8')\n",
    "df_credits = pd.read_csv('../data/User Credits Student Access.csv', encoding='utf-8')\n",
    "\n",
    "# Clean data\n",
    "logger.info(\"Cleaning data\")\n",
    "df_credits_cleaned = df_credits[df_credits['credits'] > 0]\n",
    "df_payments_cleaned = df_payments[df_payments['user'].notna()]\n",
    "\n",
    "# Process Atlas data into structured format\n",
    "logger.info(\"Transforming Atlas data\")\n",
    "grouped_cols = defaultdict(dict)\n",
    "for col in df_atlas.columns:\n",
    "    if \"-\" in col:\n",
    "        group, key = col.split('-', 1)\n",
    "        grouped_cols[group][key] = col\n",
    "    else:\n",
    "        grouped_cols[col][col] = col\n",
    "\n",
    "structured_data = []\n",
    "for _, row in df_atlas.iterrows():\n",
    "    entry = {}\n",
    "    for group, mapping in grouped_cols.items():\n",
    "        entry[group] = [key for key, col in mapping.items() if row[col] == 1]\n",
    "    structured_data.append(entry)\n",
    "\n",
    "# Encode structured features\n",
    "df_atlas_numeric_values = pd.DataFrame(structured_data).drop(columns=['user_id'])\n",
    "df_atlas_nv = pd.concat([df_atlas['user_id'], df_atlas_numeric_values], axis=1, join='inner')\n",
    "mapping_dicts = {}\n",
    "for col in df_atlas_nv.columns:\n",
    "    if col == 'user_id':\n",
    "        continue\n",
    "    unique_lists = df_atlas_nv[col].apply(lambda x: tuple(sorted(x))).unique()\n",
    "    mapping_dicts[col] = {lst: idx + 1 for idx, lst in enumerate(unique_lists)}\n",
    "    df_atlas_nv[col] = df_atlas_nv[col].apply(lambda x: mapping_dicts[col][tuple(sorted(x))])\n",
    "\n",
    "# Extract withdrawal statistics\n",
    "logger.info(\"Aggregating withdrawal stats\")\n",
    "withdrawals = df_payments[(df_payments['credits'] >= 500) & (df_payments['state'].isin(['PAID', 'APPROVED']))]\n",
    "withdrawal_stats = withdrawals.groupby('user').agg(\n",
    "    num_withdrawals=('credits', 'count'),\n",
    "    avg_withdrawal=('credits', 'mean'),\n",
    "    total_withdrawn=('credits', 'sum')\n",
    ").reset_index()\n",
    "\n",
    "# Identify currently eligible users\n",
    "logger.info(\"Building eligible user set\")\n",
    "eligible_now = df_credits[df_credits['credits'] >= 480].copy()\n",
    "eligible_now = eligible_now.merge(withdrawal_stats, on='user', how='left')\n",
    "eligible_now[['num_withdrawals', 'avg_withdrawal', 'total_withdrawn']] = eligible_now[\n",
    "    ['num_withdrawals', 'avg_withdrawal', 'total_withdrawn']\n",
    "].fillna(0)\n",
    "\n",
    "def assign_behavior(row):\n",
    "    if row['num_withdrawals'] == 0:\n",
    "        return 'new'\n",
    "    elif row['num_withdrawals'] <= 2:\n",
    "        return 'occasional'\n",
    "    else:\n",
    "        return 'regular'\n",
    "\n",
    "eligible_now['withdrawal_segment'] = eligible_now.apply(assign_behavior, axis=1)\n",
    "segment_mapping = {'new': 0, 'occasional': 1, 'regular': 2}\n",
    "eligible_now['withdrawal_segment_code'] = eligible_now['withdrawal_segment'].map(segment_mapping)\n",
    "eligible_now.drop(columns=['withdrawal_segment', 'wage'], inplace=True, errors='ignore')\n",
    "\n",
    "def likely_to_withdraw_now(row):\n",
    "    if row['num_withdrawals'] == 0:\n",
    "        return 0\n",
    "    expected_threshold = max(0.9 * row['avg_withdrawal'], 450)\n",
    "    return int(row['credits'] >= expected_threshold)\n",
    "\n",
    "eligible_now['target'] = eligible_now.apply(likely_to_withdraw_now, axis=1)\n",
    "\n",
    "# Merge Atlas features\n",
    "logger.info(\"Merging structured Atlas features\")\n",
    "df_atlas_clean_nv = df_atlas_nv.copy()\n",
    "df_atlas_clean_nv.rename(columns={'user_id': 'user'}, inplace=True)\n",
    "df_model = pd.merge(eligible_now, df_atlas_clean_nv, on='user', how='left')\n",
    "\n",
    "# Feature engineering\n",
    "X = df_model.drop(columns=[\n",
    "    'target', 'user', 'credits',\n",
    "    'num_withdrawals', 'avg_withdrawal', 'total_withdrawn', \n",
    "    'is_active', 'is_verified', 'is_locked'\n",
    "])\n",
    "y = df_model['target']\n",
    "X = X.fillna(0)\n",
    "\n",
    "# Normalize features\n",
    "logger.info(\"Scaling features\")\n",
    "scaler = StandardScaler()\n",
    "X_scaled = scaler.fit_transform(X)\n",
    "\n",
    "# Split data for validation\n",
    "X_train, X_test, y_train, y_test = train_test_split(X_scaled, y, stratify=y, test_size=0.2, random_state=42)\n",
    "dtrain = xgb.DMatrix(X_train, label=y_train)\n",
    "dvalid = xgb.DMatrix(X_test, label=y_test)\n",
    "\n",
    "# Set up cross-validation and hyperparameter tuning\n",
    "logger.info(\"Starting cross-validated hyperparameter search\")\n",
    "n_splits = 5\n",
    "cv = StratifiedKFold(n_splits=n_splits, shuffle=True, random_state=42)\n",
    "\n",
    "best_f1 = 0\n",
    "best_threshold = 0.5\n",
    "best_params = None\n",
    "best_booster = None\n",
    "best_report = \"\"\n",
    "\n",
    "param_dist = {\n",
    "    'learning_rate': [0.1, 0.15, 0.2, 0.25],\n",
    "    'max_depth': [6, 7, 8],\n",
    "    'subsample': [0.8, 0.9, 1.0],\n",
    "    'colsample_bytree': [0.9, 1.0],\n",
    "    'scale_pos_weight': [1.0, 1.5, 2.0],\n",
    "}\n",
    "param_list = list(ParameterSampler(param_dist, n_iter=200, random_state=42))\n",
    "\n",
    "def f1_eval(preds, dtrain):\n",
    "    labels = dtrain.get_label()\n",
    "    preds_binary = (preds > 0.5).astype(int)\n",
    "    return 'f1', f1_score(labels, preds_binary)\n",
    "\n",
    "# Run training loop with cross-validation\n",
    "for params in tqdm(param_list, desc=\"CV Search\"):\n",
    "    full_params = {\n",
    "        'objective': 'binary:logistic',\n",
    "        'eval_metric': 'logloss',\n",
    "        'seed': 42,\n",
    "        **params\n",
    "    }\n",
    "    cv_f1_scores = []\n",
    "\n",
    "    for train_idx, valid_idx in cv.split(X_scaled, y):\n",
    "        X_train_cv, X_valid_cv = X_scaled[train_idx], X_scaled[valid_idx]\n",
    "        y_train_cv, y_valid_cv = y.iloc[train_idx], y.iloc[valid_idx]\n",
    "\n",
    "        dtrain_cv = xgb.DMatrix(X_train_cv, label=y_train_cv)\n",
    "        dvalid_cv = xgb.DMatrix(X_valid_cv, label=y_valid_cv)\n",
    "\n",
    "        booster = xgb.train(\n",
    "            full_params,\n",
    "            dtrain_cv,\n",
    "            num_boost_round=200,\n",
    "            evals=[(dvalid_cv, 'eval')],\n",
    "            early_stopping_rounds=10,\n",
    "            verbose_eval=False\n",
    "        )\n",
    "\n",
    "        y_proba = booster.predict(dvalid_cv)\n",
    "\n",
    "        # Threshold tuning\n",
    "        best_f1_cv = 0\n",
    "        for thresh in np.linspace(0.3, 0.55, 30):\n",
    "            y_pred_cv = (y_proba > thresh).astype(int)\n",
    "            f1_cv = f1_score(y_valid_cv, y_pred_cv)\n",
    "            best_f1_cv = max(best_f1_cv, f1_cv)\n",
    "\n",
    "        cv_f1_scores.append(best_f1_cv)\n",
    "\n",
    "    mean_f1 = np.mean(cv_f1_scores)\n",
    "    logger.info(f\"Params: {params}, Mean F1: {mean_f1:.4f}\")\n",
    "\n",
    "    if mean_f1 > best_f1:\n",
    "        best_f1 = mean_f1\n",
    "        best_params = full_params\n",
    "        best_booster = booster\n",
    "        best_threshold = thresh\n",
    "        y_final_pred = (y_proba > best_threshold).astype(int)\n",
    "        best_report = classification_report(y_valid_cv, y_final_pred, output_dict=False)\n",
    "\n",
    "logger.info(f\"Best Mean F1: {best_f1:.4f} at threshold={best_threshold:.2f}\")\n",
    "logger.info(f\"Best Params: {best_params}\")\n",
    "logger.info(f\"Best CV Fold Report:\\n{best_report}\")\n",
    "\n",
    "os.makedirs(\"models\", exist_ok=True)\n",
    "\n",
    "model_path = \"models/best_xgb_model.json\"\n",
    "best_booster.save_model(model_path)\n",
    "\n",
    "joblib.dump(scaler, \"models/standard_scaler.pkl\")\n",
    "joblib.dump(best_threshold, \"models/best_threshold.pkl\")\n",
    "joblib.dump(X.columns.tolist(), \"models/feature_names.pkl\")\n",
    "\n",
    "logger.info(f\"Model, scaler, and threshold saved to 'models/'\")"
   ]
  },
  {
   "cell_type": "code",
   "execution_count": 3,
   "id": "20e13b6f",
   "metadata": {},
   "outputs": [
    {
     "name": "stdout",
     "output_type": "stream",
     "text": [
      "👥 Estimated number of users who will cash out: 998\n",
      "\n",
      "💰 Estimated reserve needed for upcoming withdrawals: 1,131,599 CZK\n"
     ]
    }
   ],
   "source": [
    "# Prepare prediction input (must match training features)\n",
    "X_pred = df_model.drop(columns=[\n",
    "    'target', 'user', 'credits',\n",
    "    'num_withdrawals', 'avg_withdrawal', 'total_withdrawn',\n",
    "    'is_active', 'is_verified', 'is_locked'\n",
    "], errors='ignore')\n",
    "\n",
    "X_pred = X_pred.fillna(0)\n",
    "\n",
    "# Ensure same scaling and order\n",
    "X_pred_scaled = scaler.transform(X_pred)\n",
    "dpred = xgb.DMatrix(X_pred_scaled)\n",
    "\n",
    "# Predict using best booster and threshold\n",
    "y_pred_proba_final = best_booster.predict(dpred)\n",
    "df_model['prediction'] = (y_pred_proba_final > best_threshold).astype(int)\n",
    "\n",
    "# Estimate total withdrawal amount\n",
    "predicted_cashouts = df_model[df_model['prediction'] == 1]\n",
    "total_predicted_credits = predicted_cashouts['credits'].sum()\n",
    "\n",
    "# Count users predicted to withdraw\n",
    "num_predicted_users = df_model['prediction'].sum()\n",
    "print(f\"👥 Estimated number of users who will cash out: {num_predicted_users}\")\n",
    "\n",
    "print(f\"\\n💰 Estimated reserve needed for upcoming withdrawals: {total_predicted_credits:,.0f} CZK\")"
   ]
  },
  {
   "cell_type": "code",
   "execution_count": 4,
   "id": "5bfc0880",
   "metadata": {},
   "outputs": [
    {
     "name": "stderr",
     "output_type": "stream",
     "text": [
      "2025-06-08 17:43:18,540 - INFO - Extracting top 20 feature importances...\n"
     ]
    }
   ],
   "source": [
    "from datetime import date as dt_date\n",
    "logger.info(\"Extracting top 20 feature importances...\")\n",
    "\n",
    "# Map f0, f1... to actual column names\n",
    "booster_feature_map = {f\"f{idx}\": col for idx, col in enumerate(X.columns)}\n",
    "importance_dict = best_booster.get_score(importance_type='gain')\n",
    "\n",
    "# Remap keys\n",
    "importance_named = {\n",
    "    booster_feature_map.get(k, k): v for k, v in importance_dict.items()\n",
    "}\n",
    "\n",
    "# Create DataFrame\n",
    "importance_df = pd.DataFrame(\n",
    "    list(importance_named.items()), columns=[\"feature\", \"importance\"]\n",
    ").sort_values(by=\"importance\", ascending=False).head(20)\n",
    "\n",
    "# Add timestamp\n",
    "importance_df[\"run_date\"] = dt_date.today()\n",
    "\n",
    "# Reorder columns\n",
    "importance_df = importance_df[[\"run_date\", \"feature\", \"importance\"]]"
   ]
  },
  {
   "cell_type": "code",
   "execution_count": 14,
   "id": "6ef6b2d4",
   "metadata": {},
   "outputs": [
    {
     "data": {
      "application/vnd.microsoft.datawrangler.viewer.v0+json": {
       "columns": [
        {
         "name": "index",
         "rawType": "int64",
         "type": "integer"
        },
        {
         "name": "kids",
         "rawType": "int64",
         "type": "integer"
        }
       ],
       "ref": "98968117-1b80-400e-8803-c60c7c377614",
       "rows": [
        [
         "0",
         "4"
        ],
        [
         "1",
         "4"
        ],
        [
         "2",
         "4"
        ],
        [
         "3",
         "5"
        ],
        [
         "4",
         "3"
        ],
        [
         "5",
         "4"
        ],
        [
         "6",
         "4"
        ],
        [
         "7",
         "4"
        ],
        [
         "8",
         "4"
        ],
        [
         "9",
         "5"
        ],
        [
         "10",
         "5"
        ],
        [
         "11",
         "4"
        ],
        [
         "12",
         "5"
        ],
        [
         "13",
         "1"
        ],
        [
         "14",
         "3"
        ],
        [
         "15",
         "4"
        ],
        [
         "16",
         "5"
        ],
        [
         "17",
         "5"
        ],
        [
         "18",
         "3"
        ],
        [
         "19",
         "5"
        ],
        [
         "20",
         "5"
        ],
        [
         "21",
         "4"
        ],
        [
         "22",
         "4"
        ],
        [
         "23",
         "3"
        ],
        [
         "24",
         "4"
        ],
        [
         "25",
         "4"
        ],
        [
         "26",
         "4"
        ],
        [
         "27",
         "3"
        ],
        [
         "28",
         "5"
        ],
        [
         "29",
         "4"
        ],
        [
         "30",
         "4"
        ],
        [
         "31",
         "4"
        ],
        [
         "32",
         "5"
        ],
        [
         "33",
         "4"
        ],
        [
         "34",
         "4"
        ],
        [
         "35",
         "1"
        ],
        [
         "36",
         "3"
        ],
        [
         "37",
         "4"
        ],
        [
         "38",
         "1"
        ],
        [
         "39",
         "4"
        ],
        [
         "40",
         "4"
        ],
        [
         "41",
         "4"
        ],
        [
         "42",
         "3"
        ],
        [
         "43",
         "4"
        ],
        [
         "44",
         "5"
        ],
        [
         "45",
         "4"
        ],
        [
         "46",
         "1"
        ],
        [
         "47",
         "4"
        ],
        [
         "48",
         "4"
        ],
        [
         "49",
         "4"
        ]
       ],
       "shape": {
        "columns": 1,
        "rows": 3929
       }
      },
      "text/plain": [
       "0       4\n",
       "1       4\n",
       "2       4\n",
       "3       5\n",
       "4       3\n",
       "       ..\n",
       "3924    1\n",
       "3925    1\n",
       "3926    1\n",
       "3927    5\n",
       "3928    4\n",
       "Name: kids, Length: 3929, dtype: int64"
      ]
     },
     "execution_count": 14,
     "metadata": {},
     "output_type": "execute_result"
    }
   ],
   "source": [
    "df_model.kids"
   ]
  },
  {
   "cell_type": "code",
   "execution_count": 11,
   "id": "c8e1108c",
   "metadata": {},
   "outputs": [
    {
     "data": {
      "text/plain": [
       "[1,\n",
       " 1,\n",
       " 1,\n",
       " 2,\n",
       " 1,\n",
       " 1,\n",
       " 2,\n",
       " 1,\n",
       " 1,\n",
       " 1,\n",
       " 2,\n",
       " 2,\n",
       " 2,\n",
       " 2,\n",
       " 2,\n",
       " 1,\n",
       " 1,\n",
       " 2,\n",
       " 1,\n",
       " 2,\n",
       " 2,\n",
       " 1,\n",
       " 1,\n",
       " 1,\n",
       " 2,\n",
       " 2,\n",
       " 1,\n",
       " 1,\n",
       " 1,\n",
       " 1,\n",
       " 1,\n",
       " 1,\n",
       " 1,\n",
       " 1,\n",
       " 1,\n",
       " 1,\n",
       " 1,\n",
       " 1,\n",
       " 1,\n",
       " 1,\n",
       " 1,\n",
       " 2,\n",
       " 2,\n",
       " 2,\n",
       " 2,\n",
       " 1,\n",
       " 1,\n",
       " 1,\n",
       " 1,\n",
       " 1,\n",
       " 1,\n",
       " 2,\n",
       " 1,\n",
       " 1,\n",
       " 1,\n",
       " 2,\n",
       " 1,\n",
       " 1,\n",
       " 2,\n",
       " 1,\n",
       " 1,\n",
       " 1,\n",
       " 2,\n",
       " 1,\n",
       " 1,\n",
       " 1,\n",
       " 1,\n",
       " 1,\n",
       " 1,\n",
       " 2,\n",
       " 1,\n",
       " 1,\n",
       " 1,\n",
       " 1,\n",
       " 1,\n",
       " 1,\n",
       " 1,\n",
       " 1,\n",
       " 1,\n",
       " 1,\n",
       " 1,\n",
       " 1,\n",
       " 1,\n",
       " 1,\n",
       " 1,\n",
       " 1,\n",
       " 1,\n",
       " 1,\n",
       " 2,\n",
       " 1,\n",
       " 1,\n",
       " 1,\n",
       " 1,\n",
       " 1,\n",
       " 1,\n",
       " 2,\n",
       " 2,\n",
       " 1,\n",
       " 1,\n",
       " 1,\n",
       " 1,\n",
       " 2,\n",
       " 2,\n",
       " 1,\n",
       " 1,\n",
       " 2,\n",
       " 1,\n",
       " 2,\n",
       " 2,\n",
       " 1,\n",
       " 1,\n",
       " 1,\n",
       " 2,\n",
       " 2,\n",
       " 1,\n",
       " 1,\n",
       " 1,\n",
       " 2,\n",
       " 1,\n",
       " 1,\n",
       " 1,\n",
       " 2,\n",
       " 1,\n",
       " 1,\n",
       " 2,\n",
       " 2,\n",
       " 2,\n",
       " 2,\n",
       " 1,\n",
       " 2,\n",
       " 2,\n",
       " 2,\n",
       " 1,\n",
       " 1,\n",
       " 2,\n",
       " 1,\n",
       " 2,\n",
       " 1,\n",
       " 2,\n",
       " 1,\n",
       " 1,\n",
       " 1,\n",
       " 2,\n",
       " 1,\n",
       " 2,\n",
       " 1,\n",
       " 2,\n",
       " 1,\n",
       " 1,\n",
       " 1,\n",
       " 1,\n",
       " 2,\n",
       " 1,\n",
       " 1,\n",
       " 1,\n",
       " 1,\n",
       " 1,\n",
       " 1,\n",
       " 1,\n",
       " 1,\n",
       " 1,\n",
       " 2,\n",
       " 1,\n",
       " 2,\n",
       " 1,\n",
       " 2,\n",
       " 2,\n",
       " 2,\n",
       " 1,\n",
       " 1,\n",
       " 2,\n",
       " 2,\n",
       " 1,\n",
       " 1,\n",
       " 2,\n",
       " 1,\n",
       " 1,\n",
       " 1,\n",
       " 2,\n",
       " 2,\n",
       " 1,\n",
       " 1,\n",
       " 1,\n",
       " 1,\n",
       " 1,\n",
       " 1,\n",
       " 2,\n",
       " 1,\n",
       " 2,\n",
       " 1,\n",
       " 2,\n",
       " 2,\n",
       " 2,\n",
       " 1,\n",
       " 1,\n",
       " 1,\n",
       " 1,\n",
       " 2,\n",
       " 1,\n",
       " 1,\n",
       " 1,\n",
       " 1,\n",
       " 1,\n",
       " 2,\n",
       " 1,\n",
       " 1,\n",
       " 1,\n",
       " 2,\n",
       " 1,\n",
       " 1,\n",
       " 2,\n",
       " 1,\n",
       " 1,\n",
       " 2,\n",
       " 2,\n",
       " 1,\n",
       " 2,\n",
       " 2,\n",
       " 1,\n",
       " 2,\n",
       " 2,\n",
       " 2,\n",
       " 1,\n",
       " 1,\n",
       " 1,\n",
       " 2,\n",
       " 2,\n",
       " 1,\n",
       " 1,\n",
       " 1,\n",
       " 2,\n",
       " 1,\n",
       " 1,\n",
       " 2,\n",
       " 1,\n",
       " 2,\n",
       " 2,\n",
       " 1,\n",
       " 2,\n",
       " 1,\n",
       " 2,\n",
       " 1,\n",
       " 2,\n",
       " 1,\n",
       " 2,\n",
       " 2,\n",
       " 1,\n",
       " 2,\n",
       " 1,\n",
       " 1,\n",
       " 1,\n",
       " 2,\n",
       " 2,\n",
       " 1,\n",
       " 1,\n",
       " 2,\n",
       " 2,\n",
       " 1,\n",
       " 1,\n",
       " 1,\n",
       " 2,\n",
       " 1,\n",
       " 1,\n",
       " 1,\n",
       " 1,\n",
       " 2,\n",
       " 2,\n",
       " 1,\n",
       " 2,\n",
       " 1,\n",
       " 1,\n",
       " 1,\n",
       " 1,\n",
       " 2,\n",
       " 2,\n",
       " 2,\n",
       " 2,\n",
       " 2,\n",
       " 1,\n",
       " 2,\n",
       " 1,\n",
       " 2,\n",
       " 1,\n",
       " 2,\n",
       " 1,\n",
       " 2,\n",
       " 2,\n",
       " 2,\n",
       " 1,\n",
       " 2,\n",
       " 1,\n",
       " 1,\n",
       " 1,\n",
       " 2,\n",
       " 1,\n",
       " 1,\n",
       " 1,\n",
       " 1,\n",
       " 2,\n",
       " 2,\n",
       " 1,\n",
       " 2,\n",
       " 2,\n",
       " 2,\n",
       " 1,\n",
       " 1,\n",
       " 1,\n",
       " 1,\n",
       " 1,\n",
       " 2,\n",
       " 2,\n",
       " 1,\n",
       " 2,\n",
       " 1,\n",
       " 2,\n",
       " 1,\n",
       " 1,\n",
       " 1,\n",
       " 1,\n",
       " 2,\n",
       " 1,\n",
       " 1,\n",
       " 1,\n",
       " 2,\n",
       " 1,\n",
       " 1,\n",
       " 2,\n",
       " 1,\n",
       " 2,\n",
       " 2,\n",
       " 1,\n",
       " 2,\n",
       " 1,\n",
       " 1,\n",
       " 1,\n",
       " 2,\n",
       " 2,\n",
       " 2,\n",
       " 2,\n",
       " 1,\n",
       " 1,\n",
       " 1,\n",
       " 2,\n",
       " 1,\n",
       " 1,\n",
       " 1,\n",
       " 1,\n",
       " 2,\n",
       " 1,\n",
       " 2,\n",
       " 1,\n",
       " 1,\n",
       " 2,\n",
       " 2,\n",
       " 1,\n",
       " 2,\n",
       " 2,\n",
       " 1,\n",
       " 2,\n",
       " 1,\n",
       " 2,\n",
       " 1,\n",
       " 1,\n",
       " 2,\n",
       " 1,\n",
       " 2,\n",
       " 1,\n",
       " 1,\n",
       " 2,\n",
       " 1,\n",
       " 2,\n",
       " 2,\n",
       " 2,\n",
       " 1,\n",
       " 2,\n",
       " 1,\n",
       " 1,\n",
       " 1,\n",
       " 1,\n",
       " 2,\n",
       " 1,\n",
       " 1,\n",
       " 1,\n",
       " 2,\n",
       " 1,\n",
       " 2,\n",
       " 1,\n",
       " 2,\n",
       " 1,\n",
       " 2,\n",
       " 2,\n",
       " 2,\n",
       " 1,\n",
       " 1,\n",
       " 1,\n",
       " 1,\n",
       " 1,\n",
       " 1,\n",
       " 2,\n",
       " 1,\n",
       " 1,\n",
       " 2,\n",
       " 2,\n",
       " 2,\n",
       " 1,\n",
       " 1,\n",
       " 2,\n",
       " 1,\n",
       " 1,\n",
       " 2,\n",
       " 1,\n",
       " 2,\n",
       " 2,\n",
       " 2,\n",
       " 2,\n",
       " 2,\n",
       " 1,\n",
       " 1,\n",
       " 1,\n",
       " 1,\n",
       " 2,\n",
       " 2,\n",
       " 1,\n",
       " 1,\n",
       " 1,\n",
       " 1,\n",
       " 1,\n",
       " 1,\n",
       " 1,\n",
       " 1,\n",
       " 2,\n",
       " 1,\n",
       " 1,\n",
       " 1,\n",
       " 1,\n",
       " 1,\n",
       " 1,\n",
       " 1,\n",
       " 1,\n",
       " 1,\n",
       " 1,\n",
       " 2,\n",
       " 2,\n",
       " 2,\n",
       " 2,\n",
       " 2,\n",
       " 1,\n",
       " 1,\n",
       " 2,\n",
       " 1,\n",
       " 2,\n",
       " 2,\n",
       " 2,\n",
       " 1,\n",
       " 1,\n",
       " 1,\n",
       " 1,\n",
       " 1,\n",
       " 2,\n",
       " 2,\n",
       " 2,\n",
       " 2,\n",
       " 2,\n",
       " 2,\n",
       " 1,\n",
       " 2,\n",
       " 1,\n",
       " 1,\n",
       " 1,\n",
       " 1,\n",
       " 1,\n",
       " 1,\n",
       " 1,\n",
       " 1,\n",
       " 1,\n",
       " 2,\n",
       " 1,\n",
       " 2,\n",
       " 1,\n",
       " 2,\n",
       " 1,\n",
       " 2,\n",
       " 1,\n",
       " 1,\n",
       " 1,\n",
       " 1,\n",
       " 2,\n",
       " 1,\n",
       " 1,\n",
       " 1,\n",
       " 1,\n",
       " 2,\n",
       " 1,\n",
       " 2,\n",
       " 1,\n",
       " 1,\n",
       " 2,\n",
       " 1,\n",
       " 2,\n",
       " 1,\n",
       " 1,\n",
       " 2,\n",
       " 1,\n",
       " 1,\n",
       " 1,\n",
       " 1,\n",
       " 2,\n",
       " 1,\n",
       " 2,\n",
       " 2,\n",
       " 1,\n",
       " 2,\n",
       " 1,\n",
       " 1,\n",
       " 1,\n",
       " 2,\n",
       " 2,\n",
       " 1,\n",
       " 2,\n",
       " 1,\n",
       " 1,\n",
       " 1,\n",
       " 2,\n",
       " 1,\n",
       " 1,\n",
       " 2,\n",
       " 1,\n",
       " 1,\n",
       " 1,\n",
       " 1,\n",
       " 2,\n",
       " 2,\n",
       " 2,\n",
       " 1,\n",
       " 1,\n",
       " 1,\n",
       " 1,\n",
       " 1,\n",
       " 1,\n",
       " 1,\n",
       " 1,\n",
       " 2,\n",
       " 2,\n",
       " 1,\n",
       " 1,\n",
       " 1,\n",
       " 1,\n",
       " 1,\n",
       " 1,\n",
       " 1,\n",
       " 1,\n",
       " 1,\n",
       " 2,\n",
       " 1,\n",
       " 1,\n",
       " 1,\n",
       " 1,\n",
       " 1,\n",
       " 1,\n",
       " 1,\n",
       " 2,\n",
       " 2,\n",
       " 2,\n",
       " 1,\n",
       " 1,\n",
       " 2,\n",
       " 1,\n",
       " 1,\n",
       " 1,\n",
       " 1,\n",
       " 1,\n",
       " 1,\n",
       " 1,\n",
       " 1,\n",
       " 1,\n",
       " 2,\n",
       " 2,\n",
       " 1,\n",
       " 1,\n",
       " 2,\n",
       " 1,\n",
       " 2,\n",
       " 1,\n",
       " 1,\n",
       " 2,\n",
       " 1,\n",
       " 2,\n",
       " 1,\n",
       " 2,\n",
       " 2,\n",
       " 1,\n",
       " 2,\n",
       " 1,\n",
       " 1,\n",
       " 1,\n",
       " 1,\n",
       " 1,\n",
       " 2,\n",
       " 2,\n",
       " 2,\n",
       " 2,\n",
       " 2,\n",
       " 1,\n",
       " 2,\n",
       " 1,\n",
       " 1,\n",
       " 1,\n",
       " 1,\n",
       " 1,\n",
       " 1,\n",
       " 1,\n",
       " 1,\n",
       " 2,\n",
       " 2,\n",
       " 2,\n",
       " 1,\n",
       " 1,\n",
       " 2,\n",
       " 2,\n",
       " 1,\n",
       " 2,\n",
       " 2,\n",
       " 1,\n",
       " 1,\n",
       " 1,\n",
       " 1,\n",
       " 1,\n",
       " 1,\n",
       " 1,\n",
       " 2,\n",
       " 2,\n",
       " 1,\n",
       " 1,\n",
       " 1,\n",
       " 2,\n",
       " 1,\n",
       " 1,\n",
       " 2,\n",
       " 1,\n",
       " 2,\n",
       " 1,\n",
       " 2,\n",
       " 1,\n",
       " 1,\n",
       " 1,\n",
       " 2,\n",
       " 2,\n",
       " 1,\n",
       " 2,\n",
       " 2,\n",
       " 1,\n",
       " 1,\n",
       " 1,\n",
       " 2,\n",
       " 2,\n",
       " 1,\n",
       " 1,\n",
       " 2,\n",
       " 2,\n",
       " 1,\n",
       " 1,\n",
       " 2,\n",
       " 1,\n",
       " 1,\n",
       " 1,\n",
       " 1,\n",
       " 2,\n",
       " 2,\n",
       " 2,\n",
       " 2,\n",
       " 1,\n",
       " 1,\n",
       " 1,\n",
       " 2,\n",
       " 1,\n",
       " 1,\n",
       " 1,\n",
       " 2,\n",
       " 2,\n",
       " 2,\n",
       " 2,\n",
       " 1,\n",
       " 2,\n",
       " 2,\n",
       " 1,\n",
       " 1,\n",
       " 1,\n",
       " 2,\n",
       " 2,\n",
       " 1,\n",
       " 1,\n",
       " 1,\n",
       " 1,\n",
       " 1,\n",
       " 1,\n",
       " 2,\n",
       " 2,\n",
       " 2,\n",
       " 2,\n",
       " 1,\n",
       " 1,\n",
       " 1,\n",
       " 2,\n",
       " 1,\n",
       " 1,\n",
       " 1,\n",
       " 1,\n",
       " 1,\n",
       " 1,\n",
       " 1,\n",
       " 1,\n",
       " 1,\n",
       " 1,\n",
       " 2,\n",
       " 2,\n",
       " 2,\n",
       " 2,\n",
       " 1,\n",
       " 2,\n",
       " 2,\n",
       " 2,\n",
       " 2,\n",
       " 1,\n",
       " 1,\n",
       " 1,\n",
       " 1,\n",
       " 1,\n",
       " 2,\n",
       " 2,\n",
       " 1,\n",
       " 2,\n",
       " 1,\n",
       " 2,\n",
       " 1,\n",
       " 2,\n",
       " 1,\n",
       " 2,\n",
       " 1,\n",
       " 1,\n",
       " 1,\n",
       " 2,\n",
       " 1,\n",
       " 1,\n",
       " 1,\n",
       " 1,\n",
       " 1,\n",
       " 1,\n",
       " 1,\n",
       " 2,\n",
       " 2,\n",
       " 2,\n",
       " 2,\n",
       " 1,\n",
       " 1,\n",
       " 1,\n",
       " 1,\n",
       " 1,\n",
       " 1,\n",
       " 2,\n",
       " 1,\n",
       " 2,\n",
       " 1,\n",
       " 2,\n",
       " 2,\n",
       " 2,\n",
       " 1,\n",
       " 2,\n",
       " 1,\n",
       " 2,\n",
       " 1,\n",
       " 1,\n",
       " 1,\n",
       " 1,\n",
       " 1,\n",
       " 1,\n",
       " 2,\n",
       " 1,\n",
       " 2,\n",
       " 1,\n",
       " 2,\n",
       " 2,\n",
       " 2,\n",
       " 1,\n",
       " 2,\n",
       " 2,\n",
       " 1,\n",
       " 1,\n",
       " 1,\n",
       " 1,\n",
       " 2,\n",
       " 1,\n",
       " 1,\n",
       " 1,\n",
       " 1,\n",
       " 1,\n",
       " 1,\n",
       " 1,\n",
       " 1,\n",
       " 1,\n",
       " 1,\n",
       " 1,\n",
       " 2,\n",
       " 1,\n",
       " 1,\n",
       " 2,\n",
       " 1,\n",
       " 2,\n",
       " 1,\n",
       " 1,\n",
       " 1,\n",
       " 2,\n",
       " 1,\n",
       " 2,\n",
       " 1,\n",
       " 1,\n",
       " 2,\n",
       " 1,\n",
       " 1,\n",
       " 1,\n",
       " 1,\n",
       " 1,\n",
       " 2,\n",
       " 1,\n",
       " 2,\n",
       " 1,\n",
       " 2,\n",
       " 1,\n",
       " 2,\n",
       " 2,\n",
       " 1,\n",
       " 1,\n",
       " 1,\n",
       " 1,\n",
       " 1,\n",
       " 2,\n",
       " 2,\n",
       " 1,\n",
       " 1,\n",
       " 1,\n",
       " 2,\n",
       " 1,\n",
       " 2,\n",
       " 1,\n",
       " 2,\n",
       " 2,\n",
       " 2,\n",
       " 1,\n",
       " 2,\n",
       " 1,\n",
       " 1,\n",
       " 1,\n",
       " 1,\n",
       " 1,\n",
       " 1,\n",
       " 1,\n",
       " 2,\n",
       " 2,\n",
       " 1,\n",
       " 2,\n",
       " 1,\n",
       " 1,\n",
       " 1,\n",
       " 2,\n",
       " 1,\n",
       " 1,\n",
       " 2,\n",
       " 2,\n",
       " 2,\n",
       " 1,\n",
       " 1,\n",
       " 1,\n",
       " 2,\n",
       " 2,\n",
       " 1,\n",
       " 2,\n",
       " 2,\n",
       " 2,\n",
       " 2,\n",
       " 2,\n",
       " 1,\n",
       " 2,\n",
       " 1,\n",
       " 1,\n",
       " 1,\n",
       " 2,\n",
       " 2,\n",
       " 2,\n",
       " 1,\n",
       " 1,\n",
       " 1,\n",
       " 1,\n",
       " 2,\n",
       " 1,\n",
       " 1,\n",
       " 1,\n",
       " 2,\n",
       " 1,\n",
       " 2,\n",
       " 1,\n",
       " 2,\n",
       " 2,\n",
       " 1,\n",
       " 1,\n",
       " 1,\n",
       " 1,\n",
       " 2,\n",
       " 2,\n",
       " 1,\n",
       " 1,\n",
       " 1,\n",
       " 2,\n",
       " 1,\n",
       " 1,\n",
       " 2,\n",
       " 2,\n",
       " 1,\n",
       " 1,\n",
       " 1,\n",
       " 1,\n",
       " 2,\n",
       " 1,\n",
       " 1,\n",
       " 1,\n",
       " 2,\n",
       " 2,\n",
       " 2,\n",
       " 1,\n",
       " 2,\n",
       " 1,\n",
       " 1,\n",
       " 1,\n",
       " 1,\n",
       " 1,\n",
       " 1,\n",
       " 1,\n",
       " 1,\n",
       " 1,\n",
       " 2,\n",
       " 1,\n",
       " 1,\n",
       " 1,\n",
       " 2,\n",
       " 2,\n",
       " 2,\n",
       " 2,\n",
       " 2,\n",
       " 2,\n",
       " 1,\n",
       " 1,\n",
       " 2,\n",
       " 2,\n",
       " 1,\n",
       " 1,\n",
       " 2,\n",
       " 1,\n",
       " 2,\n",
       " 2,\n",
       " 1,\n",
       " 1,\n",
       " 1,\n",
       " 1,\n",
       " 1,\n",
       " 2,\n",
       " 1,\n",
       " 1,\n",
       " 1,\n",
       " 2,\n",
       " 2,\n",
       " 1,\n",
       " 2,\n",
       " 1,\n",
       " 1,\n",
       " 1,\n",
       " 1,\n",
       " 2,\n",
       " 1,\n",
       " 1,\n",
       " 1,\n",
       " 1,\n",
       " 2,\n",
       " 2,\n",
       " 1,\n",
       " 2,\n",
       " 1,\n",
       " 2,\n",
       " 1,\n",
       " 2,\n",
       " 1,\n",
       " 1,\n",
       " 1,\n",
       " 1,\n",
       " 2,\n",
       " 2,\n",
       " 1,\n",
       " 2,\n",
       " 1,\n",
       " 1,\n",
       " 1,\n",
       " 2,\n",
       " 1,\n",
       " ...]"
      ]
     },
     "execution_count": 11,
     "metadata": {},
     "output_type": "execute_result"
    }
   ],
   "source": [
    "list(X.woman)"
   ]
  },
  {
   "cell_type": "code",
   "execution_count": 18,
   "id": "a1762342",
   "metadata": {},
   "outputs": [
    {
     "data": {
      "text/plain": [
       "datetime.date(2025, 4, 1)"
      ]
     },
     "execution_count": 18,
     "metadata": {},
     "output_type": "execute_result"
    }
   ],
   "source": [
    "dt_date(2025, 4, 1)"
   ]
  },
  {
   "cell_type": "code",
   "execution_count": null,
   "id": "3a7e79a7",
   "metadata": {},
   "outputs": [],
   "source": [
    "# Create DataFrame with 2nd to 21st most important features\n",
    "importance_df = pd.DataFrame(\n",
    "    list(importance_named.items()), columns=[\"feature\", \"importance\"]\n",
    ").sort_values(by=\"importance\", ascending=False).iloc[1:21]"
   ]
  },
  {
   "cell_type": "code",
   "execution_count": null,
   "id": "2e62635d",
   "metadata": {},
   "outputs": [
    {
     "name": "stderr",
     "output_type": "stream",
     "text": [
      "C:\\Users\\filip\\AppData\\Local\\Temp\\ipykernel_13516\\3249510655.py:2: SettingWithCopyWarning: \n",
      "A value is trying to be set on a copy of a slice from a DataFrame.\n",
      "Try using .loc[row_indexer,col_indexer] = value instead\n",
      "\n",
      "See the caveats in the documentation: https://pandas.pydata.org/pandas-docs/stable/user_guide/indexing.html#returning-a-view-versus-a-copy\n",
      "  importance_df[\"original_column\"] = importance_df[\"feature\"].apply(\n",
      "C:\\Users\\filip\\AppData\\Local\\Temp\\ipykernel_13516\\3249510655.py:7: SettingWithCopyWarning: \n",
      "A value is trying to be set on a copy of a slice from a DataFrame.\n",
      "Try using .loc[row_indexer,col_indexer] = value instead\n",
      "\n",
      "See the caveats in the documentation: https://pandas.pydata.org/pandas-docs/stable/user_guide/indexing.html#returning-a-view-versus-a-copy\n",
      "  importance_df[\"date\"] = pd.to_datetime(\"2025-04-01\")\n"
     ]
    }
   ],
   "source": [
    "# Add original column name for each feature\n",
    "importance_df[\"original_column\"] = importance_df[\"feature\"].apply(\n",
    "    lambda f: X.columns[int(f[1:])] if f.startswith(\"f\") and f[1:].isdigit() else f\n",
    ")\n",
    "\n",
    "# Set the date column to 1st of April 2025\n",
    "importance_df[\"date\"] = pd.to_date(\"2025-04-01\")\n",
    "\n",
    "# Reorder columns: date, feature, original_column, importance\n",
    "  = importance_df[[\"date\", \"feature\", \"original_column\", \"importance\"]]"
   ]
  },
  {
   "cell_type": "code",
   "execution_count": 10,
   "id": "55eb9be7",
   "metadata": {},
   "outputs": [
    {
     "data": {
      "application/vnd.microsoft.datawrangler.viewer.v0+json": {
       "columns": [
        {
         "name": "index",
         "rawType": "int64",
         "type": "integer"
        },
        {
         "name": "date",
         "rawType": "datetime64[ns]",
         "type": "datetime"
        },
        {
         "name": "feature",
         "rawType": "object",
         "type": "string"
        },
        {
         "name": "original_column",
         "rawType": "object",
         "type": "string"
        },
        {
         "name": "importance",
         "rawType": "float64",
         "type": "float"
        }
       ],
       "ref": "46867dcf-d17a-4cef-a893-b69e055e9f38",
       "rows": [
        [
         "0",
         "2025-04-01 00:00:00",
         "withdrawal_segment_code",
         "withdrawal_segment_code",
         "253.48648071289062"
        ],
        [
         "135",
         "2025-04-01 00:00:00",
         "freq_tv",
         "freq_tv",
         "14.024637222290039"
        ],
        [
         "154",
         "2025-04-01 00:00:00",
         "lifestyle_online_3",
         "lifestyle_online_3",
         "13.906679153442383"
        ],
        [
         "165",
         "2025-04-01 00:00:00",
         "grocery",
         "grocery",
         "12.283806800842285"
        ],
        [
         "141",
         "2025-04-01 00:00:00",
         "woman",
         "woman",
         "11.056854248046875"
        ],
        [
         "85",
         "2025-04-01 00:00:00",
         "emobility_attitude",
         "emobility_attitude",
         "10.634174346923828"
        ],
        [
         "97",
         "2025-04-01 00:00:00",
         "holiday_abroad_sport",
         "holiday_abroad_sport",
         "10.49170970916748"
        ],
        [
         "18",
         "2025-04-01 00:00:00",
         "household_members_income",
         "household_members_income",
         "9.625814437866211"
        ],
        [
         "125",
         "2025-04-01 00:00:00",
         "mobile_games",
         "mobile_games",
         "9.531493186950684"
        ],
        [
         "67",
         "2025-04-01 00:00:00",
         "religion",
         "religion",
         "9.279316902160645"
        ],
        [
         "114",
         "2025-04-01 00:00:00",
         "food_healthy",
         "food_healthy",
         "9.006896018981934"
        ],
        [
         "95",
         "2025-04-01 00:00:00",
         "holiday_out_europe",
         "holiday_out_europe",
         "8.982656478881836"
        ],
        [
         "69",
         "2025-04-01 00:00:00",
         "breadwinner",
         "breadwinner",
         "8.904414176940918"
        ],
        [
         "51",
         "2025-04-01 00:00:00",
         "company_size",
         "company_size",
         "8.440513610839844"
        ],
        [
         "122",
         "2025-04-01 00:00:00",
         "immigrants_know",
         "immigrants_know",
         "8.436663627624512"
        ],
        [
         "58",
         "2025-04-01 00:00:00",
         "country_problems",
         "country_problems",
         "8.307727813720703"
        ],
        [
         "155",
         "2025-04-01 00:00:00",
         "spending_type",
         "spending_type",
         "8.27275276184082"
        ],
        [
         "60",
         "2025-04-01 00:00:00",
         "physical_punishment",
         "physical_punishment",
         "8.211187362670898"
        ],
        [
         "127",
         "2025-04-01 00:00:00",
         "gamer",
         "gamer",
         "8.111063957214355"
        ],
        [
         "22",
         "2025-04-01 00:00:00",
         "household_equipment",
         "household_equipment",
         "8.071806907653809"
        ]
       ],
       "shape": {
        "columns": 4,
        "rows": 20
       }
      },
      "text/html": [
       "<div>\n",
       "<style scoped>\n",
       "    .dataframe tbody tr th:only-of-type {\n",
       "        vertical-align: middle;\n",
       "    }\n",
       "\n",
       "    .dataframe tbody tr th {\n",
       "        vertical-align: top;\n",
       "    }\n",
       "\n",
       "    .dataframe thead th {\n",
       "        text-align: right;\n",
       "    }\n",
       "</style>\n",
       "<table border=\"1\" class=\"dataframe\">\n",
       "  <thead>\n",
       "    <tr style=\"text-align: right;\">\n",
       "      <th></th>\n",
       "      <th>date</th>\n",
       "      <th>feature</th>\n",
       "      <th>original_column</th>\n",
       "      <th>importance</th>\n",
       "    </tr>\n",
       "  </thead>\n",
       "  <tbody>\n",
       "    <tr>\n",
       "      <th>0</th>\n",
       "      <td>2025-04-01</td>\n",
       "      <td>withdrawal_segment_code</td>\n",
       "      <td>withdrawal_segment_code</td>\n",
       "      <td>253.486481</td>\n",
       "    </tr>\n",
       "    <tr>\n",
       "      <th>135</th>\n",
       "      <td>2025-04-01</td>\n",
       "      <td>freq_tv</td>\n",
       "      <td>freq_tv</td>\n",
       "      <td>14.024637</td>\n",
       "    </tr>\n",
       "    <tr>\n",
       "      <th>154</th>\n",
       "      <td>2025-04-01</td>\n",
       "      <td>lifestyle_online_3</td>\n",
       "      <td>lifestyle_online_3</td>\n",
       "      <td>13.906679</td>\n",
       "    </tr>\n",
       "    <tr>\n",
       "      <th>165</th>\n",
       "      <td>2025-04-01</td>\n",
       "      <td>grocery</td>\n",
       "      <td>grocery</td>\n",
       "      <td>12.283807</td>\n",
       "    </tr>\n",
       "    <tr>\n",
       "      <th>141</th>\n",
       "      <td>2025-04-01</td>\n",
       "      <td>woman</td>\n",
       "      <td>woman</td>\n",
       "      <td>11.056854</td>\n",
       "    </tr>\n",
       "    <tr>\n",
       "      <th>85</th>\n",
       "      <td>2025-04-01</td>\n",
       "      <td>emobility_attitude</td>\n",
       "      <td>emobility_attitude</td>\n",
       "      <td>10.634174</td>\n",
       "    </tr>\n",
       "    <tr>\n",
       "      <th>97</th>\n",
       "      <td>2025-04-01</td>\n",
       "      <td>holiday_abroad_sport</td>\n",
       "      <td>holiday_abroad_sport</td>\n",
       "      <td>10.491710</td>\n",
       "    </tr>\n",
       "    <tr>\n",
       "      <th>18</th>\n",
       "      <td>2025-04-01</td>\n",
       "      <td>household_members_income</td>\n",
       "      <td>household_members_income</td>\n",
       "      <td>9.625814</td>\n",
       "    </tr>\n",
       "    <tr>\n",
       "      <th>125</th>\n",
       "      <td>2025-04-01</td>\n",
       "      <td>mobile_games</td>\n",
       "      <td>mobile_games</td>\n",
       "      <td>9.531493</td>\n",
       "    </tr>\n",
       "    <tr>\n",
       "      <th>67</th>\n",
       "      <td>2025-04-01</td>\n",
       "      <td>religion</td>\n",
       "      <td>religion</td>\n",
       "      <td>9.279317</td>\n",
       "    </tr>\n",
       "    <tr>\n",
       "      <th>114</th>\n",
       "      <td>2025-04-01</td>\n",
       "      <td>food_healthy</td>\n",
       "      <td>food_healthy</td>\n",
       "      <td>9.006896</td>\n",
       "    </tr>\n",
       "    <tr>\n",
       "      <th>95</th>\n",
       "      <td>2025-04-01</td>\n",
       "      <td>holiday_out_europe</td>\n",
       "      <td>holiday_out_europe</td>\n",
       "      <td>8.982656</td>\n",
       "    </tr>\n",
       "    <tr>\n",
       "      <th>69</th>\n",
       "      <td>2025-04-01</td>\n",
       "      <td>breadwinner</td>\n",
       "      <td>breadwinner</td>\n",
       "      <td>8.904414</td>\n",
       "    </tr>\n",
       "    <tr>\n",
       "      <th>51</th>\n",
       "      <td>2025-04-01</td>\n",
       "      <td>company_size</td>\n",
       "      <td>company_size</td>\n",
       "      <td>8.440514</td>\n",
       "    </tr>\n",
       "    <tr>\n",
       "      <th>122</th>\n",
       "      <td>2025-04-01</td>\n",
       "      <td>immigrants_know</td>\n",
       "      <td>immigrants_know</td>\n",
       "      <td>8.436664</td>\n",
       "    </tr>\n",
       "    <tr>\n",
       "      <th>58</th>\n",
       "      <td>2025-04-01</td>\n",
       "      <td>country_problems</td>\n",
       "      <td>country_problems</td>\n",
       "      <td>8.307728</td>\n",
       "    </tr>\n",
       "    <tr>\n",
       "      <th>155</th>\n",
       "      <td>2025-04-01</td>\n",
       "      <td>spending_type</td>\n",
       "      <td>spending_type</td>\n",
       "      <td>8.272753</td>\n",
       "    </tr>\n",
       "    <tr>\n",
       "      <th>60</th>\n",
       "      <td>2025-04-01</td>\n",
       "      <td>physical_punishment</td>\n",
       "      <td>physical_punishment</td>\n",
       "      <td>8.211187</td>\n",
       "    </tr>\n",
       "    <tr>\n",
       "      <th>127</th>\n",
       "      <td>2025-04-01</td>\n",
       "      <td>gamer</td>\n",
       "      <td>gamer</td>\n",
       "      <td>8.111064</td>\n",
       "    </tr>\n",
       "    <tr>\n",
       "      <th>22</th>\n",
       "      <td>2025-04-01</td>\n",
       "      <td>household_equipment</td>\n",
       "      <td>household_equipment</td>\n",
       "      <td>8.071807</td>\n",
       "    </tr>\n",
       "  </tbody>\n",
       "</table>\n",
       "</div>"
      ],
      "text/plain": [
       "          date                   feature           original_column  importance\n",
       "0   2025-04-01   withdrawal_segment_code   withdrawal_segment_code  253.486481\n",
       "135 2025-04-01                   freq_tv                   freq_tv   14.024637\n",
       "154 2025-04-01        lifestyle_online_3        lifestyle_online_3   13.906679\n",
       "165 2025-04-01                   grocery                   grocery   12.283807\n",
       "141 2025-04-01                     woman                     woman   11.056854\n",
       "85  2025-04-01        emobility_attitude        emobility_attitude   10.634174\n",
       "97  2025-04-01      holiday_abroad_sport      holiday_abroad_sport   10.491710\n",
       "18  2025-04-01  household_members_income  household_members_income    9.625814\n",
       "125 2025-04-01              mobile_games              mobile_games    9.531493\n",
       "67  2025-04-01                  religion                  religion    9.279317\n",
       "114 2025-04-01              food_healthy              food_healthy    9.006896\n",
       "95  2025-04-01        holiday_out_europe        holiday_out_europe    8.982656\n",
       "69  2025-04-01               breadwinner               breadwinner    8.904414\n",
       "51  2025-04-01              company_size              company_size    8.440514\n",
       "122 2025-04-01           immigrants_know           immigrants_know    8.436664\n",
       "58  2025-04-01          country_problems          country_problems    8.307728\n",
       "155 2025-04-01             spending_type             spending_type    8.272753\n",
       "60  2025-04-01       physical_punishment       physical_punishment    8.211187\n",
       "127 2025-04-01                     gamer                     gamer    8.111064\n",
       "22  2025-04-01       household_equipment       household_equipment    8.071807"
      ]
     },
     "execution_count": 10,
     "metadata": {},
     "output_type": "execute_result"
    }
   ],
   "source": [
    "importance_df"
   ]
  },
  {
   "cell_type": "code",
   "execution_count": 4,
   "id": "7578594b",
   "metadata": {},
   "outputs": [
    {
     "data": {
      "application/vnd.plotly.v1+json": {
       "config": {
        "plotlyServerURL": "https://plot.ly"
       },
       "data": [
        {
         "alignmentgroup": "True",
         "hovertemplate": "Month=%{x}<br>Withdrawn Credits (CZK)=%{y}<br>year=%{marker.color}<extra></extra>",
         "legendgroup": "",
         "marker": {
          "color": {
           "bdata": "4QcAAOEHAADhBwAA4QcAAOEHAADiBwAA4gcAAOIHAADiBwAA4gcAAOIHAADiBwAA4gcAAOIHAADiBwAA4gcAAOIHAADjBwAA4wcAAOMHAADjBwAA4wcAAOMHAADjBwAA4wcAAOMHAADjBwAA4wcAAOMHAADkBwAA5AcAAOQHAADkBwAA5AcAAOQHAADkBwAA5AcAAOQHAADkBwAA5AcAAOQHAADlBwAA5QcAAOUHAADlBwAA5QcAAOUHAADlBwAA5QcAAOUHAADlBwAA5QcAAOUHAADmBwAA5gcAAOYHAADmBwAA5gcAAOYHAADmBwAA5gcAAOYHAADmBwAA5gcAAOYHAADnBwAA5wcAAOcHAADnBwAA5wcAAOcHAADnBwAA5wcAAOcHAADnBwAA5wcAAOcHAADoBwAA6AcAAOgHAADoBwAA6AcAAOgHAADoBwAA6AcAAOgHAADoBwAA6AcAAOgHAADpBwAA6QcAAOkHAADpBwAA",
           "dtype": "i4"
          },
          "coloraxis": "coloraxis",
          "pattern": {
           "shape": ""
          }
         },
         "name": "",
         "offsetgroup": "",
         "orientation": "v",
         "showlegend": false,
         "textposition": "auto",
         "type": "bar",
         "x": {
          "bdata": "CAAAAAkAAAAKAAAACwAAAAwAAAABAAAAAgAAAAMAAAAEAAAABQAAAAYAAAAHAAAACAAAAAkAAAAKAAAACwAAAAwAAAABAAAAAgAAAAMAAAAEAAAABQAAAAYAAAAHAAAACAAAAAkAAAAKAAAACwAAAAwAAAABAAAAAgAAAAMAAAAEAAAABQAAAAYAAAAHAAAACAAAAAkAAAAKAAAACwAAAAwAAAABAAAAAgAAAAMAAAAEAAAABQAAAAYAAAAHAAAACAAAAAkAAAAKAAAACwAAAAwAAAABAAAAAgAAAAMAAAAEAAAABQAAAAYAAAAHAAAACAAAAAkAAAAKAAAACwAAAAwAAAABAAAAAgAAAAMAAAAEAAAABQAAAAYAAAAHAAAACAAAAAkAAAAKAAAACwAAAAwAAAABAAAAAgAAAAMAAAAEAAAABQAAAAYAAAAHAAAACAAAAAkAAAAKAAAACwAAAAwAAAABAAAAAgAAAAMAAAAEAAAA",
          "dtype": "i4"
         },
         "xaxis": "x",
         "y": {
          "bdata": "AAAAAAA+wEAAAAAAACiBQAAAAAAAJK1AAAAAAID9zkAAAAAAAPe6QAAAAAAAWIVAAAAAAIAEx0AAAAAAgL/VQAAAAAAAFcNAAAAAAICv00AAAAAA4LLjQAAAAACA4tJAAAAAAMD73EAAAAAAYEjoQAAAAADgWeRAAAAAAIDA4EAAAAAAQObUQAAAAAAAcPhAAAAAABD39kAAAAAAgA8CQQAAAABg2PlAAAAAAFDd/UAAAAAAkJXxQAAAAAAwtPBAAAAAAMCX/kAAAAAAgMrtQAAAAAAwSPFAAAAAAGh1BEEAAAAAYBX9QAAAAAAgsfpAAAAAAJD1/0AAAAAA8L/0QAAAAABAdvVAAAAAAHBLAEEAAAAAwDEBQQAAAADAXQFBAAAAAICJ+0AAAAAAYNkIQQAAAABwegRBAAAAAIDoC0EAAAAAsPIBQQAAAABAnvhAAAAAAJDr9UAAAAAAYMf7QAAAAAC4CAFBAAAAADBt/EAAAAAAgDH9QAAAAABQKgFBAAAAAKiKDEEAAAAAUD4DQQAAAACAMABBAAAAAIj2CkEAAAAAOP8HQQAAAADwL/pAAAAAAJChAUEAAAAAbCgXQQAAAACAXfZAAAAAABjwA0EAAAAAADoHQQAAAAAwH/tAAAAAACD8AkEAAAAAmBIHQQAAAABECxBBAAAAAMTLE0EAAAAANIMQQQAAAAAo7RFBAAAAAOD+BEEAAAAAaMINQQAAAACInAhBAAAAAGBIC0EAAAAAkHcPQQAAAABI2gtBAAAAAABtDUEAAAAACNsQQQAAAABwrRJBAAAAAJzPFEEAAAAAlCAWQQAAAAB8OhZBAAAAAIDWFEEAAAAAPLEXQQAAAACkeRRBAAAAAEgWFkEAAAAAuEUWQQAAAABwzhZBAAAAANAvHkEAAAAAXAsdQQAAAADCOiNBAAAAANyqJkEAAAAAwGgjQQAAAADOVyZBAAAAAMq1I0EAAAAA0jApQQAAAACwN/NA",
          "dtype": "f8"
         },
         "yaxis": "y"
        }
       ],
       "layout": {
        "barmode": "group",
        "coloraxis": {
         "colorbar": {
          "title": {
           "text": "year"
          }
         },
         "colorscale": [
          [
           0,
           "#0d0887"
          ],
          [
           0.1111111111111111,
           "#46039f"
          ],
          [
           0.2222222222222222,
           "#7201a8"
          ],
          [
           0.3333333333333333,
           "#9c179e"
          ],
          [
           0.4444444444444444,
           "#bd3786"
          ],
          [
           0.5555555555555556,
           "#d8576b"
          ],
          [
           0.6666666666666666,
           "#ed7953"
          ],
          [
           0.7777777777777778,
           "#fb9f3a"
          ],
          [
           0.8888888888888888,
           "#fdca26"
          ],
          [
           1,
           "#f0f921"
          ]
         ]
        },
        "legend": {
         "tracegroupgap": 0
        },
        "template": {
         "data": {
          "bar": [
           {
            "error_x": {
             "color": "#2a3f5f"
            },
            "error_y": {
             "color": "#2a3f5f"
            },
            "marker": {
             "line": {
              "color": "#E5ECF6",
              "width": 0.5
             },
             "pattern": {
              "fillmode": "overlay",
              "size": 10,
              "solidity": 0.2
             }
            },
            "type": "bar"
           }
          ],
          "barpolar": [
           {
            "marker": {
             "line": {
              "color": "#E5ECF6",
              "width": 0.5
             },
             "pattern": {
              "fillmode": "overlay",
              "size": 10,
              "solidity": 0.2
             }
            },
            "type": "barpolar"
           }
          ],
          "carpet": [
           {
            "aaxis": {
             "endlinecolor": "#2a3f5f",
             "gridcolor": "white",
             "linecolor": "white",
             "minorgridcolor": "white",
             "startlinecolor": "#2a3f5f"
            },
            "baxis": {
             "endlinecolor": "#2a3f5f",
             "gridcolor": "white",
             "linecolor": "white",
             "minorgridcolor": "white",
             "startlinecolor": "#2a3f5f"
            },
            "type": "carpet"
           }
          ],
          "choropleth": [
           {
            "colorbar": {
             "outlinewidth": 0,
             "ticks": ""
            },
            "type": "choropleth"
           }
          ],
          "contour": [
           {
            "colorbar": {
             "outlinewidth": 0,
             "ticks": ""
            },
            "colorscale": [
             [
              0,
              "#0d0887"
             ],
             [
              0.1111111111111111,
              "#46039f"
             ],
             [
              0.2222222222222222,
              "#7201a8"
             ],
             [
              0.3333333333333333,
              "#9c179e"
             ],
             [
              0.4444444444444444,
              "#bd3786"
             ],
             [
              0.5555555555555556,
              "#d8576b"
             ],
             [
              0.6666666666666666,
              "#ed7953"
             ],
             [
              0.7777777777777778,
              "#fb9f3a"
             ],
             [
              0.8888888888888888,
              "#fdca26"
             ],
             [
              1,
              "#f0f921"
             ]
            ],
            "type": "contour"
           }
          ],
          "contourcarpet": [
           {
            "colorbar": {
             "outlinewidth": 0,
             "ticks": ""
            },
            "type": "contourcarpet"
           }
          ],
          "heatmap": [
           {
            "colorbar": {
             "outlinewidth": 0,
             "ticks": ""
            },
            "colorscale": [
             [
              0,
              "#0d0887"
             ],
             [
              0.1111111111111111,
              "#46039f"
             ],
             [
              0.2222222222222222,
              "#7201a8"
             ],
             [
              0.3333333333333333,
              "#9c179e"
             ],
             [
              0.4444444444444444,
              "#bd3786"
             ],
             [
              0.5555555555555556,
              "#d8576b"
             ],
             [
              0.6666666666666666,
              "#ed7953"
             ],
             [
              0.7777777777777778,
              "#fb9f3a"
             ],
             [
              0.8888888888888888,
              "#fdca26"
             ],
             [
              1,
              "#f0f921"
             ]
            ],
            "type": "heatmap"
           }
          ],
          "histogram": [
           {
            "marker": {
             "pattern": {
              "fillmode": "overlay",
              "size": 10,
              "solidity": 0.2
             }
            },
            "type": "histogram"
           }
          ],
          "histogram2d": [
           {
            "colorbar": {
             "outlinewidth": 0,
             "ticks": ""
            },
            "colorscale": [
             [
              0,
              "#0d0887"
             ],
             [
              0.1111111111111111,
              "#46039f"
             ],
             [
              0.2222222222222222,
              "#7201a8"
             ],
             [
              0.3333333333333333,
              "#9c179e"
             ],
             [
              0.4444444444444444,
              "#bd3786"
             ],
             [
              0.5555555555555556,
              "#d8576b"
             ],
             [
              0.6666666666666666,
              "#ed7953"
             ],
             [
              0.7777777777777778,
              "#fb9f3a"
             ],
             [
              0.8888888888888888,
              "#fdca26"
             ],
             [
              1,
              "#f0f921"
             ]
            ],
            "type": "histogram2d"
           }
          ],
          "histogram2dcontour": [
           {
            "colorbar": {
             "outlinewidth": 0,
             "ticks": ""
            },
            "colorscale": [
             [
              0,
              "#0d0887"
             ],
             [
              0.1111111111111111,
              "#46039f"
             ],
             [
              0.2222222222222222,
              "#7201a8"
             ],
             [
              0.3333333333333333,
              "#9c179e"
             ],
             [
              0.4444444444444444,
              "#bd3786"
             ],
             [
              0.5555555555555556,
              "#d8576b"
             ],
             [
              0.6666666666666666,
              "#ed7953"
             ],
             [
              0.7777777777777778,
              "#fb9f3a"
             ],
             [
              0.8888888888888888,
              "#fdca26"
             ],
             [
              1,
              "#f0f921"
             ]
            ],
            "type": "histogram2dcontour"
           }
          ],
          "mesh3d": [
           {
            "colorbar": {
             "outlinewidth": 0,
             "ticks": ""
            },
            "type": "mesh3d"
           }
          ],
          "parcoords": [
           {
            "line": {
             "colorbar": {
              "outlinewidth": 0,
              "ticks": ""
             }
            },
            "type": "parcoords"
           }
          ],
          "pie": [
           {
            "automargin": true,
            "type": "pie"
           }
          ],
          "scatter": [
           {
            "fillpattern": {
             "fillmode": "overlay",
             "size": 10,
             "solidity": 0.2
            },
            "type": "scatter"
           }
          ],
          "scatter3d": [
           {
            "line": {
             "colorbar": {
              "outlinewidth": 0,
              "ticks": ""
             }
            },
            "marker": {
             "colorbar": {
              "outlinewidth": 0,
              "ticks": ""
             }
            },
            "type": "scatter3d"
           }
          ],
          "scattercarpet": [
           {
            "marker": {
             "colorbar": {
              "outlinewidth": 0,
              "ticks": ""
             }
            },
            "type": "scattercarpet"
           }
          ],
          "scattergeo": [
           {
            "marker": {
             "colorbar": {
              "outlinewidth": 0,
              "ticks": ""
             }
            },
            "type": "scattergeo"
           }
          ],
          "scattergl": [
           {
            "marker": {
             "colorbar": {
              "outlinewidth": 0,
              "ticks": ""
             }
            },
            "type": "scattergl"
           }
          ],
          "scattermap": [
           {
            "marker": {
             "colorbar": {
              "outlinewidth": 0,
              "ticks": ""
             }
            },
            "type": "scattermap"
           }
          ],
          "scattermapbox": [
           {
            "marker": {
             "colorbar": {
              "outlinewidth": 0,
              "ticks": ""
             }
            },
            "type": "scattermapbox"
           }
          ],
          "scatterpolar": [
           {
            "marker": {
             "colorbar": {
              "outlinewidth": 0,
              "ticks": ""
             }
            },
            "type": "scatterpolar"
           }
          ],
          "scatterpolargl": [
           {
            "marker": {
             "colorbar": {
              "outlinewidth": 0,
              "ticks": ""
             }
            },
            "type": "scatterpolargl"
           }
          ],
          "scatterternary": [
           {
            "marker": {
             "colorbar": {
              "outlinewidth": 0,
              "ticks": ""
             }
            },
            "type": "scatterternary"
           }
          ],
          "surface": [
           {
            "colorbar": {
             "outlinewidth": 0,
             "ticks": ""
            },
            "colorscale": [
             [
              0,
              "#0d0887"
             ],
             [
              0.1111111111111111,
              "#46039f"
             ],
             [
              0.2222222222222222,
              "#7201a8"
             ],
             [
              0.3333333333333333,
              "#9c179e"
             ],
             [
              0.4444444444444444,
              "#bd3786"
             ],
             [
              0.5555555555555556,
              "#d8576b"
             ],
             [
              0.6666666666666666,
              "#ed7953"
             ],
             [
              0.7777777777777778,
              "#fb9f3a"
             ],
             [
              0.8888888888888888,
              "#fdca26"
             ],
             [
              1,
              "#f0f921"
             ]
            ],
            "type": "surface"
           }
          ],
          "table": [
           {
            "cells": {
             "fill": {
              "color": "#EBF0F8"
             },
             "line": {
              "color": "white"
             }
            },
            "header": {
             "fill": {
              "color": "#C8D4E3"
             },
             "line": {
              "color": "white"
             }
            },
            "type": "table"
           }
          ]
         },
         "layout": {
          "annotationdefaults": {
           "arrowcolor": "#2a3f5f",
           "arrowhead": 0,
           "arrowwidth": 1
          },
          "autotypenumbers": "strict",
          "coloraxis": {
           "colorbar": {
            "outlinewidth": 0,
            "ticks": ""
           }
          },
          "colorscale": {
           "diverging": [
            [
             0,
             "#8e0152"
            ],
            [
             0.1,
             "#c51b7d"
            ],
            [
             0.2,
             "#de77ae"
            ],
            [
             0.3,
             "#f1b6da"
            ],
            [
             0.4,
             "#fde0ef"
            ],
            [
             0.5,
             "#f7f7f7"
            ],
            [
             0.6,
             "#e6f5d0"
            ],
            [
             0.7,
             "#b8e186"
            ],
            [
             0.8,
             "#7fbc41"
            ],
            [
             0.9,
             "#4d9221"
            ],
            [
             1,
             "#276419"
            ]
           ],
           "sequential": [
            [
             0,
             "#0d0887"
            ],
            [
             0.1111111111111111,
             "#46039f"
            ],
            [
             0.2222222222222222,
             "#7201a8"
            ],
            [
             0.3333333333333333,
             "#9c179e"
            ],
            [
             0.4444444444444444,
             "#bd3786"
            ],
            [
             0.5555555555555556,
             "#d8576b"
            ],
            [
             0.6666666666666666,
             "#ed7953"
            ],
            [
             0.7777777777777778,
             "#fb9f3a"
            ],
            [
             0.8888888888888888,
             "#fdca26"
            ],
            [
             1,
             "#f0f921"
            ]
           ],
           "sequentialminus": [
            [
             0,
             "#0d0887"
            ],
            [
             0.1111111111111111,
             "#46039f"
            ],
            [
             0.2222222222222222,
             "#7201a8"
            ],
            [
             0.3333333333333333,
             "#9c179e"
            ],
            [
             0.4444444444444444,
             "#bd3786"
            ],
            [
             0.5555555555555556,
             "#d8576b"
            ],
            [
             0.6666666666666666,
             "#ed7953"
            ],
            [
             0.7777777777777778,
             "#fb9f3a"
            ],
            [
             0.8888888888888888,
             "#fdca26"
            ],
            [
             1,
             "#f0f921"
            ]
           ]
          },
          "colorway": [
           "#636efa",
           "#EF553B",
           "#00cc96",
           "#ab63fa",
           "#FFA15A",
           "#19d3f3",
           "#FF6692",
           "#B6E880",
           "#FF97FF",
           "#FECB52"
          ],
          "font": {
           "color": "#2a3f5f"
          },
          "geo": {
           "bgcolor": "white",
           "lakecolor": "white",
           "landcolor": "#E5ECF6",
           "showlakes": true,
           "showland": true,
           "subunitcolor": "white"
          },
          "hoverlabel": {
           "align": "left"
          },
          "hovermode": "closest",
          "mapbox": {
           "style": "light"
          },
          "paper_bgcolor": "white",
          "plot_bgcolor": "#E5ECF6",
          "polar": {
           "angularaxis": {
            "gridcolor": "white",
            "linecolor": "white",
            "ticks": ""
           },
           "bgcolor": "#E5ECF6",
           "radialaxis": {
            "gridcolor": "white",
            "linecolor": "white",
            "ticks": ""
           }
          },
          "scene": {
           "xaxis": {
            "backgroundcolor": "#E5ECF6",
            "gridcolor": "white",
            "gridwidth": 2,
            "linecolor": "white",
            "showbackground": true,
            "ticks": "",
            "zerolinecolor": "white"
           },
           "yaxis": {
            "backgroundcolor": "#E5ECF6",
            "gridcolor": "white",
            "gridwidth": 2,
            "linecolor": "white",
            "showbackground": true,
            "ticks": "",
            "zerolinecolor": "white"
           },
           "zaxis": {
            "backgroundcolor": "#E5ECF6",
            "gridcolor": "white",
            "gridwidth": 2,
            "linecolor": "white",
            "showbackground": true,
            "ticks": "",
            "zerolinecolor": "white"
           }
          },
          "shapedefaults": {
           "line": {
            "color": "#2a3f5f"
           }
          },
          "ternary": {
           "aaxis": {
            "gridcolor": "white",
            "linecolor": "white",
            "ticks": ""
           },
           "baxis": {
            "gridcolor": "white",
            "linecolor": "white",
            "ticks": ""
           },
           "bgcolor": "#E5ECF6",
           "caxis": {
            "gridcolor": "white",
            "linecolor": "white",
            "ticks": ""
           }
          },
          "title": {
           "x": 0.05
          },
          "xaxis": {
           "automargin": true,
           "gridcolor": "white",
           "linecolor": "white",
           "ticks": "",
           "title": {
            "standoff": 15
           },
           "zerolinecolor": "white",
           "zerolinewidth": 2
          },
          "yaxis": {
           "automargin": true,
           "gridcolor": "white",
           "linecolor": "white",
           "ticks": "",
           "title": {
            "standoff": 15
           },
           "zerolinecolor": "white",
           "zerolinewidth": 2
          }
         }
        },
        "title": {
         "text": "Total Withdrawals per Month by Year"
        },
        "xaxis": {
         "anchor": "y",
         "domain": [
          0,
          1
         ],
         "title": {
          "text": "Month"
         }
        },
        "yaxis": {
         "anchor": "x",
         "domain": [
          0,
          1
         ],
         "title": {
          "text": "Withdrawn Credits (CZK)"
         }
        }
       }
      }
     },
     "metadata": {},
     "output_type": "display_data"
    },
    {
     "data": {
      "application/vnd.plotly.v1+json": {
       "config": {
        "plotlyServerURL": "https://plot.ly"
       },
       "data": [
        {
         "cells": {
          "values": [
           [
            2017,
            2017,
            2017,
            2017,
            2017,
            2018,
            2018,
            2018,
            2018,
            2018,
            2018,
            2018,
            2018,
            2018,
            2018,
            2018,
            2018,
            2019,
            2019,
            2019,
            2019,
            2019,
            2019,
            2019,
            2019,
            2019,
            2019,
            2019,
            2019,
            2020,
            2020,
            2020,
            2020,
            2020,
            2020,
            2020,
            2020,
            2020,
            2020,
            2020,
            2020,
            2021,
            2021,
            2021,
            2021,
            2021,
            2021,
            2021,
            2021,
            2021,
            2021,
            2021,
            2021,
            2022,
            2022,
            2022,
            2022,
            2022,
            2022,
            2022,
            2022,
            2022,
            2022,
            2022,
            2022,
            2023,
            2023,
            2023,
            2023,
            2023,
            2023,
            2023,
            2023,
            2023,
            2023,
            2023,
            2023,
            2024,
            2024,
            2024,
            2024,
            2024,
            2024,
            2024,
            2024,
            2024,
            2024,
            2024,
            2024,
            2025,
            2025,
            2025,
            2025
           ],
           [
            8,
            9,
            10,
            11,
            12,
            1,
            2,
            3,
            4,
            5,
            6,
            7,
            8,
            9,
            10,
            11,
            12,
            1,
            2,
            3,
            4,
            5,
            6,
            7,
            8,
            9,
            10,
            11,
            12,
            1,
            2,
            3,
            4,
            5,
            6,
            7,
            8,
            9,
            10,
            11,
            12,
            1,
            2,
            3,
            4,
            5,
            6,
            7,
            8,
            9,
            10,
            11,
            12,
            1,
            2,
            3,
            4,
            5,
            6,
            7,
            8,
            9,
            10,
            11,
            12,
            1,
            2,
            3,
            4,
            5,
            6,
            7,
            8,
            9,
            10,
            11,
            12,
            1,
            2,
            3,
            4,
            5,
            6,
            7,
            8,
            9,
            10,
            11,
            12,
            1,
            2,
            3,
            4
           ],
           [
            8316,
            549,
            3730,
            15867,
            6903,
            683,
            11785,
            22270,
            9770,
            20158,
            40343,
            19338,
            29679,
            49731,
            41679,
            34308,
            21401,
            100096,
            94065,
            147952,
            105862,
            122325,
            72025,
            68419,
            125308,
            61012,
            70787,
            167597,
            119126,
            109330,
            130905,
            84991,
            87908,
            133486,
            140856,
            142264,
            112792,
            203564,
            167758,
            228624,
            147030,
            100836,
            89785,
            113782,
            139543,
            116435,
            119576,
            140618,
            233813,
            157642,
            132624,
            220881,
            196583,
            107263,
            144434,
            379419,
            91608,
            163331,
            190272,
            111091,
            155524,
            189011,
            262865,
            324337,
            270541,
            293706,
            171996,
            243789,
            201617,
            223500,
            257778,
            228169,
            241056,
            276162,
            306012,
            340967,
            362533,
            364191,
            341408,
            388175,
            335465,
            361874,
            364910,
            373660,
            494580,
            475863,
            630113,
            742766,
            636000,
            732135,
            645861,
            825449,
            78715
           ]
          ]
         },
         "header": {
          "values": [
           "Year",
           "Month",
           "Withdrawn Credits"
          ]
         },
         "type": "table"
        }
       ],
       "layout": {
        "template": {
         "data": {
          "bar": [
           {
            "error_x": {
             "color": "#2a3f5f"
            },
            "error_y": {
             "color": "#2a3f5f"
            },
            "marker": {
             "line": {
              "color": "#E5ECF6",
              "width": 0.5
             },
             "pattern": {
              "fillmode": "overlay",
              "size": 10,
              "solidity": 0.2
             }
            },
            "type": "bar"
           }
          ],
          "barpolar": [
           {
            "marker": {
             "line": {
              "color": "#E5ECF6",
              "width": 0.5
             },
             "pattern": {
              "fillmode": "overlay",
              "size": 10,
              "solidity": 0.2
             }
            },
            "type": "barpolar"
           }
          ],
          "carpet": [
           {
            "aaxis": {
             "endlinecolor": "#2a3f5f",
             "gridcolor": "white",
             "linecolor": "white",
             "minorgridcolor": "white",
             "startlinecolor": "#2a3f5f"
            },
            "baxis": {
             "endlinecolor": "#2a3f5f",
             "gridcolor": "white",
             "linecolor": "white",
             "minorgridcolor": "white",
             "startlinecolor": "#2a3f5f"
            },
            "type": "carpet"
           }
          ],
          "choropleth": [
           {
            "colorbar": {
             "outlinewidth": 0,
             "ticks": ""
            },
            "type": "choropleth"
           }
          ],
          "contour": [
           {
            "colorbar": {
             "outlinewidth": 0,
             "ticks": ""
            },
            "colorscale": [
             [
              0,
              "#0d0887"
             ],
             [
              0.1111111111111111,
              "#46039f"
             ],
             [
              0.2222222222222222,
              "#7201a8"
             ],
             [
              0.3333333333333333,
              "#9c179e"
             ],
             [
              0.4444444444444444,
              "#bd3786"
             ],
             [
              0.5555555555555556,
              "#d8576b"
             ],
             [
              0.6666666666666666,
              "#ed7953"
             ],
             [
              0.7777777777777778,
              "#fb9f3a"
             ],
             [
              0.8888888888888888,
              "#fdca26"
             ],
             [
              1,
              "#f0f921"
             ]
            ],
            "type": "contour"
           }
          ],
          "contourcarpet": [
           {
            "colorbar": {
             "outlinewidth": 0,
             "ticks": ""
            },
            "type": "contourcarpet"
           }
          ],
          "heatmap": [
           {
            "colorbar": {
             "outlinewidth": 0,
             "ticks": ""
            },
            "colorscale": [
             [
              0,
              "#0d0887"
             ],
             [
              0.1111111111111111,
              "#46039f"
             ],
             [
              0.2222222222222222,
              "#7201a8"
             ],
             [
              0.3333333333333333,
              "#9c179e"
             ],
             [
              0.4444444444444444,
              "#bd3786"
             ],
             [
              0.5555555555555556,
              "#d8576b"
             ],
             [
              0.6666666666666666,
              "#ed7953"
             ],
             [
              0.7777777777777778,
              "#fb9f3a"
             ],
             [
              0.8888888888888888,
              "#fdca26"
             ],
             [
              1,
              "#f0f921"
             ]
            ],
            "type": "heatmap"
           }
          ],
          "histogram": [
           {
            "marker": {
             "pattern": {
              "fillmode": "overlay",
              "size": 10,
              "solidity": 0.2
             }
            },
            "type": "histogram"
           }
          ],
          "histogram2d": [
           {
            "colorbar": {
             "outlinewidth": 0,
             "ticks": ""
            },
            "colorscale": [
             [
              0,
              "#0d0887"
             ],
             [
              0.1111111111111111,
              "#46039f"
             ],
             [
              0.2222222222222222,
              "#7201a8"
             ],
             [
              0.3333333333333333,
              "#9c179e"
             ],
             [
              0.4444444444444444,
              "#bd3786"
             ],
             [
              0.5555555555555556,
              "#d8576b"
             ],
             [
              0.6666666666666666,
              "#ed7953"
             ],
             [
              0.7777777777777778,
              "#fb9f3a"
             ],
             [
              0.8888888888888888,
              "#fdca26"
             ],
             [
              1,
              "#f0f921"
             ]
            ],
            "type": "histogram2d"
           }
          ],
          "histogram2dcontour": [
           {
            "colorbar": {
             "outlinewidth": 0,
             "ticks": ""
            },
            "colorscale": [
             [
              0,
              "#0d0887"
             ],
             [
              0.1111111111111111,
              "#46039f"
             ],
             [
              0.2222222222222222,
              "#7201a8"
             ],
             [
              0.3333333333333333,
              "#9c179e"
             ],
             [
              0.4444444444444444,
              "#bd3786"
             ],
             [
              0.5555555555555556,
              "#d8576b"
             ],
             [
              0.6666666666666666,
              "#ed7953"
             ],
             [
              0.7777777777777778,
              "#fb9f3a"
             ],
             [
              0.8888888888888888,
              "#fdca26"
             ],
             [
              1,
              "#f0f921"
             ]
            ],
            "type": "histogram2dcontour"
           }
          ],
          "mesh3d": [
           {
            "colorbar": {
             "outlinewidth": 0,
             "ticks": ""
            },
            "type": "mesh3d"
           }
          ],
          "parcoords": [
           {
            "line": {
             "colorbar": {
              "outlinewidth": 0,
              "ticks": ""
             }
            },
            "type": "parcoords"
           }
          ],
          "pie": [
           {
            "automargin": true,
            "type": "pie"
           }
          ],
          "scatter": [
           {
            "fillpattern": {
             "fillmode": "overlay",
             "size": 10,
             "solidity": 0.2
            },
            "type": "scatter"
           }
          ],
          "scatter3d": [
           {
            "line": {
             "colorbar": {
              "outlinewidth": 0,
              "ticks": ""
             }
            },
            "marker": {
             "colorbar": {
              "outlinewidth": 0,
              "ticks": ""
             }
            },
            "type": "scatter3d"
           }
          ],
          "scattercarpet": [
           {
            "marker": {
             "colorbar": {
              "outlinewidth": 0,
              "ticks": ""
             }
            },
            "type": "scattercarpet"
           }
          ],
          "scattergeo": [
           {
            "marker": {
             "colorbar": {
              "outlinewidth": 0,
              "ticks": ""
             }
            },
            "type": "scattergeo"
           }
          ],
          "scattergl": [
           {
            "marker": {
             "colorbar": {
              "outlinewidth": 0,
              "ticks": ""
             }
            },
            "type": "scattergl"
           }
          ],
          "scattermap": [
           {
            "marker": {
             "colorbar": {
              "outlinewidth": 0,
              "ticks": ""
             }
            },
            "type": "scattermap"
           }
          ],
          "scattermapbox": [
           {
            "marker": {
             "colorbar": {
              "outlinewidth": 0,
              "ticks": ""
             }
            },
            "type": "scattermapbox"
           }
          ],
          "scatterpolar": [
           {
            "marker": {
             "colorbar": {
              "outlinewidth": 0,
              "ticks": ""
             }
            },
            "type": "scatterpolar"
           }
          ],
          "scatterpolargl": [
           {
            "marker": {
             "colorbar": {
              "outlinewidth": 0,
              "ticks": ""
             }
            },
            "type": "scatterpolargl"
           }
          ],
          "scatterternary": [
           {
            "marker": {
             "colorbar": {
              "outlinewidth": 0,
              "ticks": ""
             }
            },
            "type": "scatterternary"
           }
          ],
          "surface": [
           {
            "colorbar": {
             "outlinewidth": 0,
             "ticks": ""
            },
            "colorscale": [
             [
              0,
              "#0d0887"
             ],
             [
              0.1111111111111111,
              "#46039f"
             ],
             [
              0.2222222222222222,
              "#7201a8"
             ],
             [
              0.3333333333333333,
              "#9c179e"
             ],
             [
              0.4444444444444444,
              "#bd3786"
             ],
             [
              0.5555555555555556,
              "#d8576b"
             ],
             [
              0.6666666666666666,
              "#ed7953"
             ],
             [
              0.7777777777777778,
              "#fb9f3a"
             ],
             [
              0.8888888888888888,
              "#fdca26"
             ],
             [
              1,
              "#f0f921"
             ]
            ],
            "type": "surface"
           }
          ],
          "table": [
           {
            "cells": {
             "fill": {
              "color": "#EBF0F8"
             },
             "line": {
              "color": "white"
             }
            },
            "header": {
             "fill": {
              "color": "#C8D4E3"
             },
             "line": {
              "color": "white"
             }
            },
            "type": "table"
           }
          ]
         },
         "layout": {
          "annotationdefaults": {
           "arrowcolor": "#2a3f5f",
           "arrowhead": 0,
           "arrowwidth": 1
          },
          "autotypenumbers": "strict",
          "coloraxis": {
           "colorbar": {
            "outlinewidth": 0,
            "ticks": ""
           }
          },
          "colorscale": {
           "diverging": [
            [
             0,
             "#8e0152"
            ],
            [
             0.1,
             "#c51b7d"
            ],
            [
             0.2,
             "#de77ae"
            ],
            [
             0.3,
             "#f1b6da"
            ],
            [
             0.4,
             "#fde0ef"
            ],
            [
             0.5,
             "#f7f7f7"
            ],
            [
             0.6,
             "#e6f5d0"
            ],
            [
             0.7,
             "#b8e186"
            ],
            [
             0.8,
             "#7fbc41"
            ],
            [
             0.9,
             "#4d9221"
            ],
            [
             1,
             "#276419"
            ]
           ],
           "sequential": [
            [
             0,
             "#0d0887"
            ],
            [
             0.1111111111111111,
             "#46039f"
            ],
            [
             0.2222222222222222,
             "#7201a8"
            ],
            [
             0.3333333333333333,
             "#9c179e"
            ],
            [
             0.4444444444444444,
             "#bd3786"
            ],
            [
             0.5555555555555556,
             "#d8576b"
            ],
            [
             0.6666666666666666,
             "#ed7953"
            ],
            [
             0.7777777777777778,
             "#fb9f3a"
            ],
            [
             0.8888888888888888,
             "#fdca26"
            ],
            [
             1,
             "#f0f921"
            ]
           ],
           "sequentialminus": [
            [
             0,
             "#0d0887"
            ],
            [
             0.1111111111111111,
             "#46039f"
            ],
            [
             0.2222222222222222,
             "#7201a8"
            ],
            [
             0.3333333333333333,
             "#9c179e"
            ],
            [
             0.4444444444444444,
             "#bd3786"
            ],
            [
             0.5555555555555556,
             "#d8576b"
            ],
            [
             0.6666666666666666,
             "#ed7953"
            ],
            [
             0.7777777777777778,
             "#fb9f3a"
            ],
            [
             0.8888888888888888,
             "#fdca26"
            ],
            [
             1,
             "#f0f921"
            ]
           ]
          },
          "colorway": [
           "#636efa",
           "#EF553B",
           "#00cc96",
           "#ab63fa",
           "#FFA15A",
           "#19d3f3",
           "#FF6692",
           "#B6E880",
           "#FF97FF",
           "#FECB52"
          ],
          "font": {
           "color": "#2a3f5f"
          },
          "geo": {
           "bgcolor": "white",
           "lakecolor": "white",
           "landcolor": "#E5ECF6",
           "showlakes": true,
           "showland": true,
           "subunitcolor": "white"
          },
          "hoverlabel": {
           "align": "left"
          },
          "hovermode": "closest",
          "mapbox": {
           "style": "light"
          },
          "paper_bgcolor": "white",
          "plot_bgcolor": "#E5ECF6",
          "polar": {
           "angularaxis": {
            "gridcolor": "white",
            "linecolor": "white",
            "ticks": ""
           },
           "bgcolor": "#E5ECF6",
           "radialaxis": {
            "gridcolor": "white",
            "linecolor": "white",
            "ticks": ""
           }
          },
          "scene": {
           "xaxis": {
            "backgroundcolor": "#E5ECF6",
            "gridcolor": "white",
            "gridwidth": 2,
            "linecolor": "white",
            "showbackground": true,
            "ticks": "",
            "zerolinecolor": "white"
           },
           "yaxis": {
            "backgroundcolor": "#E5ECF6",
            "gridcolor": "white",
            "gridwidth": 2,
            "linecolor": "white",
            "showbackground": true,
            "ticks": "",
            "zerolinecolor": "white"
           },
           "zaxis": {
            "backgroundcolor": "#E5ECF6",
            "gridcolor": "white",
            "gridwidth": 2,
            "linecolor": "white",
            "showbackground": true,
            "ticks": "",
            "zerolinecolor": "white"
           }
          },
          "shapedefaults": {
           "line": {
            "color": "#2a3f5f"
           }
          },
          "ternary": {
           "aaxis": {
            "gridcolor": "white",
            "linecolor": "white",
            "ticks": ""
           },
           "baxis": {
            "gridcolor": "white",
            "linecolor": "white",
            "ticks": ""
           },
           "bgcolor": "#E5ECF6",
           "caxis": {
            "gridcolor": "white",
            "linecolor": "white",
            "ticks": ""
           }
          },
          "title": {
           "x": 0.05
          },
          "xaxis": {
           "automargin": true,
           "gridcolor": "white",
           "linecolor": "white",
           "ticks": "",
           "title": {
            "standoff": 15
           },
           "zerolinecolor": "white",
           "zerolinewidth": 2
          },
          "yaxis": {
           "automargin": true,
           "gridcolor": "white",
           "linecolor": "white",
           "ticks": "",
           "title": {
            "standoff": 15
           },
           "zerolinecolor": "white",
           "zerolinewidth": 2
          }
         }
        }
       }
      }
     },
     "metadata": {},
     "output_type": "display_data"
    }
   ],
   "source": [
    "df_payments['created_at'] = pd.to_datetime(df_payments['created_at'], errors='coerce')\n",
    "\n",
    "df_successful = df_payments[df_payments['state'].isin(['PAID', 'APPROVED'])].copy()\n",
    "\n",
    "df_successful['year'] = df_successful['created_at'].dt.year\n",
    "df_successful['month'] = df_successful['created_at'].dt.month\n",
    "\n",
    "monthly_withdrawals = (\n",
    "    df_successful.groupby(['year', 'month'])['credits']\n",
    "    .sum()\n",
    "    .reset_index()\n",
    "    .sort_values(['year', 'month'])\n",
    ")\n",
    "\n",
    "import plotly.express as px\n",
    "fig = px.bar(\n",
    "    monthly_withdrawals,\n",
    "    x='month',\n",
    "    y='credits',\n",
    "    color='year',\n",
    "    barmode='group',\n",
    "    title='Total Withdrawals per Month by Year',\n",
    "    labels={'credits': 'Withdrawn Credits (CZK)', 'month': 'Month'}\n",
    ")\n",
    "fig.show()\n",
    "\n",
    "import plotly.graph_objects as go\n",
    "fig_table = go.Figure(data=[go.Table(\n",
    "    header=dict(values=[\"Year\", \"Month\", \"Withdrawn Credits\"]),\n",
    "    cells=dict(values=[\n",
    "        monthly_withdrawals['year'],\n",
    "        monthly_withdrawals['month'],\n",
    "        monthly_withdrawals['credits'].round(2)\n",
    "    ])\n",
    ")])\n",
    "fig_table.show()\n"
   ]
  },
  {
   "cell_type": "code",
   "execution_count": 5,
   "id": "2800f882",
   "metadata": {},
   "outputs": [],
   "source": [
    "# Count number of withdrawals per month (state must be PAID or APPROVED)\n",
    "monthly_withdrawal_counts = (\n",
    "    df_successful\n",
    "    .groupby(['year', 'month'])\n",
    "    .size()\n",
    "    .reset_index(name='withdrawal_count')\n",
    "    .sort_values(['year', 'month'])\n",
    ")\n"
   ]
  },
  {
   "cell_type": "code",
   "execution_count": 7,
   "id": "4ee861c9",
   "metadata": {},
   "outputs": [
    {
     "data": {
      "application/vnd.plotly.v1+json": {
       "config": {
        "plotlyServerURL": "https://plot.ly"
       },
       "data": [
        {
         "alignmentgroup": "True",
         "hovertemplate": "Month=%{x}<br>Number of Withdrawals=%{y}<br>year=%{marker.color}<extra></extra>",
         "legendgroup": "",
         "marker": {
          "color": {
           "bdata": "4QcAAOEHAADhBwAA4QcAAOEHAADiBwAA4gcAAOIHAADiBwAA4gcAAOIHAADiBwAA4gcAAOIHAADiBwAA4gcAAOIHAADjBwAA4wcAAOMHAADjBwAA4wcAAOMHAADjBwAA4wcAAOMHAADjBwAA4wcAAOMHAADkBwAA5AcAAOQHAADkBwAA5AcAAOQHAADkBwAA5AcAAOQHAADkBwAA5AcAAOQHAADlBwAA5QcAAOUHAADlBwAA5QcAAOUHAADlBwAA5QcAAOUHAADlBwAA5QcAAOUHAADmBwAA5gcAAOYHAADmBwAA5gcAAOYHAADmBwAA5gcAAOYHAADmBwAA5gcAAOYHAADnBwAA5wcAAOcHAADnBwAA5wcAAOcHAADnBwAA5wcAAOcHAADnBwAA5wcAAOcHAADoBwAA6AcAAOgHAADoBwAA6AcAAOgHAADoBwAA6AcAAOgHAADoBwAA6AcAAOgHAADpBwAA6QcAAOkHAADpBwAA",
           "dtype": "i4"
          },
          "coloraxis": "coloraxis",
          "pattern": {
           "shape": ""
          }
         },
         "name": "",
         "offsetgroup": "",
         "orientation": "v",
         "showlegend": false,
         "textposition": "auto",
         "type": "bar",
         "x": {
          "bdata": "CAAAAAkAAAAKAAAACwAAAAwAAAABAAAAAgAAAAMAAAAEAAAABQAAAAYAAAAHAAAACAAAAAkAAAAKAAAACwAAAAwAAAABAAAAAgAAAAMAAAAEAAAABQAAAAYAAAAHAAAACAAAAAkAAAAKAAAACwAAAAwAAAABAAAAAgAAAAMAAAAEAAAABQAAAAYAAAAHAAAACAAAAAkAAAAKAAAACwAAAAwAAAABAAAAAgAAAAMAAAAEAAAABQAAAAYAAAAHAAAACAAAAAkAAAAKAAAACwAAAAwAAAABAAAAAgAAAAMAAAAEAAAABQAAAAYAAAAHAAAACAAAAAkAAAAKAAAACwAAAAwAAAABAAAAAgAAAAMAAAAEAAAABQAAAAYAAAAHAAAACAAAAAkAAAAKAAAACwAAAAwAAAABAAAAAgAAAAMAAAAEAAAABQAAAAYAAAAHAAAACAAAAAkAAAAKAAAACwAAAAwAAAABAAAAAgAAAAMAAAAEAAAA",
          "dtype": "i4"
         },
         "xaxis": "x",
         "y": {
          "bdata": "EAABAAcAEQAJAAEAEgAlABIAJgAnACEAMgBcAEsAQAAnAKkAowD+ALAAtQB4AGQAyABdAG0AAQG0AKcAygCPAI4A2gDKANEApQAnAegAUQHBAJgAhACWANoAqACZANEAPwH7AKcALgEgAZMAxQA+ApAA6gAEAZgA7gAUAZIB1AGEAa8B+wBaAUEBQAGFAVUBcgGiAagB8gEhAiwCGwJiAhICIAJDAk0C9wLsAvADfgSmA5UEDgQ1BX0A",
          "dtype": "i2"
         },
         "yaxis": "y"
        }
       ],
       "layout": {
        "barmode": "group",
        "coloraxis": {
         "colorbar": {
          "title": {
           "text": "year"
          }
         },
         "colorscale": [
          [
           0,
           "#0d0887"
          ],
          [
           0.1111111111111111,
           "#46039f"
          ],
          [
           0.2222222222222222,
           "#7201a8"
          ],
          [
           0.3333333333333333,
           "#9c179e"
          ],
          [
           0.4444444444444444,
           "#bd3786"
          ],
          [
           0.5555555555555556,
           "#d8576b"
          ],
          [
           0.6666666666666666,
           "#ed7953"
          ],
          [
           0.7777777777777778,
           "#fb9f3a"
          ],
          [
           0.8888888888888888,
           "#fdca26"
          ],
          [
           1,
           "#f0f921"
          ]
         ]
        },
        "legend": {
         "tracegroupgap": 0
        },
        "template": {
         "data": {
          "bar": [
           {
            "error_x": {
             "color": "#2a3f5f"
            },
            "error_y": {
             "color": "#2a3f5f"
            },
            "marker": {
             "line": {
              "color": "#E5ECF6",
              "width": 0.5
             },
             "pattern": {
              "fillmode": "overlay",
              "size": 10,
              "solidity": 0.2
             }
            },
            "type": "bar"
           }
          ],
          "barpolar": [
           {
            "marker": {
             "line": {
              "color": "#E5ECF6",
              "width": 0.5
             },
             "pattern": {
              "fillmode": "overlay",
              "size": 10,
              "solidity": 0.2
             }
            },
            "type": "barpolar"
           }
          ],
          "carpet": [
           {
            "aaxis": {
             "endlinecolor": "#2a3f5f",
             "gridcolor": "white",
             "linecolor": "white",
             "minorgridcolor": "white",
             "startlinecolor": "#2a3f5f"
            },
            "baxis": {
             "endlinecolor": "#2a3f5f",
             "gridcolor": "white",
             "linecolor": "white",
             "minorgridcolor": "white",
             "startlinecolor": "#2a3f5f"
            },
            "type": "carpet"
           }
          ],
          "choropleth": [
           {
            "colorbar": {
             "outlinewidth": 0,
             "ticks": ""
            },
            "type": "choropleth"
           }
          ],
          "contour": [
           {
            "colorbar": {
             "outlinewidth": 0,
             "ticks": ""
            },
            "colorscale": [
             [
              0,
              "#0d0887"
             ],
             [
              0.1111111111111111,
              "#46039f"
             ],
             [
              0.2222222222222222,
              "#7201a8"
             ],
             [
              0.3333333333333333,
              "#9c179e"
             ],
             [
              0.4444444444444444,
              "#bd3786"
             ],
             [
              0.5555555555555556,
              "#d8576b"
             ],
             [
              0.6666666666666666,
              "#ed7953"
             ],
             [
              0.7777777777777778,
              "#fb9f3a"
             ],
             [
              0.8888888888888888,
              "#fdca26"
             ],
             [
              1,
              "#f0f921"
             ]
            ],
            "type": "contour"
           }
          ],
          "contourcarpet": [
           {
            "colorbar": {
             "outlinewidth": 0,
             "ticks": ""
            },
            "type": "contourcarpet"
           }
          ],
          "heatmap": [
           {
            "colorbar": {
             "outlinewidth": 0,
             "ticks": ""
            },
            "colorscale": [
             [
              0,
              "#0d0887"
             ],
             [
              0.1111111111111111,
              "#46039f"
             ],
             [
              0.2222222222222222,
              "#7201a8"
             ],
             [
              0.3333333333333333,
              "#9c179e"
             ],
             [
              0.4444444444444444,
              "#bd3786"
             ],
             [
              0.5555555555555556,
              "#d8576b"
             ],
             [
              0.6666666666666666,
              "#ed7953"
             ],
             [
              0.7777777777777778,
              "#fb9f3a"
             ],
             [
              0.8888888888888888,
              "#fdca26"
             ],
             [
              1,
              "#f0f921"
             ]
            ],
            "type": "heatmap"
           }
          ],
          "histogram": [
           {
            "marker": {
             "pattern": {
              "fillmode": "overlay",
              "size": 10,
              "solidity": 0.2
             }
            },
            "type": "histogram"
           }
          ],
          "histogram2d": [
           {
            "colorbar": {
             "outlinewidth": 0,
             "ticks": ""
            },
            "colorscale": [
             [
              0,
              "#0d0887"
             ],
             [
              0.1111111111111111,
              "#46039f"
             ],
             [
              0.2222222222222222,
              "#7201a8"
             ],
             [
              0.3333333333333333,
              "#9c179e"
             ],
             [
              0.4444444444444444,
              "#bd3786"
             ],
             [
              0.5555555555555556,
              "#d8576b"
             ],
             [
              0.6666666666666666,
              "#ed7953"
             ],
             [
              0.7777777777777778,
              "#fb9f3a"
             ],
             [
              0.8888888888888888,
              "#fdca26"
             ],
             [
              1,
              "#f0f921"
             ]
            ],
            "type": "histogram2d"
           }
          ],
          "histogram2dcontour": [
           {
            "colorbar": {
             "outlinewidth": 0,
             "ticks": ""
            },
            "colorscale": [
             [
              0,
              "#0d0887"
             ],
             [
              0.1111111111111111,
              "#46039f"
             ],
             [
              0.2222222222222222,
              "#7201a8"
             ],
             [
              0.3333333333333333,
              "#9c179e"
             ],
             [
              0.4444444444444444,
              "#bd3786"
             ],
             [
              0.5555555555555556,
              "#d8576b"
             ],
             [
              0.6666666666666666,
              "#ed7953"
             ],
             [
              0.7777777777777778,
              "#fb9f3a"
             ],
             [
              0.8888888888888888,
              "#fdca26"
             ],
             [
              1,
              "#f0f921"
             ]
            ],
            "type": "histogram2dcontour"
           }
          ],
          "mesh3d": [
           {
            "colorbar": {
             "outlinewidth": 0,
             "ticks": ""
            },
            "type": "mesh3d"
           }
          ],
          "parcoords": [
           {
            "line": {
             "colorbar": {
              "outlinewidth": 0,
              "ticks": ""
             }
            },
            "type": "parcoords"
           }
          ],
          "pie": [
           {
            "automargin": true,
            "type": "pie"
           }
          ],
          "scatter": [
           {
            "fillpattern": {
             "fillmode": "overlay",
             "size": 10,
             "solidity": 0.2
            },
            "type": "scatter"
           }
          ],
          "scatter3d": [
           {
            "line": {
             "colorbar": {
              "outlinewidth": 0,
              "ticks": ""
             }
            },
            "marker": {
             "colorbar": {
              "outlinewidth": 0,
              "ticks": ""
             }
            },
            "type": "scatter3d"
           }
          ],
          "scattercarpet": [
           {
            "marker": {
             "colorbar": {
              "outlinewidth": 0,
              "ticks": ""
             }
            },
            "type": "scattercarpet"
           }
          ],
          "scattergeo": [
           {
            "marker": {
             "colorbar": {
              "outlinewidth": 0,
              "ticks": ""
             }
            },
            "type": "scattergeo"
           }
          ],
          "scattergl": [
           {
            "marker": {
             "colorbar": {
              "outlinewidth": 0,
              "ticks": ""
             }
            },
            "type": "scattergl"
           }
          ],
          "scattermap": [
           {
            "marker": {
             "colorbar": {
              "outlinewidth": 0,
              "ticks": ""
             }
            },
            "type": "scattermap"
           }
          ],
          "scattermapbox": [
           {
            "marker": {
             "colorbar": {
              "outlinewidth": 0,
              "ticks": ""
             }
            },
            "type": "scattermapbox"
           }
          ],
          "scatterpolar": [
           {
            "marker": {
             "colorbar": {
              "outlinewidth": 0,
              "ticks": ""
             }
            },
            "type": "scatterpolar"
           }
          ],
          "scatterpolargl": [
           {
            "marker": {
             "colorbar": {
              "outlinewidth": 0,
              "ticks": ""
             }
            },
            "type": "scatterpolargl"
           }
          ],
          "scatterternary": [
           {
            "marker": {
             "colorbar": {
              "outlinewidth": 0,
              "ticks": ""
             }
            },
            "type": "scatterternary"
           }
          ],
          "surface": [
           {
            "colorbar": {
             "outlinewidth": 0,
             "ticks": ""
            },
            "colorscale": [
             [
              0,
              "#0d0887"
             ],
             [
              0.1111111111111111,
              "#46039f"
             ],
             [
              0.2222222222222222,
              "#7201a8"
             ],
             [
              0.3333333333333333,
              "#9c179e"
             ],
             [
              0.4444444444444444,
              "#bd3786"
             ],
             [
              0.5555555555555556,
              "#d8576b"
             ],
             [
              0.6666666666666666,
              "#ed7953"
             ],
             [
              0.7777777777777778,
              "#fb9f3a"
             ],
             [
              0.8888888888888888,
              "#fdca26"
             ],
             [
              1,
              "#f0f921"
             ]
            ],
            "type": "surface"
           }
          ],
          "table": [
           {
            "cells": {
             "fill": {
              "color": "#EBF0F8"
             },
             "line": {
              "color": "white"
             }
            },
            "header": {
             "fill": {
              "color": "#C8D4E3"
             },
             "line": {
              "color": "white"
             }
            },
            "type": "table"
           }
          ]
         },
         "layout": {
          "annotationdefaults": {
           "arrowcolor": "#2a3f5f",
           "arrowhead": 0,
           "arrowwidth": 1
          },
          "autotypenumbers": "strict",
          "coloraxis": {
           "colorbar": {
            "outlinewidth": 0,
            "ticks": ""
           }
          },
          "colorscale": {
           "diverging": [
            [
             0,
             "#8e0152"
            ],
            [
             0.1,
             "#c51b7d"
            ],
            [
             0.2,
             "#de77ae"
            ],
            [
             0.3,
             "#f1b6da"
            ],
            [
             0.4,
             "#fde0ef"
            ],
            [
             0.5,
             "#f7f7f7"
            ],
            [
             0.6,
             "#e6f5d0"
            ],
            [
             0.7,
             "#b8e186"
            ],
            [
             0.8,
             "#7fbc41"
            ],
            [
             0.9,
             "#4d9221"
            ],
            [
             1,
             "#276419"
            ]
           ],
           "sequential": [
            [
             0,
             "#0d0887"
            ],
            [
             0.1111111111111111,
             "#46039f"
            ],
            [
             0.2222222222222222,
             "#7201a8"
            ],
            [
             0.3333333333333333,
             "#9c179e"
            ],
            [
             0.4444444444444444,
             "#bd3786"
            ],
            [
             0.5555555555555556,
             "#d8576b"
            ],
            [
             0.6666666666666666,
             "#ed7953"
            ],
            [
             0.7777777777777778,
             "#fb9f3a"
            ],
            [
             0.8888888888888888,
             "#fdca26"
            ],
            [
             1,
             "#f0f921"
            ]
           ],
           "sequentialminus": [
            [
             0,
             "#0d0887"
            ],
            [
             0.1111111111111111,
             "#46039f"
            ],
            [
             0.2222222222222222,
             "#7201a8"
            ],
            [
             0.3333333333333333,
             "#9c179e"
            ],
            [
             0.4444444444444444,
             "#bd3786"
            ],
            [
             0.5555555555555556,
             "#d8576b"
            ],
            [
             0.6666666666666666,
             "#ed7953"
            ],
            [
             0.7777777777777778,
             "#fb9f3a"
            ],
            [
             0.8888888888888888,
             "#fdca26"
            ],
            [
             1,
             "#f0f921"
            ]
           ]
          },
          "colorway": [
           "#636efa",
           "#EF553B",
           "#00cc96",
           "#ab63fa",
           "#FFA15A",
           "#19d3f3",
           "#FF6692",
           "#B6E880",
           "#FF97FF",
           "#FECB52"
          ],
          "font": {
           "color": "#2a3f5f"
          },
          "geo": {
           "bgcolor": "white",
           "lakecolor": "white",
           "landcolor": "#E5ECF6",
           "showlakes": true,
           "showland": true,
           "subunitcolor": "white"
          },
          "hoverlabel": {
           "align": "left"
          },
          "hovermode": "closest",
          "mapbox": {
           "style": "light"
          },
          "paper_bgcolor": "white",
          "plot_bgcolor": "#E5ECF6",
          "polar": {
           "angularaxis": {
            "gridcolor": "white",
            "linecolor": "white",
            "ticks": ""
           },
           "bgcolor": "#E5ECF6",
           "radialaxis": {
            "gridcolor": "white",
            "linecolor": "white",
            "ticks": ""
           }
          },
          "scene": {
           "xaxis": {
            "backgroundcolor": "#E5ECF6",
            "gridcolor": "white",
            "gridwidth": 2,
            "linecolor": "white",
            "showbackground": true,
            "ticks": "",
            "zerolinecolor": "white"
           },
           "yaxis": {
            "backgroundcolor": "#E5ECF6",
            "gridcolor": "white",
            "gridwidth": 2,
            "linecolor": "white",
            "showbackground": true,
            "ticks": "",
            "zerolinecolor": "white"
           },
           "zaxis": {
            "backgroundcolor": "#E5ECF6",
            "gridcolor": "white",
            "gridwidth": 2,
            "linecolor": "white",
            "showbackground": true,
            "ticks": "",
            "zerolinecolor": "white"
           }
          },
          "shapedefaults": {
           "line": {
            "color": "#2a3f5f"
           }
          },
          "ternary": {
           "aaxis": {
            "gridcolor": "white",
            "linecolor": "white",
            "ticks": ""
           },
           "baxis": {
            "gridcolor": "white",
            "linecolor": "white",
            "ticks": ""
           },
           "bgcolor": "#E5ECF6",
           "caxis": {
            "gridcolor": "white",
            "linecolor": "white",
            "ticks": ""
           }
          },
          "title": {
           "x": 0.05
          },
          "xaxis": {
           "automargin": true,
           "gridcolor": "white",
           "linecolor": "white",
           "ticks": "",
           "title": {
            "standoff": 15
           },
           "zerolinecolor": "white",
           "zerolinewidth": 2
          },
          "yaxis": {
           "automargin": true,
           "gridcolor": "white",
           "linecolor": "white",
           "ticks": "",
           "title": {
            "standoff": 15
           },
           "zerolinecolor": "white",
           "zerolinewidth": 2
          }
         }
        },
        "title": {
         "text": "Number of Successful Withdrawals per Month by Year"
        },
        "xaxis": {
         "anchor": "y",
         "domain": [
          0,
          1
         ],
         "title": {
          "text": "Month"
         }
        },
        "yaxis": {
         "anchor": "x",
         "domain": [
          0,
          1
         ],
         "title": {
          "text": "Number of Withdrawals"
         }
        }
       }
      }
     },
     "metadata": {},
     "output_type": "display_data"
    },
    {
     "data": {
      "application/vnd.plotly.v1+json": {
       "config": {
        "plotlyServerURL": "https://plot.ly"
       },
       "data": [
        {
         "cells": {
          "values": [
           [
            2017,
            2017,
            2017,
            2017,
            2017,
            2018,
            2018,
            2018,
            2018,
            2018,
            2018,
            2018,
            2018,
            2018,
            2018,
            2018,
            2018,
            2019,
            2019,
            2019,
            2019,
            2019,
            2019,
            2019,
            2019,
            2019,
            2019,
            2019,
            2019,
            2020,
            2020,
            2020,
            2020,
            2020,
            2020,
            2020,
            2020,
            2020,
            2020,
            2020,
            2020,
            2021,
            2021,
            2021,
            2021,
            2021,
            2021,
            2021,
            2021,
            2021,
            2021,
            2021,
            2021,
            2022,
            2022,
            2022,
            2022,
            2022,
            2022,
            2022,
            2022,
            2022,
            2022,
            2022,
            2022,
            2023,
            2023,
            2023,
            2023,
            2023,
            2023,
            2023,
            2023,
            2023,
            2023,
            2023,
            2023,
            2024,
            2024,
            2024,
            2024,
            2024,
            2024,
            2024,
            2024,
            2024,
            2024,
            2024,
            2024,
            2025,
            2025,
            2025,
            2025
           ],
           [
            8,
            9,
            10,
            11,
            12,
            1,
            2,
            3,
            4,
            5,
            6,
            7,
            8,
            9,
            10,
            11,
            12,
            1,
            2,
            3,
            4,
            5,
            6,
            7,
            8,
            9,
            10,
            11,
            12,
            1,
            2,
            3,
            4,
            5,
            6,
            7,
            8,
            9,
            10,
            11,
            12,
            1,
            2,
            3,
            4,
            5,
            6,
            7,
            8,
            9,
            10,
            11,
            12,
            1,
            2,
            3,
            4,
            5,
            6,
            7,
            8,
            9,
            10,
            11,
            12,
            1,
            2,
            3,
            4,
            5,
            6,
            7,
            8,
            9,
            10,
            11,
            12,
            1,
            2,
            3,
            4,
            5,
            6,
            7,
            8,
            9,
            10,
            11,
            12,
            1,
            2,
            3,
            4
           ],
           [
            16,
            1,
            7,
            17,
            9,
            1,
            18,
            37,
            18,
            38,
            39,
            33,
            50,
            92,
            75,
            64,
            39,
            169,
            163,
            254,
            176,
            181,
            120,
            100,
            200,
            93,
            109,
            257,
            180,
            167,
            202,
            143,
            142,
            218,
            202,
            209,
            165,
            295,
            232,
            337,
            193,
            152,
            132,
            150,
            218,
            168,
            153,
            209,
            319,
            251,
            167,
            302,
            288,
            147,
            197,
            574,
            144,
            234,
            260,
            152,
            238,
            276,
            402,
            468,
            388,
            431,
            251,
            346,
            321,
            320,
            389,
            341,
            370,
            418,
            424,
            498,
            545,
            556,
            539,
            610,
            530,
            544,
            579,
            589,
            759,
            748,
            1008,
            1150,
            934,
            1173,
            1038,
            1333,
            125
           ]
          ]
         },
         "header": {
          "values": [
           "Year",
           "Month",
           "Number of Withdrawals"
          ]
         },
         "type": "table"
        }
       ],
       "layout": {
        "template": {
         "data": {
          "bar": [
           {
            "error_x": {
             "color": "#2a3f5f"
            },
            "error_y": {
             "color": "#2a3f5f"
            },
            "marker": {
             "line": {
              "color": "#E5ECF6",
              "width": 0.5
             },
             "pattern": {
              "fillmode": "overlay",
              "size": 10,
              "solidity": 0.2
             }
            },
            "type": "bar"
           }
          ],
          "barpolar": [
           {
            "marker": {
             "line": {
              "color": "#E5ECF6",
              "width": 0.5
             },
             "pattern": {
              "fillmode": "overlay",
              "size": 10,
              "solidity": 0.2
             }
            },
            "type": "barpolar"
           }
          ],
          "carpet": [
           {
            "aaxis": {
             "endlinecolor": "#2a3f5f",
             "gridcolor": "white",
             "linecolor": "white",
             "minorgridcolor": "white",
             "startlinecolor": "#2a3f5f"
            },
            "baxis": {
             "endlinecolor": "#2a3f5f",
             "gridcolor": "white",
             "linecolor": "white",
             "minorgridcolor": "white",
             "startlinecolor": "#2a3f5f"
            },
            "type": "carpet"
           }
          ],
          "choropleth": [
           {
            "colorbar": {
             "outlinewidth": 0,
             "ticks": ""
            },
            "type": "choropleth"
           }
          ],
          "contour": [
           {
            "colorbar": {
             "outlinewidth": 0,
             "ticks": ""
            },
            "colorscale": [
             [
              0,
              "#0d0887"
             ],
             [
              0.1111111111111111,
              "#46039f"
             ],
             [
              0.2222222222222222,
              "#7201a8"
             ],
             [
              0.3333333333333333,
              "#9c179e"
             ],
             [
              0.4444444444444444,
              "#bd3786"
             ],
             [
              0.5555555555555556,
              "#d8576b"
             ],
             [
              0.6666666666666666,
              "#ed7953"
             ],
             [
              0.7777777777777778,
              "#fb9f3a"
             ],
             [
              0.8888888888888888,
              "#fdca26"
             ],
             [
              1,
              "#f0f921"
             ]
            ],
            "type": "contour"
           }
          ],
          "contourcarpet": [
           {
            "colorbar": {
             "outlinewidth": 0,
             "ticks": ""
            },
            "type": "contourcarpet"
           }
          ],
          "heatmap": [
           {
            "colorbar": {
             "outlinewidth": 0,
             "ticks": ""
            },
            "colorscale": [
             [
              0,
              "#0d0887"
             ],
             [
              0.1111111111111111,
              "#46039f"
             ],
             [
              0.2222222222222222,
              "#7201a8"
             ],
             [
              0.3333333333333333,
              "#9c179e"
             ],
             [
              0.4444444444444444,
              "#bd3786"
             ],
             [
              0.5555555555555556,
              "#d8576b"
             ],
             [
              0.6666666666666666,
              "#ed7953"
             ],
             [
              0.7777777777777778,
              "#fb9f3a"
             ],
             [
              0.8888888888888888,
              "#fdca26"
             ],
             [
              1,
              "#f0f921"
             ]
            ],
            "type": "heatmap"
           }
          ],
          "histogram": [
           {
            "marker": {
             "pattern": {
              "fillmode": "overlay",
              "size": 10,
              "solidity": 0.2
             }
            },
            "type": "histogram"
           }
          ],
          "histogram2d": [
           {
            "colorbar": {
             "outlinewidth": 0,
             "ticks": ""
            },
            "colorscale": [
             [
              0,
              "#0d0887"
             ],
             [
              0.1111111111111111,
              "#46039f"
             ],
             [
              0.2222222222222222,
              "#7201a8"
             ],
             [
              0.3333333333333333,
              "#9c179e"
             ],
             [
              0.4444444444444444,
              "#bd3786"
             ],
             [
              0.5555555555555556,
              "#d8576b"
             ],
             [
              0.6666666666666666,
              "#ed7953"
             ],
             [
              0.7777777777777778,
              "#fb9f3a"
             ],
             [
              0.8888888888888888,
              "#fdca26"
             ],
             [
              1,
              "#f0f921"
             ]
            ],
            "type": "histogram2d"
           }
          ],
          "histogram2dcontour": [
           {
            "colorbar": {
             "outlinewidth": 0,
             "ticks": ""
            },
            "colorscale": [
             [
              0,
              "#0d0887"
             ],
             [
              0.1111111111111111,
              "#46039f"
             ],
             [
              0.2222222222222222,
              "#7201a8"
             ],
             [
              0.3333333333333333,
              "#9c179e"
             ],
             [
              0.4444444444444444,
              "#bd3786"
             ],
             [
              0.5555555555555556,
              "#d8576b"
             ],
             [
              0.6666666666666666,
              "#ed7953"
             ],
             [
              0.7777777777777778,
              "#fb9f3a"
             ],
             [
              0.8888888888888888,
              "#fdca26"
             ],
             [
              1,
              "#f0f921"
             ]
            ],
            "type": "histogram2dcontour"
           }
          ],
          "mesh3d": [
           {
            "colorbar": {
             "outlinewidth": 0,
             "ticks": ""
            },
            "type": "mesh3d"
           }
          ],
          "parcoords": [
           {
            "line": {
             "colorbar": {
              "outlinewidth": 0,
              "ticks": ""
             }
            },
            "type": "parcoords"
           }
          ],
          "pie": [
           {
            "automargin": true,
            "type": "pie"
           }
          ],
          "scatter": [
           {
            "fillpattern": {
             "fillmode": "overlay",
             "size": 10,
             "solidity": 0.2
            },
            "type": "scatter"
           }
          ],
          "scatter3d": [
           {
            "line": {
             "colorbar": {
              "outlinewidth": 0,
              "ticks": ""
             }
            },
            "marker": {
             "colorbar": {
              "outlinewidth": 0,
              "ticks": ""
             }
            },
            "type": "scatter3d"
           }
          ],
          "scattercarpet": [
           {
            "marker": {
             "colorbar": {
              "outlinewidth": 0,
              "ticks": ""
             }
            },
            "type": "scattercarpet"
           }
          ],
          "scattergeo": [
           {
            "marker": {
             "colorbar": {
              "outlinewidth": 0,
              "ticks": ""
             }
            },
            "type": "scattergeo"
           }
          ],
          "scattergl": [
           {
            "marker": {
             "colorbar": {
              "outlinewidth": 0,
              "ticks": ""
             }
            },
            "type": "scattergl"
           }
          ],
          "scattermap": [
           {
            "marker": {
             "colorbar": {
              "outlinewidth": 0,
              "ticks": ""
             }
            },
            "type": "scattermap"
           }
          ],
          "scattermapbox": [
           {
            "marker": {
             "colorbar": {
              "outlinewidth": 0,
              "ticks": ""
             }
            },
            "type": "scattermapbox"
           }
          ],
          "scatterpolar": [
           {
            "marker": {
             "colorbar": {
              "outlinewidth": 0,
              "ticks": ""
             }
            },
            "type": "scatterpolar"
           }
          ],
          "scatterpolargl": [
           {
            "marker": {
             "colorbar": {
              "outlinewidth": 0,
              "ticks": ""
             }
            },
            "type": "scatterpolargl"
           }
          ],
          "scatterternary": [
           {
            "marker": {
             "colorbar": {
              "outlinewidth": 0,
              "ticks": ""
             }
            },
            "type": "scatterternary"
           }
          ],
          "surface": [
           {
            "colorbar": {
             "outlinewidth": 0,
             "ticks": ""
            },
            "colorscale": [
             [
              0,
              "#0d0887"
             ],
             [
              0.1111111111111111,
              "#46039f"
             ],
             [
              0.2222222222222222,
              "#7201a8"
             ],
             [
              0.3333333333333333,
              "#9c179e"
             ],
             [
              0.4444444444444444,
              "#bd3786"
             ],
             [
              0.5555555555555556,
              "#d8576b"
             ],
             [
              0.6666666666666666,
              "#ed7953"
             ],
             [
              0.7777777777777778,
              "#fb9f3a"
             ],
             [
              0.8888888888888888,
              "#fdca26"
             ],
             [
              1,
              "#f0f921"
             ]
            ],
            "type": "surface"
           }
          ],
          "table": [
           {
            "cells": {
             "fill": {
              "color": "#EBF0F8"
             },
             "line": {
              "color": "white"
             }
            },
            "header": {
             "fill": {
              "color": "#C8D4E3"
             },
             "line": {
              "color": "white"
             }
            },
            "type": "table"
           }
          ]
         },
         "layout": {
          "annotationdefaults": {
           "arrowcolor": "#2a3f5f",
           "arrowhead": 0,
           "arrowwidth": 1
          },
          "autotypenumbers": "strict",
          "coloraxis": {
           "colorbar": {
            "outlinewidth": 0,
            "ticks": ""
           }
          },
          "colorscale": {
           "diverging": [
            [
             0,
             "#8e0152"
            ],
            [
             0.1,
             "#c51b7d"
            ],
            [
             0.2,
             "#de77ae"
            ],
            [
             0.3,
             "#f1b6da"
            ],
            [
             0.4,
             "#fde0ef"
            ],
            [
             0.5,
             "#f7f7f7"
            ],
            [
             0.6,
             "#e6f5d0"
            ],
            [
             0.7,
             "#b8e186"
            ],
            [
             0.8,
             "#7fbc41"
            ],
            [
             0.9,
             "#4d9221"
            ],
            [
             1,
             "#276419"
            ]
           ],
           "sequential": [
            [
             0,
             "#0d0887"
            ],
            [
             0.1111111111111111,
             "#46039f"
            ],
            [
             0.2222222222222222,
             "#7201a8"
            ],
            [
             0.3333333333333333,
             "#9c179e"
            ],
            [
             0.4444444444444444,
             "#bd3786"
            ],
            [
             0.5555555555555556,
             "#d8576b"
            ],
            [
             0.6666666666666666,
             "#ed7953"
            ],
            [
             0.7777777777777778,
             "#fb9f3a"
            ],
            [
             0.8888888888888888,
             "#fdca26"
            ],
            [
             1,
             "#f0f921"
            ]
           ],
           "sequentialminus": [
            [
             0,
             "#0d0887"
            ],
            [
             0.1111111111111111,
             "#46039f"
            ],
            [
             0.2222222222222222,
             "#7201a8"
            ],
            [
             0.3333333333333333,
             "#9c179e"
            ],
            [
             0.4444444444444444,
             "#bd3786"
            ],
            [
             0.5555555555555556,
             "#d8576b"
            ],
            [
             0.6666666666666666,
             "#ed7953"
            ],
            [
             0.7777777777777778,
             "#fb9f3a"
            ],
            [
             0.8888888888888888,
             "#fdca26"
            ],
            [
             1,
             "#f0f921"
            ]
           ]
          },
          "colorway": [
           "#636efa",
           "#EF553B",
           "#00cc96",
           "#ab63fa",
           "#FFA15A",
           "#19d3f3",
           "#FF6692",
           "#B6E880",
           "#FF97FF",
           "#FECB52"
          ],
          "font": {
           "color": "#2a3f5f"
          },
          "geo": {
           "bgcolor": "white",
           "lakecolor": "white",
           "landcolor": "#E5ECF6",
           "showlakes": true,
           "showland": true,
           "subunitcolor": "white"
          },
          "hoverlabel": {
           "align": "left"
          },
          "hovermode": "closest",
          "mapbox": {
           "style": "light"
          },
          "paper_bgcolor": "white",
          "plot_bgcolor": "#E5ECF6",
          "polar": {
           "angularaxis": {
            "gridcolor": "white",
            "linecolor": "white",
            "ticks": ""
           },
           "bgcolor": "#E5ECF6",
           "radialaxis": {
            "gridcolor": "white",
            "linecolor": "white",
            "ticks": ""
           }
          },
          "scene": {
           "xaxis": {
            "backgroundcolor": "#E5ECF6",
            "gridcolor": "white",
            "gridwidth": 2,
            "linecolor": "white",
            "showbackground": true,
            "ticks": "",
            "zerolinecolor": "white"
           },
           "yaxis": {
            "backgroundcolor": "#E5ECF6",
            "gridcolor": "white",
            "gridwidth": 2,
            "linecolor": "white",
            "showbackground": true,
            "ticks": "",
            "zerolinecolor": "white"
           },
           "zaxis": {
            "backgroundcolor": "#E5ECF6",
            "gridcolor": "white",
            "gridwidth": 2,
            "linecolor": "white",
            "showbackground": true,
            "ticks": "",
            "zerolinecolor": "white"
           }
          },
          "shapedefaults": {
           "line": {
            "color": "#2a3f5f"
           }
          },
          "ternary": {
           "aaxis": {
            "gridcolor": "white",
            "linecolor": "white",
            "ticks": ""
           },
           "baxis": {
            "gridcolor": "white",
            "linecolor": "white",
            "ticks": ""
           },
           "bgcolor": "#E5ECF6",
           "caxis": {
            "gridcolor": "white",
            "linecolor": "white",
            "ticks": ""
           }
          },
          "title": {
           "x": 0.05
          },
          "xaxis": {
           "automargin": true,
           "gridcolor": "white",
           "linecolor": "white",
           "ticks": "",
           "title": {
            "standoff": 15
           },
           "zerolinecolor": "white",
           "zerolinewidth": 2
          },
          "yaxis": {
           "automargin": true,
           "gridcolor": "white",
           "linecolor": "white",
           "ticks": "",
           "title": {
            "standoff": 15
           },
           "zerolinecolor": "white",
           "zerolinewidth": 2
          }
         }
        }
       }
      }
     },
     "metadata": {},
     "output_type": "display_data"
    }
   ],
   "source": [
    "fig_count = px.bar(\n",
    "    monthly_withdrawal_counts,\n",
    "    x='month',\n",
    "    y='withdrawal_count',\n",
    "    color='year',\n",
    "    barmode='group',\n",
    "    title='Number of Successful Withdrawals per Month by Year',\n",
    "    labels={'withdrawal_count': 'Number of Withdrawals', 'month': 'Month'}\n",
    ")\n",
    "fig_count.show()\n",
    "\n",
    "fig_table_counts = go.Figure(data=[go.Table(\n",
    "    header=dict(values=[\"Year\", \"Month\", \"Number of Withdrawals\"]),\n",
    "    cells=dict(values=[\n",
    "        monthly_withdrawal_counts['year'],\n",
    "        monthly_withdrawal_counts['month'],\n",
    "        monthly_withdrawal_counts['withdrawal_count']\n",
    "    ])\n",
    ")])\n",
    "fig_table_counts.show()"
   ]
  },
  {
   "cell_type": "code",
   "execution_count": 3,
   "id": "17e03a4c",
   "metadata": {},
   "outputs": [],
   "source": [
    "df_atlas = pd.read_csv('../data/Atlas Cechu Student Access.csv', encoding='utf-8')\n",
    "df_payments = pd.read_csv('../data/Payments Student Access.csv', encoding='utf-8')\n",
    "df_credits = pd.read_csv('../data/User Credits Student Access.csv', encoding='utf-8')"
   ]
  },
  {
   "cell_type": "code",
   "execution_count": 5,
   "id": "75629a4b",
   "metadata": {},
   "outputs": [
    {
     "data": {
      "text/plain": [
       "array(['Peníze', nan, 'Trendaro', 'Útulek pro psy', 'Dětský domov',\n",
       "       'Lékaři bez hranic'], dtype=object)"
      ]
     },
     "execution_count": 5,
     "metadata": {},
     "output_type": "execute_result"
    }
   ],
   "source": [
    "df_credits.wage.unique()"
   ]
  }
 ],
 "metadata": {
  "kernelspec": {
   "display_name": "venv",
   "language": "python",
   "name": "python3"
  },
  "language_info": {
   "codemirror_mode": {
    "name": "ipython",
    "version": 3
   },
   "file_extension": ".py",
   "mimetype": "text/x-python",
   "name": "python",
   "nbconvert_exporter": "python",
   "pygments_lexer": "ipython3",
   "version": "3.9.2"
  }
 },
 "nbformat": 4,
 "nbformat_minor": 5
}
