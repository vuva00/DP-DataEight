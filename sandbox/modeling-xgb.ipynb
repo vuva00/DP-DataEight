{
 "cells": [
  {
   "cell_type": "markdown",
   "id": "8b95da3a",
   "metadata": {},
   "source": [
    "This script builds a predictive model using XGBoost to identify users who are likely to withdraw their credits \n",
    "(based on behavioral and demographic data). It performs the following steps:\n",
    "\n",
    "1. **Data Loading**: Loads three datasets: user demographic features (Atlas), payment transactions, and current credit balances.\n",
    "\n",
    "2. **Cleaning**: Filters out invalid rows (e.g., zero credits, missing user IDs).\n",
    "\n",
    "3. **Feature Engineering (Atlas)**:\n",
    "   - Transforms binary-encoded demographic features grouped by category.\n",
    "   - Encodes categorical sets into numeric IDs for model compatibility.\n",
    "\n",
    "4. **Withdrawal Stats Aggregation**:\n",
    "   - Calculates historical withdrawal frequency and volume per user.\n",
    "\n",
    "5. **Target Construction**:\n",
    "   - Merges current eligible users (credits ≥ 500) with past withdrawal stats.\n",
    "   - Assigns a binary `target` indicating whether a user is likely to withdraw now, based on average past behavior.\n",
    "\n",
    "6. **Data Merging**:\n",
    "   - Combines processed Atlas features with credit and withdrawal stats into one modeling dataframe.\n",
    "\n",
    "7. **Preprocessing**:\n",
    "   - Drops irrelevant or leakage-prone features.\n",
    "   - Scales numerical data using `StandardScaler`.\n",
    "\n",
    "8. **Modeling**:\n",
    "   - Splits data into training/testing sets with stratification.\n",
    "   - Defines a hyperparameter grid and performs cross-validated training (Stratified K-Fold, n=5).\n",
    "   - Tunes classification threshold to maximize F1-score for class 1 (users likely to withdraw).\n",
    "   - Tracks and logs the best performing model and evaluation report.\n",
    "\n",
    "9. **Logging**:\n",
    "   - Outputs detailed logs at each major step including data loading, feature processing, training, and evaluation."
   ]
  },
  {
   "cell_type": "code",
   "execution_count": 1,
   "id": "96b9aa9e",
   "metadata": {},
   "outputs": [
    {
     "name": "stderr",
     "output_type": "stream",
     "text": [
      "2025-06-03 16:08:06,699 - INFO - Loading datasets\n",
      "2025-06-03 16:08:08,555 - INFO - Cleaning data\n",
      "2025-06-03 16:08:08,565 - INFO - Transforming Atlas data\n",
      "2025-06-03 16:09:54,805 - INFO - Aggregating withdrawal stats\n",
      "2025-06-03 16:09:54,838 - INFO - Building eligible user set\n",
      "2025-06-03 16:09:54,960 - INFO - Merging structured Atlas features\n",
      "2025-06-03 16:09:55,166 - INFO - Scaling features\n",
      "2025-06-03 16:09:55,237 - INFO - Starting cross-validated hyperparameter search\n",
      "CV Search:   0%|          | 0/200 [00:00<?, ?it/s]2025-06-03 16:09:56,124 - INFO - Params: {'subsample': 0.8, 'scale_pos_weight': 1.5, 'max_depth': 7, 'learning_rate': 0.25, 'colsample_bytree': 1.0}, Mean F1: 0.7042\n",
      "CV Search:   0%|          | 1/200 [00:00<02:54,  1.14it/s]2025-06-03 16:09:57,010 - INFO - Params: {'subsample': 0.8, 'scale_pos_weight': 2.0, 'max_depth': 8, 'learning_rate': 0.25, 'colsample_bytree': 1.0}, Mean F1: 0.7086\n",
      "CV Search:   1%|          | 2/200 [00:01<02:54,  1.13it/s]2025-06-03 16:09:57,860 - INFO - Params: {'subsample': 0.8, 'scale_pos_weight': 1.5, 'max_depth': 6, 'learning_rate': 0.15, 'colsample_bytree': 1.0}, Mean F1: 0.7225\n",
      "CV Search:   2%|▏         | 3/200 [00:02<02:50,  1.15it/s]2025-06-03 16:09:58,761 - INFO - Params: {'subsample': 0.8, 'scale_pos_weight': 2.0, 'max_depth': 7, 'learning_rate': 0.2, 'colsample_bytree': 1.0}, Mean F1: 0.7153\n",
      "CV Search:   2%|▏         | 4/200 [00:03<02:52,  1.14it/s]2025-06-03 16:09:59,907 - INFO - Params: {'subsample': 0.8, 'scale_pos_weight': 2.0, 'max_depth': 7, 'learning_rate': 0.1, 'colsample_bytree': 0.9}, Mean F1: 0.7280\n",
      "CV Search:   2%|▎         | 5/200 [00:04<03:10,  1.02it/s]2025-06-03 16:10:00,919 - INFO - Params: {'subsample': 0.8, 'scale_pos_weight': 1.5, 'max_depth': 6, 'learning_rate': 0.1, 'colsample_bytree': 1.0}, Mean F1: 0.7245\n",
      "CV Search:   3%|▎         | 6/200 [00:05<03:11,  1.01it/s]2025-06-03 16:10:01,852 - INFO - Params: {'subsample': 1.0, 'scale_pos_weight': 1.0, 'max_depth': 8, 'learning_rate': 0.2, 'colsample_bytree': 1.0}, Mean F1: 0.6946\n",
      "CV Search:   4%|▎         | 7/200 [00:06<03:07,  1.03it/s]2025-06-03 16:10:02,831 - INFO - Params: {'subsample': 0.9, 'scale_pos_weight': 1.0, 'max_depth': 8, 'learning_rate': 0.2, 'colsample_bytree': 0.9}, Mean F1: 0.6967\n",
      "CV Search:   4%|▍         | 8/200 [00:07<03:06,  1.03it/s]2025-06-03 16:10:03,645 - INFO - Params: {'subsample': 0.9, 'scale_pos_weight': 2.0, 'max_depth': 7, 'learning_rate': 0.25, 'colsample_bytree': 1.0}, Mean F1: 0.7051\n",
      "CV Search:   4%|▍         | 9/200 [00:08<02:56,  1.08it/s]2025-06-03 16:10:04,537 - INFO - Params: {'subsample': 0.9, 'scale_pos_weight': 1.5, 'max_depth': 6, 'learning_rate': 0.15, 'colsample_bytree': 1.0}, Mean F1: 0.7233\n",
      "CV Search:   5%|▌         | 10/200 [00:09<02:53,  1.09it/s]2025-06-03 16:10:05,544 - INFO - Params: {'subsample': 0.8, 'scale_pos_weight': 2.0, 'max_depth': 8, 'learning_rate': 0.15, 'colsample_bytree': 1.0}, Mean F1: 0.7211\n",
      "CV Search:   6%|▌         | 11/200 [00:10<02:57,  1.06it/s]2025-06-03 16:10:06,431 - INFO - Params: {'subsample': 0.8, 'scale_pos_weight': 1.5, 'max_depth': 6, 'learning_rate': 0.15, 'colsample_bytree': 0.9}, Mean F1: 0.7203\n",
      "CV Search:   6%|▌         | 12/200 [00:11<02:53,  1.08it/s]2025-06-03 16:10:07,210 - INFO - Params: {'subsample': 0.9, 'scale_pos_weight': 1.0, 'max_depth': 6, 'learning_rate': 0.25, 'colsample_bytree': 1.0}, Mean F1: 0.7063\n",
      "CV Search:   6%|▋         | 13/200 [00:11<02:44,  1.14it/s]2025-06-03 16:10:08,211 - INFO - Params: {'subsample': 0.8, 'scale_pos_weight': 1.0, 'max_depth': 7, 'learning_rate': 0.1, 'colsample_bytree': 0.9}, Mean F1: 0.7111\n",
      "CV Search:   7%|▋         | 14/200 [00:12<02:50,  1.09it/s]2025-06-03 16:10:09,072 - INFO - Params: {'subsample': 0.9, 'scale_pos_weight': 1.5, 'max_depth': 7, 'learning_rate': 0.2, 'colsample_bytree': 0.9}, Mean F1: 0.7201\n",
      "CV Search:   8%|▊         | 15/200 [00:13<02:46,  1.11it/s]2025-06-03 16:10:09,943 - INFO - Params: {'subsample': 1.0, 'scale_pos_weight': 1.5, 'max_depth': 7, 'learning_rate': 0.2, 'colsample_bytree': 1.0}, Mean F1: 0.7208\n",
      "CV Search:   8%|▊         | 16/200 [00:14<02:44,  1.12it/s]2025-06-03 16:10:10,829 - INFO - Params: {'subsample': 0.9, 'scale_pos_weight': 1.0, 'max_depth': 7, 'learning_rate': 0.2, 'colsample_bytree': 1.0}, Mean F1: 0.6940\n",
      "CV Search:   8%|▊         | 17/200 [00:15<02:42,  1.13it/s]2025-06-03 16:10:12,231 - INFO - Params: {'subsample': 0.8, 'scale_pos_weight': 1.0, 'max_depth': 8, 'learning_rate': 0.1, 'colsample_bytree': 0.9}, Mean F1: 0.7117\n",
      "CV Search:   9%|▉         | 18/200 [00:16<03:09,  1.04s/it]2025-06-03 16:10:13,171 - INFO - Params: {'subsample': 0.9, 'scale_pos_weight': 1.0, 'max_depth': 8, 'learning_rate': 0.15, 'colsample_bytree': 1.0}, Mean F1: 0.7122\n",
      "CV Search:  10%|▉         | 19/200 [00:17<03:03,  1.01s/it]2025-06-03 16:10:14,041 - INFO - Params: {'subsample': 0.8, 'scale_pos_weight': 1.5, 'max_depth': 7, 'learning_rate': 0.2, 'colsample_bytree': 0.9}, Mean F1: 0.7081\n",
      "CV Search:  10%|█         | 20/200 [00:18<02:54,  1.03it/s]2025-06-03 16:10:14,956 - INFO - Params: {'subsample': 0.8, 'scale_pos_weight': 2.0, 'max_depth': 8, 'learning_rate': 0.2, 'colsample_bytree': 1.0}, Mean F1: 0.7176\n",
      "CV Search:  10%|█         | 21/200 [00:19<02:50,  1.05it/s]2025-06-03 16:10:15,799 - INFO - Params: {'subsample': 0.9, 'scale_pos_weight': 2.0, 'max_depth': 6, 'learning_rate': 0.15, 'colsample_bytree': 1.0}, Mean F1: 0.7272\n",
      "CV Search:  11%|█         | 22/200 [00:20<02:43,  1.09it/s]2025-06-03 16:10:16,754 - INFO - Params: {'subsample': 0.9, 'scale_pos_weight': 2.0, 'max_depth': 8, 'learning_rate': 0.2, 'colsample_bytree': 0.9}, Mean F1: 0.7117\n",
      "CV Search:  12%|█▏        | 23/200 [00:21<02:44,  1.07it/s]2025-06-03 16:10:17,988 - INFO - Params: {'subsample': 0.9, 'scale_pos_weight': 2.0, 'max_depth': 8, 'learning_rate': 0.1, 'colsample_bytree': 0.9}, Mean F1: 0.7258\n",
      "CV Search:  12%|█▏        | 24/200 [00:22<02:59,  1.02s/it]2025-06-03 16:10:18,889 - INFO - Params: {'subsample': 1.0, 'scale_pos_weight': 1.5, 'max_depth': 8, 'learning_rate': 0.25, 'colsample_bytree': 0.9}, Mean F1: 0.7113\n",
      "CV Search:  12%|█▎        | 25/200 [00:23<02:52,  1.01it/s]2025-06-03 16:10:19,772 - INFO - Params: {'subsample': 1.0, 'scale_pos_weight': 1.0, 'max_depth': 7, 'learning_rate': 0.15, 'colsample_bytree': 1.0}, Mean F1: 0.7176\n",
      "CV Search:  13%|█▎        | 26/200 [00:24<02:46,  1.05it/s]2025-06-03 16:10:20,752 - INFO - Params: {'subsample': 1.0, 'scale_pos_weight': 2.0, 'max_depth': 8, 'learning_rate': 0.15, 'colsample_bytree': 1.0}, Mean F1: 0.7187\n",
      "CV Search:  14%|█▎        | 27/200 [00:25<02:46,  1.04it/s]2025-06-03 16:10:21,819 - INFO - Params: {'subsample': 0.9, 'scale_pos_weight': 2.0, 'max_depth': 7, 'learning_rate': 0.1, 'colsample_bytree': 0.9}, Mean F1: 0.7274\n",
      "CV Search:  14%|█▍        | 28/200 [00:26<02:50,  1.01it/s]2025-06-03 16:10:22,835 - INFO - Params: {'subsample': 0.8, 'scale_pos_weight': 1.0, 'max_depth': 8, 'learning_rate': 0.15, 'colsample_bytree': 0.9}, Mean F1: 0.7145\n",
      "CV Search:  14%|█▍        | 29/200 [00:27<02:50,  1.00it/s]2025-06-03 16:10:23,612 - INFO - Params: {'subsample': 0.9, 'scale_pos_weight': 1.0, 'max_depth': 7, 'learning_rate': 0.25, 'colsample_bytree': 1.0}, Mean F1: 0.6993\n",
      "CV Search:  15%|█▌        | 30/200 [00:28<02:38,  1.07it/s]2025-06-03 16:10:24,553 - INFO - Params: {'subsample': 0.8, 'scale_pos_weight': 1.0, 'max_depth': 6, 'learning_rate': 0.1, 'colsample_bytree': 1.0}, Mean F1: 0.7241\n",
      "CV Search:  16%|█▌        | 31/200 [00:29<02:38,  1.07it/s]2025-06-03 16:10:25,318 - INFO - Params: {'subsample': 0.9, 'scale_pos_weight': 1.0, 'max_depth': 6, 'learning_rate': 0.2, 'colsample_bytree': 0.9}, Mean F1: 0.7140\n",
      "CV Search:  16%|█▌        | 32/200 [00:30<02:28,  1.13it/s]2025-06-03 16:10:26,254 - INFO - Params: {'subsample': 0.9, 'scale_pos_weight': 1.5, 'max_depth': 6, 'learning_rate': 0.1, 'colsample_bytree': 1.0}, Mean F1: 0.7268\n",
      "CV Search:  16%|█▋        | 33/200 [00:30<02:30,  1.11it/s]2025-06-03 16:10:26,939 - INFO - Params: {'subsample': 0.8, 'scale_pos_weight': 1.5, 'max_depth': 6, 'learning_rate': 0.25, 'colsample_bytree': 1.0}, Mean F1: 0.7119\n",
      "CV Search:  17%|█▋        | 34/200 [00:31<02:18,  1.20it/s]2025-06-03 16:10:27,984 - INFO - Params: {'subsample': 0.9, 'scale_pos_weight': 2.0, 'max_depth': 7, 'learning_rate': 0.1, 'colsample_bytree': 1.0}, Mean F1: 0.7282\n",
      "CV Search:  18%|█▊        | 35/200 [00:32<02:28,  1.11it/s]2025-06-03 16:10:29,144 - INFO - Params: {'subsample': 1.0, 'scale_pos_weight': 1.0, 'max_depth': 8, 'learning_rate': 0.1, 'colsample_bytree': 1.0}, Mean F1: 0.7177\n",
      "CV Search:  18%|█▊        | 36/200 [00:33<02:40,  1.02it/s]2025-06-03 16:10:30,050 - INFO - Params: {'subsample': 0.8, 'scale_pos_weight': 1.5, 'max_depth': 8, 'learning_rate': 0.2, 'colsample_bytree': 0.9}, Mean F1: 0.7065\n",
      "CV Search:  18%|█▊        | 37/200 [00:34<02:35,  1.05it/s]2025-06-03 16:10:30,903 - INFO - Params: {'subsample': 0.8, 'scale_pos_weight': 1.0, 'max_depth': 6, 'learning_rate': 0.15, 'colsample_bytree': 1.0}, Mean F1: 0.7099\n",
      "CV Search:  19%|█▉        | 38/200 [00:35<02:29,  1.08it/s]2025-06-03 16:10:31,950 - INFO - Params: {'subsample': 0.9, 'scale_pos_weight': 1.0, 'max_depth': 7, 'learning_rate': 0.1, 'colsample_bytree': 1.0}, Mean F1: 0.7180\n",
      "CV Search:  20%|█▉        | 39/200 [00:36<02:34,  1.04it/s]2025-06-03 16:10:32,786 - INFO - Params: {'subsample': 1.0, 'scale_pos_weight': 2.0, 'max_depth': 7, 'learning_rate': 0.25, 'colsample_bytree': 0.9}, Mean F1: 0.7187\n",
      "CV Search:  20%|██        | 40/200 [00:37<02:27,  1.08it/s]2025-06-03 16:10:33,593 - INFO - Params: {'subsample': 0.8, 'scale_pos_weight': 2.0, 'max_depth': 7, 'learning_rate': 0.25, 'colsample_bytree': 0.9}, Mean F1: 0.7096\n",
      "CV Search:  20%|██        | 41/200 [00:38<02:21,  1.13it/s]2025-06-03 16:10:34,517 - INFO - Params: {'subsample': 0.9, 'scale_pos_weight': 1.5, 'max_depth': 8, 'learning_rate': 0.2, 'colsample_bytree': 1.0}, Mean F1: 0.7071\n",
      "CV Search:  21%|██        | 42/200 [00:39<02:22,  1.11it/s]2025-06-03 16:10:35,523 - INFO - Params: {'subsample': 0.8, 'scale_pos_weight': 1.0, 'max_depth': 7, 'learning_rate': 0.1, 'colsample_bytree': 1.0}, Mean F1: 0.7167\n",
      "CV Search:  22%|██▏       | 43/200 [00:40<02:26,  1.07it/s]2025-06-03 16:10:36,282 - INFO - Params: {'subsample': 0.8, 'scale_pos_weight': 1.5, 'max_depth': 7, 'learning_rate': 0.25, 'colsample_bytree': 0.9}, Mean F1: 0.7041\n",
      "CV Search:  22%|██▏       | 44/200 [00:41<02:17,  1.14it/s]2025-06-03 16:10:36,990 - INFO - Params: {'subsample': 0.8, 'scale_pos_weight': 1.5, 'max_depth': 6, 'learning_rate': 0.25, 'colsample_bytree': 0.9}, Mean F1: 0.7114\n",
      "CV Search:  22%|██▎       | 45/200 [00:41<02:08,  1.21it/s]2025-06-03 16:10:37,761 - INFO - Params: {'subsample': 1.0, 'scale_pos_weight': 1.5, 'max_depth': 7, 'learning_rate': 0.25, 'colsample_bytree': 0.9}, Mean F1: 0.7108\n",
      "CV Search:  23%|██▎       | 46/200 [00:42<02:04,  1.23it/s]2025-06-03 16:10:38,526 - INFO - Params: {'subsample': 1.0, 'scale_pos_weight': 1.0, 'max_depth': 6, 'learning_rate': 0.15, 'colsample_bytree': 1.0}, Mean F1: 0.7132\n",
      "CV Search:  24%|██▎       | 47/200 [00:43<02:01,  1.25it/s]2025-06-03 16:10:39,393 - INFO - Params: {'subsample': 0.9, 'scale_pos_weight': 1.5, 'max_depth': 8, 'learning_rate': 0.25, 'colsample_bytree': 1.0}, Mean F1: 0.7109\n",
      "CV Search:  24%|██▍       | 48/200 [00:44<02:04,  1.22it/s]2025-06-03 16:10:40,127 - INFO - Params: {'subsample': 1.0, 'scale_pos_weight': 1.5, 'max_depth': 6, 'learning_rate': 0.25, 'colsample_bytree': 0.9}, Mean F1: 0.7212\n",
      "CV Search:  24%|██▍       | 49/200 [00:44<01:59,  1.26it/s]2025-06-03 16:10:40,885 - INFO - Params: {'subsample': 0.9, 'scale_pos_weight': 1.0, 'max_depth': 6, 'learning_rate': 0.2, 'colsample_bytree': 1.0}, Mean F1: 0.7100\n",
      "CV Search:  25%|██▌       | 50/200 [00:45<01:57,  1.28it/s]2025-06-03 16:10:41,857 - INFO - Params: {'subsample': 0.8, 'scale_pos_weight': 1.0, 'max_depth': 8, 'learning_rate': 0.15, 'colsample_bytree': 1.0}, Mean F1: 0.7112\n",
      "CV Search:  26%|██▌       | 51/200 [00:46<02:05,  1.19it/s]2025-06-03 16:10:42,813 - INFO - Params: {'subsample': 1.0, 'scale_pos_weight': 1.0, 'max_depth': 7, 'learning_rate': 0.15, 'colsample_bytree': 0.9}, Mean F1: 0.7118\n",
      "CV Search:  26%|██▌       | 52/200 [00:47<02:09,  1.14it/s]2025-06-03 16:10:43,985 - INFO - Params: {'subsample': 0.8, 'scale_pos_weight': 2.0, 'max_depth': 8, 'learning_rate': 0.1, 'colsample_bytree': 0.9}, Mean F1: 0.7231\n",
      "CV Search:  26%|██▋       | 53/200 [00:48<02:21,  1.04it/s]2025-06-03 16:10:44,770 - INFO - Params: {'subsample': 1.0, 'scale_pos_weight': 2.0, 'max_depth': 6, 'learning_rate': 0.2, 'colsample_bytree': 1.0}, Mean F1: 0.7276\n",
      "CV Search:  27%|██▋       | 54/200 [00:49<02:12,  1.10it/s]2025-06-03 16:10:45,748 - INFO - Params: {'subsample': 0.8, 'scale_pos_weight': 1.5, 'max_depth': 7, 'learning_rate': 0.1, 'colsample_bytree': 1.0}, Mean F1: 0.7203\n",
      "CV Search:  28%|██▊       | 55/200 [00:50<02:14,  1.07it/s]2025-06-03 16:10:46,624 - INFO - Params: {'subsample': 1.0, 'scale_pos_weight': 1.0, 'max_depth': 6, 'learning_rate': 0.15, 'colsample_bytree': 0.9}, Mean F1: 0.7159\n",
      "CV Search:  28%|██▊       | 56/200 [00:51<02:11,  1.09it/s]2025-06-03 16:10:47,825 - INFO - Params: {'subsample': 0.9, 'scale_pos_weight': 1.0, 'max_depth': 8, 'learning_rate': 0.1, 'colsample_bytree': 0.9}, Mean F1: 0.7119\n",
      "CV Search:  28%|██▊       | 57/200 [00:52<02:23,  1.00s/it]2025-06-03 16:10:48,729 - INFO - Params: {'subsample': 0.8, 'scale_pos_weight': 2.0, 'max_depth': 7, 'learning_rate': 0.2, 'colsample_bytree': 0.9}, Mean F1: 0.7177\n",
      "CV Search:  29%|██▉       | 58/200 [00:53<02:17,  1.03it/s]2025-06-03 16:10:49,589 - INFO - Params: {'subsample': 0.9, 'scale_pos_weight': 2.0, 'max_depth': 7, 'learning_rate': 0.25, 'colsample_bytree': 0.9}, Mean F1: 0.7158\n",
      "CV Search:  30%|██▉       | 59/200 [00:54<02:12,  1.07it/s]2025-06-03 16:10:50,347 - INFO - Params: {'subsample': 0.8, 'scale_pos_weight': 2.0, 'max_depth': 6, 'learning_rate': 0.2, 'colsample_bytree': 0.9}, Mean F1: 0.7216\n",
      "CV Search:  30%|███       | 60/200 [00:55<02:03,  1.13it/s]2025-06-03 16:10:51,222 - INFO - Params: {'subsample': 1.0, 'scale_pos_weight': 1.5, 'max_depth': 7, 'learning_rate': 0.2, 'colsample_bytree': 0.9}, Mean F1: 0.7147\n",
      "CV Search:  30%|███       | 61/200 [00:55<02:02,  1.13it/s]2025-06-03 16:10:52,605 - INFO - Params: {'subsample': 1.0, 'scale_pos_weight': 1.5, 'max_depth': 6, 'learning_rate': 0.1, 'colsample_bytree': 0.9}, Mean F1: 0.7263\n",
      "CV Search:  31%|███       | 62/200 [00:57<02:22,  1.03s/it]2025-06-03 16:10:53,880 - INFO - Params: {'subsample': 0.9, 'scale_pos_weight': 1.0, 'max_depth': 6, 'learning_rate': 0.15, 'colsample_bytree': 1.0}, Mean F1: 0.7178\n",
      "CV Search:  32%|███▏      | 63/200 [00:58<02:31,  1.10s/it]2025-06-03 16:10:55,071 - INFO - Params: {'subsample': 1.0, 'scale_pos_weight': 1.0, 'max_depth': 6, 'learning_rate': 0.2, 'colsample_bytree': 0.9}, Mean F1: 0.7234\n",
      "CV Search:  32%|███▏      | 64/200 [00:59<02:33,  1.13s/it]2025-06-03 16:10:56,439 - INFO - Params: {'subsample': 0.9, 'scale_pos_weight': 1.0, 'max_depth': 8, 'learning_rate': 0.25, 'colsample_bytree': 0.9}, Mean F1: 0.7010\n",
      "CV Search:  32%|███▎      | 65/200 [01:01<02:42,  1.20s/it]2025-06-03 16:10:57,861 - INFO - Params: {'subsample': 1.0, 'scale_pos_weight': 2.0, 'max_depth': 7, 'learning_rate': 0.15, 'colsample_bytree': 1.0}, Mean F1: 0.7294\n",
      "CV Search:  33%|███▎      | 66/200 [01:02<02:50,  1.27s/it]2025-06-03 16:10:58,940 - INFO - Params: {'subsample': 0.9, 'scale_pos_weight': 1.0, 'max_depth': 6, 'learning_rate': 0.25, 'colsample_bytree': 0.9}, Mean F1: 0.7065\n",
      "CV Search:  34%|███▎      | 67/200 [01:03<02:40,  1.21s/it]2025-06-03 16:11:00,236 - INFO - Params: {'subsample': 1.0, 'scale_pos_weight': 1.0, 'max_depth': 7, 'learning_rate': 0.2, 'colsample_bytree': 0.9}, Mean F1: 0.7031\n",
      "CV Search:  34%|███▍      | 68/200 [01:04<02:43,  1.24s/it]2025-06-03 16:11:01,560 - INFO - Params: {'subsample': 0.9, 'scale_pos_weight': 1.0, 'max_depth': 6, 'learning_rate': 0.1, 'colsample_bytree': 1.0}, Mean F1: 0.7204\n",
      "CV Search:  34%|███▍      | 69/200 [01:06<02:45,  1.26s/it]2025-06-03 16:11:02,833 - INFO - Params: {'subsample': 0.8, 'scale_pos_weight': 1.5, 'max_depth': 8, 'learning_rate': 0.2, 'colsample_bytree': 1.0}, Mean F1: 0.7081\n",
      "CV Search:  35%|███▌      | 70/200 [01:07<02:44,  1.27s/it]2025-06-03 16:11:04,097 - INFO - Params: {'subsample': 0.9, 'scale_pos_weight': 1.5, 'max_depth': 6, 'learning_rate': 0.15, 'colsample_bytree': 0.9}, Mean F1: 0.7265\n",
      "CV Search:  36%|███▌      | 71/200 [01:08<02:43,  1.27s/it]2025-06-03 16:11:05,661 - INFO - Params: {'subsample': 0.8, 'scale_pos_weight': 1.5, 'max_depth': 7, 'learning_rate': 0.1, 'colsample_bytree': 0.9}, Mean F1: 0.7182\n",
      "CV Search:  36%|███▌      | 72/200 [01:10<02:53,  1.35s/it]2025-06-03 16:11:07,040 - INFO - Params: {'subsample': 1.0, 'scale_pos_weight': 2.0, 'max_depth': 6, 'learning_rate': 0.15, 'colsample_bytree': 0.9}, Mean F1: 0.7254\n",
      "CV Search:  36%|███▋      | 73/200 [01:11<02:52,  1.36s/it]2025-06-03 16:11:08,222 - INFO - Params: {'subsample': 0.9, 'scale_pos_weight': 1.0, 'max_depth': 6, 'learning_rate': 0.15, 'colsample_bytree': 0.9}, Mean F1: 0.7078\n",
      "CV Search:  37%|███▋      | 74/200 [01:12<02:44,  1.31s/it]2025-06-03 16:11:09,572 - INFO - Params: {'subsample': 0.8, 'scale_pos_weight': 2.0, 'max_depth': 7, 'learning_rate': 0.15, 'colsample_bytree': 0.9}, Mean F1: 0.7181\n",
      "CV Search:  38%|███▊      | 75/200 [01:14<02:45,  1.32s/it]2025-06-03 16:11:10,858 - INFO - Params: {'subsample': 1.0, 'scale_pos_weight': 1.0, 'max_depth': 8, 'learning_rate': 0.25, 'colsample_bytree': 1.0}, Mean F1: 0.6993\n",
      "CV Search:  38%|███▊      | 76/200 [01:15<02:42,  1.31s/it]2025-06-03 16:11:12,151 - INFO - Params: {'subsample': 1.0, 'scale_pos_weight': 1.0, 'max_depth': 8, 'learning_rate': 0.25, 'colsample_bytree': 0.9}, Mean F1: 0.7008\n",
      "CV Search:  38%|███▊      | 77/200 [01:16<02:40,  1.31s/it]2025-06-03 16:11:13,423 - INFO - Params: {'subsample': 0.8, 'scale_pos_weight': 1.5, 'max_depth': 7, 'learning_rate': 0.15, 'colsample_bytree': 1.0}, Mean F1: 0.7192\n",
      "CV Search:  39%|███▉      | 78/200 [01:18<02:38,  1.30s/it]2025-06-03 16:11:14,936 - INFO - Params: {'subsample': 0.8, 'scale_pos_weight': 2.0, 'max_depth': 8, 'learning_rate': 0.15, 'colsample_bytree': 0.9}, Mean F1: 0.7181\n",
      "CV Search:  40%|███▉      | 79/200 [01:19<02:44,  1.36s/it]2025-06-03 16:11:16,216 - INFO - Params: {'subsample': 1.0, 'scale_pos_weight': 2.0, 'max_depth': 7, 'learning_rate': 0.25, 'colsample_bytree': 1.0}, Mean F1: 0.7204\n",
      "CV Search:  40%|████      | 80/200 [01:20<02:40,  1.34s/it]2025-06-03 16:11:17,626 - INFO - Params: {'subsample': 0.8, 'scale_pos_weight': 1.0, 'max_depth': 8, 'learning_rate': 0.2, 'colsample_bytree': 1.0}, Mean F1: 0.7028\n",
      "CV Search:  40%|████      | 81/200 [01:22<02:41,  1.36s/it]2025-06-03 16:11:18,965 - INFO - Params: {'subsample': 0.9, 'scale_pos_weight': 1.5, 'max_depth': 8, 'learning_rate': 0.2, 'colsample_bytree': 0.9}, Mean F1: 0.7089\n",
      "CV Search:  41%|████      | 82/200 [01:23<02:39,  1.35s/it]2025-06-03 16:11:20,352 - INFO - Params: {'subsample': 1.0, 'scale_pos_weight': 1.5, 'max_depth': 7, 'learning_rate': 0.15, 'colsample_bytree': 0.9}, Mean F1: 0.7153\n",
      "CV Search:  42%|████▏     | 83/200 [01:25<02:39,  1.36s/it]2025-06-03 16:11:22,139 - INFO - Params: {'subsample': 0.8, 'scale_pos_weight': 2.0, 'max_depth': 8, 'learning_rate': 0.1, 'colsample_bytree': 1.0}, Mean F1: 0.7255\n",
      "CV Search:  42%|████▏     | 84/200 [01:26<02:52,  1.49s/it]2025-06-03 16:11:23,496 - INFO - Params: {'subsample': 0.8, 'scale_pos_weight': 2.0, 'max_depth': 8, 'learning_rate': 0.2, 'colsample_bytree': 0.9}, Mean F1: 0.7079\n",
      "CV Search:  42%|████▎     | 85/200 [01:28<02:46,  1.45s/it]2025-06-03 16:11:25,410 - INFO - Params: {'subsample': 0.9, 'scale_pos_weight': 1.0, 'max_depth': 8, 'learning_rate': 0.1, 'colsample_bytree': 1.0}, Mean F1: 0.7197\n",
      "CV Search:  43%|████▎     | 86/200 [01:30<03:01,  1.59s/it]2025-06-03 16:11:27,440 - INFO - Params: {'subsample': 1.0, 'scale_pos_weight': 2.0, 'max_depth': 8, 'learning_rate': 0.1, 'colsample_bytree': 0.9}, Mean F1: 0.7237\n",
      "CV Search:  44%|████▎     | 87/200 [01:32<03:15,  1.73s/it]2025-06-03 16:11:28,777 - INFO - Params: {'subsample': 1.0, 'scale_pos_weight': 2.0, 'max_depth': 6, 'learning_rate': 0.15, 'colsample_bytree': 1.0}, Mean F1: 0.7244\n",
      "CV Search:  44%|████▍     | 88/200 [01:33<02:59,  1.60s/it]2025-06-03 16:11:30,355 - INFO - Params: {'subsample': 1.0, 'scale_pos_weight': 1.5, 'max_depth': 6, 'learning_rate': 0.1, 'colsample_bytree': 1.0}, Mean F1: 0.7292\n",
      "CV Search:  44%|████▍     | 89/200 [01:35<02:57,  1.60s/it]2025-06-03 16:11:32,088 - INFO - Params: {'subsample': 1.0, 'scale_pos_weight': 2.0, 'max_depth': 7, 'learning_rate': 0.1, 'colsample_bytree': 1.0}, Mean F1: 0.7248\n",
      "CV Search:  45%|████▌     | 90/200 [01:36<03:00,  1.64s/it]2025-06-03 16:11:33,501 - INFO - Params: {'subsample': 1.0, 'scale_pos_weight': 1.0, 'max_depth': 6, 'learning_rate': 0.1, 'colsample_bytree': 0.9}, Mean F1: 0.7196\n",
      "CV Search:  46%|████▌     | 91/200 [01:38<02:51,  1.57s/it]2025-06-03 16:11:35,004 - INFO - Params: {'subsample': 1.0, 'scale_pos_weight': 1.5, 'max_depth': 8, 'learning_rate': 0.2, 'colsample_bytree': 0.9}, Mean F1: 0.7148\n",
      "CV Search:  46%|████▌     | 92/200 [01:39<02:47,  1.55s/it]2025-06-03 16:11:36,596 - INFO - Params: {'subsample': 0.9, 'scale_pos_weight': 1.0, 'max_depth': 8, 'learning_rate': 0.15, 'colsample_bytree': 0.9}, Mean F1: 0.7031\n",
      "CV Search:  46%|████▋     | 93/200 [01:41<02:47,  1.56s/it]2025-06-03 16:11:37,913 - INFO - Params: {'subsample': 0.9, 'scale_pos_weight': 1.5, 'max_depth': 7, 'learning_rate': 0.2, 'colsample_bytree': 1.0}, Mean F1: 0.7186\n",
      "CV Search:  47%|████▋     | 94/200 [01:42<02:37,  1.49s/it]2025-06-03 16:11:39,456 - INFO - Params: {'subsample': 0.9, 'scale_pos_weight': 2.0, 'max_depth': 6, 'learning_rate': 0.1, 'colsample_bytree': 1.0}, Mean F1: 0.7292\n",
      "CV Search:  48%|████▊     | 95/200 [01:44<02:38,  1.51s/it]2025-06-03 16:11:40,915 - INFO - Params: {'subsample': 0.8, 'scale_pos_weight': 1.0, 'max_depth': 7, 'learning_rate': 0.25, 'colsample_bytree': 0.9}, Mean F1: 0.6857\n",
      "CV Search:  48%|████▊     | 96/200 [01:45<02:35,  1.49s/it]2025-06-03 16:11:42,064 - INFO - Params: {'subsample': 0.9, 'scale_pos_weight': 1.5, 'max_depth': 6, 'learning_rate': 0.25, 'colsample_bytree': 0.9}, Mean F1: 0.7150\n",
      "CV Search:  48%|████▊     | 97/200 [01:46<02:23,  1.39s/it]2025-06-03 16:11:43,389 - INFO - Params: {'subsample': 0.8, 'scale_pos_weight': 1.0, 'max_depth': 7, 'learning_rate': 0.15, 'colsample_bytree': 1.0}, Mean F1: 0.7092\n",
      "CV Search:  49%|████▉     | 98/200 [01:48<02:19,  1.37s/it]2025-06-03 16:11:44,751 - INFO - Params: {'subsample': 0.8, 'scale_pos_weight': 1.0, 'max_depth': 7, 'learning_rate': 0.15, 'colsample_bytree': 0.9}, Mean F1: 0.7025\n",
      "CV Search:  50%|████▉     | 99/200 [01:49<02:18,  1.37s/it]2025-06-03 16:11:46,296 - INFO - Params: {'subsample': 1.0, 'scale_pos_weight': 1.5, 'max_depth': 7, 'learning_rate': 0.1, 'colsample_bytree': 1.0}, Mean F1: 0.7220\n",
      "CV Search:  50%|█████     | 100/200 [01:51<02:22,  1.42s/it]2025-06-03 16:11:47,593 - INFO - Params: {'subsample': 0.9, 'scale_pos_weight': 2.0, 'max_depth': 6, 'learning_rate': 0.2, 'colsample_bytree': 0.9}, Mean F1: 0.7169\n",
      "CV Search:  50%|█████     | 101/200 [01:52<02:16,  1.38s/it]2025-06-03 16:11:49,442 - INFO - Params: {'subsample': 0.9, 'scale_pos_weight': 1.5, 'max_depth': 8, 'learning_rate': 0.1, 'colsample_bytree': 0.9}, Mean F1: 0.7179\n",
      "CV Search:  51%|█████     | 102/200 [01:54<02:29,  1.52s/it]2025-06-03 16:11:50,706 - INFO - Params: {'subsample': 0.8, 'scale_pos_weight': 2.0, 'max_depth': 6, 'learning_rate': 0.15, 'colsample_bytree': 1.0}, Mean F1: 0.7249\n",
      "CV Search:  52%|█████▏    | 103/200 [01:55<02:20,  1.44s/it]2025-06-03 16:11:52,235 - INFO - Params: {'subsample': 1.0, 'scale_pos_weight': 1.0, 'max_depth': 7, 'learning_rate': 0.1, 'colsample_bytree': 1.0}, Mean F1: 0.7178\n",
      "CV Search:  52%|█████▏    | 104/200 [01:56<02:21,  1.47s/it]2025-06-03 16:11:53,641 - INFO - Params: {'subsample': 0.8, 'scale_pos_weight': 2.0, 'max_depth': 6, 'learning_rate': 0.15, 'colsample_bytree': 0.9}, Mean F1: 0.7195\n",
      "CV Search:  52%|█████▎    | 105/200 [01:58<02:17,  1.45s/it]2025-06-03 16:11:55,382 - INFO - Params: {'subsample': 1.0, 'scale_pos_weight': 1.0, 'max_depth': 7, 'learning_rate': 0.1, 'colsample_bytree': 0.9}, Mean F1: 0.7168\n",
      "CV Search:  53%|█████▎    | 106/200 [02:00<02:24,  1.54s/it]2025-06-03 16:11:56,664 - INFO - Params: {'subsample': 0.8, 'scale_pos_weight': 1.5, 'max_depth': 8, 'learning_rate': 0.25, 'colsample_bytree': 1.0}, Mean F1: 0.7073\n",
      "CV Search:  54%|█████▎    | 107/200 [02:01<02:15,  1.46s/it]2025-06-03 16:11:57,964 - INFO - Params: {'subsample': 0.8, 'scale_pos_weight': 1.0, 'max_depth': 7, 'learning_rate': 0.2, 'colsample_bytree': 1.0}, Mean F1: 0.7041\n",
      "CV Search:  54%|█████▍    | 108/200 [02:02<02:10,  1.41s/it]2025-06-03 16:11:59,519 - INFO - Params: {'subsample': 0.8, 'scale_pos_weight': 2.0, 'max_depth': 6, 'learning_rate': 0.1, 'colsample_bytree': 0.9}, Mean F1: 0.7278\n",
      "CV Search:  55%|█████▍    | 109/200 [02:04<02:12,  1.46s/it]2025-06-03 16:12:01,033 - INFO - Params: {'subsample': 0.8, 'scale_pos_weight': 1.0, 'max_depth': 6, 'learning_rate': 0.15, 'colsample_bytree': 0.9}, Mean F1: 0.7155\n",
      "CV Search:  55%|█████▌    | 110/200 [02:05<02:12,  1.47s/it]2025-06-03 16:12:02,491 - INFO - Params: {'subsample': 0.8, 'scale_pos_weight': 2.0, 'max_depth': 7, 'learning_rate': 0.15, 'colsample_bytree': 1.0}, Mean F1: 0.7185\n",
      "CV Search:  56%|█████▌    | 111/200 [02:07<02:10,  1.47s/it]2025-06-03 16:12:03,828 - INFO - Params: {'subsample': 0.8, 'scale_pos_weight': 1.0, 'max_depth': 8, 'learning_rate': 0.25, 'colsample_bytree': 1.0}, Mean F1: 0.7046\n",
      "CV Search:  56%|█████▌    | 112/200 [02:08<02:05,  1.43s/it]2025-06-03 16:12:05,241 - INFO - Params: {'subsample': 0.9, 'scale_pos_weight': 1.5, 'max_depth': 7, 'learning_rate': 0.15, 'colsample_bytree': 1.0}, Mean F1: 0.7239\n",
      "CV Search:  56%|█████▋    | 113/200 [02:09<02:03,  1.42s/it]2025-06-03 16:12:06,694 - INFO - Params: {'subsample': 0.9, 'scale_pos_weight': 1.5, 'max_depth': 6, 'learning_rate': 0.1, 'colsample_bytree': 0.9}, Mean F1: 0.7239\n",
      "CV Search:  57%|█████▋    | 114/200 [02:11<02:03,  1.43s/it]2025-06-03 16:12:08,030 - INFO - Params: {'subsample': 1.0, 'scale_pos_weight': 1.5, 'max_depth': 6, 'learning_rate': 0.15, 'colsample_bytree': 0.9}, Mean F1: 0.7256\n",
      "CV Search:  57%|█████▊    | 115/200 [02:12<01:59,  1.40s/it]2025-06-03 16:12:09,186 - INFO - Params: {'subsample': 0.8, 'scale_pos_weight': 2.0, 'max_depth': 7, 'learning_rate': 0.25, 'colsample_bytree': 1.0}, Mean F1: 0.7137\n",
      "CV Search:  58%|█████▊    | 116/200 [02:13<01:51,  1.33s/it]2025-06-03 16:12:10,657 - INFO - Params: {'subsample': 0.8, 'scale_pos_weight': 1.5, 'max_depth': 8, 'learning_rate': 0.15, 'colsample_bytree': 1.0}, Mean F1: 0.7105\n",
      "CV Search:  58%|█████▊    | 117/200 [02:15<01:53,  1.37s/it]2025-06-03 16:12:11,984 - INFO - Params: {'subsample': 1.0, 'scale_pos_weight': 1.0, 'max_depth': 7, 'learning_rate': 0.2, 'colsample_bytree': 1.0}, Mean F1: 0.7102\n",
      "CV Search:  59%|█████▉    | 118/200 [02:16<01:51,  1.36s/it]2025-06-03 16:12:13,372 - INFO - Params: {'subsample': 1.0, 'scale_pos_weight': 1.0, 'max_depth': 8, 'learning_rate': 0.15, 'colsample_bytree': 1.0}, Mean F1: 0.7106\n",
      "CV Search:  60%|█████▉    | 119/200 [02:18<01:50,  1.37s/it]2025-06-03 16:12:14,960 - INFO - Params: {'subsample': 0.8, 'scale_pos_weight': 2.0, 'max_depth': 6, 'learning_rate': 0.1, 'colsample_bytree': 1.0}, Mean F1: 0.7291\n",
      "CV Search:  60%|██████    | 120/200 [02:19<01:54,  1.43s/it]2025-06-03 16:12:16,951 - INFO - Params: {'subsample': 0.9, 'scale_pos_weight': 1.0, 'max_depth': 7, 'learning_rate': 0.1, 'colsample_bytree': 0.9}, Mean F1: 0.7162\n",
      "CV Search:  60%|██████    | 121/200 [02:21<02:06,  1.60s/it]2025-06-03 16:12:18,176 - INFO - Params: {'subsample': 1.0, 'scale_pos_weight': 2.0, 'max_depth': 6, 'learning_rate': 0.2, 'colsample_bytree': 0.9}, Mean F1: 0.7277\n",
      "CV Search:  61%|██████    | 122/200 [02:22<01:56,  1.49s/it]2025-06-03 16:12:19,812 - INFO - Params: {'subsample': 0.8, 'scale_pos_weight': 1.0, 'max_depth': 8, 'learning_rate': 0.1, 'colsample_bytree': 1.0}, Mean F1: 0.7230\n",
      "CV Search:  62%|██████▏   | 123/200 [02:24<01:57,  1.53s/it]2025-06-03 16:12:20,980 - INFO - Params: {'subsample': 0.9, 'scale_pos_weight': 1.5, 'max_depth': 6, 'learning_rate': 0.25, 'colsample_bytree': 1.0}, Mean F1: 0.7160\n",
      "CV Search:  62%|██████▏   | 124/200 [02:25<01:48,  1.42s/it]2025-06-03 16:12:22,263 - INFO - Params: {'subsample': 0.9, 'scale_pos_weight': 2.0, 'max_depth': 7, 'learning_rate': 0.2, 'colsample_bytree': 1.0}, Mean F1: 0.7242\n",
      "CV Search:  62%|██████▎   | 125/200 [02:27<01:43,  1.38s/it]2025-06-03 16:12:23,706 - INFO - Params: {'subsample': 0.8, 'scale_pos_weight': 1.0, 'max_depth': 6, 'learning_rate': 0.1, 'colsample_bytree': 0.9}, Mean F1: 0.7193\n",
      "CV Search:  63%|██████▎   | 126/200 [02:28<01:43,  1.40s/it]2025-06-03 16:12:24,808 - INFO - Params: {'subsample': 1.0, 'scale_pos_weight': 1.5, 'max_depth': 6, 'learning_rate': 0.25, 'colsample_bytree': 1.0}, Mean F1: 0.7208\n",
      "CV Search:  64%|██████▎   | 127/200 [02:29<01:35,  1.31s/it]2025-06-03 16:12:25,974 - INFO - Params: {'subsample': 1.0, 'scale_pos_weight': 1.0, 'max_depth': 6, 'learning_rate': 0.2, 'colsample_bytree': 1.0}, Mean F1: 0.7168\n",
      "CV Search:  64%|██████▍   | 128/200 [02:30<01:31,  1.27s/it]2025-06-03 16:12:27,272 - INFO - Params: {'subsample': 0.9, 'scale_pos_weight': 2.0, 'max_depth': 7, 'learning_rate': 0.2, 'colsample_bytree': 0.9}, Mean F1: 0.7129\n",
      "CV Search:  64%|██████▍   | 129/200 [02:32<01:30,  1.28s/it]2025-06-03 16:12:28,641 - INFO - Params: {'subsample': 1.0, 'scale_pos_weight': 1.5, 'max_depth': 6, 'learning_rate': 0.2, 'colsample_bytree': 1.0}, Mean F1: 0.7178\n",
      "CV Search:  65%|██████▌   | 130/200 [02:33<01:31,  1.30s/it]2025-06-03 16:12:30,126 - INFO - Params: {'subsample': 0.9, 'scale_pos_weight': 1.0, 'max_depth': 7, 'learning_rate': 0.2, 'colsample_bytree': 0.9}, Mean F1: 0.7083\n",
      "CV Search:  66%|██████▌   | 131/200 [02:34<01:33,  1.36s/it]2025-06-03 16:12:31,936 - INFO - Params: {'subsample': 1.0, 'scale_pos_weight': 2.0, 'max_depth': 7, 'learning_rate': 0.15, 'colsample_bytree': 0.9}, Mean F1: 0.7219\n",
      "CV Search:  66%|██████▌   | 132/200 [02:36<01:41,  1.49s/it]2025-06-03 16:12:33,373 - INFO - Params: {'subsample': 1.0, 'scale_pos_weight': 1.5, 'max_depth': 6, 'learning_rate': 0.15, 'colsample_bytree': 1.0}, Mean F1: 0.7249\n",
      "CV Search:  66%|██████▋   | 133/200 [02:38<01:38,  1.48s/it]2025-06-03 16:12:34,896 - INFO - Params: {'subsample': 0.9, 'scale_pos_weight': 1.5, 'max_depth': 7, 'learning_rate': 0.15, 'colsample_bytree': 0.9}, Mean F1: 0.7162\n",
      "CV Search:  67%|██████▋   | 134/200 [02:39<01:38,  1.49s/it]2025-06-03 16:12:36,517 - INFO - Params: {'subsample': 0.8, 'scale_pos_weight': 2.0, 'max_depth': 7, 'learning_rate': 0.1, 'colsample_bytree': 1.0}, Mean F1: 0.7255\n",
      "CV Search:  68%|██████▊   | 135/200 [02:41<01:39,  1.53s/it]2025-06-03 16:12:38,682 - INFO - Params: {'subsample': 1.0, 'scale_pos_weight': 1.5, 'max_depth': 8, 'learning_rate': 0.1, 'colsample_bytree': 0.9}, Mean F1: 0.7218\n",
      "CV Search:  68%|██████▊   | 136/200 [02:43<01:50,  1.72s/it]2025-06-03 16:12:39,847 - INFO - Params: {'subsample': 0.8, 'scale_pos_weight': 1.0, 'max_depth': 6, 'learning_rate': 0.2, 'colsample_bytree': 1.0}, Mean F1: 0.7154\n",
      "CV Search:  68%|██████▊   | 137/200 [02:44<01:37,  1.55s/it]2025-06-03 16:12:41,205 - INFO - Params: {'subsample': 1.0, 'scale_pos_weight': 1.5, 'max_depth': 8, 'learning_rate': 0.15, 'colsample_bytree': 1.0}, Mean F1: 0.7163\n",
      "CV Search:  69%|██████▉   | 138/200 [02:45<01:32,  1.49s/it]2025-06-03 16:12:42,358 - INFO - Params: {'subsample': 0.8, 'scale_pos_weight': 1.0, 'max_depth': 6, 'learning_rate': 0.25, 'colsample_bytree': 0.9}, Mean F1: 0.7004\n",
      "CV Search:  70%|██████▉   | 139/200 [02:47<01:24,  1.39s/it]2025-06-03 16:12:43,652 - INFO - Params: {'subsample': 0.8, 'scale_pos_weight': 1.5, 'max_depth': 7, 'learning_rate': 0.15, 'colsample_bytree': 0.9}, Mean F1: 0.7205\n",
      "CV Search:  70%|███████   | 140/200 [02:48<01:21,  1.36s/it]2025-06-03 16:12:44,934 - INFO - Params: {'subsample': 0.9, 'scale_pos_weight': 1.0, 'max_depth': 8, 'learning_rate': 0.2, 'colsample_bytree': 1.0}, Mean F1: 0.7057\n",
      "CV Search:  70%|███████   | 141/200 [02:49<01:18,  1.34s/it]2025-06-03 16:12:46,395 - INFO - Params: {'subsample': 1.0, 'scale_pos_weight': 1.0, 'max_depth': 8, 'learning_rate': 0.15, 'colsample_bytree': 0.9}, Mean F1: 0.7158\n",
      "CV Search:  71%|███████   | 142/200 [02:51<01:19,  1.38s/it]2025-06-03 16:12:47,658 - INFO - Params: {'subsample': 0.9, 'scale_pos_weight': 1.5, 'max_depth': 7, 'learning_rate': 0.25, 'colsample_bytree': 0.9}, Mean F1: 0.6988\n",
      "CV Search:  72%|███████▏  | 143/200 [02:52<01:16,  1.34s/it]2025-06-03 16:12:48,860 - INFO - Params: {'subsample': 0.8, 'scale_pos_weight': 1.5, 'max_depth': 6, 'learning_rate': 0.2, 'colsample_bytree': 1.0}, Mean F1: 0.7204\n",
      "CV Search:  72%|███████▏  | 144/200 [02:53<01:12,  1.30s/it]2025-06-03 16:12:50,464 - INFO - Params: {'subsample': 0.9, 'scale_pos_weight': 2.0, 'max_depth': 7, 'learning_rate': 0.15, 'colsample_bytree': 0.9}, Mean F1: 0.7239\n",
      "CV Search:  72%|███████▎  | 145/200 [02:55<01:16,  1.39s/it]2025-06-03 16:12:51,888 - INFO - Params: {'subsample': 0.9, 'scale_pos_weight': 1.0, 'max_depth': 7, 'learning_rate': 0.15, 'colsample_bytree': 1.0}, Mean F1: 0.7149\n",
      "CV Search:  73%|███████▎  | 146/200 [02:56<01:15,  1.40s/it]2025-06-03 16:12:53,032 - INFO - Params: {'subsample': 1.0, 'scale_pos_weight': 2.0, 'max_depth': 6, 'learning_rate': 0.25, 'colsample_bytree': 1.0}, Mean F1: 0.7243\n",
      "CV Search:  74%|███████▎  | 147/200 [02:57<01:10,  1.32s/it]2025-06-03 16:12:54,725 - INFO - Params: {'subsample': 0.8, 'scale_pos_weight': 1.5, 'max_depth': 6, 'learning_rate': 0.1, 'colsample_bytree': 0.9}, Mean F1: 0.7285\n",
      "CV Search:  74%|███████▍  | 148/200 [02:59<01:14,  1.43s/it]2025-06-03 16:12:56,250 - INFO - Params: {'subsample': 0.8, 'scale_pos_weight': 2.0, 'max_depth': 8, 'learning_rate': 0.25, 'colsample_bytree': 0.9}, Mean F1: 0.7013\n",
      "CV Search:  74%|███████▍  | 149/200 [03:00<01:14,  1.46s/it]2025-06-03 16:12:57,878 - INFO - Params: {'subsample': 1.0, 'scale_pos_weight': 2.0, 'max_depth': 8, 'learning_rate': 0.15, 'colsample_bytree': 0.9}, Mean F1: 0.7204\n",
      "CV Search:  75%|███████▌  | 150/200 [03:02<01:15,  1.51s/it]2025-06-03 16:12:59,631 - INFO - Params: {'subsample': 0.9, 'scale_pos_weight': 2.0, 'max_depth': 8, 'learning_rate': 0.1, 'colsample_bytree': 1.0}, Mean F1: 0.7259\n",
      "CV Search:  76%|███████▌  | 151/200 [03:04<01:17,  1.58s/it]2025-06-03 16:13:00,877 - INFO - Params: {'subsample': 0.8, 'scale_pos_weight': 2.0, 'max_depth': 6, 'learning_rate': 0.25, 'colsample_bytree': 1.0}, Mean F1: 0.7220\n",
      "CV Search:  76%|███████▌  | 152/200 [03:05<01:11,  1.48s/it]2025-06-03 16:13:02,055 - INFO - Params: {'subsample': 0.8, 'scale_pos_weight': 2.0, 'max_depth': 6, 'learning_rate': 0.2, 'colsample_bytree': 1.0}, Mean F1: 0.7209\n",
      "CV Search:  76%|███████▋  | 153/200 [03:06<01:05,  1.39s/it]2025-06-03 16:13:03,242 - INFO - Params: {'subsample': 1.0, 'scale_pos_weight': 1.0, 'max_depth': 7, 'learning_rate': 0.25, 'colsample_bytree': 1.0}, Mean F1: 0.7040\n",
      "CV Search:  77%|███████▋  | 154/200 [03:07<01:01,  1.33s/it]2025-06-03 16:13:05,135 - INFO - Params: {'subsample': 0.9, 'scale_pos_weight': 1.5, 'max_depth': 8, 'learning_rate': 0.15, 'colsample_bytree': 0.9}, Mean F1: 0.7212\n",
      "CV Search:  78%|███████▊  | 155/200 [03:09<01:07,  1.50s/it]2025-06-03 16:13:06,628 - INFO - Params: {'subsample': 1.0, 'scale_pos_weight': 2.0, 'max_depth': 8, 'learning_rate': 0.2, 'colsample_bytree': 0.9}, Mean F1: 0.7207\n",
      "CV Search:  78%|███████▊  | 156/200 [03:11<01:05,  1.50s/it]2025-06-03 16:13:07,968 - INFO - Params: {'subsample': 0.9, 'scale_pos_weight': 2.0, 'max_depth': 6, 'learning_rate': 0.15, 'colsample_bytree': 0.9}, Mean F1: 0.7276\n",
      "CV Search:  78%|███████▊  | 157/200 [03:12<01:02,  1.45s/it]2025-06-03 16:13:09,610 - INFO - Params: {'subsample': 0.9, 'scale_pos_weight': 2.0, 'max_depth': 6, 'learning_rate': 0.1, 'colsample_bytree': 0.9}, Mean F1: 0.7254\n",
      "CV Search:  79%|███████▉  | 158/200 [03:14<01:03,  1.51s/it]2025-06-03 16:13:11,052 - INFO - Params: {'subsample': 1.0, 'scale_pos_weight': 1.0, 'max_depth': 6, 'learning_rate': 0.1, 'colsample_bytree': 1.0}, Mean F1: 0.7219\n",
      "CV Search:  80%|███████▉  | 159/200 [03:15<01:00,  1.49s/it]2025-06-03 16:13:12,297 - INFO - Params: {'subsample': 0.9, 'scale_pos_weight': 1.0, 'max_depth': 7, 'learning_rate': 0.25, 'colsample_bytree': 0.9}, Mean F1: 0.7017\n",
      "CV Search:  80%|████████  | 160/200 [03:17<00:56,  1.42s/it]2025-06-03 16:13:13,469 - INFO - Params: {'subsample': 1.0, 'scale_pos_weight': 1.0, 'max_depth': 6, 'learning_rate': 0.25, 'colsample_bytree': 0.9}, Mean F1: 0.7108\n",
      "CV Search:  80%|████████  | 161/200 [03:18<00:52,  1.34s/it]2025-06-03 16:13:14,558 - INFO - Params: {'subsample': 1.0, 'scale_pos_weight': 1.0, 'max_depth': 6, 'learning_rate': 0.25, 'colsample_bytree': 1.0}, Mean F1: 0.7143\n",
      "CV Search:  81%|████████  | 162/200 [03:19<00:48,  1.27s/it]2025-06-03 16:13:15,668 - INFO - Params: {'subsample': 0.9, 'scale_pos_weight': 2.0, 'max_depth': 6, 'learning_rate': 0.25, 'colsample_bytree': 1.0}, Mean F1: 0.7163\n",
      "CV Search:  82%|████████▏ | 163/200 [03:20<00:45,  1.22s/it]2025-06-03 16:13:16,809 - INFO - Params: {'subsample': 1.0, 'scale_pos_weight': 2.0, 'max_depth': 6, 'learning_rate': 0.25, 'colsample_bytree': 0.9}, Mean F1: 0.7163\n",
      "CV Search:  82%|████████▏ | 164/200 [03:21<00:43,  1.20s/it]2025-06-03 16:13:18,354 - INFO - Params: {'subsample': 1.0, 'scale_pos_weight': 2.0, 'max_depth': 6, 'learning_rate': 0.1, 'colsample_bytree': 0.9}, Mean F1: 0.7284\n",
      "CV Search:  82%|████████▎ | 165/200 [03:23<00:45,  1.30s/it]2025-06-03 16:13:20,028 - INFO - Params: {'subsample': 0.9, 'scale_pos_weight': 1.5, 'max_depth': 7, 'learning_rate': 0.1, 'colsample_bytree': 0.9}, Mean F1: 0.7244\n",
      "CV Search:  83%|████████▎ | 166/200 [03:24<00:48,  1.41s/it]2025-06-03 16:13:21,193 - INFO - Params: {'subsample': 1.0, 'scale_pos_weight': 1.5, 'max_depth': 6, 'learning_rate': 0.2, 'colsample_bytree': 0.9}, Mean F1: 0.7216\n",
      "CV Search:  84%|████████▎ | 167/200 [03:25<00:44,  1.34s/it]2025-06-03 16:13:22,636 - INFO - Params: {'subsample': 1.0, 'scale_pos_weight': 1.5, 'max_depth': 8, 'learning_rate': 0.2, 'colsample_bytree': 1.0}, Mean F1: 0.7206\n",
      "CV Search:  84%|████████▍ | 168/200 [03:27<00:43,  1.37s/it]2025-06-03 16:13:24,316 - INFO - Params: {'subsample': 1.0, 'scale_pos_weight': 1.5, 'max_depth': 8, 'learning_rate': 0.1, 'colsample_bytree': 1.0}, Mean F1: 0.7257\n",
      "CV Search:  84%|████████▍ | 169/200 [03:29<00:45,  1.46s/it]2025-06-03 16:13:26,431 - INFO - Params: {'subsample': 1.0, 'scale_pos_weight': 2.0, 'max_depth': 7, 'learning_rate': 0.1, 'colsample_bytree': 0.9}, Mean F1: 0.7282\n",
      "CV Search:  85%|████████▌ | 170/200 [03:31<00:49,  1.66s/it]2025-06-03 16:13:27,607 - INFO - Params: {'subsample': 0.9, 'scale_pos_weight': 1.5, 'max_depth': 6, 'learning_rate': 0.2, 'colsample_bytree': 1.0}, Mean F1: 0.7183\n",
      "CV Search:  86%|████████▌ | 171/200 [03:32<00:43,  1.51s/it]2025-06-03 16:13:29,026 - INFO - Params: {'subsample': 0.8, 'scale_pos_weight': 1.0, 'max_depth': 8, 'learning_rate': 0.2, 'colsample_bytree': 0.9}, Mean F1: 0.6998\n",
      "CV Search:  86%|████████▌ | 172/200 [03:33<00:41,  1.48s/it]2025-06-03 16:13:30,350 - INFO - Params: {'subsample': 0.8, 'scale_pos_weight': 1.0, 'max_depth': 6, 'learning_rate': 0.25, 'colsample_bytree': 1.0}, Mean F1: 0.6945\n",
      "CV Search:  86%|████████▋ | 173/200 [03:35<00:38,  1.44s/it]2025-06-03 16:13:32,397 - INFO - Params: {'subsample': 1.0, 'scale_pos_weight': 2.0, 'max_depth': 8, 'learning_rate': 0.1, 'colsample_bytree': 1.0}, Mean F1: 0.7261\n",
      "CV Search:  87%|████████▋ | 174/200 [03:37<00:42,  1.62s/it]2025-06-03 16:13:33,732 - INFO - Params: {'subsample': 0.9, 'scale_pos_weight': 2.0, 'max_depth': 8, 'learning_rate': 0.25, 'colsample_bytree': 1.0}, Mean F1: 0.7135\n",
      "CV Search:  88%|████████▊ | 175/200 [03:38<00:38,  1.53s/it]2025-06-03 16:13:34,927 - INFO - Params: {'subsample': 0.8, 'scale_pos_weight': 1.0, 'max_depth': 7, 'learning_rate': 0.25, 'colsample_bytree': 1.0}, Mean F1: 0.6938\n",
      "CV Search:  88%|████████▊ | 176/200 [03:39<00:34,  1.43s/it]2025-06-03 16:13:36,132 - INFO - Params: {'subsample': 0.8, 'scale_pos_weight': 1.0, 'max_depth': 7, 'learning_rate': 0.2, 'colsample_bytree': 0.9}, Mean F1: 0.6936\n",
      "CV Search:  88%|████████▊ | 177/200 [03:40<00:31,  1.36s/it]2025-06-03 16:13:37,333 - INFO - Params: {'subsample': 0.8, 'scale_pos_weight': 1.0, 'max_depth': 6, 'learning_rate': 0.2, 'colsample_bytree': 0.9}, Mean F1: 0.7055\n",
      "CV Search:  89%|████████▉ | 178/200 [03:42<00:28,  1.32s/it]2025-06-03 16:13:38,602 - INFO - Params: {'subsample': 1.0, 'scale_pos_weight': 2.0, 'max_depth': 8, 'learning_rate': 0.25, 'colsample_bytree': 0.9}, Mean F1: 0.7223\n",
      "CV Search:  90%|████████▉ | 179/200 [03:43<00:27,  1.30s/it]2025-06-03 16:13:40,311 - INFO - Params: {'subsample': 1.0, 'scale_pos_weight': 1.5, 'max_depth': 8, 'learning_rate': 0.15, 'colsample_bytree': 0.9}, Mean F1: 0.7120\n",
      "CV Search:  90%|█████████ | 180/200 [03:45<00:28,  1.42s/it]2025-06-03 16:13:41,778 - INFO - Params: {'subsample': 0.8, 'scale_pos_weight': 1.5, 'max_depth': 7, 'learning_rate': 0.2, 'colsample_bytree': 1.0}, Mean F1: 0.7077\n",
      "CV Search:  90%|█████████ | 181/200 [03:46<00:27,  1.44s/it]2025-06-03 16:13:43,181 - INFO - Params: {'subsample': 1.0, 'scale_pos_weight': 1.5, 'max_depth': 8, 'learning_rate': 0.25, 'colsample_bytree': 1.0}, Mean F1: 0.7159\n",
      "CV Search:  91%|█████████ | 182/200 [03:47<00:25,  1.43s/it]2025-06-03 16:13:44,440 - INFO - Params: {'subsample': 0.9, 'scale_pos_weight': 2.0, 'max_depth': 6, 'learning_rate': 0.2, 'colsample_bytree': 1.0}, Mean F1: 0.7189\n",
      "CV Search:  92%|█████████▏| 183/200 [03:49<00:23,  1.38s/it]2025-06-03 16:13:45,636 - INFO - Params: {'subsample': 0.9, 'scale_pos_weight': 1.5, 'max_depth': 6, 'learning_rate': 0.2, 'colsample_bytree': 0.9}, Mean F1: 0.7201\n",
      "CV Search:  92%|█████████▏| 184/200 [03:50<00:21,  1.32s/it]2025-06-03 16:13:47,599 - INFO - Params: {'subsample': 0.8, 'scale_pos_weight': 1.5, 'max_depth': 8, 'learning_rate': 0.15, 'colsample_bytree': 0.9}, Mean F1: 0.7154\n",
      "CV Search:  92%|█████████▎| 185/200 [03:52<00:22,  1.51s/it]2025-06-03 16:13:48,771 - INFO - Params: {'subsample': 0.9, 'scale_pos_weight': 2.0, 'max_depth': 6, 'learning_rate': 0.25, 'colsample_bytree': 0.9}, Mean F1: 0.7162\n",
      "CV Search:  93%|█████████▎| 186/200 [03:53<00:19,  1.41s/it]2025-06-03 16:13:53,109 - INFO - Params: {'subsample': 0.8, 'scale_pos_weight': 1.5, 'max_depth': 8, 'learning_rate': 0.1, 'colsample_bytree': 0.9}, Mean F1: 0.7232\n",
      "CV Search:  94%|█████████▎| 187/200 [03:57<00:29,  2.29s/it]2025-06-03 16:13:54,814 - INFO - Params: {'subsample': 0.8, 'scale_pos_weight': 1.5, 'max_depth': 6, 'learning_rate': 0.2, 'colsample_bytree': 0.9}, Mean F1: 0.7143\n",
      "CV Search:  94%|█████████▍| 188/200 [03:59<00:25,  2.11s/it]2025-06-03 16:13:56,708 - INFO - Params: {'subsample': 0.9, 'scale_pos_weight': 2.0, 'max_depth': 8, 'learning_rate': 0.15, 'colsample_bytree': 1.0}, Mean F1: 0.7211\n",
      "CV Search:  94%|█████████▍| 189/200 [04:01<00:22,  2.05s/it]2025-06-03 16:13:58,230 - INFO - Params: {'subsample': 0.9, 'scale_pos_weight': 1.0, 'max_depth': 8, 'learning_rate': 0.25, 'colsample_bytree': 1.0}, Mean F1: 0.6979\n",
      "CV Search:  95%|█████████▌| 190/200 [04:02<00:18,  1.89s/it]2025-06-03 16:13:59,782 - INFO - Params: {'subsample': 0.9, 'scale_pos_weight': 2.0, 'max_depth': 8, 'learning_rate': 0.2, 'colsample_bytree': 1.0}, Mean F1: 0.7123\n",
      "CV Search:  96%|█████████▌| 191/200 [04:04<00:16,  1.79s/it]2025-06-03 16:14:01,790 - INFO - Params: {'subsample': 0.8, 'scale_pos_weight': 1.5, 'max_depth': 8, 'learning_rate': 0.1, 'colsample_bytree': 1.0}, Mean F1: 0.7220\n",
      "CV Search:  96%|█████████▌| 192/200 [04:06<00:14,  1.85s/it]2025-06-03 16:14:03,268 - INFO - Params: {'subsample': 0.9, 'scale_pos_weight': 1.0, 'max_depth': 7, 'learning_rate': 0.15, 'colsample_bytree': 0.9}, Mean F1: 0.7028\n",
      "CV Search:  96%|█████████▋| 193/200 [04:08<00:12,  1.74s/it]2025-06-03 16:14:04,936 - INFO - Params: {'subsample': 0.9, 'scale_pos_weight': 1.5, 'max_depth': 8, 'learning_rate': 0.15, 'colsample_bytree': 1.0}, Mean F1: 0.7186\n",
      "CV Search:  97%|█████████▋| 194/200 [04:09<00:10,  1.72s/it]2025-06-03 16:14:06,245 - INFO - Params: {'subsample': 1.0, 'scale_pos_weight': 1.5, 'max_depth': 7, 'learning_rate': 0.25, 'colsample_bytree': 1.0}, Mean F1: 0.7160\n",
      "CV Search:  98%|█████████▊| 195/200 [04:10<00:07,  1.60s/it]2025-06-03 16:14:08,340 - INFO - Params: {'subsample': 0.9, 'scale_pos_weight': 1.0, 'max_depth': 6, 'learning_rate': 0.1, 'colsample_bytree': 0.9}, Mean F1: 0.7194\n",
      "CV Search:  98%|█████████▊| 196/200 [04:13<00:06,  1.75s/it]2025-06-03 16:14:10,653 - INFO - Params: {'subsample': 0.9, 'scale_pos_weight': 2.0, 'max_depth': 8, 'learning_rate': 0.15, 'colsample_bytree': 0.9}, Mean F1: 0.7164\n",
      "CV Search:  98%|█████████▊| 197/200 [04:15<00:05,  1.92s/it]2025-06-03 16:14:12,284 - INFO - Params: {'subsample': 1.0, 'scale_pos_weight': 1.5, 'max_depth': 7, 'learning_rate': 0.15, 'colsample_bytree': 1.0}, Mean F1: 0.7224\n",
      "CV Search:  99%|█████████▉| 198/200 [04:17<00:03,  1.83s/it]2025-06-03 16:14:14,305 - INFO - Params: {'subsample': 0.9, 'scale_pos_weight': 1.5, 'max_depth': 8, 'learning_rate': 0.1, 'colsample_bytree': 1.0}, Mean F1: 0.7196\n",
      "CV Search: 100%|█████████▉| 199/200 [04:19<00:01,  1.89s/it]2025-06-03 16:14:15,877 - INFO - Params: {'subsample': 0.9, 'scale_pos_weight': 2.0, 'max_depth': 7, 'learning_rate': 0.15, 'colsample_bytree': 1.0}, Mean F1: 0.7246\n",
      "CV Search: 100%|██████████| 200/200 [04:20<00:00,  1.30s/it]\n",
      "2025-06-03 16:14:15,895 - INFO - Best Mean F1: 0.7294 at threshold=0.55\n",
      "2025-06-03 16:14:15,896 - INFO - Best Params: {'objective': 'binary:logistic', 'eval_metric': 'logloss', 'seed': 42, 'subsample': 1.0, 'scale_pos_weight': 2.0, 'max_depth': 7, 'learning_rate': 0.15, 'colsample_bytree': 1.0}\n",
      "2025-06-03 16:14:15,897 - INFO - Best CV Fold Report:\n",
      "              precision    recall  f1-score   support\n",
      "\n",
      "           0       0.96      0.85      0.90       559\n",
      "           1       0.61      0.87      0.72       151\n",
      "\n",
      "    accuracy                           0.85       710\n",
      "   macro avg       0.79      0.86      0.81       710\n",
      "weighted avg       0.89      0.85      0.86       710\n",
      "\n",
      "2025-06-03 16:14:15,926 - INFO - Model, scaler, and threshold saved to 'models/'\n"
     ]
    }
   ],
   "source": [
    "import logging\n",
    "import numpy as np\n",
    "import pandas as pd\n",
    "from sklearn.model_selection import train_test_split\n",
    "from collections import defaultdict\n",
    "import xgboost as xgb\n",
    "from sklearn.model_selection import ParameterSampler, StratifiedKFold\n",
    "from sklearn.metrics import classification_report, f1_score\n",
    "from tqdm import tqdm\n",
    "from sklearn.preprocessing import StandardScaler\n",
    "import joblib\n",
    "import os\n",
    "\n",
    "# Set up logging\n",
    "logging.basicConfig(level=logging.INFO, format='%(asctime)s - %(levelname)s - %(message)s')\n",
    "logger = logging.getLogger(__name__)\n",
    "\n",
    "# Load datasets\n",
    "logger.info(\"Loading datasets\")\n",
    "df_atlas = pd.read_csv('../data/Atlas Cechu Student Access.csv', encoding='utf-8')\n",
    "df_payments = pd.read_csv('../data/Payments Student Access.csv', encoding='utf-8')\n",
    "df_credits = pd.read_csv('../data/User Credits Student Access.csv', encoding='utf-8')\n",
    "\n",
    "# Clean data\n",
    "logger.info(\"Cleaning data\")\n",
    "df_credits_cleaned = df_credits[df_credits['credits'] > 0]\n",
    "df_payments_cleaned = df_payments[df_payments['user'].notna()]\n",
    "\n",
    "# Process Atlas data into structured format\n",
    "logger.info(\"Transforming Atlas data\")\n",
    "grouped_cols = defaultdict(dict)\n",
    "for col in df_atlas.columns:\n",
    "    if \"-\" in col:\n",
    "        group, key = col.split('-', 1)\n",
    "        grouped_cols[group][key] = col\n",
    "    else:\n",
    "        grouped_cols[col][col] = col\n",
    "\n",
    "structured_data = []\n",
    "for _, row in df_atlas.iterrows():\n",
    "    entry = {}\n",
    "    for group, mapping in grouped_cols.items():\n",
    "        entry[group] = [key for key, col in mapping.items() if row[col] == 1]\n",
    "    structured_data.append(entry)\n",
    "\n",
    "# Encode structured features\n",
    "df_atlas_numeric_values = pd.DataFrame(structured_data).drop(columns=['user_id'])\n",
    "df_atlas_nv = pd.concat([df_atlas['user_id'], df_atlas_numeric_values], axis=1, join='inner')\n",
    "mapping_dicts = {}\n",
    "for col in df_atlas_nv.columns:\n",
    "    if col == 'user_id':\n",
    "        continue\n",
    "    unique_lists = df_atlas_nv[col].apply(lambda x: tuple(sorted(x))).unique()\n",
    "    mapping_dicts[col] = {lst: idx + 1 for idx, lst in enumerate(unique_lists)}\n",
    "    df_atlas_nv[col] = df_atlas_nv[col].apply(lambda x: mapping_dicts[col][tuple(sorted(x))])\n",
    "\n",
    "# Extract withdrawal statistics\n",
    "logger.info(\"Aggregating withdrawal stats\")\n",
    "withdrawals = df_payments[(df_payments['credits'] >= 500) & (df_payments['state'].isin(['PAID', 'APPROVED']))]\n",
    "withdrawal_stats = withdrawals.groupby('user').agg(\n",
    "    num_withdrawals=('credits', 'count'),\n",
    "    avg_withdrawal=('credits', 'mean'),\n",
    "    total_withdrawn=('credits', 'sum')\n",
    ").reset_index()\n",
    "\n",
    "# Identify currently eligible users\n",
    "logger.info(\"Building eligible user set\")\n",
    "eligible_now = df_credits[df_credits['credits'] >= 500].copy()\n",
    "eligible_now = eligible_now.merge(withdrawal_stats, on='user', how='left')\n",
    "eligible_now[['num_withdrawals', 'avg_withdrawal', 'total_withdrawn']] = eligible_now[\n",
    "    ['num_withdrawals', 'avg_withdrawal', 'total_withdrawn']\n",
    "].fillna(0)\n",
    "\n",
    "def assign_behavior(row):\n",
    "    if row['num_withdrawals'] == 0:\n",
    "        return 'new'\n",
    "    elif row['num_withdrawals'] <= 2:\n",
    "        return 'occasional'\n",
    "    else:\n",
    "        return 'regular'\n",
    "\n",
    "eligible_now['withdrawal_segment'] = eligible_now.apply(assign_behavior, axis=1)\n",
    "segment_mapping = {'new': 0, 'occasional': 1, 'regular': 2}\n",
    "eligible_now['withdrawal_segment_code'] = eligible_now['withdrawal_segment'].map(segment_mapping)\n",
    "eligible_now.drop(columns=['withdrawal_segment', 'wage'], inplace=True, errors='ignore')\n",
    "\n",
    "def likely_to_withdraw_now(row):\n",
    "    if row['num_withdrawals'] == 0:\n",
    "        return 0\n",
    "    expected_threshold = max(0.9 * row['avg_withdrawal'], 450)\n",
    "    return int(row['credits'] >= expected_threshold)\n",
    "\n",
    "eligible_now['target'] = eligible_now.apply(likely_to_withdraw_now, axis=1)\n",
    "\n",
    "# Merge Atlas features\n",
    "logger.info(\"Merging structured Atlas features\")\n",
    "df_atlas_clean_nv = df_atlas_nv.copy()\n",
    "df_atlas_clean_nv.rename(columns={'user_id': 'user'}, inplace=True)\n",
    "df_model = pd.merge(eligible_now, df_atlas_clean_nv, on='user', how='left')\n",
    "\n",
    "# Feature engineering\n",
    "X = df_model.drop(columns=[\n",
    "    'target', 'user', 'credits',\n",
    "    'num_withdrawals', 'avg_withdrawal', 'total_withdrawn', \n",
    "    'is_active', 'is_verified', 'is_locked'\n",
    "])\n",
    "y = df_model['target']\n",
    "X = X.fillna(0)\n",
    "\n",
    "# Normalize features\n",
    "logger.info(\"Scaling features\")\n",
    "scaler = StandardScaler()\n",
    "X_scaled = scaler.fit_transform(X)\n",
    "\n",
    "# Split data for validation\n",
    "X_train, X_test, y_train, y_test = train_test_split(X_scaled, y, stratify=y, test_size=0.2, random_state=42)\n",
    "dtrain = xgb.DMatrix(X_train, label=y_train)\n",
    "dvalid = xgb.DMatrix(X_test, label=y_test)\n",
    "\n",
    "# Set up cross-validation and hyperparameter tuning\n",
    "logger.info(\"Starting cross-validated hyperparameter search\")\n",
    "n_splits = 5\n",
    "cv = StratifiedKFold(n_splits=n_splits, shuffle=True, random_state=42)\n",
    "\n",
    "best_f1 = 0\n",
    "best_threshold = 0.5\n",
    "best_params = None\n",
    "best_booster = None\n",
    "best_report = \"\"\n",
    "\n",
    "param_dist = {\n",
    "    'learning_rate': [0.1, 0.15, 0.2, 0.25],\n",
    "    'max_depth': [6, 7, 8],\n",
    "    'subsample': [0.8, 0.9, 1.0],\n",
    "    'colsample_bytree': [0.9, 1.0],\n",
    "    'scale_pos_weight': [1.0, 1.5, 2.0],\n",
    "}\n",
    "param_list = list(ParameterSampler(param_dist, n_iter=200, random_state=42))\n",
    "\n",
    "def f1_eval(preds, dtrain):\n",
    "    labels = dtrain.get_label()\n",
    "    preds_binary = (preds > 0.5).astype(int)\n",
    "    return 'f1', f1_score(labels, preds_binary)\n",
    "\n",
    "# Run training loop with cross-validation\n",
    "for params in tqdm(param_list, desc=\"CV Search\"):\n",
    "    full_params = {\n",
    "        'objective': 'binary:logistic',\n",
    "        'eval_metric': 'logloss',\n",
    "        'seed': 42,\n",
    "        **params\n",
    "    }\n",
    "    cv_f1_scores = []\n",
    "\n",
    "    for train_idx, valid_idx in cv.split(X_scaled, y):\n",
    "        X_train_cv, X_valid_cv = X_scaled[train_idx], X_scaled[valid_idx]\n",
    "        y_train_cv, y_valid_cv = y.iloc[train_idx], y.iloc[valid_idx]\n",
    "\n",
    "        dtrain_cv = xgb.DMatrix(X_train_cv, label=y_train_cv)\n",
    "        dvalid_cv = xgb.DMatrix(X_valid_cv, label=y_valid_cv)\n",
    "\n",
    "        booster = xgb.train(\n",
    "            full_params,\n",
    "            dtrain_cv,\n",
    "            num_boost_round=200,\n",
    "            evals=[(dvalid_cv, 'eval')],\n",
    "            early_stopping_rounds=10,\n",
    "            verbose_eval=False\n",
    "        )\n",
    "\n",
    "        y_proba = booster.predict(dvalid_cv)\n",
    "\n",
    "        # Threshold tuning\n",
    "        best_f1_cv = 0\n",
    "        for thresh in np.linspace(0.3, 0.55, 30):\n",
    "            y_pred_cv = (y_proba > thresh).astype(int)\n",
    "            f1_cv = f1_score(y_valid_cv, y_pred_cv)\n",
    "            best_f1_cv = max(best_f1_cv, f1_cv)\n",
    "\n",
    "        cv_f1_scores.append(best_f1_cv)\n",
    "\n",
    "    mean_f1 = np.mean(cv_f1_scores)\n",
    "    logger.info(f\"Params: {params}, Mean F1: {mean_f1:.4f}\")\n",
    "\n",
    "    if mean_f1 > best_f1:\n",
    "        best_f1 = mean_f1\n",
    "        best_params = full_params\n",
    "        best_booster = booster\n",
    "        best_threshold = thresh\n",
    "        y_final_pred = (y_proba > best_threshold).astype(int)\n",
    "        best_report = classification_report(y_valid_cv, y_final_pred, output_dict=False)\n",
    "\n",
    "logger.info(f\"Best Mean F1: {best_f1:.4f} at threshold={best_threshold:.2f}\")\n",
    "logger.info(f\"Best Params: {best_params}\")\n",
    "logger.info(f\"Best CV Fold Report:\\n{best_report}\")\n",
    "\n",
    "os.makedirs(\"models\", exist_ok=True)\n",
    "\n",
    "model_path = \"models/best_xgb_model.json\"\n",
    "best_booster.save_model(model_path)\n",
    "\n",
    "joblib.dump(scaler, \"models/standard_scaler.pkl\")\n",
    "joblib.dump(best_threshold, \"models/best_threshold.pkl\")\n",
    "joblib.dump(X.columns.tolist(), \"models/feature_names.pkl\")\n",
    "\n",
    "logger.info(f\"Model, scaler, and threshold saved to 'models/'\")"
   ]
  },
  {
   "cell_type": "code",
   "execution_count": 2,
   "id": "20e13b6f",
   "metadata": {},
   "outputs": [
    {
     "name": "stdout",
     "output_type": "stream",
     "text": [
      "👥 Estimated number of users who will cash out: 818\n",
      "\n",
      "💰 Estimated reserve needed for upcoming withdrawals: 1,030,264 CZK\n"
     ]
    }
   ],
   "source": [
    "# Prepare prediction input (must match training features)\n",
    "X_pred = df_model.drop(columns=[\n",
    "    'target', 'user', 'credits',\n",
    "    'num_withdrawals', 'avg_withdrawal', 'total_withdrawn',\n",
    "    'is_active', 'is_verified', 'is_locked'\n",
    "], errors='ignore')\n",
    "\n",
    "X_pred = X_pred.fillna(0)\n",
    "\n",
    "# Ensure same scaling and order\n",
    "X_pred_scaled = scaler.transform(X_pred)\n",
    "dpred = xgb.DMatrix(X_pred_scaled)\n",
    "\n",
    "# Predict using best booster and threshold\n",
    "y_pred_proba_final = best_booster.predict(dpred)\n",
    "df_model['prediction'] = (y_pred_proba_final > best_threshold).astype(int)\n",
    "\n",
    "# Estimate total withdrawal amount\n",
    "predicted_cashouts = df_model[df_model['prediction'] == 1]\n",
    "total_predicted_credits = predicted_cashouts['credits'].sum()\n",
    "\n",
    "# Count users predicted to withdraw\n",
    "num_predicted_users = df_model['prediction'].sum()\n",
    "print(f\"👥 Estimated number of users who will cash out: {num_predicted_users}\")\n",
    "\n",
    "print(f\"\\n💰 Estimated reserve needed for upcoming withdrawals: {total_predicted_credits:,.0f} CZK\")"
   ]
  },
  {
   "cell_type": "code",
   "execution_count": 4,
   "id": "7578594b",
   "metadata": {},
   "outputs": [
    {
     "data": {
      "application/vnd.plotly.v1+json": {
       "config": {
        "plotlyServerURL": "https://plot.ly"
       },
       "data": [
        {
         "alignmentgroup": "True",
         "hovertemplate": "Month=%{x}<br>Withdrawn Credits (CZK)=%{y}<br>year=%{marker.color}<extra></extra>",
         "legendgroup": "",
         "marker": {
          "color": {
           "bdata": "4QcAAOEHAADhBwAA4QcAAOEHAADiBwAA4gcAAOIHAADiBwAA4gcAAOIHAADiBwAA4gcAAOIHAADiBwAA4gcAAOIHAADjBwAA4wcAAOMHAADjBwAA4wcAAOMHAADjBwAA4wcAAOMHAADjBwAA4wcAAOMHAADkBwAA5AcAAOQHAADkBwAA5AcAAOQHAADkBwAA5AcAAOQHAADkBwAA5AcAAOQHAADlBwAA5QcAAOUHAADlBwAA5QcAAOUHAADlBwAA5QcAAOUHAADlBwAA5QcAAOUHAADmBwAA5gcAAOYHAADmBwAA5gcAAOYHAADmBwAA5gcAAOYHAADmBwAA5gcAAOYHAADnBwAA5wcAAOcHAADnBwAA5wcAAOcHAADnBwAA5wcAAOcHAADnBwAA5wcAAOcHAADoBwAA6AcAAOgHAADoBwAA6AcAAOgHAADoBwAA6AcAAOgHAADoBwAA6AcAAOgHAADpBwAA6QcAAOkHAADpBwAA",
           "dtype": "i4"
          },
          "coloraxis": "coloraxis",
          "pattern": {
           "shape": ""
          }
         },
         "name": "",
         "offsetgroup": "",
         "orientation": "v",
         "showlegend": false,
         "textposition": "auto",
         "type": "bar",
         "x": {
          "bdata": "CAAAAAkAAAAKAAAACwAAAAwAAAABAAAAAgAAAAMAAAAEAAAABQAAAAYAAAAHAAAACAAAAAkAAAAKAAAACwAAAAwAAAABAAAAAgAAAAMAAAAEAAAABQAAAAYAAAAHAAAACAAAAAkAAAAKAAAACwAAAAwAAAABAAAAAgAAAAMAAAAEAAAABQAAAAYAAAAHAAAACAAAAAkAAAAKAAAACwAAAAwAAAABAAAAAgAAAAMAAAAEAAAABQAAAAYAAAAHAAAACAAAAAkAAAAKAAAACwAAAAwAAAABAAAAAgAAAAMAAAAEAAAABQAAAAYAAAAHAAAACAAAAAkAAAAKAAAACwAAAAwAAAABAAAAAgAAAAMAAAAEAAAABQAAAAYAAAAHAAAACAAAAAkAAAAKAAAACwAAAAwAAAABAAAAAgAAAAMAAAAEAAAABQAAAAYAAAAHAAAACAAAAAkAAAAKAAAACwAAAAwAAAABAAAAAgAAAAMAAAAEAAAA",
          "dtype": "i4"
         },
         "xaxis": "x",
         "y": {
          "bdata": "AAAAAAA+wEAAAAAAACiBQAAAAAAAJK1AAAAAAID9zkAAAAAAAPe6QAAAAAAAWIVAAAAAAIAEx0AAAAAAgL/VQAAAAAAAFcNAAAAAAICv00AAAAAA4LLjQAAAAACA4tJAAAAAAMD73EAAAAAAYEjoQAAAAADgWeRAAAAAAIDA4EAAAAAAQObUQAAAAAAAcPhAAAAAABD39kAAAAAAgA8CQQAAAABg2PlAAAAAAFDd/UAAAAAAkJXxQAAAAAAwtPBAAAAAAMCX/kAAAAAAgMrtQAAAAAAwSPFAAAAAAGh1BEEAAAAAYBX9QAAAAAAgsfpAAAAAAJD1/0AAAAAA8L/0QAAAAABAdvVAAAAAAHBLAEEAAAAAwDEBQQAAAADAXQFBAAAAAICJ+0AAAAAAYNkIQQAAAABwegRBAAAAAIDoC0EAAAAAsPIBQQAAAABAnvhAAAAAAJDr9UAAAAAAYMf7QAAAAAC4CAFBAAAAADBt/EAAAAAAgDH9QAAAAABQKgFBAAAAAKiKDEEAAAAAUD4DQQAAAACAMABBAAAAAIj2CkEAAAAAOP8HQQAAAADwL/pAAAAAAJChAUEAAAAAbCgXQQAAAACAXfZAAAAAABjwA0EAAAAAADoHQQAAAAAwH/tAAAAAACD8AkEAAAAAmBIHQQAAAABECxBBAAAAAMTLE0EAAAAANIMQQQAAAAAo7RFBAAAAAOD+BEEAAAAAaMINQQAAAACInAhBAAAAAGBIC0EAAAAAkHcPQQAAAABI2gtBAAAAAABtDUEAAAAACNsQQQAAAABwrRJBAAAAAJzPFEEAAAAAlCAWQQAAAAB8OhZBAAAAAIDWFEEAAAAAPLEXQQAAAACkeRRBAAAAAEgWFkEAAAAAuEUWQQAAAABwzhZBAAAAANAvHkEAAAAAXAsdQQAAAADCOiNBAAAAANyqJkEAAAAAwGgjQQAAAADOVyZBAAAAAMq1I0EAAAAA0jApQQAAAACwN/NA",
          "dtype": "f8"
         },
         "yaxis": "y"
        }
       ],
       "layout": {
        "barmode": "group",
        "coloraxis": {
         "colorbar": {
          "title": {
           "text": "year"
          }
         },
         "colorscale": [
          [
           0,
           "#0d0887"
          ],
          [
           0.1111111111111111,
           "#46039f"
          ],
          [
           0.2222222222222222,
           "#7201a8"
          ],
          [
           0.3333333333333333,
           "#9c179e"
          ],
          [
           0.4444444444444444,
           "#bd3786"
          ],
          [
           0.5555555555555556,
           "#d8576b"
          ],
          [
           0.6666666666666666,
           "#ed7953"
          ],
          [
           0.7777777777777778,
           "#fb9f3a"
          ],
          [
           0.8888888888888888,
           "#fdca26"
          ],
          [
           1,
           "#f0f921"
          ]
         ]
        },
        "legend": {
         "tracegroupgap": 0
        },
        "template": {
         "data": {
          "bar": [
           {
            "error_x": {
             "color": "#2a3f5f"
            },
            "error_y": {
             "color": "#2a3f5f"
            },
            "marker": {
             "line": {
              "color": "#E5ECF6",
              "width": 0.5
             },
             "pattern": {
              "fillmode": "overlay",
              "size": 10,
              "solidity": 0.2
             }
            },
            "type": "bar"
           }
          ],
          "barpolar": [
           {
            "marker": {
             "line": {
              "color": "#E5ECF6",
              "width": 0.5
             },
             "pattern": {
              "fillmode": "overlay",
              "size": 10,
              "solidity": 0.2
             }
            },
            "type": "barpolar"
           }
          ],
          "carpet": [
           {
            "aaxis": {
             "endlinecolor": "#2a3f5f",
             "gridcolor": "white",
             "linecolor": "white",
             "minorgridcolor": "white",
             "startlinecolor": "#2a3f5f"
            },
            "baxis": {
             "endlinecolor": "#2a3f5f",
             "gridcolor": "white",
             "linecolor": "white",
             "minorgridcolor": "white",
             "startlinecolor": "#2a3f5f"
            },
            "type": "carpet"
           }
          ],
          "choropleth": [
           {
            "colorbar": {
             "outlinewidth": 0,
             "ticks": ""
            },
            "type": "choropleth"
           }
          ],
          "contour": [
           {
            "colorbar": {
             "outlinewidth": 0,
             "ticks": ""
            },
            "colorscale": [
             [
              0,
              "#0d0887"
             ],
             [
              0.1111111111111111,
              "#46039f"
             ],
             [
              0.2222222222222222,
              "#7201a8"
             ],
             [
              0.3333333333333333,
              "#9c179e"
             ],
             [
              0.4444444444444444,
              "#bd3786"
             ],
             [
              0.5555555555555556,
              "#d8576b"
             ],
             [
              0.6666666666666666,
              "#ed7953"
             ],
             [
              0.7777777777777778,
              "#fb9f3a"
             ],
             [
              0.8888888888888888,
              "#fdca26"
             ],
             [
              1,
              "#f0f921"
             ]
            ],
            "type": "contour"
           }
          ],
          "contourcarpet": [
           {
            "colorbar": {
             "outlinewidth": 0,
             "ticks": ""
            },
            "type": "contourcarpet"
           }
          ],
          "heatmap": [
           {
            "colorbar": {
             "outlinewidth": 0,
             "ticks": ""
            },
            "colorscale": [
             [
              0,
              "#0d0887"
             ],
             [
              0.1111111111111111,
              "#46039f"
             ],
             [
              0.2222222222222222,
              "#7201a8"
             ],
             [
              0.3333333333333333,
              "#9c179e"
             ],
             [
              0.4444444444444444,
              "#bd3786"
             ],
             [
              0.5555555555555556,
              "#d8576b"
             ],
             [
              0.6666666666666666,
              "#ed7953"
             ],
             [
              0.7777777777777778,
              "#fb9f3a"
             ],
             [
              0.8888888888888888,
              "#fdca26"
             ],
             [
              1,
              "#f0f921"
             ]
            ],
            "type": "heatmap"
           }
          ],
          "histogram": [
           {
            "marker": {
             "pattern": {
              "fillmode": "overlay",
              "size": 10,
              "solidity": 0.2
             }
            },
            "type": "histogram"
           }
          ],
          "histogram2d": [
           {
            "colorbar": {
             "outlinewidth": 0,
             "ticks": ""
            },
            "colorscale": [
             [
              0,
              "#0d0887"
             ],
             [
              0.1111111111111111,
              "#46039f"
             ],
             [
              0.2222222222222222,
              "#7201a8"
             ],
             [
              0.3333333333333333,
              "#9c179e"
             ],
             [
              0.4444444444444444,
              "#bd3786"
             ],
             [
              0.5555555555555556,
              "#d8576b"
             ],
             [
              0.6666666666666666,
              "#ed7953"
             ],
             [
              0.7777777777777778,
              "#fb9f3a"
             ],
             [
              0.8888888888888888,
              "#fdca26"
             ],
             [
              1,
              "#f0f921"
             ]
            ],
            "type": "histogram2d"
           }
          ],
          "histogram2dcontour": [
           {
            "colorbar": {
             "outlinewidth": 0,
             "ticks": ""
            },
            "colorscale": [
             [
              0,
              "#0d0887"
             ],
             [
              0.1111111111111111,
              "#46039f"
             ],
             [
              0.2222222222222222,
              "#7201a8"
             ],
             [
              0.3333333333333333,
              "#9c179e"
             ],
             [
              0.4444444444444444,
              "#bd3786"
             ],
             [
              0.5555555555555556,
              "#d8576b"
             ],
             [
              0.6666666666666666,
              "#ed7953"
             ],
             [
              0.7777777777777778,
              "#fb9f3a"
             ],
             [
              0.8888888888888888,
              "#fdca26"
             ],
             [
              1,
              "#f0f921"
             ]
            ],
            "type": "histogram2dcontour"
           }
          ],
          "mesh3d": [
           {
            "colorbar": {
             "outlinewidth": 0,
             "ticks": ""
            },
            "type": "mesh3d"
           }
          ],
          "parcoords": [
           {
            "line": {
             "colorbar": {
              "outlinewidth": 0,
              "ticks": ""
             }
            },
            "type": "parcoords"
           }
          ],
          "pie": [
           {
            "automargin": true,
            "type": "pie"
           }
          ],
          "scatter": [
           {
            "fillpattern": {
             "fillmode": "overlay",
             "size": 10,
             "solidity": 0.2
            },
            "type": "scatter"
           }
          ],
          "scatter3d": [
           {
            "line": {
             "colorbar": {
              "outlinewidth": 0,
              "ticks": ""
             }
            },
            "marker": {
             "colorbar": {
              "outlinewidth": 0,
              "ticks": ""
             }
            },
            "type": "scatter3d"
           }
          ],
          "scattercarpet": [
           {
            "marker": {
             "colorbar": {
              "outlinewidth": 0,
              "ticks": ""
             }
            },
            "type": "scattercarpet"
           }
          ],
          "scattergeo": [
           {
            "marker": {
             "colorbar": {
              "outlinewidth": 0,
              "ticks": ""
             }
            },
            "type": "scattergeo"
           }
          ],
          "scattergl": [
           {
            "marker": {
             "colorbar": {
              "outlinewidth": 0,
              "ticks": ""
             }
            },
            "type": "scattergl"
           }
          ],
          "scattermap": [
           {
            "marker": {
             "colorbar": {
              "outlinewidth": 0,
              "ticks": ""
             }
            },
            "type": "scattermap"
           }
          ],
          "scattermapbox": [
           {
            "marker": {
             "colorbar": {
              "outlinewidth": 0,
              "ticks": ""
             }
            },
            "type": "scattermapbox"
           }
          ],
          "scatterpolar": [
           {
            "marker": {
             "colorbar": {
              "outlinewidth": 0,
              "ticks": ""
             }
            },
            "type": "scatterpolar"
           }
          ],
          "scatterpolargl": [
           {
            "marker": {
             "colorbar": {
              "outlinewidth": 0,
              "ticks": ""
             }
            },
            "type": "scatterpolargl"
           }
          ],
          "scatterternary": [
           {
            "marker": {
             "colorbar": {
              "outlinewidth": 0,
              "ticks": ""
             }
            },
            "type": "scatterternary"
           }
          ],
          "surface": [
           {
            "colorbar": {
             "outlinewidth": 0,
             "ticks": ""
            },
            "colorscale": [
             [
              0,
              "#0d0887"
             ],
             [
              0.1111111111111111,
              "#46039f"
             ],
             [
              0.2222222222222222,
              "#7201a8"
             ],
             [
              0.3333333333333333,
              "#9c179e"
             ],
             [
              0.4444444444444444,
              "#bd3786"
             ],
             [
              0.5555555555555556,
              "#d8576b"
             ],
             [
              0.6666666666666666,
              "#ed7953"
             ],
             [
              0.7777777777777778,
              "#fb9f3a"
             ],
             [
              0.8888888888888888,
              "#fdca26"
             ],
             [
              1,
              "#f0f921"
             ]
            ],
            "type": "surface"
           }
          ],
          "table": [
           {
            "cells": {
             "fill": {
              "color": "#EBF0F8"
             },
             "line": {
              "color": "white"
             }
            },
            "header": {
             "fill": {
              "color": "#C8D4E3"
             },
             "line": {
              "color": "white"
             }
            },
            "type": "table"
           }
          ]
         },
         "layout": {
          "annotationdefaults": {
           "arrowcolor": "#2a3f5f",
           "arrowhead": 0,
           "arrowwidth": 1
          },
          "autotypenumbers": "strict",
          "coloraxis": {
           "colorbar": {
            "outlinewidth": 0,
            "ticks": ""
           }
          },
          "colorscale": {
           "diverging": [
            [
             0,
             "#8e0152"
            ],
            [
             0.1,
             "#c51b7d"
            ],
            [
             0.2,
             "#de77ae"
            ],
            [
             0.3,
             "#f1b6da"
            ],
            [
             0.4,
             "#fde0ef"
            ],
            [
             0.5,
             "#f7f7f7"
            ],
            [
             0.6,
             "#e6f5d0"
            ],
            [
             0.7,
             "#b8e186"
            ],
            [
             0.8,
             "#7fbc41"
            ],
            [
             0.9,
             "#4d9221"
            ],
            [
             1,
             "#276419"
            ]
           ],
           "sequential": [
            [
             0,
             "#0d0887"
            ],
            [
             0.1111111111111111,
             "#46039f"
            ],
            [
             0.2222222222222222,
             "#7201a8"
            ],
            [
             0.3333333333333333,
             "#9c179e"
            ],
            [
             0.4444444444444444,
             "#bd3786"
            ],
            [
             0.5555555555555556,
             "#d8576b"
            ],
            [
             0.6666666666666666,
             "#ed7953"
            ],
            [
             0.7777777777777778,
             "#fb9f3a"
            ],
            [
             0.8888888888888888,
             "#fdca26"
            ],
            [
             1,
             "#f0f921"
            ]
           ],
           "sequentialminus": [
            [
             0,
             "#0d0887"
            ],
            [
             0.1111111111111111,
             "#46039f"
            ],
            [
             0.2222222222222222,
             "#7201a8"
            ],
            [
             0.3333333333333333,
             "#9c179e"
            ],
            [
             0.4444444444444444,
             "#bd3786"
            ],
            [
             0.5555555555555556,
             "#d8576b"
            ],
            [
             0.6666666666666666,
             "#ed7953"
            ],
            [
             0.7777777777777778,
             "#fb9f3a"
            ],
            [
             0.8888888888888888,
             "#fdca26"
            ],
            [
             1,
             "#f0f921"
            ]
           ]
          },
          "colorway": [
           "#636efa",
           "#EF553B",
           "#00cc96",
           "#ab63fa",
           "#FFA15A",
           "#19d3f3",
           "#FF6692",
           "#B6E880",
           "#FF97FF",
           "#FECB52"
          ],
          "font": {
           "color": "#2a3f5f"
          },
          "geo": {
           "bgcolor": "white",
           "lakecolor": "white",
           "landcolor": "#E5ECF6",
           "showlakes": true,
           "showland": true,
           "subunitcolor": "white"
          },
          "hoverlabel": {
           "align": "left"
          },
          "hovermode": "closest",
          "mapbox": {
           "style": "light"
          },
          "paper_bgcolor": "white",
          "plot_bgcolor": "#E5ECF6",
          "polar": {
           "angularaxis": {
            "gridcolor": "white",
            "linecolor": "white",
            "ticks": ""
           },
           "bgcolor": "#E5ECF6",
           "radialaxis": {
            "gridcolor": "white",
            "linecolor": "white",
            "ticks": ""
           }
          },
          "scene": {
           "xaxis": {
            "backgroundcolor": "#E5ECF6",
            "gridcolor": "white",
            "gridwidth": 2,
            "linecolor": "white",
            "showbackground": true,
            "ticks": "",
            "zerolinecolor": "white"
           },
           "yaxis": {
            "backgroundcolor": "#E5ECF6",
            "gridcolor": "white",
            "gridwidth": 2,
            "linecolor": "white",
            "showbackground": true,
            "ticks": "",
            "zerolinecolor": "white"
           },
           "zaxis": {
            "backgroundcolor": "#E5ECF6",
            "gridcolor": "white",
            "gridwidth": 2,
            "linecolor": "white",
            "showbackground": true,
            "ticks": "",
            "zerolinecolor": "white"
           }
          },
          "shapedefaults": {
           "line": {
            "color": "#2a3f5f"
           }
          },
          "ternary": {
           "aaxis": {
            "gridcolor": "white",
            "linecolor": "white",
            "ticks": ""
           },
           "baxis": {
            "gridcolor": "white",
            "linecolor": "white",
            "ticks": ""
           },
           "bgcolor": "#E5ECF6",
           "caxis": {
            "gridcolor": "white",
            "linecolor": "white",
            "ticks": ""
           }
          },
          "title": {
           "x": 0.05
          },
          "xaxis": {
           "automargin": true,
           "gridcolor": "white",
           "linecolor": "white",
           "ticks": "",
           "title": {
            "standoff": 15
           },
           "zerolinecolor": "white",
           "zerolinewidth": 2
          },
          "yaxis": {
           "automargin": true,
           "gridcolor": "white",
           "linecolor": "white",
           "ticks": "",
           "title": {
            "standoff": 15
           },
           "zerolinecolor": "white",
           "zerolinewidth": 2
          }
         }
        },
        "title": {
         "text": "Total Withdrawals per Month by Year"
        },
        "xaxis": {
         "anchor": "y",
         "domain": [
          0,
          1
         ],
         "title": {
          "text": "Month"
         }
        },
        "yaxis": {
         "anchor": "x",
         "domain": [
          0,
          1
         ],
         "title": {
          "text": "Withdrawn Credits (CZK)"
         }
        }
       }
      }
     },
     "metadata": {},
     "output_type": "display_data"
    },
    {
     "data": {
      "application/vnd.plotly.v1+json": {
       "config": {
        "plotlyServerURL": "https://plot.ly"
       },
       "data": [
        {
         "cells": {
          "values": [
           [
            2017,
            2017,
            2017,
            2017,
            2017,
            2018,
            2018,
            2018,
            2018,
            2018,
            2018,
            2018,
            2018,
            2018,
            2018,
            2018,
            2018,
            2019,
            2019,
            2019,
            2019,
            2019,
            2019,
            2019,
            2019,
            2019,
            2019,
            2019,
            2019,
            2020,
            2020,
            2020,
            2020,
            2020,
            2020,
            2020,
            2020,
            2020,
            2020,
            2020,
            2020,
            2021,
            2021,
            2021,
            2021,
            2021,
            2021,
            2021,
            2021,
            2021,
            2021,
            2021,
            2021,
            2022,
            2022,
            2022,
            2022,
            2022,
            2022,
            2022,
            2022,
            2022,
            2022,
            2022,
            2022,
            2023,
            2023,
            2023,
            2023,
            2023,
            2023,
            2023,
            2023,
            2023,
            2023,
            2023,
            2023,
            2024,
            2024,
            2024,
            2024,
            2024,
            2024,
            2024,
            2024,
            2024,
            2024,
            2024,
            2024,
            2025,
            2025,
            2025,
            2025
           ],
           [
            8,
            9,
            10,
            11,
            12,
            1,
            2,
            3,
            4,
            5,
            6,
            7,
            8,
            9,
            10,
            11,
            12,
            1,
            2,
            3,
            4,
            5,
            6,
            7,
            8,
            9,
            10,
            11,
            12,
            1,
            2,
            3,
            4,
            5,
            6,
            7,
            8,
            9,
            10,
            11,
            12,
            1,
            2,
            3,
            4,
            5,
            6,
            7,
            8,
            9,
            10,
            11,
            12,
            1,
            2,
            3,
            4,
            5,
            6,
            7,
            8,
            9,
            10,
            11,
            12,
            1,
            2,
            3,
            4,
            5,
            6,
            7,
            8,
            9,
            10,
            11,
            12,
            1,
            2,
            3,
            4,
            5,
            6,
            7,
            8,
            9,
            10,
            11,
            12,
            1,
            2,
            3,
            4
           ],
           [
            8316,
            549,
            3730,
            15867,
            6903,
            683,
            11785,
            22270,
            9770,
            20158,
            40343,
            19338,
            29679,
            49731,
            41679,
            34308,
            21401,
            100096,
            94065,
            147952,
            105862,
            122325,
            72025,
            68419,
            125308,
            61012,
            70787,
            167597,
            119126,
            109330,
            130905,
            84991,
            87908,
            133486,
            140856,
            142264,
            112792,
            203564,
            167758,
            228624,
            147030,
            100836,
            89785,
            113782,
            139543,
            116435,
            119576,
            140618,
            233813,
            157642,
            132624,
            220881,
            196583,
            107263,
            144434,
            379419,
            91608,
            163331,
            190272,
            111091,
            155524,
            189011,
            262865,
            324337,
            270541,
            293706,
            171996,
            243789,
            201617,
            223500,
            257778,
            228169,
            241056,
            276162,
            306012,
            340967,
            362533,
            364191,
            341408,
            388175,
            335465,
            361874,
            364910,
            373660,
            494580,
            475863,
            630113,
            742766,
            636000,
            732135,
            645861,
            825449,
            78715
           ]
          ]
         },
         "header": {
          "values": [
           "Year",
           "Month",
           "Withdrawn Credits"
          ]
         },
         "type": "table"
        }
       ],
       "layout": {
        "template": {
         "data": {
          "bar": [
           {
            "error_x": {
             "color": "#2a3f5f"
            },
            "error_y": {
             "color": "#2a3f5f"
            },
            "marker": {
             "line": {
              "color": "#E5ECF6",
              "width": 0.5
             },
             "pattern": {
              "fillmode": "overlay",
              "size": 10,
              "solidity": 0.2
             }
            },
            "type": "bar"
           }
          ],
          "barpolar": [
           {
            "marker": {
             "line": {
              "color": "#E5ECF6",
              "width": 0.5
             },
             "pattern": {
              "fillmode": "overlay",
              "size": 10,
              "solidity": 0.2
             }
            },
            "type": "barpolar"
           }
          ],
          "carpet": [
           {
            "aaxis": {
             "endlinecolor": "#2a3f5f",
             "gridcolor": "white",
             "linecolor": "white",
             "minorgridcolor": "white",
             "startlinecolor": "#2a3f5f"
            },
            "baxis": {
             "endlinecolor": "#2a3f5f",
             "gridcolor": "white",
             "linecolor": "white",
             "minorgridcolor": "white",
             "startlinecolor": "#2a3f5f"
            },
            "type": "carpet"
           }
          ],
          "choropleth": [
           {
            "colorbar": {
             "outlinewidth": 0,
             "ticks": ""
            },
            "type": "choropleth"
           }
          ],
          "contour": [
           {
            "colorbar": {
             "outlinewidth": 0,
             "ticks": ""
            },
            "colorscale": [
             [
              0,
              "#0d0887"
             ],
             [
              0.1111111111111111,
              "#46039f"
             ],
             [
              0.2222222222222222,
              "#7201a8"
             ],
             [
              0.3333333333333333,
              "#9c179e"
             ],
             [
              0.4444444444444444,
              "#bd3786"
             ],
             [
              0.5555555555555556,
              "#d8576b"
             ],
             [
              0.6666666666666666,
              "#ed7953"
             ],
             [
              0.7777777777777778,
              "#fb9f3a"
             ],
             [
              0.8888888888888888,
              "#fdca26"
             ],
             [
              1,
              "#f0f921"
             ]
            ],
            "type": "contour"
           }
          ],
          "contourcarpet": [
           {
            "colorbar": {
             "outlinewidth": 0,
             "ticks": ""
            },
            "type": "contourcarpet"
           }
          ],
          "heatmap": [
           {
            "colorbar": {
             "outlinewidth": 0,
             "ticks": ""
            },
            "colorscale": [
             [
              0,
              "#0d0887"
             ],
             [
              0.1111111111111111,
              "#46039f"
             ],
             [
              0.2222222222222222,
              "#7201a8"
             ],
             [
              0.3333333333333333,
              "#9c179e"
             ],
             [
              0.4444444444444444,
              "#bd3786"
             ],
             [
              0.5555555555555556,
              "#d8576b"
             ],
             [
              0.6666666666666666,
              "#ed7953"
             ],
             [
              0.7777777777777778,
              "#fb9f3a"
             ],
             [
              0.8888888888888888,
              "#fdca26"
             ],
             [
              1,
              "#f0f921"
             ]
            ],
            "type": "heatmap"
           }
          ],
          "histogram": [
           {
            "marker": {
             "pattern": {
              "fillmode": "overlay",
              "size": 10,
              "solidity": 0.2
             }
            },
            "type": "histogram"
           }
          ],
          "histogram2d": [
           {
            "colorbar": {
             "outlinewidth": 0,
             "ticks": ""
            },
            "colorscale": [
             [
              0,
              "#0d0887"
             ],
             [
              0.1111111111111111,
              "#46039f"
             ],
             [
              0.2222222222222222,
              "#7201a8"
             ],
             [
              0.3333333333333333,
              "#9c179e"
             ],
             [
              0.4444444444444444,
              "#bd3786"
             ],
             [
              0.5555555555555556,
              "#d8576b"
             ],
             [
              0.6666666666666666,
              "#ed7953"
             ],
             [
              0.7777777777777778,
              "#fb9f3a"
             ],
             [
              0.8888888888888888,
              "#fdca26"
             ],
             [
              1,
              "#f0f921"
             ]
            ],
            "type": "histogram2d"
           }
          ],
          "histogram2dcontour": [
           {
            "colorbar": {
             "outlinewidth": 0,
             "ticks": ""
            },
            "colorscale": [
             [
              0,
              "#0d0887"
             ],
             [
              0.1111111111111111,
              "#46039f"
             ],
             [
              0.2222222222222222,
              "#7201a8"
             ],
             [
              0.3333333333333333,
              "#9c179e"
             ],
             [
              0.4444444444444444,
              "#bd3786"
             ],
             [
              0.5555555555555556,
              "#d8576b"
             ],
             [
              0.6666666666666666,
              "#ed7953"
             ],
             [
              0.7777777777777778,
              "#fb9f3a"
             ],
             [
              0.8888888888888888,
              "#fdca26"
             ],
             [
              1,
              "#f0f921"
             ]
            ],
            "type": "histogram2dcontour"
           }
          ],
          "mesh3d": [
           {
            "colorbar": {
             "outlinewidth": 0,
             "ticks": ""
            },
            "type": "mesh3d"
           }
          ],
          "parcoords": [
           {
            "line": {
             "colorbar": {
              "outlinewidth": 0,
              "ticks": ""
             }
            },
            "type": "parcoords"
           }
          ],
          "pie": [
           {
            "automargin": true,
            "type": "pie"
           }
          ],
          "scatter": [
           {
            "fillpattern": {
             "fillmode": "overlay",
             "size": 10,
             "solidity": 0.2
            },
            "type": "scatter"
           }
          ],
          "scatter3d": [
           {
            "line": {
             "colorbar": {
              "outlinewidth": 0,
              "ticks": ""
             }
            },
            "marker": {
             "colorbar": {
              "outlinewidth": 0,
              "ticks": ""
             }
            },
            "type": "scatter3d"
           }
          ],
          "scattercarpet": [
           {
            "marker": {
             "colorbar": {
              "outlinewidth": 0,
              "ticks": ""
             }
            },
            "type": "scattercarpet"
           }
          ],
          "scattergeo": [
           {
            "marker": {
             "colorbar": {
              "outlinewidth": 0,
              "ticks": ""
             }
            },
            "type": "scattergeo"
           }
          ],
          "scattergl": [
           {
            "marker": {
             "colorbar": {
              "outlinewidth": 0,
              "ticks": ""
             }
            },
            "type": "scattergl"
           }
          ],
          "scattermap": [
           {
            "marker": {
             "colorbar": {
              "outlinewidth": 0,
              "ticks": ""
             }
            },
            "type": "scattermap"
           }
          ],
          "scattermapbox": [
           {
            "marker": {
             "colorbar": {
              "outlinewidth": 0,
              "ticks": ""
             }
            },
            "type": "scattermapbox"
           }
          ],
          "scatterpolar": [
           {
            "marker": {
             "colorbar": {
              "outlinewidth": 0,
              "ticks": ""
             }
            },
            "type": "scatterpolar"
           }
          ],
          "scatterpolargl": [
           {
            "marker": {
             "colorbar": {
              "outlinewidth": 0,
              "ticks": ""
             }
            },
            "type": "scatterpolargl"
           }
          ],
          "scatterternary": [
           {
            "marker": {
             "colorbar": {
              "outlinewidth": 0,
              "ticks": ""
             }
            },
            "type": "scatterternary"
           }
          ],
          "surface": [
           {
            "colorbar": {
             "outlinewidth": 0,
             "ticks": ""
            },
            "colorscale": [
             [
              0,
              "#0d0887"
             ],
             [
              0.1111111111111111,
              "#46039f"
             ],
             [
              0.2222222222222222,
              "#7201a8"
             ],
             [
              0.3333333333333333,
              "#9c179e"
             ],
             [
              0.4444444444444444,
              "#bd3786"
             ],
             [
              0.5555555555555556,
              "#d8576b"
             ],
             [
              0.6666666666666666,
              "#ed7953"
             ],
             [
              0.7777777777777778,
              "#fb9f3a"
             ],
             [
              0.8888888888888888,
              "#fdca26"
             ],
             [
              1,
              "#f0f921"
             ]
            ],
            "type": "surface"
           }
          ],
          "table": [
           {
            "cells": {
             "fill": {
              "color": "#EBF0F8"
             },
             "line": {
              "color": "white"
             }
            },
            "header": {
             "fill": {
              "color": "#C8D4E3"
             },
             "line": {
              "color": "white"
             }
            },
            "type": "table"
           }
          ]
         },
         "layout": {
          "annotationdefaults": {
           "arrowcolor": "#2a3f5f",
           "arrowhead": 0,
           "arrowwidth": 1
          },
          "autotypenumbers": "strict",
          "coloraxis": {
           "colorbar": {
            "outlinewidth": 0,
            "ticks": ""
           }
          },
          "colorscale": {
           "diverging": [
            [
             0,
             "#8e0152"
            ],
            [
             0.1,
             "#c51b7d"
            ],
            [
             0.2,
             "#de77ae"
            ],
            [
             0.3,
             "#f1b6da"
            ],
            [
             0.4,
             "#fde0ef"
            ],
            [
             0.5,
             "#f7f7f7"
            ],
            [
             0.6,
             "#e6f5d0"
            ],
            [
             0.7,
             "#b8e186"
            ],
            [
             0.8,
             "#7fbc41"
            ],
            [
             0.9,
             "#4d9221"
            ],
            [
             1,
             "#276419"
            ]
           ],
           "sequential": [
            [
             0,
             "#0d0887"
            ],
            [
             0.1111111111111111,
             "#46039f"
            ],
            [
             0.2222222222222222,
             "#7201a8"
            ],
            [
             0.3333333333333333,
             "#9c179e"
            ],
            [
             0.4444444444444444,
             "#bd3786"
            ],
            [
             0.5555555555555556,
             "#d8576b"
            ],
            [
             0.6666666666666666,
             "#ed7953"
            ],
            [
             0.7777777777777778,
             "#fb9f3a"
            ],
            [
             0.8888888888888888,
             "#fdca26"
            ],
            [
             1,
             "#f0f921"
            ]
           ],
           "sequentialminus": [
            [
             0,
             "#0d0887"
            ],
            [
             0.1111111111111111,
             "#46039f"
            ],
            [
             0.2222222222222222,
             "#7201a8"
            ],
            [
             0.3333333333333333,
             "#9c179e"
            ],
            [
             0.4444444444444444,
             "#bd3786"
            ],
            [
             0.5555555555555556,
             "#d8576b"
            ],
            [
             0.6666666666666666,
             "#ed7953"
            ],
            [
             0.7777777777777778,
             "#fb9f3a"
            ],
            [
             0.8888888888888888,
             "#fdca26"
            ],
            [
             1,
             "#f0f921"
            ]
           ]
          },
          "colorway": [
           "#636efa",
           "#EF553B",
           "#00cc96",
           "#ab63fa",
           "#FFA15A",
           "#19d3f3",
           "#FF6692",
           "#B6E880",
           "#FF97FF",
           "#FECB52"
          ],
          "font": {
           "color": "#2a3f5f"
          },
          "geo": {
           "bgcolor": "white",
           "lakecolor": "white",
           "landcolor": "#E5ECF6",
           "showlakes": true,
           "showland": true,
           "subunitcolor": "white"
          },
          "hoverlabel": {
           "align": "left"
          },
          "hovermode": "closest",
          "mapbox": {
           "style": "light"
          },
          "paper_bgcolor": "white",
          "plot_bgcolor": "#E5ECF6",
          "polar": {
           "angularaxis": {
            "gridcolor": "white",
            "linecolor": "white",
            "ticks": ""
           },
           "bgcolor": "#E5ECF6",
           "radialaxis": {
            "gridcolor": "white",
            "linecolor": "white",
            "ticks": ""
           }
          },
          "scene": {
           "xaxis": {
            "backgroundcolor": "#E5ECF6",
            "gridcolor": "white",
            "gridwidth": 2,
            "linecolor": "white",
            "showbackground": true,
            "ticks": "",
            "zerolinecolor": "white"
           },
           "yaxis": {
            "backgroundcolor": "#E5ECF6",
            "gridcolor": "white",
            "gridwidth": 2,
            "linecolor": "white",
            "showbackground": true,
            "ticks": "",
            "zerolinecolor": "white"
           },
           "zaxis": {
            "backgroundcolor": "#E5ECF6",
            "gridcolor": "white",
            "gridwidth": 2,
            "linecolor": "white",
            "showbackground": true,
            "ticks": "",
            "zerolinecolor": "white"
           }
          },
          "shapedefaults": {
           "line": {
            "color": "#2a3f5f"
           }
          },
          "ternary": {
           "aaxis": {
            "gridcolor": "white",
            "linecolor": "white",
            "ticks": ""
           },
           "baxis": {
            "gridcolor": "white",
            "linecolor": "white",
            "ticks": ""
           },
           "bgcolor": "#E5ECF6",
           "caxis": {
            "gridcolor": "white",
            "linecolor": "white",
            "ticks": ""
           }
          },
          "title": {
           "x": 0.05
          },
          "xaxis": {
           "automargin": true,
           "gridcolor": "white",
           "linecolor": "white",
           "ticks": "",
           "title": {
            "standoff": 15
           },
           "zerolinecolor": "white",
           "zerolinewidth": 2
          },
          "yaxis": {
           "automargin": true,
           "gridcolor": "white",
           "linecolor": "white",
           "ticks": "",
           "title": {
            "standoff": 15
           },
           "zerolinecolor": "white",
           "zerolinewidth": 2
          }
         }
        }
       }
      }
     },
     "metadata": {},
     "output_type": "display_data"
    }
   ],
   "source": [
    "df_payments['created_at'] = pd.to_datetime(df_payments['created_at'], errors='coerce')\n",
    "\n",
    "df_successful = df_payments[df_payments['state'].isin(['PAID', 'APPROVED'])].copy()\n",
    "\n",
    "df_successful['year'] = df_successful['created_at'].dt.year\n",
    "df_successful['month'] = df_successful['created_at'].dt.month\n",
    "\n",
    "monthly_withdrawals = (\n",
    "    df_successful.groupby(['year', 'month'])['credits']\n",
    "    .sum()\n",
    "    .reset_index()\n",
    "    .sort_values(['year', 'month'])\n",
    ")\n",
    "\n",
    "import plotly.express as px\n",
    "fig = px.bar(\n",
    "    monthly_withdrawals,\n",
    "    x='month',\n",
    "    y='credits',\n",
    "    color='year',\n",
    "    barmode='group',\n",
    "    title='Total Withdrawals per Month by Year',\n",
    "    labels={'credits': 'Withdrawn Credits (CZK)', 'month': 'Month'}\n",
    ")\n",
    "fig.show()\n",
    "\n",
    "import plotly.graph_objects as go\n",
    "fig_table = go.Figure(data=[go.Table(\n",
    "    header=dict(values=[\"Year\", \"Month\", \"Withdrawn Credits\"]),\n",
    "    cells=dict(values=[\n",
    "        monthly_withdrawals['year'],\n",
    "        monthly_withdrawals['month'],\n",
    "        monthly_withdrawals['credits'].round(2)\n",
    "    ])\n",
    ")])\n",
    "fig_table.show()\n"
   ]
  },
  {
   "cell_type": "code",
   "execution_count": 5,
   "id": "2800f882",
   "metadata": {},
   "outputs": [],
   "source": [
    "# Count number of withdrawals per month (state must be PAID or APPROVED)\n",
    "monthly_withdrawal_counts = (\n",
    "    df_successful\n",
    "    .groupby(['year', 'month'])\n",
    "    .size()\n",
    "    .reset_index(name='withdrawal_count')\n",
    "    .sort_values(['year', 'month'])\n",
    ")\n"
   ]
  },
  {
   "cell_type": "code",
   "execution_count": 7,
   "id": "4ee861c9",
   "metadata": {},
   "outputs": [
    {
     "data": {
      "application/vnd.plotly.v1+json": {
       "config": {
        "plotlyServerURL": "https://plot.ly"
       },
       "data": [
        {
         "alignmentgroup": "True",
         "hovertemplate": "Month=%{x}<br>Number of Withdrawals=%{y}<br>year=%{marker.color}<extra></extra>",
         "legendgroup": "",
         "marker": {
          "color": {
           "bdata": "4QcAAOEHAADhBwAA4QcAAOEHAADiBwAA4gcAAOIHAADiBwAA4gcAAOIHAADiBwAA4gcAAOIHAADiBwAA4gcAAOIHAADjBwAA4wcAAOMHAADjBwAA4wcAAOMHAADjBwAA4wcAAOMHAADjBwAA4wcAAOMHAADkBwAA5AcAAOQHAADkBwAA5AcAAOQHAADkBwAA5AcAAOQHAADkBwAA5AcAAOQHAADlBwAA5QcAAOUHAADlBwAA5QcAAOUHAADlBwAA5QcAAOUHAADlBwAA5QcAAOUHAADmBwAA5gcAAOYHAADmBwAA5gcAAOYHAADmBwAA5gcAAOYHAADmBwAA5gcAAOYHAADnBwAA5wcAAOcHAADnBwAA5wcAAOcHAADnBwAA5wcAAOcHAADnBwAA5wcAAOcHAADoBwAA6AcAAOgHAADoBwAA6AcAAOgHAADoBwAA6AcAAOgHAADoBwAA6AcAAOgHAADpBwAA6QcAAOkHAADpBwAA",
           "dtype": "i4"
          },
          "coloraxis": "coloraxis",
          "pattern": {
           "shape": ""
          }
         },
         "name": "",
         "offsetgroup": "",
         "orientation": "v",
         "showlegend": false,
         "textposition": "auto",
         "type": "bar",
         "x": {
          "bdata": "CAAAAAkAAAAKAAAACwAAAAwAAAABAAAAAgAAAAMAAAAEAAAABQAAAAYAAAAHAAAACAAAAAkAAAAKAAAACwAAAAwAAAABAAAAAgAAAAMAAAAEAAAABQAAAAYAAAAHAAAACAAAAAkAAAAKAAAACwAAAAwAAAABAAAAAgAAAAMAAAAEAAAABQAAAAYAAAAHAAAACAAAAAkAAAAKAAAACwAAAAwAAAABAAAAAgAAAAMAAAAEAAAABQAAAAYAAAAHAAAACAAAAAkAAAAKAAAACwAAAAwAAAABAAAAAgAAAAMAAAAEAAAABQAAAAYAAAAHAAAACAAAAAkAAAAKAAAACwAAAAwAAAABAAAAAgAAAAMAAAAEAAAABQAAAAYAAAAHAAAACAAAAAkAAAAKAAAACwAAAAwAAAABAAAAAgAAAAMAAAAEAAAABQAAAAYAAAAHAAAACAAAAAkAAAAKAAAACwAAAAwAAAABAAAAAgAAAAMAAAAEAAAA",
          "dtype": "i4"
         },
         "xaxis": "x",
         "y": {
          "bdata": "EAABAAcAEQAJAAEAEgAlABIAJgAnACEAMgBcAEsAQAAnAKkAowD+ALAAtQB4AGQAyABdAG0AAQG0AKcAygCPAI4A2gDKANEApQAnAegAUQHBAJgAhACWANoAqACZANEAPwH7AKcALgEgAZMAxQA+ApAA6gAEAZgA7gAUAZIB1AGEAa8B+wBaAUEBQAGFAVUBcgGiAagB8gEhAiwCGwJiAhICIAJDAk0C9wLsAvADfgSmA5UEDgQ1BX0A",
          "dtype": "i2"
         },
         "yaxis": "y"
        }
       ],
       "layout": {
        "barmode": "group",
        "coloraxis": {
         "colorbar": {
          "title": {
           "text": "year"
          }
         },
         "colorscale": [
          [
           0,
           "#0d0887"
          ],
          [
           0.1111111111111111,
           "#46039f"
          ],
          [
           0.2222222222222222,
           "#7201a8"
          ],
          [
           0.3333333333333333,
           "#9c179e"
          ],
          [
           0.4444444444444444,
           "#bd3786"
          ],
          [
           0.5555555555555556,
           "#d8576b"
          ],
          [
           0.6666666666666666,
           "#ed7953"
          ],
          [
           0.7777777777777778,
           "#fb9f3a"
          ],
          [
           0.8888888888888888,
           "#fdca26"
          ],
          [
           1,
           "#f0f921"
          ]
         ]
        },
        "legend": {
         "tracegroupgap": 0
        },
        "template": {
         "data": {
          "bar": [
           {
            "error_x": {
             "color": "#2a3f5f"
            },
            "error_y": {
             "color": "#2a3f5f"
            },
            "marker": {
             "line": {
              "color": "#E5ECF6",
              "width": 0.5
             },
             "pattern": {
              "fillmode": "overlay",
              "size": 10,
              "solidity": 0.2
             }
            },
            "type": "bar"
           }
          ],
          "barpolar": [
           {
            "marker": {
             "line": {
              "color": "#E5ECF6",
              "width": 0.5
             },
             "pattern": {
              "fillmode": "overlay",
              "size": 10,
              "solidity": 0.2
             }
            },
            "type": "barpolar"
           }
          ],
          "carpet": [
           {
            "aaxis": {
             "endlinecolor": "#2a3f5f",
             "gridcolor": "white",
             "linecolor": "white",
             "minorgridcolor": "white",
             "startlinecolor": "#2a3f5f"
            },
            "baxis": {
             "endlinecolor": "#2a3f5f",
             "gridcolor": "white",
             "linecolor": "white",
             "minorgridcolor": "white",
             "startlinecolor": "#2a3f5f"
            },
            "type": "carpet"
           }
          ],
          "choropleth": [
           {
            "colorbar": {
             "outlinewidth": 0,
             "ticks": ""
            },
            "type": "choropleth"
           }
          ],
          "contour": [
           {
            "colorbar": {
             "outlinewidth": 0,
             "ticks": ""
            },
            "colorscale": [
             [
              0,
              "#0d0887"
             ],
             [
              0.1111111111111111,
              "#46039f"
             ],
             [
              0.2222222222222222,
              "#7201a8"
             ],
             [
              0.3333333333333333,
              "#9c179e"
             ],
             [
              0.4444444444444444,
              "#bd3786"
             ],
             [
              0.5555555555555556,
              "#d8576b"
             ],
             [
              0.6666666666666666,
              "#ed7953"
             ],
             [
              0.7777777777777778,
              "#fb9f3a"
             ],
             [
              0.8888888888888888,
              "#fdca26"
             ],
             [
              1,
              "#f0f921"
             ]
            ],
            "type": "contour"
           }
          ],
          "contourcarpet": [
           {
            "colorbar": {
             "outlinewidth": 0,
             "ticks": ""
            },
            "type": "contourcarpet"
           }
          ],
          "heatmap": [
           {
            "colorbar": {
             "outlinewidth": 0,
             "ticks": ""
            },
            "colorscale": [
             [
              0,
              "#0d0887"
             ],
             [
              0.1111111111111111,
              "#46039f"
             ],
             [
              0.2222222222222222,
              "#7201a8"
             ],
             [
              0.3333333333333333,
              "#9c179e"
             ],
             [
              0.4444444444444444,
              "#bd3786"
             ],
             [
              0.5555555555555556,
              "#d8576b"
             ],
             [
              0.6666666666666666,
              "#ed7953"
             ],
             [
              0.7777777777777778,
              "#fb9f3a"
             ],
             [
              0.8888888888888888,
              "#fdca26"
             ],
             [
              1,
              "#f0f921"
             ]
            ],
            "type": "heatmap"
           }
          ],
          "histogram": [
           {
            "marker": {
             "pattern": {
              "fillmode": "overlay",
              "size": 10,
              "solidity": 0.2
             }
            },
            "type": "histogram"
           }
          ],
          "histogram2d": [
           {
            "colorbar": {
             "outlinewidth": 0,
             "ticks": ""
            },
            "colorscale": [
             [
              0,
              "#0d0887"
             ],
             [
              0.1111111111111111,
              "#46039f"
             ],
             [
              0.2222222222222222,
              "#7201a8"
             ],
             [
              0.3333333333333333,
              "#9c179e"
             ],
             [
              0.4444444444444444,
              "#bd3786"
             ],
             [
              0.5555555555555556,
              "#d8576b"
             ],
             [
              0.6666666666666666,
              "#ed7953"
             ],
             [
              0.7777777777777778,
              "#fb9f3a"
             ],
             [
              0.8888888888888888,
              "#fdca26"
             ],
             [
              1,
              "#f0f921"
             ]
            ],
            "type": "histogram2d"
           }
          ],
          "histogram2dcontour": [
           {
            "colorbar": {
             "outlinewidth": 0,
             "ticks": ""
            },
            "colorscale": [
             [
              0,
              "#0d0887"
             ],
             [
              0.1111111111111111,
              "#46039f"
             ],
             [
              0.2222222222222222,
              "#7201a8"
             ],
             [
              0.3333333333333333,
              "#9c179e"
             ],
             [
              0.4444444444444444,
              "#bd3786"
             ],
             [
              0.5555555555555556,
              "#d8576b"
             ],
             [
              0.6666666666666666,
              "#ed7953"
             ],
             [
              0.7777777777777778,
              "#fb9f3a"
             ],
             [
              0.8888888888888888,
              "#fdca26"
             ],
             [
              1,
              "#f0f921"
             ]
            ],
            "type": "histogram2dcontour"
           }
          ],
          "mesh3d": [
           {
            "colorbar": {
             "outlinewidth": 0,
             "ticks": ""
            },
            "type": "mesh3d"
           }
          ],
          "parcoords": [
           {
            "line": {
             "colorbar": {
              "outlinewidth": 0,
              "ticks": ""
             }
            },
            "type": "parcoords"
           }
          ],
          "pie": [
           {
            "automargin": true,
            "type": "pie"
           }
          ],
          "scatter": [
           {
            "fillpattern": {
             "fillmode": "overlay",
             "size": 10,
             "solidity": 0.2
            },
            "type": "scatter"
           }
          ],
          "scatter3d": [
           {
            "line": {
             "colorbar": {
              "outlinewidth": 0,
              "ticks": ""
             }
            },
            "marker": {
             "colorbar": {
              "outlinewidth": 0,
              "ticks": ""
             }
            },
            "type": "scatter3d"
           }
          ],
          "scattercarpet": [
           {
            "marker": {
             "colorbar": {
              "outlinewidth": 0,
              "ticks": ""
             }
            },
            "type": "scattercarpet"
           }
          ],
          "scattergeo": [
           {
            "marker": {
             "colorbar": {
              "outlinewidth": 0,
              "ticks": ""
             }
            },
            "type": "scattergeo"
           }
          ],
          "scattergl": [
           {
            "marker": {
             "colorbar": {
              "outlinewidth": 0,
              "ticks": ""
             }
            },
            "type": "scattergl"
           }
          ],
          "scattermap": [
           {
            "marker": {
             "colorbar": {
              "outlinewidth": 0,
              "ticks": ""
             }
            },
            "type": "scattermap"
           }
          ],
          "scattermapbox": [
           {
            "marker": {
             "colorbar": {
              "outlinewidth": 0,
              "ticks": ""
             }
            },
            "type": "scattermapbox"
           }
          ],
          "scatterpolar": [
           {
            "marker": {
             "colorbar": {
              "outlinewidth": 0,
              "ticks": ""
             }
            },
            "type": "scatterpolar"
           }
          ],
          "scatterpolargl": [
           {
            "marker": {
             "colorbar": {
              "outlinewidth": 0,
              "ticks": ""
             }
            },
            "type": "scatterpolargl"
           }
          ],
          "scatterternary": [
           {
            "marker": {
             "colorbar": {
              "outlinewidth": 0,
              "ticks": ""
             }
            },
            "type": "scatterternary"
           }
          ],
          "surface": [
           {
            "colorbar": {
             "outlinewidth": 0,
             "ticks": ""
            },
            "colorscale": [
             [
              0,
              "#0d0887"
             ],
             [
              0.1111111111111111,
              "#46039f"
             ],
             [
              0.2222222222222222,
              "#7201a8"
             ],
             [
              0.3333333333333333,
              "#9c179e"
             ],
             [
              0.4444444444444444,
              "#bd3786"
             ],
             [
              0.5555555555555556,
              "#d8576b"
             ],
             [
              0.6666666666666666,
              "#ed7953"
             ],
             [
              0.7777777777777778,
              "#fb9f3a"
             ],
             [
              0.8888888888888888,
              "#fdca26"
             ],
             [
              1,
              "#f0f921"
             ]
            ],
            "type": "surface"
           }
          ],
          "table": [
           {
            "cells": {
             "fill": {
              "color": "#EBF0F8"
             },
             "line": {
              "color": "white"
             }
            },
            "header": {
             "fill": {
              "color": "#C8D4E3"
             },
             "line": {
              "color": "white"
             }
            },
            "type": "table"
           }
          ]
         },
         "layout": {
          "annotationdefaults": {
           "arrowcolor": "#2a3f5f",
           "arrowhead": 0,
           "arrowwidth": 1
          },
          "autotypenumbers": "strict",
          "coloraxis": {
           "colorbar": {
            "outlinewidth": 0,
            "ticks": ""
           }
          },
          "colorscale": {
           "diverging": [
            [
             0,
             "#8e0152"
            ],
            [
             0.1,
             "#c51b7d"
            ],
            [
             0.2,
             "#de77ae"
            ],
            [
             0.3,
             "#f1b6da"
            ],
            [
             0.4,
             "#fde0ef"
            ],
            [
             0.5,
             "#f7f7f7"
            ],
            [
             0.6,
             "#e6f5d0"
            ],
            [
             0.7,
             "#b8e186"
            ],
            [
             0.8,
             "#7fbc41"
            ],
            [
             0.9,
             "#4d9221"
            ],
            [
             1,
             "#276419"
            ]
           ],
           "sequential": [
            [
             0,
             "#0d0887"
            ],
            [
             0.1111111111111111,
             "#46039f"
            ],
            [
             0.2222222222222222,
             "#7201a8"
            ],
            [
             0.3333333333333333,
             "#9c179e"
            ],
            [
             0.4444444444444444,
             "#bd3786"
            ],
            [
             0.5555555555555556,
             "#d8576b"
            ],
            [
             0.6666666666666666,
             "#ed7953"
            ],
            [
             0.7777777777777778,
             "#fb9f3a"
            ],
            [
             0.8888888888888888,
             "#fdca26"
            ],
            [
             1,
             "#f0f921"
            ]
           ],
           "sequentialminus": [
            [
             0,
             "#0d0887"
            ],
            [
             0.1111111111111111,
             "#46039f"
            ],
            [
             0.2222222222222222,
             "#7201a8"
            ],
            [
             0.3333333333333333,
             "#9c179e"
            ],
            [
             0.4444444444444444,
             "#bd3786"
            ],
            [
             0.5555555555555556,
             "#d8576b"
            ],
            [
             0.6666666666666666,
             "#ed7953"
            ],
            [
             0.7777777777777778,
             "#fb9f3a"
            ],
            [
             0.8888888888888888,
             "#fdca26"
            ],
            [
             1,
             "#f0f921"
            ]
           ]
          },
          "colorway": [
           "#636efa",
           "#EF553B",
           "#00cc96",
           "#ab63fa",
           "#FFA15A",
           "#19d3f3",
           "#FF6692",
           "#B6E880",
           "#FF97FF",
           "#FECB52"
          ],
          "font": {
           "color": "#2a3f5f"
          },
          "geo": {
           "bgcolor": "white",
           "lakecolor": "white",
           "landcolor": "#E5ECF6",
           "showlakes": true,
           "showland": true,
           "subunitcolor": "white"
          },
          "hoverlabel": {
           "align": "left"
          },
          "hovermode": "closest",
          "mapbox": {
           "style": "light"
          },
          "paper_bgcolor": "white",
          "plot_bgcolor": "#E5ECF6",
          "polar": {
           "angularaxis": {
            "gridcolor": "white",
            "linecolor": "white",
            "ticks": ""
           },
           "bgcolor": "#E5ECF6",
           "radialaxis": {
            "gridcolor": "white",
            "linecolor": "white",
            "ticks": ""
           }
          },
          "scene": {
           "xaxis": {
            "backgroundcolor": "#E5ECF6",
            "gridcolor": "white",
            "gridwidth": 2,
            "linecolor": "white",
            "showbackground": true,
            "ticks": "",
            "zerolinecolor": "white"
           },
           "yaxis": {
            "backgroundcolor": "#E5ECF6",
            "gridcolor": "white",
            "gridwidth": 2,
            "linecolor": "white",
            "showbackground": true,
            "ticks": "",
            "zerolinecolor": "white"
           },
           "zaxis": {
            "backgroundcolor": "#E5ECF6",
            "gridcolor": "white",
            "gridwidth": 2,
            "linecolor": "white",
            "showbackground": true,
            "ticks": "",
            "zerolinecolor": "white"
           }
          },
          "shapedefaults": {
           "line": {
            "color": "#2a3f5f"
           }
          },
          "ternary": {
           "aaxis": {
            "gridcolor": "white",
            "linecolor": "white",
            "ticks": ""
           },
           "baxis": {
            "gridcolor": "white",
            "linecolor": "white",
            "ticks": ""
           },
           "bgcolor": "#E5ECF6",
           "caxis": {
            "gridcolor": "white",
            "linecolor": "white",
            "ticks": ""
           }
          },
          "title": {
           "x": 0.05
          },
          "xaxis": {
           "automargin": true,
           "gridcolor": "white",
           "linecolor": "white",
           "ticks": "",
           "title": {
            "standoff": 15
           },
           "zerolinecolor": "white",
           "zerolinewidth": 2
          },
          "yaxis": {
           "automargin": true,
           "gridcolor": "white",
           "linecolor": "white",
           "ticks": "",
           "title": {
            "standoff": 15
           },
           "zerolinecolor": "white",
           "zerolinewidth": 2
          }
         }
        },
        "title": {
         "text": "Number of Successful Withdrawals per Month by Year"
        },
        "xaxis": {
         "anchor": "y",
         "domain": [
          0,
          1
         ],
         "title": {
          "text": "Month"
         }
        },
        "yaxis": {
         "anchor": "x",
         "domain": [
          0,
          1
         ],
         "title": {
          "text": "Number of Withdrawals"
         }
        }
       }
      }
     },
     "metadata": {},
     "output_type": "display_data"
    },
    {
     "data": {
      "application/vnd.plotly.v1+json": {
       "config": {
        "plotlyServerURL": "https://plot.ly"
       },
       "data": [
        {
         "cells": {
          "values": [
           [
            2017,
            2017,
            2017,
            2017,
            2017,
            2018,
            2018,
            2018,
            2018,
            2018,
            2018,
            2018,
            2018,
            2018,
            2018,
            2018,
            2018,
            2019,
            2019,
            2019,
            2019,
            2019,
            2019,
            2019,
            2019,
            2019,
            2019,
            2019,
            2019,
            2020,
            2020,
            2020,
            2020,
            2020,
            2020,
            2020,
            2020,
            2020,
            2020,
            2020,
            2020,
            2021,
            2021,
            2021,
            2021,
            2021,
            2021,
            2021,
            2021,
            2021,
            2021,
            2021,
            2021,
            2022,
            2022,
            2022,
            2022,
            2022,
            2022,
            2022,
            2022,
            2022,
            2022,
            2022,
            2022,
            2023,
            2023,
            2023,
            2023,
            2023,
            2023,
            2023,
            2023,
            2023,
            2023,
            2023,
            2023,
            2024,
            2024,
            2024,
            2024,
            2024,
            2024,
            2024,
            2024,
            2024,
            2024,
            2024,
            2024,
            2025,
            2025,
            2025,
            2025
           ],
           [
            8,
            9,
            10,
            11,
            12,
            1,
            2,
            3,
            4,
            5,
            6,
            7,
            8,
            9,
            10,
            11,
            12,
            1,
            2,
            3,
            4,
            5,
            6,
            7,
            8,
            9,
            10,
            11,
            12,
            1,
            2,
            3,
            4,
            5,
            6,
            7,
            8,
            9,
            10,
            11,
            12,
            1,
            2,
            3,
            4,
            5,
            6,
            7,
            8,
            9,
            10,
            11,
            12,
            1,
            2,
            3,
            4,
            5,
            6,
            7,
            8,
            9,
            10,
            11,
            12,
            1,
            2,
            3,
            4,
            5,
            6,
            7,
            8,
            9,
            10,
            11,
            12,
            1,
            2,
            3,
            4,
            5,
            6,
            7,
            8,
            9,
            10,
            11,
            12,
            1,
            2,
            3,
            4
           ],
           [
            16,
            1,
            7,
            17,
            9,
            1,
            18,
            37,
            18,
            38,
            39,
            33,
            50,
            92,
            75,
            64,
            39,
            169,
            163,
            254,
            176,
            181,
            120,
            100,
            200,
            93,
            109,
            257,
            180,
            167,
            202,
            143,
            142,
            218,
            202,
            209,
            165,
            295,
            232,
            337,
            193,
            152,
            132,
            150,
            218,
            168,
            153,
            209,
            319,
            251,
            167,
            302,
            288,
            147,
            197,
            574,
            144,
            234,
            260,
            152,
            238,
            276,
            402,
            468,
            388,
            431,
            251,
            346,
            321,
            320,
            389,
            341,
            370,
            418,
            424,
            498,
            545,
            556,
            539,
            610,
            530,
            544,
            579,
            589,
            759,
            748,
            1008,
            1150,
            934,
            1173,
            1038,
            1333,
            125
           ]
          ]
         },
         "header": {
          "values": [
           "Year",
           "Month",
           "Number of Withdrawals"
          ]
         },
         "type": "table"
        }
       ],
       "layout": {
        "template": {
         "data": {
          "bar": [
           {
            "error_x": {
             "color": "#2a3f5f"
            },
            "error_y": {
             "color": "#2a3f5f"
            },
            "marker": {
             "line": {
              "color": "#E5ECF6",
              "width": 0.5
             },
             "pattern": {
              "fillmode": "overlay",
              "size": 10,
              "solidity": 0.2
             }
            },
            "type": "bar"
           }
          ],
          "barpolar": [
           {
            "marker": {
             "line": {
              "color": "#E5ECF6",
              "width": 0.5
             },
             "pattern": {
              "fillmode": "overlay",
              "size": 10,
              "solidity": 0.2
             }
            },
            "type": "barpolar"
           }
          ],
          "carpet": [
           {
            "aaxis": {
             "endlinecolor": "#2a3f5f",
             "gridcolor": "white",
             "linecolor": "white",
             "minorgridcolor": "white",
             "startlinecolor": "#2a3f5f"
            },
            "baxis": {
             "endlinecolor": "#2a3f5f",
             "gridcolor": "white",
             "linecolor": "white",
             "minorgridcolor": "white",
             "startlinecolor": "#2a3f5f"
            },
            "type": "carpet"
           }
          ],
          "choropleth": [
           {
            "colorbar": {
             "outlinewidth": 0,
             "ticks": ""
            },
            "type": "choropleth"
           }
          ],
          "contour": [
           {
            "colorbar": {
             "outlinewidth": 0,
             "ticks": ""
            },
            "colorscale": [
             [
              0,
              "#0d0887"
             ],
             [
              0.1111111111111111,
              "#46039f"
             ],
             [
              0.2222222222222222,
              "#7201a8"
             ],
             [
              0.3333333333333333,
              "#9c179e"
             ],
             [
              0.4444444444444444,
              "#bd3786"
             ],
             [
              0.5555555555555556,
              "#d8576b"
             ],
             [
              0.6666666666666666,
              "#ed7953"
             ],
             [
              0.7777777777777778,
              "#fb9f3a"
             ],
             [
              0.8888888888888888,
              "#fdca26"
             ],
             [
              1,
              "#f0f921"
             ]
            ],
            "type": "contour"
           }
          ],
          "contourcarpet": [
           {
            "colorbar": {
             "outlinewidth": 0,
             "ticks": ""
            },
            "type": "contourcarpet"
           }
          ],
          "heatmap": [
           {
            "colorbar": {
             "outlinewidth": 0,
             "ticks": ""
            },
            "colorscale": [
             [
              0,
              "#0d0887"
             ],
             [
              0.1111111111111111,
              "#46039f"
             ],
             [
              0.2222222222222222,
              "#7201a8"
             ],
             [
              0.3333333333333333,
              "#9c179e"
             ],
             [
              0.4444444444444444,
              "#bd3786"
             ],
             [
              0.5555555555555556,
              "#d8576b"
             ],
             [
              0.6666666666666666,
              "#ed7953"
             ],
             [
              0.7777777777777778,
              "#fb9f3a"
             ],
             [
              0.8888888888888888,
              "#fdca26"
             ],
             [
              1,
              "#f0f921"
             ]
            ],
            "type": "heatmap"
           }
          ],
          "histogram": [
           {
            "marker": {
             "pattern": {
              "fillmode": "overlay",
              "size": 10,
              "solidity": 0.2
             }
            },
            "type": "histogram"
           }
          ],
          "histogram2d": [
           {
            "colorbar": {
             "outlinewidth": 0,
             "ticks": ""
            },
            "colorscale": [
             [
              0,
              "#0d0887"
             ],
             [
              0.1111111111111111,
              "#46039f"
             ],
             [
              0.2222222222222222,
              "#7201a8"
             ],
             [
              0.3333333333333333,
              "#9c179e"
             ],
             [
              0.4444444444444444,
              "#bd3786"
             ],
             [
              0.5555555555555556,
              "#d8576b"
             ],
             [
              0.6666666666666666,
              "#ed7953"
             ],
             [
              0.7777777777777778,
              "#fb9f3a"
             ],
             [
              0.8888888888888888,
              "#fdca26"
             ],
             [
              1,
              "#f0f921"
             ]
            ],
            "type": "histogram2d"
           }
          ],
          "histogram2dcontour": [
           {
            "colorbar": {
             "outlinewidth": 0,
             "ticks": ""
            },
            "colorscale": [
             [
              0,
              "#0d0887"
             ],
             [
              0.1111111111111111,
              "#46039f"
             ],
             [
              0.2222222222222222,
              "#7201a8"
             ],
             [
              0.3333333333333333,
              "#9c179e"
             ],
             [
              0.4444444444444444,
              "#bd3786"
             ],
             [
              0.5555555555555556,
              "#d8576b"
             ],
             [
              0.6666666666666666,
              "#ed7953"
             ],
             [
              0.7777777777777778,
              "#fb9f3a"
             ],
             [
              0.8888888888888888,
              "#fdca26"
             ],
             [
              1,
              "#f0f921"
             ]
            ],
            "type": "histogram2dcontour"
           }
          ],
          "mesh3d": [
           {
            "colorbar": {
             "outlinewidth": 0,
             "ticks": ""
            },
            "type": "mesh3d"
           }
          ],
          "parcoords": [
           {
            "line": {
             "colorbar": {
              "outlinewidth": 0,
              "ticks": ""
             }
            },
            "type": "parcoords"
           }
          ],
          "pie": [
           {
            "automargin": true,
            "type": "pie"
           }
          ],
          "scatter": [
           {
            "fillpattern": {
             "fillmode": "overlay",
             "size": 10,
             "solidity": 0.2
            },
            "type": "scatter"
           }
          ],
          "scatter3d": [
           {
            "line": {
             "colorbar": {
              "outlinewidth": 0,
              "ticks": ""
             }
            },
            "marker": {
             "colorbar": {
              "outlinewidth": 0,
              "ticks": ""
             }
            },
            "type": "scatter3d"
           }
          ],
          "scattercarpet": [
           {
            "marker": {
             "colorbar": {
              "outlinewidth": 0,
              "ticks": ""
             }
            },
            "type": "scattercarpet"
           }
          ],
          "scattergeo": [
           {
            "marker": {
             "colorbar": {
              "outlinewidth": 0,
              "ticks": ""
             }
            },
            "type": "scattergeo"
           }
          ],
          "scattergl": [
           {
            "marker": {
             "colorbar": {
              "outlinewidth": 0,
              "ticks": ""
             }
            },
            "type": "scattergl"
           }
          ],
          "scattermap": [
           {
            "marker": {
             "colorbar": {
              "outlinewidth": 0,
              "ticks": ""
             }
            },
            "type": "scattermap"
           }
          ],
          "scattermapbox": [
           {
            "marker": {
             "colorbar": {
              "outlinewidth": 0,
              "ticks": ""
             }
            },
            "type": "scattermapbox"
           }
          ],
          "scatterpolar": [
           {
            "marker": {
             "colorbar": {
              "outlinewidth": 0,
              "ticks": ""
             }
            },
            "type": "scatterpolar"
           }
          ],
          "scatterpolargl": [
           {
            "marker": {
             "colorbar": {
              "outlinewidth": 0,
              "ticks": ""
             }
            },
            "type": "scatterpolargl"
           }
          ],
          "scatterternary": [
           {
            "marker": {
             "colorbar": {
              "outlinewidth": 0,
              "ticks": ""
             }
            },
            "type": "scatterternary"
           }
          ],
          "surface": [
           {
            "colorbar": {
             "outlinewidth": 0,
             "ticks": ""
            },
            "colorscale": [
             [
              0,
              "#0d0887"
             ],
             [
              0.1111111111111111,
              "#46039f"
             ],
             [
              0.2222222222222222,
              "#7201a8"
             ],
             [
              0.3333333333333333,
              "#9c179e"
             ],
             [
              0.4444444444444444,
              "#bd3786"
             ],
             [
              0.5555555555555556,
              "#d8576b"
             ],
             [
              0.6666666666666666,
              "#ed7953"
             ],
             [
              0.7777777777777778,
              "#fb9f3a"
             ],
             [
              0.8888888888888888,
              "#fdca26"
             ],
             [
              1,
              "#f0f921"
             ]
            ],
            "type": "surface"
           }
          ],
          "table": [
           {
            "cells": {
             "fill": {
              "color": "#EBF0F8"
             },
             "line": {
              "color": "white"
             }
            },
            "header": {
             "fill": {
              "color": "#C8D4E3"
             },
             "line": {
              "color": "white"
             }
            },
            "type": "table"
           }
          ]
         },
         "layout": {
          "annotationdefaults": {
           "arrowcolor": "#2a3f5f",
           "arrowhead": 0,
           "arrowwidth": 1
          },
          "autotypenumbers": "strict",
          "coloraxis": {
           "colorbar": {
            "outlinewidth": 0,
            "ticks": ""
           }
          },
          "colorscale": {
           "diverging": [
            [
             0,
             "#8e0152"
            ],
            [
             0.1,
             "#c51b7d"
            ],
            [
             0.2,
             "#de77ae"
            ],
            [
             0.3,
             "#f1b6da"
            ],
            [
             0.4,
             "#fde0ef"
            ],
            [
             0.5,
             "#f7f7f7"
            ],
            [
             0.6,
             "#e6f5d0"
            ],
            [
             0.7,
             "#b8e186"
            ],
            [
             0.8,
             "#7fbc41"
            ],
            [
             0.9,
             "#4d9221"
            ],
            [
             1,
             "#276419"
            ]
           ],
           "sequential": [
            [
             0,
             "#0d0887"
            ],
            [
             0.1111111111111111,
             "#46039f"
            ],
            [
             0.2222222222222222,
             "#7201a8"
            ],
            [
             0.3333333333333333,
             "#9c179e"
            ],
            [
             0.4444444444444444,
             "#bd3786"
            ],
            [
             0.5555555555555556,
             "#d8576b"
            ],
            [
             0.6666666666666666,
             "#ed7953"
            ],
            [
             0.7777777777777778,
             "#fb9f3a"
            ],
            [
             0.8888888888888888,
             "#fdca26"
            ],
            [
             1,
             "#f0f921"
            ]
           ],
           "sequentialminus": [
            [
             0,
             "#0d0887"
            ],
            [
             0.1111111111111111,
             "#46039f"
            ],
            [
             0.2222222222222222,
             "#7201a8"
            ],
            [
             0.3333333333333333,
             "#9c179e"
            ],
            [
             0.4444444444444444,
             "#bd3786"
            ],
            [
             0.5555555555555556,
             "#d8576b"
            ],
            [
             0.6666666666666666,
             "#ed7953"
            ],
            [
             0.7777777777777778,
             "#fb9f3a"
            ],
            [
             0.8888888888888888,
             "#fdca26"
            ],
            [
             1,
             "#f0f921"
            ]
           ]
          },
          "colorway": [
           "#636efa",
           "#EF553B",
           "#00cc96",
           "#ab63fa",
           "#FFA15A",
           "#19d3f3",
           "#FF6692",
           "#B6E880",
           "#FF97FF",
           "#FECB52"
          ],
          "font": {
           "color": "#2a3f5f"
          },
          "geo": {
           "bgcolor": "white",
           "lakecolor": "white",
           "landcolor": "#E5ECF6",
           "showlakes": true,
           "showland": true,
           "subunitcolor": "white"
          },
          "hoverlabel": {
           "align": "left"
          },
          "hovermode": "closest",
          "mapbox": {
           "style": "light"
          },
          "paper_bgcolor": "white",
          "plot_bgcolor": "#E5ECF6",
          "polar": {
           "angularaxis": {
            "gridcolor": "white",
            "linecolor": "white",
            "ticks": ""
           },
           "bgcolor": "#E5ECF6",
           "radialaxis": {
            "gridcolor": "white",
            "linecolor": "white",
            "ticks": ""
           }
          },
          "scene": {
           "xaxis": {
            "backgroundcolor": "#E5ECF6",
            "gridcolor": "white",
            "gridwidth": 2,
            "linecolor": "white",
            "showbackground": true,
            "ticks": "",
            "zerolinecolor": "white"
           },
           "yaxis": {
            "backgroundcolor": "#E5ECF6",
            "gridcolor": "white",
            "gridwidth": 2,
            "linecolor": "white",
            "showbackground": true,
            "ticks": "",
            "zerolinecolor": "white"
           },
           "zaxis": {
            "backgroundcolor": "#E5ECF6",
            "gridcolor": "white",
            "gridwidth": 2,
            "linecolor": "white",
            "showbackground": true,
            "ticks": "",
            "zerolinecolor": "white"
           }
          },
          "shapedefaults": {
           "line": {
            "color": "#2a3f5f"
           }
          },
          "ternary": {
           "aaxis": {
            "gridcolor": "white",
            "linecolor": "white",
            "ticks": ""
           },
           "baxis": {
            "gridcolor": "white",
            "linecolor": "white",
            "ticks": ""
           },
           "bgcolor": "#E5ECF6",
           "caxis": {
            "gridcolor": "white",
            "linecolor": "white",
            "ticks": ""
           }
          },
          "title": {
           "x": 0.05
          },
          "xaxis": {
           "automargin": true,
           "gridcolor": "white",
           "linecolor": "white",
           "ticks": "",
           "title": {
            "standoff": 15
           },
           "zerolinecolor": "white",
           "zerolinewidth": 2
          },
          "yaxis": {
           "automargin": true,
           "gridcolor": "white",
           "linecolor": "white",
           "ticks": "",
           "title": {
            "standoff": 15
           },
           "zerolinecolor": "white",
           "zerolinewidth": 2
          }
         }
        }
       }
      }
     },
     "metadata": {},
     "output_type": "display_data"
    }
   ],
   "source": [
    "fig_count = px.bar(\n",
    "    monthly_withdrawal_counts,\n",
    "    x='month',\n",
    "    y='withdrawal_count',\n",
    "    color='year',\n",
    "    barmode='group',\n",
    "    title='Number of Successful Withdrawals per Month by Year',\n",
    "    labels={'withdrawal_count': 'Number of Withdrawals', 'month': 'Month'}\n",
    ")\n",
    "fig_count.show()\n",
    "\n",
    "fig_table_counts = go.Figure(data=[go.Table(\n",
    "    header=dict(values=[\"Year\", \"Month\", \"Number of Withdrawals\"]),\n",
    "    cells=dict(values=[\n",
    "        monthly_withdrawal_counts['year'],\n",
    "        monthly_withdrawal_counts['month'],\n",
    "        monthly_withdrawal_counts['withdrawal_count']\n",
    "    ])\n",
    ")])\n",
    "fig_table_counts.show()"
   ]
  }
 ],
 "metadata": {
  "kernelspec": {
   "display_name": "venv",
   "language": "python",
   "name": "python3"
  },
  "language_info": {
   "codemirror_mode": {
    "name": "ipython",
    "version": 3
   },
   "file_extension": ".py",
   "mimetype": "text/x-python",
   "name": "python",
   "nbconvert_exporter": "python",
   "pygments_lexer": "ipython3",
   "version": "3.11.0"
  }
 },
 "nbformat": 4,
 "nbformat_minor": 5
}
