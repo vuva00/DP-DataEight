{
 "cells": [
  {
   "cell_type": "code",
   "execution_count": 14,
   "metadata": {},
   "outputs": [],
   "source": [
    "import pandas as pd\n",
    "import numpy as np\n",
    "import catboost\n",
    "import plotly.express as px"
   ]
  },
  {
   "cell_type": "markdown",
   "metadata": {},
   "source": [
    "# Read Data"
   ]
  },
  {
   "cell_type": "code",
   "execution_count": 15,
   "metadata": {},
   "outputs": [],
   "source": [
    "df_credits = pd.read_csv('../data/User Credits Student Access.csv', encoding='utf-8')\n",
    "df_atlas = pd.read_csv('../data/Atlas Cechu Student Access.csv', encoding='utf-8')\n",
    "df_payments = pd.read_csv('../data/Payments Student Access.csv', encoding='utf-8')"
   ]
  },
  {
   "cell_type": "markdown",
   "metadata": {},
   "source": [
    "# Negative Values investigation & Chekcing other things"
   ]
  },
  {
   "cell_type": "code",
   "execution_count": 16,
   "metadata": {},
   "outputs": [
    {
     "data": {
      "text/html": [
       "<div>\n",
       "<style scoped>\n",
       "    .dataframe tbody tr th:only-of-type {\n",
       "        vertical-align: middle;\n",
       "    }\n",
       "\n",
       "    .dataframe tbody tr th {\n",
       "        vertical-align: top;\n",
       "    }\n",
       "\n",
       "    .dataframe thead th {\n",
       "        text-align: right;\n",
       "    }\n",
       "</style>\n",
       "<table border=\"1\" class=\"dataframe\">\n",
       "  <thead>\n",
       "    <tr style=\"text-align: right;\">\n",
       "      <th></th>\n",
       "      <th>user</th>\n",
       "      <th>credits</th>\n",
       "      <th>is_active</th>\n",
       "      <th>is_verified</th>\n",
       "      <th>is_locked</th>\n",
       "      <th>wage</th>\n",
       "    </tr>\n",
       "  </thead>\n",
       "  <tbody>\n",
       "    <tr>\n",
       "      <th>89906</th>\n",
       "      <td>STUD54678</td>\n",
       "      <td>789</td>\n",
       "      <td>1</td>\n",
       "      <td>1</td>\n",
       "      <td>0</td>\n",
       "      <td>Peníze</td>\n",
       "    </tr>\n",
       "  </tbody>\n",
       "</table>\n",
       "</div>"
      ],
      "text/plain": [
       "            user  credits  is_active  is_verified  is_locked    wage\n",
       "89906  STUD54678      789          1            1          0  Peníze"
      ]
     },
     "execution_count": 16,
     "metadata": {},
     "output_type": "execute_result"
    }
   ],
   "source": [
    "df_c_negative = df_credits[df_credits['credits']<0]\n",
    "df_credits[df_credits.user.isin(df_c_negative.user) == True]\n",
    "\n",
    "# IDK what I'm doing with payments\n",
    "df_payments[df_payments.user.isin(df_c_negative.user)==True].sort_values(['user','created_at'])\n",
    "df_payments.state.unique()\n",
    "df_payments[df_payments.user=='STUD54678']\n",
    "df_credits[df_credits.user=='STUD54678']"
   ]
  },
  {
   "cell_type": "code",
   "execution_count": 17,
   "metadata": {},
   "outputs": [
    {
     "name": "stdout",
     "output_type": "stream",
     "text": [
      "<class 'pandas.core.frame.DataFrame'>\n",
      "RangeIndex: 30087 entries, 0 to 30086\n",
      "Data columns (total 8 columns):\n",
      " #   Column      Non-Null Count  Dtype  \n",
      "---  ------      --------------  -----  \n",
      " 0   id          30086 non-null  float64\n",
      " 1   created_at  30087 non-null  object \n",
      " 2   changed_at  30087 non-null  object \n",
      " 3   user        27652 non-null  object \n",
      " 4   batch       27502 non-null  object \n",
      " 5   credits     30086 non-null  float64\n",
      " 6   state       30086 non-null  object \n",
      " 7   type        30086 non-null  object \n",
      "dtypes: float64(2), object(6)\n",
      "memory usage: 1.8+ MB\n"
     ]
    }
   ],
   "source": [
    "df_payments.info()"
   ]
  },
  {
   "cell_type": "markdown",
   "metadata": {},
   "source": [
    "# Data Cleaning"
   ]
  },
  {
   "cell_type": "code",
   "execution_count": 18,
   "metadata": {},
   "outputs": [],
   "source": [
    "df_credits_cleaned = df_credits[df_credits['credits']>0]\n",
    "df_payments_cleaned = df_payments[df_payments['id'].notna()]"
   ]
  },
  {
   "cell_type": "markdown",
   "metadata": {},
   "source": [
    "# What is core table for merge? - Payments // Can't I just use inner join? Therefore I dont' have to work with nul values - I don't want them in model anyway"
   ]
  },
  {
   "cell_type": "code",
   "execution_count": 19,
   "metadata": {},
   "outputs": [
    {
     "data": {
      "application/vnd.plotly.v1+json": {
       "config": {
        "plotlyServerURL": "https://plot.ly"
       },
       "data": [
        {
         "hovertemplate": "variable=count<br>User in Atlas=%{x}<br>Count=%{y}<extra></extra>",
         "legendgroup": "count",
         "marker": {
          "color": "#636efa",
          "pattern": {
           "shape": ""
          }
         },
         "name": "count",
         "orientation": "v",
         "showlegend": true,
         "textposition": "auto",
         "type": "bar",
         "x": [
          true,
          false
         ],
         "xaxis": "x",
         "y": {
          "bdata": "4J4AABkUAAA=",
          "dtype": "i4"
         },
         "yaxis": "y"
        }
       ],
       "layout": {
        "barmode": "relative",
        "legend": {
         "title": {
          "text": "variable"
         },
         "tracegroupgap": 0
        },
        "template": {
         "data": {
          "bar": [
           {
            "error_x": {
             "color": "#2a3f5f"
            },
            "error_y": {
             "color": "#2a3f5f"
            },
            "marker": {
             "line": {
              "color": "#E5ECF6",
              "width": 0.5
             },
             "pattern": {
              "fillmode": "overlay",
              "size": 10,
              "solidity": 0.2
             }
            },
            "type": "bar"
           }
          ],
          "barpolar": [
           {
            "marker": {
             "line": {
              "color": "#E5ECF6",
              "width": 0.5
             },
             "pattern": {
              "fillmode": "overlay",
              "size": 10,
              "solidity": 0.2
             }
            },
            "type": "barpolar"
           }
          ],
          "carpet": [
           {
            "aaxis": {
             "endlinecolor": "#2a3f5f",
             "gridcolor": "white",
             "linecolor": "white",
             "minorgridcolor": "white",
             "startlinecolor": "#2a3f5f"
            },
            "baxis": {
             "endlinecolor": "#2a3f5f",
             "gridcolor": "white",
             "linecolor": "white",
             "minorgridcolor": "white",
             "startlinecolor": "#2a3f5f"
            },
            "type": "carpet"
           }
          ],
          "choropleth": [
           {
            "colorbar": {
             "outlinewidth": 0,
             "ticks": ""
            },
            "type": "choropleth"
           }
          ],
          "contour": [
           {
            "colorbar": {
             "outlinewidth": 0,
             "ticks": ""
            },
            "colorscale": [
             [
              0,
              "#0d0887"
             ],
             [
              0.1111111111111111,
              "#46039f"
             ],
             [
              0.2222222222222222,
              "#7201a8"
             ],
             [
              0.3333333333333333,
              "#9c179e"
             ],
             [
              0.4444444444444444,
              "#bd3786"
             ],
             [
              0.5555555555555556,
              "#d8576b"
             ],
             [
              0.6666666666666666,
              "#ed7953"
             ],
             [
              0.7777777777777778,
              "#fb9f3a"
             ],
             [
              0.8888888888888888,
              "#fdca26"
             ],
             [
              1,
              "#f0f921"
             ]
            ],
            "type": "contour"
           }
          ],
          "contourcarpet": [
           {
            "colorbar": {
             "outlinewidth": 0,
             "ticks": ""
            },
            "type": "contourcarpet"
           }
          ],
          "heatmap": [
           {
            "colorbar": {
             "outlinewidth": 0,
             "ticks": ""
            },
            "colorscale": [
             [
              0,
              "#0d0887"
             ],
             [
              0.1111111111111111,
              "#46039f"
             ],
             [
              0.2222222222222222,
              "#7201a8"
             ],
             [
              0.3333333333333333,
              "#9c179e"
             ],
             [
              0.4444444444444444,
              "#bd3786"
             ],
             [
              0.5555555555555556,
              "#d8576b"
             ],
             [
              0.6666666666666666,
              "#ed7953"
             ],
             [
              0.7777777777777778,
              "#fb9f3a"
             ],
             [
              0.8888888888888888,
              "#fdca26"
             ],
             [
              1,
              "#f0f921"
             ]
            ],
            "type": "heatmap"
           }
          ],
          "histogram": [
           {
            "marker": {
             "pattern": {
              "fillmode": "overlay",
              "size": 10,
              "solidity": 0.2
             }
            },
            "type": "histogram"
           }
          ],
          "histogram2d": [
           {
            "colorbar": {
             "outlinewidth": 0,
             "ticks": ""
            },
            "colorscale": [
             [
              0,
              "#0d0887"
             ],
             [
              0.1111111111111111,
              "#46039f"
             ],
             [
              0.2222222222222222,
              "#7201a8"
             ],
             [
              0.3333333333333333,
              "#9c179e"
             ],
             [
              0.4444444444444444,
              "#bd3786"
             ],
             [
              0.5555555555555556,
              "#d8576b"
             ],
             [
              0.6666666666666666,
              "#ed7953"
             ],
             [
              0.7777777777777778,
              "#fb9f3a"
             ],
             [
              0.8888888888888888,
              "#fdca26"
             ],
             [
              1,
              "#f0f921"
             ]
            ],
            "type": "histogram2d"
           }
          ],
          "histogram2dcontour": [
           {
            "colorbar": {
             "outlinewidth": 0,
             "ticks": ""
            },
            "colorscale": [
             [
              0,
              "#0d0887"
             ],
             [
              0.1111111111111111,
              "#46039f"
             ],
             [
              0.2222222222222222,
              "#7201a8"
             ],
             [
              0.3333333333333333,
              "#9c179e"
             ],
             [
              0.4444444444444444,
              "#bd3786"
             ],
             [
              0.5555555555555556,
              "#d8576b"
             ],
             [
              0.6666666666666666,
              "#ed7953"
             ],
             [
              0.7777777777777778,
              "#fb9f3a"
             ],
             [
              0.8888888888888888,
              "#fdca26"
             ],
             [
              1,
              "#f0f921"
             ]
            ],
            "type": "histogram2dcontour"
           }
          ],
          "mesh3d": [
           {
            "colorbar": {
             "outlinewidth": 0,
             "ticks": ""
            },
            "type": "mesh3d"
           }
          ],
          "parcoords": [
           {
            "line": {
             "colorbar": {
              "outlinewidth": 0,
              "ticks": ""
             }
            },
            "type": "parcoords"
           }
          ],
          "pie": [
           {
            "automargin": true,
            "type": "pie"
           }
          ],
          "scatter": [
           {
            "fillpattern": {
             "fillmode": "overlay",
             "size": 10,
             "solidity": 0.2
            },
            "type": "scatter"
           }
          ],
          "scatter3d": [
           {
            "line": {
             "colorbar": {
              "outlinewidth": 0,
              "ticks": ""
             }
            },
            "marker": {
             "colorbar": {
              "outlinewidth": 0,
              "ticks": ""
             }
            },
            "type": "scatter3d"
           }
          ],
          "scattercarpet": [
           {
            "marker": {
             "colorbar": {
              "outlinewidth": 0,
              "ticks": ""
             }
            },
            "type": "scattercarpet"
           }
          ],
          "scattergeo": [
           {
            "marker": {
             "colorbar": {
              "outlinewidth": 0,
              "ticks": ""
             }
            },
            "type": "scattergeo"
           }
          ],
          "scattergl": [
           {
            "marker": {
             "colorbar": {
              "outlinewidth": 0,
              "ticks": ""
             }
            },
            "type": "scattergl"
           }
          ],
          "scattermap": [
           {
            "marker": {
             "colorbar": {
              "outlinewidth": 0,
              "ticks": ""
             }
            },
            "type": "scattermap"
           }
          ],
          "scattermapbox": [
           {
            "marker": {
             "colorbar": {
              "outlinewidth": 0,
              "ticks": ""
             }
            },
            "type": "scattermapbox"
           }
          ],
          "scatterpolar": [
           {
            "marker": {
             "colorbar": {
              "outlinewidth": 0,
              "ticks": ""
             }
            },
            "type": "scatterpolar"
           }
          ],
          "scatterpolargl": [
           {
            "marker": {
             "colorbar": {
              "outlinewidth": 0,
              "ticks": ""
             }
            },
            "type": "scatterpolargl"
           }
          ],
          "scatterternary": [
           {
            "marker": {
             "colorbar": {
              "outlinewidth": 0,
              "ticks": ""
             }
            },
            "type": "scatterternary"
           }
          ],
          "surface": [
           {
            "colorbar": {
             "outlinewidth": 0,
             "ticks": ""
            },
            "colorscale": [
             [
              0,
              "#0d0887"
             ],
             [
              0.1111111111111111,
              "#46039f"
             ],
             [
              0.2222222222222222,
              "#7201a8"
             ],
             [
              0.3333333333333333,
              "#9c179e"
             ],
             [
              0.4444444444444444,
              "#bd3786"
             ],
             [
              0.5555555555555556,
              "#d8576b"
             ],
             [
              0.6666666666666666,
              "#ed7953"
             ],
             [
              0.7777777777777778,
              "#fb9f3a"
             ],
             [
              0.8888888888888888,
              "#fdca26"
             ],
             [
              1,
              "#f0f921"
             ]
            ],
            "type": "surface"
           }
          ],
          "table": [
           {
            "cells": {
             "fill": {
              "color": "#EBF0F8"
             },
             "line": {
              "color": "white"
             }
            },
            "header": {
             "fill": {
              "color": "#C8D4E3"
             },
             "line": {
              "color": "white"
             }
            },
            "type": "table"
           }
          ]
         },
         "layout": {
          "annotationdefaults": {
           "arrowcolor": "#2a3f5f",
           "arrowhead": 0,
           "arrowwidth": 1
          },
          "autotypenumbers": "strict",
          "coloraxis": {
           "colorbar": {
            "outlinewidth": 0,
            "ticks": ""
           }
          },
          "colorscale": {
           "diverging": [
            [
             0,
             "#8e0152"
            ],
            [
             0.1,
             "#c51b7d"
            ],
            [
             0.2,
             "#de77ae"
            ],
            [
             0.3,
             "#f1b6da"
            ],
            [
             0.4,
             "#fde0ef"
            ],
            [
             0.5,
             "#f7f7f7"
            ],
            [
             0.6,
             "#e6f5d0"
            ],
            [
             0.7,
             "#b8e186"
            ],
            [
             0.8,
             "#7fbc41"
            ],
            [
             0.9,
             "#4d9221"
            ],
            [
             1,
             "#276419"
            ]
           ],
           "sequential": [
            [
             0,
             "#0d0887"
            ],
            [
             0.1111111111111111,
             "#46039f"
            ],
            [
             0.2222222222222222,
             "#7201a8"
            ],
            [
             0.3333333333333333,
             "#9c179e"
            ],
            [
             0.4444444444444444,
             "#bd3786"
            ],
            [
             0.5555555555555556,
             "#d8576b"
            ],
            [
             0.6666666666666666,
             "#ed7953"
            ],
            [
             0.7777777777777778,
             "#fb9f3a"
            ],
            [
             0.8888888888888888,
             "#fdca26"
            ],
            [
             1,
             "#f0f921"
            ]
           ],
           "sequentialminus": [
            [
             0,
             "#0d0887"
            ],
            [
             0.1111111111111111,
             "#46039f"
            ],
            [
             0.2222222222222222,
             "#7201a8"
            ],
            [
             0.3333333333333333,
             "#9c179e"
            ],
            [
             0.4444444444444444,
             "#bd3786"
            ],
            [
             0.5555555555555556,
             "#d8576b"
            ],
            [
             0.6666666666666666,
             "#ed7953"
            ],
            [
             0.7777777777777778,
             "#fb9f3a"
            ],
            [
             0.8888888888888888,
             "#fdca26"
            ],
            [
             1,
             "#f0f921"
            ]
           ]
          },
          "colorway": [
           "#636efa",
           "#EF553B",
           "#00cc96",
           "#ab63fa",
           "#FFA15A",
           "#19d3f3",
           "#FF6692",
           "#B6E880",
           "#FF97FF",
           "#FECB52"
          ],
          "font": {
           "color": "#2a3f5f"
          },
          "geo": {
           "bgcolor": "white",
           "lakecolor": "white",
           "landcolor": "#E5ECF6",
           "showlakes": true,
           "showland": true,
           "subunitcolor": "white"
          },
          "hoverlabel": {
           "align": "left"
          },
          "hovermode": "closest",
          "mapbox": {
           "style": "light"
          },
          "paper_bgcolor": "white",
          "plot_bgcolor": "#E5ECF6",
          "polar": {
           "angularaxis": {
            "gridcolor": "white",
            "linecolor": "white",
            "ticks": ""
           },
           "bgcolor": "#E5ECF6",
           "radialaxis": {
            "gridcolor": "white",
            "linecolor": "white",
            "ticks": ""
           }
          },
          "scene": {
           "xaxis": {
            "backgroundcolor": "#E5ECF6",
            "gridcolor": "white",
            "gridwidth": 2,
            "linecolor": "white",
            "showbackground": true,
            "ticks": "",
            "zerolinecolor": "white"
           },
           "yaxis": {
            "backgroundcolor": "#E5ECF6",
            "gridcolor": "white",
            "gridwidth": 2,
            "linecolor": "white",
            "showbackground": true,
            "ticks": "",
            "zerolinecolor": "white"
           },
           "zaxis": {
            "backgroundcolor": "#E5ECF6",
            "gridcolor": "white",
            "gridwidth": 2,
            "linecolor": "white",
            "showbackground": true,
            "ticks": "",
            "zerolinecolor": "white"
           }
          },
          "shapedefaults": {
           "line": {
            "color": "#2a3f5f"
           }
          },
          "ternary": {
           "aaxis": {
            "gridcolor": "white",
            "linecolor": "white",
            "ticks": ""
           },
           "baxis": {
            "gridcolor": "white",
            "linecolor": "white",
            "ticks": ""
           },
           "bgcolor": "#E5ECF6",
           "caxis": {
            "gridcolor": "white",
            "linecolor": "white",
            "ticks": ""
           }
          },
          "title": {
           "x": 0.05
          },
          "xaxis": {
           "automargin": true,
           "gridcolor": "white",
           "linecolor": "white",
           "ticks": "",
           "title": {
            "standoff": 15
           },
           "zerolinecolor": "white",
           "zerolinewidth": 2
          },
          "yaxis": {
           "automargin": true,
           "gridcolor": "white",
           "linecolor": "white",
           "ticks": "",
           "title": {
            "standoff": 15
           },
           "zerolinecolor": "white",
           "zerolinewidth": 2
          }
         }
        },
        "title": {
         "text": "How many users from Atlas Cechu are in the credits table"
        },
        "xaxis": {
         "anchor": "y",
         "domain": [
          0,
          1
         ],
         "title": {
          "text": "User in Atlas"
         }
        },
        "yaxis": {
         "anchor": "x",
         "domain": [
          0,
          1
         ],
         "title": {
          "text": "Count"
         }
        }
       }
      }
     },
     "metadata": {},
     "output_type": "display_data"
    },
    {
     "data": {
      "application/vnd.plotly.v1+json": {
       "config": {
        "plotlyServerURL": "https://plot.ly"
       },
       "data": [
        {
         "hovertemplate": "variable=count<br>user=%{x}<br>Count=%{y}<extra></extra>",
         "legendgroup": "count",
         "marker": {
          "color": "#636efa",
          "pattern": {
           "shape": ""
          }
         },
         "name": "count",
         "orientation": "v",
         "showlegend": true,
         "textposition": "auto",
         "type": "bar",
         "x": [
          true,
          false
         ],
         "xaxis": "x",
         "y": {
          "bdata": "/2iHDA==",
          "dtype": "i2"
         },
         "yaxis": "y"
        }
       ],
       "layout": {
        "barmode": "relative",
        "legend": {
         "title": {
          "text": "variable"
         },
         "tracegroupgap": 0
        },
        "template": {
         "data": {
          "bar": [
           {
            "error_x": {
             "color": "#2a3f5f"
            },
            "error_y": {
             "color": "#2a3f5f"
            },
            "marker": {
             "line": {
              "color": "#E5ECF6",
              "width": 0.5
             },
             "pattern": {
              "fillmode": "overlay",
              "size": 10,
              "solidity": 0.2
             }
            },
            "type": "bar"
           }
          ],
          "barpolar": [
           {
            "marker": {
             "line": {
              "color": "#E5ECF6",
              "width": 0.5
             },
             "pattern": {
              "fillmode": "overlay",
              "size": 10,
              "solidity": 0.2
             }
            },
            "type": "barpolar"
           }
          ],
          "carpet": [
           {
            "aaxis": {
             "endlinecolor": "#2a3f5f",
             "gridcolor": "white",
             "linecolor": "white",
             "minorgridcolor": "white",
             "startlinecolor": "#2a3f5f"
            },
            "baxis": {
             "endlinecolor": "#2a3f5f",
             "gridcolor": "white",
             "linecolor": "white",
             "minorgridcolor": "white",
             "startlinecolor": "#2a3f5f"
            },
            "type": "carpet"
           }
          ],
          "choropleth": [
           {
            "colorbar": {
             "outlinewidth": 0,
             "ticks": ""
            },
            "type": "choropleth"
           }
          ],
          "contour": [
           {
            "colorbar": {
             "outlinewidth": 0,
             "ticks": ""
            },
            "colorscale": [
             [
              0,
              "#0d0887"
             ],
             [
              0.1111111111111111,
              "#46039f"
             ],
             [
              0.2222222222222222,
              "#7201a8"
             ],
             [
              0.3333333333333333,
              "#9c179e"
             ],
             [
              0.4444444444444444,
              "#bd3786"
             ],
             [
              0.5555555555555556,
              "#d8576b"
             ],
             [
              0.6666666666666666,
              "#ed7953"
             ],
             [
              0.7777777777777778,
              "#fb9f3a"
             ],
             [
              0.8888888888888888,
              "#fdca26"
             ],
             [
              1,
              "#f0f921"
             ]
            ],
            "type": "contour"
           }
          ],
          "contourcarpet": [
           {
            "colorbar": {
             "outlinewidth": 0,
             "ticks": ""
            },
            "type": "contourcarpet"
           }
          ],
          "heatmap": [
           {
            "colorbar": {
             "outlinewidth": 0,
             "ticks": ""
            },
            "colorscale": [
             [
              0,
              "#0d0887"
             ],
             [
              0.1111111111111111,
              "#46039f"
             ],
             [
              0.2222222222222222,
              "#7201a8"
             ],
             [
              0.3333333333333333,
              "#9c179e"
             ],
             [
              0.4444444444444444,
              "#bd3786"
             ],
             [
              0.5555555555555556,
              "#d8576b"
             ],
             [
              0.6666666666666666,
              "#ed7953"
             ],
             [
              0.7777777777777778,
              "#fb9f3a"
             ],
             [
              0.8888888888888888,
              "#fdca26"
             ],
             [
              1,
              "#f0f921"
             ]
            ],
            "type": "heatmap"
           }
          ],
          "histogram": [
           {
            "marker": {
             "pattern": {
              "fillmode": "overlay",
              "size": 10,
              "solidity": 0.2
             }
            },
            "type": "histogram"
           }
          ],
          "histogram2d": [
           {
            "colorbar": {
             "outlinewidth": 0,
             "ticks": ""
            },
            "colorscale": [
             [
              0,
              "#0d0887"
             ],
             [
              0.1111111111111111,
              "#46039f"
             ],
             [
              0.2222222222222222,
              "#7201a8"
             ],
             [
              0.3333333333333333,
              "#9c179e"
             ],
             [
              0.4444444444444444,
              "#bd3786"
             ],
             [
              0.5555555555555556,
              "#d8576b"
             ],
             [
              0.6666666666666666,
              "#ed7953"
             ],
             [
              0.7777777777777778,
              "#fb9f3a"
             ],
             [
              0.8888888888888888,
              "#fdca26"
             ],
             [
              1,
              "#f0f921"
             ]
            ],
            "type": "histogram2d"
           }
          ],
          "histogram2dcontour": [
           {
            "colorbar": {
             "outlinewidth": 0,
             "ticks": ""
            },
            "colorscale": [
             [
              0,
              "#0d0887"
             ],
             [
              0.1111111111111111,
              "#46039f"
             ],
             [
              0.2222222222222222,
              "#7201a8"
             ],
             [
              0.3333333333333333,
              "#9c179e"
             ],
             [
              0.4444444444444444,
              "#bd3786"
             ],
             [
              0.5555555555555556,
              "#d8576b"
             ],
             [
              0.6666666666666666,
              "#ed7953"
             ],
             [
              0.7777777777777778,
              "#fb9f3a"
             ],
             [
              0.8888888888888888,
              "#fdca26"
             ],
             [
              1,
              "#f0f921"
             ]
            ],
            "type": "histogram2dcontour"
           }
          ],
          "mesh3d": [
           {
            "colorbar": {
             "outlinewidth": 0,
             "ticks": ""
            },
            "type": "mesh3d"
           }
          ],
          "parcoords": [
           {
            "line": {
             "colorbar": {
              "outlinewidth": 0,
              "ticks": ""
             }
            },
            "type": "parcoords"
           }
          ],
          "pie": [
           {
            "automargin": true,
            "type": "pie"
           }
          ],
          "scatter": [
           {
            "fillpattern": {
             "fillmode": "overlay",
             "size": 10,
             "solidity": 0.2
            },
            "type": "scatter"
           }
          ],
          "scatter3d": [
           {
            "line": {
             "colorbar": {
              "outlinewidth": 0,
              "ticks": ""
             }
            },
            "marker": {
             "colorbar": {
              "outlinewidth": 0,
              "ticks": ""
             }
            },
            "type": "scatter3d"
           }
          ],
          "scattercarpet": [
           {
            "marker": {
             "colorbar": {
              "outlinewidth": 0,
              "ticks": ""
             }
            },
            "type": "scattercarpet"
           }
          ],
          "scattergeo": [
           {
            "marker": {
             "colorbar": {
              "outlinewidth": 0,
              "ticks": ""
             }
            },
            "type": "scattergeo"
           }
          ],
          "scattergl": [
           {
            "marker": {
             "colorbar": {
              "outlinewidth": 0,
              "ticks": ""
             }
            },
            "type": "scattergl"
           }
          ],
          "scattermap": [
           {
            "marker": {
             "colorbar": {
              "outlinewidth": 0,
              "ticks": ""
             }
            },
            "type": "scattermap"
           }
          ],
          "scattermapbox": [
           {
            "marker": {
             "colorbar": {
              "outlinewidth": 0,
              "ticks": ""
             }
            },
            "type": "scattermapbox"
           }
          ],
          "scatterpolar": [
           {
            "marker": {
             "colorbar": {
              "outlinewidth": 0,
              "ticks": ""
             }
            },
            "type": "scatterpolar"
           }
          ],
          "scatterpolargl": [
           {
            "marker": {
             "colorbar": {
              "outlinewidth": 0,
              "ticks": ""
             }
            },
            "type": "scatterpolargl"
           }
          ],
          "scatterternary": [
           {
            "marker": {
             "colorbar": {
              "outlinewidth": 0,
              "ticks": ""
             }
            },
            "type": "scatterternary"
           }
          ],
          "surface": [
           {
            "colorbar": {
             "outlinewidth": 0,
             "ticks": ""
            },
            "colorscale": [
             [
              0,
              "#0d0887"
             ],
             [
              0.1111111111111111,
              "#46039f"
             ],
             [
              0.2222222222222222,
              "#7201a8"
             ],
             [
              0.3333333333333333,
              "#9c179e"
             ],
             [
              0.4444444444444444,
              "#bd3786"
             ],
             [
              0.5555555555555556,
              "#d8576b"
             ],
             [
              0.6666666666666666,
              "#ed7953"
             ],
             [
              0.7777777777777778,
              "#fb9f3a"
             ],
             [
              0.8888888888888888,
              "#fdca26"
             ],
             [
              1,
              "#f0f921"
             ]
            ],
            "type": "surface"
           }
          ],
          "table": [
           {
            "cells": {
             "fill": {
              "color": "#EBF0F8"
             },
             "line": {
              "color": "white"
             }
            },
            "header": {
             "fill": {
              "color": "#C8D4E3"
             },
             "line": {
              "color": "white"
             }
            },
            "type": "table"
           }
          ]
         },
         "layout": {
          "annotationdefaults": {
           "arrowcolor": "#2a3f5f",
           "arrowhead": 0,
           "arrowwidth": 1
          },
          "autotypenumbers": "strict",
          "coloraxis": {
           "colorbar": {
            "outlinewidth": 0,
            "ticks": ""
           }
          },
          "colorscale": {
           "diverging": [
            [
             0,
             "#8e0152"
            ],
            [
             0.1,
             "#c51b7d"
            ],
            [
             0.2,
             "#de77ae"
            ],
            [
             0.3,
             "#f1b6da"
            ],
            [
             0.4,
             "#fde0ef"
            ],
            [
             0.5,
             "#f7f7f7"
            ],
            [
             0.6,
             "#e6f5d0"
            ],
            [
             0.7,
             "#b8e186"
            ],
            [
             0.8,
             "#7fbc41"
            ],
            [
             0.9,
             "#4d9221"
            ],
            [
             1,
             "#276419"
            ]
           ],
           "sequential": [
            [
             0,
             "#0d0887"
            ],
            [
             0.1111111111111111,
             "#46039f"
            ],
            [
             0.2222222222222222,
             "#7201a8"
            ],
            [
             0.3333333333333333,
             "#9c179e"
            ],
            [
             0.4444444444444444,
             "#bd3786"
            ],
            [
             0.5555555555555556,
             "#d8576b"
            ],
            [
             0.6666666666666666,
             "#ed7953"
            ],
            [
             0.7777777777777778,
             "#fb9f3a"
            ],
            [
             0.8888888888888888,
             "#fdca26"
            ],
            [
             1,
             "#f0f921"
            ]
           ],
           "sequentialminus": [
            [
             0,
             "#0d0887"
            ],
            [
             0.1111111111111111,
             "#46039f"
            ],
            [
             0.2222222222222222,
             "#7201a8"
            ],
            [
             0.3333333333333333,
             "#9c179e"
            ],
            [
             0.4444444444444444,
             "#bd3786"
            ],
            [
             0.5555555555555556,
             "#d8576b"
            ],
            [
             0.6666666666666666,
             "#ed7953"
            ],
            [
             0.7777777777777778,
             "#fb9f3a"
            ],
            [
             0.8888888888888888,
             "#fdca26"
            ],
            [
             1,
             "#f0f921"
            ]
           ]
          },
          "colorway": [
           "#636efa",
           "#EF553B",
           "#00cc96",
           "#ab63fa",
           "#FFA15A",
           "#19d3f3",
           "#FF6692",
           "#B6E880",
           "#FF97FF",
           "#FECB52"
          ],
          "font": {
           "color": "#2a3f5f"
          },
          "geo": {
           "bgcolor": "white",
           "lakecolor": "white",
           "landcolor": "#E5ECF6",
           "showlakes": true,
           "showland": true,
           "subunitcolor": "white"
          },
          "hoverlabel": {
           "align": "left"
          },
          "hovermode": "closest",
          "mapbox": {
           "style": "light"
          },
          "paper_bgcolor": "white",
          "plot_bgcolor": "#E5ECF6",
          "polar": {
           "angularaxis": {
            "gridcolor": "white",
            "linecolor": "white",
            "ticks": ""
           },
           "bgcolor": "#E5ECF6",
           "radialaxis": {
            "gridcolor": "white",
            "linecolor": "white",
            "ticks": ""
           }
          },
          "scene": {
           "xaxis": {
            "backgroundcolor": "#E5ECF6",
            "gridcolor": "white",
            "gridwidth": 2,
            "linecolor": "white",
            "showbackground": true,
            "ticks": "",
            "zerolinecolor": "white"
           },
           "yaxis": {
            "backgroundcolor": "#E5ECF6",
            "gridcolor": "white",
            "gridwidth": 2,
            "linecolor": "white",
            "showbackground": true,
            "ticks": "",
            "zerolinecolor": "white"
           },
           "zaxis": {
            "backgroundcolor": "#E5ECF6",
            "gridcolor": "white",
            "gridwidth": 2,
            "linecolor": "white",
            "showbackground": true,
            "ticks": "",
            "zerolinecolor": "white"
           }
          },
          "shapedefaults": {
           "line": {
            "color": "#2a3f5f"
           }
          },
          "ternary": {
           "aaxis": {
            "gridcolor": "white",
            "linecolor": "white",
            "ticks": ""
           },
           "baxis": {
            "gridcolor": "white",
            "linecolor": "white",
            "ticks": ""
           },
           "bgcolor": "#E5ECF6",
           "caxis": {
            "gridcolor": "white",
            "linecolor": "white",
            "ticks": ""
           }
          },
          "title": {
           "x": 0.05
          },
          "xaxis": {
           "automargin": true,
           "gridcolor": "white",
           "linecolor": "white",
           "ticks": "",
           "title": {
            "standoff": 15
           },
           "zerolinecolor": "white",
           "zerolinewidth": 2
          },
          "yaxis": {
           "automargin": true,
           "gridcolor": "white",
           "linecolor": "white",
           "ticks": "",
           "title": {
            "standoff": 15
           },
           "zerolinecolor": "white",
           "zerolinewidth": 2
          }
         }
        },
        "title": {
         "text": "How many users from Atlas Cechu are in the payments table"
        },
        "xaxis": {
         "anchor": "y",
         "domain": [
          0,
          1
         ],
         "title": {
          "text": "user"
         }
        },
        "yaxis": {
         "anchor": "x",
         "domain": [
          0,
          1
         ],
         "title": {
          "text": "Count"
         }
        }
       }
      }
     },
     "metadata": {},
     "output_type": "display_data"
    }
   ],
   "source": [
    "#I have an assumption that all users should be in Atlas Cechu. However, after cheking my assumption it tourns out not to be true. \n",
    "\n",
    "# Convert the boolean series to a DataFrame with a column name\n",
    "atlas_in_credits = df_credits_cleaned.user.isin(df_atlas.user_id).rename('User in Atlas')\n",
    "atlas_in_payments = df_payments_cleaned.user.isin(df_atlas.user_id)\n",
    "\n",
    "# Plotting\n",
    "fig_ac = px.bar(atlas_in_credits.value_counts(), title='How many users from Atlas Cechu are in the credits table', labels={'index': 'User in Atlas (True/False)', 'value': 'Count'})\n",
    "fig_ap = px.bar(atlas_in_payments.value_counts(), title='How many users from Atlas Cechu are in the payments table', labels={'index': 'User in Atlas (True/False)', 'value': 'Count'})\n",
    "\n",
    "fig_ac.show()\n",
    "fig_ap.show()"
   ]
  },
  {
   "cell_type": "code",
   "execution_count": 20,
   "metadata": {},
   "outputs": [
    {
     "data": {
      "text/plain": [
       "user_id\n",
       "True     40672\n",
       "False     2861\n",
       "Name: count, dtype: int64"
      ]
     },
     "execution_count": 20,
     "metadata": {},
     "output_type": "execute_result"
    }
   ],
   "source": [
    "df_atlas.user_id.isin(df_credits_cleaned.user).value_counts()"
   ]
  },
  {
   "cell_type": "code",
   "execution_count": 9,
   "metadata": {},
   "outputs": [
    {
     "data": {
      "text/plain": [
       "user_id\n",
       "False    34824\n",
       "True      8709\n",
       "Name: count, dtype: int64"
      ]
     },
     "execution_count": 9,
     "metadata": {},
     "output_type": "execute_result"
    }
   ],
   "source": [
    "df_atlas.user_id.isin(df_payments_cleaned.user).value_counts()"
   ]
  },
  {
   "cell_type": "markdown",
   "metadata": {},
   "source": [
    "Since we want to find out when who pulls what, it makes sense to use the payments table and connect data to it - even though there are users in payments tables that are not in Atlas Cechu"
   ]
  },
  {
   "cell_type": "code",
   "execution_count": 21,
   "metadata": {},
   "outputs": [],
   "source": [
    "#df_merge_credits = pd.merge(df_payments_cleaned, df_credits_cleaned, how=\"inner\", left_on='user', right_on='user')\n",
    "#df_merge_credits[df_merge_credits.user=='STUD92308']\n",
    "\n",
    "\"\"\"\n",
    "I don't find credits table to be interesting - mainly we cannot join them together due to different \"time type\" -- credits shows the newest version of creadits without historical changes, on the other hand table payments shows history of all transactions\n",
    "\"\"\""
   ]
  },
  {
   "cell_type": "code",
   "execution_count": 50,
   "metadata": {},
   "outputs": [],
   "source": [
    "df_merge_full = pd.merge(df_payments_cleaned, df_atlas, how='inner', left_on='user', right_on='user_id')"
   ]
  },
  {
   "cell_type": "code",
   "execution_count": 47,
   "metadata": {},
   "outputs": [
    {
     "data": {
      "text/html": [
       "<div>\n",
       "<style scoped>\n",
       "    .dataframe tbody tr th:only-of-type {\n",
       "        vertical-align: middle;\n",
       "    }\n",
       "\n",
       "    .dataframe tbody tr th {\n",
       "        vertical-align: top;\n",
       "    }\n",
       "\n",
       "    .dataframe thead th {\n",
       "        text-align: right;\n",
       "    }\n",
       "</style>\n",
       "<table border=\"1\" class=\"dataframe\">\n",
       "  <thead>\n",
       "    <tr style=\"text-align: right;\">\n",
       "      <th></th>\n",
       "      <th>user</th>\n",
       "      <th>credits</th>\n",
       "      <th>is_active</th>\n",
       "      <th>is_verified</th>\n",
       "      <th>is_locked</th>\n",
       "      <th>wage</th>\n",
       "    </tr>\n",
       "  </thead>\n",
       "  <tbody>\n",
       "    <tr>\n",
       "      <th>0</th>\n",
       "      <td>STUD66006</td>\n",
       "      <td>25</td>\n",
       "      <td>1</td>\n",
       "      <td>1</td>\n",
       "      <td>0</td>\n",
       "      <td>Peníze</td>\n",
       "    </tr>\n",
       "    <tr>\n",
       "      <th>1</th>\n",
       "      <td>STUD22095</td>\n",
       "      <td>51</td>\n",
       "      <td>1</td>\n",
       "      <td>1</td>\n",
       "      <td>0</td>\n",
       "      <td>Peníze</td>\n",
       "    </tr>\n",
       "    <tr>\n",
       "      <th>2</th>\n",
       "      <td>STUD77411</td>\n",
       "      <td>0</td>\n",
       "      <td>1</td>\n",
       "      <td>1</td>\n",
       "      <td>1</td>\n",
       "      <td>Peníze</td>\n",
       "    </tr>\n",
       "    <tr>\n",
       "      <th>3</th>\n",
       "      <td>STUD56329</td>\n",
       "      <td>0</td>\n",
       "      <td>1</td>\n",
       "      <td>0</td>\n",
       "      <td>0</td>\n",
       "      <td>NaN</td>\n",
       "    </tr>\n",
       "    <tr>\n",
       "      <th>4</th>\n",
       "      <td>STUD23516</td>\n",
       "      <td>30</td>\n",
       "      <td>1</td>\n",
       "      <td>1</td>\n",
       "      <td>0</td>\n",
       "      <td>Peníze</td>\n",
       "    </tr>\n",
       "    <tr>\n",
       "      <th>...</th>\n",
       "      <td>...</td>\n",
       "      <td>...</td>\n",
       "      <td>...</td>\n",
       "      <td>...</td>\n",
       "      <td>...</td>\n",
       "      <td>...</td>\n",
       "    </tr>\n",
       "    <tr>\n",
       "      <th>89906</th>\n",
       "      <td>STUD54678</td>\n",
       "      <td>789</td>\n",
       "      <td>1</td>\n",
       "      <td>1</td>\n",
       "      <td>0</td>\n",
       "      <td>Peníze</td>\n",
       "    </tr>\n",
       "    <tr>\n",
       "      <th>89907</th>\n",
       "      <td>STUD43709</td>\n",
       "      <td>0</td>\n",
       "      <td>0</td>\n",
       "      <td>1</td>\n",
       "      <td>0</td>\n",
       "      <td>NaN</td>\n",
       "    </tr>\n",
       "    <tr>\n",
       "      <th>89908</th>\n",
       "      <td>STUD21881</td>\n",
       "      <td>0</td>\n",
       "      <td>0</td>\n",
       "      <td>0</td>\n",
       "      <td>0</td>\n",
       "      <td>NaN</td>\n",
       "    </tr>\n",
       "    <tr>\n",
       "      <th>89909</th>\n",
       "      <td>STUD72037</td>\n",
       "      <td>16</td>\n",
       "      <td>1</td>\n",
       "      <td>1</td>\n",
       "      <td>0</td>\n",
       "      <td>Lékaři bez hranic</td>\n",
       "    </tr>\n",
       "    <tr>\n",
       "      <th>89910</th>\n",
       "      <td>STUD48405</td>\n",
       "      <td>996</td>\n",
       "      <td>1</td>\n",
       "      <td>1</td>\n",
       "      <td>0</td>\n",
       "      <td>Lékaři bez hranic</td>\n",
       "    </tr>\n",
       "  </tbody>\n",
       "</table>\n",
       "<p>89911 rows × 6 columns</p>\n",
       "</div>"
      ],
      "text/plain": [
       "            user  credits  is_active  is_verified  is_locked  \\\n",
       "0      STUD66006       25          1            1          0   \n",
       "1      STUD22095       51          1            1          0   \n",
       "2      STUD77411        0          1            1          1   \n",
       "3      STUD56329        0          1            0          0   \n",
       "4      STUD23516       30          1            1          0   \n",
       "...          ...      ...        ...          ...        ...   \n",
       "89906  STUD54678      789          1            1          0   \n",
       "89907  STUD43709        0          0            1          0   \n",
       "89908  STUD21881        0          0            0          0   \n",
       "89909  STUD72037       16          1            1          0   \n",
       "89910  STUD48405      996          1            1          0   \n",
       "\n",
       "                    wage  \n",
       "0                 Peníze  \n",
       "1                 Peníze  \n",
       "2                 Peníze  \n",
       "3                    NaN  \n",
       "4                 Peníze  \n",
       "...                  ...  \n",
       "89906             Peníze  \n",
       "89907                NaN  \n",
       "89908                NaN  \n",
       "89909  Lékaři bez hranic  \n",
       "89910  Lékaři bez hranic  \n",
       "\n",
       "[89911 rows x 6 columns]"
      ]
     },
     "execution_count": 47,
     "metadata": {},
     "output_type": "execute_result"
    }
   ],
   "source": [
    "df_credits # 2025-05-09"
   ]
  },
  {
   "cell_type": "code",
   "execution_count": 49,
   "metadata": {},
   "outputs": [
    {
     "data": {
      "text/html": [
       "<div>\n",
       "<style scoped>\n",
       "    .dataframe tbody tr th:only-of-type {\n",
       "        vertical-align: middle;\n",
       "    }\n",
       "\n",
       "    .dataframe tbody tr th {\n",
       "        vertical-align: top;\n",
       "    }\n",
       "\n",
       "    .dataframe thead th {\n",
       "        text-align: right;\n",
       "    }\n",
       "</style>\n",
       "<table border=\"1\" class=\"dataframe\">\n",
       "  <thead>\n",
       "    <tr style=\"text-align: right;\">\n",
       "      <th></th>\n",
       "      <th>id</th>\n",
       "      <th>created_at</th>\n",
       "      <th>changed_at</th>\n",
       "      <th>user</th>\n",
       "      <th>batch</th>\n",
       "      <th>credits</th>\n",
       "      <th>state</th>\n",
       "      <th>type</th>\n",
       "    </tr>\n",
       "  </thead>\n",
       "  <tbody>\n",
       "    <tr>\n",
       "      <th>0</th>\n",
       "      <td>30116.0</td>\n",
       "      <td>2025-04-07 10:32:05.073604+00:00</td>\n",
       "      <td>2025-04-07 10:32:05.073633+00:00</td>\n",
       "      <td>STUD83031</td>\n",
       "      <td>NaN</td>\n",
       "      <td>509.0</td>\n",
       "      <td>REQUEST</td>\n",
       "      <td>MONEY</td>\n",
       "    </tr>\n",
       "    <tr>\n",
       "      <th>1</th>\n",
       "      <td>30115.0</td>\n",
       "      <td>2025-04-07 10:30:09.304166+00:00</td>\n",
       "      <td>2025-04-07 10:30:09.304196+00:00</td>\n",
       "      <td>STUD356</td>\n",
       "      <td>NaN</td>\n",
       "      <td>538.0</td>\n",
       "      <td>REQUEST</td>\n",
       "      <td>MONEY</td>\n",
       "    </tr>\n",
       "    <tr>\n",
       "      <th>2</th>\n",
       "      <td>30114.0</td>\n",
       "      <td>2025-04-07 09:57:04.343935+00:00</td>\n",
       "      <td>2025-04-07 09:57:04.343985+00:00</td>\n",
       "      <td>STUD25955</td>\n",
       "      <td>NaN</td>\n",
       "      <td>542.0</td>\n",
       "      <td>REQUEST</td>\n",
       "      <td>MONEY</td>\n",
       "    </tr>\n",
       "    <tr>\n",
       "      <th>3</th>\n",
       "      <td>30113.0</td>\n",
       "      <td>2025-04-07 09:15:39.069868+00:00</td>\n",
       "      <td>2025-04-07 09:15:39.069910+00:00</td>\n",
       "      <td>STUD45618</td>\n",
       "      <td>NaN</td>\n",
       "      <td>501.0</td>\n",
       "      <td>REQUEST</td>\n",
       "      <td>MONEY</td>\n",
       "    </tr>\n",
       "    <tr>\n",
       "      <th>4</th>\n",
       "      <td>30112.0</td>\n",
       "      <td>2025-04-07 08:28:47.838506+00:00</td>\n",
       "      <td>2025-04-07 08:28:47.838578+00:00</td>\n",
       "      <td>STUD44458</td>\n",
       "      <td>NaN</td>\n",
       "      <td>504.0</td>\n",
       "      <td>REQUEST</td>\n",
       "      <td>MONEY</td>\n",
       "    </tr>\n",
       "    <tr>\n",
       "      <th>...</th>\n",
       "      <td>...</td>\n",
       "      <td>...</td>\n",
       "      <td>...</td>\n",
       "      <td>...</td>\n",
       "      <td>...</td>\n",
       "      <td>...</td>\n",
       "      <td>...</td>\n",
       "      <td>...</td>\n",
       "    </tr>\n",
       "    <tr>\n",
       "      <th>30082</th>\n",
       "      <td>34.0</td>\n",
       "      <td>2017-08-11 14:06:49.193910+00:00</td>\n",
       "      <td>2024-01-10 17:31:11.820777+00:00</td>\n",
       "      <td>STUD29324</td>\n",
       "      <td>5</td>\n",
       "      <td>511.0</td>\n",
       "      <td>PAID</td>\n",
       "      <td>MONEY</td>\n",
       "    </tr>\n",
       "    <tr>\n",
       "      <th>30083</th>\n",
       "      <td>33.0</td>\n",
       "      <td>2017-08-11 03:05:08.659811+00:00</td>\n",
       "      <td>2024-12-22 01:16:00.780947+00:00</td>\n",
       "      <td>NaN</td>\n",
       "      <td>NaN</td>\n",
       "      <td>536.0</td>\n",
       "      <td>PAID</td>\n",
       "      <td>CHILDHOOD_HOME</td>\n",
       "    </tr>\n",
       "    <tr>\n",
       "      <th>30084</th>\n",
       "      <td>32.0</td>\n",
       "      <td>2017-08-10 22:31:33.619685+00:00</td>\n",
       "      <td>2024-01-10 17:31:11.864003+00:00</td>\n",
       "      <td>NaN</td>\n",
       "      <td>NaN</td>\n",
       "      <td>506.0</td>\n",
       "      <td>PAID</td>\n",
       "      <td>TRENDARO</td>\n",
       "    </tr>\n",
       "    <tr>\n",
       "      <th>30085</th>\n",
       "      <td>31.0</td>\n",
       "      <td>2017-08-10 21:58:35.586238+00:00</td>\n",
       "      <td>2024-01-10 17:31:11.867765+00:00</td>\n",
       "      <td>STUD92308</td>\n",
       "      <td>NaN</td>\n",
       "      <td>511.0</td>\n",
       "      <td>PAID</td>\n",
       "      <td>MEDICINS_SANS_FRONTIERS</td>\n",
       "    </tr>\n",
       "    <tr>\n",
       "      <th>30086</th>\n",
       "      <td>30.0</td>\n",
       "      <td>2017-08-10 20:39:23.016652+00:00</td>\n",
       "      <td>2024-01-10 17:31:11.890678+00:00</td>\n",
       "      <td>STUD6753</td>\n",
       "      <td>5</td>\n",
       "      <td>516.0</td>\n",
       "      <td>PAID</td>\n",
       "      <td>MONEY</td>\n",
       "    </tr>\n",
       "  </tbody>\n",
       "</table>\n",
       "<p>30087 rows × 8 columns</p>\n",
       "</div>"
      ],
      "text/plain": [
       "            id                        created_at  \\\n",
       "0      30116.0  2025-04-07 10:32:05.073604+00:00   \n",
       "1      30115.0  2025-04-07 10:30:09.304166+00:00   \n",
       "2      30114.0  2025-04-07 09:57:04.343935+00:00   \n",
       "3      30113.0  2025-04-07 09:15:39.069868+00:00   \n",
       "4      30112.0  2025-04-07 08:28:47.838506+00:00   \n",
       "...        ...                               ...   \n",
       "30082     34.0  2017-08-11 14:06:49.193910+00:00   \n",
       "30083     33.0  2017-08-11 03:05:08.659811+00:00   \n",
       "30084     32.0  2017-08-10 22:31:33.619685+00:00   \n",
       "30085     31.0  2017-08-10 21:58:35.586238+00:00   \n",
       "30086     30.0  2017-08-10 20:39:23.016652+00:00   \n",
       "\n",
       "                             changed_at       user batch  credits    state  \\\n",
       "0      2025-04-07 10:32:05.073633+00:00  STUD83031   NaN    509.0  REQUEST   \n",
       "1      2025-04-07 10:30:09.304196+00:00    STUD356   NaN    538.0  REQUEST   \n",
       "2      2025-04-07 09:57:04.343985+00:00  STUD25955   NaN    542.0  REQUEST   \n",
       "3      2025-04-07 09:15:39.069910+00:00  STUD45618   NaN    501.0  REQUEST   \n",
       "4      2025-04-07 08:28:47.838578+00:00  STUD44458   NaN    504.0  REQUEST   \n",
       "...                                 ...        ...   ...      ...      ...   \n",
       "30082  2024-01-10 17:31:11.820777+00:00  STUD29324     5    511.0     PAID   \n",
       "30083  2024-12-22 01:16:00.780947+00:00        NaN   NaN    536.0     PAID   \n",
       "30084  2024-01-10 17:31:11.864003+00:00        NaN   NaN    506.0     PAID   \n",
       "30085  2024-01-10 17:31:11.867765+00:00  STUD92308   NaN    511.0     PAID   \n",
       "30086  2024-01-10 17:31:11.890678+00:00   STUD6753     5    516.0     PAID   \n",
       "\n",
       "                          type  \n",
       "0                        MONEY  \n",
       "1                        MONEY  \n",
       "2                        MONEY  \n",
       "3                        MONEY  \n",
       "4                        MONEY  \n",
       "...                        ...  \n",
       "30082                    MONEY  \n",
       "30083           CHILDHOOD_HOME  \n",
       "30084                 TRENDARO  \n",
       "30085  MEDICINS_SANS_FRONTIERS  \n",
       "30086                    MONEY  \n",
       "\n",
       "[30087 rows x 8 columns]"
      ]
     },
     "execution_count": 49,
     "metadata": {},
     "output_type": "execute_result"
    }
   ],
   "source": [
    "df_payments"
   ]
  },
  {
   "cell_type": "code",
   "execution_count": 48,
   "metadata": {},
   "outputs": [
    {
     "data": {
      "text/html": [
       "<div>\n",
       "<style scoped>\n",
       "    .dataframe tbody tr th:only-of-type {\n",
       "        vertical-align: middle;\n",
       "    }\n",
       "\n",
       "    .dataframe tbody tr th {\n",
       "        vertical-align: top;\n",
       "    }\n",
       "\n",
       "    .dataframe thead th {\n",
       "        text-align: right;\n",
       "    }\n",
       "</style>\n",
       "<table border=\"1\" class=\"dataframe\">\n",
       "  <thead>\n",
       "    <tr style=\"text-align: right;\">\n",
       "      <th></th>\n",
       "      <th>user_id</th>\n",
       "      <th>all_intro-2022</th>\n",
       "      <th>atlas_vzorek-2023</th>\n",
       "      <th>atlas_vzorek-2024</th>\n",
       "      <th>all_intro-trendaro_panel_all</th>\n",
       "      <th>sex-woman</th>\n",
       "      <th>sex-man</th>\n",
       "      <th>age-15_17</th>\n",
       "      <th>age-18_24</th>\n",
       "      <th>age-25_34</th>\n",
       "      <th>...</th>\n",
       "      <th>check-tv</th>\n",
       "      <th>check-radio</th>\n",
       "      <th>check-household</th>\n",
       "      <th>check-overdraft</th>\n",
       "      <th>check-naramek</th>\n",
       "      <th>isic2_age-21_26</th>\n",
       "      <th>isic2_age-15_20</th>\n",
       "      <th>isic_age-15_17</th>\n",
       "      <th>isic_age-18_22</th>\n",
       "      <th>isic_age-23_26</th>\n",
       "    </tr>\n",
       "  </thead>\n",
       "  <tbody>\n",
       "    <tr>\n",
       "      <th>0</th>\n",
       "      <td>STUD29866</td>\n",
       "      <td>0</td>\n",
       "      <td>0</td>\n",
       "      <td>0</td>\n",
       "      <td>1</td>\n",
       "      <td>1</td>\n",
       "      <td>0</td>\n",
       "      <td>1</td>\n",
       "      <td>0</td>\n",
       "      <td>0</td>\n",
       "      <td>...</td>\n",
       "      <td>0</td>\n",
       "      <td>0</td>\n",
       "      <td>0</td>\n",
       "      <td>0</td>\n",
       "      <td>0</td>\n",
       "      <td>0</td>\n",
       "      <td>1</td>\n",
       "      <td>1</td>\n",
       "      <td>0</td>\n",
       "      <td>0</td>\n",
       "    </tr>\n",
       "    <tr>\n",
       "      <th>1</th>\n",
       "      <td>STUD35256</td>\n",
       "      <td>0</td>\n",
       "      <td>0</td>\n",
       "      <td>0</td>\n",
       "      <td>0</td>\n",
       "      <td>0</td>\n",
       "      <td>0</td>\n",
       "      <td>0</td>\n",
       "      <td>0</td>\n",
       "      <td>0</td>\n",
       "      <td>...</td>\n",
       "      <td>0</td>\n",
       "      <td>0</td>\n",
       "      <td>0</td>\n",
       "      <td>0</td>\n",
       "      <td>0</td>\n",
       "      <td>0</td>\n",
       "      <td>0</td>\n",
       "      <td>0</td>\n",
       "      <td>0</td>\n",
       "      <td>0</td>\n",
       "    </tr>\n",
       "    <tr>\n",
       "      <th>2</th>\n",
       "      <td>STUD29684</td>\n",
       "      <td>0</td>\n",
       "      <td>0</td>\n",
       "      <td>0</td>\n",
       "      <td>1</td>\n",
       "      <td>0</td>\n",
       "      <td>1</td>\n",
       "      <td>0</td>\n",
       "      <td>0</td>\n",
       "      <td>0</td>\n",
       "      <td>...</td>\n",
       "      <td>0</td>\n",
       "      <td>0</td>\n",
       "      <td>0</td>\n",
       "      <td>0</td>\n",
       "      <td>0</td>\n",
       "      <td>0</td>\n",
       "      <td>0</td>\n",
       "      <td>0</td>\n",
       "      <td>0</td>\n",
       "      <td>0</td>\n",
       "    </tr>\n",
       "    <tr>\n",
       "      <th>3</th>\n",
       "      <td>STUD11967</td>\n",
       "      <td>0</td>\n",
       "      <td>0</td>\n",
       "      <td>0</td>\n",
       "      <td>1</td>\n",
       "      <td>1</td>\n",
       "      <td>0</td>\n",
       "      <td>0</td>\n",
       "      <td>0</td>\n",
       "      <td>1</td>\n",
       "      <td>...</td>\n",
       "      <td>0</td>\n",
       "      <td>0</td>\n",
       "      <td>0</td>\n",
       "      <td>0</td>\n",
       "      <td>0</td>\n",
       "      <td>1</td>\n",
       "      <td>0</td>\n",
       "      <td>0</td>\n",
       "      <td>0</td>\n",
       "      <td>1</td>\n",
       "    </tr>\n",
       "    <tr>\n",
       "      <th>4</th>\n",
       "      <td>STUD57644</td>\n",
       "      <td>0</td>\n",
       "      <td>0</td>\n",
       "      <td>0</td>\n",
       "      <td>1</td>\n",
       "      <td>0</td>\n",
       "      <td>1</td>\n",
       "      <td>0</td>\n",
       "      <td>0</td>\n",
       "      <td>0</td>\n",
       "      <td>...</td>\n",
       "      <td>0</td>\n",
       "      <td>0</td>\n",
       "      <td>0</td>\n",
       "      <td>0</td>\n",
       "      <td>0</td>\n",
       "      <td>0</td>\n",
       "      <td>0</td>\n",
       "      <td>0</td>\n",
       "      <td>0</td>\n",
       "      <td>0</td>\n",
       "    </tr>\n",
       "    <tr>\n",
       "      <th>...</th>\n",
       "      <td>...</td>\n",
       "      <td>...</td>\n",
       "      <td>...</td>\n",
       "      <td>...</td>\n",
       "      <td>...</td>\n",
       "      <td>...</td>\n",
       "      <td>...</td>\n",
       "      <td>...</td>\n",
       "      <td>...</td>\n",
       "      <td>...</td>\n",
       "      <td>...</td>\n",
       "      <td>...</td>\n",
       "      <td>...</td>\n",
       "      <td>...</td>\n",
       "      <td>...</td>\n",
       "      <td>...</td>\n",
       "      <td>...</td>\n",
       "      <td>...</td>\n",
       "      <td>...</td>\n",
       "      <td>...</td>\n",
       "      <td>...</td>\n",
       "    </tr>\n",
       "    <tr>\n",
       "      <th>43528</th>\n",
       "      <td>STUD33520</td>\n",
       "      <td>0</td>\n",
       "      <td>0</td>\n",
       "      <td>0</td>\n",
       "      <td>1</td>\n",
       "      <td>1</td>\n",
       "      <td>0</td>\n",
       "      <td>0</td>\n",
       "      <td>0</td>\n",
       "      <td>0</td>\n",
       "      <td>...</td>\n",
       "      <td>0</td>\n",
       "      <td>0</td>\n",
       "      <td>0</td>\n",
       "      <td>0</td>\n",
       "      <td>0</td>\n",
       "      <td>0</td>\n",
       "      <td>0</td>\n",
       "      <td>0</td>\n",
       "      <td>0</td>\n",
       "      <td>0</td>\n",
       "    </tr>\n",
       "    <tr>\n",
       "      <th>43529</th>\n",
       "      <td>STUD64071</td>\n",
       "      <td>0</td>\n",
       "      <td>0</td>\n",
       "      <td>0</td>\n",
       "      <td>1</td>\n",
       "      <td>0</td>\n",
       "      <td>1</td>\n",
       "      <td>0</td>\n",
       "      <td>0</td>\n",
       "      <td>0</td>\n",
       "      <td>...</td>\n",
       "      <td>0</td>\n",
       "      <td>0</td>\n",
       "      <td>0</td>\n",
       "      <td>0</td>\n",
       "      <td>0</td>\n",
       "      <td>0</td>\n",
       "      <td>0</td>\n",
       "      <td>0</td>\n",
       "      <td>0</td>\n",
       "      <td>0</td>\n",
       "    </tr>\n",
       "    <tr>\n",
       "      <th>43530</th>\n",
       "      <td>STUD82916</td>\n",
       "      <td>1</td>\n",
       "      <td>1</td>\n",
       "      <td>1</td>\n",
       "      <td>1</td>\n",
       "      <td>0</td>\n",
       "      <td>1</td>\n",
       "      <td>0</td>\n",
       "      <td>0</td>\n",
       "      <td>0</td>\n",
       "      <td>...</td>\n",
       "      <td>0</td>\n",
       "      <td>0</td>\n",
       "      <td>0</td>\n",
       "      <td>0</td>\n",
       "      <td>0</td>\n",
       "      <td>0</td>\n",
       "      <td>0</td>\n",
       "      <td>0</td>\n",
       "      <td>0</td>\n",
       "      <td>0</td>\n",
       "    </tr>\n",
       "    <tr>\n",
       "      <th>43531</th>\n",
       "      <td>STUD63130</td>\n",
       "      <td>0</td>\n",
       "      <td>0</td>\n",
       "      <td>0</td>\n",
       "      <td>0</td>\n",
       "      <td>0</td>\n",
       "      <td>0</td>\n",
       "      <td>0</td>\n",
       "      <td>0</td>\n",
       "      <td>0</td>\n",
       "      <td>...</td>\n",
       "      <td>0</td>\n",
       "      <td>0</td>\n",
       "      <td>0</td>\n",
       "      <td>0</td>\n",
       "      <td>0</td>\n",
       "      <td>0</td>\n",
       "      <td>0</td>\n",
       "      <td>0</td>\n",
       "      <td>0</td>\n",
       "      <td>0</td>\n",
       "    </tr>\n",
       "    <tr>\n",
       "      <th>43532</th>\n",
       "      <td>STUD56842</td>\n",
       "      <td>0</td>\n",
       "      <td>0</td>\n",
       "      <td>0</td>\n",
       "      <td>1</td>\n",
       "      <td>0</td>\n",
       "      <td>1</td>\n",
       "      <td>0</td>\n",
       "      <td>0</td>\n",
       "      <td>0</td>\n",
       "      <td>...</td>\n",
       "      <td>0</td>\n",
       "      <td>0</td>\n",
       "      <td>0</td>\n",
       "      <td>0</td>\n",
       "      <td>0</td>\n",
       "      <td>0</td>\n",
       "      <td>0</td>\n",
       "      <td>0</td>\n",
       "      <td>0</td>\n",
       "      <td>0</td>\n",
       "    </tr>\n",
       "  </tbody>\n",
       "</table>\n",
       "<p>43533 rows × 1121 columns</p>\n",
       "</div>"
      ],
      "text/plain": [
       "         user_id  all_intro-2022  atlas_vzorek-2023  atlas_vzorek-2024  \\\n",
       "0      STUD29866               0                  0                  0   \n",
       "1      STUD35256               0                  0                  0   \n",
       "2      STUD29684               0                  0                  0   \n",
       "3      STUD11967               0                  0                  0   \n",
       "4      STUD57644               0                  0                  0   \n",
       "...          ...             ...                ...                ...   \n",
       "43528  STUD33520               0                  0                  0   \n",
       "43529  STUD64071               0                  0                  0   \n",
       "43530  STUD82916               1                  1                  1   \n",
       "43531  STUD63130               0                  0                  0   \n",
       "43532  STUD56842               0                  0                  0   \n",
       "\n",
       "       all_intro-trendaro_panel_all  sex-woman  sex-man  age-15_17  age-18_24  \\\n",
       "0                                 1          1        0          1          0   \n",
       "1                                 0          0        0          0          0   \n",
       "2                                 1          0        1          0          0   \n",
       "3                                 1          1        0          0          0   \n",
       "4                                 1          0        1          0          0   \n",
       "...                             ...        ...      ...        ...        ...   \n",
       "43528                             1          1        0          0          0   \n",
       "43529                             1          0        1          0          0   \n",
       "43530                             1          0        1          0          0   \n",
       "43531                             0          0        0          0          0   \n",
       "43532                             1          0        1          0          0   \n",
       "\n",
       "       age-25_34  ...  check-tv  check-radio  check-household  \\\n",
       "0              0  ...         0            0                0   \n",
       "1              0  ...         0            0                0   \n",
       "2              0  ...         0            0                0   \n",
       "3              1  ...         0            0                0   \n",
       "4              0  ...         0            0                0   \n",
       "...          ...  ...       ...          ...              ...   \n",
       "43528          0  ...         0            0                0   \n",
       "43529          0  ...         0            0                0   \n",
       "43530          0  ...         0            0                0   \n",
       "43531          0  ...         0            0                0   \n",
       "43532          0  ...         0            0                0   \n",
       "\n",
       "       check-overdraft  check-naramek  isic2_age-21_26  isic2_age-15_20  \\\n",
       "0                    0              0                0                1   \n",
       "1                    0              0                0                0   \n",
       "2                    0              0                0                0   \n",
       "3                    0              0                1                0   \n",
       "4                    0              0                0                0   \n",
       "...                ...            ...              ...              ...   \n",
       "43528                0              0                0                0   \n",
       "43529                0              0                0                0   \n",
       "43530                0              0                0                0   \n",
       "43531                0              0                0                0   \n",
       "43532                0              0                0                0   \n",
       "\n",
       "       isic_age-15_17  isic_age-18_22  isic_age-23_26  \n",
       "0                   1               0               0  \n",
       "1                   0               0               0  \n",
       "2                   0               0               0  \n",
       "3                   0               0               1  \n",
       "4                   0               0               0  \n",
       "...               ...             ...             ...  \n",
       "43528               0               0               0  \n",
       "43529               0               0               0  \n",
       "43530               0               0               0  \n",
       "43531               0               0               0  \n",
       "43532               0               0               0  \n",
       "\n",
       "[43533 rows x 1121 columns]"
      ]
     },
     "execution_count": 48,
     "metadata": {},
     "output_type": "execute_result"
    }
   ],
   "source": [
    "df_atlas"
   ]
  },
  {
   "cell_type": "code",
   "execution_count": 46,
   "metadata": {},
   "outputs": [
    {
     "data": {
      "text/html": [
       "<div>\n",
       "<style scoped>\n",
       "    .dataframe tbody tr th:only-of-type {\n",
       "        vertical-align: middle;\n",
       "    }\n",
       "\n",
       "    .dataframe tbody tr th {\n",
       "        vertical-align: top;\n",
       "    }\n",
       "\n",
       "    .dataframe thead th {\n",
       "        text-align: right;\n",
       "    }\n",
       "</style>\n",
       "<table border=\"1\" class=\"dataframe\">\n",
       "  <thead>\n",
       "    <tr style=\"text-align: right;\">\n",
       "      <th></th>\n",
       "      <th>id</th>\n",
       "      <th>created_at</th>\n",
       "      <th>changed_at</th>\n",
       "      <th>user</th>\n",
       "      <th>batch</th>\n",
       "      <th>credits_payments</th>\n",
       "      <th>state</th>\n",
       "      <th>type</th>\n",
       "      <th>credits_credits</th>\n",
       "      <th>is_active</th>\n",
       "      <th>...</th>\n",
       "      <th>check-tv</th>\n",
       "      <th>check-radio</th>\n",
       "      <th>check-household</th>\n",
       "      <th>check-overdraft</th>\n",
       "      <th>check-naramek</th>\n",
       "      <th>isic2_age-21_26</th>\n",
       "      <th>isic2_age-15_20</th>\n",
       "      <th>isic_age-15_17</th>\n",
       "      <th>isic_age-18_22</th>\n",
       "      <th>isic_age-23_26</th>\n",
       "    </tr>\n",
       "  </thead>\n",
       "  <tbody>\n",
       "    <tr>\n",
       "      <th>0</th>\n",
       "      <td>30111.0</td>\n",
       "      <td>2025-04-07 08:15:22.413705+00:00</td>\n",
       "      <td>2025-04-07 08:15:22.413748+00:00</td>\n",
       "      <td>STUD57557</td>\n",
       "      <td>NaN</td>\n",
       "      <td>526.0</td>\n",
       "      <td>REQUEST</td>\n",
       "      <td>MONEY</td>\n",
       "      <td>7</td>\n",
       "      <td>1</td>\n",
       "      <td>...</td>\n",
       "      <td>0</td>\n",
       "      <td>0</td>\n",
       "      <td>0</td>\n",
       "      <td>0</td>\n",
       "      <td>0</td>\n",
       "      <td>0</td>\n",
       "      <td>0</td>\n",
       "      <td>0</td>\n",
       "      <td>0</td>\n",
       "      <td>0</td>\n",
       "    </tr>\n",
       "    <tr>\n",
       "      <th>1</th>\n",
       "      <td>30106.0</td>\n",
       "      <td>2025-04-07 07:19:29.931848+00:00</td>\n",
       "      <td>2025-04-07 07:19:29.931894+00:00</td>\n",
       "      <td>STUD89495</td>\n",
       "      <td>NaN</td>\n",
       "      <td>501.0</td>\n",
       "      <td>REQUEST</td>\n",
       "      <td>MONEY</td>\n",
       "      <td>17</td>\n",
       "      <td>1</td>\n",
       "      <td>...</td>\n",
       "      <td>0</td>\n",
       "      <td>0</td>\n",
       "      <td>0</td>\n",
       "      <td>0</td>\n",
       "      <td>0</td>\n",
       "      <td>0</td>\n",
       "      <td>0</td>\n",
       "      <td>0</td>\n",
       "      <td>0</td>\n",
       "      <td>0</td>\n",
       "    </tr>\n",
       "    <tr>\n",
       "      <th>2</th>\n",
       "      <td>30099.0</td>\n",
       "      <td>2025-04-06 17:33:35.856134+00:00</td>\n",
       "      <td>2025-04-06 17:33:35.856178+00:00</td>\n",
       "      <td>STUD38916</td>\n",
       "      <td>NaN</td>\n",
       "      <td>506.0</td>\n",
       "      <td>REQUEST</td>\n",
       "      <td>MONEY</td>\n",
       "      <td>7</td>\n",
       "      <td>1</td>\n",
       "      <td>...</td>\n",
       "      <td>0</td>\n",
       "      <td>0</td>\n",
       "      <td>0</td>\n",
       "      <td>0</td>\n",
       "      <td>0</td>\n",
       "      <td>0</td>\n",
       "      <td>0</td>\n",
       "      <td>0</td>\n",
       "      <td>0</td>\n",
       "      <td>0</td>\n",
       "    </tr>\n",
       "    <tr>\n",
       "      <th>3</th>\n",
       "      <td>30091.0</td>\n",
       "      <td>2025-04-06 11:05:27.702810+00:00</td>\n",
       "      <td>2025-04-06 11:05:27.702850+00:00</td>\n",
       "      <td>STUD1317</td>\n",
       "      <td>NaN</td>\n",
       "      <td>500.0</td>\n",
       "      <td>REQUEST</td>\n",
       "      <td>MONEY</td>\n",
       "      <td>7</td>\n",
       "      <td>1</td>\n",
       "      <td>...</td>\n",
       "      <td>0</td>\n",
       "      <td>0</td>\n",
       "      <td>0</td>\n",
       "      <td>0</td>\n",
       "      <td>0</td>\n",
       "      <td>1</td>\n",
       "      <td>0</td>\n",
       "      <td>0</td>\n",
       "      <td>0</td>\n",
       "      <td>1</td>\n",
       "    </tr>\n",
       "    <tr>\n",
       "      <th>4</th>\n",
       "      <td>30088.0</td>\n",
       "      <td>2025-04-06 09:21:34.481241+00:00</td>\n",
       "      <td>2025-04-06 09:21:34.481292+00:00</td>\n",
       "      <td>STUD73522</td>\n",
       "      <td>NaN</td>\n",
       "      <td>506.0</td>\n",
       "      <td>REQUEST</td>\n",
       "      <td>MONEY</td>\n",
       "      <td>7</td>\n",
       "      <td>1</td>\n",
       "      <td>...</td>\n",
       "      <td>0</td>\n",
       "      <td>0</td>\n",
       "      <td>0</td>\n",
       "      <td>0</td>\n",
       "      <td>0</td>\n",
       "      <td>0</td>\n",
       "      <td>0</td>\n",
       "      <td>0</td>\n",
       "      <td>0</td>\n",
       "      <td>0</td>\n",
       "    </tr>\n",
       "    <tr>\n",
       "      <th>...</th>\n",
       "      <td>...</td>\n",
       "      <td>...</td>\n",
       "      <td>...</td>\n",
       "      <td>...</td>\n",
       "      <td>...</td>\n",
       "      <td>...</td>\n",
       "      <td>...</td>\n",
       "      <td>...</td>\n",
       "      <td>...</td>\n",
       "      <td>...</td>\n",
       "      <td>...</td>\n",
       "      <td>...</td>\n",
       "      <td>...</td>\n",
       "      <td>...</td>\n",
       "      <td>...</td>\n",
       "      <td>...</td>\n",
       "      <td>...</td>\n",
       "      <td>...</td>\n",
       "      <td>...</td>\n",
       "      <td>...</td>\n",
       "      <td>...</td>\n",
       "    </tr>\n",
       "    <tr>\n",
       "      <th>26023</th>\n",
       "      <td>36.0</td>\n",
       "      <td>2017-08-11 14:55:18.396493+00:00</td>\n",
       "      <td>2024-01-10 17:31:11.782802+00:00</td>\n",
       "      <td>STUD49275</td>\n",
       "      <td>5</td>\n",
       "      <td>506.0</td>\n",
       "      <td>PAID</td>\n",
       "      <td>MONEY</td>\n",
       "      <td>741</td>\n",
       "      <td>1</td>\n",
       "      <td>...</td>\n",
       "      <td>0</td>\n",
       "      <td>0</td>\n",
       "      <td>0</td>\n",
       "      <td>0</td>\n",
       "      <td>0</td>\n",
       "      <td>0</td>\n",
       "      <td>0</td>\n",
       "      <td>0</td>\n",
       "      <td>0</td>\n",
       "      <td>0</td>\n",
       "    </tr>\n",
       "    <tr>\n",
       "      <th>26024</th>\n",
       "      <td>35.0</td>\n",
       "      <td>2017-08-11 14:54:35.456650+00:00</td>\n",
       "      <td>2024-01-10 17:31:11.801715+00:00</td>\n",
       "      <td>STUD53465</td>\n",
       "      <td>5</td>\n",
       "      <td>523.0</td>\n",
       "      <td>PAID</td>\n",
       "      <td>MONEY</td>\n",
       "      <td>127</td>\n",
       "      <td>1</td>\n",
       "      <td>...</td>\n",
       "      <td>0</td>\n",
       "      <td>0</td>\n",
       "      <td>0</td>\n",
       "      <td>0</td>\n",
       "      <td>0</td>\n",
       "      <td>0</td>\n",
       "      <td>0</td>\n",
       "      <td>0</td>\n",
       "      <td>0</td>\n",
       "      <td>0</td>\n",
       "    </tr>\n",
       "    <tr>\n",
       "      <th>26025</th>\n",
       "      <td>34.0</td>\n",
       "      <td>2017-08-11 14:06:49.193910+00:00</td>\n",
       "      <td>2024-01-10 17:31:11.820777+00:00</td>\n",
       "      <td>STUD29324</td>\n",
       "      <td>5</td>\n",
       "      <td>511.0</td>\n",
       "      <td>PAID</td>\n",
       "      <td>MONEY</td>\n",
       "      <td>313</td>\n",
       "      <td>1</td>\n",
       "      <td>...</td>\n",
       "      <td>0</td>\n",
       "      <td>0</td>\n",
       "      <td>0</td>\n",
       "      <td>0</td>\n",
       "      <td>0</td>\n",
       "      <td>0</td>\n",
       "      <td>0</td>\n",
       "      <td>0</td>\n",
       "      <td>0</td>\n",
       "      <td>0</td>\n",
       "    </tr>\n",
       "    <tr>\n",
       "      <th>26026</th>\n",
       "      <td>31.0</td>\n",
       "      <td>2017-08-10 21:58:35.586238+00:00</td>\n",
       "      <td>2024-01-10 17:31:11.867765+00:00</td>\n",
       "      <td>STUD92308</td>\n",
       "      <td>NaN</td>\n",
       "      <td>511.0</td>\n",
       "      <td>PAID</td>\n",
       "      <td>MEDICINS_SANS_FRONTIERS</td>\n",
       "      <td>295</td>\n",
       "      <td>1</td>\n",
       "      <td>...</td>\n",
       "      <td>0</td>\n",
       "      <td>0</td>\n",
       "      <td>0</td>\n",
       "      <td>0</td>\n",
       "      <td>0</td>\n",
       "      <td>0</td>\n",
       "      <td>0</td>\n",
       "      <td>0</td>\n",
       "      <td>0</td>\n",
       "      <td>0</td>\n",
       "    </tr>\n",
       "    <tr>\n",
       "      <th>26027</th>\n",
       "      <td>30.0</td>\n",
       "      <td>2017-08-10 20:39:23.016652+00:00</td>\n",
       "      <td>2024-01-10 17:31:11.890678+00:00</td>\n",
       "      <td>STUD6753</td>\n",
       "      <td>5</td>\n",
       "      <td>516.0</td>\n",
       "      <td>PAID</td>\n",
       "      <td>MONEY</td>\n",
       "      <td>61</td>\n",
       "      <td>1</td>\n",
       "      <td>...</td>\n",
       "      <td>0</td>\n",
       "      <td>0</td>\n",
       "      <td>0</td>\n",
       "      <td>0</td>\n",
       "      <td>0</td>\n",
       "      <td>0</td>\n",
       "      <td>0</td>\n",
       "      <td>0</td>\n",
       "      <td>0</td>\n",
       "      <td>0</td>\n",
       "    </tr>\n",
       "  </tbody>\n",
       "</table>\n",
       "<p>26028 rows × 1134 columns</p>\n",
       "</div>"
      ],
      "text/plain": [
       "            id                        created_at  \\\n",
       "0      30111.0  2025-04-07 08:15:22.413705+00:00   \n",
       "1      30106.0  2025-04-07 07:19:29.931848+00:00   \n",
       "2      30099.0  2025-04-06 17:33:35.856134+00:00   \n",
       "3      30091.0  2025-04-06 11:05:27.702810+00:00   \n",
       "4      30088.0  2025-04-06 09:21:34.481241+00:00   \n",
       "...        ...                               ...   \n",
       "26023     36.0  2017-08-11 14:55:18.396493+00:00   \n",
       "26024     35.0  2017-08-11 14:54:35.456650+00:00   \n",
       "26025     34.0  2017-08-11 14:06:49.193910+00:00   \n",
       "26026     31.0  2017-08-10 21:58:35.586238+00:00   \n",
       "26027     30.0  2017-08-10 20:39:23.016652+00:00   \n",
       "\n",
       "                             changed_at       user batch  credits_payments  \\\n",
       "0      2025-04-07 08:15:22.413748+00:00  STUD57557   NaN             526.0   \n",
       "1      2025-04-07 07:19:29.931894+00:00  STUD89495   NaN             501.0   \n",
       "2      2025-04-06 17:33:35.856178+00:00  STUD38916   NaN             506.0   \n",
       "3      2025-04-06 11:05:27.702850+00:00   STUD1317   NaN             500.0   \n",
       "4      2025-04-06 09:21:34.481292+00:00  STUD73522   NaN             506.0   \n",
       "...                                 ...        ...   ...               ...   \n",
       "26023  2024-01-10 17:31:11.782802+00:00  STUD49275     5             506.0   \n",
       "26024  2024-01-10 17:31:11.801715+00:00  STUD53465     5             523.0   \n",
       "26025  2024-01-10 17:31:11.820777+00:00  STUD29324     5             511.0   \n",
       "26026  2024-01-10 17:31:11.867765+00:00  STUD92308   NaN             511.0   \n",
       "26027  2024-01-10 17:31:11.890678+00:00   STUD6753     5             516.0   \n",
       "\n",
       "         state                     type  credits_credits  is_active  ...  \\\n",
       "0      REQUEST                    MONEY                7          1  ...   \n",
       "1      REQUEST                    MONEY               17          1  ...   \n",
       "2      REQUEST                    MONEY                7          1  ...   \n",
       "3      REQUEST                    MONEY                7          1  ...   \n",
       "4      REQUEST                    MONEY                7          1  ...   \n",
       "...        ...                      ...              ...        ...  ...   \n",
       "26023     PAID                    MONEY              741          1  ...   \n",
       "26024     PAID                    MONEY              127          1  ...   \n",
       "26025     PAID                    MONEY              313          1  ...   \n",
       "26026     PAID  MEDICINS_SANS_FRONTIERS              295          1  ...   \n",
       "26027     PAID                    MONEY               61          1  ...   \n",
       "\n",
       "       check-tv  check-radio check-household check-overdraft  check-naramek  \\\n",
       "0             0            0               0               0              0   \n",
       "1             0            0               0               0              0   \n",
       "2             0            0               0               0              0   \n",
       "3             0            0               0               0              0   \n",
       "4             0            0               0               0              0   \n",
       "...         ...          ...             ...             ...            ...   \n",
       "26023         0            0               0               0              0   \n",
       "26024         0            0               0               0              0   \n",
       "26025         0            0               0               0              0   \n",
       "26026         0            0               0               0              0   \n",
       "26027         0            0               0               0              0   \n",
       "\n",
       "       isic2_age-21_26  isic2_age-15_20  isic_age-15_17  isic_age-18_22  \\\n",
       "0                    0                0               0               0   \n",
       "1                    0                0               0               0   \n",
       "2                    0                0               0               0   \n",
       "3                    1                0               0               0   \n",
       "4                    0                0               0               0   \n",
       "...                ...              ...             ...             ...   \n",
       "26023                0                0               0               0   \n",
       "26024                0                0               0               0   \n",
       "26025                0                0               0               0   \n",
       "26026                0                0               0               0   \n",
       "26027                0                0               0               0   \n",
       "\n",
       "       isic_age-23_26  \n",
       "0                   0  \n",
       "1                   0  \n",
       "2                   0  \n",
       "3                   1  \n",
       "4                   0  \n",
       "...               ...  \n",
       "26023               0  \n",
       "26024               0  \n",
       "26025               0  \n",
       "26026               0  \n",
       "26027               0  \n",
       "\n",
       "[26028 rows x 1134 columns]"
      ]
     },
     "execution_count": 46,
     "metadata": {},
     "output_type": "execute_result"
    }
   ],
   "source": [
    "df_merge_full.rename(columns={'credits_x':'credits_payments', 'credits_y':'credits_credits'})"
   ]
  },
  {
   "cell_type": "code",
   "execution_count": 9,
   "metadata": {},
   "outputs": [],
   "source": [
    "df_merge_full.to_csv('../data_output/df_merge_full.csv')"
   ]
  },
  {
   "cell_type": "markdown",
   "metadata": {},
   "source": [
    "# Modeling"
   ]
  },
  {
   "cell_type": "code",
   "execution_count": 24,
   "metadata": {},
   "outputs": [],
   "source": [
    "import catboost\n",
    "from sklearn.model_selection import train_test_split\n",
    "import seaborn as sns\n",
    "import matplotlib.pyplot as plt"
   ]
  },
  {
   "cell_type": "code",
   "execution_count": 13,
   "metadata": {},
   "outputs": [
    {
     "data": {
      "image/png": "[encoded data removed]",
      "text/plain": [
       "<Figure size 1000x800 with 2 Axes>"
      ]
     },
     "metadata": {},
     "output_type": "display_data"
    }
   ],
   "source": [
    "numeric_df = df_merge_full.select_dtypes(include=[np.number])\n",
    "correlation_matrix = numeric_df.corr()\n",
    "\n",
    "plt.figure(figsize=(10, 8))\n",
    "sns.heatmap(correlation_matrix, annot=True, cmap='coolwarm')\n",
    "plt.title('Correlation Matrix')\n",
    "plt.show()\n",
    "\n",
    "# There are fucking over 1000 attributes - no way this could ever work"
   ]
  },
  {
   "cell_type": "code",
   "execution_count": 37,
   "metadata": {},
   "outputs": [
    {
     "name": "stdout",
     "output_type": "stream",
     "text": [
      "<class 'pandas.core.frame.DataFrame'>\n",
      "RangeIndex: 26028 entries, 0 to 26027\n",
      "Data columns (total 2 columns):\n",
      " #   Column   Non-Null Count  Dtype \n",
      "---  ------   --------------  ----- \n",
      " 0   user     26028 non-null  object\n",
      " 1   user_id  26028 non-null  object\n",
      "dtypes: object(2)\n",
      "memory usage: 406.8+ KB\n"
     ]
    }
   ],
   "source": [
    "df_merge_full[['user', 'user_id']].info()"
   ]
  },
  {
   "cell_type": "code",
   "execution_count": 44,
   "metadata": {},
   "outputs": [
    {
     "data": {
      "text/plain": [
       "{'APPROVED', 'CANCELLED', 'PAID', 'REQUEST'}"
      ]
     },
     "execution_count": 44,
     "metadata": {},
     "output_type": "execute_result"
    }
   ],
   "source": [
    "set(df_merge_full['state'])"
   ]
  },
  {
   "cell_type": "code",
   "execution_count": 57,
   "metadata": {},
   "outputs": [],
   "source": [
    "df_merge_full['withdrawal_intensity'] = df_merge_full.groupby('user_id')['created_at'].transform(lambda x: len(x))"
   ]
  },
  {
   "cell_type": "code",
   "execution_count": 60,
   "metadata": {},
   "outputs": [
    {
     "data": {
      "text/html": [
       "<div>\n",
       "<style scoped>\n",
       "    .dataframe tbody tr th:only-of-type {\n",
       "        vertical-align: middle;\n",
       "    }\n",
       "\n",
       "    .dataframe tbody tr th {\n",
       "        vertical-align: top;\n",
       "    }\n",
       "\n",
       "    .dataframe thead th {\n",
       "        text-align: right;\n",
       "    }\n",
       "</style>\n",
       "<table border=\"1\" class=\"dataframe\">\n",
       "  <thead>\n",
       "    <tr style=\"text-align: right;\">\n",
       "      <th></th>\n",
       "      <th>id</th>\n",
       "      <th>created_at</th>\n",
       "      <th>changed_at</th>\n",
       "      <th>user</th>\n",
       "      <th>batch</th>\n",
       "      <th>credits</th>\n",
       "      <th>state</th>\n",
       "      <th>type</th>\n",
       "      <th>user_id</th>\n",
       "      <th>all_intro-2022</th>\n",
       "      <th>...</th>\n",
       "      <th>check-radio</th>\n",
       "      <th>check-household</th>\n",
       "      <th>check-overdraft</th>\n",
       "      <th>check-naramek</th>\n",
       "      <th>isic2_age-21_26</th>\n",
       "      <th>isic2_age-15_20</th>\n",
       "      <th>isic_age-15_17</th>\n",
       "      <th>isic_age-18_22</th>\n",
       "      <th>isic_age-23_26</th>\n",
       "      <th>withdrawal_intensity</th>\n",
       "    </tr>\n",
       "  </thead>\n",
       "  <tbody>\n",
       "    <tr>\n",
       "      <th>0</th>\n",
       "      <td>30116.0</td>\n",
       "      <td>2025-04-07 10:32:05.073604+00:00</td>\n",
       "      <td>2025-04-07 10:32:05.073633+00:00</td>\n",
       "      <td>STUD83031</td>\n",
       "      <td>NaN</td>\n",
       "      <td>509.0</td>\n",
       "      <td>REQUEST</td>\n",
       "      <td>MONEY</td>\n",
       "      <td>STUD83031</td>\n",
       "      <td>1</td>\n",
       "      <td>...</td>\n",
       "      <td>0</td>\n",
       "      <td>0</td>\n",
       "      <td>0</td>\n",
       "      <td>0</td>\n",
       "      <td>0</td>\n",
       "      <td>0</td>\n",
       "      <td>0</td>\n",
       "      <td>0</td>\n",
       "      <td>0</td>\n",
       "      <td>1</td>\n",
       "    </tr>\n",
       "    <tr>\n",
       "      <th>1</th>\n",
       "      <td>30115.0</td>\n",
       "      <td>2025-04-07 10:30:09.304166+00:00</td>\n",
       "      <td>2025-04-07 10:30:09.304196+00:00</td>\n",
       "      <td>STUD356</td>\n",
       "      <td>NaN</td>\n",
       "      <td>538.0</td>\n",
       "      <td>REQUEST</td>\n",
       "      <td>MONEY</td>\n",
       "      <td>STUD356</td>\n",
       "      <td>1</td>\n",
       "      <td>...</td>\n",
       "      <td>0</td>\n",
       "      <td>0</td>\n",
       "      <td>0</td>\n",
       "      <td>0</td>\n",
       "      <td>0</td>\n",
       "      <td>0</td>\n",
       "      <td>0</td>\n",
       "      <td>0</td>\n",
       "      <td>0</td>\n",
       "      <td>4</td>\n",
       "    </tr>\n",
       "    <tr>\n",
       "      <th>2</th>\n",
       "      <td>30114.0</td>\n",
       "      <td>2025-04-07 09:57:04.343935+00:00</td>\n",
       "      <td>2025-04-07 09:57:04.343985+00:00</td>\n",
       "      <td>STUD25955</td>\n",
       "      <td>NaN</td>\n",
       "      <td>542.0</td>\n",
       "      <td>REQUEST</td>\n",
       "      <td>MONEY</td>\n",
       "      <td>STUD25955</td>\n",
       "      <td>1</td>\n",
       "      <td>...</td>\n",
       "      <td>0</td>\n",
       "      <td>0</td>\n",
       "      <td>0</td>\n",
       "      <td>0</td>\n",
       "      <td>0</td>\n",
       "      <td>0</td>\n",
       "      <td>0</td>\n",
       "      <td>0</td>\n",
       "      <td>0</td>\n",
       "      <td>2</td>\n",
       "    </tr>\n",
       "    <tr>\n",
       "      <th>3</th>\n",
       "      <td>30113.0</td>\n",
       "      <td>2025-04-07 09:15:39.069868+00:00</td>\n",
       "      <td>2025-04-07 09:15:39.069910+00:00</td>\n",
       "      <td>STUD45618</td>\n",
       "      <td>NaN</td>\n",
       "      <td>501.0</td>\n",
       "      <td>REQUEST</td>\n",
       "      <td>MONEY</td>\n",
       "      <td>STUD45618</td>\n",
       "      <td>1</td>\n",
       "      <td>...</td>\n",
       "      <td>0</td>\n",
       "      <td>0</td>\n",
       "      <td>0</td>\n",
       "      <td>0</td>\n",
       "      <td>0</td>\n",
       "      <td>0</td>\n",
       "      <td>0</td>\n",
       "      <td>0</td>\n",
       "      <td>0</td>\n",
       "      <td>2</td>\n",
       "    </tr>\n",
       "    <tr>\n",
       "      <th>4</th>\n",
       "      <td>30112.0</td>\n",
       "      <td>2025-04-07 08:28:47.838506+00:00</td>\n",
       "      <td>2025-04-07 08:28:47.838578+00:00</td>\n",
       "      <td>STUD44458</td>\n",
       "      <td>NaN</td>\n",
       "      <td>504.0</td>\n",
       "      <td>REQUEST</td>\n",
       "      <td>MONEY</td>\n",
       "      <td>STUD44458</td>\n",
       "      <td>1</td>\n",
       "      <td>...</td>\n",
       "      <td>0</td>\n",
       "      <td>0</td>\n",
       "      <td>0</td>\n",
       "      <td>0</td>\n",
       "      <td>0</td>\n",
       "      <td>0</td>\n",
       "      <td>0</td>\n",
       "      <td>0</td>\n",
       "      <td>0</td>\n",
       "      <td>1</td>\n",
       "    </tr>\n",
       "    <tr>\n",
       "      <th>...</th>\n",
       "      <td>...</td>\n",
       "      <td>...</td>\n",
       "      <td>...</td>\n",
       "      <td>...</td>\n",
       "      <td>...</td>\n",
       "      <td>...</td>\n",
       "      <td>...</td>\n",
       "      <td>...</td>\n",
       "      <td>...</td>\n",
       "      <td>...</td>\n",
       "      <td>...</td>\n",
       "      <td>...</td>\n",
       "      <td>...</td>\n",
       "      <td>...</td>\n",
       "      <td>...</td>\n",
       "      <td>...</td>\n",
       "      <td>...</td>\n",
       "      <td>...</td>\n",
       "      <td>...</td>\n",
       "      <td>...</td>\n",
       "      <td>...</td>\n",
       "    </tr>\n",
       "    <tr>\n",
       "      <th>26874</th>\n",
       "      <td>36.0</td>\n",
       "      <td>2017-08-11 14:55:18.396493+00:00</td>\n",
       "      <td>2024-01-10 17:31:11.782802+00:00</td>\n",
       "      <td>STUD49275</td>\n",
       "      <td>5</td>\n",
       "      <td>506.0</td>\n",
       "      <td>PAID</td>\n",
       "      <td>MONEY</td>\n",
       "      <td>STUD49275</td>\n",
       "      <td>1</td>\n",
       "      <td>...</td>\n",
       "      <td>0</td>\n",
       "      <td>0</td>\n",
       "      <td>0</td>\n",
       "      <td>0</td>\n",
       "      <td>0</td>\n",
       "      <td>0</td>\n",
       "      <td>0</td>\n",
       "      <td>0</td>\n",
       "      <td>0</td>\n",
       "      <td>4</td>\n",
       "    </tr>\n",
       "    <tr>\n",
       "      <th>26875</th>\n",
       "      <td>35.0</td>\n",
       "      <td>2017-08-11 14:54:35.456650+00:00</td>\n",
       "      <td>2024-01-10 17:31:11.801715+00:00</td>\n",
       "      <td>STUD53465</td>\n",
       "      <td>5</td>\n",
       "      <td>523.0</td>\n",
       "      <td>PAID</td>\n",
       "      <td>MONEY</td>\n",
       "      <td>STUD53465</td>\n",
       "      <td>1</td>\n",
       "      <td>...</td>\n",
       "      <td>0</td>\n",
       "      <td>0</td>\n",
       "      <td>0</td>\n",
       "      <td>0</td>\n",
       "      <td>0</td>\n",
       "      <td>0</td>\n",
       "      <td>0</td>\n",
       "      <td>0</td>\n",
       "      <td>0</td>\n",
       "      <td>3</td>\n",
       "    </tr>\n",
       "    <tr>\n",
       "      <th>26876</th>\n",
       "      <td>34.0</td>\n",
       "      <td>2017-08-11 14:06:49.193910+00:00</td>\n",
       "      <td>2024-01-10 17:31:11.820777+00:00</td>\n",
       "      <td>STUD29324</td>\n",
       "      <td>5</td>\n",
       "      <td>511.0</td>\n",
       "      <td>PAID</td>\n",
       "      <td>MONEY</td>\n",
       "      <td>STUD29324</td>\n",
       "      <td>1</td>\n",
       "      <td>...</td>\n",
       "      <td>0</td>\n",
       "      <td>0</td>\n",
       "      <td>0</td>\n",
       "      <td>0</td>\n",
       "      <td>0</td>\n",
       "      <td>0</td>\n",
       "      <td>0</td>\n",
       "      <td>0</td>\n",
       "      <td>0</td>\n",
       "      <td>10</td>\n",
       "    </tr>\n",
       "    <tr>\n",
       "      <th>26877</th>\n",
       "      <td>31.0</td>\n",
       "      <td>2017-08-10 21:58:35.586238+00:00</td>\n",
       "      <td>2024-01-10 17:31:11.867765+00:00</td>\n",
       "      <td>STUD92308</td>\n",
       "      <td>NaN</td>\n",
       "      <td>511.0</td>\n",
       "      <td>PAID</td>\n",
       "      <td>MEDICINS_SANS_FRONTIERS</td>\n",
       "      <td>STUD92308</td>\n",
       "      <td>1</td>\n",
       "      <td>...</td>\n",
       "      <td>0</td>\n",
       "      <td>0</td>\n",
       "      <td>0</td>\n",
       "      <td>0</td>\n",
       "      <td>0</td>\n",
       "      <td>0</td>\n",
       "      <td>0</td>\n",
       "      <td>0</td>\n",
       "      <td>0</td>\n",
       "      <td>4</td>\n",
       "    </tr>\n",
       "    <tr>\n",
       "      <th>26878</th>\n",
       "      <td>30.0</td>\n",
       "      <td>2017-08-10 20:39:23.016652+00:00</td>\n",
       "      <td>2024-01-10 17:31:11.890678+00:00</td>\n",
       "      <td>STUD6753</td>\n",
       "      <td>5</td>\n",
       "      <td>516.0</td>\n",
       "      <td>PAID</td>\n",
       "      <td>MONEY</td>\n",
       "      <td>STUD6753</td>\n",
       "      <td>1</td>\n",
       "      <td>...</td>\n",
       "      <td>0</td>\n",
       "      <td>0</td>\n",
       "      <td>0</td>\n",
       "      <td>0</td>\n",
       "      <td>0</td>\n",
       "      <td>0</td>\n",
       "      <td>0</td>\n",
       "      <td>0</td>\n",
       "      <td>0</td>\n",
       "      <td>17</td>\n",
       "    </tr>\n",
       "  </tbody>\n",
       "</table>\n",
       "<p>26879 rows × 1130 columns</p>\n",
       "</div>"
      ],
      "text/plain": [
       "            id                        created_at  \\\n",
       "0      30116.0  2025-04-07 10:32:05.073604+00:00   \n",
       "1      30115.0  2025-04-07 10:30:09.304166+00:00   \n",
       "2      30114.0  2025-04-07 09:57:04.343935+00:00   \n",
       "3      30113.0  2025-04-07 09:15:39.069868+00:00   \n",
       "4      30112.0  2025-04-07 08:28:47.838506+00:00   \n",
       "...        ...                               ...   \n",
       "26874     36.0  2017-08-11 14:55:18.396493+00:00   \n",
       "26875     35.0  2017-08-11 14:54:35.456650+00:00   \n",
       "26876     34.0  2017-08-11 14:06:49.193910+00:00   \n",
       "26877     31.0  2017-08-10 21:58:35.586238+00:00   \n",
       "26878     30.0  2017-08-10 20:39:23.016652+00:00   \n",
       "\n",
       "                             changed_at       user batch  credits    state  \\\n",
       "0      2025-04-07 10:32:05.073633+00:00  STUD83031   NaN    509.0  REQUEST   \n",
       "1      2025-04-07 10:30:09.304196+00:00    STUD356   NaN    538.0  REQUEST   \n",
       "2      2025-04-07 09:57:04.343985+00:00  STUD25955   NaN    542.0  REQUEST   \n",
       "3      2025-04-07 09:15:39.069910+00:00  STUD45618   NaN    501.0  REQUEST   \n",
       "4      2025-04-07 08:28:47.838578+00:00  STUD44458   NaN    504.0  REQUEST   \n",
       "...                                 ...        ...   ...      ...      ...   \n",
       "26874  2024-01-10 17:31:11.782802+00:00  STUD49275     5    506.0     PAID   \n",
       "26875  2024-01-10 17:31:11.801715+00:00  STUD53465     5    523.0     PAID   \n",
       "26876  2024-01-10 17:31:11.820777+00:00  STUD29324     5    511.0     PAID   \n",
       "26877  2024-01-10 17:31:11.867765+00:00  STUD92308   NaN    511.0     PAID   \n",
       "26878  2024-01-10 17:31:11.890678+00:00   STUD6753     5    516.0     PAID   \n",
       "\n",
       "                          type    user_id  all_intro-2022  ...  check-radio  \\\n",
       "0                        MONEY  STUD83031               1  ...            0   \n",
       "1                        MONEY    STUD356               1  ...            0   \n",
       "2                        MONEY  STUD25955               1  ...            0   \n",
       "3                        MONEY  STUD45618               1  ...            0   \n",
       "4                        MONEY  STUD44458               1  ...            0   \n",
       "...                        ...        ...             ...  ...          ...   \n",
       "26874                    MONEY  STUD49275               1  ...            0   \n",
       "26875                    MONEY  STUD53465               1  ...            0   \n",
       "26876                    MONEY  STUD29324               1  ...            0   \n",
       "26877  MEDICINS_SANS_FRONTIERS  STUD92308               1  ...            0   \n",
       "26878                    MONEY   STUD6753               1  ...            0   \n",
       "\n",
       "       check-household  check-overdraft  check-naramek  isic2_age-21_26  \\\n",
       "0                    0                0              0                0   \n",
       "1                    0                0              0                0   \n",
       "2                    0                0              0                0   \n",
       "3                    0                0              0                0   \n",
       "4                    0                0              0                0   \n",
       "...                ...              ...            ...              ...   \n",
       "26874                0                0              0                0   \n",
       "26875                0                0              0                0   \n",
       "26876                0                0              0                0   \n",
       "26877                0                0              0                0   \n",
       "26878                0                0              0                0   \n",
       "\n",
       "       isic2_age-15_20  isic_age-15_17  isic_age-18_22  isic_age-23_26  \\\n",
       "0                    0               0               0               0   \n",
       "1                    0               0               0               0   \n",
       "2                    0               0               0               0   \n",
       "3                    0               0               0               0   \n",
       "4                    0               0               0               0   \n",
       "...                ...             ...             ...             ...   \n",
       "26874                0               0               0               0   \n",
       "26875                0               0               0               0   \n",
       "26876                0               0               0               0   \n",
       "26877                0               0               0               0   \n",
       "26878                0               0               0               0   \n",
       "\n",
       "       withdrawal_intensity  \n",
       "0                         1  \n",
       "1                         4  \n",
       "2                         2  \n",
       "3                         2  \n",
       "4                         1  \n",
       "...                     ...  \n",
       "26874                     4  \n",
       "26875                     3  \n",
       "26876                    10  \n",
       "26877                     4  \n",
       "26878                    17  \n",
       "\n",
       "[26879 rows x 1130 columns]"
      ]
     },
     "execution_count": 60,
     "metadata": {},
     "output_type": "execute_result"
    }
   ],
   "source": [
    "df_merge_full"
   ]
  },
  {
   "cell_type": "code",
   "execution_count": 61,
   "metadata": {},
   "outputs": [
    {
     "data": {
      "text/html": [
       "<div>\n",
       "<style scoped>\n",
       "    .dataframe tbody tr th:only-of-type {\n",
       "        vertical-align: middle;\n",
       "    }\n",
       "\n",
       "    .dataframe tbody tr th {\n",
       "        vertical-align: top;\n",
       "    }\n",
       "\n",
       "    .dataframe thead th {\n",
       "        text-align: right;\n",
       "    }\n",
       "</style>\n",
       "<table border=\"1\" class=\"dataframe\">\n",
       "  <thead>\n",
       "    <tr style=\"text-align: right;\">\n",
       "      <th></th>\n",
       "      <th>id</th>\n",
       "      <th>created_at</th>\n",
       "      <th>changed_at</th>\n",
       "      <th>user</th>\n",
       "      <th>batch</th>\n",
       "      <th>credits</th>\n",
       "      <th>state</th>\n",
       "      <th>type</th>\n",
       "      <th>user_id</th>\n",
       "      <th>all_intro-2022</th>\n",
       "      <th>...</th>\n",
       "      <th>check-radio</th>\n",
       "      <th>check-household</th>\n",
       "      <th>check-overdraft</th>\n",
       "      <th>check-naramek</th>\n",
       "      <th>isic2_age-21_26</th>\n",
       "      <th>isic2_age-15_20</th>\n",
       "      <th>isic_age-15_17</th>\n",
       "      <th>isic_age-18_22</th>\n",
       "      <th>isic_age-23_26</th>\n",
       "      <th>withdrawal_intensity</th>\n",
       "    </tr>\n",
       "  </thead>\n",
       "  <tbody>\n",
       "    <tr>\n",
       "      <th>3</th>\n",
       "      <td>30113.0</td>\n",
       "      <td>2025-04-07 09:15:39.069868+00:00</td>\n",
       "      <td>2025-04-07 09:15:39.069910+00:00</td>\n",
       "      <td>STUD45618</td>\n",
       "      <td>NaN</td>\n",
       "      <td>501.0</td>\n",
       "      <td>REQUEST</td>\n",
       "      <td>MONEY</td>\n",
       "      <td>STUD45618</td>\n",
       "      <td>1</td>\n",
       "      <td>...</td>\n",
       "      <td>0</td>\n",
       "      <td>0</td>\n",
       "      <td>0</td>\n",
       "      <td>0</td>\n",
       "      <td>0</td>\n",
       "      <td>0</td>\n",
       "      <td>0</td>\n",
       "      <td>0</td>\n",
       "      <td>0</td>\n",
       "      <td>2</td>\n",
       "    </tr>\n",
       "    <tr>\n",
       "      <th>13480</th>\n",
       "      <td>16230.0</td>\n",
       "      <td>2024-01-01 13:08:28.453746+00:00</td>\n",
       "      <td>2024-01-10 17:25:47.502974+00:00</td>\n",
       "      <td>STUD45618</td>\n",
       "      <td>212</td>\n",
       "      <td>517.0</td>\n",
       "      <td>PAID</td>\n",
       "      <td>MONEY</td>\n",
       "      <td>STUD45618</td>\n",
       "      <td>1</td>\n",
       "      <td>...</td>\n",
       "      <td>0</td>\n",
       "      <td>0</td>\n",
       "      <td>0</td>\n",
       "      <td>0</td>\n",
       "      <td>0</td>\n",
       "      <td>0</td>\n",
       "      <td>0</td>\n",
       "      <td>0</td>\n",
       "      <td>0</td>\n",
       "      <td>2</td>\n",
       "    </tr>\n",
       "  </tbody>\n",
       "</table>\n",
       "<p>2 rows × 1130 columns</p>\n",
       "</div>"
      ],
      "text/plain": [
       "            id                        created_at  \\\n",
       "3      30113.0  2025-04-07 09:15:39.069868+00:00   \n",
       "13480  16230.0  2024-01-01 13:08:28.453746+00:00   \n",
       "\n",
       "                             changed_at       user batch  credits    state  \\\n",
       "3      2025-04-07 09:15:39.069910+00:00  STUD45618   NaN    501.0  REQUEST   \n",
       "13480  2024-01-10 17:25:47.502974+00:00  STUD45618   212    517.0     PAID   \n",
       "\n",
       "        type    user_id  all_intro-2022  ...  check-radio  check-household  \\\n",
       "3      MONEY  STUD45618               1  ...            0                0   \n",
       "13480  MONEY  STUD45618               1  ...            0                0   \n",
       "\n",
       "       check-overdraft  check-naramek  isic2_age-21_26  isic2_age-15_20  \\\n",
       "3                    0              0                0                0   \n",
       "13480                0              0                0                0   \n",
       "\n",
       "       isic_age-15_17  isic_age-18_22  isic_age-23_26  withdrawal_intensity  \n",
       "3                   0               0               0                     2  \n",
       "13480               0               0               0                     2  \n",
       "\n",
       "[2 rows x 1130 columns]"
      ]
     },
     "execution_count": 61,
     "metadata": {},
     "output_type": "execute_result"
    }
   ],
   "source": [
    "df_merge_full[df_merge_full['user'] == 'STUD45618']"
   ]
  },
  {
   "cell_type": "code",
   "execution_count": 72,
   "metadata": {},
   "outputs": [],
   "source": [
    "df_merge_full.head(20).to_csv('../data_output/df_merge_full_20.csv', encoding='utf-8')"
   ]
  },
  {
   "cell_type": "code",
   "execution_count": null,
   "metadata": {},
   "outputs": [],
   "source": [
    "from catboost import CatBoostranker"
   ]
  }
 ],
 "metadata": {
  "kernelspec": {
   "display_name": "dp_env",
   "language": "python",
   "name": "python3"
  },
  "language_info": {
   "codemirror_mode": {
    "name": "ipython",
    "version": 3
   },
   "file_extension": ".py",
   "mimetype": "text/x-python",
   "name": "python",
   "nbconvert_exporter": "python",
   "pygments_lexer": "ipython3",
   "version": "3.9.13"
  }
 },
 "nbformat": 4,
 "nbformat_minor": 2
}
