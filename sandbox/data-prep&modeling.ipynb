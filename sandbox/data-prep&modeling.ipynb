{
 "cells": [
  {
   "cell_type": "code",
   "execution_count": 212,
   "metadata": {},
   "outputs": [],
   "source": [
    "import numpy as np\n",
    "import pandas as pd\n",
    "import plotly.express as px\n",
    "from datetime import datetime as dt\n",
    "\n",
    "from xgboost import XGBClassifier\n",
    "import xgboost as xgb\n",
    "\n",
    "from sklearn.model_selection import train_test_split\n",
    "from sklearn.metrics import classification_report, accuracy_score\n",
    "from sklearn.model_selection import GridSearchCV\n",
    "from sklearn.linear_model import LogisticRegression\n",
    "from sklearn.tree import DecisionTreeClassifier\n",
    "from sklearn.ensemble import RandomForestClassifier \n",
    "\n",
    "from catboost import CatBoostClassifier\n"
   ]
  },
  {
   "cell_type": "markdown",
   "metadata": {},
   "source": [
    "# Read Data"
   ]
  },
  {
   "cell_type": "code",
   "execution_count": 181,
   "metadata": {},
   "outputs": [],
   "source": [
    "df_credits = pd.read_csv('../data/User Credits Student Access.csv', encoding='utf-8')\n",
    "df_atlas = pd.read_csv('../data/Atlas Cechu Student Access.csv', encoding='utf-8')\n",
    "df_payments = pd.read_csv('../data/Payments Student Access.csv', encoding='utf-8')"
   ]
  },
  {
   "cell_type": "code",
   "execution_count": 150,
   "metadata": {},
   "outputs": [
    {
     "data": {
      "text/html": [
       "<div>\n",
       "<style scoped>\n",
       "    .dataframe tbody tr th:only-of-type {\n",
       "        vertical-align: middle;\n",
       "    }\n",
       "\n",
       "    .dataframe tbody tr th {\n",
       "        vertical-align: top;\n",
       "    }\n",
       "\n",
       "    .dataframe thead th {\n",
       "        text-align: right;\n",
       "    }\n",
       "</style>\n",
       "<table border=\"1\" class=\"dataframe\">\n",
       "  <thead>\n",
       "    <tr style=\"text-align: right;\">\n",
       "      <th></th>\n",
       "      <th>id</th>\n",
       "      <th>created_at</th>\n",
       "      <th>changed_at</th>\n",
       "      <th>user</th>\n",
       "      <th>batch</th>\n",
       "      <th>credits</th>\n",
       "      <th>state</th>\n",
       "      <th>type</th>\n",
       "    </tr>\n",
       "  </thead>\n",
       "  <tbody>\n",
       "    <tr>\n",
       "      <th>1572</th>\n",
       "      <td>28545.0</td>\n",
       "      <td>2025-03-03 14:18:05.497799+00:00</td>\n",
       "      <td>2025-04-04 00:15:42.107009+00:00</td>\n",
       "      <td>NaN</td>\n",
       "      <td>NaN</td>\n",
       "      <td>693.0</td>\n",
       "      <td>APPROVED</td>\n",
       "      <td>MEDICINS_SANS_FRONTIERS</td>\n",
       "    </tr>\n",
       "    <tr>\n",
       "      <th>2093</th>\n",
       "      <td>28024.0</td>\n",
       "      <td>2025-02-18 09:46:31.403111+00:00</td>\n",
       "      <td>2025-03-31 00:15:56.283352+00:00</td>\n",
       "      <td>NaN</td>\n",
       "      <td>285</td>\n",
       "      <td>505.0</td>\n",
       "      <td>PAID</td>\n",
       "      <td>MONEY</td>\n",
       "    </tr>\n",
       "    <tr>\n",
       "      <th>2740</th>\n",
       "      <td>27377.0</td>\n",
       "      <td>2025-02-02 13:16:34.341371+00:00</td>\n",
       "      <td>2025-03-09 01:18:13.861829+00:00</td>\n",
       "      <td>NaN</td>\n",
       "      <td>281</td>\n",
       "      <td>506.0</td>\n",
       "      <td>PAID</td>\n",
       "      <td>MONEY</td>\n",
       "    </tr>\n",
       "    <tr>\n",
       "      <th>3095</th>\n",
       "      <td>27022.0</td>\n",
       "      <td>2025-01-24 12:28:51.076215+00:00</td>\n",
       "      <td>2025-03-22 01:17:47.235645+00:00</td>\n",
       "      <td>NaN</td>\n",
       "      <td>280</td>\n",
       "      <td>505.0</td>\n",
       "      <td>PAID</td>\n",
       "      <td>MONEY</td>\n",
       "    </tr>\n",
       "    <tr>\n",
       "      <th>3501</th>\n",
       "      <td>26616.0</td>\n",
       "      <td>2025-01-12 20:28:30.111860+00:00</td>\n",
       "      <td>2025-02-16 01:15:56.035881+00:00</td>\n",
       "      <td>NaN</td>\n",
       "      <td>278</td>\n",
       "      <td>525.0</td>\n",
       "      <td>PAID</td>\n",
       "      <td>MONEY</td>\n",
       "    </tr>\n",
       "    <tr>\n",
       "      <th>...</th>\n",
       "      <td>...</td>\n",
       "      <td>...</td>\n",
       "      <td>...</td>\n",
       "      <td>...</td>\n",
       "      <td>...</td>\n",
       "      <td>...</td>\n",
       "      <td>...</td>\n",
       "      <td>...</td>\n",
       "    </tr>\n",
       "    <tr>\n",
       "      <th>30072</th>\n",
       "      <td>44.0</td>\n",
       "      <td>2017-08-19 21:56:31.771008+00:00</td>\n",
       "      <td>2024-01-10 17:31:11.673796+00:00</td>\n",
       "      <td>NaN</td>\n",
       "      <td>5</td>\n",
       "      <td>526.0</td>\n",
       "      <td>PAID</td>\n",
       "      <td>MONEY</td>\n",
       "    </tr>\n",
       "    <tr>\n",
       "      <th>30074</th>\n",
       "      <td>42.0</td>\n",
       "      <td>2017-08-13 20:27:00.570002+00:00</td>\n",
       "      <td>2024-01-10 17:31:11.696886+00:00</td>\n",
       "      <td>NaN</td>\n",
       "      <td>5</td>\n",
       "      <td>531.0</td>\n",
       "      <td>PAID</td>\n",
       "      <td>MONEY</td>\n",
       "    </tr>\n",
       "    <tr>\n",
       "      <th>30079</th>\n",
       "      <td>37.0</td>\n",
       "      <td>2017-08-11 21:11:51.521635+00:00</td>\n",
       "      <td>2024-01-10 17:31:11.778460+00:00</td>\n",
       "      <td>NaN</td>\n",
       "      <td>5</td>\n",
       "      <td>541.0</td>\n",
       "      <td>PAID</td>\n",
       "      <td>MONEY</td>\n",
       "    </tr>\n",
       "    <tr>\n",
       "      <th>30083</th>\n",
       "      <td>33.0</td>\n",
       "      <td>2017-08-11 03:05:08.659811+00:00</td>\n",
       "      <td>2024-12-22 01:16:00.780947+00:00</td>\n",
       "      <td>NaN</td>\n",
       "      <td>NaN</td>\n",
       "      <td>536.0</td>\n",
       "      <td>PAID</td>\n",
       "      <td>CHILDHOOD_HOME</td>\n",
       "    </tr>\n",
       "    <tr>\n",
       "      <th>30084</th>\n",
       "      <td>32.0</td>\n",
       "      <td>2017-08-10 22:31:33.619685+00:00</td>\n",
       "      <td>2024-01-10 17:31:11.864003+00:00</td>\n",
       "      <td>NaN</td>\n",
       "      <td>NaN</td>\n",
       "      <td>506.0</td>\n",
       "      <td>PAID</td>\n",
       "      <td>TRENDARO</td>\n",
       "    </tr>\n",
       "  </tbody>\n",
       "</table>\n",
       "<p>2333 rows × 8 columns</p>\n",
       "</div>"
      ],
      "text/plain": [
       "            id                        created_at  \\\n",
       "1572   28545.0  2025-03-03 14:18:05.497799+00:00   \n",
       "2093   28024.0  2025-02-18 09:46:31.403111+00:00   \n",
       "2740   27377.0  2025-02-02 13:16:34.341371+00:00   \n",
       "3095   27022.0  2025-01-24 12:28:51.076215+00:00   \n",
       "3501   26616.0  2025-01-12 20:28:30.111860+00:00   \n",
       "...        ...                               ...   \n",
       "30072     44.0  2017-08-19 21:56:31.771008+00:00   \n",
       "30074     42.0  2017-08-13 20:27:00.570002+00:00   \n",
       "30079     37.0  2017-08-11 21:11:51.521635+00:00   \n",
       "30083     33.0  2017-08-11 03:05:08.659811+00:00   \n",
       "30084     32.0  2017-08-10 22:31:33.619685+00:00   \n",
       "\n",
       "                             changed_at user batch  credits     state  \\\n",
       "1572   2025-04-04 00:15:42.107009+00:00  NaN   NaN    693.0  APPROVED   \n",
       "2093   2025-03-31 00:15:56.283352+00:00  NaN   285    505.0      PAID   \n",
       "2740   2025-03-09 01:18:13.861829+00:00  NaN   281    506.0      PAID   \n",
       "3095   2025-03-22 01:17:47.235645+00:00  NaN   280    505.0      PAID   \n",
       "3501   2025-02-16 01:15:56.035881+00:00  NaN   278    525.0      PAID   \n",
       "...                                 ...  ...   ...      ...       ...   \n",
       "30072  2024-01-10 17:31:11.673796+00:00  NaN     5    526.0      PAID   \n",
       "30074  2024-01-10 17:31:11.696886+00:00  NaN     5    531.0      PAID   \n",
       "30079  2024-01-10 17:31:11.778460+00:00  NaN     5    541.0      PAID   \n",
       "30083  2024-12-22 01:16:00.780947+00:00  NaN   NaN    536.0      PAID   \n",
       "30084  2024-01-10 17:31:11.864003+00:00  NaN   NaN    506.0      PAID   \n",
       "\n",
       "                          type  \n",
       "1572   MEDICINS_SANS_FRONTIERS  \n",
       "2093                     MONEY  \n",
       "2740                     MONEY  \n",
       "3095                     MONEY  \n",
       "3501                     MONEY  \n",
       "...                        ...  \n",
       "30072                    MONEY  \n",
       "30074                    MONEY  \n",
       "30079                    MONEY  \n",
       "30083           CHILDHOOD_HOME  \n",
       "30084                 TRENDARO  \n",
       "\n",
       "[2333 rows x 8 columns]"
      ]
     },
     "execution_count": 150,
     "metadata": {},
     "output_type": "execute_result"
    }
   ],
   "source": [
    "df_payments[(df_payments['user'].isna())&(df_payments['credits']>=500)]\n",
    "df_payments[(df_payments['user'].isna())&(df_payments['credits']<500)]\n",
    "df_payments[(df_payments['user'].isna())&(df_payments['credits'].isna())]\n",
    "\n",
    "df_payments[df_payments['id'].isnull()]"
   ]
  },
  {
   "cell_type": "code",
   "execution_count": 79,
   "metadata": {},
   "outputs": [
    {
     "data": {
      "text/plain": [
       "Index(['user_id', 'all_intro-2022', 'atlas_vzorek-2023', 'atlas_vzorek-2024',\n",
       "       'all_intro-trendaro_panel_all', 'sex-woman', 'sex-man', 'age-15_17',\n",
       "       'age-18_24', 'age-25_34',\n",
       "       ...\n",
       "       'check-tv', 'check-radio', 'check-household', 'check-overdraft',\n",
       "       'check-naramek', 'isic2_age-21_26', 'isic2_age-15_20', 'isic_age-15_17',\n",
       "       'isic_age-18_22', 'isic_age-23_26'],\n",
       "      dtype='object', length=1121)"
      ]
     },
     "execution_count": 79,
     "metadata": {},
     "output_type": "execute_result"
    }
   ],
   "source": [
    "df_atlas.columns"
   ]
  },
  {
   "cell_type": "code",
   "execution_count": 80,
   "metadata": {},
   "outputs": [
    {
     "data": {
      "text/html": [
       "<div>\n",
       "<style scoped>\n",
       "    .dataframe tbody tr th:only-of-type {\n",
       "        vertical-align: middle;\n",
       "    }\n",
       "\n",
       "    .dataframe tbody tr th {\n",
       "        vertical-align: top;\n",
       "    }\n",
       "\n",
       "    .dataframe thead th {\n",
       "        text-align: right;\n",
       "    }\n",
       "</style>\n",
       "<table border=\"1\" class=\"dataframe\">\n",
       "  <thead>\n",
       "    <tr style=\"text-align: right;\">\n",
       "      <th></th>\n",
       "      <th>user</th>\n",
       "      <th>credits</th>\n",
       "      <th>is_active</th>\n",
       "      <th>is_verified</th>\n",
       "      <th>is_locked</th>\n",
       "      <th>wage</th>\n",
       "    </tr>\n",
       "  </thead>\n",
       "  <tbody>\n",
       "    <tr>\n",
       "      <th>0</th>\n",
       "      <td>STUD66006</td>\n",
       "      <td>25</td>\n",
       "      <td>1</td>\n",
       "      <td>1</td>\n",
       "      <td>0</td>\n",
       "      <td>Peníze</td>\n",
       "    </tr>\n",
       "    <tr>\n",
       "      <th>1</th>\n",
       "      <td>STUD22095</td>\n",
       "      <td>51</td>\n",
       "      <td>1</td>\n",
       "      <td>1</td>\n",
       "      <td>0</td>\n",
       "      <td>Peníze</td>\n",
       "    </tr>\n",
       "    <tr>\n",
       "      <th>2</th>\n",
       "      <td>STUD77411</td>\n",
       "      <td>0</td>\n",
       "      <td>1</td>\n",
       "      <td>1</td>\n",
       "      <td>1</td>\n",
       "      <td>Peníze</td>\n",
       "    </tr>\n",
       "    <tr>\n",
       "      <th>3</th>\n",
       "      <td>STUD56329</td>\n",
       "      <td>0</td>\n",
       "      <td>1</td>\n",
       "      <td>0</td>\n",
       "      <td>0</td>\n",
       "      <td>NaN</td>\n",
       "    </tr>\n",
       "    <tr>\n",
       "      <th>4</th>\n",
       "      <td>STUD23516</td>\n",
       "      <td>30</td>\n",
       "      <td>1</td>\n",
       "      <td>1</td>\n",
       "      <td>0</td>\n",
       "      <td>Peníze</td>\n",
       "    </tr>\n",
       "    <tr>\n",
       "      <th>...</th>\n",
       "      <td>...</td>\n",
       "      <td>...</td>\n",
       "      <td>...</td>\n",
       "      <td>...</td>\n",
       "      <td>...</td>\n",
       "      <td>...</td>\n",
       "    </tr>\n",
       "    <tr>\n",
       "      <th>89906</th>\n",
       "      <td>STUD54678</td>\n",
       "      <td>789</td>\n",
       "      <td>1</td>\n",
       "      <td>1</td>\n",
       "      <td>0</td>\n",
       "      <td>Peníze</td>\n",
       "    </tr>\n",
       "    <tr>\n",
       "      <th>89907</th>\n",
       "      <td>STUD43709</td>\n",
       "      <td>0</td>\n",
       "      <td>0</td>\n",
       "      <td>1</td>\n",
       "      <td>0</td>\n",
       "      <td>NaN</td>\n",
       "    </tr>\n",
       "    <tr>\n",
       "      <th>89908</th>\n",
       "      <td>STUD21881</td>\n",
       "      <td>0</td>\n",
       "      <td>0</td>\n",
       "      <td>0</td>\n",
       "      <td>0</td>\n",
       "      <td>NaN</td>\n",
       "    </tr>\n",
       "    <tr>\n",
       "      <th>89909</th>\n",
       "      <td>STUD72037</td>\n",
       "      <td>16</td>\n",
       "      <td>1</td>\n",
       "      <td>1</td>\n",
       "      <td>0</td>\n",
       "      <td>Lékaři bez hranic</td>\n",
       "    </tr>\n",
       "    <tr>\n",
       "      <th>89910</th>\n",
       "      <td>STUD48405</td>\n",
       "      <td>996</td>\n",
       "      <td>1</td>\n",
       "      <td>1</td>\n",
       "      <td>0</td>\n",
       "      <td>Lékaři bez hranic</td>\n",
       "    </tr>\n",
       "  </tbody>\n",
       "</table>\n",
       "<p>89911 rows × 6 columns</p>\n",
       "</div>"
      ],
      "text/plain": [
       "            user  credits  is_active  is_verified  is_locked  \\\n",
       "0      STUD66006       25          1            1          0   \n",
       "1      STUD22095       51          1            1          0   \n",
       "2      STUD77411        0          1            1          1   \n",
       "3      STUD56329        0          1            0          0   \n",
       "4      STUD23516       30          1            1          0   \n",
       "...          ...      ...        ...          ...        ...   \n",
       "89906  STUD54678      789          1            1          0   \n",
       "89907  STUD43709        0          0            1          0   \n",
       "89908  STUD21881        0          0            0          0   \n",
       "89909  STUD72037       16          1            1          0   \n",
       "89910  STUD48405      996          1            1          0   \n",
       "\n",
       "                    wage  \n",
       "0                 Peníze  \n",
       "1                 Peníze  \n",
       "2                 Peníze  \n",
       "3                    NaN  \n",
       "4                 Peníze  \n",
       "...                  ...  \n",
       "89906             Peníze  \n",
       "89907                NaN  \n",
       "89908                NaN  \n",
       "89909  Lékaři bez hranic  \n",
       "89910  Lékaři bez hranic  \n",
       "\n",
       "[89911 rows x 6 columns]"
      ]
     },
     "execution_count": 80,
     "metadata": {},
     "output_type": "execute_result"
    }
   ],
   "source": [
    "df_credits"
   ]
  },
  {
   "cell_type": "markdown",
   "metadata": {},
   "source": [
    "# Negative Values investigation & Chekcing other things"
   ]
  },
  {
   "cell_type": "code",
   "execution_count": 81,
   "metadata": {},
   "outputs": [
    {
     "data": {
      "text/html": [
       "<div>\n",
       "<style scoped>\n",
       "    .dataframe tbody tr th:only-of-type {\n",
       "        vertical-align: middle;\n",
       "    }\n",
       "\n",
       "    .dataframe tbody tr th {\n",
       "        vertical-align: top;\n",
       "    }\n",
       "\n",
       "    .dataframe thead th {\n",
       "        text-align: right;\n",
       "    }\n",
       "</style>\n",
       "<table border=\"1\" class=\"dataframe\">\n",
       "  <thead>\n",
       "    <tr style=\"text-align: right;\">\n",
       "      <th></th>\n",
       "      <th>user</th>\n",
       "      <th>credits</th>\n",
       "      <th>is_active</th>\n",
       "      <th>is_verified</th>\n",
       "      <th>is_locked</th>\n",
       "      <th>wage</th>\n",
       "    </tr>\n",
       "  </thead>\n",
       "  <tbody>\n",
       "    <tr>\n",
       "      <th>89906</th>\n",
       "      <td>STUD54678</td>\n",
       "      <td>789</td>\n",
       "      <td>1</td>\n",
       "      <td>1</td>\n",
       "      <td>0</td>\n",
       "      <td>Peníze</td>\n",
       "    </tr>\n",
       "  </tbody>\n",
       "</table>\n",
       "</div>"
      ],
      "text/plain": [
       "            user  credits  is_active  is_verified  is_locked    wage\n",
       "89906  STUD54678      789          1            1          0  Peníze"
      ]
     },
     "execution_count": 81,
     "metadata": {},
     "output_type": "execute_result"
    }
   ],
   "source": [
    "df_c_negative = df_credits[df_credits['credits']<0]\n",
    "df_credits[df_credits.user.isin(df_c_negative.user) == True]\n",
    "\n",
    "# IDK what I'm doing with payments\n",
    "df_payments[df_payments.user.isin(df_c_negative.user)==True].sort_values(['user','created_at'])\n",
    "df_payments.state.unique()\n",
    "df_payments[df_payments.user=='STUD54678']\n",
    "df_credits[df_credits.user=='STUD54678']"
   ]
  },
  {
   "cell_type": "code",
   "execution_count": 133,
   "metadata": {},
   "outputs": [
    {
     "data": {
      "text/html": [
       "<div>\n",
       "<style scoped>\n",
       "    .dataframe tbody tr th:only-of-type {\n",
       "        vertical-align: middle;\n",
       "    }\n",
       "\n",
       "    .dataframe tbody tr th {\n",
       "        vertical-align: top;\n",
       "    }\n",
       "\n",
       "    .dataframe thead th {\n",
       "        text-align: right;\n",
       "    }\n",
       "</style>\n",
       "<table border=\"1\" class=\"dataframe\">\n",
       "  <thead>\n",
       "    <tr style=\"text-align: right;\">\n",
       "      <th></th>\n",
       "      <th>user</th>\n",
       "      <th>credits</th>\n",
       "      <th>is_active</th>\n",
       "      <th>is_verified</th>\n",
       "      <th>is_locked</th>\n",
       "      <th>wage</th>\n",
       "    </tr>\n",
       "  </thead>\n",
       "  <tbody>\n",
       "    <tr>\n",
       "      <th>15877</th>\n",
       "      <td>STUD26214</td>\n",
       "      <td>-416</td>\n",
       "      <td>1</td>\n",
       "      <td>1</td>\n",
       "      <td>0</td>\n",
       "      <td>Peníze</td>\n",
       "    </tr>\n",
       "    <tr>\n",
       "      <th>28959</th>\n",
       "      <td>STUD16141</td>\n",
       "      <td>-10</td>\n",
       "      <td>1</td>\n",
       "      <td>1</td>\n",
       "      <td>0</td>\n",
       "      <td>Peníze</td>\n",
       "    </tr>\n",
       "    <tr>\n",
       "      <th>71540</th>\n",
       "      <td>STUD91415</td>\n",
       "      <td>-452</td>\n",
       "      <td>1</td>\n",
       "      <td>1</td>\n",
       "      <td>0</td>\n",
       "      <td>Peníze</td>\n",
       "    </tr>\n",
       "    <tr>\n",
       "      <th>72659</th>\n",
       "      <td>STUD99479</td>\n",
       "      <td>-441</td>\n",
       "      <td>1</td>\n",
       "      <td>1</td>\n",
       "      <td>0</td>\n",
       "      <td>Peníze</td>\n",
       "    </tr>\n",
       "    <tr>\n",
       "      <th>73458</th>\n",
       "      <td>STUD10440</td>\n",
       "      <td>-4</td>\n",
       "      <td>1</td>\n",
       "      <td>1</td>\n",
       "      <td>0</td>\n",
       "      <td>Peníze</td>\n",
       "    </tr>\n",
       "  </tbody>\n",
       "</table>\n",
       "</div>"
      ],
      "text/plain": [
       "            user  credits  is_active  is_verified  is_locked    wage\n",
       "15877  STUD26214     -416          1            1          0  Peníze\n",
       "28959  STUD16141      -10          1            1          0  Peníze\n",
       "71540  STUD91415     -452          1            1          0  Peníze\n",
       "72659  STUD99479     -441          1            1          0  Peníze\n",
       "73458  STUD10440       -4          1            1          0  Peníze"
      ]
     },
     "execution_count": 133,
     "metadata": {},
     "output_type": "execute_result"
    }
   ],
   "source": [
    "df_c_negative # from df_credits"
   ]
  },
  {
   "cell_type": "code",
   "execution_count": 82,
   "metadata": {},
   "outputs": [
    {
     "name": "stdout",
     "output_type": "stream",
     "text": [
      "<class 'pandas.core.frame.DataFrame'>\n",
      "RangeIndex: 30087 entries, 0 to 30086\n",
      "Data columns (total 8 columns):\n",
      " #   Column      Non-Null Count  Dtype  \n",
      "---  ------      --------------  -----  \n",
      " 0   id          30086 non-null  float64\n",
      " 1   created_at  30087 non-null  object \n",
      " 2   changed_at  30087 non-null  object \n",
      " 3   user        27652 non-null  object \n",
      " 4   batch       27502 non-null  object \n",
      " 5   credits     30086 non-null  float64\n",
      " 6   state       30086 non-null  object \n",
      " 7   type        30086 non-null  object \n",
      "dtypes: float64(2), object(6)\n",
      "memory usage: 1.8+ MB\n"
     ]
    }
   ],
   "source": [
    "df_payments.info()"
   ]
  },
  {
   "cell_type": "markdown",
   "metadata": {},
   "source": [
    "# Data Cleaning"
   ]
  },
  {
   "cell_type": "code",
   "execution_count": 83,
   "metadata": {},
   "outputs": [
    {
     "data": {
      "text/plain": [
       "state\n",
       "CANCELLED    2000\n",
       "PAID            1\n",
       "dtype: int64"
      ]
     },
     "execution_count": 83,
     "metadata": {},
     "output_type": "execute_result"
    }
   ],
   "source": [
    "##### In the dataset we found out that in payments dataset values that are being cancelled has creadits = 0 and NaN user having credit 430 and still being PAID. However, that user doesn't have user_id\n",
    "\n",
    "df_payments[df_payments['credits']<500].groupby('state').size()"
   ]
  },
  {
   "cell_type": "code",
   "execution_count": 154,
   "metadata": {},
   "outputs": [],
   "source": [
    "df_credits_cleaned = df_credits[df_credits['credits']>0]\n",
    "\n",
    "\n",
    "\"\"\"\n",
    "df_payments_cleaned = df_payments[(df_payments['user'].isna())&(df_payments['credits']<500)]\n",
    "df_payments_cleaned = df_payments[(df_payments['user'].isna())&(df_payments['credits']>=500)]\n",
    "df_payments_cleaned[(df_payments['user'].isna())&(df_payments['credits'].isna())]\n",
    "\n",
    "-> everything cane be done using: df_payments_cleaned = df_payments[df_payments['user'].notna()]\n",
    "\n",
    "\"\"\"\n",
    "\n",
    "df_payments_cleaned = df_payments[df_payments['user'].notna()] # we threw out from payments 2345 observations\n"
   ]
  },
  {
   "cell_type": "code",
   "execution_count": 185,
   "metadata": {},
   "outputs": [
    {
     "data": {
      "text/html": [
       "<div>\n",
       "<style scoped>\n",
       "    .dataframe tbody tr th:only-of-type {\n",
       "        vertical-align: middle;\n",
       "    }\n",
       "\n",
       "    .dataframe tbody tr th {\n",
       "        vertical-align: top;\n",
       "    }\n",
       "\n",
       "    .dataframe thead th {\n",
       "        text-align: right;\n",
       "    }\n",
       "</style>\n",
       "<table border=\"1\" class=\"dataframe\">\n",
       "  <thead>\n",
       "    <tr style=\"text-align: right;\">\n",
       "      <th></th>\n",
       "      <th>id</th>\n",
       "      <th>created_at</th>\n",
       "      <th>changed_at</th>\n",
       "      <th>user</th>\n",
       "      <th>batch</th>\n",
       "      <th>credits</th>\n",
       "      <th>state</th>\n",
       "      <th>type</th>\n",
       "    </tr>\n",
       "  </thead>\n",
       "  <tbody>\n",
       "    <tr>\n",
       "      <th>0</th>\n",
       "      <td>30116.0</td>\n",
       "      <td>2025-04-07 10:32:05.073604+00:00</td>\n",
       "      <td>2025-04-07 10:32:05.073633+00:00</td>\n",
       "      <td>STUD83031</td>\n",
       "      <td>NaN</td>\n",
       "      <td>509.0</td>\n",
       "      <td>REQUEST</td>\n",
       "      <td>MONEY</td>\n",
       "    </tr>\n",
       "    <tr>\n",
       "      <th>1</th>\n",
       "      <td>30115.0</td>\n",
       "      <td>2025-04-07 10:30:09.304166+00:00</td>\n",
       "      <td>2025-04-07 10:30:09.304196+00:00</td>\n",
       "      <td>STUD356</td>\n",
       "      <td>NaN</td>\n",
       "      <td>538.0</td>\n",
       "      <td>REQUEST</td>\n",
       "      <td>MONEY</td>\n",
       "    </tr>\n",
       "    <tr>\n",
       "      <th>2</th>\n",
       "      <td>30114.0</td>\n",
       "      <td>2025-04-07 09:57:04.343935+00:00</td>\n",
       "      <td>2025-04-07 09:57:04.343985+00:00</td>\n",
       "      <td>STUD25955</td>\n",
       "      <td>NaN</td>\n",
       "      <td>542.0</td>\n",
       "      <td>REQUEST</td>\n",
       "      <td>MONEY</td>\n",
       "    </tr>\n",
       "    <tr>\n",
       "      <th>3</th>\n",
       "      <td>30113.0</td>\n",
       "      <td>2025-04-07 09:15:39.069868+00:00</td>\n",
       "      <td>2025-04-07 09:15:39.069910+00:00</td>\n",
       "      <td>STUD45618</td>\n",
       "      <td>NaN</td>\n",
       "      <td>501.0</td>\n",
       "      <td>REQUEST</td>\n",
       "      <td>MONEY</td>\n",
       "    </tr>\n",
       "    <tr>\n",
       "      <th>4</th>\n",
       "      <td>30112.0</td>\n",
       "      <td>2025-04-07 08:28:47.838506+00:00</td>\n",
       "      <td>2025-04-07 08:28:47.838578+00:00</td>\n",
       "      <td>STUD44458</td>\n",
       "      <td>NaN</td>\n",
       "      <td>504.0</td>\n",
       "      <td>REQUEST</td>\n",
       "      <td>MONEY</td>\n",
       "    </tr>\n",
       "    <tr>\n",
       "      <th>...</th>\n",
       "      <td>...</td>\n",
       "      <td>...</td>\n",
       "      <td>...</td>\n",
       "      <td>...</td>\n",
       "      <td>...</td>\n",
       "      <td>...</td>\n",
       "      <td>...</td>\n",
       "      <td>...</td>\n",
       "    </tr>\n",
       "    <tr>\n",
       "      <th>30080</th>\n",
       "      <td>36.0</td>\n",
       "      <td>2017-08-11 14:55:18.396493+00:00</td>\n",
       "      <td>2024-01-10 17:31:11.782802+00:00</td>\n",
       "      <td>STUD49275</td>\n",
       "      <td>5</td>\n",
       "      <td>506.0</td>\n",
       "      <td>PAID</td>\n",
       "      <td>MONEY</td>\n",
       "    </tr>\n",
       "    <tr>\n",
       "      <th>30081</th>\n",
       "      <td>35.0</td>\n",
       "      <td>2017-08-11 14:54:35.456650+00:00</td>\n",
       "      <td>2024-01-10 17:31:11.801715+00:00</td>\n",
       "      <td>STUD53465</td>\n",
       "      <td>5</td>\n",
       "      <td>523.0</td>\n",
       "      <td>PAID</td>\n",
       "      <td>MONEY</td>\n",
       "    </tr>\n",
       "    <tr>\n",
       "      <th>30082</th>\n",
       "      <td>34.0</td>\n",
       "      <td>2017-08-11 14:06:49.193910+00:00</td>\n",
       "      <td>2024-01-10 17:31:11.820777+00:00</td>\n",
       "      <td>STUD29324</td>\n",
       "      <td>5</td>\n",
       "      <td>511.0</td>\n",
       "      <td>PAID</td>\n",
       "      <td>MONEY</td>\n",
       "    </tr>\n",
       "    <tr>\n",
       "      <th>30085</th>\n",
       "      <td>31.0</td>\n",
       "      <td>2017-08-10 21:58:35.586238+00:00</td>\n",
       "      <td>2024-01-10 17:31:11.867765+00:00</td>\n",
       "      <td>STUD92308</td>\n",
       "      <td>NaN</td>\n",
       "      <td>511.0</td>\n",
       "      <td>PAID</td>\n",
       "      <td>MEDICINS_SANS_FRONTIERS</td>\n",
       "    </tr>\n",
       "    <tr>\n",
       "      <th>30086</th>\n",
       "      <td>30.0</td>\n",
       "      <td>2017-08-10 20:39:23.016652+00:00</td>\n",
       "      <td>2024-01-10 17:31:11.890678+00:00</td>\n",
       "      <td>STUD6753</td>\n",
       "      <td>5</td>\n",
       "      <td>516.0</td>\n",
       "      <td>PAID</td>\n",
       "      <td>MONEY</td>\n",
       "    </tr>\n",
       "  </tbody>\n",
       "</table>\n",
       "<p>27652 rows × 8 columns</p>\n",
       "</div>"
      ],
      "text/plain": [
       "            id                        created_at  \\\n",
       "0      30116.0  2025-04-07 10:32:05.073604+00:00   \n",
       "1      30115.0  2025-04-07 10:30:09.304166+00:00   \n",
       "2      30114.0  2025-04-07 09:57:04.343935+00:00   \n",
       "3      30113.0  2025-04-07 09:15:39.069868+00:00   \n",
       "4      30112.0  2025-04-07 08:28:47.838506+00:00   \n",
       "...        ...                               ...   \n",
       "30080     36.0  2017-08-11 14:55:18.396493+00:00   \n",
       "30081     35.0  2017-08-11 14:54:35.456650+00:00   \n",
       "30082     34.0  2017-08-11 14:06:49.193910+00:00   \n",
       "30085     31.0  2017-08-10 21:58:35.586238+00:00   \n",
       "30086     30.0  2017-08-10 20:39:23.016652+00:00   \n",
       "\n",
       "                             changed_at       user batch  credits    state  \\\n",
       "0      2025-04-07 10:32:05.073633+00:00  STUD83031   NaN    509.0  REQUEST   \n",
       "1      2025-04-07 10:30:09.304196+00:00    STUD356   NaN    538.0  REQUEST   \n",
       "2      2025-04-07 09:57:04.343985+00:00  STUD25955   NaN    542.0  REQUEST   \n",
       "3      2025-04-07 09:15:39.069910+00:00  STUD45618   NaN    501.0  REQUEST   \n",
       "4      2025-04-07 08:28:47.838578+00:00  STUD44458   NaN    504.0  REQUEST   \n",
       "...                                 ...        ...   ...      ...      ...   \n",
       "30080  2024-01-10 17:31:11.782802+00:00  STUD49275     5    506.0     PAID   \n",
       "30081  2024-01-10 17:31:11.801715+00:00  STUD53465     5    523.0     PAID   \n",
       "30082  2024-01-10 17:31:11.820777+00:00  STUD29324     5    511.0     PAID   \n",
       "30085  2024-01-10 17:31:11.867765+00:00  STUD92308   NaN    511.0     PAID   \n",
       "30086  2024-01-10 17:31:11.890678+00:00   STUD6753     5    516.0     PAID   \n",
       "\n",
       "                          type  \n",
       "0                        MONEY  \n",
       "1                        MONEY  \n",
       "2                        MONEY  \n",
       "3                        MONEY  \n",
       "4                        MONEY  \n",
       "...                        ...  \n",
       "30080                    MONEY  \n",
       "30081                    MONEY  \n",
       "30082                    MONEY  \n",
       "30085  MEDICINS_SANS_FRONTIERS  \n",
       "30086                    MONEY  \n",
       "\n",
       "[27652 rows x 8 columns]"
      ]
     },
     "execution_count": 185,
     "metadata": {},
     "output_type": "execute_result"
    }
   ],
   "source": [
    "df_payments_cleaned"
   ]
  },
  {
   "cell_type": "markdown",
   "metadata": {},
   "source": [
    "# What is core table for merge? - Payments // Can't I just use inner join? Therefore I dont' have to work with nul values - I don't want them in model anyway"
   ]
  },
  {
   "cell_type": "code",
   "execution_count": 85,
   "metadata": {},
   "outputs": [
    {
     "data": {
      "application/vnd.plotly.v1+json": {
       "config": {
        "plotlyServerURL": "https://plot.ly"
       },
       "data": [
        {
         "hovertemplate": "variable=count<br>User in Atlas=%{x}<br>Count=%{y}<extra></extra>",
         "legendgroup": "count",
         "marker": {
          "color": "#636efa",
          "pattern": {
           "shape": ""
          }
         },
         "name": "count",
         "orientation": "v",
         "showlegend": true,
         "textposition": "auto",
         "type": "bar",
         "x": [
          true,
          false
         ],
         "xaxis": "x",
         "y": {
          "bdata": "4J4AABkUAAA=",
          "dtype": "i4"
         },
         "yaxis": "y"
        }
       ],
       "layout": {
        "barmode": "relative",
        "legend": {
         "title": {
          "text": "variable"
         },
         "tracegroupgap": 0
        },
        "template": {
         "data": {
          "bar": [
           {
            "error_x": {
             "color": "#2a3f5f"
            },
            "error_y": {
             "color": "#2a3f5f"
            },
            "marker": {
             "line": {
              "color": "#E5ECF6",
              "width": 0.5
             },
             "pattern": {
              "fillmode": "overlay",
              "size": 10,
              "solidity": 0.2
             }
            },
            "type": "bar"
           }
          ],
          "barpolar": [
           {
            "marker": {
             "line": {
              "color": "#E5ECF6",
              "width": 0.5
             },
             "pattern": {
              "fillmode": "overlay",
              "size": 10,
              "solidity": 0.2
             }
            },
            "type": "barpolar"
           }
          ],
          "carpet": [
           {
            "aaxis": {
             "endlinecolor": "#2a3f5f",
             "gridcolor": "white",
             "linecolor": "white",
             "minorgridcolor": "white",
             "startlinecolor": "#2a3f5f"
            },
            "baxis": {
             "endlinecolor": "#2a3f5f",
             "gridcolor": "white",
             "linecolor": "white",
             "minorgridcolor": "white",
             "startlinecolor": "#2a3f5f"
            },
            "type": "carpet"
           }
          ],
          "choropleth": [
           {
            "colorbar": {
             "outlinewidth": 0,
             "ticks": ""
            },
            "type": "choropleth"
           }
          ],
          "contour": [
           {
            "colorbar": {
             "outlinewidth": 0,
             "ticks": ""
            },
            "colorscale": [
             [
              0,
              "#0d0887"
             ],
             [
              0.1111111111111111,
              "#46039f"
             ],
             [
              0.2222222222222222,
              "#7201a8"
             ],
             [
              0.3333333333333333,
              "#9c179e"
             ],
             [
              0.4444444444444444,
              "#bd3786"
             ],
             [
              0.5555555555555556,
              "#d8576b"
             ],
             [
              0.6666666666666666,
              "#ed7953"
             ],
             [
              0.7777777777777778,
              "#fb9f3a"
             ],
             [
              0.8888888888888888,
              "#fdca26"
             ],
             [
              1,
              "#f0f921"
             ]
            ],
            "type": "contour"
           }
          ],
          "contourcarpet": [
           {
            "colorbar": {
             "outlinewidth": 0,
             "ticks": ""
            },
            "type": "contourcarpet"
           }
          ],
          "heatmap": [
           {
            "colorbar": {
             "outlinewidth": 0,
             "ticks": ""
            },
            "colorscale": [
             [
              0,
              "#0d0887"
             ],
             [
              0.1111111111111111,
              "#46039f"
             ],
             [
              0.2222222222222222,
              "#7201a8"
             ],
             [
              0.3333333333333333,
              "#9c179e"
             ],
             [
              0.4444444444444444,
              "#bd3786"
             ],
             [
              0.5555555555555556,
              "#d8576b"
             ],
             [
              0.6666666666666666,
              "#ed7953"
             ],
             [
              0.7777777777777778,
              "#fb9f3a"
             ],
             [
              0.8888888888888888,
              "#fdca26"
             ],
             [
              1,
              "#f0f921"
             ]
            ],
            "type": "heatmap"
           }
          ],
          "histogram": [
           {
            "marker": {
             "pattern": {
              "fillmode": "overlay",
              "size": 10,
              "solidity": 0.2
             }
            },
            "type": "histogram"
           }
          ],
          "histogram2d": [
           {
            "colorbar": {
             "outlinewidth": 0,
             "ticks": ""
            },
            "colorscale": [
             [
              0,
              "#0d0887"
             ],
             [
              0.1111111111111111,
              "#46039f"
             ],
             [
              0.2222222222222222,
              "#7201a8"
             ],
             [
              0.3333333333333333,
              "#9c179e"
             ],
             [
              0.4444444444444444,
              "#bd3786"
             ],
             [
              0.5555555555555556,
              "#d8576b"
             ],
             [
              0.6666666666666666,
              "#ed7953"
             ],
             [
              0.7777777777777778,
              "#fb9f3a"
             ],
             [
              0.8888888888888888,
              "#fdca26"
             ],
             [
              1,
              "#f0f921"
             ]
            ],
            "type": "histogram2d"
           }
          ],
          "histogram2dcontour": [
           {
            "colorbar": {
             "outlinewidth": 0,
             "ticks": ""
            },
            "colorscale": [
             [
              0,
              "#0d0887"
             ],
             [
              0.1111111111111111,
              "#46039f"
             ],
             [
              0.2222222222222222,
              "#7201a8"
             ],
             [
              0.3333333333333333,
              "#9c179e"
             ],
             [
              0.4444444444444444,
              "#bd3786"
             ],
             [
              0.5555555555555556,
              "#d8576b"
             ],
             [
              0.6666666666666666,
              "#ed7953"
             ],
             [
              0.7777777777777778,
              "#fb9f3a"
             ],
             [
              0.8888888888888888,
              "#fdca26"
             ],
             [
              1,
              "#f0f921"
             ]
            ],
            "type": "histogram2dcontour"
           }
          ],
          "mesh3d": [
           {
            "colorbar": {
             "outlinewidth": 0,
             "ticks": ""
            },
            "type": "mesh3d"
           }
          ],
          "parcoords": [
           {
            "line": {
             "colorbar": {
              "outlinewidth": 0,
              "ticks": ""
             }
            },
            "type": "parcoords"
           }
          ],
          "pie": [
           {
            "automargin": true,
            "type": "pie"
           }
          ],
          "scatter": [
           {
            "fillpattern": {
             "fillmode": "overlay",
             "size": 10,
             "solidity": 0.2
            },
            "type": "scatter"
           }
          ],
          "scatter3d": [
           {
            "line": {
             "colorbar": {
              "outlinewidth": 0,
              "ticks": ""
             }
            },
            "marker": {
             "colorbar": {
              "outlinewidth": 0,
              "ticks": ""
             }
            },
            "type": "scatter3d"
           }
          ],
          "scattercarpet": [
           {
            "marker": {
             "colorbar": {
              "outlinewidth": 0,
              "ticks": ""
             }
            },
            "type": "scattercarpet"
           }
          ],
          "scattergeo": [
           {
            "marker": {
             "colorbar": {
              "outlinewidth": 0,
              "ticks": ""
             }
            },
            "type": "scattergeo"
           }
          ],
          "scattergl": [
           {
            "marker": {
             "colorbar": {
              "outlinewidth": 0,
              "ticks": ""
             }
            },
            "type": "scattergl"
           }
          ],
          "scattermap": [
           {
            "marker": {
             "colorbar": {
              "outlinewidth": 0,
              "ticks": ""
             }
            },
            "type": "scattermap"
           }
          ],
          "scattermapbox": [
           {
            "marker": {
             "colorbar": {
              "outlinewidth": 0,
              "ticks": ""
             }
            },
            "type": "scattermapbox"
           }
          ],
          "scatterpolar": [
           {
            "marker": {
             "colorbar": {
              "outlinewidth": 0,
              "ticks": ""
             }
            },
            "type": "scatterpolar"
           }
          ],
          "scatterpolargl": [
           {
            "marker": {
             "colorbar": {
              "outlinewidth": 0,
              "ticks": ""
             }
            },
            "type": "scatterpolargl"
           }
          ],
          "scatterternary": [
           {
            "marker": {
             "colorbar": {
              "outlinewidth": 0,
              "ticks": ""
             }
            },
            "type": "scatterternary"
           }
          ],
          "surface": [
           {
            "colorbar": {
             "outlinewidth": 0,
             "ticks": ""
            },
            "colorscale": [
             [
              0,
              "#0d0887"
             ],
             [
              0.1111111111111111,
              "#46039f"
             ],
             [
              0.2222222222222222,
              "#7201a8"
             ],
             [
              0.3333333333333333,
              "#9c179e"
             ],
             [
              0.4444444444444444,
              "#bd3786"
             ],
             [
              0.5555555555555556,
              "#d8576b"
             ],
             [
              0.6666666666666666,
              "#ed7953"
             ],
             [
              0.7777777777777778,
              "#fb9f3a"
             ],
             [
              0.8888888888888888,
              "#fdca26"
             ],
             [
              1,
              "#f0f921"
             ]
            ],
            "type": "surface"
           }
          ],
          "table": [
           {
            "cells": {
             "fill": {
              "color": "#EBF0F8"
             },
             "line": {
              "color": "white"
             }
            },
            "header": {
             "fill": {
              "color": "#C8D4E3"
             },
             "line": {
              "color": "white"
             }
            },
            "type": "table"
           }
          ]
         },
         "layout": {
          "annotationdefaults": {
           "arrowcolor": "#2a3f5f",
           "arrowhead": 0,
           "arrowwidth": 1
          },
          "autotypenumbers": "strict",
          "coloraxis": {
           "colorbar": {
            "outlinewidth": 0,
            "ticks": ""
           }
          },
          "colorscale": {
           "diverging": [
            [
             0,
             "#8e0152"
            ],
            [
             0.1,
             "#c51b7d"
            ],
            [
             0.2,
             "#de77ae"
            ],
            [
             0.3,
             "#f1b6da"
            ],
            [
             0.4,
             "#fde0ef"
            ],
            [
             0.5,
             "#f7f7f7"
            ],
            [
             0.6,
             "#e6f5d0"
            ],
            [
             0.7,
             "#b8e186"
            ],
            [
             0.8,
             "#7fbc41"
            ],
            [
             0.9,
             "#4d9221"
            ],
            [
             1,
             "#276419"
            ]
           ],
           "sequential": [
            [
             0,
             "#0d0887"
            ],
            [
             0.1111111111111111,
             "#46039f"
            ],
            [
             0.2222222222222222,
             "#7201a8"
            ],
            [
             0.3333333333333333,
             "#9c179e"
            ],
            [
             0.4444444444444444,
             "#bd3786"
            ],
            [
             0.5555555555555556,
             "#d8576b"
            ],
            [
             0.6666666666666666,
             "#ed7953"
            ],
            [
             0.7777777777777778,
             "#fb9f3a"
            ],
            [
             0.8888888888888888,
             "#fdca26"
            ],
            [
             1,
             "#f0f921"
            ]
           ],
           "sequentialminus": [
            [
             0,
             "#0d0887"
            ],
            [
             0.1111111111111111,
             "#46039f"
            ],
            [
             0.2222222222222222,
             "#7201a8"
            ],
            [
             0.3333333333333333,
             "#9c179e"
            ],
            [
             0.4444444444444444,
             "#bd3786"
            ],
            [
             0.5555555555555556,
             "#d8576b"
            ],
            [
             0.6666666666666666,
             "#ed7953"
            ],
            [
             0.7777777777777778,
             "#fb9f3a"
            ],
            [
             0.8888888888888888,
             "#fdca26"
            ],
            [
             1,
             "#f0f921"
            ]
           ]
          },
          "colorway": [
           "#636efa",
           "#EF553B",
           "#00cc96",
           "#ab63fa",
           "#FFA15A",
           "#19d3f3",
           "#FF6692",
           "#B6E880",
           "#FF97FF",
           "#FECB52"
          ],
          "font": {
           "color": "#2a3f5f"
          },
          "geo": {
           "bgcolor": "white",
           "lakecolor": "white",
           "landcolor": "#E5ECF6",
           "showlakes": true,
           "showland": true,
           "subunitcolor": "white"
          },
          "hoverlabel": {
           "align": "left"
          },
          "hovermode": "closest",
          "mapbox": {
           "style": "light"
          },
          "paper_bgcolor": "white",
          "plot_bgcolor": "#E5ECF6",
          "polar": {
           "angularaxis": {
            "gridcolor": "white",
            "linecolor": "white",
            "ticks": ""
           },
           "bgcolor": "#E5ECF6",
           "radialaxis": {
            "gridcolor": "white",
            "linecolor": "white",
            "ticks": ""
           }
          },
          "scene": {
           "xaxis": {
            "backgroundcolor": "#E5ECF6",
            "gridcolor": "white",
            "gridwidth": 2,
            "linecolor": "white",
            "showbackground": true,
            "ticks": "",
            "zerolinecolor": "white"
           },
           "yaxis": {
            "backgroundcolor": "#E5ECF6",
            "gridcolor": "white",
            "gridwidth": 2,
            "linecolor": "white",
            "showbackground": true,
            "ticks": "",
            "zerolinecolor": "white"
           },
           "zaxis": {
            "backgroundcolor": "#E5ECF6",
            "gridcolor": "white",
            "gridwidth": 2,
            "linecolor": "white",
            "showbackground": true,
            "ticks": "",
            "zerolinecolor": "white"
           }
          },
          "shapedefaults": {
           "line": {
            "color": "#2a3f5f"
           }
          },
          "ternary": {
           "aaxis": {
            "gridcolor": "white",
            "linecolor": "white",
            "ticks": ""
           },
           "baxis": {
            "gridcolor": "white",
            "linecolor": "white",
            "ticks": ""
           },
           "bgcolor": "#E5ECF6",
           "caxis": {
            "gridcolor": "white",
            "linecolor": "white",
            "ticks": ""
           }
          },
          "title": {
           "x": 0.05
          },
          "xaxis": {
           "automargin": true,
           "gridcolor": "white",
           "linecolor": "white",
           "ticks": "",
           "title": {
            "standoff": 15
           },
           "zerolinecolor": "white",
           "zerolinewidth": 2
          },
          "yaxis": {
           "automargin": true,
           "gridcolor": "white",
           "linecolor": "white",
           "ticks": "",
           "title": {
            "standoff": 15
           },
           "zerolinecolor": "white",
           "zerolinewidth": 2
          }
         }
        },
        "title": {
         "text": "How many users from Atlas Cechu are in the credits table"
        },
        "xaxis": {
         "anchor": "y",
         "domain": [
          0,
          1
         ],
         "title": {
          "text": "User in Atlas"
         }
        },
        "yaxis": {
         "anchor": "x",
         "domain": [
          0,
          1
         ],
         "title": {
          "text": "Count"
         }
        }
       }
      }
     },
     "metadata": {},
     "output_type": "display_data"
    },
    {
     "data": {
      "application/vnd.plotly.v1+json": {
       "config": {
        "plotlyServerURL": "https://plot.ly"
       },
       "data": [
        {
         "hovertemplate": "variable=count<br>user=%{x}<br>Count=%{y}<extra></extra>",
         "legendgroup": "count",
         "marker": {
          "color": "#636efa",
          "pattern": {
           "shape": ""
          }
         },
         "name": "count",
         "orientation": "v",
         "showlegend": true,
         "textposition": "auto",
         "type": "bar",
         "x": [
          true,
          false
         ],
         "xaxis": "x",
         "y": {
          "bdata": "/2iHDA==",
          "dtype": "i2"
         },
         "yaxis": "y"
        }
       ],
       "layout": {
        "barmode": "relative",
        "legend": {
         "title": {
          "text": "variable"
         },
         "tracegroupgap": 0
        },
        "template": {
         "data": {
          "bar": [
           {
            "error_x": {
             "color": "#2a3f5f"
            },
            "error_y": {
             "color": "#2a3f5f"
            },
            "marker": {
             "line": {
              "color": "#E5ECF6",
              "width": 0.5
             },
             "pattern": {
              "fillmode": "overlay",
              "size": 10,
              "solidity": 0.2
             }
            },
            "type": "bar"
           }
          ],
          "barpolar": [
           {
            "marker": {
             "line": {
              "color": "#E5ECF6",
              "width": 0.5
             },
             "pattern": {
              "fillmode": "overlay",
              "size": 10,
              "solidity": 0.2
             }
            },
            "type": "barpolar"
           }
          ],
          "carpet": [
           {
            "aaxis": {
             "endlinecolor": "#2a3f5f",
             "gridcolor": "white",
             "linecolor": "white",
             "minorgridcolor": "white",
             "startlinecolor": "#2a3f5f"
            },
            "baxis": {
             "endlinecolor": "#2a3f5f",
             "gridcolor": "white",
             "linecolor": "white",
             "minorgridcolor": "white",
             "startlinecolor": "#2a3f5f"
            },
            "type": "carpet"
           }
          ],
          "choropleth": [
           {
            "colorbar": {
             "outlinewidth": 0,
             "ticks": ""
            },
            "type": "choropleth"
           }
          ],
          "contour": [
           {
            "colorbar": {
             "outlinewidth": 0,
             "ticks": ""
            },
            "colorscale": [
             [
              0,
              "#0d0887"
             ],
             [
              0.1111111111111111,
              "#46039f"
             ],
             [
              0.2222222222222222,
              "#7201a8"
             ],
             [
              0.3333333333333333,
              "#9c179e"
             ],
             [
              0.4444444444444444,
              "#bd3786"
             ],
             [
              0.5555555555555556,
              "#d8576b"
             ],
             [
              0.6666666666666666,
              "#ed7953"
             ],
             [
              0.7777777777777778,
              "#fb9f3a"
             ],
             [
              0.8888888888888888,
              "#fdca26"
             ],
             [
              1,
              "#f0f921"
             ]
            ],
            "type": "contour"
           }
          ],
          "contourcarpet": [
           {
            "colorbar": {
             "outlinewidth": 0,
             "ticks": ""
            },
            "type": "contourcarpet"
           }
          ],
          "heatmap": [
           {
            "colorbar": {
             "outlinewidth": 0,
             "ticks": ""
            },
            "colorscale": [
             [
              0,
              "#0d0887"
             ],
             [
              0.1111111111111111,
              "#46039f"
             ],
             [
              0.2222222222222222,
              "#7201a8"
             ],
             [
              0.3333333333333333,
              "#9c179e"
             ],
             [
              0.4444444444444444,
              "#bd3786"
             ],
             [
              0.5555555555555556,
              "#d8576b"
             ],
             [
              0.6666666666666666,
              "#ed7953"
             ],
             [
              0.7777777777777778,
              "#fb9f3a"
             ],
             [
              0.8888888888888888,
              "#fdca26"
             ],
             [
              1,
              "#f0f921"
             ]
            ],
            "type": "heatmap"
           }
          ],
          "histogram": [
           {
            "marker": {
             "pattern": {
              "fillmode": "overlay",
              "size": 10,
              "solidity": 0.2
             }
            },
            "type": "histogram"
           }
          ],
          "histogram2d": [
           {
            "colorbar": {
             "outlinewidth": 0,
             "ticks": ""
            },
            "colorscale": [
             [
              0,
              "#0d0887"
             ],
             [
              0.1111111111111111,
              "#46039f"
             ],
             [
              0.2222222222222222,
              "#7201a8"
             ],
             [
              0.3333333333333333,
              "#9c179e"
             ],
             [
              0.4444444444444444,
              "#bd3786"
             ],
             [
              0.5555555555555556,
              "#d8576b"
             ],
             [
              0.6666666666666666,
              "#ed7953"
             ],
             [
              0.7777777777777778,
              "#fb9f3a"
             ],
             [
              0.8888888888888888,
              "#fdca26"
             ],
             [
              1,
              "#f0f921"
             ]
            ],
            "type": "histogram2d"
           }
          ],
          "histogram2dcontour": [
           {
            "colorbar": {
             "outlinewidth": 0,
             "ticks": ""
            },
            "colorscale": [
             [
              0,
              "#0d0887"
             ],
             [
              0.1111111111111111,
              "#46039f"
             ],
             [
              0.2222222222222222,
              "#7201a8"
             ],
             [
              0.3333333333333333,
              "#9c179e"
             ],
             [
              0.4444444444444444,
              "#bd3786"
             ],
             [
              0.5555555555555556,
              "#d8576b"
             ],
             [
              0.6666666666666666,
              "#ed7953"
             ],
             [
              0.7777777777777778,
              "#fb9f3a"
             ],
             [
              0.8888888888888888,
              "#fdca26"
             ],
             [
              1,
              "#f0f921"
             ]
            ],
            "type": "histogram2dcontour"
           }
          ],
          "mesh3d": [
           {
            "colorbar": {
             "outlinewidth": 0,
             "ticks": ""
            },
            "type": "mesh3d"
           }
          ],
          "parcoords": [
           {
            "line": {
             "colorbar": {
              "outlinewidth": 0,
              "ticks": ""
             }
            },
            "type": "parcoords"
           }
          ],
          "pie": [
           {
            "automargin": true,
            "type": "pie"
           }
          ],
          "scatter": [
           {
            "fillpattern": {
             "fillmode": "overlay",
             "size": 10,
             "solidity": 0.2
            },
            "type": "scatter"
           }
          ],
          "scatter3d": [
           {
            "line": {
             "colorbar": {
              "outlinewidth": 0,
              "ticks": ""
             }
            },
            "marker": {
             "colorbar": {
              "outlinewidth": 0,
              "ticks": ""
             }
            },
            "type": "scatter3d"
           }
          ],
          "scattercarpet": [
           {
            "marker": {
             "colorbar": {
              "outlinewidth": 0,
              "ticks": ""
             }
            },
            "type": "scattercarpet"
           }
          ],
          "scattergeo": [
           {
            "marker": {
             "colorbar": {
              "outlinewidth": 0,
              "ticks": ""
             }
            },
            "type": "scattergeo"
           }
          ],
          "scattergl": [
           {
            "marker": {
             "colorbar": {
              "outlinewidth": 0,
              "ticks": ""
             }
            },
            "type": "scattergl"
           }
          ],
          "scattermap": [
           {
            "marker": {
             "colorbar": {
              "outlinewidth": 0,
              "ticks": ""
             }
            },
            "type": "scattermap"
           }
          ],
          "scattermapbox": [
           {
            "marker": {
             "colorbar": {
              "outlinewidth": 0,
              "ticks": ""
             }
            },
            "type": "scattermapbox"
           }
          ],
          "scatterpolar": [
           {
            "marker": {
             "colorbar": {
              "outlinewidth": 0,
              "ticks": ""
             }
            },
            "type": "scatterpolar"
           }
          ],
          "scatterpolargl": [
           {
            "marker": {
             "colorbar": {
              "outlinewidth": 0,
              "ticks": ""
             }
            },
            "type": "scatterpolargl"
           }
          ],
          "scatterternary": [
           {
            "marker": {
             "colorbar": {
              "outlinewidth": 0,
              "ticks": ""
             }
            },
            "type": "scatterternary"
           }
          ],
          "surface": [
           {
            "colorbar": {
             "outlinewidth": 0,
             "ticks": ""
            },
            "colorscale": [
             [
              0,
              "#0d0887"
             ],
             [
              0.1111111111111111,
              "#46039f"
             ],
             [
              0.2222222222222222,
              "#7201a8"
             ],
             [
              0.3333333333333333,
              "#9c179e"
             ],
             [
              0.4444444444444444,
              "#bd3786"
             ],
             [
              0.5555555555555556,
              "#d8576b"
             ],
             [
              0.6666666666666666,
              "#ed7953"
             ],
             [
              0.7777777777777778,
              "#fb9f3a"
             ],
             [
              0.8888888888888888,
              "#fdca26"
             ],
             [
              1,
              "#f0f921"
             ]
            ],
            "type": "surface"
           }
          ],
          "table": [
           {
            "cells": {
             "fill": {
              "color": "#EBF0F8"
             },
             "line": {
              "color": "white"
             }
            },
            "header": {
             "fill": {
              "color": "#C8D4E3"
             },
             "line": {
              "color": "white"
             }
            },
            "type": "table"
           }
          ]
         },
         "layout": {
          "annotationdefaults": {
           "arrowcolor": "#2a3f5f",
           "arrowhead": 0,
           "arrowwidth": 1
          },
          "autotypenumbers": "strict",
          "coloraxis": {
           "colorbar": {
            "outlinewidth": 0,
            "ticks": ""
           }
          },
          "colorscale": {
           "diverging": [
            [
             0,
             "#8e0152"
            ],
            [
             0.1,
             "#c51b7d"
            ],
            [
             0.2,
             "#de77ae"
            ],
            [
             0.3,
             "#f1b6da"
            ],
            [
             0.4,
             "#fde0ef"
            ],
            [
             0.5,
             "#f7f7f7"
            ],
            [
             0.6,
             "#e6f5d0"
            ],
            [
             0.7,
             "#b8e186"
            ],
            [
             0.8,
             "#7fbc41"
            ],
            [
             0.9,
             "#4d9221"
            ],
            [
             1,
             "#276419"
            ]
           ],
           "sequential": [
            [
             0,
             "#0d0887"
            ],
            [
             0.1111111111111111,
             "#46039f"
            ],
            [
             0.2222222222222222,
             "#7201a8"
            ],
            [
             0.3333333333333333,
             "#9c179e"
            ],
            [
             0.4444444444444444,
             "#bd3786"
            ],
            [
             0.5555555555555556,
             "#d8576b"
            ],
            [
             0.6666666666666666,
             "#ed7953"
            ],
            [
             0.7777777777777778,
             "#fb9f3a"
            ],
            [
             0.8888888888888888,
             "#fdca26"
            ],
            [
             1,
             "#f0f921"
            ]
           ],
           "sequentialminus": [
            [
             0,
             "#0d0887"
            ],
            [
             0.1111111111111111,
             "#46039f"
            ],
            [
             0.2222222222222222,
             "#7201a8"
            ],
            [
             0.3333333333333333,
             "#9c179e"
            ],
            [
             0.4444444444444444,
             "#bd3786"
            ],
            [
             0.5555555555555556,
             "#d8576b"
            ],
            [
             0.6666666666666666,
             "#ed7953"
            ],
            [
             0.7777777777777778,
             "#fb9f3a"
            ],
            [
             0.8888888888888888,
             "#fdca26"
            ],
            [
             1,
             "#f0f921"
            ]
           ]
          },
          "colorway": [
           "#636efa",
           "#EF553B",
           "#00cc96",
           "#ab63fa",
           "#FFA15A",
           "#19d3f3",
           "#FF6692",
           "#B6E880",
           "#FF97FF",
           "#FECB52"
          ],
          "font": {
           "color": "#2a3f5f"
          },
          "geo": {
           "bgcolor": "white",
           "lakecolor": "white",
           "landcolor": "#E5ECF6",
           "showlakes": true,
           "showland": true,
           "subunitcolor": "white"
          },
          "hoverlabel": {
           "align": "left"
          },
          "hovermode": "closest",
          "mapbox": {
           "style": "light"
          },
          "paper_bgcolor": "white",
          "plot_bgcolor": "#E5ECF6",
          "polar": {
           "angularaxis": {
            "gridcolor": "white",
            "linecolor": "white",
            "ticks": ""
           },
           "bgcolor": "#E5ECF6",
           "radialaxis": {
            "gridcolor": "white",
            "linecolor": "white",
            "ticks": ""
           }
          },
          "scene": {
           "xaxis": {
            "backgroundcolor": "#E5ECF6",
            "gridcolor": "white",
            "gridwidth": 2,
            "linecolor": "white",
            "showbackground": true,
            "ticks": "",
            "zerolinecolor": "white"
           },
           "yaxis": {
            "backgroundcolor": "#E5ECF6",
            "gridcolor": "white",
            "gridwidth": 2,
            "linecolor": "white",
            "showbackground": true,
            "ticks": "",
            "zerolinecolor": "white"
           },
           "zaxis": {
            "backgroundcolor": "#E5ECF6",
            "gridcolor": "white",
            "gridwidth": 2,
            "linecolor": "white",
            "showbackground": true,
            "ticks": "",
            "zerolinecolor": "white"
           }
          },
          "shapedefaults": {
           "line": {
            "color": "#2a3f5f"
           }
          },
          "ternary": {
           "aaxis": {
            "gridcolor": "white",
            "linecolor": "white",
            "ticks": ""
           },
           "baxis": {
            "gridcolor": "white",
            "linecolor": "white",
            "ticks": ""
           },
           "bgcolor": "#E5ECF6",
           "caxis": {
            "gridcolor": "white",
            "linecolor": "white",
            "ticks": ""
           }
          },
          "title": {
           "x": 0.05
          },
          "xaxis": {
           "automargin": true,
           "gridcolor": "white",
           "linecolor": "white",
           "ticks": "",
           "title": {
            "standoff": 15
           },
           "zerolinecolor": "white",
           "zerolinewidth": 2
          },
          "yaxis": {
           "automargin": true,
           "gridcolor": "white",
           "linecolor": "white",
           "ticks": "",
           "title": {
            "standoff": 15
           },
           "zerolinecolor": "white",
           "zerolinewidth": 2
          }
         }
        },
        "title": {
         "text": "How many users from Atlas Cechu are in the payments table"
        },
        "xaxis": {
         "anchor": "y",
         "domain": [
          0,
          1
         ],
         "title": {
          "text": "user"
         }
        },
        "yaxis": {
         "anchor": "x",
         "domain": [
          0,
          1
         ],
         "title": {
          "text": "Count"
         }
        }
       }
      }
     },
     "metadata": {},
     "output_type": "display_data"
    }
   ],
   "source": [
    "#I have an assumption that all users should be in Atlas Cechu. However, after cheking my assumption it tourns out not to be true. \n",
    "\n",
    "# Convert the boolean series to a DataFrame with a column name\n",
    "atlas_in_credits = df_credits_cleaned.user.isin(df_atlas.user_id).rename('User in Atlas')\n",
    "atlas_in_payments = df_payments_cleaned.user.isin(df_atlas.user_id)\n",
    "\n",
    "# Plotting\n",
    "fig_ac = px.bar(atlas_in_credits.value_counts(), title='How many users from Atlas Cechu are in the credits table', labels={'index': 'User in Atlas (True/False)', 'value': 'Count'})\n",
    "fig_ap = px.bar(atlas_in_payments.value_counts(), title='How many users from Atlas Cechu are in the payments table', labels={'index': 'User in Atlas (True/False)', 'value': 'Count'})\n",
    "\n",
    "fig_ac.show()\n",
    "fig_ap.show()"
   ]
  },
  {
   "cell_type": "code",
   "execution_count": 86,
   "metadata": {},
   "outputs": [
    {
     "data": {
      "text/plain": [
       "user_id\n",
       "True     40672\n",
       "False     2861\n",
       "Name: count, dtype: int64"
      ]
     },
     "execution_count": 86,
     "metadata": {},
     "output_type": "execute_result"
    }
   ],
   "source": [
    "df_atlas.user_id.isin(df_credits_cleaned.user).value_counts()"
   ]
  },
  {
   "cell_type": "code",
   "execution_count": 87,
   "metadata": {},
   "outputs": [
    {
     "data": {
      "text/plain": [
       "user_id\n",
       "False    34824\n",
       "True      8709\n",
       "Name: count, dtype: int64"
      ]
     },
     "execution_count": 87,
     "metadata": {},
     "output_type": "execute_result"
    }
   ],
   "source": [
    "df_atlas.user_id.isin(df_payments_cleaned.user).value_counts()"
   ]
  },
  {
   "cell_type": "markdown",
   "metadata": {},
   "source": [
    "Since we want to find out when who pulls what, it makes sense to use the payments table and connect data to it - even though there are users in payments tables that are not in Atlas Cechu"
   ]
  },
  {
   "cell_type": "code",
   "execution_count": 88,
   "metadata": {},
   "outputs": [
    {
     "data": {
      "text/plain": [
       "'\\nI don\\'t find credits table to be interesting - mainly we cannot join them together due to different \"time type\" -- credits shows the newest version of creadits without historical changes, on the other hand table payments shows history of all transactions\\n'"
      ]
     },
     "execution_count": 88,
     "metadata": {},
     "output_type": "execute_result"
    }
   ],
   "source": [
    "#df_merge_credits = pd.merge(df_payments_cleaned, df_credits_cleaned, how=\"inner\", left_on='user', right_on='user')\n",
    "#df_merge_credits[df_merge_credits.user=='STUD92308']\n",
    "\n",
    "\"\"\"\n",
    "I don't find credits table to be interesting - mainly we cannot join them together due to different \"time type\" -- credits shows the newest version of creadits without historical changes, on the other hand table payments shows history of all transactions\n",
    "\"\"\""
   ]
  },
  {
   "cell_type": "code",
   "execution_count": 186,
   "metadata": {},
   "outputs": [
    {
     "name": "stderr",
     "output_type": "stream",
     "text": [
      "/var/folders/_c/8b17td616wg63_3tyjv1dhb80000gn/T/ipykernel_11060/2234070991.py:12: PerformanceWarning:\n",
      "\n",
      "DataFrame is highly fragmented.  This is usually the result of calling `frame.insert` many times, which has poor performance.  Consider joining all columns at once using pd.concat(axis=1) instead. To get a de-fragmented frame, use `newframe = frame.copy()`\n",
      "\n",
      "/var/folders/_c/8b17td616wg63_3tyjv1dhb80000gn/T/ipykernel_11060/2234070991.py:13: PerformanceWarning:\n",
      "\n",
      "DataFrame is highly fragmented.  This is usually the result of calling `frame.insert` many times, which has poor performance.  Consider joining all columns at once using pd.concat(axis=1) instead. To get a de-fragmented frame, use `newframe = frame.copy()`\n",
      "\n",
      "/var/folders/_c/8b17td616wg63_3tyjv1dhb80000gn/T/ipykernel_11060/2234070991.py:14: PerformanceWarning:\n",
      "\n",
      "DataFrame is highly fragmented.  This is usually the result of calling `frame.insert` many times, which has poor performance.  Consider joining all columns at once using pd.concat(axis=1) instead. To get a de-fragmented frame, use `newframe = frame.copy()`\n",
      "\n",
      "/var/folders/_c/8b17td616wg63_3tyjv1dhb80000gn/T/ipykernel_11060/2234070991.py:15: PerformanceWarning:\n",
      "\n",
      "DataFrame is highly fragmented.  This is usually the result of calling `frame.insert` many times, which has poor performance.  Consider joining all columns at once using pd.concat(axis=1) instead. To get a de-fragmented frame, use `newframe = frame.copy()`\n",
      "\n",
      "/var/folders/_c/8b17td616wg63_3tyjv1dhb80000gn/T/ipykernel_11060/2234070991.py:16: PerformanceWarning:\n",
      "\n",
      "DataFrame is highly fragmented.  This is usually the result of calling `frame.insert` many times, which has poor performance.  Consider joining all columns at once using pd.concat(axis=1) instead. To get a de-fragmented frame, use `newframe = frame.copy()`\n",
      "\n"
     ]
    }
   ],
   "source": [
    "df_merge_full = pd.merge(df_payments_cleaned, df_atlas, how='inner', left_on='user', right_on='user_id')\n",
    "df_merge_full.rename(columns={'credits_x':'credits_payments', 'credits_y':'credits_credits'})\n",
    "df_merge_full = pd.get_dummies(df_merge_full, columns=['type'], drop_first=True)\n",
    "df_merge_full = df_merge_full.astype({col: int for col in df_merge_full.select_dtypes(include='bool').columns})\n",
    "\n",
    "\n",
    "# df_merge_full.to_csv('../data_output/df_merge_full.csv')\n",
    "\n",
    "\n",
    "df_merge_full['created_at'] = pd.to_datetime(df_merge_full['created_at'])\n",
    "\n",
    "df_merge_full['day'] = df_merge_full['created_at'].dt.day\n",
    "df_merge_full['month'] = df_merge_full['created_at'].dt.month\n",
    "df_merge_full['year'] = df_merge_full['created_at'].dt.year\n",
    "df_merge_full['hour'] = df_merge_full['created_at'].dt.hour\n",
    "df_merge_full['weekday'] = df_merge_full['created_at'].dt.weekday\n",
    "\n",
    "\n",
    "df_merge_full = df_merge_full.drop(columns=['created_at'])"
   ]
  },
  {
   "cell_type": "code",
   "execution_count": 187,
   "metadata": {},
   "outputs": [
    {
     "data": {
      "text/html": [
       "<div>\n",
       "<style scoped>\n",
       "    .dataframe tbody tr th:only-of-type {\n",
       "        vertical-align: middle;\n",
       "    }\n",
       "\n",
       "    .dataframe tbody tr th {\n",
       "        vertical-align: top;\n",
       "    }\n",
       "\n",
       "    .dataframe thead th {\n",
       "        text-align: right;\n",
       "    }\n",
       "</style>\n",
       "<table border=\"1\" class=\"dataframe\">\n",
       "  <thead>\n",
       "    <tr style=\"text-align: right;\">\n",
       "      <th></th>\n",
       "      <th>id</th>\n",
       "      <th>changed_at</th>\n",
       "      <th>user</th>\n",
       "      <th>batch</th>\n",
       "      <th>credits</th>\n",
       "      <th>state</th>\n",
       "      <th>user_id</th>\n",
       "      <th>all_intro-2022</th>\n",
       "      <th>atlas_vzorek-2023</th>\n",
       "      <th>atlas_vzorek-2024</th>\n",
       "      <th>...</th>\n",
       "      <th>isic_age-23_26</th>\n",
       "      <th>type_HANDIPET</th>\n",
       "      <th>type_MEDICINS_SANS_FRONTIERS</th>\n",
       "      <th>type_MONEY</th>\n",
       "      <th>type_TRENDARO</th>\n",
       "      <th>day</th>\n",
       "      <th>month</th>\n",
       "      <th>year</th>\n",
       "      <th>hour</th>\n",
       "      <th>weekday</th>\n",
       "    </tr>\n",
       "  </thead>\n",
       "  <tbody>\n",
       "    <tr>\n",
       "      <th>0</th>\n",
       "      <td>30116.0</td>\n",
       "      <td>2025-04-07 10:32:05.073633+00:00</td>\n",
       "      <td>STUD83031</td>\n",
       "      <td>NaN</td>\n",
       "      <td>509.0</td>\n",
       "      <td>REQUEST</td>\n",
       "      <td>STUD83031</td>\n",
       "      <td>1</td>\n",
       "      <td>0</td>\n",
       "      <td>0</td>\n",
       "      <td>...</td>\n",
       "      <td>0</td>\n",
       "      <td>0</td>\n",
       "      <td>0</td>\n",
       "      <td>1</td>\n",
       "      <td>0</td>\n",
       "      <td>7</td>\n",
       "      <td>4</td>\n",
       "      <td>2025</td>\n",
       "      <td>10</td>\n",
       "      <td>0</td>\n",
       "    </tr>\n",
       "    <tr>\n",
       "      <th>1</th>\n",
       "      <td>30115.0</td>\n",
       "      <td>2025-04-07 10:30:09.304196+00:00</td>\n",
       "      <td>STUD356</td>\n",
       "      <td>NaN</td>\n",
       "      <td>538.0</td>\n",
       "      <td>REQUEST</td>\n",
       "      <td>STUD356</td>\n",
       "      <td>1</td>\n",
       "      <td>0</td>\n",
       "      <td>1</td>\n",
       "      <td>...</td>\n",
       "      <td>0</td>\n",
       "      <td>0</td>\n",
       "      <td>0</td>\n",
       "      <td>1</td>\n",
       "      <td>0</td>\n",
       "      <td>7</td>\n",
       "      <td>4</td>\n",
       "      <td>2025</td>\n",
       "      <td>10</td>\n",
       "      <td>0</td>\n",
       "    </tr>\n",
       "    <tr>\n",
       "      <th>2</th>\n",
       "      <td>30114.0</td>\n",
       "      <td>2025-04-07 09:57:04.343985+00:00</td>\n",
       "      <td>STUD25955</td>\n",
       "      <td>NaN</td>\n",
       "      <td>542.0</td>\n",
       "      <td>REQUEST</td>\n",
       "      <td>STUD25955</td>\n",
       "      <td>1</td>\n",
       "      <td>0</td>\n",
       "      <td>0</td>\n",
       "      <td>...</td>\n",
       "      <td>0</td>\n",
       "      <td>0</td>\n",
       "      <td>0</td>\n",
       "      <td>1</td>\n",
       "      <td>0</td>\n",
       "      <td>7</td>\n",
       "      <td>4</td>\n",
       "      <td>2025</td>\n",
       "      <td>9</td>\n",
       "      <td>0</td>\n",
       "    </tr>\n",
       "    <tr>\n",
       "      <th>3</th>\n",
       "      <td>30113.0</td>\n",
       "      <td>2025-04-07 09:15:39.069910+00:00</td>\n",
       "      <td>STUD45618</td>\n",
       "      <td>NaN</td>\n",
       "      <td>501.0</td>\n",
       "      <td>REQUEST</td>\n",
       "      <td>STUD45618</td>\n",
       "      <td>1</td>\n",
       "      <td>0</td>\n",
       "      <td>0</td>\n",
       "      <td>...</td>\n",
       "      <td>0</td>\n",
       "      <td>0</td>\n",
       "      <td>0</td>\n",
       "      <td>1</td>\n",
       "      <td>0</td>\n",
       "      <td>7</td>\n",
       "      <td>4</td>\n",
       "      <td>2025</td>\n",
       "      <td>9</td>\n",
       "      <td>0</td>\n",
       "    </tr>\n",
       "    <tr>\n",
       "      <th>4</th>\n",
       "      <td>30112.0</td>\n",
       "      <td>2025-04-07 08:28:47.838578+00:00</td>\n",
       "      <td>STUD44458</td>\n",
       "      <td>NaN</td>\n",
       "      <td>504.0</td>\n",
       "      <td>REQUEST</td>\n",
       "      <td>STUD44458</td>\n",
       "      <td>1</td>\n",
       "      <td>0</td>\n",
       "      <td>0</td>\n",
       "      <td>...</td>\n",
       "      <td>0</td>\n",
       "      <td>0</td>\n",
       "      <td>0</td>\n",
       "      <td>1</td>\n",
       "      <td>0</td>\n",
       "      <td>7</td>\n",
       "      <td>4</td>\n",
       "      <td>2025</td>\n",
       "      <td>8</td>\n",
       "      <td>0</td>\n",
       "    </tr>\n",
       "    <tr>\n",
       "      <th>...</th>\n",
       "      <td>...</td>\n",
       "      <td>...</td>\n",
       "      <td>...</td>\n",
       "      <td>...</td>\n",
       "      <td>...</td>\n",
       "      <td>...</td>\n",
       "      <td>...</td>\n",
       "      <td>...</td>\n",
       "      <td>...</td>\n",
       "      <td>...</td>\n",
       "      <td>...</td>\n",
       "      <td>...</td>\n",
       "      <td>...</td>\n",
       "      <td>...</td>\n",
       "      <td>...</td>\n",
       "      <td>...</td>\n",
       "      <td>...</td>\n",
       "      <td>...</td>\n",
       "      <td>...</td>\n",
       "      <td>...</td>\n",
       "      <td>...</td>\n",
       "    </tr>\n",
       "    <tr>\n",
       "      <th>26874</th>\n",
       "      <td>36.0</td>\n",
       "      <td>2024-01-10 17:31:11.782802+00:00</td>\n",
       "      <td>STUD49275</td>\n",
       "      <td>5</td>\n",
       "      <td>506.0</td>\n",
       "      <td>PAID</td>\n",
       "      <td>STUD49275</td>\n",
       "      <td>1</td>\n",
       "      <td>0</td>\n",
       "      <td>0</td>\n",
       "      <td>...</td>\n",
       "      <td>0</td>\n",
       "      <td>0</td>\n",
       "      <td>0</td>\n",
       "      <td>1</td>\n",
       "      <td>0</td>\n",
       "      <td>11</td>\n",
       "      <td>8</td>\n",
       "      <td>2017</td>\n",
       "      <td>14</td>\n",
       "      <td>4</td>\n",
       "    </tr>\n",
       "    <tr>\n",
       "      <th>26875</th>\n",
       "      <td>35.0</td>\n",
       "      <td>2024-01-10 17:31:11.801715+00:00</td>\n",
       "      <td>STUD53465</td>\n",
       "      <td>5</td>\n",
       "      <td>523.0</td>\n",
       "      <td>PAID</td>\n",
       "      <td>STUD53465</td>\n",
       "      <td>1</td>\n",
       "      <td>0</td>\n",
       "      <td>0</td>\n",
       "      <td>...</td>\n",
       "      <td>0</td>\n",
       "      <td>0</td>\n",
       "      <td>0</td>\n",
       "      <td>1</td>\n",
       "      <td>0</td>\n",
       "      <td>11</td>\n",
       "      <td>8</td>\n",
       "      <td>2017</td>\n",
       "      <td>14</td>\n",
       "      <td>4</td>\n",
       "    </tr>\n",
       "    <tr>\n",
       "      <th>26876</th>\n",
       "      <td>34.0</td>\n",
       "      <td>2024-01-10 17:31:11.820777+00:00</td>\n",
       "      <td>STUD29324</td>\n",
       "      <td>5</td>\n",
       "      <td>511.0</td>\n",
       "      <td>PAID</td>\n",
       "      <td>STUD29324</td>\n",
       "      <td>1</td>\n",
       "      <td>0</td>\n",
       "      <td>1</td>\n",
       "      <td>...</td>\n",
       "      <td>0</td>\n",
       "      <td>0</td>\n",
       "      <td>0</td>\n",
       "      <td>1</td>\n",
       "      <td>0</td>\n",
       "      <td>11</td>\n",
       "      <td>8</td>\n",
       "      <td>2017</td>\n",
       "      <td>14</td>\n",
       "      <td>4</td>\n",
       "    </tr>\n",
       "    <tr>\n",
       "      <th>26877</th>\n",
       "      <td>31.0</td>\n",
       "      <td>2024-01-10 17:31:11.867765+00:00</td>\n",
       "      <td>STUD92308</td>\n",
       "      <td>NaN</td>\n",
       "      <td>511.0</td>\n",
       "      <td>PAID</td>\n",
       "      <td>STUD92308</td>\n",
       "      <td>1</td>\n",
       "      <td>1</td>\n",
       "      <td>0</td>\n",
       "      <td>...</td>\n",
       "      <td>0</td>\n",
       "      <td>0</td>\n",
       "      <td>1</td>\n",
       "      <td>0</td>\n",
       "      <td>0</td>\n",
       "      <td>10</td>\n",
       "      <td>8</td>\n",
       "      <td>2017</td>\n",
       "      <td>21</td>\n",
       "      <td>3</td>\n",
       "    </tr>\n",
       "    <tr>\n",
       "      <th>26878</th>\n",
       "      <td>30.0</td>\n",
       "      <td>2024-01-10 17:31:11.890678+00:00</td>\n",
       "      <td>STUD6753</td>\n",
       "      <td>5</td>\n",
       "      <td>516.0</td>\n",
       "      <td>PAID</td>\n",
       "      <td>STUD6753</td>\n",
       "      <td>1</td>\n",
       "      <td>1</td>\n",
       "      <td>1</td>\n",
       "      <td>...</td>\n",
       "      <td>0</td>\n",
       "      <td>0</td>\n",
       "      <td>0</td>\n",
       "      <td>1</td>\n",
       "      <td>0</td>\n",
       "      <td>10</td>\n",
       "      <td>8</td>\n",
       "      <td>2017</td>\n",
       "      <td>20</td>\n",
       "      <td>3</td>\n",
       "    </tr>\n",
       "  </tbody>\n",
       "</table>\n",
       "<p>26879 rows × 1136 columns</p>\n",
       "</div>"
      ],
      "text/plain": [
       "            id                        changed_at       user batch  credits  \\\n",
       "0      30116.0  2025-04-07 10:32:05.073633+00:00  STUD83031   NaN    509.0   \n",
       "1      30115.0  2025-04-07 10:30:09.304196+00:00    STUD356   NaN    538.0   \n",
       "2      30114.0  2025-04-07 09:57:04.343985+00:00  STUD25955   NaN    542.0   \n",
       "3      30113.0  2025-04-07 09:15:39.069910+00:00  STUD45618   NaN    501.0   \n",
       "4      30112.0  2025-04-07 08:28:47.838578+00:00  STUD44458   NaN    504.0   \n",
       "...        ...                               ...        ...   ...      ...   \n",
       "26874     36.0  2024-01-10 17:31:11.782802+00:00  STUD49275     5    506.0   \n",
       "26875     35.0  2024-01-10 17:31:11.801715+00:00  STUD53465     5    523.0   \n",
       "26876     34.0  2024-01-10 17:31:11.820777+00:00  STUD29324     5    511.0   \n",
       "26877     31.0  2024-01-10 17:31:11.867765+00:00  STUD92308   NaN    511.0   \n",
       "26878     30.0  2024-01-10 17:31:11.890678+00:00   STUD6753     5    516.0   \n",
       "\n",
       "         state    user_id  all_intro-2022  atlas_vzorek-2023  \\\n",
       "0      REQUEST  STUD83031               1                  0   \n",
       "1      REQUEST    STUD356               1                  0   \n",
       "2      REQUEST  STUD25955               1                  0   \n",
       "3      REQUEST  STUD45618               1                  0   \n",
       "4      REQUEST  STUD44458               1                  0   \n",
       "...        ...        ...             ...                ...   \n",
       "26874     PAID  STUD49275               1                  0   \n",
       "26875     PAID  STUD53465               1                  0   \n",
       "26876     PAID  STUD29324               1                  0   \n",
       "26877     PAID  STUD92308               1                  1   \n",
       "26878     PAID   STUD6753               1                  1   \n",
       "\n",
       "       atlas_vzorek-2024  ...  isic_age-23_26  type_HANDIPET  \\\n",
       "0                      0  ...               0              0   \n",
       "1                      1  ...               0              0   \n",
       "2                      0  ...               0              0   \n",
       "3                      0  ...               0              0   \n",
       "4                      0  ...               0              0   \n",
       "...                  ...  ...             ...            ...   \n",
       "26874                  0  ...               0              0   \n",
       "26875                  0  ...               0              0   \n",
       "26876                  1  ...               0              0   \n",
       "26877                  0  ...               0              0   \n",
       "26878                  1  ...               0              0   \n",
       "\n",
       "       type_MEDICINS_SANS_FRONTIERS  type_MONEY  type_TRENDARO  day  month  \\\n",
       "0                                 0           1              0    7      4   \n",
       "1                                 0           1              0    7      4   \n",
       "2                                 0           1              0    7      4   \n",
       "3                                 0           1              0    7      4   \n",
       "4                                 0           1              0    7      4   \n",
       "...                             ...         ...            ...  ...    ...   \n",
       "26874                             0           1              0   11      8   \n",
       "26875                             0           1              0   11      8   \n",
       "26876                             0           1              0   11      8   \n",
       "26877                             1           0              0   10      8   \n",
       "26878                             0           1              0   10      8   \n",
       "\n",
       "       year  hour  weekday  \n",
       "0      2025    10        0  \n",
       "1      2025    10        0  \n",
       "2      2025     9        0  \n",
       "3      2025     9        0  \n",
       "4      2025     8        0  \n",
       "...     ...   ...      ...  \n",
       "26874  2017    14        4  \n",
       "26875  2017    14        4  \n",
       "26876  2017    14        4  \n",
       "26877  2017    21        3  \n",
       "26878  2017    20        3  \n",
       "\n",
       "[26879 rows x 1136 columns]"
      ]
     },
     "execution_count": 187,
     "metadata": {},
     "output_type": "execute_result"
    }
   ],
   "source": [
    "df_merge_full"
   ]
  },
  {
   "cell_type": "code",
   "execution_count": 167,
   "metadata": {},
   "outputs": [
    {
     "name": "stderr",
     "output_type": "stream",
     "text": [
      "/var/folders/_c/8b17td616wg63_3tyjv1dhb80000gn/T/ipykernel_11060/1893180649.py:4: PerformanceWarning:\n",
      "\n",
      "DataFrame is highly fragmented.  This is usually the result of calling `frame.insert` many times, which has poor performance.  Consider joining all columns at once using pd.concat(axis=1) instead. To get a de-fragmented frame, use `newframe = frame.copy()`\n",
      "\n"
     ]
    },
    {
     "data": {
      "application/vnd.plotly.v1+json": {
       "config": {
        "plotlyServerURL": "https://plot.ly"
       },
       "data": [
        {
         "hovertemplate": "credits_601+=%{x}<br>count=%{y}<extra></extra>",
         "legendgroup": "",
         "marker": {
          "color": "#636efa",
          "pattern": {
           "shape": ""
          }
         },
         "name": "",
         "orientation": "v",
         "showlegend": false,
         "textposition": "auto",
         "type": "bar",
         "x": {
          "bdata": "AAE=",
          "dtype": "i1"
         },
         "xaxis": "x",
         "y": {
          "bdata": "l0nMGA==",
          "dtype": "i2"
         },
         "yaxis": "y"
        }
       ],
       "layout": {
        "barmode": "relative",
        "legend": {
         "tracegroupgap": 0
        },
        "template": {
         "data": {
          "bar": [
           {
            "error_x": {
             "color": "#2a3f5f"
            },
            "error_y": {
             "color": "#2a3f5f"
            },
            "marker": {
             "line": {
              "color": "#E5ECF6",
              "width": 0.5
             },
             "pattern": {
              "fillmode": "overlay",
              "size": 10,
              "solidity": 0.2
             }
            },
            "type": "bar"
           }
          ],
          "barpolar": [
           {
            "marker": {
             "line": {
              "color": "#E5ECF6",
              "width": 0.5
             },
             "pattern": {
              "fillmode": "overlay",
              "size": 10,
              "solidity": 0.2
             }
            },
            "type": "barpolar"
           }
          ],
          "carpet": [
           {
            "aaxis": {
             "endlinecolor": "#2a3f5f",
             "gridcolor": "white",
             "linecolor": "white",
             "minorgridcolor": "white",
             "startlinecolor": "#2a3f5f"
            },
            "baxis": {
             "endlinecolor": "#2a3f5f",
             "gridcolor": "white",
             "linecolor": "white",
             "minorgridcolor": "white",
             "startlinecolor": "#2a3f5f"
            },
            "type": "carpet"
           }
          ],
          "choropleth": [
           {
            "colorbar": {
             "outlinewidth": 0,
             "ticks": ""
            },
            "type": "choropleth"
           }
          ],
          "contour": [
           {
            "colorbar": {
             "outlinewidth": 0,
             "ticks": ""
            },
            "colorscale": [
             [
              0,
              "#0d0887"
             ],
             [
              0.1111111111111111,
              "#46039f"
             ],
             [
              0.2222222222222222,
              "#7201a8"
             ],
             [
              0.3333333333333333,
              "#9c179e"
             ],
             [
              0.4444444444444444,
              "#bd3786"
             ],
             [
              0.5555555555555556,
              "#d8576b"
             ],
             [
              0.6666666666666666,
              "#ed7953"
             ],
             [
              0.7777777777777778,
              "#fb9f3a"
             ],
             [
              0.8888888888888888,
              "#fdca26"
             ],
             [
              1,
              "#f0f921"
             ]
            ],
            "type": "contour"
           }
          ],
          "contourcarpet": [
           {
            "colorbar": {
             "outlinewidth": 0,
             "ticks": ""
            },
            "type": "contourcarpet"
           }
          ],
          "heatmap": [
           {
            "colorbar": {
             "outlinewidth": 0,
             "ticks": ""
            },
            "colorscale": [
             [
              0,
              "#0d0887"
             ],
             [
              0.1111111111111111,
              "#46039f"
             ],
             [
              0.2222222222222222,
              "#7201a8"
             ],
             [
              0.3333333333333333,
              "#9c179e"
             ],
             [
              0.4444444444444444,
              "#bd3786"
             ],
             [
              0.5555555555555556,
              "#d8576b"
             ],
             [
              0.6666666666666666,
              "#ed7953"
             ],
             [
              0.7777777777777778,
              "#fb9f3a"
             ],
             [
              0.8888888888888888,
              "#fdca26"
             ],
             [
              1,
              "#f0f921"
             ]
            ],
            "type": "heatmap"
           }
          ],
          "histogram": [
           {
            "marker": {
             "pattern": {
              "fillmode": "overlay",
              "size": 10,
              "solidity": 0.2
             }
            },
            "type": "histogram"
           }
          ],
          "histogram2d": [
           {
            "colorbar": {
             "outlinewidth": 0,
             "ticks": ""
            },
            "colorscale": [
             [
              0,
              "#0d0887"
             ],
             [
              0.1111111111111111,
              "#46039f"
             ],
             [
              0.2222222222222222,
              "#7201a8"
             ],
             [
              0.3333333333333333,
              "#9c179e"
             ],
             [
              0.4444444444444444,
              "#bd3786"
             ],
             [
              0.5555555555555556,
              "#d8576b"
             ],
             [
              0.6666666666666666,
              "#ed7953"
             ],
             [
              0.7777777777777778,
              "#fb9f3a"
             ],
             [
              0.8888888888888888,
              "#fdca26"
             ],
             [
              1,
              "#f0f921"
             ]
            ],
            "type": "histogram2d"
           }
          ],
          "histogram2dcontour": [
           {
            "colorbar": {
             "outlinewidth": 0,
             "ticks": ""
            },
            "colorscale": [
             [
              0,
              "#0d0887"
             ],
             [
              0.1111111111111111,
              "#46039f"
             ],
             [
              0.2222222222222222,
              "#7201a8"
             ],
             [
              0.3333333333333333,
              "#9c179e"
             ],
             [
              0.4444444444444444,
              "#bd3786"
             ],
             [
              0.5555555555555556,
              "#d8576b"
             ],
             [
              0.6666666666666666,
              "#ed7953"
             ],
             [
              0.7777777777777778,
              "#fb9f3a"
             ],
             [
              0.8888888888888888,
              "#fdca26"
             ],
             [
              1,
              "#f0f921"
             ]
            ],
            "type": "histogram2dcontour"
           }
          ],
          "mesh3d": [
           {
            "colorbar": {
             "outlinewidth": 0,
             "ticks": ""
            },
            "type": "mesh3d"
           }
          ],
          "parcoords": [
           {
            "line": {
             "colorbar": {
              "outlinewidth": 0,
              "ticks": ""
             }
            },
            "type": "parcoords"
           }
          ],
          "pie": [
           {
            "automargin": true,
            "type": "pie"
           }
          ],
          "scatter": [
           {
            "fillpattern": {
             "fillmode": "overlay",
             "size": 10,
             "solidity": 0.2
            },
            "type": "scatter"
           }
          ],
          "scatter3d": [
           {
            "line": {
             "colorbar": {
              "outlinewidth": 0,
              "ticks": ""
             }
            },
            "marker": {
             "colorbar": {
              "outlinewidth": 0,
              "ticks": ""
             }
            },
            "type": "scatter3d"
           }
          ],
          "scattercarpet": [
           {
            "marker": {
             "colorbar": {
              "outlinewidth": 0,
              "ticks": ""
             }
            },
            "type": "scattercarpet"
           }
          ],
          "scattergeo": [
           {
            "marker": {
             "colorbar": {
              "outlinewidth": 0,
              "ticks": ""
             }
            },
            "type": "scattergeo"
           }
          ],
          "scattergl": [
           {
            "marker": {
             "colorbar": {
              "outlinewidth": 0,
              "ticks": ""
             }
            },
            "type": "scattergl"
           }
          ],
          "scattermap": [
           {
            "marker": {
             "colorbar": {
              "outlinewidth": 0,
              "ticks": ""
             }
            },
            "type": "scattermap"
           }
          ],
          "scattermapbox": [
           {
            "marker": {
             "colorbar": {
              "outlinewidth": 0,
              "ticks": ""
             }
            },
            "type": "scattermapbox"
           }
          ],
          "scatterpolar": [
           {
            "marker": {
             "colorbar": {
              "outlinewidth": 0,
              "ticks": ""
             }
            },
            "type": "scatterpolar"
           }
          ],
          "scatterpolargl": [
           {
            "marker": {
             "colorbar": {
              "outlinewidth": 0,
              "ticks": ""
             }
            },
            "type": "scatterpolargl"
           }
          ],
          "scatterternary": [
           {
            "marker": {
             "colorbar": {
              "outlinewidth": 0,
              "ticks": ""
             }
            },
            "type": "scatterternary"
           }
          ],
          "surface": [
           {
            "colorbar": {
             "outlinewidth": 0,
             "ticks": ""
            },
            "colorscale": [
             [
              0,
              "#0d0887"
             ],
             [
              0.1111111111111111,
              "#46039f"
             ],
             [
              0.2222222222222222,
              "#7201a8"
             ],
             [
              0.3333333333333333,
              "#9c179e"
             ],
             [
              0.4444444444444444,
              "#bd3786"
             ],
             [
              0.5555555555555556,
              "#d8576b"
             ],
             [
              0.6666666666666666,
              "#ed7953"
             ],
             [
              0.7777777777777778,
              "#fb9f3a"
             ],
             [
              0.8888888888888888,
              "#fdca26"
             ],
             [
              1,
              "#f0f921"
             ]
            ],
            "type": "surface"
           }
          ],
          "table": [
           {
            "cells": {
             "fill": {
              "color": "#EBF0F8"
             },
             "line": {
              "color": "white"
             }
            },
            "header": {
             "fill": {
              "color": "#C8D4E3"
             },
             "line": {
              "color": "white"
             }
            },
            "type": "table"
           }
          ]
         },
         "layout": {
          "annotationdefaults": {
           "arrowcolor": "#2a3f5f",
           "arrowhead": 0,
           "arrowwidth": 1
          },
          "autotypenumbers": "strict",
          "coloraxis": {
           "colorbar": {
            "outlinewidth": 0,
            "ticks": ""
           }
          },
          "colorscale": {
           "diverging": [
            [
             0,
             "#8e0152"
            ],
            [
             0.1,
             "#c51b7d"
            ],
            [
             0.2,
             "#de77ae"
            ],
            [
             0.3,
             "#f1b6da"
            ],
            [
             0.4,
             "#fde0ef"
            ],
            [
             0.5,
             "#f7f7f7"
            ],
            [
             0.6,
             "#e6f5d0"
            ],
            [
             0.7,
             "#b8e186"
            ],
            [
             0.8,
             "#7fbc41"
            ],
            [
             0.9,
             "#4d9221"
            ],
            [
             1,
             "#276419"
            ]
           ],
           "sequential": [
            [
             0,
             "#0d0887"
            ],
            [
             0.1111111111111111,
             "#46039f"
            ],
            [
             0.2222222222222222,
             "#7201a8"
            ],
            [
             0.3333333333333333,
             "#9c179e"
            ],
            [
             0.4444444444444444,
             "#bd3786"
            ],
            [
             0.5555555555555556,
             "#d8576b"
            ],
            [
             0.6666666666666666,
             "#ed7953"
            ],
            [
             0.7777777777777778,
             "#fb9f3a"
            ],
            [
             0.8888888888888888,
             "#fdca26"
            ],
            [
             1,
             "#f0f921"
            ]
           ],
           "sequentialminus": [
            [
             0,
             "#0d0887"
            ],
            [
             0.1111111111111111,
             "#46039f"
            ],
            [
             0.2222222222222222,
             "#7201a8"
            ],
            [
             0.3333333333333333,
             "#9c179e"
            ],
            [
             0.4444444444444444,
             "#bd3786"
            ],
            [
             0.5555555555555556,
             "#d8576b"
            ],
            [
             0.6666666666666666,
             "#ed7953"
            ],
            [
             0.7777777777777778,
             "#fb9f3a"
            ],
            [
             0.8888888888888888,
             "#fdca26"
            ],
            [
             1,
             "#f0f921"
            ]
           ]
          },
          "colorway": [
           "#636efa",
           "#EF553B",
           "#00cc96",
           "#ab63fa",
           "#FFA15A",
           "#19d3f3",
           "#FF6692",
           "#B6E880",
           "#FF97FF",
           "#FECB52"
          ],
          "font": {
           "color": "#2a3f5f"
          },
          "geo": {
           "bgcolor": "white",
           "lakecolor": "white",
           "landcolor": "#E5ECF6",
           "showlakes": true,
           "showland": true,
           "subunitcolor": "white"
          },
          "hoverlabel": {
           "align": "left"
          },
          "hovermode": "closest",
          "mapbox": {
           "style": "light"
          },
          "paper_bgcolor": "white",
          "plot_bgcolor": "#E5ECF6",
          "polar": {
           "angularaxis": {
            "gridcolor": "white",
            "linecolor": "white",
            "ticks": ""
           },
           "bgcolor": "#E5ECF6",
           "radialaxis": {
            "gridcolor": "white",
            "linecolor": "white",
            "ticks": ""
           }
          },
          "scene": {
           "xaxis": {
            "backgroundcolor": "#E5ECF6",
            "gridcolor": "white",
            "gridwidth": 2,
            "linecolor": "white",
            "showbackground": true,
            "ticks": "",
            "zerolinecolor": "white"
           },
           "yaxis": {
            "backgroundcolor": "#E5ECF6",
            "gridcolor": "white",
            "gridwidth": 2,
            "linecolor": "white",
            "showbackground": true,
            "ticks": "",
            "zerolinecolor": "white"
           },
           "zaxis": {
            "backgroundcolor": "#E5ECF6",
            "gridcolor": "white",
            "gridwidth": 2,
            "linecolor": "white",
            "showbackground": true,
            "ticks": "",
            "zerolinecolor": "white"
           }
          },
          "shapedefaults": {
           "line": {
            "color": "#2a3f5f"
           }
          },
          "ternary": {
           "aaxis": {
            "gridcolor": "white",
            "linecolor": "white",
            "ticks": ""
           },
           "baxis": {
            "gridcolor": "white",
            "linecolor": "white",
            "ticks": ""
           },
           "bgcolor": "#E5ECF6",
           "caxis": {
            "gridcolor": "white",
            "linecolor": "white",
            "ticks": ""
           }
          },
          "title": {
           "x": 0.05
          },
          "xaxis": {
           "automargin": true,
           "gridcolor": "white",
           "linecolor": "white",
           "ticks": "",
           "title": {
            "standoff": 15
           },
           "zerolinecolor": "white",
           "zerolinewidth": 2
          },
          "yaxis": {
           "automargin": true,
           "gridcolor": "white",
           "linecolor": "white",
           "ticks": "",
           "title": {
            "standoff": 15
           },
           "zerolinecolor": "white",
           "zerolinewidth": 2
          }
         }
        },
        "title": {
         "text": "Credits Category Distribution"
        },
        "xaxis": {
         "anchor": "y",
         "domain": [
          0,
          1
         ],
         "title": {
          "text": "credits_601+"
         }
        },
        "yaxis": {
         "anchor": "x",
         "domain": [
          0,
          1
         ],
         "title": {
          "text": "count"
         }
        }
       }
      }
     },
     "metadata": {},
     "output_type": "display_data"
    }
   ],
   "source": [
    "# split dataset into three categories\n",
    "\n",
    "df_modeling = df_merge_full.drop(columns=['id', 'changed_at', 'user', 'batch', 'state', 'user_id'])\n",
    "df_modeling['credits_601+'] = (df_modeling['credits'] > 600).astype(int)\n",
    "df_modeling = df_modeling.drop(columns=['credits'])\n",
    "\n",
    "fig = px.bar(pd.DataFrame(df_modeling['credits_601+'].value_counts().reset_index()), x='credits_601+', y='count', title='Credits Category Distribution')\n",
    "fig.show()"
   ]
  },
  {
   "cell_type": "code",
   "execution_count": 191,
   "metadata": {},
   "outputs": [
    {
     "data": {
      "text/plain": [
       "array([0, 1])"
      ]
     },
     "execution_count": 191,
     "metadata": {},
     "output_type": "execute_result"
    }
   ],
   "source": [
    "df_modeling['credits_601+'].unique()"
   ]
  },
  {
   "cell_type": "code",
   "execution_count": 95,
   "metadata": {},
   "outputs": [],
   "source": [
    "df_modeling = df_modeling[df_modeling['credits_category'].isnull()==False] # clean data from null values"
   ]
  },
  {
   "cell_type": "markdown",
   "metadata": {},
   "source": [
    "# Modeling"
   ]
  },
  {
   "cell_type": "code",
   "execution_count": 209,
   "metadata": {},
   "outputs": [],
   "source": [
    "y = df_modeling['credits_601+']\n",
    "X = df_modeling.drop(columns=['credits_601+'])\n",
    "\n",
    "def split_data(X, y, test_size=0.2, stratify=True, random_state=42):\n",
    "    \"\"\"\n",
    "    Split data into training and testing sets with optional stratification.\n",
    "\n",
    "    Args:\n",
    "        X (pd.DataFrame): Feature matrix.\n",
    "        y (pd.Series): Target variable.\n",
    "        test_size (float): Proportion of data to use as test set.\n",
    "        stratify (bool): Whether to stratify split based on y.\n",
    "        random_state (int): Seed for reproducibility.\n",
    "\n",
    "    Returns:\n",
    "        Tuple: (X_train, X_test, y_train, y_test)\n",
    "    \"\"\"\n",
    "    return train_test_split(\n",
    "        X,\n",
    "        y,\n",
    "        test_size=test_size,\n",
    "        stratify=y if stratify else None,\n",
    "        random_state=random_state\n",
    "    )\n",
    "\n",
    "\n",
    "\n",
    "X_train, X_test, y_train, y_test = train_test_split(X, y, stratify=y , train_size=0.8, random_state=42)"
   ]
  },
  {
   "cell_type": "code",
   "execution_count": null,
   "metadata": {},
   "outputs": [
    {
     "name": "stdout",
     "output_type": "stream",
     "text": [
      "0:\tlearn: 0.7479899\ttotal: 10.9ms\tremaining: 5.43s\n",
      "100:\tlearn: 0.7480643\ttotal: 404ms\tremaining: 1.59s\n",
      "200:\tlearn: 0.7514145\ttotal: 807ms\tremaining: 1.2s\n",
      "300:\tlearn: 0.7550625\ttotal: 1.25s\tremaining: 827ms\n",
      "400:\tlearn: 0.7612418\ttotal: 1.65s\tremaining: 408ms\n",
      "499:\tlearn: 0.7681656\ttotal: 2.04s\tremaining: 0us\n",
      "0:\tlearn: 0.7479342\ttotal: 5.07ms\tremaining: 2.53s\n",
      "100:\tlearn: 0.7479342\ttotal: 397ms\tremaining: 1.57s\n",
      "200:\tlearn: 0.7486786\ttotal: 789ms\tremaining: 1.17s\n",
      "300:\tlearn: 0.7529964\ttotal: 1.17s\tremaining: 777ms\n",
      "400:\tlearn: 0.7583563\ttotal: 1.55s\tremaining: 384ms\n",
      "499:\tlearn: 0.7629718\ttotal: 1.94s\tremaining: 0us\n",
      "0:\tlearn: 0.7480086\ttotal: 4.7ms\tremaining: 2.35s\n",
      "100:\tlearn: 0.7480086\ttotal: 422ms\tremaining: 1.67s\n",
      "200:\tlearn: 0.7499442\ttotal: 824ms\tremaining: 1.23s\n",
      "300:\tlearn: 0.7552297\ttotal: 1.22s\tremaining: 805ms\n",
      "400:\tlearn: 0.7602918\ttotal: 1.59s\tremaining: 392ms\n",
      "499:\tlearn: 0.7666195\ttotal: 1.98s\tremaining: 0us\n",
      "0:\tlearn: 0.7479899\ttotal: 3.38ms\tremaining: 1.69s\n",
      "100:\tlearn: 0.7480643\ttotal: 402ms\tremaining: 1.59s\n",
      "200:\tlearn: 0.7514145\ttotal: 794ms\tremaining: 1.18s\n",
      "300:\tlearn: 0.7550625\ttotal: 1.18s\tremaining: 781ms\n",
      "400:\tlearn: 0.7612418\ttotal: 1.58s\tremaining: 391ms\n",
      "499:\tlearn: 0.7681656\ttotal: 1.98s\tremaining: 0us\n",
      "0:\tlearn: 0.7479342\ttotal: 3.49ms\tremaining: 1.74s\n",
      "100:\tlearn: 0.7479342\ttotal: 400ms\tremaining: 1.58s\n",
      "200:\tlearn: 0.7486786\ttotal: 814ms\tremaining: 1.21s\n",
      "300:\tlearn: 0.7529964\ttotal: 1.21s\tremaining: 799ms\n",
      "400:\tlearn: 0.7583563\ttotal: 1.59s\tremaining: 393ms\n",
      "499:\tlearn: 0.7629718\ttotal: 2s\tremaining: 0us\n",
      "0:\tlearn: 0.7480086\ttotal: 5.14ms\tremaining: 2.56s\n",
      "100:\tlearn: 0.7480086\ttotal: 415ms\tremaining: 1.64s\n",
      "200:\tlearn: 0.7499442\ttotal: 805ms\tremaining: 1.2s\n",
      "300:\tlearn: 0.7552297\ttotal: 1.2s\tremaining: 791ms\n",
      "400:\tlearn: 0.7602918\ttotal: 1.61s\tremaining: 398ms\n",
      "499:\tlearn: 0.7666195\ttotal: 2s\tremaining: 0us\n",
      "0:\tlearn: 0.7479899\ttotal: 3.39ms\tremaining: 1.69s\n",
      "100:\tlearn: 0.7512656\ttotal: 394ms\tremaining: 1.56s\n",
      "200:\tlearn: 0.7630286\ttotal: 801ms\tremaining: 1.19s\n",
      "300:\tlearn: 0.7756105\ttotal: 1.19s\tremaining: 788ms\n",
      "400:\tlearn: 0.7890113\ttotal: 1.62s\tremaining: 400ms\n",
      "499:\tlearn: 0.8001787\ttotal: 2.03s\tremaining: 0us\n",
      "0:\tlearn: 0.7479342\ttotal: 4.07ms\tremaining: 2.03s\n",
      "100:\tlearn: 0.7492742\ttotal: 411ms\tremaining: 1.62s\n",
      "200:\tlearn: 0.7601429\ttotal: 800ms\tremaining: 1.19s\n",
      "300:\tlearn: 0.7730961\ttotal: 1.18s\tremaining: 779ms\n",
      "400:\tlearn: 0.7859748\ttotal: 1.56s\tremaining: 386ms\n",
      "499:\tlearn: 0.7972158\ttotal: 1.94s\tremaining: 0us\n",
      "0:\tlearn: 0.7480086\ttotal: 4.71ms\tremaining: 2.35s\n",
      "100:\tlearn: 0.7512842\ttotal: 388ms\tremaining: 1.53s\n",
      "200:\tlearn: 0.7631207\ttotal: 834ms\tremaining: 1.24s\n",
      "300:\tlearn: 0.7746594\ttotal: 1.23s\tremaining: 813ms\n",
      "400:\tlearn: 0.7871659\ttotal: 1.62s\tremaining: 401ms\n",
      "499:\tlearn: 0.7999702\ttotal: 2s\tremaining: 0us\n",
      "0:\tlearn: 0.7479899\ttotal: 3.25ms\tremaining: 1.62s\n",
      "100:\tlearn: 0.7512656\ttotal: 401ms\tremaining: 1.58s\n",
      "200:\tlearn: 0.7630286\ttotal: 794ms\tremaining: 1.18s\n",
      "300:\tlearn: 0.7756105\ttotal: 1.18s\tremaining: 783ms\n",
      "400:\tlearn: 0.7890113\ttotal: 1.57s\tremaining: 389ms\n",
      "499:\tlearn: 0.8001787\ttotal: 1.95s\tremaining: 0us\n",
      "0:\tlearn: 0.7479342\ttotal: 3.81ms\tremaining: 1.9s\n",
      "100:\tlearn: 0.7492742\ttotal: 378ms\tremaining: 1.49s\n",
      "200:\tlearn: 0.7601429\ttotal: 753ms\tremaining: 1.12s\n",
      "300:\tlearn: 0.7730961\ttotal: 1.13s\tremaining: 747ms\n",
      "400:\tlearn: 0.7859748\ttotal: 1.52s\tremaining: 375ms\n",
      "499:\tlearn: 0.7972158\ttotal: 1.9s\tremaining: 0us\n",
      "0:\tlearn: 0.7480086\ttotal: 4.2ms\tremaining: 2.09s\n",
      "100:\tlearn: 0.7512842\ttotal: 378ms\tremaining: 1.49s\n",
      "200:\tlearn: 0.7631207\ttotal: 758ms\tremaining: 1.13s\n",
      "300:\tlearn: 0.7746594\ttotal: 1.13s\tremaining: 749ms\n",
      "400:\tlearn: 0.7871659\ttotal: 1.51s\tremaining: 373ms\n",
      "499:\tlearn: 0.7999702\ttotal: 1.94s\tremaining: 0us\n",
      "0:\tlearn: 0.7479899\ttotal: 3.63ms\tremaining: 1.81s\n",
      "100:\tlearn: 0.7583383\ttotal: 481ms\tremaining: 1.9s\n",
      "200:\tlearn: 0.7785140\ttotal: 875ms\tremaining: 1.3s\n",
      "300:\tlearn: 0.7959351\ttotal: 1.33s\tremaining: 878ms\n",
      "400:\tlearn: 0.8117927\ttotal: 1.73s\tremaining: 426ms\n",
      "499:\tlearn: 0.8286182\ttotal: 2.11s\tremaining: 0us\n",
      "0:\tlearn: 0.7479342\ttotal: 4.82ms\tremaining: 2.41s\n",
      "100:\tlearn: 0.7540386\ttotal: 753ms\tremaining: 2.98s\n",
      "200:\tlearn: 0.7742128\ttotal: 1.16s\tremaining: 1.72s\n",
      "300:\tlearn: 0.7937170\ttotal: 1.55s\tremaining: 1.03s\n",
      "400:\tlearn: 0.8129234\ttotal: 1.95s\tremaining: 481ms\n",
      "499:\tlearn: 0.8258766\ttotal: 2.37s\tremaining: 0us\n",
      "0:\tlearn: 0.7480086\ttotal: 3.69ms\tremaining: 1.84s\n",
      "100:\tlearn: 0.7564208\ttotal: 378ms\tremaining: 1.49s\n",
      "200:\tlearn: 0.7773394\ttotal: 759ms\tremaining: 1.13s\n",
      "300:\tlearn: 0.7962480\ttotal: 1.14s\tremaining: 756ms\n",
      "400:\tlearn: 0.8129978\ttotal: 1.51s\tremaining: 373ms\n",
      "499:\tlearn: 0.8269932\ttotal: 1.91s\tremaining: 0us\n",
      "0:\tlearn: 0.7479899\ttotal: 6.57ms\tremaining: 3.28s\n",
      "100:\tlearn: 0.7583383\ttotal: 392ms\tremaining: 1.55s\n",
      "200:\tlearn: 0.7785140\ttotal: 772ms\tremaining: 1.15s\n",
      "300:\tlearn: 0.7959351\ttotal: 1.15s\tremaining: 759ms\n",
      "400:\tlearn: 0.8117927\ttotal: 1.54s\tremaining: 380ms\n",
      "499:\tlearn: 0.8286182\ttotal: 1.91s\tremaining: 0us\n",
      "0:\tlearn: 0.7479342\ttotal: 3.99ms\tremaining: 1.99s\n",
      "100:\tlearn: 0.7540386\ttotal: 410ms\tremaining: 1.62s\n",
      "200:\tlearn: 0.7742128\ttotal: 802ms\tremaining: 1.19s\n",
      "300:\tlearn: 0.7937170\ttotal: 1.18s\tremaining: 780ms\n",
      "400:\tlearn: 0.8129234\ttotal: 1.55s\tremaining: 384ms\n",
      "499:\tlearn: 0.8258766\ttotal: 1.96s\tremaining: 0us\n",
      "0:\tlearn: 0.7480086\ttotal: 4.4ms\tremaining: 2.2s\n",
      "100:\tlearn: 0.7564208\ttotal: 395ms\tremaining: 1.56s\n",
      "200:\tlearn: 0.7773394\ttotal: 781ms\tremaining: 1.16s\n",
      "300:\tlearn: 0.7962480\ttotal: 1.17s\tremaining: 775ms\n",
      "400:\tlearn: 0.8129978\ttotal: 1.55s\tremaining: 382ms\n",
      "499:\tlearn: 0.8269932\ttotal: 1.92s\tremaining: 0us\n",
      "0:\tlearn: 0.7479899\ttotal: 4.1ms\tremaining: 2.04s\n",
      "100:\tlearn: 0.7661554\ttotal: 389ms\tremaining: 1.53s\n",
      "200:\tlearn: 0.7908725\ttotal: 774ms\tremaining: 1.15s\n",
      "300:\tlearn: 0.8148451\ttotal: 1.15s\tremaining: 761ms\n",
      "400:\tlearn: 0.8315217\ttotal: 1.53s\tremaining: 378ms\n",
      "499:\tlearn: 0.8463371\ttotal: 1.9s\tremaining: 0us\n",
      "0:\tlearn: 0.7479342\ttotal: 3.69ms\tremaining: 1.84s\n",
      "100:\tlearn: 0.7612596\ttotal: 391ms\tremaining: 1.54s\n",
      "200:\tlearn: 0.7858260\ttotal: 772ms\tremaining: 1.15s\n",
      "300:\tlearn: 0.8103179\ttotal: 1.14s\tremaining: 756ms\n",
      "400:\tlearn: 0.8294499\ttotal: 1.51s\tremaining: 373ms\n",
      "499:\tlearn: 0.8447852\ttotal: 1.89s\tremaining: 0us\n",
      "0:\tlearn: 0.7480086\ttotal: 3.52ms\tremaining: 1.75s\n",
      "100:\tlearn: 0.7649818\ttotal: 383ms\tremaining: 1.51s\n",
      "200:\tlearn: 0.7905903\ttotal: 759ms\tremaining: 1.13s\n",
      "300:\tlearn: 0.8121045\ttotal: 1.15s\tremaining: 760ms\n",
      "400:\tlearn: 0.8293754\ttotal: 1.53s\tremaining: 377ms\n",
      "499:\tlearn: 0.8425519\ttotal: 1.9s\tremaining: 0us\n",
      "0:\tlearn: 0.7479899\ttotal: 3.27ms\tremaining: 1.63s\n",
      "100:\tlearn: 0.7661554\ttotal: 386ms\tremaining: 1.52s\n",
      "200:\tlearn: 0.7908725\ttotal: 764ms\tremaining: 1.14s\n",
      "300:\tlearn: 0.8148451\ttotal: 1.15s\tremaining: 763ms\n",
      "400:\tlearn: 0.8315217\ttotal: 1.53s\tremaining: 378ms\n",
      "499:\tlearn: 0.8463371\ttotal: 1.91s\tremaining: 0us\n",
      "0:\tlearn: 0.7479342\ttotal: 3.73ms\tremaining: 1.86s\n",
      "100:\tlearn: 0.7612596\ttotal: 381ms\tremaining: 1.51s\n",
      "200:\tlearn: 0.7858260\ttotal: 769ms\tremaining: 1.14s\n",
      "300:\tlearn: 0.8103179\ttotal: 1.15s\tremaining: 757ms\n",
      "400:\tlearn: 0.8294499\ttotal: 1.53s\tremaining: 378ms\n",
      "499:\tlearn: 0.8447852\ttotal: 1.92s\tremaining: 0us\n",
      "0:\tlearn: 0.7480086\ttotal: 3.62ms\tremaining: 1.81s\n",
      "100:\tlearn: 0.7649818\ttotal: 386ms\tremaining: 1.52s\n",
      "200:\tlearn: 0.7905903\ttotal: 780ms\tremaining: 1.16s\n",
      "300:\tlearn: 0.8121045\ttotal: 1.17s\tremaining: 771ms\n",
      "400:\tlearn: 0.8293754\ttotal: 1.54s\tremaining: 379ms\n",
      "499:\tlearn: 0.8425519\ttotal: 1.91s\tremaining: 0us\n",
      "0:\tlearn: 0.7479899\ttotal: 7.84ms\tremaining: 3.91s\n",
      "100:\tlearn: 0.7505956\ttotal: 861ms\tremaining: 3.4s\n",
      "200:\tlearn: 0.7607207\ttotal: 1.7s\tremaining: 2.52s\n",
      "300:\tlearn: 0.7800774\ttotal: 2.52s\tremaining: 1.67s\n",
      "400:\tlearn: 0.7983919\ttotal: 3.36s\tremaining: 829ms\n",
      "499:\tlearn: 0.8164086\ttotal: 4.18s\tremaining: 0us\n",
      "0:\tlearn: 0.7479342\ttotal: 7.12ms\tremaining: 3.55s\n",
      "100:\tlearn: 0.7489020\ttotal: 839ms\tremaining: 3.31s\n",
      "200:\tlearn: 0.7580585\ttotal: 1.69s\tremaining: 2.51s\n",
      "300:\tlearn: 0.7773394\ttotal: 2.51s\tremaining: 1.66s\n",
      "400:\tlearn: 0.7952058\ttotal: 3.36s\tremaining: 829ms\n",
      "499:\tlearn: 0.8158267\ttotal: 4.18s\tremaining: 0us\n",
      "0:\tlearn: 0.7482320\ttotal: 7.73ms\tremaining: 3.86s\n",
      "100:\tlearn: 0.7498697\ttotal: 846ms\tremaining: 3.34s\n",
      "200:\tlearn: 0.7613340\ttotal: 1.69s\tremaining: 2.51s\n",
      "300:\tlearn: 0.7786049\ttotal: 2.53s\tremaining: 1.67s\n",
      "400:\tlearn: 0.7986302\ttotal: 3.36s\tremaining: 829ms\n",
      "499:\tlearn: 0.8156034\ttotal: 4.17s\tremaining: 0us\n",
      "0:\tlearn: 0.7479899\ttotal: 8.48ms\tremaining: 4.23s\n",
      "100:\tlearn: 0.7505956\ttotal: 854ms\tremaining: 3.37s\n",
      "200:\tlearn: 0.7607207\ttotal: 1.68s\tremaining: 2.51s\n",
      "300:\tlearn: 0.7800774\ttotal: 2.59s\tremaining: 1.72s\n",
      "400:\tlearn: 0.7983919\ttotal: 3.63s\tremaining: 896ms\n",
      "499:\tlearn: 0.8164086\ttotal: 4.47s\tremaining: 0us\n",
      "0:\tlearn: 0.7479342\ttotal: 8.39ms\tremaining: 4.19s\n",
      "100:\tlearn: 0.7489020\ttotal: 875ms\tremaining: 3.46s\n",
      "200:\tlearn: 0.7580585\ttotal: 1.73s\tremaining: 2.57s\n",
      "300:\tlearn: 0.7773394\ttotal: 2.64s\tremaining: 1.75s\n",
      "400:\tlearn: 0.7952058\ttotal: 3.58s\tremaining: 885ms\n",
      "499:\tlearn: 0.8158267\ttotal: 4.43s\tremaining: 0us\n",
      "0:\tlearn: 0.7482320\ttotal: 7.23ms\tremaining: 3.61s\n",
      "100:\tlearn: 0.7498697\ttotal: 843ms\tremaining: 3.33s\n",
      "200:\tlearn: 0.7613340\ttotal: 1.8s\tremaining: 2.68s\n",
      "300:\tlearn: 0.7786049\ttotal: 2.69s\tremaining: 1.78s\n",
      "400:\tlearn: 0.7986302\ttotal: 3.55s\tremaining: 876ms\n",
      "499:\tlearn: 0.8156034\ttotal: 4.39s\tremaining: 0us\n",
      "0:\tlearn: 0.7479899\ttotal: 9.93ms\tremaining: 4.95s\n",
      "100:\tlearn: 0.7622841\ttotal: 870ms\tremaining: 3.44s\n",
      "200:\tlearn: 0.8027099\ttotal: 1.72s\tremaining: 2.55s\n",
      "300:\tlearn: 0.8320429\ttotal: 2.54s\tremaining: 1.68s\n",
      "400:\tlearn: 0.8615992\ttotal: 3.36s\tremaining: 831ms\n",
      "499:\tlearn: 0.8821471\ttotal: 4.2s\tremaining: 0us\n",
      "0:\tlearn: 0.7479342\ttotal: 11.5ms\tremaining: 5.76s\n",
      "100:\tlearn: 0.7599196\ttotal: 854ms\tremaining: 3.37s\n",
      "200:\tlearn: 0.7998213\ttotal: 1.7s\tremaining: 2.52s\n",
      "300:\tlearn: 0.8311621\ttotal: 2.55s\tremaining: 1.69s\n",
      "400:\tlearn: 0.8591528\ttotal: 3.37s\tremaining: 832ms\n",
      "499:\tlearn: 0.8808903\ttotal: 4.19s\tremaining: 0us\n",
      "0:\tlearn: 0.7482320\ttotal: 7.07ms\tremaining: 3.53s\n",
      "100:\tlearn: 0.7623018\ttotal: 839ms\tremaining: 3.31s\n",
      "200:\tlearn: 0.8022035\ttotal: 1.67s\tremaining: 2.48s\n",
      "300:\tlearn: 0.8340654\ttotal: 2.49s\tremaining: 1.65s\n",
      "400:\tlearn: 0.8595995\ttotal: 3.39s\tremaining: 836ms\n",
      "499:\tlearn: 0.8786570\ttotal: 4.23s\tremaining: 0us\n",
      "0:\tlearn: 0.7479899\ttotal: 8.74ms\tremaining: 4.36s\n",
      "100:\tlearn: 0.7622841\ttotal: 843ms\tremaining: 3.33s\n",
      "200:\tlearn: 0.8027099\ttotal: 1.67s\tremaining: 2.48s\n",
      "300:\tlearn: 0.8320429\ttotal: 2.49s\tremaining: 1.65s\n",
      "400:\tlearn: 0.8615992\ttotal: 3.69s\tremaining: 912ms\n",
      "499:\tlearn: 0.8821471\ttotal: 4.61s\tremaining: 0us\n",
      "0:\tlearn: 0.7479342\ttotal: 8.25ms\tremaining: 4.12s\n",
      "100:\tlearn: 0.7599196\ttotal: 871ms\tremaining: 3.44s\n",
      "200:\tlearn: 0.7998213\ttotal: 1.67s\tremaining: 2.49s\n",
      "300:\tlearn: 0.8311621\ttotal: 2.57s\tremaining: 1.7s\n",
      "400:\tlearn: 0.8591528\ttotal: 3.39s\tremaining: 837ms\n",
      "499:\tlearn: 0.8808903\ttotal: 4.19s\tremaining: 0us\n",
      "0:\tlearn: 0.7482320\ttotal: 8.55ms\tremaining: 4.26s\n",
      "100:\tlearn: 0.7623018\ttotal: 888ms\tremaining: 3.51s\n",
      "200:\tlearn: 0.8022035\ttotal: 1.7s\tremaining: 2.53s\n",
      "300:\tlearn: 0.8340654\ttotal: 2.5s\tremaining: 1.65s\n",
      "400:\tlearn: 0.8595995\ttotal: 3.29s\tremaining: 812ms\n",
      "499:\tlearn: 0.8786570\ttotal: 4.08s\tremaining: 0us\n",
      "0:\tlearn: 0.7479899\ttotal: 7.93ms\tremaining: 3.96s\n",
      "100:\tlearn: 0.7855867\ttotal: 812ms\tremaining: 3.21s\n",
      "200:\tlearn: 0.8360631\ttotal: 1.61s\tremaining: 2.4s\n",
      "300:\tlearn: 0.8712031\ttotal: 2.41s\tremaining: 1.59s\n",
      "400:\tlearn: 0.8983026\ttotal: 3.2s\tremaining: 790ms\n",
      "499:\tlearn: 0.9201161\ttotal: 4s\tremaining: 0us\n",
      "0:\tlearn: 0.7479342\ttotal: 6.99ms\tremaining: 3.49s\n",
      "100:\tlearn: 0.7795727\ttotal: 807ms\tremaining: 3.19s\n",
      "200:\tlearn: 0.8327254\ttotal: 1.6s\tremaining: 2.39s\n",
      "300:\tlearn: 0.8668205\ttotal: 2.47s\tremaining: 1.63s\n",
      "400:\tlearn: 0.8949602\ttotal: 3.27s\tremaining: 807ms\n",
      "499:\tlearn: 0.9169210\ttotal: 4.06s\tremaining: 0us\n",
      "0:\tlearn: 0.7482320\ttotal: 7.79ms\tremaining: 3.88s\n",
      "100:\tlearn: 0.7816571\ttotal: 807ms\tremaining: 3.19s\n",
      "200:\tlearn: 0.8337676\ttotal: 1.6s\tremaining: 2.38s\n",
      "300:\tlearn: 0.8680861\ttotal: 2.4s\tremaining: 1.59s\n",
      "400:\tlearn: 0.8954813\ttotal: 3.19s\tremaining: 788ms\n",
      "499:\tlearn: 0.9172932\ttotal: 3.98s\tremaining: 0us\n",
      "0:\tlearn: 0.7479899\ttotal: 7.98ms\tremaining: 3.98s\n",
      "100:\tlearn: 0.7855867\ttotal: 842ms\tremaining: 3.33s\n",
      "200:\tlearn: 0.8360631\ttotal: 1.64s\tremaining: 2.43s\n",
      "300:\tlearn: 0.8712031\ttotal: 2.43s\tremaining: 1.6s\n",
      "400:\tlearn: 0.8983026\ttotal: 3.22s\tremaining: 795ms\n",
      "499:\tlearn: 0.9201161\ttotal: 4.01s\tremaining: 0us\n",
      "0:\tlearn: 0.7479342\ttotal: 6.95ms\tremaining: 3.47s\n",
      "100:\tlearn: 0.7795727\ttotal: 812ms\tremaining: 3.21s\n",
      "200:\tlearn: 0.8327254\ttotal: 1.85s\tremaining: 2.75s\n",
      "300:\tlearn: 0.8668205\ttotal: 2.67s\tremaining: 1.77s\n",
      "400:\tlearn: 0.8949602\ttotal: 3.48s\tremaining: 858ms\n",
      "499:\tlearn: 0.9169210\ttotal: 4.25s\tremaining: 0us\n",
      "0:\tlearn: 0.7482320\ttotal: 7.73ms\tremaining: 3.86s\n",
      "100:\tlearn: 0.7816571\ttotal: 797ms\tremaining: 3.15s\n",
      "200:\tlearn: 0.8337676\ttotal: 1.59s\tremaining: 2.37s\n",
      "300:\tlearn: 0.8680861\ttotal: 2.39s\tremaining: 1.58s\n",
      "400:\tlearn: 0.8954813\ttotal: 3.19s\tremaining: 786ms\n",
      "499:\tlearn: 0.9172932\ttotal: 3.96s\tremaining: 0us\n",
      "0:\tlearn: 0.7479899\ttotal: 7.01ms\tremaining: 3.5s\n",
      "100:\tlearn: 0.8027099\ttotal: 799ms\tremaining: 3.16s\n",
      "200:\tlearn: 0.8585468\ttotal: 1.59s\tremaining: 2.36s\n",
      "300:\tlearn: 0.8958457\ttotal: 2.39s\tremaining: 1.58s\n",
      "400:\tlearn: 0.9233919\ttotal: 3.19s\tremaining: 788ms\n",
      "499:\tlearn: 0.9445354\ttotal: 3.96s\tremaining: 0us\n",
      "0:\tlearn: 0.7479342\ttotal: 8.12ms\tremaining: 4.05s\n",
      "100:\tlearn: 0.8018313\ttotal: 814ms\tremaining: 3.22s\n",
      "200:\tlearn: 0.8540907\ttotal: 1.64s\tremaining: 2.44s\n",
      "300:\tlearn: 0.8912380\ttotal: 2.54s\tremaining: 1.68s\n",
      "400:\tlearn: 0.9202710\ttotal: 3.44s\tremaining: 849ms\n",
      "499:\tlearn: 0.9446885\ttotal: 4.38s\tremaining: 0us\n",
      "0:\tlearn: 0.7482320\ttotal: 8.46ms\tremaining: 4.22s\n",
      "100:\tlearn: 0.8049579\ttotal: 931ms\tremaining: 3.68s\n",
      "200:\tlearn: 0.8561751\ttotal: 1.8s\tremaining: 2.68s\n",
      "300:\tlearn: 0.8947368\ttotal: 2.72s\tremaining: 1.8s\n",
      "400:\tlearn: 0.9230254\ttotal: 3.56s\tremaining: 878ms\n",
      "499:\tlearn: 0.9431996\ttotal: 4.34s\tremaining: 0us\n",
      "0:\tlearn: 0.7479899\ttotal: 8.46ms\tremaining: 4.22s\n",
      "100:\tlearn: 0.8027099\ttotal: 808ms\tremaining: 3.19s\n",
      "200:\tlearn: 0.8585468\ttotal: 1.6s\tremaining: 2.38s\n",
      "300:\tlearn: 0.8958457\ttotal: 2.4s\tremaining: 1.58s\n",
      "400:\tlearn: 0.9233919\ttotal: 3.19s\tremaining: 788ms\n",
      "499:\tlearn: 0.9445354\ttotal: 3.98s\tremaining: 0us\n",
      "0:\tlearn: 0.7479342\ttotal: 9.2ms\tremaining: 4.59s\n",
      "100:\tlearn: 0.8018313\ttotal: 825ms\tremaining: 3.26s\n",
      "200:\tlearn: 0.8540907\ttotal: 1.63s\tremaining: 2.42s\n",
      "300:\tlearn: 0.8912380\ttotal: 2.41s\tremaining: 1.6s\n",
      "400:\tlearn: 0.9202710\ttotal: 3.23s\tremaining: 798ms\n",
      "499:\tlearn: 0.9446885\ttotal: 4.01s\tremaining: 0us\n",
      "0:\tlearn: 0.7482320\ttotal: 7.29ms\tremaining: 3.64s\n",
      "100:\tlearn: 0.8049579\ttotal: 810ms\tremaining: 3.2s\n",
      "200:\tlearn: 0.8561751\ttotal: 1.6s\tremaining: 2.38s\n",
      "300:\tlearn: 0.8947368\ttotal: 2.38s\tremaining: 1.57s\n",
      "400:\tlearn: 0.9230254\ttotal: 3.17s\tremaining: 783ms\n",
      "499:\tlearn: 0.9431996\ttotal: 4.02s\tremaining: 0us\n",
      "0:\tlearn: 0.7481388\ttotal: 20.8ms\tremaining: 10.4s\n",
      "100:\tlearn: 0.7620608\ttotal: 2.24s\tremaining: 8.84s\n",
      "200:\tlearn: 0.7984663\ttotal: 4.42s\tremaining: 6.58s\n",
      "300:\tlearn: 0.8379988\ttotal: 6.61s\tremaining: 4.37s\n",
      "400:\tlearn: 0.8751489\ttotal: 8.8s\tremaining: 2.17s\n",
      "499:\tlearn: 0.9015039\ttotal: 11s\tremaining: 0us\n",
      "0:\tlearn: 0.7481575\ttotal: 21.4ms\tremaining: 10.7s\n",
      "100:\tlearn: 0.7586541\ttotal: 2.24s\tremaining: 8.85s\n",
      "200:\tlearn: 0.7934936\ttotal: 4.44s\tremaining: 6.6s\n",
      "300:\tlearn: 0.8389042\ttotal: 6.65s\tremaining: 4.4s\n",
      "400:\tlearn: 0.8705427\ttotal: 8.85s\tremaining: 2.19s\n",
      "499:\tlearn: 0.8973424\ttotal: 11s\tremaining: 0us\n",
      "0:\tlearn: 0.7496464\ttotal: 19.5ms\tremaining: 9.71s\n",
      "100:\tlearn: 0.7597707\ttotal: 2.24s\tremaining: 8.83s\n",
      "200:\tlearn: 0.7980347\ttotal: 4.46s\tremaining: 6.63s\n",
      "300:\tlearn: 0.8374898\ttotal: 6.67s\tremaining: 4.41s\n",
      "400:\tlearn: 0.8704682\ttotal: 8.88s\tremaining: 2.19s\n",
      "499:\tlearn: 0.8987568\ttotal: 11.2s\tremaining: 0us\n",
      "0:\tlearn: 0.7481388\ttotal: 21ms\tremaining: 10.5s\n",
      "100:\tlearn: 0.7620608\ttotal: 2.23s\tremaining: 8.79s\n",
      "200:\tlearn: 0.7984663\ttotal: 4.43s\tremaining: 6.59s\n",
      "300:\tlearn: 0.8379988\ttotal: 6.66s\tremaining: 4.41s\n",
      "400:\tlearn: 0.8751489\ttotal: 8.93s\tremaining: 2.2s\n",
      "499:\tlearn: 0.9015039\ttotal: 11.1s\tremaining: 0us\n",
      "0:\tlearn: 0.7481575\ttotal: 22.5ms\tremaining: 11.2s\n",
      "100:\tlearn: 0.7586541\ttotal: 2.26s\tremaining: 8.92s\n",
      "200:\tlearn: 0.7934936\ttotal: 4.46s\tremaining: 6.64s\n",
      "300:\tlearn: 0.8389042\ttotal: 6.67s\tremaining: 4.41s\n",
      "400:\tlearn: 0.8705427\ttotal: 8.86s\tremaining: 2.19s\n",
      "499:\tlearn: 0.8973424\ttotal: 11.1s\tremaining: 0us\n",
      "0:\tlearn: 0.7496464\ttotal: 21.1ms\tremaining: 10.5s\n",
      "100:\tlearn: 0.7597707\ttotal: 2.24s\tremaining: 8.85s\n",
      "200:\tlearn: 0.7980347\ttotal: 4.45s\tremaining: 6.61s\n",
      "300:\tlearn: 0.8374898\ttotal: 6.66s\tremaining: 4.4s\n",
      "400:\tlearn: 0.8704682\ttotal: 8.83s\tremaining: 2.18s\n",
      "499:\tlearn: 0.8987568\ttotal: 11s\tremaining: 0us\n",
      "0:\tlearn: 0.7481388\ttotal: 19.7ms\tremaining: 9.85s\n",
      "100:\tlearn: 0.7991364\ttotal: 2.21s\tremaining: 8.71s\n",
      "200:\tlearn: 0.8725432\ttotal: 4.4s\tremaining: 6.55s\n",
      "300:\tlearn: 0.9235408\ttotal: 6.69s\tremaining: 4.42s\n",
      "400:\tlearn: 0.9551072\ttotal: 8.91s\tremaining: 2.2s\n",
      "499:\tlearn: 0.9751340\ttotal: 11.1s\tremaining: 0us\n",
      "0:\tlearn: 0.7481575\ttotal: 23ms\tremaining: 11.5s\n",
      "100:\tlearn: 0.7906648\ttotal: 2.21s\tremaining: 8.74s\n",
      "200:\tlearn: 0.8694260\ttotal: 4.42s\tremaining: 6.57s\n",
      "300:\tlearn: 0.9178888\ttotal: 6.62s\tremaining: 4.38s\n",
      "400:\tlearn: 0.9537706\ttotal: 8.81s\tremaining: 2.18s\n",
      "499:\tlearn: 0.9740192\ttotal: 11s\tremaining: 0us\n",
      "0:\tlearn: 0.7496464\ttotal: 21.5ms\tremaining: 10.7s\n",
      "100:\tlearn: 0.7983325\ttotal: 2.21s\tremaining: 8.74s\n",
      "200:\tlearn: 0.8732971\ttotal: 4.38s\tremaining: 6.51s\n",
      "300:\tlearn: 0.9202710\ttotal: 6.56s\tremaining: 4.34s\n",
      "400:\tlearn: 0.9536217\ttotal: 8.74s\tremaining: 2.16s\n",
      "499:\tlearn: 0.9748381\ttotal: 10.9s\tremaining: 0us\n",
      "0:\tlearn: 0.7481388\ttotal: 20.1ms\tremaining: 10s\n",
      "100:\tlearn: 0.7991364\ttotal: 2.23s\tremaining: 8.79s\n",
      "200:\tlearn: 0.8725432\ttotal: 4.46s\tremaining: 6.63s\n",
      "300:\tlearn: 0.9235408\ttotal: 6.65s\tremaining: 4.39s\n",
      "400:\tlearn: 0.9551072\ttotal: 8.86s\tremaining: 2.19s\n",
      "499:\tlearn: 0.9751340\ttotal: 11s\tremaining: 0us\n",
      "0:\tlearn: 0.7481575\ttotal: 18.9ms\tremaining: 9.44s\n",
      "100:\tlearn: 0.7906648\ttotal: 2.25s\tremaining: 8.88s\n",
      "200:\tlearn: 0.8694260\ttotal: 4.44s\tremaining: 6.6s\n",
      "300:\tlearn: 0.9178888\ttotal: 6.63s\tremaining: 4.38s\n",
      "400:\tlearn: 0.9537706\ttotal: 8.82s\tremaining: 2.18s\n",
      "499:\tlearn: 0.9740192\ttotal: 11s\tremaining: 0us\n",
      "0:\tlearn: 0.7496464\ttotal: 19.7ms\tremaining: 9.85s\n",
      "100:\tlearn: 0.7983325\ttotal: 2.23s\tremaining: 8.79s\n",
      "200:\tlearn: 0.8732971\ttotal: 4.39s\tremaining: 6.54s\n",
      "300:\tlearn: 0.9202710\ttotal: 6.57s\tremaining: 4.34s\n",
      "400:\tlearn: 0.9536217\ttotal: 8.75s\tremaining: 2.16s\n",
      "499:\tlearn: 0.9748381\ttotal: 10.9s\tremaining: 0us\n",
      "0:\tlearn: 0.7481388\ttotal: 19.9ms\tremaining: 9.93s\n",
      "100:\tlearn: 0.8417213\ttotal: 2.21s\tremaining: 8.73s\n",
      "200:\tlearn: 0.9191483\ttotal: 4.39s\tremaining: 6.53s\n",
      "300:\tlearn: 0.9652323\ttotal: 6.58s\tremaining: 4.35s\n",
      "400:\tlearn: 0.9868970\ttotal: 8.78s\tremaining: 2.17s\n",
      "499:\tlearn: 0.9960542\ttotal: 11s\tremaining: 0us\n",
      "0:\tlearn: 0.7481575\ttotal: 19.6ms\tremaining: 9.77s\n",
      "100:\tlearn: 0.8368942\ttotal: 2.22s\tremaining: 8.76s\n",
      "200:\tlearn: 0.9187077\ttotal: 4.41s\tremaining: 6.56s\n",
      "300:\tlearn: 0.9644160\ttotal: 6.66s\tremaining: 4.4s\n",
      "400:\tlearn: 0.9871213\ttotal: 8.86s\tremaining: 2.19s\n",
      "499:\tlearn: 0.9964267\ttotal: 11s\tremaining: 0us\n",
      "0:\tlearn: 0.7496464\ttotal: 19.3ms\tremaining: 9.63s\n",
      "100:\tlearn: 0.8396486\ttotal: 2.23s\tremaining: 8.81s\n",
      "200:\tlearn: 0.9168466\ttotal: 4.42s\tremaining: 6.58s\n",
      "300:\tlearn: 0.9609171\ttotal: 6.59s\tremaining: 4.36s\n",
      "400:\tlearn: 0.9863768\ttotal: 8.77s\tremaining: 2.17s\n",
      "499:\tlearn: 0.9951612\ttotal: 10.9s\tremaining: 0us\n",
      "0:\tlearn: 0.7481388\ttotal: 20.2ms\tremaining: 10.1s\n",
      "100:\tlearn: 0.8417213\ttotal: 2.22s\tremaining: 8.78s\n",
      "200:\tlearn: 0.9191483\ttotal: 4.46s\tremaining: 6.63s\n",
      "300:\tlearn: 0.9652323\ttotal: 6.66s\tremaining: 4.4s\n",
      "400:\tlearn: 0.9868970\ttotal: 8.92s\tremaining: 2.2s\n",
      "499:\tlearn: 0.9960542\ttotal: 11.1s\tremaining: 0us\n",
      "0:\tlearn: 0.7481575\ttotal: 20.8ms\tremaining: 10.4s\n",
      "100:\tlearn: 0.8368942\ttotal: 2.24s\tremaining: 8.85s\n",
      "200:\tlearn: 0.9187077\ttotal: 4.43s\tremaining: 6.59s\n",
      "300:\tlearn: 0.9644160\ttotal: 6.69s\tremaining: 4.42s\n",
      "400:\tlearn: 0.9871213\ttotal: 8.88s\tremaining: 2.19s\n",
      "499:\tlearn: 0.9964267\ttotal: 11.1s\tremaining: 0us\n",
      "0:\tlearn: 0.7496464\ttotal: 21.6ms\tremaining: 10.8s\n",
      "100:\tlearn: 0.8396486\ttotal: 2.23s\tremaining: 8.8s\n",
      "200:\tlearn: 0.9168466\ttotal: 4.41s\tremaining: 6.57s\n",
      "300:\tlearn: 0.9609171\ttotal: 6.59s\tremaining: 4.36s\n",
      "400:\tlearn: 0.9863768\ttotal: 8.79s\tremaining: 2.17s\n",
      "499:\tlearn: 0.9951612\ttotal: 11s\tremaining: 0us\n",
      "0:\tlearn: 0.7481388\ttotal: 22.9ms\tremaining: 11.4s\n",
      "100:\tlearn: 0.8703842\ttotal: 2.27s\tremaining: 8.95s\n",
      "200:\tlearn: 0.9485557\ttotal: 4.49s\tremaining: 6.69s\n",
      "300:\tlearn: 0.9852591\ttotal: 6.68s\tremaining: 4.42s\n",
      "400:\tlearn: 0.9967242\ttotal: 8.94s\tremaining: 2.21s\n",
      "499:\tlearn: 0.9997767\ttotal: 11.3s\tremaining: 0us\n",
      "0:\tlearn: 0.7481575\ttotal: 25.1ms\tremaining: 12.5s\n",
      "100:\tlearn: 0.8648850\ttotal: 2.23s\tremaining: 8.8s\n",
      "200:\tlearn: 0.9464007\ttotal: 4.42s\tremaining: 6.57s\n",
      "300:\tlearn: 0.9830269\ttotal: 6.68s\tremaining: 4.42s\n",
      "400:\tlearn: 0.9953101\ttotal: 8.87s\tremaining: 2.19s\n",
      "499:\tlearn: 0.9994045\ttotal: 11.1s\tremaining: 0us\n",
      "0:\tlearn: 0.7496464\ttotal: 20.6ms\tremaining: 10.3s\n",
      "100:\tlearn: 0.8697983\ttotal: 2.21s\tremaining: 8.74s\n",
      "200:\tlearn: 0.9477406\ttotal: 4.4s\tremaining: 6.55s\n",
      "300:\tlearn: 0.9843669\ttotal: 6.61s\tremaining: 4.37s\n",
      "400:\tlearn: 0.9966500\ttotal: 8.79s\tremaining: 2.17s\n",
      "499:\tlearn: 0.9994045\ttotal: 11s\tremaining: 0us\n",
      "0:\tlearn: 0.7481388\ttotal: 21.9ms\tremaining: 11s\n",
      "100:\tlearn: 0.8703842\ttotal: 2.22s\tremaining: 8.76s\n",
      "200:\tlearn: 0.9485557\ttotal: 4.42s\tremaining: 6.57s\n",
      "300:\tlearn: 0.9852591\ttotal: 6.61s\tremaining: 4.37s\n",
      "400:\tlearn: 0.9967242\ttotal: 8.82s\tremaining: 2.18s\n",
      "499:\tlearn: 0.9997767\ttotal: 11s\tremaining: 0us\n",
      "0:\tlearn: 0.7481575\ttotal: 19.6ms\tremaining: 9.78s\n",
      "100:\tlearn: 0.8648850\ttotal: 2.27s\tremaining: 8.96s\n",
      "200:\tlearn: 0.9464007\ttotal: 4.47s\tremaining: 6.66s\n",
      "300:\tlearn: 0.9830269\ttotal: 6.68s\tremaining: 4.42s\n",
      "400:\tlearn: 0.9953101\ttotal: 8.86s\tremaining: 2.19s\n",
      "499:\tlearn: 0.9994045\ttotal: 11s\tremaining: 0us\n",
      "0:\tlearn: 0.7496464\ttotal: 19ms\tremaining: 9.49s\n",
      "100:\tlearn: 0.8697983\ttotal: 2.28s\tremaining: 9.01s\n",
      "200:\tlearn: 0.9477406\ttotal: 4.47s\tremaining: 6.65s\n",
      "300:\tlearn: 0.9843669\ttotal: 6.67s\tremaining: 4.41s\n",
      "400:\tlearn: 0.9966500\ttotal: 9.06s\tremaining: 2.24s\n",
      "499:\tlearn: 0.9994045\ttotal: 11.2s\tremaining: 0us\n",
      "0:\tlearn: 0.7500744\ttotal: 68.9ms\tremaining: 34.4s\n",
      "100:\tlearn: 0.8132073\ttotal: 7.54s\tremaining: 29.8s\n",
      "200:\tlearn: 0.8849762\ttotal: 15.1s\tremaining: 22.5s\n",
      "300:\tlearn: 0.9395473\ttotal: 23.2s\tremaining: 15.4s\n",
      "400:\tlearn: 0.9737195\ttotal: 32.1s\tremaining: 7.92s\n",
      "499:\tlearn: 0.9919595\ttotal: 40.7s\tremaining: 0us\n",
      "0:\tlearn: 0.7512842\ttotal: 100ms\tremaining: 50s\n",
      "100:\tlearn: 0.7987047\ttotal: 8.15s\tremaining: 32.2s\n",
      "200:\tlearn: 0.8768704\ttotal: 15.9s\tremaining: 23.6s\n",
      "300:\tlearn: 0.9357552\ttotal: 23.5s\tremaining: 15.6s\n",
      "400:\tlearn: 0.9730514\ttotal: 31.5s\tremaining: 7.79s\n",
      "499:\tlearn: 0.9896523\ttotal: 39.2s\tremaining: 0us\n",
      "0:\tlearn: 0.7507630\ttotal: 65.4ms\tremaining: 32.6s\n",
      "100:\tlearn: 0.8033202\ttotal: 7.6s\tremaining: 30s\n",
      "200:\tlearn: 0.8780615\ttotal: 15.2s\tremaining: 22.6s\n",
      "300:\tlearn: 0.9398496\ttotal: 22.8s\tremaining: 15.1s\n",
      "400:\tlearn: 0.9752103\ttotal: 30.4s\tremaining: 7.5s\n",
      "499:\tlearn: 0.9912901\ttotal: 38s\tremaining: 0us\n",
      "0:\tlearn: 0.7500744\ttotal: 64.9ms\tremaining: 32.4s\n",
      "100:\tlearn: 0.8132073\ttotal: 7.66s\tremaining: 30.2s\n",
      "200:\tlearn: 0.8849762\ttotal: 15.2s\tremaining: 22.7s\n",
      "300:\tlearn: 0.9395473\ttotal: 22.8s\tremaining: 15s\n",
      "400:\tlearn: 0.9737195\ttotal: 30.4s\tremaining: 7.5s\n",
      "499:\tlearn: 0.9919595\ttotal: 38s\tremaining: 0us\n",
      "0:\tlearn: 0.7512842\ttotal: 72.3ms\tremaining: 36.1s\n",
      "100:\tlearn: 0.7987047\ttotal: 7.66s\tremaining: 30.3s\n",
      "200:\tlearn: 0.8768704\ttotal: 15.3s\tremaining: 22.8s\n",
      "300:\tlearn: 0.9357552\ttotal: 23.1s\tremaining: 15.3s\n",
      "400:\tlearn: 0.9730514\ttotal: 30.8s\tremaining: 7.61s\n",
      "499:\tlearn: 0.9896523\ttotal: 38.4s\tremaining: 0us\n",
      "0:\tlearn: 0.7507630\ttotal: 66.1ms\tremaining: 33s\n",
      "100:\tlearn: 0.8033202\ttotal: 7.55s\tremaining: 29.8s\n",
      "200:\tlearn: 0.8780615\ttotal: 15.2s\tremaining: 22.7s\n",
      "300:\tlearn: 0.9398496\ttotal: 23.1s\tremaining: 15.3s\n",
      "400:\tlearn: 0.9752103\ttotal: 31s\tremaining: 7.65s\n",
      "499:\tlearn: 0.9912901\ttotal: 39.1s\tremaining: 0us\n",
      "0:\tlearn: 0.7500744\ttotal: 70.7ms\tremaining: 35.3s\n",
      "100:\tlearn: 0.8837850\ttotal: 8.42s\tremaining: 33.3s\n",
      "200:\tlearn: 0.9740173\ttotal: 16.3s\tremaining: 24.2s\n",
      "300:\tlearn: 0.9962031\ttotal: 24s\tremaining: 15.9s\n",
      "400:\tlearn: 0.9998511\ttotal: 31.8s\tremaining: 7.84s\n",
      "499:\tlearn: 1.0000000\ttotal: 39.4s\tremaining: 0us\n",
      "0:\tlearn: 0.7512842\ttotal: 66.4ms\tremaining: 33.1s\n",
      "100:\tlearn: 0.8754560\ttotal: 7.75s\tremaining: 30.6s\n",
      "200:\tlearn: 0.9694782\ttotal: 15.5s\tremaining: 23.1s\n",
      "300:\tlearn: 0.9965012\ttotal: 23.5s\tremaining: 15.5s\n",
      "400:\tlearn: 0.9999256\ttotal: 31.2s\tremaining: 7.71s\n",
      "499:\tlearn: 1.0000000\ttotal: 39s\tremaining: 0us\n",
      "0:\tlearn: 0.7507630\ttotal: 67.4ms\tremaining: 33.6s\n",
      "100:\tlearn: 0.8758282\ttotal: 7.82s\tremaining: 30.9s\n",
      "200:\tlearn: 0.9705204\ttotal: 16.1s\tremaining: 23.9s\n",
      "300:\tlearn: 0.9955334\ttotal: 24.5s\tremaining: 16.2s\n",
      "400:\tlearn: 0.9997022\ttotal: 32.2s\tremaining: 7.95s\n",
      "499:\tlearn: 1.0000000\ttotal: 39.7s\tremaining: 0us\n",
      "0:\tlearn: 0.7500744\ttotal: 66.7ms\tremaining: 33.3s\n",
      "100:\tlearn: 0.8837850\ttotal: 7.79s\tremaining: 30.8s\n",
      "200:\tlearn: 0.9740173\ttotal: 15.8s\tremaining: 23.4s\n",
      "300:\tlearn: 0.9962031\ttotal: 23.8s\tremaining: 15.7s\n",
      "400:\tlearn: 0.9998511\ttotal: 32.5s\tremaining: 8.02s\n",
      "499:\tlearn: 1.0000000\ttotal: 40.9s\tremaining: 0us\n",
      "0:\tlearn: 0.7512842\ttotal: 71.6ms\tremaining: 35.7s\n",
      "100:\tlearn: 0.8754560\ttotal: 8.02s\tremaining: 31.7s\n",
      "200:\tlearn: 0.9694782\ttotal: 15.6s\tremaining: 23.3s\n",
      "300:\tlearn: 0.9965012\ttotal: 23.3s\tremaining: 15.4s\n",
      "400:\tlearn: 0.9999256\ttotal: 31s\tremaining: 7.65s\n",
      "499:\tlearn: 1.0000000\ttotal: 38.5s\tremaining: 0us\n",
      "0:\tlearn: 0.7507630\ttotal: 64.2ms\tremaining: 32.1s\n",
      "100:\tlearn: 0.8758282\ttotal: 7.58s\tremaining: 29.9s\n",
      "200:\tlearn: 0.9705204\ttotal: 15.5s\tremaining: 23s\n",
      "300:\tlearn: 0.9955334\ttotal: 23s\tremaining: 15.2s\n",
      "400:\tlearn: 0.9997022\ttotal: 30.8s\tremaining: 7.59s\n",
      "499:\tlearn: 1.0000000\ttotal: 38.2s\tremaining: 0us\n",
      "0:\tlearn: 0.7500744\ttotal: 65ms\tremaining: 32.4s\n",
      "100:\tlearn: 0.9353782\ttotal: 7.49s\tremaining: 29.6s\n",
      "200:\tlearn: 0.9965009\ttotal: 15s\tremaining: 22.3s\n",
      "300:\tlearn: 1.0000000\ttotal: 26.1s\tremaining: 17.3s\n",
      "400:\tlearn: 1.0000000\ttotal: 35.2s\tremaining: 8.69s\n",
      "499:\tlearn: 1.0000000\ttotal: 44.5s\tremaining: 0us\n",
      "0:\tlearn: 0.7512842\ttotal: 74.7ms\tremaining: 37.3s\n",
      "100:\tlearn: 0.9303953\ttotal: 8.46s\tremaining: 33.4s\n",
      "200:\tlearn: 0.9942678\ttotal: 16.7s\tremaining: 24.9s\n",
      "300:\tlearn: 0.9998511\ttotal: 24.6s\tremaining: 16.3s\n",
      "400:\tlearn: 1.0000000\ttotal: 32.7s\tremaining: 8.07s\n",
      "499:\tlearn: 1.0000000\ttotal: 40.7s\tremaining: 0us\n",
      "0:\tlearn: 0.7507630\ttotal: 82.5ms\tremaining: 41.1s\n",
      "100:\tlearn: 0.9362763\ttotal: 8.81s\tremaining: 34.8s\n",
      "200:\tlearn: 0.9953101\ttotal: 17.6s\tremaining: 26.2s\n",
      "300:\tlearn: 0.9999256\ttotal: 25.6s\tremaining: 16.9s\n",
      "400:\tlearn: 1.0000000\ttotal: 33.6s\tremaining: 8.29s\n",
      "499:\tlearn: 1.0000000\ttotal: 41.6s\tremaining: 0us\n",
      "0:\tlearn: 0.7500744\ttotal: 77.1ms\tremaining: 38.5s\n",
      "100:\tlearn: 0.9353782\ttotal: 8.1s\tremaining: 32s\n",
      "200:\tlearn: 0.9965009\ttotal: 16s\tremaining: 23.8s\n",
      "300:\tlearn: 1.0000000\ttotal: 24s\tremaining: 15.9s\n",
      "400:\tlearn: 1.0000000\ttotal: 32s\tremaining: 7.89s\n",
      "499:\tlearn: 1.0000000\ttotal: 39.7s\tremaining: 0us\n",
      "0:\tlearn: 0.7512842\ttotal: 70.3ms\tremaining: 35.1s\n",
      "100:\tlearn: 0.9303953\ttotal: 7.79s\tremaining: 30.8s\n",
      "200:\tlearn: 0.9942678\ttotal: 15.6s\tremaining: 23.2s\n",
      "300:\tlearn: 0.9998511\ttotal: 23.7s\tremaining: 15.6s\n",
      "400:\tlearn: 1.0000000\ttotal: 31.7s\tremaining: 7.83s\n",
      "499:\tlearn: 1.0000000\ttotal: 40.1s\tremaining: 0us\n",
      "0:\tlearn: 0.7507630\ttotal: 71.5ms\tremaining: 35.7s\n",
      "100:\tlearn: 0.9362763\ttotal: 8.56s\tremaining: 33.8s\n",
      "200:\tlearn: 0.9953101\ttotal: 17.3s\tremaining: 25.7s\n",
      "300:\tlearn: 0.9999256\ttotal: 26s\tremaining: 17.2s\n",
      "400:\tlearn: 1.0000000\ttotal: 34s\tremaining: 8.39s\n",
      "499:\tlearn: 1.0000000\ttotal: 41.6s\tremaining: 0us\n",
      "0:\tlearn: 0.7500744\ttotal: 66.4ms\tremaining: 33.1s\n",
      "100:\tlearn: 0.9688803\ttotal: 7.84s\tremaining: 31s\n",
      "200:\tlearn: 0.9997022\ttotal: 15.6s\tremaining: 23.3s\n",
      "300:\tlearn: 1.0000000\ttotal: 23.4s\tremaining: 15.5s\n",
      "400:\tlearn: 1.0000000\ttotal: 31.3s\tremaining: 7.72s\n",
      "499:\tlearn: 1.0000000\ttotal: 38.9s\tremaining: 0us\n",
      "0:\tlearn: 0.7512842\ttotal: 76.5ms\tremaining: 38.2s\n",
      "100:\tlearn: 0.9660537\ttotal: 7.84s\tremaining: 31s\n",
      "200:\tlearn: 0.9996278\ttotal: 15.5s\tremaining: 23s\n",
      "300:\tlearn: 1.0000000\ttotal: 23.3s\tremaining: 15.4s\n",
      "400:\tlearn: 1.0000000\ttotal: 31.1s\tremaining: 7.69s\n",
      "499:\tlearn: 1.0000000\ttotal: 39.1s\tremaining: 0us\n",
      "0:\tlearn: 0.7507630\ttotal: 86.5ms\tremaining: 43.2s\n",
      "100:\tlearn: 0.9691804\ttotal: 7.87s\tremaining: 31.1s\n",
      "200:\tlearn: 0.9995533\ttotal: 15.5s\tremaining: 23.1s\n",
      "300:\tlearn: 1.0000000\ttotal: 23.1s\tremaining: 15.3s\n",
      "400:\tlearn: 1.0000000\ttotal: 30.9s\tremaining: 7.63s\n",
      "499:\tlearn: 1.0000000\ttotal: 38.5s\tremaining: 0us\n",
      "0:\tlearn: 0.7500744\ttotal: 65.8ms\tremaining: 32.8s\n",
      "100:\tlearn: 0.9688803\ttotal: 8.34s\tremaining: 33s\n",
      "200:\tlearn: 0.9997022\ttotal: 15.8s\tremaining: 23.6s\n",
      "300:\tlearn: 1.0000000\ttotal: 23.5s\tremaining: 15.5s\n",
      "400:\tlearn: 1.0000000\ttotal: 31.5s\tremaining: 7.77s\n",
      "499:\tlearn: 1.0000000\ttotal: 39.2s\tremaining: 0us\n",
      "0:\tlearn: 0.7512842\ttotal: 76.2ms\tremaining: 38s\n",
      "100:\tlearn: 0.9660537\ttotal: 7.85s\tremaining: 31s\n",
      "200:\tlearn: 0.9996278\ttotal: 15.6s\tremaining: 23.2s\n",
      "300:\tlearn: 1.0000000\ttotal: 23.3s\tremaining: 15.4s\n",
      "400:\tlearn: 1.0000000\ttotal: 31s\tremaining: 7.67s\n",
      "499:\tlearn: 1.0000000\ttotal: 38.6s\tremaining: 0us\n",
      "0:\tlearn: 0.7507630\ttotal: 76.1ms\tremaining: 38s\n",
      "100:\tlearn: 0.9691804\ttotal: 7.69s\tremaining: 30.4s\n",
      "200:\tlearn: 0.9995533\ttotal: 15.2s\tremaining: 22.6s\n",
      "300:\tlearn: 1.0000000\ttotal: 22.7s\tremaining: 15s\n",
      "400:\tlearn: 1.0000000\ttotal: 31.1s\tremaining: 7.68s\n",
      "499:\tlearn: 1.0000000\ttotal: 39.5s\tremaining: 0us\n",
      "0:\tlearn: 0.7487220\ttotal: 27.2ms\tremaining: 13.6s\n",
      "100:\tlearn: 0.7871855\ttotal: 2.34s\tremaining: 9.26s\n",
      "200:\tlearn: 0.8483299\ttotal: 4.71s\tremaining: 7.01s\n",
      "300:\tlearn: 0.8866941\ttotal: 7.24s\tremaining: 4.79s\n",
      "400:\tlearn: 0.9163730\ttotal: 9.55s\tremaining: 2.36s\n",
      "499:\tlearn: 0.9407911\ttotal: 11.9s\tremaining: 0us\n",
      "best params: {'depth': 7, 'learning_rate': np.float64(0.1), 'loss_function': 'CrossEntropy'}\n",
      "best accuracy: 0.7808328610946851\n"
     ]
    },
    {
     "ename": "CatBoostError",
     "evalue": "Model has no meta information needed to calculate feature importances.                             Pass training dataset to this function.",
     "output_type": "error",
     "traceback": [
      "\u001b[0;31m---------------------------------------------------------------------------\u001b[0m",
      "\u001b[0;31mCatBoostError\u001b[0m                             Traceback (most recent call last)",
      "Cell \u001b[0;32mIn[174], line 24\u001b[0m\n\u001b[1;32m     21\u001b[0m \u001b[38;5;28mprint\u001b[39m(\u001b[38;5;124mf\u001b[39m\u001b[38;5;124m'\u001b[39m\u001b[38;5;124mbest accuracy: \u001b[39m\u001b[38;5;132;01m{\u001b[39;00mgrid_search\u001b[38;5;241m.\u001b[39mbest_score_\u001b[38;5;132;01m}\u001b[39;00m\u001b[38;5;124m'\u001b[39m)\n\u001b[1;32m     23\u001b[0m \u001b[38;5;66;03m# Get importance values\u001b[39;00m\n\u001b[0;32m---> 24\u001b[0m importances \u001b[38;5;241m=\u001b[39m \u001b[43mmodel\u001b[49m\u001b[38;5;241;43m.\u001b[39;49m\u001b[43mget_feature_importance\u001b[49m\u001b[43m(\u001b[49m\u001b[43m)\u001b[49m\n\u001b[1;32m     25\u001b[0m feature_names \u001b[38;5;241m=\u001b[39m X_train\u001b[38;5;241m.\u001b[39mcolumns\n\u001b[1;32m     27\u001b[0m \u001b[38;5;66;03m# Combine into DataFrame\u001b[39;00m\n",
      "File \u001b[0;32m~/Documents/school/Magisterský studium/2.semestr/datovy_projekt/dp_env/lib/python3.9/site-packages/catboost/core.py:3238\u001b[0m, in \u001b[0;36mCatBoost.get_feature_importance\u001b[0;34m(self, data, type, prettified, thread_count, verbose, fstr_type, shap_mode, model_output, interaction_indices, shap_calc_type, reference_data, sage_n_samples, sage_batch_size, sage_detect_convergence, log_cout, log_cerr)\u001b[0m\n\u001b[1;32m   3236\u001b[0m \u001b[38;5;28;01mif\u001b[39;00m data \u001b[38;5;129;01mis\u001b[39;00m \u001b[38;5;28;01mNone\u001b[39;00m:\n\u001b[1;32m   3237\u001b[0m     \u001b[38;5;28;01mif\u001b[39;00m need_meta_info:\n\u001b[0;32m-> 3238\u001b[0m         \u001b[38;5;28;01mraise\u001b[39;00m CatBoostError(\n\u001b[1;32m   3239\u001b[0m             \u001b[38;5;124m\"\u001b[39m\u001b[38;5;124mModel has no meta information needed to calculate feature importances. \u001b[39m\u001b[38;5;130;01m\\\u001b[39;00m\n\u001b[1;32m   3240\u001b[0m \u001b[38;5;124m            Pass training dataset to this function.\u001b[39m\u001b[38;5;124m\"\u001b[39m)\n\u001b[1;32m   3241\u001b[0m     \u001b[38;5;28;01melse\u001b[39;00m:\n\u001b[1;32m   3242\u001b[0m         \u001b[38;5;28;01mraise\u001b[39;00m CatBoostError(\n\u001b[1;32m   3243\u001b[0m             \u001b[38;5;124m\"\u001b[39m\u001b[38;5;124mFeature importance type \u001b[39m\u001b[38;5;132;01m{}\u001b[39;00m\u001b[38;5;124m requires training dataset \u001b[39m\u001b[38;5;130;01m\\\u001b[39;00m\n\u001b[1;32m   3244\u001b[0m \u001b[38;5;124m            to be passed to this function.\u001b[39m\u001b[38;5;124m\"\u001b[39m\u001b[38;5;241m.\u001b[39mformat(\u001b[38;5;28mtype\u001b[39m))\n",
      "\u001b[0;31mCatBoostError\u001b[0m: Model has no meta information needed to calculate feature importances.                             Pass training dataset to this function."
     ]
    }
   ],
   "source": [
    "# Grid search\n",
    "\n",
    "grid = {\n",
    "    'depth':list(range(3, 10, 2)),\n",
    "    'learning_rate': np.array(range(5, 25, 5))/100,\n",
    "    'loss_function':['CrossEntropy','Logloss'],\n",
    "}\n",
    "\n",
    "model = CatBoostClassifier(\n",
    "    iterations=500,\n",
    "    eval_metric='Accuracy',\n",
    "    verbose=100 # control how often the model will print out output - e.g. when verbose is set to 50 = every 50 iteretion print out current status\n",
    ")\n",
    "\n",
    "grid_search = GridSearchCV(estimator=model, param_grid=grid, cv=3, scoring='accuracy')\n",
    "grid_search.fit(X_train, y_train)\n",
    "\n",
    "#model.fit(X_train, y_train, eval_set=(X_test, y_test))\n",
    "\n",
    "print(f'best params: {grid_search.best_params_}')\n",
    "print(f'best accuracy: {grid_search.best_score_}')\n"
   ]
  },
  {
   "cell_type": "code",
   "execution_count": null,
   "metadata": {},
   "outputs": [
    {
     "name": "stdout",
     "output_type": "stream",
     "text": [
      "0:\tlearn: 0.7487220\ttest: 0.7481143\tbest: 0.7481143 (0)\ttotal: 27.4ms\tremaining: 27.3s\n",
      "200:\tlearn: 0.8483299\ttest: 0.7814609\tbest: 0.7814609 (200)\ttotal: 5.61s\tremaining: 22.3s\n",
      "400:\tlearn: 0.9163730\ttest: 0.7888051\tbest: 0.7911870 (376)\ttotal: 11s\tremaining: 16.5s\n",
      "600:\tlearn: 0.9591047\ttest: 0.7941644\tbest: 0.7943628 (596)\ttotal: 16.3s\tremaining: 10.8s\n",
      "800:\tlearn: 0.9820338\ttest: 0.7929734\tbest: 0.7963478 (697)\ttotal: 21.9s\tremaining: 5.43s\n",
      "999:\tlearn: 0.9927044\ttest: 0.7939659\tbest: 0.7963478 (697)\ttotal: 27.1s\tremaining: 0us\n",
      "\n",
      "bestTest = 0.796347757\n",
      "bestIteration = 697\n",
      "\n",
      "Shrink model to first 698 iterations.\n"
     ]
    },
    {
     "data": {
      "text/plain": [
       "<catboost.core.CatBoostClassifier at 0x32038f850>"
      ]
     },
     "execution_count": 195,
     "metadata": {},
     "output_type": "execute_result"
    }
   ],
   "source": [
    "# CatBoost\n",
    "model_cat = CatBoostClassifier(\n",
    "    iterations=1000,\n",
    "    eval_metric='Accuracy',\n",
    "    verbose=200,\n",
    "    depth=7,\n",
    "    learning_rate=0.1,\n",
    "    loss_function='CrossEntropy'\n",
    ")\n",
    "model_cat.fit(X_train, y_train, eval_set=(X_test, y_test))"
   ]
  },
  {
   "cell_type": "code",
   "execution_count": 208,
   "metadata": {},
   "outputs": [
    {
     "name": "stdout",
     "output_type": "stream",
     "text": [
      "[0]\tvalidation_0-logloss:0.55863\n"
     ]
    },
    {
     "name": "stderr",
     "output_type": "stream",
     "text": [
      "/Users/vanhieuvu/Documents/school/Magisterský studium/2.semestr/datovy_projekt/dp_env/lib/python3.9/site-packages/xgboost/core.py:158: UserWarning:\n",
      "\n",
      "[23:14:36] WARNING: /Users/runner/work/xgboost/xgboost/src/learner.cc:740: \n",
      "Parameters: { \"use_label_encoder\" } are not used.\n",
      "\n",
      "\n"
     ]
    },
    {
     "name": "stdout",
     "output_type": "stream",
     "text": [
      "[200]\tvalidation_0-logloss:0.49597\n",
      "[400]\tvalidation_0-logloss:0.55101\n",
      "[600]\tvalidation_0-logloss:0.60285\n",
      "[800]\tvalidation_0-logloss:0.63900\n",
      "[999]\tvalidation_0-logloss:0.67137\n",
      "\n",
      "Classification Report:\n",
      "\n",
      "              precision    recall  f1-score   support\n",
      "\n",
      "           0       0.82      0.92      0.87      3768\n",
      "           1       0.64      0.40      0.50      1270\n",
      "\n",
      "    accuracy                           0.79      5038\n",
      "   macro avg       0.73      0.66      0.68      5038\n",
      "weighted avg       0.78      0.79      0.78      5038\n",
      "\n",
      "Accuracy: 0.7929734021437078\n"
     ]
    }
   ],
   "source": [
    "\n",
    "xgb.set_config(verbosity=1)\n",
    "\n",
    "model = XGBClassifier(\n",
    "    n_estimators=1000,\n",
    "    max_depth=8,\n",
    "    learning_rate=0.1,\n",
    "    objective='binary:logistic',\n",
    "    eval_metric='logloss',\n",
    "    use_label_encoder=False,\n",
    "    verbosity=1\n",
    ")\n",
    "\n",
    "\n",
    "model.fit(X_train, y_train, eval_set=[(X_test, y_test)], verbose=200)\n",
    "\n",
    "# Predict and evaluate\n",
    "y_pred = model.predict(X_test)\n",
    "print(\"\\nClassification Report:\\n\")\n",
    "print(classification_report(y_test, y_pred))\n",
    "print(\"Accuracy:\", accuracy_score(y_test, y_pred))\n"
   ]
  },
  {
   "cell_type": "code",
   "execution_count": 210,
   "metadata": {},
   "outputs": [
    {
     "name": "stdout",
     "output_type": "stream",
     "text": [
      "              precision    recall  f1-score   support\n",
      "\n",
      "           0       0.76      0.97      0.85      3768\n",
      "           1       0.48      0.09      0.15      1270\n",
      "\n",
      "    accuracy                           0.75      5038\n",
      "   macro avg       0.62      0.53      0.50      5038\n",
      "weighted avg       0.69      0.75      0.67      5038\n",
      "\n",
      "Accuracy: 0.7457324335053592\n"
     ]
    },
    {
     "name": "stderr",
     "output_type": "stream",
     "text": [
      "/Users/vanhieuvu/Documents/school/Magisterský studium/2.semestr/datovy_projekt/dp_env/lib/python3.9/site-packages/sklearn/linear_model/_logistic.py:465: ConvergenceWarning:\n",
      "\n",
      "lbfgs failed to converge (status=1):\n",
      "STOP: TOTAL NO. of ITERATIONS REACHED LIMIT.\n",
      "\n",
      "Increase the number of iterations (max_iter) or scale the data as shown in:\n",
      "    https://scikit-learn.org/stable/modules/preprocessing.html\n",
      "Please also refer to the documentation for alternative solver options:\n",
      "    https://scikit-learn.org/stable/modules/linear_model.html#logistic-regression\n",
      "\n"
     ]
    }
   ],
   "source": [
    "# Train logistic regression model\n",
    "model = LogisticRegression()\n",
    "model.fit(X_train, y_train)\n",
    "\n",
    "# Predict\n",
    "y_pred = model.predict(X_test)\n",
    "\n",
    "# Evaluate\n",
    "print(classification_report(y_test, y_pred))\n",
    "print(\"Accuracy:\", accuracy_score(y_test, y_pred))\n",
    "\n",
    "#Accuracy: 0.7457324335053592"
   ]
  },
  {
   "cell_type": "code",
   "execution_count": 217,
   "metadata": {},
   "outputs": [
    {
     "name": "stdout",
     "output_type": "stream",
     "text": [
      "              precision    recall  f1-score   support\n",
      "\n",
      "           0       0.82      0.81      0.81      3768\n",
      "           1       0.45      0.46      0.45      1270\n",
      "\n",
      "    accuracy                           0.72      5038\n",
      "   macro avg       0.63      0.63      0.63      5038\n",
      "weighted avg       0.72      0.72      0.72      5038\n",
      "\n",
      "Accuracy: 0.7213179833267169\n"
     ]
    }
   ],
   "source": [
    "model_dt = DecisionTreeClassifier(\n",
    "    criterion='gini',     # or entropy\n",
    "    random_state=42\n",
    ")\n",
    "\n",
    "model_dt.fit(X_train, y_train)\n",
    "\n",
    "y_pred = model_dt.predict(X_test)\n",
    "\n",
    "print(classification_report(y_test, y_pred))\n",
    "print(\"Accuracy:\", accuracy_score(y_test, y_pred))"
   ]
  },
  {
   "cell_type": "code",
   "execution_count": 222,
   "metadata": {},
   "outputs": [
    {
     "name": "stdout",
     "output_type": "stream",
     "text": [
      "              precision    recall  f1-score   support\n",
      "\n",
      "           0       0.82      0.91      0.87      3768\n",
      "           1       0.61      0.42      0.50      1270\n",
      "\n",
      "    accuracy                           0.79      5038\n",
      "   macro avg       0.72      0.67      0.68      5038\n",
      "weighted avg       0.77      0.79      0.77      5038\n",
      "\n",
      "Accuracy: 0.7874156411274316\n"
     ]
    }
   ],
   "source": [
    "model_rf = RandomForestClassifier(\n",
    "    n_estimators = 200,\n",
    "    criterion='gini',\n",
    "    random_state = 42\n",
    ")\n",
    "model_rf.fit(X_train, y_train)\n",
    "\n",
    "y_pred = model_rf.predict(X_test)\n",
    "\n",
    "print(classification_report(y_test, y_pred))\n",
    "print(\"Accuracy:\", accuracy_score(y_test, y_pred))"
   ]
  },
  {
   "cell_type": "code",
   "execution_count": null,
   "metadata": {},
   "outputs": [],
   "source": []
  }
 ],
 "metadata": {
  "kernelspec": {
   "display_name": "dp_env",
   "language": "python",
   "name": "python3"
  },
  "language_info": {
   "codemirror_mode": {
    "name": "ipython",
    "version": 3
   },
   "file_extension": ".py",
   "mimetype": "text/x-python",
   "name": "python",
   "nbconvert_exporter": "python",
   "pygments_lexer": "ipython3",
   "version": "3.9.13"
  }
 },
 "nbformat": 4,
 "nbformat_minor": 2
}
