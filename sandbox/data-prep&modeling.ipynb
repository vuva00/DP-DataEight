{
 "cells": [
  {
   "cell_type": "code",
   "execution_count": 1,
   "metadata": {},
   "outputs": [],
   "source": [
    "import numpy as np\n",
    "import pandas as pd\n",
    "import matplotlib.pyplot as plt\n",
    "import seaborn as sns\n",
    "import plotly.express as px\n",
    "from datetime import datetime as dt"
   ]
  },
  {
   "cell_type": "markdown",
   "metadata": {},
   "source": [
    "# Read Data"
   ]
  },
  {
   "cell_type": "code",
   "execution_count": 2,
   "metadata": {},
   "outputs": [],
   "source": [
    "df_credits = pd.read_csv('../data/User Credits Student Access.csv', encoding='utf-8')\n",
    "df_atlas = pd.read_csv('../data/Atlas Cechu Student Access.csv', encoding='utf-8')\n",
    "df_payments = pd.read_csv('../data/Payments Student Access.csv', encoding='utf-8')"
   ]
  },
  {
   "cell_type": "code",
   "execution_count": 108,
   "metadata": {},
   "outputs": [
    {
     "data": {
      "text/plain": [
       "Index(['user_id', 'all_intro-2022', 'atlas_vzorek-2023', 'atlas_vzorek-2024',\n",
       "       'all_intro-trendaro_panel_all', 'sex-woman', 'sex-man', 'age-15_17',\n",
       "       'age-18_24', 'age-25_34',\n",
       "       ...\n",
       "       'check-tv', 'check-radio', 'check-household', 'check-overdraft',\n",
       "       'check-naramek', 'isic2_age-21_26', 'isic2_age-15_20', 'isic_age-15_17',\n",
       "       'isic_age-18_22', 'isic_age-23_26'],\n",
       "      dtype='object', length=1121)"
      ]
     },
     "execution_count": 108,
     "metadata": {},
     "output_type": "execute_result"
    }
   ],
   "source": [
    "df_atlas.columns"
   ]
  },
  {
   "cell_type": "code",
   "execution_count": 133,
   "metadata": {},
   "outputs": [
    {
     "data": {
      "text/html": [
       "<div>\n",
       "<style scoped>\n",
       "    .dataframe tbody tr th:only-of-type {\n",
       "        vertical-align: middle;\n",
       "    }\n",
       "\n",
       "    .dataframe tbody tr th {\n",
       "        vertical-align: top;\n",
       "    }\n",
       "\n",
       "    .dataframe thead th {\n",
       "        text-align: right;\n",
       "    }\n",
       "</style>\n",
       "<table border=\"1\" class=\"dataframe\">\n",
       "  <thead>\n",
       "    <tr style=\"text-align: right;\">\n",
       "      <th></th>\n",
       "      <th>user</th>\n",
       "      <th>credits</th>\n",
       "      <th>is_active</th>\n",
       "      <th>is_verified</th>\n",
       "      <th>is_locked</th>\n",
       "      <th>wage</th>\n",
       "    </tr>\n",
       "  </thead>\n",
       "  <tbody>\n",
       "    <tr>\n",
       "      <th>0</th>\n",
       "      <td>STUD66006</td>\n",
       "      <td>25</td>\n",
       "      <td>1</td>\n",
       "      <td>1</td>\n",
       "      <td>0</td>\n",
       "      <td>Peníze</td>\n",
       "    </tr>\n",
       "    <tr>\n",
       "      <th>1</th>\n",
       "      <td>STUD22095</td>\n",
       "      <td>51</td>\n",
       "      <td>1</td>\n",
       "      <td>1</td>\n",
       "      <td>0</td>\n",
       "      <td>Peníze</td>\n",
       "    </tr>\n",
       "    <tr>\n",
       "      <th>2</th>\n",
       "      <td>STUD77411</td>\n",
       "      <td>0</td>\n",
       "      <td>1</td>\n",
       "      <td>1</td>\n",
       "      <td>1</td>\n",
       "      <td>Peníze</td>\n",
       "    </tr>\n",
       "    <tr>\n",
       "      <th>3</th>\n",
       "      <td>STUD56329</td>\n",
       "      <td>0</td>\n",
       "      <td>1</td>\n",
       "      <td>0</td>\n",
       "      <td>0</td>\n",
       "      <td>NaN</td>\n",
       "    </tr>\n",
       "    <tr>\n",
       "      <th>4</th>\n",
       "      <td>STUD23516</td>\n",
       "      <td>30</td>\n",
       "      <td>1</td>\n",
       "      <td>1</td>\n",
       "      <td>0</td>\n",
       "      <td>Peníze</td>\n",
       "    </tr>\n",
       "    <tr>\n",
       "      <th>...</th>\n",
       "      <td>...</td>\n",
       "      <td>...</td>\n",
       "      <td>...</td>\n",
       "      <td>...</td>\n",
       "      <td>...</td>\n",
       "      <td>...</td>\n",
       "    </tr>\n",
       "    <tr>\n",
       "      <th>89906</th>\n",
       "      <td>STUD54678</td>\n",
       "      <td>789</td>\n",
       "      <td>1</td>\n",
       "      <td>1</td>\n",
       "      <td>0</td>\n",
       "      <td>Peníze</td>\n",
       "    </tr>\n",
       "    <tr>\n",
       "      <th>89907</th>\n",
       "      <td>STUD43709</td>\n",
       "      <td>0</td>\n",
       "      <td>0</td>\n",
       "      <td>1</td>\n",
       "      <td>0</td>\n",
       "      <td>NaN</td>\n",
       "    </tr>\n",
       "    <tr>\n",
       "      <th>89908</th>\n",
       "      <td>STUD21881</td>\n",
       "      <td>0</td>\n",
       "      <td>0</td>\n",
       "      <td>0</td>\n",
       "      <td>0</td>\n",
       "      <td>NaN</td>\n",
       "    </tr>\n",
       "    <tr>\n",
       "      <th>89909</th>\n",
       "      <td>STUD72037</td>\n",
       "      <td>16</td>\n",
       "      <td>1</td>\n",
       "      <td>1</td>\n",
       "      <td>0</td>\n",
       "      <td>Lékaři bez hranic</td>\n",
       "    </tr>\n",
       "    <tr>\n",
       "      <th>89910</th>\n",
       "      <td>STUD48405</td>\n",
       "      <td>996</td>\n",
       "      <td>1</td>\n",
       "      <td>1</td>\n",
       "      <td>0</td>\n",
       "      <td>Lékaři bez hranic</td>\n",
       "    </tr>\n",
       "  </tbody>\n",
       "</table>\n",
       "<p>89911 rows × 6 columns</p>\n",
       "</div>"
      ],
      "text/plain": [
       "            user  credits  is_active  is_verified  is_locked  \\\n",
       "0      STUD66006       25          1            1          0   \n",
       "1      STUD22095       51          1            1          0   \n",
       "2      STUD77411        0          1            1          1   \n",
       "3      STUD56329        0          1            0          0   \n",
       "4      STUD23516       30          1            1          0   \n",
       "...          ...      ...        ...          ...        ...   \n",
       "89906  STUD54678      789          1            1          0   \n",
       "89907  STUD43709        0          0            1          0   \n",
       "89908  STUD21881        0          0            0          0   \n",
       "89909  STUD72037       16          1            1          0   \n",
       "89910  STUD48405      996          1            1          0   \n",
       "\n",
       "                    wage  \n",
       "0                 Peníze  \n",
       "1                 Peníze  \n",
       "2                 Peníze  \n",
       "3                    NaN  \n",
       "4                 Peníze  \n",
       "...                  ...  \n",
       "89906             Peníze  \n",
       "89907                NaN  \n",
       "89908                NaN  \n",
       "89909  Lékaři bez hranic  \n",
       "89910  Lékaři bez hranic  \n",
       "\n",
       "[89911 rows x 6 columns]"
      ]
     },
     "execution_count": 133,
     "metadata": {},
     "output_type": "execute_result"
    }
   ],
   "source": [
    "df_credits"
   ]
  },
  {
   "cell_type": "markdown",
   "metadata": {},
   "source": [
    "# Negative Values investigation & Chekcing other things"
   ]
  },
  {
   "cell_type": "code",
   "execution_count": 3,
   "metadata": {},
   "outputs": [
    {
     "data": {
      "text/html": [
       "<div>\n",
       "<style scoped>\n",
       "    .dataframe tbody tr th:only-of-type {\n",
       "        vertical-align: middle;\n",
       "    }\n",
       "\n",
       "    .dataframe tbody tr th {\n",
       "        vertical-align: top;\n",
       "    }\n",
       "\n",
       "    .dataframe thead th {\n",
       "        text-align: right;\n",
       "    }\n",
       "</style>\n",
       "<table border=\"1\" class=\"dataframe\">\n",
       "  <thead>\n",
       "    <tr style=\"text-align: right;\">\n",
       "      <th></th>\n",
       "      <th>user</th>\n",
       "      <th>credits</th>\n",
       "      <th>is_active</th>\n",
       "      <th>is_verified</th>\n",
       "      <th>is_locked</th>\n",
       "      <th>wage</th>\n",
       "    </tr>\n",
       "  </thead>\n",
       "  <tbody>\n",
       "    <tr>\n",
       "      <th>89906</th>\n",
       "      <td>STUD54678</td>\n",
       "      <td>789</td>\n",
       "      <td>1</td>\n",
       "      <td>1</td>\n",
       "      <td>0</td>\n",
       "      <td>Peníze</td>\n",
       "    </tr>\n",
       "  </tbody>\n",
       "</table>\n",
       "</div>"
      ],
      "text/plain": [
       "            user  credits  is_active  is_verified  is_locked    wage\n",
       "89906  STUD54678      789          1            1          0  Peníze"
      ]
     },
     "execution_count": 3,
     "metadata": {},
     "output_type": "execute_result"
    }
   ],
   "source": [
    "df_c_negative = df_credits[df_credits['credits']<0]\n",
    "df_credits[df_credits.user.isin(df_c_negative.user) == True]\n",
    "\n",
    "# IDK what I'm doing with payments\n",
    "df_payments[df_payments.user.isin(df_c_negative.user)==True].sort_values(['user','created_at'])\n",
    "df_payments.state.unique()\n",
    "df_payments[df_payments.user=='STUD54678']\n",
    "df_credits[df_credits.user=='STUD54678']"
   ]
  },
  {
   "cell_type": "code",
   "execution_count": 4,
   "metadata": {},
   "outputs": [
    {
     "name": "stdout",
     "output_type": "stream",
     "text": [
      "<class 'pandas.core.frame.DataFrame'>\n",
      "RangeIndex: 30087 entries, 0 to 30086\n",
      "Data columns (total 8 columns):\n",
      " #   Column      Non-Null Count  Dtype  \n",
      "---  ------      --------------  -----  \n",
      " 0   id          30086 non-null  float64\n",
      " 1   created_at  30087 non-null  object \n",
      " 2   changed_at  30087 non-null  object \n",
      " 3   user        27652 non-null  object \n",
      " 4   batch       27502 non-null  object \n",
      " 5   credits     30086 non-null  float64\n",
      " 6   state       30086 non-null  object \n",
      " 7   type        30086 non-null  object \n",
      "dtypes: float64(2), object(6)\n",
      "memory usage: 1.8+ MB\n"
     ]
    }
   ],
   "source": [
    "df_payments.info()"
   ]
  },
  {
   "cell_type": "markdown",
   "metadata": {},
   "source": [
    "# Data Cleaning"
   ]
  },
  {
   "cell_type": "code",
   "execution_count": 16,
   "metadata": {},
   "outputs": [
    {
     "data": {
      "text/plain": [
       "state\n",
       "CANCELLED    2000\n",
       "PAID            1\n",
       "dtype: int64"
      ]
     },
     "execution_count": 16,
     "metadata": {},
     "output_type": "execute_result"
    }
   ],
   "source": [
    "##### In the dataset we found out that in payments dataset values that are being cancelled has creadits = 0 and NaN user having credit 430 and still being PAID. However, that user doesn't have user_id\n",
    "\n",
    "df_payments[df_payments['credits']<500].groupby('state').size()"
   ]
  },
  {
   "cell_type": "code",
   "execution_count": 5,
   "metadata": {},
   "outputs": [],
   "source": [
    "df_credits_cleaned = df_credits[df_credits['credits']>0]\n",
    "df_payments_cleaned = df_payments[df_payments['id'].notna()]"
   ]
  },
  {
   "cell_type": "markdown",
   "metadata": {},
   "source": [
    "# What is core table for merge? - Payments // Can't I just use inner join? Therefore I dont' have to work with nul values - I don't want them in model anyway"
   ]
  },
  {
   "cell_type": "code",
   "execution_count": 6,
   "metadata": {},
   "outputs": [
    {
     "data": {
      "application/vnd.plotly.v1+json": {
       "config": {
        "plotlyServerURL": "https://plot.ly"
       },
       "data": [
        {
         "hovertemplate": "variable=count<br>User in Atlas=%{x}<br>Count=%{y}<extra></extra>",
         "legendgroup": "count",
         "marker": {
          "color": "#636efa",
          "pattern": {
           "shape": ""
          }
         },
         "name": "count",
         "orientation": "v",
         "showlegend": true,
         "textposition": "auto",
         "type": "bar",
         "x": [
          true,
          false
         ],
         "xaxis": "x",
         "y": {
          "bdata": "4J4AABkUAAA=",
          "dtype": "i4"
         },
         "yaxis": "y"
        }
       ],
       "layout": {
        "barmode": "relative",
        "legend": {
         "title": {
          "text": "variable"
         },
         "tracegroupgap": 0
        },
        "template": {
         "data": {
          "bar": [
           {
            "error_x": {
             "color": "#2a3f5f"
            },
            "error_y": {
             "color": "#2a3f5f"
            },
            "marker": {
             "line": {
              "color": "#E5ECF6",
              "width": 0.5
             },
             "pattern": {
              "fillmode": "overlay",
              "size": 10,
              "solidity": 0.2
             }
            },
            "type": "bar"
           }
          ],
          "barpolar": [
           {
            "marker": {
             "line": {
              "color": "#E5ECF6",
              "width": 0.5
             },
             "pattern": {
              "fillmode": "overlay",
              "size": 10,
              "solidity": 0.2
             }
            },
            "type": "barpolar"
           }
          ],
          "carpet": [
           {
            "aaxis": {
             "endlinecolor": "#2a3f5f",
             "gridcolor": "white",
             "linecolor": "white",
             "minorgridcolor": "white",
             "startlinecolor": "#2a3f5f"
            },
            "baxis": {
             "endlinecolor": "#2a3f5f",
             "gridcolor": "white",
             "linecolor": "white",
             "minorgridcolor": "white",
             "startlinecolor": "#2a3f5f"
            },
            "type": "carpet"
           }
          ],
          "choropleth": [
           {
            "colorbar": {
             "outlinewidth": 0,
             "ticks": ""
            },
            "type": "choropleth"
           }
          ],
          "contour": [
           {
            "colorbar": {
             "outlinewidth": 0,
             "ticks": ""
            },
            "colorscale": [
             [
              0,
              "#0d0887"
             ],
             [
              0.1111111111111111,
              "#46039f"
             ],
             [
              0.2222222222222222,
              "#7201a8"
             ],
             [
              0.3333333333333333,
              "#9c179e"
             ],
             [
              0.4444444444444444,
              "#bd3786"
             ],
             [
              0.5555555555555556,
              "#d8576b"
             ],
             [
              0.6666666666666666,
              "#ed7953"
             ],
             [
              0.7777777777777778,
              "#fb9f3a"
             ],
             [
              0.8888888888888888,
              "#fdca26"
             ],
             [
              1,
              "#f0f921"
             ]
            ],
            "type": "contour"
           }
          ],
          "contourcarpet": [
           {
            "colorbar": {
             "outlinewidth": 0,
             "ticks": ""
            },
            "type": "contourcarpet"
           }
          ],
          "heatmap": [
           {
            "colorbar": {
             "outlinewidth": 0,
             "ticks": ""
            },
            "colorscale": [
             [
              0,
              "#0d0887"
             ],
             [
              0.1111111111111111,
              "#46039f"
             ],
             [
              0.2222222222222222,
              "#7201a8"
             ],
             [
              0.3333333333333333,
              "#9c179e"
             ],
             [
              0.4444444444444444,
              "#bd3786"
             ],
             [
              0.5555555555555556,
              "#d8576b"
             ],
             [
              0.6666666666666666,
              "#ed7953"
             ],
             [
              0.7777777777777778,
              "#fb9f3a"
             ],
             [
              0.8888888888888888,
              "#fdca26"
             ],
             [
              1,
              "#f0f921"
             ]
            ],
            "type": "heatmap"
           }
          ],
          "histogram": [
           {
            "marker": {
             "pattern": {
              "fillmode": "overlay",
              "size": 10,
              "solidity": 0.2
             }
            },
            "type": "histogram"
           }
          ],
          "histogram2d": [
           {
            "colorbar": {
             "outlinewidth": 0,
             "ticks": ""
            },
            "colorscale": [
             [
              0,
              "#0d0887"
             ],
             [
              0.1111111111111111,
              "#46039f"
             ],
             [
              0.2222222222222222,
              "#7201a8"
             ],
             [
              0.3333333333333333,
              "#9c179e"
             ],
             [
              0.4444444444444444,
              "#bd3786"
             ],
             [
              0.5555555555555556,
              "#d8576b"
             ],
             [
              0.6666666666666666,
              "#ed7953"
             ],
             [
              0.7777777777777778,
              "#fb9f3a"
             ],
             [
              0.8888888888888888,
              "#fdca26"
             ],
             [
              1,
              "#f0f921"
             ]
            ],
            "type": "histogram2d"
           }
          ],
          "histogram2dcontour": [
           {
            "colorbar": {
             "outlinewidth": 0,
             "ticks": ""
            },
            "colorscale": [
             [
              0,
              "#0d0887"
             ],
             [
              0.1111111111111111,
              "#46039f"
             ],
             [
              0.2222222222222222,
              "#7201a8"
             ],
             [
              0.3333333333333333,
              "#9c179e"
             ],
             [
              0.4444444444444444,
              "#bd3786"
             ],
             [
              0.5555555555555556,
              "#d8576b"
             ],
             [
              0.6666666666666666,
              "#ed7953"
             ],
             [
              0.7777777777777778,
              "#fb9f3a"
             ],
             [
              0.8888888888888888,
              "#fdca26"
             ],
             [
              1,
              "#f0f921"
             ]
            ],
            "type": "histogram2dcontour"
           }
          ],
          "mesh3d": [
           {
            "colorbar": {
             "outlinewidth": 0,
             "ticks": ""
            },
            "type": "mesh3d"
           }
          ],
          "parcoords": [
           {
            "line": {
             "colorbar": {
              "outlinewidth": 0,
              "ticks": ""
             }
            },
            "type": "parcoords"
           }
          ],
          "pie": [
           {
            "automargin": true,
            "type": "pie"
           }
          ],
          "scatter": [
           {
            "fillpattern": {
             "fillmode": "overlay",
             "size": 10,
             "solidity": 0.2
            },
            "type": "scatter"
           }
          ],
          "scatter3d": [
           {
            "line": {
             "colorbar": {
              "outlinewidth": 0,
              "ticks": ""
             }
            },
            "marker": {
             "colorbar": {
              "outlinewidth": 0,
              "ticks": ""
             }
            },
            "type": "scatter3d"
           }
          ],
          "scattercarpet": [
           {
            "marker": {
             "colorbar": {
              "outlinewidth": 0,
              "ticks": ""
             }
            },
            "type": "scattercarpet"
           }
          ],
          "scattergeo": [
           {
            "marker": {
             "colorbar": {
              "outlinewidth": 0,
              "ticks": ""
             }
            },
            "type": "scattergeo"
           }
          ],
          "scattergl": [
           {
            "marker": {
             "colorbar": {
              "outlinewidth": 0,
              "ticks": ""
             }
            },
            "type": "scattergl"
           }
          ],
          "scattermap": [
           {
            "marker": {
             "colorbar": {
              "outlinewidth": 0,
              "ticks": ""
             }
            },
            "type": "scattermap"
           }
          ],
          "scattermapbox": [
           {
            "marker": {
             "colorbar": {
              "outlinewidth": 0,
              "ticks": ""
             }
            },
            "type": "scattermapbox"
           }
          ],
          "scatterpolar": [
           {
            "marker": {
             "colorbar": {
              "outlinewidth": 0,
              "ticks": ""
             }
            },
            "type": "scatterpolar"
           }
          ],
          "scatterpolargl": [
           {
            "marker": {
             "colorbar": {
              "outlinewidth": 0,
              "ticks": ""
             }
            },
            "type": "scatterpolargl"
           }
          ],
          "scatterternary": [
           {
            "marker": {
             "colorbar": {
              "outlinewidth": 0,
              "ticks": ""
             }
            },
            "type": "scatterternary"
           }
          ],
          "surface": [
           {
            "colorbar": {
             "outlinewidth": 0,
             "ticks": ""
            },
            "colorscale": [
             [
              0,
              "#0d0887"
             ],
             [
              0.1111111111111111,
              "#46039f"
             ],
             [
              0.2222222222222222,
              "#7201a8"
             ],
             [
              0.3333333333333333,
              "#9c179e"
             ],
             [
              0.4444444444444444,
              "#bd3786"
             ],
             [
              0.5555555555555556,
              "#d8576b"
             ],
             [
              0.6666666666666666,
              "#ed7953"
             ],
             [
              0.7777777777777778,
              "#fb9f3a"
             ],
             [
              0.8888888888888888,
              "#fdca26"
             ],
             [
              1,
              "#f0f921"
             ]
            ],
            "type": "surface"
           }
          ],
          "table": [
           {
            "cells": {
             "fill": {
              "color": "#EBF0F8"
             },
             "line": {
              "color": "white"
             }
            },
            "header": {
             "fill": {
              "color": "#C8D4E3"
             },
             "line": {
              "color": "white"
             }
            },
            "type": "table"
           }
          ]
         },
         "layout": {
          "annotationdefaults": {
           "arrowcolor": "#2a3f5f",
           "arrowhead": 0,
           "arrowwidth": 1
          },
          "autotypenumbers": "strict",
          "coloraxis": {
           "colorbar": {
            "outlinewidth": 0,
            "ticks": ""
           }
          },
          "colorscale": {
           "diverging": [
            [
             0,
             "#8e0152"
            ],
            [
             0.1,
             "#c51b7d"
            ],
            [
             0.2,
             "#de77ae"
            ],
            [
             0.3,
             "#f1b6da"
            ],
            [
             0.4,
             "#fde0ef"
            ],
            [
             0.5,
             "#f7f7f7"
            ],
            [
             0.6,
             "#e6f5d0"
            ],
            [
             0.7,
             "#b8e186"
            ],
            [
             0.8,
             "#7fbc41"
            ],
            [
             0.9,
             "#4d9221"
            ],
            [
             1,
             "#276419"
            ]
           ],
           "sequential": [
            [
             0,
             "#0d0887"
            ],
            [
             0.1111111111111111,
             "#46039f"
            ],
            [
             0.2222222222222222,
             "#7201a8"
            ],
            [
             0.3333333333333333,
             "#9c179e"
            ],
            [
             0.4444444444444444,
             "#bd3786"
            ],
            [
             0.5555555555555556,
             "#d8576b"
            ],
            [
             0.6666666666666666,
             "#ed7953"
            ],
            [
             0.7777777777777778,
             "#fb9f3a"
            ],
            [
             0.8888888888888888,
             "#fdca26"
            ],
            [
             1,
             "#f0f921"
            ]
           ],
           "sequentialminus": [
            [
             0,
             "#0d0887"
            ],
            [
             0.1111111111111111,
             "#46039f"
            ],
            [
             0.2222222222222222,
             "#7201a8"
            ],
            [
             0.3333333333333333,
             "#9c179e"
            ],
            [
             0.4444444444444444,
             "#bd3786"
            ],
            [
             0.5555555555555556,
             "#d8576b"
            ],
            [
             0.6666666666666666,
             "#ed7953"
            ],
            [
             0.7777777777777778,
             "#fb9f3a"
            ],
            [
             0.8888888888888888,
             "#fdca26"
            ],
            [
             1,
             "#f0f921"
            ]
           ]
          },
          "colorway": [
           "#636efa",
           "#EF553B",
           "#00cc96",
           "#ab63fa",
           "#FFA15A",
           "#19d3f3",
           "#FF6692",
           "#B6E880",
           "#FF97FF",
           "#FECB52"
          ],
          "font": {
           "color": "#2a3f5f"
          },
          "geo": {
           "bgcolor": "white",
           "lakecolor": "white",
           "landcolor": "#E5ECF6",
           "showlakes": true,
           "showland": true,
           "subunitcolor": "white"
          },
          "hoverlabel": {
           "align": "left"
          },
          "hovermode": "closest",
          "mapbox": {
           "style": "light"
          },
          "paper_bgcolor": "white",
          "plot_bgcolor": "#E5ECF6",
          "polar": {
           "angularaxis": {
            "gridcolor": "white",
            "linecolor": "white",
            "ticks": ""
           },
           "bgcolor": "#E5ECF6",
           "radialaxis": {
            "gridcolor": "white",
            "linecolor": "white",
            "ticks": ""
           }
          },
          "scene": {
           "xaxis": {
            "backgroundcolor": "#E5ECF6",
            "gridcolor": "white",
            "gridwidth": 2,
            "linecolor": "white",
            "showbackground": true,
            "ticks": "",
            "zerolinecolor": "white"
           },
           "yaxis": {
            "backgroundcolor": "#E5ECF6",
            "gridcolor": "white",
            "gridwidth": 2,
            "linecolor": "white",
            "showbackground": true,
            "ticks": "",
            "zerolinecolor": "white"
           },
           "zaxis": {
            "backgroundcolor": "#E5ECF6",
            "gridcolor": "white",
            "gridwidth": 2,
            "linecolor": "white",
            "showbackground": true,
            "ticks": "",
            "zerolinecolor": "white"
           }
          },
          "shapedefaults": {
           "line": {
            "color": "#2a3f5f"
           }
          },
          "ternary": {
           "aaxis": {
            "gridcolor": "white",
            "linecolor": "white",
            "ticks": ""
           },
           "baxis": {
            "gridcolor": "white",
            "linecolor": "white",
            "ticks": ""
           },
           "bgcolor": "#E5ECF6",
           "caxis": {
            "gridcolor": "white",
            "linecolor": "white",
            "ticks": ""
           }
          },
          "title": {
           "x": 0.05
          },
          "xaxis": {
           "automargin": true,
           "gridcolor": "white",
           "linecolor": "white",
           "ticks": "",
           "title": {
            "standoff": 15
           },
           "zerolinecolor": "white",
           "zerolinewidth": 2
          },
          "yaxis": {
           "automargin": true,
           "gridcolor": "white",
           "linecolor": "white",
           "ticks": "",
           "title": {
            "standoff": 15
           },
           "zerolinecolor": "white",
           "zerolinewidth": 2
          }
         }
        },
        "title": {
         "text": "How many users from Atlas Cechu are in the credits table"
        },
        "xaxis": {
         "anchor": "y",
         "domain": [
          0,
          1
         ],
         "title": {
          "text": "User in Atlas"
         }
        },
        "yaxis": {
         "anchor": "x",
         "domain": [
          0,
          1
         ],
         "title": {
          "text": "Count"
         }
        }
       }
      }
     },
     "metadata": {},
     "output_type": "display_data"
    },
    {
     "data": {
      "application/vnd.plotly.v1+json": {
       "config": {
        "plotlyServerURL": "https://plot.ly"
       },
       "data": [
        {
         "hovertemplate": "variable=count<br>user=%{x}<br>Count=%{y}<extra></extra>",
         "legendgroup": "count",
         "marker": {
          "color": "#636efa",
          "pattern": {
           "shape": ""
          }
         },
         "name": "count",
         "orientation": "v",
         "showlegend": true,
         "textposition": "auto",
         "type": "bar",
         "x": [
          true,
          false
         ],
         "xaxis": "x",
         "y": {
          "bdata": "/2iHDA==",
          "dtype": "i2"
         },
         "yaxis": "y"
        }
       ],
       "layout": {
        "barmode": "relative",
        "legend": {
         "title": {
          "text": "variable"
         },
         "tracegroupgap": 0
        },
        "template": {
         "data": {
          "bar": [
           {
            "error_x": {
             "color": "#2a3f5f"
            },
            "error_y": {
             "color": "#2a3f5f"
            },
            "marker": {
             "line": {
              "color": "#E5ECF6",
              "width": 0.5
             },
             "pattern": {
              "fillmode": "overlay",
              "size": 10,
              "solidity": 0.2
             }
            },
            "type": "bar"
           }
          ],
          "barpolar": [
           {
            "marker": {
             "line": {
              "color": "#E5ECF6",
              "width": 0.5
             },
             "pattern": {
              "fillmode": "overlay",
              "size": 10,
              "solidity": 0.2
             }
            },
            "type": "barpolar"
           }
          ],
          "carpet": [
           {
            "aaxis": {
             "endlinecolor": "#2a3f5f",
             "gridcolor": "white",
             "linecolor": "white",
             "minorgridcolor": "white",
             "startlinecolor": "#2a3f5f"
            },
            "baxis": {
             "endlinecolor": "#2a3f5f",
             "gridcolor": "white",
             "linecolor": "white",
             "minorgridcolor": "white",
             "startlinecolor": "#2a3f5f"
            },
            "type": "carpet"
           }
          ],
          "choropleth": [
           {
            "colorbar": {
             "outlinewidth": 0,
             "ticks": ""
            },
            "type": "choropleth"
           }
          ],
          "contour": [
           {
            "colorbar": {
             "outlinewidth": 0,
             "ticks": ""
            },
            "colorscale": [
             [
              0,
              "#0d0887"
             ],
             [
              0.1111111111111111,
              "#46039f"
             ],
             [
              0.2222222222222222,
              "#7201a8"
             ],
             [
              0.3333333333333333,
              "#9c179e"
             ],
             [
              0.4444444444444444,
              "#bd3786"
             ],
             [
              0.5555555555555556,
              "#d8576b"
             ],
             [
              0.6666666666666666,
              "#ed7953"
             ],
             [
              0.7777777777777778,
              "#fb9f3a"
             ],
             [
              0.8888888888888888,
              "#fdca26"
             ],
             [
              1,
              "#f0f921"
             ]
            ],
            "type": "contour"
           }
          ],
          "contourcarpet": [
           {
            "colorbar": {
             "outlinewidth": 0,
             "ticks": ""
            },
            "type": "contourcarpet"
           }
          ],
          "heatmap": [
           {
            "colorbar": {
             "outlinewidth": 0,
             "ticks": ""
            },
            "colorscale": [
             [
              0,
              "#0d0887"
             ],
             [
              0.1111111111111111,
              "#46039f"
             ],
             [
              0.2222222222222222,
              "#7201a8"
             ],
             [
              0.3333333333333333,
              "#9c179e"
             ],
             [
              0.4444444444444444,
              "#bd3786"
             ],
             [
              0.5555555555555556,
              "#d8576b"
             ],
             [
              0.6666666666666666,
              "#ed7953"
             ],
             [
              0.7777777777777778,
              "#fb9f3a"
             ],
             [
              0.8888888888888888,
              "#fdca26"
             ],
             [
              1,
              "#f0f921"
             ]
            ],
            "type": "heatmap"
           }
          ],
          "histogram": [
           {
            "marker": {
             "pattern": {
              "fillmode": "overlay",
              "size": 10,
              "solidity": 0.2
             }
            },
            "type": "histogram"
           }
          ],
          "histogram2d": [
           {
            "colorbar": {
             "outlinewidth": 0,
             "ticks": ""
            },
            "colorscale": [
             [
              0,
              "#0d0887"
             ],
             [
              0.1111111111111111,
              "#46039f"
             ],
             [
              0.2222222222222222,
              "#7201a8"
             ],
             [
              0.3333333333333333,
              "#9c179e"
             ],
             [
              0.4444444444444444,
              "#bd3786"
             ],
             [
              0.5555555555555556,
              "#d8576b"
             ],
             [
              0.6666666666666666,
              "#ed7953"
             ],
             [
              0.7777777777777778,
              "#fb9f3a"
             ],
             [
              0.8888888888888888,
              "#fdca26"
             ],
             [
              1,
              "#f0f921"
             ]
            ],
            "type": "histogram2d"
           }
          ],
          "histogram2dcontour": [
           {
            "colorbar": {
             "outlinewidth": 0,
             "ticks": ""
            },
            "colorscale": [
             [
              0,
              "#0d0887"
             ],
             [
              0.1111111111111111,
              "#46039f"
             ],
             [
              0.2222222222222222,
              "#7201a8"
             ],
             [
              0.3333333333333333,
              "#9c179e"
             ],
             [
              0.4444444444444444,
              "#bd3786"
             ],
             [
              0.5555555555555556,
              "#d8576b"
             ],
             [
              0.6666666666666666,
              "#ed7953"
             ],
             [
              0.7777777777777778,
              "#fb9f3a"
             ],
             [
              0.8888888888888888,
              "#fdca26"
             ],
             [
              1,
              "#f0f921"
             ]
            ],
            "type": "histogram2dcontour"
           }
          ],
          "mesh3d": [
           {
            "colorbar": {
             "outlinewidth": 0,
             "ticks": ""
            },
            "type": "mesh3d"
           }
          ],
          "parcoords": [
           {
            "line": {
             "colorbar": {
              "outlinewidth": 0,
              "ticks": ""
             }
            },
            "type": "parcoords"
           }
          ],
          "pie": [
           {
            "automargin": true,
            "type": "pie"
           }
          ],
          "scatter": [
           {
            "fillpattern": {
             "fillmode": "overlay",
             "size": 10,
             "solidity": 0.2
            },
            "type": "scatter"
           }
          ],
          "scatter3d": [
           {
            "line": {
             "colorbar": {
              "outlinewidth": 0,
              "ticks": ""
             }
            },
            "marker": {
             "colorbar": {
              "outlinewidth": 0,
              "ticks": ""
             }
            },
            "type": "scatter3d"
           }
          ],
          "scattercarpet": [
           {
            "marker": {
             "colorbar": {
              "outlinewidth": 0,
              "ticks": ""
             }
            },
            "type": "scattercarpet"
           }
          ],
          "scattergeo": [
           {
            "marker": {
             "colorbar": {
              "outlinewidth": 0,
              "ticks": ""
             }
            },
            "type": "scattergeo"
           }
          ],
          "scattergl": [
           {
            "marker": {
             "colorbar": {
              "outlinewidth": 0,
              "ticks": ""
             }
            },
            "type": "scattergl"
           }
          ],
          "scattermap": [
           {
            "marker": {
             "colorbar": {
              "outlinewidth": 0,
              "ticks": ""
             }
            },
            "type": "scattermap"
           }
          ],
          "scattermapbox": [
           {
            "marker": {
             "colorbar": {
              "outlinewidth": 0,
              "ticks": ""
             }
            },
            "type": "scattermapbox"
           }
          ],
          "scatterpolar": [
           {
            "marker": {
             "colorbar": {
              "outlinewidth": 0,
              "ticks": ""
             }
            },
            "type": "scatterpolar"
           }
          ],
          "scatterpolargl": [
           {
            "marker": {
             "colorbar": {
              "outlinewidth": 0,
              "ticks": ""
             }
            },
            "type": "scatterpolargl"
           }
          ],
          "scatterternary": [
           {
            "marker": {
             "colorbar": {
              "outlinewidth": 0,
              "ticks": ""
             }
            },
            "type": "scatterternary"
           }
          ],
          "surface": [
           {
            "colorbar": {
             "outlinewidth": 0,
             "ticks": ""
            },
            "colorscale": [
             [
              0,
              "#0d0887"
             ],
             [
              0.1111111111111111,
              "#46039f"
             ],
             [
              0.2222222222222222,
              "#7201a8"
             ],
             [
              0.3333333333333333,
              "#9c179e"
             ],
             [
              0.4444444444444444,
              "#bd3786"
             ],
             [
              0.5555555555555556,
              "#d8576b"
             ],
             [
              0.6666666666666666,
              "#ed7953"
             ],
             [
              0.7777777777777778,
              "#fb9f3a"
             ],
             [
              0.8888888888888888,
              "#fdca26"
             ],
             [
              1,
              "#f0f921"
             ]
            ],
            "type": "surface"
           }
          ],
          "table": [
           {
            "cells": {
             "fill": {
              "color": "#EBF0F8"
             },
             "line": {
              "color": "white"
             }
            },
            "header": {
             "fill": {
              "color": "#C8D4E3"
             },
             "line": {
              "color": "white"
             }
            },
            "type": "table"
           }
          ]
         },
         "layout": {
          "annotationdefaults": {
           "arrowcolor": "#2a3f5f",
           "arrowhead": 0,
           "arrowwidth": 1
          },
          "autotypenumbers": "strict",
          "coloraxis": {
           "colorbar": {
            "outlinewidth": 0,
            "ticks": ""
           }
          },
          "colorscale": {
           "diverging": [
            [
             0,
             "#8e0152"
            ],
            [
             0.1,
             "#c51b7d"
            ],
            [
             0.2,
             "#de77ae"
            ],
            [
             0.3,
             "#f1b6da"
            ],
            [
             0.4,
             "#fde0ef"
            ],
            [
             0.5,
             "#f7f7f7"
            ],
            [
             0.6,
             "#e6f5d0"
            ],
            [
             0.7,
             "#b8e186"
            ],
            [
             0.8,
             "#7fbc41"
            ],
            [
             0.9,
             "#4d9221"
            ],
            [
             1,
             "#276419"
            ]
           ],
           "sequential": [
            [
             0,
             "#0d0887"
            ],
            [
             0.1111111111111111,
             "#46039f"
            ],
            [
             0.2222222222222222,
             "#7201a8"
            ],
            [
             0.3333333333333333,
             "#9c179e"
            ],
            [
             0.4444444444444444,
             "#bd3786"
            ],
            [
             0.5555555555555556,
             "#d8576b"
            ],
            [
             0.6666666666666666,
             "#ed7953"
            ],
            [
             0.7777777777777778,
             "#fb9f3a"
            ],
            [
             0.8888888888888888,
             "#fdca26"
            ],
            [
             1,
             "#f0f921"
            ]
           ],
           "sequentialminus": [
            [
             0,
             "#0d0887"
            ],
            [
             0.1111111111111111,
             "#46039f"
            ],
            [
             0.2222222222222222,
             "#7201a8"
            ],
            [
             0.3333333333333333,
             "#9c179e"
            ],
            [
             0.4444444444444444,
             "#bd3786"
            ],
            [
             0.5555555555555556,
             "#d8576b"
            ],
            [
             0.6666666666666666,
             "#ed7953"
            ],
            [
             0.7777777777777778,
             "#fb9f3a"
            ],
            [
             0.8888888888888888,
             "#fdca26"
            ],
            [
             1,
             "#f0f921"
            ]
           ]
          },
          "colorway": [
           "#636efa",
           "#EF553B",
           "#00cc96",
           "#ab63fa",
           "#FFA15A",
           "#19d3f3",
           "#FF6692",
           "#B6E880",
           "#FF97FF",
           "#FECB52"
          ],
          "font": {
           "color": "#2a3f5f"
          },
          "geo": {
           "bgcolor": "white",
           "lakecolor": "white",
           "landcolor": "#E5ECF6",
           "showlakes": true,
           "showland": true,
           "subunitcolor": "white"
          },
          "hoverlabel": {
           "align": "left"
          },
          "hovermode": "closest",
          "mapbox": {
           "style": "light"
          },
          "paper_bgcolor": "white",
          "plot_bgcolor": "#E5ECF6",
          "polar": {
           "angularaxis": {
            "gridcolor": "white",
            "linecolor": "white",
            "ticks": ""
           },
           "bgcolor": "#E5ECF6",
           "radialaxis": {
            "gridcolor": "white",
            "linecolor": "white",
            "ticks": ""
           }
          },
          "scene": {
           "xaxis": {
            "backgroundcolor": "#E5ECF6",
            "gridcolor": "white",
            "gridwidth": 2,
            "linecolor": "white",
            "showbackground": true,
            "ticks": "",
            "zerolinecolor": "white"
           },
           "yaxis": {
            "backgroundcolor": "#E5ECF6",
            "gridcolor": "white",
            "gridwidth": 2,
            "linecolor": "white",
            "showbackground": true,
            "ticks": "",
            "zerolinecolor": "white"
           },
           "zaxis": {
            "backgroundcolor": "#E5ECF6",
            "gridcolor": "white",
            "gridwidth": 2,
            "linecolor": "white",
            "showbackground": true,
            "ticks": "",
            "zerolinecolor": "white"
           }
          },
          "shapedefaults": {
           "line": {
            "color": "#2a3f5f"
           }
          },
          "ternary": {
           "aaxis": {
            "gridcolor": "white",
            "linecolor": "white",
            "ticks": ""
           },
           "baxis": {
            "gridcolor": "white",
            "linecolor": "white",
            "ticks": ""
           },
           "bgcolor": "#E5ECF6",
           "caxis": {
            "gridcolor": "white",
            "linecolor": "white",
            "ticks": ""
           }
          },
          "title": {
           "x": 0.05
          },
          "xaxis": {
           "automargin": true,
           "gridcolor": "white",
           "linecolor": "white",
           "ticks": "",
           "title": {
            "standoff": 15
           },
           "zerolinecolor": "white",
           "zerolinewidth": 2
          },
          "yaxis": {
           "automargin": true,
           "gridcolor": "white",
           "linecolor": "white",
           "ticks": "",
           "title": {
            "standoff": 15
           },
           "zerolinecolor": "white",
           "zerolinewidth": 2
          }
         }
        },
        "title": {
         "text": "How many users from Atlas Cechu are in the payments table"
        },
        "xaxis": {
         "anchor": "y",
         "domain": [
          0,
          1
         ],
         "title": {
          "text": "user"
         }
        },
        "yaxis": {
         "anchor": "x",
         "domain": [
          0,
          1
         ],
         "title": {
          "text": "Count"
         }
        }
       }
      }
     },
     "metadata": {},
     "output_type": "display_data"
    }
   ],
   "source": [
    "#I have an assumption that all users should be in Atlas Cechu. However, after cheking my assumption it tourns out not to be true. \n",
    "\n",
    "# Convert the boolean series to a DataFrame with a column name\n",
    "atlas_in_credits = df_credits_cleaned.user.isin(df_atlas.user_id).rename('User in Atlas')\n",
    "atlas_in_payments = df_payments_cleaned.user.isin(df_atlas.user_id)\n",
    "\n",
    "# Plotting\n",
    "fig_ac = px.bar(atlas_in_credits.value_counts(), title='How many users from Atlas Cechu are in the credits table', labels={'index': 'User in Atlas (True/False)', 'value': 'Count'})\n",
    "fig_ap = px.bar(atlas_in_payments.value_counts(), title='How many users from Atlas Cechu are in the payments table', labels={'index': 'User in Atlas (True/False)', 'value': 'Count'})\n",
    "\n",
    "fig_ac.show()\n",
    "fig_ap.show()"
   ]
  },
  {
   "cell_type": "code",
   "execution_count": 7,
   "metadata": {},
   "outputs": [
    {
     "data": {
      "text/plain": [
       "user_id\n",
       "True     40672\n",
       "False     2861\n",
       "Name: count, dtype: int64"
      ]
     },
     "execution_count": 7,
     "metadata": {},
     "output_type": "execute_result"
    }
   ],
   "source": [
    "df_atlas.user_id.isin(df_credits_cleaned.user).value_counts()"
   ]
  },
  {
   "cell_type": "code",
   "execution_count": 8,
   "metadata": {},
   "outputs": [
    {
     "data": {
      "text/plain": [
       "user_id\n",
       "False    34824\n",
       "True      8709\n",
       "Name: count, dtype: int64"
      ]
     },
     "execution_count": 8,
     "metadata": {},
     "output_type": "execute_result"
    }
   ],
   "source": [
    "df_atlas.user_id.isin(df_payments_cleaned.user).value_counts()"
   ]
  },
  {
   "cell_type": "markdown",
   "metadata": {},
   "source": [
    "Since we want to find out when who pulls what, it makes sense to use the payments table and connect data to it - even though there are users in payments tables that are not in Atlas Cechu"
   ]
  },
  {
   "cell_type": "code",
   "execution_count": 9,
   "metadata": {},
   "outputs": [
    {
     "data": {
      "text/plain": [
       "'\\nI don\\'t find credits table to be interesting - mainly we cannot join them together due to different \"time type\" -- credits shows the newest version of creadits without historical changes, on the other hand table payments shows history of all transactions\\n'"
      ]
     },
     "execution_count": 9,
     "metadata": {},
     "output_type": "execute_result"
    }
   ],
   "source": [
    "#df_merge_credits = pd.merge(df_payments_cleaned, df_credits_cleaned, how=\"inner\", left_on='user', right_on='user')\n",
    "#df_merge_credits[df_merge_credits.user=='STUD92308']\n",
    "\n",
    "\"\"\"\n",
    "I don't find credits table to be interesting - mainly we cannot join them together due to different \"time type\" -- credits shows the newest version of creadits without historical changes, on the other hand table payments shows history of all transactions\n",
    "\"\"\""
   ]
  },
  {
   "cell_type": "code",
   "execution_count": 10,
   "metadata": {},
   "outputs": [
    {
     "name": "stderr",
     "output_type": "stream",
     "text": [
      "/var/folders/_c/8b17td616wg63_3tyjv1dhb80000gn/T/ipykernel_11060/890235910.py:13: PerformanceWarning:\n",
      "\n",
      "DataFrame is highly fragmented.  This is usually the result of calling `frame.insert` many times, which has poor performance.  Consider joining all columns at once using pd.concat(axis=1) instead. To get a de-fragmented frame, use `newframe = frame.copy()`\n",
      "\n",
      "/var/folders/_c/8b17td616wg63_3tyjv1dhb80000gn/T/ipykernel_11060/890235910.py:14: PerformanceWarning:\n",
      "\n",
      "DataFrame is highly fragmented.  This is usually the result of calling `frame.insert` many times, which has poor performance.  Consider joining all columns at once using pd.concat(axis=1) instead. To get a de-fragmented frame, use `newframe = frame.copy()`\n",
      "\n",
      "/var/folders/_c/8b17td616wg63_3tyjv1dhb80000gn/T/ipykernel_11060/890235910.py:15: PerformanceWarning:\n",
      "\n",
      "DataFrame is highly fragmented.  This is usually the result of calling `frame.insert` many times, which has poor performance.  Consider joining all columns at once using pd.concat(axis=1) instead. To get a de-fragmented frame, use `newframe = frame.copy()`\n",
      "\n",
      "/var/folders/_c/8b17td616wg63_3tyjv1dhb80000gn/T/ipykernel_11060/890235910.py:16: PerformanceWarning:\n",
      "\n",
      "DataFrame is highly fragmented.  This is usually the result of calling `frame.insert` many times, which has poor performance.  Consider joining all columns at once using pd.concat(axis=1) instead. To get a de-fragmented frame, use `newframe = frame.copy()`\n",
      "\n",
      "/var/folders/_c/8b17td616wg63_3tyjv1dhb80000gn/T/ipykernel_11060/890235910.py:17: PerformanceWarning:\n",
      "\n",
      "DataFrame is highly fragmented.  This is usually the result of calling `frame.insert` many times, which has poor performance.  Consider joining all columns at once using pd.concat(axis=1) instead. To get a de-fragmented frame, use `newframe = frame.copy()`\n",
      "\n"
     ]
    }
   ],
   "source": [
    "df_merge_full = pd.merge(df_payments_cleaned, df_atlas, how='inner', left_on='user', right_on='user_id')\n",
    "df_merge_full.rename(columns={'credits_x':'credits_payments', 'credits_y':'credits_credits'})\n",
    "df_merge_full = pd.get_dummies(df_merge_full, columns=['type'], drop_first=True)\n",
    "df_merge_full = df_merge_full.astype({col: int for col in df_merge_full.select_dtypes(include='bool').columns})\n",
    "\n",
    "df_merge_full = df_merge_full[df_merge_full['state']!='CANCELLED']\n",
    "\n",
    "# df_merge_full.to_csv('../data_output/df_merge_full.csv')\n",
    "\n",
    "\n",
    "df_merge_full['created_at'] = pd.to_datetime(df_merge_full['created_at'])\n",
    "\n",
    "df_merge_full['day'] = df_merge_full['created_at'].dt.day\n",
    "df_merge_full['month'] = df_merge_full['created_at'].dt.month\n",
    "df_merge_full['year'] = df_merge_full['created_at'].dt.year\n",
    "df_merge_full['hour'] = df_merge_full['created_at'].dt.hour\n",
    "df_merge_full['weekday'] = df_merge_full['created_at'].dt.weekday\n",
    "\n",
    "\n",
    "df_merge_full = df_merge_full.drop(columns=['created_at'])"
   ]
  },
  {
   "cell_type": "code",
   "execution_count": 12,
   "metadata": {},
   "outputs": [
    {
     "data": {
      "text/html": [
       "<div>\n",
       "<style scoped>\n",
       "    .dataframe tbody tr th:only-of-type {\n",
       "        vertical-align: middle;\n",
       "    }\n",
       "\n",
       "    .dataframe tbody tr th {\n",
       "        vertical-align: top;\n",
       "    }\n",
       "\n",
       "    .dataframe thead th {\n",
       "        text-align: right;\n",
       "    }\n",
       "</style>\n",
       "<table border=\"1\" class=\"dataframe\">\n",
       "  <thead>\n",
       "    <tr style=\"text-align: right;\">\n",
       "      <th></th>\n",
       "      <th>id</th>\n",
       "      <th>changed_at</th>\n",
       "      <th>user</th>\n",
       "      <th>batch</th>\n",
       "      <th>credits</th>\n",
       "      <th>state</th>\n",
       "      <th>user_id</th>\n",
       "      <th>all_intro-2022</th>\n",
       "      <th>atlas_vzorek-2023</th>\n",
       "      <th>atlas_vzorek-2024</th>\n",
       "      <th>...</th>\n",
       "      <th>isic_age-23_26</th>\n",
       "      <th>type_HANDIPET</th>\n",
       "      <th>type_MEDICINS_SANS_FRONTIERS</th>\n",
       "      <th>type_MONEY</th>\n",
       "      <th>type_TRENDARO</th>\n",
       "      <th>day</th>\n",
       "      <th>month</th>\n",
       "      <th>year</th>\n",
       "      <th>hour</th>\n",
       "      <th>weekday</th>\n",
       "    </tr>\n",
       "  </thead>\n",
       "  <tbody>\n",
       "    <tr>\n",
       "      <th>2884</th>\n",
       "      <td>27204.0</td>\n",
       "      <td>2025-01-30 11:13:06.272277+00:00</td>\n",
       "      <td>STUD29324</td>\n",
       "      <td>280</td>\n",
       "      <td>507.0</td>\n",
       "      <td>PAID</td>\n",
       "      <td>STUD29324</td>\n",
       "      <td>1</td>\n",
       "      <td>0</td>\n",
       "      <td>1</td>\n",
       "      <td>...</td>\n",
       "      <td>0</td>\n",
       "      <td>0</td>\n",
       "      <td>0</td>\n",
       "      <td>1</td>\n",
       "      <td>0</td>\n",
       "      <td>29</td>\n",
       "      <td>1</td>\n",
       "      <td>2025</td>\n",
       "      <td>11</td>\n",
       "      <td>2</td>\n",
       "    </tr>\n",
       "    <tr>\n",
       "      <th>6976</th>\n",
       "      <td>23047.0</td>\n",
       "      <td>2024-10-10 09:37:21.336291+00:00</td>\n",
       "      <td>STUD29324</td>\n",
       "      <td>255</td>\n",
       "      <td>628.0</td>\n",
       "      <td>PAID</td>\n",
       "      <td>STUD29324</td>\n",
       "      <td>1</td>\n",
       "      <td>0</td>\n",
       "      <td>1</td>\n",
       "      <td>...</td>\n",
       "      <td>0</td>\n",
       "      <td>0</td>\n",
       "      <td>0</td>\n",
       "      <td>1</td>\n",
       "      <td>0</td>\n",
       "      <td>4</td>\n",
       "      <td>10</td>\n",
       "      <td>2024</td>\n",
       "      <td>12</td>\n",
       "      <td>4</td>\n",
       "    </tr>\n",
       "    <tr>\n",
       "      <th>11004</th>\n",
       "      <td>18828.0</td>\n",
       "      <td>2024-05-02 07:45:59.753111+00:00</td>\n",
       "      <td>STUD29324</td>\n",
       "      <td>224</td>\n",
       "      <td>505.0</td>\n",
       "      <td>PAID</td>\n",
       "      <td>STUD29324</td>\n",
       "      <td>1</td>\n",
       "      <td>0</td>\n",
       "      <td>1</td>\n",
       "      <td>...</td>\n",
       "      <td>0</td>\n",
       "      <td>0</td>\n",
       "      <td>0</td>\n",
       "      <td>1</td>\n",
       "      <td>0</td>\n",
       "      <td>1</td>\n",
       "      <td>5</td>\n",
       "      <td>2024</td>\n",
       "      <td>11</td>\n",
       "      <td>2</td>\n",
       "    </tr>\n",
       "    <tr>\n",
       "      <th>12715</th>\n",
       "      <td>17042.0</td>\n",
       "      <td>2024-02-15 16:54:29.290732+00:00</td>\n",
       "      <td>STUD29324</td>\n",
       "      <td>216</td>\n",
       "      <td>573.0</td>\n",
       "      <td>PAID</td>\n",
       "      <td>STUD29324</td>\n",
       "      <td>1</td>\n",
       "      <td>0</td>\n",
       "      <td>1</td>\n",
       "      <td>...</td>\n",
       "      <td>0</td>\n",
       "      <td>0</td>\n",
       "      <td>0</td>\n",
       "      <td>1</td>\n",
       "      <td>0</td>\n",
       "      <td>7</td>\n",
       "      <td>2</td>\n",
       "      <td>2024</td>\n",
       "      <td>15</td>\n",
       "      <td>2</td>\n",
       "    </tr>\n",
       "    <tr>\n",
       "      <th>20715</th>\n",
       "      <td>8238.0</td>\n",
       "      <td>2024-01-10 17:28:38.772490+00:00</td>\n",
       "      <td>STUD29324</td>\n",
       "      <td>131</td>\n",
       "      <td>514.0</td>\n",
       "      <td>PAID</td>\n",
       "      <td>STUD29324</td>\n",
       "      <td>1</td>\n",
       "      <td>0</td>\n",
       "      <td>1</td>\n",
       "      <td>...</td>\n",
       "      <td>0</td>\n",
       "      <td>0</td>\n",
       "      <td>0</td>\n",
       "      <td>1</td>\n",
       "      <td>0</td>\n",
       "      <td>11</td>\n",
       "      <td>3</td>\n",
       "      <td>2022</td>\n",
       "      <td>7</td>\n",
       "      <td>4</td>\n",
       "    </tr>\n",
       "    <tr>\n",
       "      <th>22265</th>\n",
       "      <td>6332.0</td>\n",
       "      <td>2024-01-10 17:29:16.050685+00:00</td>\n",
       "      <td>STUD29324</td>\n",
       "      <td>110</td>\n",
       "      <td>515.0</td>\n",
       "      <td>PAID</td>\n",
       "      <td>STUD29324</td>\n",
       "      <td>1</td>\n",
       "      <td>0</td>\n",
       "      <td>1</td>\n",
       "      <td>...</td>\n",
       "      <td>0</td>\n",
       "      <td>0</td>\n",
       "      <td>0</td>\n",
       "      <td>1</td>\n",
       "      <td>0</td>\n",
       "      <td>30</td>\n",
       "      <td>7</td>\n",
       "      <td>2021</td>\n",
       "      <td>7</td>\n",
       "      <td>4</td>\n",
       "    </tr>\n",
       "    <tr>\n",
       "      <th>23253</th>\n",
       "      <td>5018.0</td>\n",
       "      <td>2024-01-10 17:29:38.609722+00:00</td>\n",
       "      <td>STUD29324</td>\n",
       "      <td>90</td>\n",
       "      <td>514.0</td>\n",
       "      <td>PAID</td>\n",
       "      <td>STUD29324</td>\n",
       "      <td>1</td>\n",
       "      <td>0</td>\n",
       "      <td>1</td>\n",
       "      <td>...</td>\n",
       "      <td>0</td>\n",
       "      <td>0</td>\n",
       "      <td>0</td>\n",
       "      <td>1</td>\n",
       "      <td>0</td>\n",
       "      <td>11</td>\n",
       "      <td>12</td>\n",
       "      <td>2020</td>\n",
       "      <td>10</td>\n",
       "      <td>4</td>\n",
       "    </tr>\n",
       "    <tr>\n",
       "      <th>25143</th>\n",
       "      <td>2481.0</td>\n",
       "      <td>2024-01-10 17:30:26.241582+00:00</td>\n",
       "      <td>STUD29324</td>\n",
       "      <td>58</td>\n",
       "      <td>503.0</td>\n",
       "      <td>PAID</td>\n",
       "      <td>STUD29324</td>\n",
       "      <td>1</td>\n",
       "      <td>0</td>\n",
       "      <td>1</td>\n",
       "      <td>...</td>\n",
       "      <td>0</td>\n",
       "      <td>0</td>\n",
       "      <td>0</td>\n",
       "      <td>1</td>\n",
       "      <td>0</td>\n",
       "      <td>11</td>\n",
       "      <td>12</td>\n",
       "      <td>2019</td>\n",
       "      <td>7</td>\n",
       "      <td>2</td>\n",
       "    </tr>\n",
       "    <tr>\n",
       "      <th>26288</th>\n",
       "      <td>863.0</td>\n",
       "      <td>2024-01-10 17:30:56.065601+00:00</td>\n",
       "      <td>STUD29324</td>\n",
       "      <td>37</td>\n",
       "      <td>506.0</td>\n",
       "      <td>PAID</td>\n",
       "      <td>STUD29324</td>\n",
       "      <td>1</td>\n",
       "      <td>0</td>\n",
       "      <td>1</td>\n",
       "      <td>...</td>\n",
       "      <td>0</td>\n",
       "      <td>0</td>\n",
       "      <td>0</td>\n",
       "      <td>1</td>\n",
       "      <td>0</td>\n",
       "      <td>17</td>\n",
       "      <td>2</td>\n",
       "      <td>2019</td>\n",
       "      <td>18</td>\n",
       "      <td>6</td>\n",
       "    </tr>\n",
       "    <tr>\n",
       "      <th>26876</th>\n",
       "      <td>34.0</td>\n",
       "      <td>2024-01-10 17:31:11.820777+00:00</td>\n",
       "      <td>STUD29324</td>\n",
       "      <td>5</td>\n",
       "      <td>511.0</td>\n",
       "      <td>PAID</td>\n",
       "      <td>STUD29324</td>\n",
       "      <td>1</td>\n",
       "      <td>0</td>\n",
       "      <td>1</td>\n",
       "      <td>...</td>\n",
       "      <td>0</td>\n",
       "      <td>0</td>\n",
       "      <td>0</td>\n",
       "      <td>1</td>\n",
       "      <td>0</td>\n",
       "      <td>11</td>\n",
       "      <td>8</td>\n",
       "      <td>2017</td>\n",
       "      <td>14</td>\n",
       "      <td>4</td>\n",
       "    </tr>\n",
       "  </tbody>\n",
       "</table>\n",
       "<p>10 rows × 1136 columns</p>\n",
       "</div>"
      ],
      "text/plain": [
       "            id                        changed_at       user batch  credits  \\\n",
       "2884   27204.0  2025-01-30 11:13:06.272277+00:00  STUD29324   280    507.0   \n",
       "6976   23047.0  2024-10-10 09:37:21.336291+00:00  STUD29324   255    628.0   \n",
       "11004  18828.0  2024-05-02 07:45:59.753111+00:00  STUD29324   224    505.0   \n",
       "12715  17042.0  2024-02-15 16:54:29.290732+00:00  STUD29324   216    573.0   \n",
       "20715   8238.0  2024-01-10 17:28:38.772490+00:00  STUD29324   131    514.0   \n",
       "22265   6332.0  2024-01-10 17:29:16.050685+00:00  STUD29324   110    515.0   \n",
       "23253   5018.0  2024-01-10 17:29:38.609722+00:00  STUD29324    90    514.0   \n",
       "25143   2481.0  2024-01-10 17:30:26.241582+00:00  STUD29324    58    503.0   \n",
       "26288    863.0  2024-01-10 17:30:56.065601+00:00  STUD29324    37    506.0   \n",
       "26876     34.0  2024-01-10 17:31:11.820777+00:00  STUD29324     5    511.0   \n",
       "\n",
       "      state    user_id  all_intro-2022  atlas_vzorek-2023  atlas_vzorek-2024  \\\n",
       "2884   PAID  STUD29324               1                  0                  1   \n",
       "6976   PAID  STUD29324               1                  0                  1   \n",
       "11004  PAID  STUD29324               1                  0                  1   \n",
       "12715  PAID  STUD29324               1                  0                  1   \n",
       "20715  PAID  STUD29324               1                  0                  1   \n",
       "22265  PAID  STUD29324               1                  0                  1   \n",
       "23253  PAID  STUD29324               1                  0                  1   \n",
       "25143  PAID  STUD29324               1                  0                  1   \n",
       "26288  PAID  STUD29324               1                  0                  1   \n",
       "26876  PAID  STUD29324               1                  0                  1   \n",
       "\n",
       "       ...  isic_age-23_26  type_HANDIPET  type_MEDICINS_SANS_FRONTIERS  \\\n",
       "2884   ...               0              0                             0   \n",
       "6976   ...               0              0                             0   \n",
       "11004  ...               0              0                             0   \n",
       "12715  ...               0              0                             0   \n",
       "20715  ...               0              0                             0   \n",
       "22265  ...               0              0                             0   \n",
       "23253  ...               0              0                             0   \n",
       "25143  ...               0              0                             0   \n",
       "26288  ...               0              0                             0   \n",
       "26876  ...               0              0                             0   \n",
       "\n",
       "       type_MONEY  type_TRENDARO  day  month  year  hour  weekday  \n",
       "2884            1              0   29      1  2025    11        2  \n",
       "6976            1              0    4     10  2024    12        4  \n",
       "11004           1              0    1      5  2024    11        2  \n",
       "12715           1              0    7      2  2024    15        2  \n",
       "20715           1              0   11      3  2022     7        4  \n",
       "22265           1              0   30      7  2021     7        4  \n",
       "23253           1              0   11     12  2020    10        4  \n",
       "25143           1              0   11     12  2019     7        2  \n",
       "26288           1              0   17      2  2019    18        6  \n",
       "26876           1              0   11      8  2017    14        4  \n",
       "\n",
       "[10 rows x 1136 columns]"
      ]
     },
     "execution_count": 12,
     "metadata": {},
     "output_type": "execute_result"
    }
   ],
   "source": [
    "df_merge_full[df_merge_full['user']=='STUD29324']"
   ]
  },
  {
   "cell_type": "code",
   "execution_count": 17,
   "metadata": {},
   "outputs": [
    {
     "name": "stderr",
     "output_type": "stream",
     "text": [
      "/var/folders/_c/8b17td616wg63_3tyjv1dhb80000gn/T/ipykernel_11060/3785300821.py:4: PerformanceWarning:\n",
      "\n",
      "DataFrame is highly fragmented.  This is usually the result of calling `frame.insert` many times, which has poor performance.  Consider joining all columns at once using pd.concat(axis=1) instead. To get a de-fragmented frame, use `newframe = frame.copy()`\n",
      "\n"
     ]
    },
    {
     "data": {
      "application/vnd.plotly.v1+json": {
       "config": {
        "plotlyServerURL": "https://plot.ly"
       },
       "data": [
        {
         "hovertemplate": "credits_category=%{x}<br>count=%{y}<extra></extra>",
         "legendgroup": "",
         "marker": {
          "color": "#636efa",
          "pattern": {
           "shape": ""
          }
         },
         "name": "",
         "orientation": "v",
         "showlegend": false,
         "textposition": "auto",
         "type": "bar",
         "x": [
          "500-600",
          "1001+",
          "601-1000"
         ],
         "xaxis": "x",
         "y": {
          "bdata": "x0N1DVcL",
          "dtype": "i2"
         },
         "yaxis": "y"
        }
       ],
       "layout": {
        "barmode": "relative",
        "legend": {
         "tracegroupgap": 0
        },
        "template": {
         "data": {
          "bar": [
           {
            "error_x": {
             "color": "#2a3f5f"
            },
            "error_y": {
             "color": "#2a3f5f"
            },
            "marker": {
             "line": {
              "color": "#E5ECF6",
              "width": 0.5
             },
             "pattern": {
              "fillmode": "overlay",
              "size": 10,
              "solidity": 0.2
             }
            },
            "type": "bar"
           }
          ],
          "barpolar": [
           {
            "marker": {
             "line": {
              "color": "#E5ECF6",
              "width": 0.5
             },
             "pattern": {
              "fillmode": "overlay",
              "size": 10,
              "solidity": 0.2
             }
            },
            "type": "barpolar"
           }
          ],
          "carpet": [
           {
            "aaxis": {
             "endlinecolor": "#2a3f5f",
             "gridcolor": "white",
             "linecolor": "white",
             "minorgridcolor": "white",
             "startlinecolor": "#2a3f5f"
            },
            "baxis": {
             "endlinecolor": "#2a3f5f",
             "gridcolor": "white",
             "linecolor": "white",
             "minorgridcolor": "white",
             "startlinecolor": "#2a3f5f"
            },
            "type": "carpet"
           }
          ],
          "choropleth": [
           {
            "colorbar": {
             "outlinewidth": 0,
             "ticks": ""
            },
            "type": "choropleth"
           }
          ],
          "contour": [
           {
            "colorbar": {
             "outlinewidth": 0,
             "ticks": ""
            },
            "colorscale": [
             [
              0,
              "#0d0887"
             ],
             [
              0.1111111111111111,
              "#46039f"
             ],
             [
              0.2222222222222222,
              "#7201a8"
             ],
             [
              0.3333333333333333,
              "#9c179e"
             ],
             [
              0.4444444444444444,
              "#bd3786"
             ],
             [
              0.5555555555555556,
              "#d8576b"
             ],
             [
              0.6666666666666666,
              "#ed7953"
             ],
             [
              0.7777777777777778,
              "#fb9f3a"
             ],
             [
              0.8888888888888888,
              "#fdca26"
             ],
             [
              1,
              "#f0f921"
             ]
            ],
            "type": "contour"
           }
          ],
          "contourcarpet": [
           {
            "colorbar": {
             "outlinewidth": 0,
             "ticks": ""
            },
            "type": "contourcarpet"
           }
          ],
          "heatmap": [
           {
            "colorbar": {
             "outlinewidth": 0,
             "ticks": ""
            },
            "colorscale": [
             [
              0,
              "#0d0887"
             ],
             [
              0.1111111111111111,
              "#46039f"
             ],
             [
              0.2222222222222222,
              "#7201a8"
             ],
             [
              0.3333333333333333,
              "#9c179e"
             ],
             [
              0.4444444444444444,
              "#bd3786"
             ],
             [
              0.5555555555555556,
              "#d8576b"
             ],
             [
              0.6666666666666666,
              "#ed7953"
             ],
             [
              0.7777777777777778,
              "#fb9f3a"
             ],
             [
              0.8888888888888888,
              "#fdca26"
             ],
             [
              1,
              "#f0f921"
             ]
            ],
            "type": "heatmap"
           }
          ],
          "histogram": [
           {
            "marker": {
             "pattern": {
              "fillmode": "overlay",
              "size": 10,
              "solidity": 0.2
             }
            },
            "type": "histogram"
           }
          ],
          "histogram2d": [
           {
            "colorbar": {
             "outlinewidth": 0,
             "ticks": ""
            },
            "colorscale": [
             [
              0,
              "#0d0887"
             ],
             [
              0.1111111111111111,
              "#46039f"
             ],
             [
              0.2222222222222222,
              "#7201a8"
             ],
             [
              0.3333333333333333,
              "#9c179e"
             ],
             [
              0.4444444444444444,
              "#bd3786"
             ],
             [
              0.5555555555555556,
              "#d8576b"
             ],
             [
              0.6666666666666666,
              "#ed7953"
             ],
             [
              0.7777777777777778,
              "#fb9f3a"
             ],
             [
              0.8888888888888888,
              "#fdca26"
             ],
             [
              1,
              "#f0f921"
             ]
            ],
            "type": "histogram2d"
           }
          ],
          "histogram2dcontour": [
           {
            "colorbar": {
             "outlinewidth": 0,
             "ticks": ""
            },
            "colorscale": [
             [
              0,
              "#0d0887"
             ],
             [
              0.1111111111111111,
              "#46039f"
             ],
             [
              0.2222222222222222,
              "#7201a8"
             ],
             [
              0.3333333333333333,
              "#9c179e"
             ],
             [
              0.4444444444444444,
              "#bd3786"
             ],
             [
              0.5555555555555556,
              "#d8576b"
             ],
             [
              0.6666666666666666,
              "#ed7953"
             ],
             [
              0.7777777777777778,
              "#fb9f3a"
             ],
             [
              0.8888888888888888,
              "#fdca26"
             ],
             [
              1,
              "#f0f921"
             ]
            ],
            "type": "histogram2dcontour"
           }
          ],
          "mesh3d": [
           {
            "colorbar": {
             "outlinewidth": 0,
             "ticks": ""
            },
            "type": "mesh3d"
           }
          ],
          "parcoords": [
           {
            "line": {
             "colorbar": {
              "outlinewidth": 0,
              "ticks": ""
             }
            },
            "type": "parcoords"
           }
          ],
          "pie": [
           {
            "automargin": true,
            "type": "pie"
           }
          ],
          "scatter": [
           {
            "fillpattern": {
             "fillmode": "overlay",
             "size": 10,
             "solidity": 0.2
            },
            "type": "scatter"
           }
          ],
          "scatter3d": [
           {
            "line": {
             "colorbar": {
              "outlinewidth": 0,
              "ticks": ""
             }
            },
            "marker": {
             "colorbar": {
              "outlinewidth": 0,
              "ticks": ""
             }
            },
            "type": "scatter3d"
           }
          ],
          "scattercarpet": [
           {
            "marker": {
             "colorbar": {
              "outlinewidth": 0,
              "ticks": ""
             }
            },
            "type": "scattercarpet"
           }
          ],
          "scattergeo": [
           {
            "marker": {
             "colorbar": {
              "outlinewidth": 0,
              "ticks": ""
             }
            },
            "type": "scattergeo"
           }
          ],
          "scattergl": [
           {
            "marker": {
             "colorbar": {
              "outlinewidth": 0,
              "ticks": ""
             }
            },
            "type": "scattergl"
           }
          ],
          "scattermap": [
           {
            "marker": {
             "colorbar": {
              "outlinewidth": 0,
              "ticks": ""
             }
            },
            "type": "scattermap"
           }
          ],
          "scattermapbox": [
           {
            "marker": {
             "colorbar": {
              "outlinewidth": 0,
              "ticks": ""
             }
            },
            "type": "scattermapbox"
           }
          ],
          "scatterpolar": [
           {
            "marker": {
             "colorbar": {
              "outlinewidth": 0,
              "ticks": ""
             }
            },
            "type": "scatterpolar"
           }
          ],
          "scatterpolargl": [
           {
            "marker": {
             "colorbar": {
              "outlinewidth": 0,
              "ticks": ""
             }
            },
            "type": "scatterpolargl"
           }
          ],
          "scatterternary": [
           {
            "marker": {
             "colorbar": {
              "outlinewidth": 0,
              "ticks": ""
             }
            },
            "type": "scatterternary"
           }
          ],
          "surface": [
           {
            "colorbar": {
             "outlinewidth": 0,
             "ticks": ""
            },
            "colorscale": [
             [
              0,
              "#0d0887"
             ],
             [
              0.1111111111111111,
              "#46039f"
             ],
             [
              0.2222222222222222,
              "#7201a8"
             ],
             [
              0.3333333333333333,
              "#9c179e"
             ],
             [
              0.4444444444444444,
              "#bd3786"
             ],
             [
              0.5555555555555556,
              "#d8576b"
             ],
             [
              0.6666666666666666,
              "#ed7953"
             ],
             [
              0.7777777777777778,
              "#fb9f3a"
             ],
             [
              0.8888888888888888,
              "#fdca26"
             ],
             [
              1,
              "#f0f921"
             ]
            ],
            "type": "surface"
           }
          ],
          "table": [
           {
            "cells": {
             "fill": {
              "color": "#EBF0F8"
             },
             "line": {
              "color": "white"
             }
            },
            "header": {
             "fill": {
              "color": "#C8D4E3"
             },
             "line": {
              "color": "white"
             }
            },
            "type": "table"
           }
          ]
         },
         "layout": {
          "annotationdefaults": {
           "arrowcolor": "#2a3f5f",
           "arrowhead": 0,
           "arrowwidth": 1
          },
          "autotypenumbers": "strict",
          "coloraxis": {
           "colorbar": {
            "outlinewidth": 0,
            "ticks": ""
           }
          },
          "colorscale": {
           "diverging": [
            [
             0,
             "#8e0152"
            ],
            [
             0.1,
             "#c51b7d"
            ],
            [
             0.2,
             "#de77ae"
            ],
            [
             0.3,
             "#f1b6da"
            ],
            [
             0.4,
             "#fde0ef"
            ],
            [
             0.5,
             "#f7f7f7"
            ],
            [
             0.6,
             "#e6f5d0"
            ],
            [
             0.7,
             "#b8e186"
            ],
            [
             0.8,
             "#7fbc41"
            ],
            [
             0.9,
             "#4d9221"
            ],
            [
             1,
             "#276419"
            ]
           ],
           "sequential": [
            [
             0,
             "#0d0887"
            ],
            [
             0.1111111111111111,
             "#46039f"
            ],
            [
             0.2222222222222222,
             "#7201a8"
            ],
            [
             0.3333333333333333,
             "#9c179e"
            ],
            [
             0.4444444444444444,
             "#bd3786"
            ],
            [
             0.5555555555555556,
             "#d8576b"
            ],
            [
             0.6666666666666666,
             "#ed7953"
            ],
            [
             0.7777777777777778,
             "#fb9f3a"
            ],
            [
             0.8888888888888888,
             "#fdca26"
            ],
            [
             1,
             "#f0f921"
            ]
           ],
           "sequentialminus": [
            [
             0,
             "#0d0887"
            ],
            [
             0.1111111111111111,
             "#46039f"
            ],
            [
             0.2222222222222222,
             "#7201a8"
            ],
            [
             0.3333333333333333,
             "#9c179e"
            ],
            [
             0.4444444444444444,
             "#bd3786"
            ],
            [
             0.5555555555555556,
             "#d8576b"
            ],
            [
             0.6666666666666666,
             "#ed7953"
            ],
            [
             0.7777777777777778,
             "#fb9f3a"
            ],
            [
             0.8888888888888888,
             "#fdca26"
            ],
            [
             1,
             "#f0f921"
            ]
           ]
          },
          "colorway": [
           "#636efa",
           "#EF553B",
           "#00cc96",
           "#ab63fa",
           "#FFA15A",
           "#19d3f3",
           "#FF6692",
           "#B6E880",
           "#FF97FF",
           "#FECB52"
          ],
          "font": {
           "color": "#2a3f5f"
          },
          "geo": {
           "bgcolor": "white",
           "lakecolor": "white",
           "landcolor": "#E5ECF6",
           "showlakes": true,
           "showland": true,
           "subunitcolor": "white"
          },
          "hoverlabel": {
           "align": "left"
          },
          "hovermode": "closest",
          "mapbox": {
           "style": "light"
          },
          "paper_bgcolor": "white",
          "plot_bgcolor": "#E5ECF6",
          "polar": {
           "angularaxis": {
            "gridcolor": "white",
            "linecolor": "white",
            "ticks": ""
           },
           "bgcolor": "#E5ECF6",
           "radialaxis": {
            "gridcolor": "white",
            "linecolor": "white",
            "ticks": ""
           }
          },
          "scene": {
           "xaxis": {
            "backgroundcolor": "#E5ECF6",
            "gridcolor": "white",
            "gridwidth": 2,
            "linecolor": "white",
            "showbackground": true,
            "ticks": "",
            "zerolinecolor": "white"
           },
           "yaxis": {
            "backgroundcolor": "#E5ECF6",
            "gridcolor": "white",
            "gridwidth": 2,
            "linecolor": "white",
            "showbackground": true,
            "ticks": "",
            "zerolinecolor": "white"
           },
           "zaxis": {
            "backgroundcolor": "#E5ECF6",
            "gridcolor": "white",
            "gridwidth": 2,
            "linecolor": "white",
            "showbackground": true,
            "ticks": "",
            "zerolinecolor": "white"
           }
          },
          "shapedefaults": {
           "line": {
            "color": "#2a3f5f"
           }
          },
          "ternary": {
           "aaxis": {
            "gridcolor": "white",
            "linecolor": "white",
            "ticks": ""
           },
           "baxis": {
            "gridcolor": "white",
            "linecolor": "white",
            "ticks": ""
           },
           "bgcolor": "#E5ECF6",
           "caxis": {
            "gridcolor": "white",
            "linecolor": "white",
            "ticks": ""
           }
          },
          "title": {
           "x": 0.05
          },
          "xaxis": {
           "automargin": true,
           "gridcolor": "white",
           "linecolor": "white",
           "ticks": "",
           "title": {
            "standoff": 15
           },
           "zerolinecolor": "white",
           "zerolinewidth": 2
          },
          "yaxis": {
           "automargin": true,
           "gridcolor": "white",
           "linecolor": "white",
           "ticks": "",
           "title": {
            "standoff": 15
           },
           "zerolinecolor": "white",
           "zerolinewidth": 2
          }
         }
        },
        "title": {
         "text": "Credits Category Distribution"
        },
        "xaxis": {
         "anchor": "y",
         "domain": [
          0,
          1
         ],
         "title": {
          "text": "credits_category"
         }
        },
        "yaxis": {
         "anchor": "x",
         "domain": [
          0,
          1
         ],
         "title": {
          "text": "count"
         }
        }
       }
      }
     },
     "metadata": {},
     "output_type": "display_data"
    }
   ],
   "source": [
    "# split dataset into three categories\n",
    "\n",
    "df_modeling = df_merge_full.drop(columns=['id', 'changed_at', 'user','batch','state','user_id'])\n",
    "df_modeling['credits_category'] = pd.cut(df_modeling['credits'], bins=[500, 600, 1000, max(df_modeling['credits'])], labels=['500-600', '601-1000', '1001+'])\n",
    "df_modeling = df_modeling.drop(columns=['credits'])\n",
    "\n",
    "fig = px.bar(pd.DataFrame(df_modeling['credits_category'].value_counts().reset_index()), x='credits_category', y='count', title='Credits Category Distribution')\n",
    "fig.show()"
   ]
  },
  {
   "cell_type": "code",
   "execution_count": 26,
   "metadata": {},
   "outputs": [
    {
     "data": {
      "text/plain": [
       "['500-600', '601-1000', '1001+', NaN]\n",
       "Categories (3, object): ['500-600' < '601-1000' < '1001+']"
      ]
     },
     "execution_count": 26,
     "metadata": {},
     "output_type": "execute_result"
    }
   ],
   "source": [
    "df_modeling['credits_category'].unique()"
   ]
  },
  {
   "cell_type": "code",
   "execution_count": 32,
   "metadata": {},
   "outputs": [],
   "source": [
    "df_modeling = df_modeling[df_modeling['credits_category'].isnull()==False] # clean data from null values"
   ]
  },
  {
   "cell_type": "markdown",
   "metadata": {},
   "source": [
    "# Modeling"
   ]
  },
  {
   "cell_type": "code",
   "execution_count": 33,
   "metadata": {},
   "outputs": [],
   "source": [
    "from sklearn.model_selection import train_test_split\n",
    "from catboost import CatBoostClassifier\n",
    "\n",
    "from sklearn.model_selection import GridSearchCV"
   ]
  },
  {
   "cell_type": "code",
   "execution_count": 34,
   "metadata": {},
   "outputs": [],
   "source": [
    "y = df_modeling['credits_category']\n",
    "X = df_modeling.drop(columns=['credits_category'])\n",
    "\n",
    "X_train, X_test, y_train, y_test = train_test_split(X, y, stratify=y , test_size=0.8, random_state=42)"
   ]
  },
  {
   "cell_type": "code",
   "execution_count": 63,
   "metadata": {},
   "outputs": [
    {
     "data": {
      "text/plain": [
       "[1, 3, 5, 7, 9]"
      ]
     },
     "execution_count": 63,
     "metadata": {},
     "output_type": "execute_result"
    }
   ],
   "source": [
    "list(range(1,11,2))"
   ]
  },
  {
   "cell_type": "code",
   "execution_count": 64,
   "metadata": {},
   "outputs": [
    {
     "name": "stdout",
     "output_type": "stream",
     "text": [
      "0:\tlearn: 0.7321937\ttotal: 1.47ms\tremaining: 733ms\n",
      "100:\tlearn: 0.7321937\ttotal: 133ms\tremaining: 526ms\n",
      "200:\tlearn: 0.7321937\ttotal: 265ms\tremaining: 395ms\n",
      "300:\tlearn: 0.7321937\ttotal: 399ms\tremaining: 264ms\n",
      "400:\tlearn: 0.7318772\ttotal: 565ms\tremaining: 139ms\n",
      "499:\tlearn: 0.7321937\ttotal: 698ms\tremaining: 0us\n",
      "0:\tlearn: 0.7321937\ttotal: 1.31ms\tremaining: 652ms\n",
      "100:\tlearn: 0.7321937\ttotal: 133ms\tremaining: 527ms\n",
      "200:\tlearn: 0.7321937\ttotal: 266ms\tremaining: 396ms\n",
      "300:\tlearn: 0.7321937\ttotal: 393ms\tremaining: 260ms\n",
      "400:\tlearn: 0.7321937\ttotal: 524ms\tremaining: 129ms\n",
      "499:\tlearn: 0.7321937\ttotal: 654ms\tremaining: 0us\n",
      "0:\tlearn: 0.7322785\ttotal: 1.67ms\tremaining: 834ms\n",
      "100:\tlearn: 0.7322785\ttotal: 128ms\tremaining: 505ms\n",
      "200:\tlearn: 0.7322785\ttotal: 257ms\tremaining: 383ms\n",
      "300:\tlearn: 0.7322785\ttotal: 388ms\tremaining: 257ms\n",
      "400:\tlearn: 0.7322785\ttotal: 521ms\tremaining: 129ms\n",
      "499:\tlearn: 0.7322785\ttotal: 646ms\tremaining: 0us\n",
      "0:\tlearn: 0.7321937\ttotal: 1.23ms\tremaining: 611ms\n",
      "100:\tlearn: 0.7321937\ttotal: 129ms\tremaining: 508ms\n",
      "200:\tlearn: 0.7321937\ttotal: 254ms\tremaining: 378ms\n",
      "300:\tlearn: 0.7321937\ttotal: 379ms\tremaining: 250ms\n",
      "400:\tlearn: 0.7321937\ttotal: 508ms\tremaining: 125ms\n",
      "499:\tlearn: 0.7318772\ttotal: 634ms\tremaining: 0us\n",
      "0:\tlearn: 0.7321937\ttotal: 1.3ms\tremaining: 651ms\n",
      "100:\tlearn: 0.7321937\ttotal: 124ms\tremaining: 489ms\n",
      "200:\tlearn: 0.7321937\ttotal: 249ms\tremaining: 370ms\n",
      "300:\tlearn: 0.7321937\ttotal: 371ms\tremaining: 245ms\n",
      "400:\tlearn: 0.7321937\ttotal: 497ms\tremaining: 123ms\n",
      "499:\tlearn: 0.7321937\ttotal: 620ms\tremaining: 0us\n",
      "0:\tlearn: 0.7322785\ttotal: 1.16ms\tremaining: 577ms\n",
      "100:\tlearn: 0.7322785\ttotal: 126ms\tremaining: 499ms\n",
      "200:\tlearn: 0.7322785\ttotal: 253ms\tremaining: 376ms\n",
      "300:\tlearn: 0.7322785\ttotal: 376ms\tremaining: 248ms\n",
      "400:\tlearn: 0.7322785\ttotal: 501ms\tremaining: 124ms\n",
      "499:\tlearn: 0.7322785\ttotal: 623ms\tremaining: 0us\n",
      "0:\tlearn: 0.7321937\ttotal: 1.67ms\tremaining: 832ms\n",
      "100:\tlearn: 0.7321937\ttotal: 134ms\tremaining: 528ms\n",
      "200:\tlearn: 0.7321937\ttotal: 264ms\tremaining: 393ms\n",
      "300:\tlearn: 0.7328268\ttotal: 391ms\tremaining: 258ms\n",
      "400:\tlearn: 0.7328268\ttotal: 522ms\tremaining: 129ms\n",
      "499:\tlearn: 0.7334600\ttotal: 647ms\tremaining: 0us\n",
      "0:\tlearn: 0.7321937\ttotal: 1.2ms\tremaining: 601ms\n",
      "100:\tlearn: 0.7321937\ttotal: 128ms\tremaining: 507ms\n",
      "200:\tlearn: 0.7321937\ttotal: 264ms\tremaining: 393ms\n",
      "300:\tlearn: 0.7321937\ttotal: 392ms\tremaining: 259ms\n",
      "400:\tlearn: 0.7318772\ttotal: 523ms\tremaining: 129ms\n",
      "499:\tlearn: 0.7325103\ttotal: 649ms\tremaining: 0us\n",
      "0:\tlearn: 0.7322785\ttotal: 1.29ms\tremaining: 646ms\n",
      "100:\tlearn: 0.7322785\ttotal: 130ms\tremaining: 512ms\n",
      "200:\tlearn: 0.7322785\ttotal: 258ms\tremaining: 384ms\n",
      "300:\tlearn: 0.7322785\ttotal: 386ms\tremaining: 255ms\n",
      "400:\tlearn: 0.7335443\ttotal: 515ms\tremaining: 127ms\n",
      "499:\tlearn: 0.7351266\ttotal: 670ms\tremaining: 0us\n",
      "0:\tlearn: 0.7321937\ttotal: 1.74ms\tremaining: 871ms\n",
      "100:\tlearn: 0.7321937\ttotal: 126ms\tremaining: 498ms\n",
      "200:\tlearn: 0.7321937\ttotal: 248ms\tremaining: 369ms\n",
      "300:\tlearn: 0.7328268\ttotal: 371ms\tremaining: 246ms\n",
      "400:\tlearn: 0.7328268\ttotal: 496ms\tremaining: 123ms\n",
      "499:\tlearn: 0.7328268\ttotal: 622ms\tremaining: 0us\n",
      "0:\tlearn: 0.7321937\ttotal: 1.41ms\tremaining: 704ms\n",
      "100:\tlearn: 0.7321937\ttotal: 126ms\tremaining: 496ms\n",
      "200:\tlearn: 0.7321937\ttotal: 253ms\tremaining: 376ms\n",
      "300:\tlearn: 0.7321937\ttotal: 376ms\tremaining: 249ms\n",
      "400:\tlearn: 0.7318772\ttotal: 499ms\tremaining: 123ms\n",
      "499:\tlearn: 0.7325103\ttotal: 620ms\tremaining: 0us\n",
      "0:\tlearn: 0.7322785\ttotal: 1.24ms\tremaining: 617ms\n",
      "100:\tlearn: 0.7322785\ttotal: 127ms\tremaining: 501ms\n",
      "200:\tlearn: 0.7322785\ttotal: 253ms\tremaining: 376ms\n",
      "300:\tlearn: 0.7322785\ttotal: 377ms\tremaining: 249ms\n",
      "400:\tlearn: 0.7332278\ttotal: 503ms\tremaining: 124ms\n",
      "499:\tlearn: 0.7338608\ttotal: 625ms\tremaining: 0us\n",
      "0:\tlearn: 0.7321937\ttotal: 1.25ms\tremaining: 626ms\n",
      "100:\tlearn: 0.7321937\ttotal: 127ms\tremaining: 503ms\n",
      "200:\tlearn: 0.7328268\ttotal: 258ms\tremaining: 383ms\n",
      "300:\tlearn: 0.7344096\ttotal: 385ms\tremaining: 255ms\n",
      "400:\tlearn: 0.7356758\ttotal: 514ms\tremaining: 127ms\n",
      "499:\tlearn: 0.7378917\ttotal: 642ms\tremaining: 0us\n",
      "0:\tlearn: 0.7321937\ttotal: 1.55ms\tremaining: 775ms\n",
      "100:\tlearn: 0.7321937\ttotal: 129ms\tremaining: 510ms\n",
      "200:\tlearn: 0.7325103\ttotal: 256ms\tremaining: 381ms\n",
      "300:\tlearn: 0.7315606\ttotal: 390ms\tremaining: 258ms\n",
      "400:\tlearn: 0.7328268\ttotal: 520ms\tremaining: 128ms\n",
      "499:\tlearn: 0.7353593\ttotal: 647ms\tremaining: 0us\n",
      "0:\tlearn: 0.7322785\ttotal: 1.48ms\tremaining: 739ms\n",
      "100:\tlearn: 0.7322785\ttotal: 131ms\tremaining: 519ms\n",
      "200:\tlearn: 0.7322785\ttotal: 262ms\tremaining: 389ms\n",
      "300:\tlearn: 0.7335443\ttotal: 390ms\tremaining: 258ms\n",
      "400:\tlearn: 0.7348101\ttotal: 519ms\tremaining: 128ms\n",
      "499:\tlearn: 0.7357595\ttotal: 646ms\tremaining: 0us\n",
      "0:\tlearn: 0.7321937\ttotal: 1.24ms\tremaining: 617ms\n",
      "100:\tlearn: 0.7321937\ttotal: 126ms\tremaining: 498ms\n",
      "200:\tlearn: 0.7321937\ttotal: 251ms\tremaining: 373ms\n",
      "300:\tlearn: 0.7337765\ttotal: 376ms\tremaining: 248ms\n",
      "400:\tlearn: 0.7353593\ttotal: 502ms\tremaining: 124ms\n",
      "499:\tlearn: 0.7366255\ttotal: 624ms\tremaining: 0us\n",
      "0:\tlearn: 0.7321937\ttotal: 1.61ms\tremaining: 804ms\n",
      "100:\tlearn: 0.7321937\ttotal: 127ms\tremaining: 500ms\n",
      "200:\tlearn: 0.7325103\ttotal: 251ms\tremaining: 373ms\n",
      "300:\tlearn: 0.7318772\ttotal: 373ms\tremaining: 247ms\n",
      "400:\tlearn: 0.7328268\ttotal: 499ms\tremaining: 123ms\n",
      "499:\tlearn: 0.7347262\ttotal: 620ms\tremaining: 0us\n",
      "0:\tlearn: 0.7322785\ttotal: 1.71ms\tremaining: 851ms\n",
      "100:\tlearn: 0.7322785\ttotal: 127ms\tremaining: 501ms\n",
      "200:\tlearn: 0.7322785\ttotal: 254ms\tremaining: 378ms\n",
      "300:\tlearn: 0.7335443\ttotal: 377ms\tremaining: 249ms\n",
      "400:\tlearn: 0.7351266\ttotal: 503ms\tremaining: 124ms\n",
      "499:\tlearn: 0.7357595\ttotal: 626ms\tremaining: 0us\n",
      "0:\tlearn: 0.7321937\ttotal: 1.46ms\tremaining: 730ms\n",
      "100:\tlearn: 0.7321937\ttotal: 129ms\tremaining: 510ms\n",
      "200:\tlearn: 0.7334600\ttotal: 258ms\tremaining: 384ms\n",
      "300:\tlearn: 0.7385248\ttotal: 389ms\tremaining: 257ms\n",
      "400:\tlearn: 0.7378917\ttotal: 519ms\tremaining: 128ms\n",
      "499:\tlearn: 0.7413739\ttotal: 647ms\tremaining: 0us\n",
      "0:\tlearn: 0.7321937\ttotal: 1.17ms\tremaining: 584ms\n",
      "100:\tlearn: 0.7321937\ttotal: 129ms\tremaining: 511ms\n",
      "200:\tlearn: 0.7334600\ttotal: 266ms\tremaining: 395ms\n",
      "300:\tlearn: 0.7328268\ttotal: 395ms\tremaining: 261ms\n",
      "400:\tlearn: 0.7353593\ttotal: 526ms\tremaining: 130ms\n",
      "499:\tlearn: 0.7385248\ttotal: 656ms\tremaining: 0us\n",
      "0:\tlearn: 0.7322785\ttotal: 1.65ms\tremaining: 821ms\n",
      "100:\tlearn: 0.7322785\ttotal: 129ms\tremaining: 511ms\n",
      "200:\tlearn: 0.7332278\ttotal: 264ms\tremaining: 393ms\n",
      "300:\tlearn: 0.7351266\ttotal: 392ms\tremaining: 259ms\n",
      "400:\tlearn: 0.7370253\ttotal: 522ms\tremaining: 129ms\n",
      "499:\tlearn: 0.7401899\ttotal: 650ms\tremaining: 0us\n",
      "0:\tlearn: 0.7321937\ttotal: 1.25ms\tremaining: 624ms\n",
      "100:\tlearn: 0.7321937\ttotal: 125ms\tremaining: 495ms\n",
      "200:\tlearn: 0.7334600\ttotal: 252ms\tremaining: 375ms\n",
      "300:\tlearn: 0.7353593\ttotal: 375ms\tremaining: 248ms\n",
      "400:\tlearn: 0.7378917\ttotal: 502ms\tremaining: 124ms\n",
      "499:\tlearn: 0.7391580\ttotal: 625ms\tremaining: 0us\n",
      "0:\tlearn: 0.7321937\ttotal: 1.14ms\tremaining: 568ms\n",
      "100:\tlearn: 0.7321937\ttotal: 126ms\tremaining: 499ms\n",
      "200:\tlearn: 0.7328268\ttotal: 279ms\tremaining: 415ms\n",
      "300:\tlearn: 0.7315606\ttotal: 403ms\tremaining: 266ms\n",
      "400:\tlearn: 0.7363090\ttotal: 528ms\tremaining: 130ms\n",
      "499:\tlearn: 0.7366255\ttotal: 646ms\tremaining: 0us\n",
      "0:\tlearn: 0.7322785\ttotal: 1.45ms\tremaining: 725ms\n",
      "100:\tlearn: 0.7322785\ttotal: 126ms\tremaining: 497ms\n",
      "200:\tlearn: 0.7335443\ttotal: 255ms\tremaining: 380ms\n",
      "300:\tlearn: 0.7351266\ttotal: 379ms\tremaining: 250ms\n",
      "400:\tlearn: 0.7370253\ttotal: 504ms\tremaining: 124ms\n",
      "499:\tlearn: 0.7389241\ttotal: 625ms\tremaining: 0us\n",
      "0:\tlearn: 0.7321937\ttotal: 1.81ms\tremaining: 903ms\n",
      "100:\tlearn: 0.7325103\ttotal: 128ms\tremaining: 506ms\n",
      "200:\tlearn: 0.7350427\ttotal: 256ms\tremaining: 381ms\n",
      "300:\tlearn: 0.7394745\ttotal: 385ms\tremaining: 254ms\n",
      "400:\tlearn: 0.7407407\ttotal: 514ms\tremaining: 127ms\n",
      "499:\tlearn: 0.7445394\ttotal: 640ms\tremaining: 0us\n",
      "0:\tlearn: 0.7321937\ttotal: 1.38ms\tremaining: 689ms\n",
      "100:\tlearn: 0.7325103\ttotal: 130ms\tremaining: 513ms\n",
      "200:\tlearn: 0.7331434\ttotal: 259ms\tremaining: 386ms\n",
      "300:\tlearn: 0.7353593\ttotal: 386ms\tremaining: 255ms\n",
      "400:\tlearn: 0.7382083\ttotal: 516ms\tremaining: 127ms\n",
      "499:\tlearn: 0.7423235\ttotal: 643ms\tremaining: 0us\n",
      "0:\tlearn: 0.7322785\ttotal: 1.27ms\tremaining: 635ms\n",
      "100:\tlearn: 0.7322785\ttotal: 130ms\tremaining: 515ms\n",
      "200:\tlearn: 0.7348101\ttotal: 260ms\tremaining: 387ms\n",
      "300:\tlearn: 0.7367089\ttotal: 391ms\tremaining: 258ms\n",
      "400:\tlearn: 0.7408228\ttotal: 520ms\tremaining: 128ms\n",
      "499:\tlearn: 0.7471519\ttotal: 648ms\tremaining: 0us\n",
      "0:\tlearn: 0.7321937\ttotal: 1.18ms\tremaining: 586ms\n",
      "100:\tlearn: 0.7325103\ttotal: 125ms\tremaining: 496ms\n",
      "200:\tlearn: 0.7350427\ttotal: 251ms\tremaining: 373ms\n",
      "300:\tlearn: 0.7382083\ttotal: 377ms\tremaining: 249ms\n",
      "400:\tlearn: 0.7397911\ttotal: 504ms\tremaining: 124ms\n",
      "499:\tlearn: 0.7445394\ttotal: 628ms\tremaining: 0us\n",
      "0:\tlearn: 0.7321937\ttotal: 1.22ms\tremaining: 610ms\n",
      "100:\tlearn: 0.7321937\ttotal: 122ms\tremaining: 481ms\n",
      "200:\tlearn: 0.7328268\ttotal: 245ms\tremaining: 365ms\n",
      "300:\tlearn: 0.7344096\ttotal: 370ms\tremaining: 244ms\n",
      "400:\tlearn: 0.7388414\ttotal: 493ms\tremaining: 122ms\n",
      "499:\tlearn: 0.7413739\ttotal: 617ms\tremaining: 0us\n",
      "0:\tlearn: 0.7322785\ttotal: 1.34ms\tremaining: 671ms\n",
      "100:\tlearn: 0.7322785\ttotal: 123ms\tremaining: 488ms\n",
      "200:\tlearn: 0.7341772\ttotal: 249ms\tremaining: 371ms\n",
      "300:\tlearn: 0.7354430\ttotal: 373ms\tremaining: 247ms\n",
      "400:\tlearn: 0.7382911\ttotal: 497ms\tremaining: 123ms\n",
      "499:\tlearn: 0.7439873\ttotal: 619ms\tremaining: 0us\n",
      "0:\tlearn: 0.7321937\ttotal: 1.22ms\tremaining: 608ms\n",
      "100:\tlearn: 0.7328268\ttotal: 130ms\tremaining: 513ms\n",
      "200:\tlearn: 0.7375752\ttotal: 259ms\tremaining: 385ms\n",
      "300:\tlearn: 0.7391580\ttotal: 388ms\tremaining: 256ms\n",
      "400:\tlearn: 0.7426401\ttotal: 517ms\tremaining: 128ms\n",
      "499:\tlearn: 0.7445394\ttotal: 648ms\tremaining: 0us\n",
      "0:\tlearn: 0.7321937\ttotal: 1.37ms\tremaining: 684ms\n",
      "100:\tlearn: 0.7328268\ttotal: 129ms\tremaining: 511ms\n",
      "200:\tlearn: 0.7347262\ttotal: 266ms\tremaining: 395ms\n",
      "300:\tlearn: 0.7372586\ttotal: 396ms\tremaining: 262ms\n",
      "400:\tlearn: 0.7416904\ttotal: 525ms\tremaining: 130ms\n",
      "499:\tlearn: 0.7502374\ttotal: 651ms\tremaining: 0us\n",
      "0:\tlearn: 0.7322785\ttotal: 1.56ms\tremaining: 781ms\n",
      "100:\tlearn: 0.7325949\ttotal: 130ms\tremaining: 512ms\n",
      "200:\tlearn: 0.7360759\ttotal: 259ms\tremaining: 385ms\n",
      "300:\tlearn: 0.7398734\ttotal: 386ms\tremaining: 255ms\n",
      "400:\tlearn: 0.7449367\ttotal: 516ms\tremaining: 127ms\n",
      "499:\tlearn: 0.7490506\ttotal: 645ms\tremaining: 0us\n",
      "0:\tlearn: 0.7321937\ttotal: 1.19ms\tremaining: 595ms\n",
      "100:\tlearn: 0.7328268\ttotal: 125ms\tremaining: 496ms\n",
      "200:\tlearn: 0.7366255\ttotal: 251ms\tremaining: 373ms\n",
      "300:\tlearn: 0.7404242\ttotal: 374ms\tremaining: 247ms\n",
      "400:\tlearn: 0.7435897\ttotal: 497ms\tremaining: 123ms\n",
      "499:\tlearn: 0.7458056\ttotal: 618ms\tremaining: 0us\n",
      "0:\tlearn: 0.7321937\ttotal: 1.4ms\tremaining: 701ms\n",
      "100:\tlearn: 0.7325103\ttotal: 125ms\tremaining: 494ms\n",
      "200:\tlearn: 0.7340931\ttotal: 252ms\tremaining: 375ms\n",
      "300:\tlearn: 0.7382083\ttotal: 377ms\tremaining: 249ms\n",
      "400:\tlearn: 0.7407407\ttotal: 503ms\tremaining: 124ms\n",
      "499:\tlearn: 0.7454891\ttotal: 626ms\tremaining: 0us\n",
      "0:\tlearn: 0.7322785\ttotal: 1.45ms\tremaining: 722ms\n",
      "100:\tlearn: 0.7325949\ttotal: 123ms\tremaining: 487ms\n",
      "200:\tlearn: 0.7348101\ttotal: 248ms\tremaining: 368ms\n",
      "300:\tlearn: 0.7408228\ttotal: 370ms\tremaining: 245ms\n",
      "400:\tlearn: 0.7439873\ttotal: 495ms\tremaining: 122ms\n",
      "499:\tlearn: 0.7493671\ttotal: 619ms\tremaining: 0us\n",
      "0:\tlearn: 0.7321937\ttotal: 24ms\tremaining: 12s\n",
      "100:\tlearn: 0.7321937\ttotal: 460ms\tremaining: 1.82s\n",
      "200:\tlearn: 0.7321937\ttotal: 892ms\tremaining: 1.33s\n",
      "300:\tlearn: 0.7337765\ttotal: 1.33s\tremaining: 882ms\n",
      "400:\tlearn: 0.7382083\ttotal: 1.76s\tremaining: 435ms\n",
      "499:\tlearn: 0.7445394\ttotal: 2.18s\tremaining: 0us\n",
      "0:\tlearn: 0.7325103\ttotal: 4.14ms\tremaining: 2.06s\n",
      "100:\tlearn: 0.7321937\ttotal: 435ms\tremaining: 1.72s\n",
      "200:\tlearn: 0.7321937\ttotal: 864ms\tremaining: 1.28s\n",
      "300:\tlearn: 0.7334600\ttotal: 1.29s\tremaining: 854ms\n",
      "400:\tlearn: 0.7366255\ttotal: 1.72s\tremaining: 424ms\n",
      "499:\tlearn: 0.7445394\ttotal: 2.14s\tremaining: 0us\n",
      "0:\tlearn: 0.7329114\ttotal: 3.87ms\tremaining: 1.93s\n",
      "100:\tlearn: 0.7322785\ttotal: 470ms\tremaining: 1.85s\n",
      "200:\tlearn: 0.7322785\ttotal: 929ms\tremaining: 1.38s\n",
      "300:\tlearn: 0.7325949\ttotal: 1.42s\tremaining: 941ms\n",
      "400:\tlearn: 0.7370253\ttotal: 1.96s\tremaining: 483ms\n",
      "499:\tlearn: 0.7417722\ttotal: 2.49s\tremaining: 0us\n",
      "0:\tlearn: 0.7321937\ttotal: 4.14ms\tremaining: 2.07s\n",
      "100:\tlearn: 0.7321937\ttotal: 466ms\tremaining: 1.84s\n",
      "200:\tlearn: 0.7321937\ttotal: 918ms\tremaining: 1.36s\n",
      "300:\tlearn: 0.7325103\ttotal: 1.45s\tremaining: 955ms\n",
      "400:\tlearn: 0.7356758\ttotal: 1.9s\tremaining: 469ms\n",
      "499:\tlearn: 0.7401076\ttotal: 2.33s\tremaining: 0us\n",
      "0:\tlearn: 0.7325103\ttotal: 3.99ms\tremaining: 1.99s\n",
      "100:\tlearn: 0.7321937\ttotal: 460ms\tremaining: 1.82s\n",
      "200:\tlearn: 0.7321937\ttotal: 892ms\tremaining: 1.33s\n",
      "300:\tlearn: 0.7321937\ttotal: 1.31s\tremaining: 870ms\n",
      "400:\tlearn: 0.7353593\ttotal: 1.76s\tremaining: 434ms\n",
      "499:\tlearn: 0.7410573\ttotal: 2.23s\tremaining: 0us\n",
      "0:\tlearn: 0.7329114\ttotal: 4.42ms\tremaining: 2.2s\n",
      "100:\tlearn: 0.7322785\ttotal: 467ms\tremaining: 1.84s\n",
      "200:\tlearn: 0.7322785\ttotal: 923ms\tremaining: 1.37s\n",
      "300:\tlearn: 0.7322785\ttotal: 1.35s\tremaining: 891ms\n",
      "400:\tlearn: 0.7348101\ttotal: 1.78s\tremaining: 439ms\n",
      "499:\tlearn: 0.7389241\ttotal: 2.21s\tremaining: 0us\n",
      "0:\tlearn: 0.7321937\ttotal: 3.77ms\tremaining: 1.88s\n",
      "100:\tlearn: 0.7321937\ttotal: 457ms\tremaining: 1.8s\n",
      "200:\tlearn: 0.7397911\ttotal: 925ms\tremaining: 1.38s\n",
      "300:\tlearn: 0.7505540\ttotal: 1.38s\tremaining: 914ms\n",
      "400:\tlearn: 0.7638493\ttotal: 1.82s\tremaining: 451ms\n",
      "499:\tlearn: 0.7774612\ttotal: 2.28s\tremaining: 0us\n",
      "0:\tlearn: 0.7325103\ttotal: 4.25ms\tremaining: 2.12s\n",
      "100:\tlearn: 0.7321937\ttotal: 438ms\tremaining: 1.73s\n",
      "200:\tlearn: 0.7391580\ttotal: 865ms\tremaining: 1.29s\n",
      "300:\tlearn: 0.7546692\ttotal: 1.29s\tremaining: 851ms\n",
      "400:\tlearn: 0.7692308\ttotal: 1.71s\tremaining: 423ms\n",
      "499:\tlearn: 0.7844255\ttotal: 2.14s\tremaining: 0us\n",
      "0:\tlearn: 0.7329114\ttotal: 3.91ms\tremaining: 1.95s\n",
      "100:\tlearn: 0.7322785\ttotal: 441ms\tremaining: 1.74s\n",
      "200:\tlearn: 0.7389241\ttotal: 888ms\tremaining: 1.32s\n",
      "300:\tlearn: 0.7493671\ttotal: 1.32s\tremaining: 876ms\n",
      "400:\tlearn: 0.7639241\ttotal: 1.76s\tremaining: 434ms\n",
      "499:\tlearn: 0.7791139\ttotal: 2.18s\tremaining: 0us\n",
      "0:\tlearn: 0.7321937\ttotal: 4ms\tremaining: 2s\n",
      "100:\tlearn: 0.7321937\ttotal: 430ms\tremaining: 1.7s\n",
      "200:\tlearn: 0.7382083\ttotal: 854ms\tremaining: 1.27s\n",
      "300:\tlearn: 0.7470719\ttotal: 1.27s\tremaining: 843ms\n",
      "400:\tlearn: 0.7562520\ttotal: 1.7s\tremaining: 420ms\n",
      "499:\tlearn: 0.7676480\ttotal: 2.12s\tremaining: 0us\n",
      "0:\tlearn: 0.7325103\ttotal: 3.65ms\tremaining: 1.82s\n",
      "100:\tlearn: 0.7321937\ttotal: 431ms\tremaining: 1.7s\n",
      "200:\tlearn: 0.7363090\ttotal: 854ms\tremaining: 1.27s\n",
      "300:\tlearn: 0.7492877\ttotal: 1.28s\tremaining: 844ms\n",
      "400:\tlearn: 0.7644824\ttotal: 1.7s\tremaining: 420ms\n",
      "499:\tlearn: 0.7730294\ttotal: 2.12s\tremaining: 0us\n",
      "0:\tlearn: 0.7329114\ttotal: 4.67ms\tremaining: 2.33s\n",
      "100:\tlearn: 0.7322785\ttotal: 433ms\tremaining: 1.71s\n",
      "200:\tlearn: 0.7373418\ttotal: 889ms\tremaining: 1.32s\n",
      "300:\tlearn: 0.7443038\ttotal: 1.31s\tremaining: 868ms\n",
      "400:\tlearn: 0.7575949\ttotal: 1.74s\tremaining: 431ms\n",
      "499:\tlearn: 0.7658228\ttotal: 2.19s\tremaining: 0us\n",
      "0:\tlearn: 0.7321937\ttotal: 4.47ms\tremaining: 2.23s\n",
      "100:\tlearn: 0.7366255\ttotal: 441ms\tremaining: 1.74s\n",
      "200:\tlearn: 0.7537195\ttotal: 861ms\tremaining: 1.28s\n",
      "300:\tlearn: 0.7711301\ttotal: 1.29s\tremaining: 853ms\n",
      "400:\tlearn: 0.7970877\ttotal: 1.72s\tremaining: 424ms\n",
      "499:\tlearn: 0.8224122\ttotal: 2.14s\tremaining: 0us\n",
      "0:\tlearn: 0.7325103\ttotal: 4.12ms\tremaining: 2.05s\n",
      "100:\tlearn: 0.7334600\ttotal: 436ms\tremaining: 1.72s\n",
      "200:\tlearn: 0.7511871\ttotal: 862ms\tremaining: 1.28s\n",
      "300:\tlearn: 0.7812599\ttotal: 1.29s\tremaining: 852ms\n",
      "400:\tlearn: 0.8027857\ttotal: 1.71s\tremaining: 423ms\n",
      "499:\tlearn: 0.8246280\ttotal: 2.13s\tremaining: 0us\n",
      "0:\tlearn: 0.7329114\ttotal: 4.09ms\tremaining: 2.04s\n",
      "100:\tlearn: 0.7338608\ttotal: 439ms\tremaining: 1.73s\n",
      "200:\tlearn: 0.7518987\ttotal: 904ms\tremaining: 1.34s\n",
      "300:\tlearn: 0.7699367\ttotal: 1.33s\tremaining: 880ms\n",
      "400:\tlearn: 0.7968354\ttotal: 1.76s\tremaining: 434ms\n",
      "499:\tlearn: 0.8164557\ttotal: 2.18s\tremaining: 0us\n",
      "0:\tlearn: 0.7321937\ttotal: 3.78ms\tremaining: 1.89s\n",
      "100:\tlearn: 0.7353593\ttotal: 429ms\tremaining: 1.69s\n",
      "200:\tlearn: 0.7470719\ttotal: 851ms\tremaining: 1.26s\n",
      "300:\tlearn: 0.7641659\ttotal: 1.27s\tremaining: 843ms\n",
      "400:\tlearn: 0.7806268\ttotal: 1.73s\tremaining: 427ms\n",
      "499:\tlearn: 0.8027857\ttotal: 2.17s\tremaining: 0us\n",
      "0:\tlearn: 0.7325103\ttotal: 4.74ms\tremaining: 2.37s\n",
      "100:\tlearn: 0.7331434\ttotal: 456ms\tremaining: 1.8s\n",
      "200:\tlearn: 0.7530864\ttotal: 898ms\tremaining: 1.33s\n",
      "300:\tlearn: 0.7727129\ttotal: 1.35s\tremaining: 894ms\n",
      "400:\tlearn: 0.7856917\ttotal: 1.81s\tremaining: 446ms\n",
      "499:\tlearn: 0.8078506\ttotal: 2.23s\tremaining: 0us\n",
      "0:\tlearn: 0.7329114\ttotal: 3.79ms\tremaining: 1.89s\n",
      "100:\tlearn: 0.7329114\ttotal: 453ms\tremaining: 1.79s\n",
      "200:\tlearn: 0.7474684\ttotal: 942ms\tremaining: 1.4s\n",
      "300:\tlearn: 0.7639241\ttotal: 1.38s\tremaining: 912ms\n",
      "400:\tlearn: 0.7803797\ttotal: 1.84s\tremaining: 454ms\n",
      "499:\tlearn: 0.7968354\ttotal: 2.27s\tremaining: 0us\n",
      "0:\tlearn: 0.7321937\ttotal: 4.3ms\tremaining: 2.15s\n",
      "100:\tlearn: 0.7439063\ttotal: 459ms\tremaining: 1.81s\n",
      "200:\tlearn: 0.7689142\ttotal: 911ms\tremaining: 1.35s\n",
      "300:\tlearn: 0.7996201\ttotal: 1.37s\tremaining: 905ms\n",
      "400:\tlearn: 0.8268439\ttotal: 1.82s\tremaining: 450ms\n",
      "499:\tlearn: 0.8486863\ttotal: 2.29s\tremaining: 0us\n",
      "0:\tlearn: 0.7325103\ttotal: 3.9ms\tremaining: 1.95s\n",
      "100:\tlearn: 0.7426401\ttotal: 447ms\tremaining: 1.77s\n",
      "200:\tlearn: 0.7708135\ttotal: 892ms\tremaining: 1.33s\n",
      "300:\tlearn: 0.8043685\ttotal: 1.33s\tremaining: 879ms\n",
      "400:\tlearn: 0.8344413\ttotal: 1.78s\tremaining: 440ms\n",
      "499:\tlearn: 0.8629313\ttotal: 2.23s\tremaining: 0us\n",
      "0:\tlearn: 0.7329114\ttotal: 4.43ms\tremaining: 2.21s\n",
      "100:\tlearn: 0.7405063\ttotal: 476ms\tremaining: 1.88s\n",
      "200:\tlearn: 0.7629747\ttotal: 974ms\tremaining: 1.45s\n",
      "300:\tlearn: 0.8000000\ttotal: 1.43s\tremaining: 947ms\n",
      "400:\tlearn: 0.8243671\ttotal: 1.9s\tremaining: 469ms\n",
      "499:\tlearn: 0.8487342\ttotal: 2.34s\tremaining: 0us\n",
      "0:\tlearn: 0.7321937\ttotal: 3.89ms\tremaining: 1.94s\n",
      "100:\tlearn: 0.7385248\ttotal: 443ms\tremaining: 1.75s\n",
      "200:\tlearn: 0.7562520\ttotal: 901ms\tremaining: 1.34s\n",
      "300:\tlearn: 0.7818930\ttotal: 1.36s\tremaining: 899ms\n",
      "400:\tlearn: 0.8072175\ttotal: 1.8s\tremaining: 444ms\n",
      "499:\tlearn: 0.8328585\ttotal: 2.5s\tremaining: 0us\n",
      "0:\tlearn: 0.7325103\ttotal: 4.12ms\tremaining: 2.06s\n",
      "100:\tlearn: 0.7378917\ttotal: 459ms\tremaining: 1.81s\n",
      "200:\tlearn: 0.7657487\ttotal: 911ms\tremaining: 1.35s\n",
      "300:\tlearn: 0.7923393\ttotal: 1.37s\tremaining: 904ms\n",
      "400:\tlearn: 0.8141817\ttotal: 1.85s\tremaining: 456ms\n",
      "499:\tlearn: 0.8420386\ttotal: 2.32s\tremaining: 0us\n",
      "0:\tlearn: 0.7329114\ttotal: 4.34ms\tremaining: 2.17s\n",
      "100:\tlearn: 0.7373418\ttotal: 454ms\tremaining: 1.79s\n",
      "200:\tlearn: 0.7607595\ttotal: 993ms\tremaining: 1.48s\n",
      "300:\tlearn: 0.7835443\ttotal: 1.52s\tremaining: 1s\n",
      "400:\tlearn: 0.8034810\ttotal: 2.02s\tremaining: 499ms\n",
      "499:\tlearn: 0.8268987\ttotal: 2.55s\tremaining: 0us\n",
      "0:\tlearn: 0.7321937\ttotal: 5.61ms\tremaining: 2.8s\n",
      "100:\tlearn: 0.7467553\ttotal: 547ms\tremaining: 2.16s\n",
      "200:\tlearn: 0.7815764\ttotal: 1.06s\tremaining: 1.57s\n",
      "300:\tlearn: 0.8246280\ttotal: 1.57s\tremaining: 1.04s\n",
      "400:\tlearn: 0.8581830\ttotal: 2.12s\tremaining: 523ms\n",
      "499:\tlearn: 0.8873061\ttotal: 2.65s\tremaining: 0us\n",
      "0:\tlearn: 0.7325103\ttotal: 5.24ms\tremaining: 2.62s\n",
      "100:\tlearn: 0.7502374\ttotal: 512ms\tremaining: 2.02s\n",
      "200:\tlearn: 0.7923393\ttotal: 1.04s\tremaining: 1.54s\n",
      "300:\tlearn: 0.8271605\ttotal: 1.51s\tremaining: 999ms\n",
      "400:\tlearn: 0.8578664\ttotal: 2.02s\tremaining: 499ms\n",
      "499:\tlearn: 0.8825578\ttotal: 2.48s\tremaining: 0us\n",
      "0:\tlearn: 0.7329114\ttotal: 5.18ms\tremaining: 2.58s\n",
      "100:\tlearn: 0.7443038\ttotal: 498ms\tremaining: 1.97s\n",
      "200:\tlearn: 0.7813291\ttotal: 963ms\tremaining: 1.43s\n",
      "300:\tlearn: 0.8155063\ttotal: 1.43s\tremaining: 946ms\n",
      "400:\tlearn: 0.8541139\ttotal: 2.31s\tremaining: 571ms\n",
      "499:\tlearn: 0.8844937\ttotal: 2.93s\tremaining: 0us\n",
      "0:\tlearn: 0.7321937\ttotal: 3.67ms\tremaining: 1.83s\n",
      "100:\tlearn: 0.7464387\ttotal: 467ms\tremaining: 1.84s\n",
      "200:\tlearn: 0.7761950\ttotal: 975ms\tremaining: 1.45s\n",
      "300:\tlearn: 0.8012029\ttotal: 1.46s\tremaining: 962ms\n",
      "400:\tlearn: 0.8312757\ttotal: 2.01s\tremaining: 495ms\n",
      "499:\tlearn: 0.8578664\ttotal: 2.49s\tremaining: 0us\n",
      "0:\tlearn: 0.7325103\ttotal: 4.15ms\tremaining: 2.07s\n",
      "100:\tlearn: 0.7426401\ttotal: 509ms\tremaining: 2.01s\n",
      "200:\tlearn: 0.7780943\ttotal: 970ms\tremaining: 1.44s\n",
      "300:\tlearn: 0.8106996\ttotal: 1.45s\tremaining: 956ms\n",
      "400:\tlearn: 0.8401393\ttotal: 1.95s\tremaining: 481ms\n",
      "499:\tlearn: 0.8635644\ttotal: 2.4s\tremaining: 0us\n",
      "0:\tlearn: 0.7329114\ttotal: 4.72ms\tremaining: 2.36s\n",
      "100:\tlearn: 0.7408228\ttotal: 465ms\tremaining: 1.84s\n",
      "200:\tlearn: 0.7677215\ttotal: 921ms\tremaining: 1.37s\n",
      "300:\tlearn: 0.8028481\ttotal: 1.35s\tremaining: 893ms\n",
      "400:\tlearn: 0.8313291\ttotal: 1.8s\tremaining: 444ms\n",
      "499:\tlearn: 0.8582278\ttotal: 2.24s\tremaining: 0us\n",
      "0:\tlearn: 0.7321937\ttotal: 4.32ms\tremaining: 2.16s\n",
      "100:\tlearn: 0.7597341\ttotal: 456ms\tremaining: 1.8s\n",
      "200:\tlearn: 0.8012029\ttotal: 890ms\tremaining: 1.32s\n",
      "300:\tlearn: 0.8429883\ttotal: 1.34s\tremaining: 884ms\n",
      "400:\tlearn: 0.8828743\ttotal: 1.77s\tremaining: 438ms\n",
      "499:\tlearn: 0.9097816\ttotal: 2.2s\tremaining: 0us\n",
      "0:\tlearn: 0.7325103\ttotal: 4.15ms\tremaining: 2.07s\n",
      "100:\tlearn: 0.7581513\ttotal: 475ms\tremaining: 1.88s\n",
      "200:\tlearn: 0.8069009\ttotal: 909ms\tremaining: 1.35s\n",
      "300:\tlearn: 0.8477366\ttotal: 1.36s\tremaining: 902ms\n",
      "400:\tlearn: 0.8841406\ttotal: 1.82s\tremaining: 449ms\n",
      "499:\tlearn: 0.9129471\ttotal: 2.26s\tremaining: 0us\n",
      "0:\tlearn: 0.7329114\ttotal: 5.76ms\tremaining: 2.88s\n",
      "100:\tlearn: 0.7528481\ttotal: 510ms\tremaining: 2.02s\n",
      "200:\tlearn: 0.7936709\ttotal: 967ms\tremaining: 1.44s\n",
      "300:\tlearn: 0.8351266\ttotal: 1.42s\tremaining: 940ms\n",
      "400:\tlearn: 0.8693038\ttotal: 1.86s\tremaining: 459ms\n",
      "499:\tlearn: 0.9047468\ttotal: 2.3s\tremaining: 0us\n",
      "0:\tlearn: 0.7321937\ttotal: 4.27ms\tremaining: 2.13s\n",
      "100:\tlearn: 0.7511871\ttotal: 447ms\tremaining: 1.77s\n",
      "200:\tlearn: 0.7869579\ttotal: 900ms\tremaining: 1.34s\n",
      "300:\tlearn: 0.8255777\ttotal: 1.34s\tremaining: 886ms\n",
      "400:\tlearn: 0.8645141\ttotal: 1.77s\tremaining: 437ms\n",
      "499:\tlearn: 0.8863564\ttotal: 2.26s\tremaining: 0us\n",
      "0:\tlearn: 0.7325103\ttotal: 3.65ms\tremaining: 1.82s\n",
      "100:\tlearn: 0.7511871\ttotal: 537ms\tremaining: 2.12s\n",
      "200:\tlearn: 0.7932890\ttotal: 1.01s\tremaining: 1.5s\n",
      "300:\tlearn: 0.8239949\ttotal: 1.46s\tremaining: 969ms\n",
      "400:\tlearn: 0.8578664\ttotal: 2.17s\tremaining: 536ms\n",
      "499:\tlearn: 0.8876227\ttotal: 2.67s\tremaining: 0us\n",
      "0:\tlearn: 0.7329114\ttotal: 4.14ms\tremaining: 2.07s\n",
      "100:\tlearn: 0.7465190\ttotal: 593ms\tremaining: 2.34s\n",
      "200:\tlearn: 0.7810127\ttotal: 1.07s\tremaining: 1.59s\n",
      "300:\tlearn: 0.8199367\ttotal: 1.57s\tremaining: 1.04s\n",
      "400:\tlearn: 0.8477848\ttotal: 2.01s\tremaining: 497ms\n",
      "499:\tlearn: 0.8768987\ttotal: 2.46s\tremaining: 0us\n",
      "0:\tlearn: 0.7325103\ttotal: 17.5ms\tremaining: 8.72s\n",
      "100:\tlearn: 0.7321937\ttotal: 1.6s\tremaining: 6.31s\n",
      "200:\tlearn: 0.7372586\ttotal: 3.59s\tremaining: 5.34s\n",
      "300:\tlearn: 0.7470719\ttotal: 5.11s\tremaining: 3.38s\n",
      "400:\tlearn: 0.7704970\ttotal: 6.65s\tremaining: 1.64s\n",
      "499:\tlearn: 0.7967711\ttotal: 8.2s\tremaining: 0us\n",
      "0:\tlearn: 0.7331434\ttotal: 13.5ms\tremaining: 6.76s\n",
      "100:\tlearn: 0.7321937\ttotal: 1.67s\tremaining: 6.6s\n",
      "200:\tlearn: 0.7347262\ttotal: 3.19s\tremaining: 4.74s\n",
      "300:\tlearn: 0.7527699\ttotal: 4.65s\tremaining: 3.08s\n",
      "400:\tlearn: 0.7704970\ttotal: 6.11s\tremaining: 1.51s\n",
      "499:\tlearn: 0.7913897\ttotal: 7.64s\tremaining: 0us\n",
      "0:\tlearn: 0.7329114\ttotal: 13.4ms\tremaining: 6.66s\n",
      "100:\tlearn: 0.7322785\ttotal: 1.49s\tremaining: 5.9s\n",
      "200:\tlearn: 0.7332278\ttotal: 3.1s\tremaining: 4.61s\n",
      "300:\tlearn: 0.7500000\ttotal: 4.66s\tremaining: 3.08s\n",
      "400:\tlearn: 0.7680380\ttotal: 6.44s\tremaining: 1.59s\n",
      "499:\tlearn: 0.7879747\ttotal: 8.03s\tremaining: 0us\n",
      "0:\tlearn: 0.7325103\ttotal: 12.6ms\tremaining: 6.28s\n",
      "100:\tlearn: 0.7321937\ttotal: 1.58s\tremaining: 6.23s\n",
      "200:\tlearn: 0.7334600\ttotal: 3.18s\tremaining: 4.73s\n",
      "300:\tlearn: 0.7407407\ttotal: 4.79s\tremaining: 3.17s\n",
      "400:\tlearn: 0.7543526\ttotal: 6.47s\tremaining: 1.6s\n",
      "499:\tlearn: 0.7739791\ttotal: 8.12s\tremaining: 0us\n",
      "0:\tlearn: 0.7331434\ttotal: 14.4ms\tremaining: 7.17s\n",
      "100:\tlearn: 0.7321937\ttotal: 1.6s\tremaining: 6.32s\n",
      "200:\tlearn: 0.7331434\ttotal: 3.06s\tremaining: 4.55s\n",
      "300:\tlearn: 0.7442229\ttotal: 4.54s\tremaining: 3s\n",
      "400:\tlearn: 0.7606838\ttotal: 6.02s\tremaining: 1.49s\n",
      "499:\tlearn: 0.7739791\ttotal: 7.5s\tremaining: 0us\n",
      "0:\tlearn: 0.7329114\ttotal: 13.5ms\tremaining: 6.76s\n",
      "100:\tlearn: 0.7322785\ttotal: 1.52s\tremaining: 5.99s\n",
      "200:\tlearn: 0.7322785\ttotal: 3.01s\tremaining: 4.48s\n",
      "300:\tlearn: 0.7411392\ttotal: 4.46s\tremaining: 2.95s\n",
      "400:\tlearn: 0.7569620\ttotal: 6.08s\tremaining: 1.5s\n",
      "499:\tlearn: 0.7724684\ttotal: 7.61s\tremaining: 0us\n",
      "0:\tlearn: 0.7325103\ttotal: 12.8ms\tremaining: 6.37s\n",
      "100:\tlearn: 0.7359924\ttotal: 1.46s\tremaining: 5.79s\n",
      "200:\tlearn: 0.7701804\ttotal: 2.98s\tremaining: 4.43s\n",
      "300:\tlearn: 0.8163976\ttotal: 4.56s\tremaining: 3.02s\n",
      "400:\tlearn: 0.8676796\ttotal: 6.04s\tremaining: 1.49s\n",
      "499:\tlearn: 0.9091485\ttotal: 7.46s\tremaining: 0us\n",
      "0:\tlearn: 0.7331434\ttotal: 14.1ms\tremaining: 7.05s\n",
      "100:\tlearn: 0.7366255\ttotal: 1.53s\tremaining: 6.06s\n",
      "200:\tlearn: 0.7749288\ttotal: 3s\tremaining: 4.46s\n",
      "300:\tlearn: 0.8243115\ttotal: 4.42s\tremaining: 2.92s\n",
      "400:\tlearn: 0.8673631\ttotal: 5.85s\tremaining: 1.45s\n",
      "499:\tlearn: 0.9123140\ttotal: 7.29s\tremaining: 0us\n",
      "0:\tlearn: 0.7329114\ttotal: 14.1ms\tremaining: 7.06s\n",
      "100:\tlearn: 0.7332278\ttotal: 1.46s\tremaining: 5.75s\n",
      "200:\tlearn: 0.7715190\ttotal: 2.89s\tremaining: 4.3s\n",
      "300:\tlearn: 0.8132911\ttotal: 4.34s\tremaining: 2.87s\n",
      "400:\tlearn: 0.8686709\ttotal: 5.8s\tremaining: 1.43s\n",
      "499:\tlearn: 0.9129747\ttotal: 7.24s\tremaining: 0us\n",
      "0:\tlearn: 0.7325103\ttotal: 12.3ms\tremaining: 6.13s\n",
      "100:\tlearn: 0.7337765\ttotal: 1.45s\tremaining: 5.73s\n",
      "200:\tlearn: 0.7587844\ttotal: 2.86s\tremaining: 4.25s\n",
      "300:\tlearn: 0.7929725\ttotal: 4.27s\tremaining: 2.82s\n",
      "400:\tlearn: 0.8277936\ttotal: 5.71s\tremaining: 1.41s\n",
      "499:\tlearn: 0.8667300\ttotal: 7.11s\tremaining: 0us\n",
      "0:\tlearn: 0.7331434\ttotal: 13ms\tremaining: 6.5s\n",
      "100:\tlearn: 0.7331434\ttotal: 1.45s\tremaining: 5.72s\n",
      "200:\tlearn: 0.7610003\ttotal: 2.85s\tremaining: 4.25s\n",
      "300:\tlearn: 0.7974042\ttotal: 4.27s\tremaining: 2.82s\n",
      "400:\tlearn: 0.8385565\ttotal: 5.67s\tremaining: 1.4s\n",
      "499:\tlearn: 0.8746439\ttotal: 7.07s\tremaining: 0us\n",
      "0:\tlearn: 0.7329114\ttotal: 13ms\tremaining: 6.49s\n",
      "100:\tlearn: 0.7322785\ttotal: 1.47s\tremaining: 5.82s\n",
      "200:\tlearn: 0.7604430\ttotal: 2.88s\tremaining: 4.29s\n",
      "300:\tlearn: 0.7955696\ttotal: 4.37s\tremaining: 2.89s\n",
      "400:\tlearn: 0.8253165\ttotal: 5.82s\tremaining: 1.44s\n",
      "499:\tlearn: 0.8642405\ttotal: 7.31s\tremaining: 0us\n",
      "0:\tlearn: 0.7325103\ttotal: 12.6ms\tremaining: 6.26s\n",
      "100:\tlearn: 0.7543526\ttotal: 1.45s\tremaining: 5.72s\n",
      "200:\tlearn: 0.8233618\ttotal: 2.88s\tremaining: 4.28s\n",
      "300:\tlearn: 0.8866730\ttotal: 4.29s\tremaining: 2.84s\n",
      "400:\tlearn: 0.9351060\ttotal: 5.81s\tremaining: 1.43s\n",
      "499:\tlearn: 0.9664451\ttotal: 7.26s\tremaining: 0us\n",
      "0:\tlearn: 0.7331434\ttotal: 12.5ms\tremaining: 6.26s\n",
      "100:\tlearn: 0.7591010\ttotal: 1.47s\tremaining: 5.8s\n",
      "200:\tlearn: 0.8192466\ttotal: 2.94s\tremaining: 4.37s\n",
      "300:\tlearn: 0.8892054\ttotal: 4.4s\tremaining: 2.91s\n",
      "400:\tlearn: 0.9401709\ttotal: 5.93s\tremaining: 1.47s\n",
      "499:\tlearn: 0.9718265\ttotal: 7.38s\tremaining: 0us\n",
      "0:\tlearn: 0.7329114\ttotal: 13.9ms\tremaining: 6.94s\n",
      "100:\tlearn: 0.7569620\ttotal: 1.52s\tremaining: 6.03s\n",
      "200:\tlearn: 0.8155063\ttotal: 3.03s\tremaining: 4.51s\n",
      "300:\tlearn: 0.8816456\ttotal: 4.56s\tremaining: 3.01s\n",
      "400:\tlearn: 0.9338608\ttotal: 6.08s\tremaining: 1.5s\n",
      "499:\tlearn: 0.9686709\ttotal: 7.57s\tremaining: 0us\n",
      "0:\tlearn: 0.7325103\ttotal: 14.5ms\tremaining: 7.26s\n",
      "100:\tlearn: 0.7486546\ttotal: 1.57s\tremaining: 6.22s\n",
      "200:\tlearn: 0.8018360\ttotal: 3s\tremaining: 4.46s\n",
      "300:\tlearn: 0.8543843\ttotal: 4.46s\tremaining: 2.95s\n",
      "400:\tlearn: 0.9012346\ttotal: 5.84s\tremaining: 1.44s\n",
      "499:\tlearn: 0.9427034\ttotal: 7.19s\tremaining: 0us\n",
      "0:\tlearn: 0.7331434\ttotal: 11.9ms\tremaining: 5.92s\n",
      "100:\tlearn: 0.7467553\ttotal: 1.46s\tremaining: 5.76s\n",
      "200:\tlearn: 0.7964546\ttotal: 2.95s\tremaining: 4.39s\n",
      "300:\tlearn: 0.8480532\ttotal: 4.34s\tremaining: 2.87s\n",
      "400:\tlearn: 0.9047167\ttotal: 5.73s\tremaining: 1.42s\n",
      "499:\tlearn: 0.9442862\ttotal: 7.1s\tremaining: 0us\n",
      "0:\tlearn: 0.7329114\ttotal: 12.6ms\tremaining: 6.3s\n",
      "100:\tlearn: 0.7455696\ttotal: 1.42s\tremaining: 5.6s\n",
      "200:\tlearn: 0.7930380\ttotal: 2.82s\tremaining: 4.19s\n",
      "300:\tlearn: 0.8512658\ttotal: 4.24s\tremaining: 2.8s\n",
      "400:\tlearn: 0.9053797\ttotal: 5.69s\tremaining: 1.41s\n",
      "499:\tlearn: 0.9408228\ttotal: 7.2s\tremaining: 0us\n",
      "0:\tlearn: 0.7325103\ttotal: 12.8ms\tremaining: 6.38s\n",
      "100:\tlearn: 0.7784109\ttotal: 1.45s\tremaining: 5.74s\n",
      "200:\tlearn: 0.8664134\ttotal: 2.89s\tremaining: 4.3s\n",
      "300:\tlearn: 0.9297246\ttotal: 4.3s\tremaining: 2.84s\n",
      "400:\tlearn: 0.9724596\ttotal: 5.74s\tremaining: 1.42s\n",
      "499:\tlearn: 0.9876543\ttotal: 7.12s\tremaining: 0us\n",
      "0:\tlearn: 0.7331434\ttotal: 11.9ms\tremaining: 5.94s\n",
      "100:\tlearn: 0.7790440\ttotal: 1.4s\tremaining: 5.54s\n",
      "200:\tlearn: 0.8714783\ttotal: 2.86s\tremaining: 4.26s\n",
      "300:\tlearn: 0.9392213\ttotal: 4.37s\tremaining: 2.89s\n",
      "400:\tlearn: 0.9762583\ttotal: 5.83s\tremaining: 1.44s\n",
      "499:\tlearn: 0.9920861\ttotal: 7.24s\tremaining: 0us\n",
      "0:\tlearn: 0.7329114\ttotal: 13.5ms\tremaining: 6.75s\n",
      "100:\tlearn: 0.7762658\ttotal: 1.47s\tremaining: 5.81s\n",
      "200:\tlearn: 0.8667722\ttotal: 2.91s\tremaining: 4.33s\n",
      "300:\tlearn: 0.9398734\ttotal: 4.36s\tremaining: 2.88s\n",
      "400:\tlearn: 0.9737342\ttotal: 5.82s\tremaining: 1.44s\n",
      "499:\tlearn: 0.9917722\ttotal: 7.31s\tremaining: 0us\n",
      "0:\tlearn: 0.7325103\ttotal: 12.2ms\tremaining: 6.06s\n",
      "100:\tlearn: 0.7625831\ttotal: 1.4s\tremaining: 5.54s\n",
      "200:\tlearn: 0.8353909\ttotal: 2.79s\tremaining: 4.15s\n",
      "300:\tlearn: 0.8949035\ttotal: 4.2s\tremaining: 2.77s\n",
      "400:\tlearn: 0.9404875\ttotal: 5.62s\tremaining: 1.39s\n",
      "499:\tlearn: 0.9705603\ttotal: 7s\tremaining: 0us\n",
      "0:\tlearn: 0.7331434\ttotal: 12.2ms\tremaining: 6.09s\n",
      "100:\tlearn: 0.7676480\ttotal: 1.46s\tremaining: 5.75s\n",
      "200:\tlearn: 0.8344413\ttotal: 2.88s\tremaining: 4.29s\n",
      "300:\tlearn: 0.9025008\ttotal: 4.29s\tremaining: 2.84s\n",
      "400:\tlearn: 0.9461855\ttotal: 5.71s\tremaining: 1.41s\n",
      "499:\tlearn: 0.9740424\ttotal: 7.09s\tremaining: 0us\n",
      "0:\tlearn: 0.7329114\ttotal: 12.6ms\tremaining: 6.27s\n",
      "100:\tlearn: 0.7620253\ttotal: 1.46s\tremaining: 5.76s\n",
      "200:\tlearn: 0.8310127\ttotal: 2.87s\tremaining: 4.27s\n",
      "300:\tlearn: 0.8981013\ttotal: 4.29s\tremaining: 2.83s\n",
      "400:\tlearn: 0.9493671\ttotal: 5.73s\tremaining: 1.41s\n",
      "499:\tlearn: 0.9715190\ttotal: 7.16s\tremaining: 0us\n",
      "0:\tlearn: 0.7325103\ttotal: 12.6ms\tremaining: 6.28s\n",
      "100:\tlearn: 0.8062678\ttotal: 1.48s\tremaining: 5.86s\n",
      "200:\tlearn: 0.9034505\ttotal: 2.93s\tremaining: 4.36s\n",
      "300:\tlearn: 0.9689775\ttotal: 4.4s\tremaining: 2.91s\n",
      "400:\tlearn: 0.9908199\ttotal: 5.84s\tremaining: 1.44s\n",
      "499:\tlearn: 0.9987338\ttotal: 7.29s\tremaining: 0us\n",
      "0:\tlearn: 0.7331434\ttotal: 12.9ms\tremaining: 6.46s\n",
      "100:\tlearn: 0.8027857\ttotal: 1.47s\tremaining: 5.8s\n",
      "200:\tlearn: 0.9015511\ttotal: 2.9s\tremaining: 4.32s\n",
      "300:\tlearn: 0.9718265\ttotal: 4.35s\tremaining: 2.88s\n",
      "400:\tlearn: 0.9892371\ttotal: 5.77s\tremaining: 1.43s\n",
      "499:\tlearn: 0.9981007\ttotal: 7.24s\tremaining: 0us\n",
      "0:\tlearn: 0.7329114\ttotal: 13.1ms\tremaining: 6.54s\n",
      "100:\tlearn: 0.8006329\ttotal: 1.54s\tremaining: 6.09s\n",
      "200:\tlearn: 0.9028481\ttotal: 3.05s\tremaining: 4.54s\n",
      "300:\tlearn: 0.9601266\ttotal: 4.51s\tremaining: 2.98s\n",
      "400:\tlearn: 0.9873418\ttotal: 6.07s\tremaining: 1.5s\n",
      "499:\tlearn: 0.9987342\ttotal: 7.53s\tremaining: 0us\n",
      "0:\tlearn: 0.7325103\ttotal: 12.2ms\tremaining: 6.11s\n",
      "100:\tlearn: 0.7850586\ttotal: 1.41s\tremaining: 5.56s\n",
      "200:\tlearn: 0.8683128\ttotal: 2.85s\tremaining: 4.25s\n",
      "300:\tlearn: 0.9319405\ttotal: 4.29s\tremaining: 2.83s\n",
      "400:\tlearn: 0.9654954\ttotal: 5.75s\tremaining: 1.42s\n",
      "499:\tlearn: 0.9838557\ttotal: 7.47s\tremaining: 0us\n",
      "0:\tlearn: 0.7331434\ttotal: 14.5ms\tremaining: 7.24s\n",
      "100:\tlearn: 0.7850586\ttotal: 1.56s\tremaining: 6.18s\n",
      "200:\tlearn: 0.8692624\ttotal: 3.06s\tremaining: 4.55s\n",
      "300:\tlearn: 0.9366888\ttotal: 4.52s\tremaining: 2.98s\n",
      "400:\tlearn: 0.9711934\ttotal: 5.96s\tremaining: 1.47s\n",
      "499:\tlearn: 0.9882874\ttotal: 7.44s\tremaining: 0us\n",
      "0:\tlearn: 0.7329114\ttotal: 13.2ms\tremaining: 6.57s\n",
      "100:\tlearn: 0.7784810\ttotal: 1.46s\tremaining: 5.79s\n",
      "200:\tlearn: 0.8639241\ttotal: 2.98s\tremaining: 4.43s\n",
      "300:\tlearn: 0.9322785\ttotal: 4.5s\tremaining: 2.97s\n",
      "400:\tlearn: 0.9731013\ttotal: 6.07s\tremaining: 1.5s\n",
      "499:\tlearn: 0.9879747\ttotal: 7.46s\tremaining: 0us\n",
      "0:\tlearn: 0.7325103\ttotal: 12.7ms\tremaining: 6.33s\n",
      "100:\tlearn: 0.8315923\ttotal: 1.52s\tremaining: 6s\n",
      "200:\tlearn: 0.9237100\ttotal: 2.94s\tremaining: 4.37s\n",
      "300:\tlearn: 0.9778411\ttotal: 4.39s\tremaining: 2.91s\n",
      "400:\tlearn: 0.9949351\ttotal: 5.84s\tremaining: 1.44s\n",
      "499:\tlearn: 0.9987338\ttotal: 7.25s\tremaining: 0us\n",
      "0:\tlearn: 0.7331434\ttotal: 12.7ms\tremaining: 6.35s\n",
      "100:\tlearn: 0.8281102\ttotal: 1.46s\tremaining: 5.77s\n",
      "200:\tlearn: 0.9351060\ttotal: 2.86s\tremaining: 4.25s\n",
      "300:\tlearn: 0.9832225\ttotal: 4.3s\tremaining: 2.84s\n",
      "400:\tlearn: 0.9974676\ttotal: 5.76s\tremaining: 1.42s\n",
      "499:\tlearn: 0.9993669\ttotal: 7.2s\tremaining: 0us\n",
      "0:\tlearn: 0.7329114\ttotal: 13.2ms\tremaining: 6.56s\n",
      "100:\tlearn: 0.8212025\ttotal: 1.53s\tremaining: 6.06s\n",
      "200:\tlearn: 0.9272152\ttotal: 2.97s\tremaining: 4.42s\n",
      "300:\tlearn: 0.9787975\ttotal: 4.45s\tremaining: 2.94s\n",
      "400:\tlearn: 0.9958861\ttotal: 5.9s\tremaining: 1.46s\n",
      "499:\tlearn: 1.0000000\ttotal: 7.39s\tremaining: 0us\n",
      "0:\tlearn: 0.7325103\ttotal: 14ms\tremaining: 6.97s\n",
      "100:\tlearn: 0.8024691\ttotal: 1.66s\tremaining: 6.57s\n",
      "200:\tlearn: 0.8945869\ttotal: 3.11s\tremaining: 4.62s\n",
      "300:\tlearn: 0.9515670\ttotal: 4.54s\tremaining: 3s\n",
      "400:\tlearn: 0.9772080\ttotal: 6.02s\tremaining: 1.49s\n",
      "499:\tlearn: 0.9920861\ttotal: 7.42s\tremaining: 0us\n",
      "0:\tlearn: 0.7331434\ttotal: 13ms\tremaining: 6.47s\n",
      "100:\tlearn: 0.8005698\ttotal: 1.42s\tremaining: 5.6s\n",
      "200:\tlearn: 0.8933207\ttotal: 2.85s\tremaining: 4.23s\n",
      "300:\tlearn: 0.9518835\ttotal: 4.26s\tremaining: 2.82s\n",
      "400:\tlearn: 0.9797404\ttotal: 5.7s\tremaining: 1.41s\n",
      "499:\tlearn: 0.9930358\ttotal: 7.12s\tremaining: 0us\n",
      "0:\tlearn: 0.7329114\ttotal: 13.2ms\tremaining: 6.61s\n",
      "100:\tlearn: 0.7946203\ttotal: 1.47s\tremaining: 5.81s\n",
      "200:\tlearn: 0.8939873\ttotal: 2.97s\tremaining: 4.42s\n",
      "300:\tlearn: 0.9582278\ttotal: 4.4s\tremaining: 2.91s\n",
      "400:\tlearn: 0.9835443\ttotal: 5.9s\tremaining: 1.46s\n",
      "499:\tlearn: 0.9939873\ttotal: 7.3s\tremaining: 0us\n",
      "0:\tlearn: 0.7337765\ttotal: 48.8ms\tremaining: 24.3s\n",
      "100:\tlearn: 0.7321937\ttotal: 5.19s\tremaining: 20.5s\n",
      "200:\tlearn: 0.7559354\ttotal: 10.4s\tremaining: 15.4s\n",
      "300:\tlearn: 0.8097499\ttotal: 15.5s\tremaining: 10.2s\n",
      "400:\tlearn: 0.8797088\ttotal: 20.6s\tremaining: 5.09s\n",
      "499:\tlearn: 0.9294080\ttotal: 25.8s\tremaining: 0us\n",
      "0:\tlearn: 0.7337765\ttotal: 44.2ms\tremaining: 22.1s\n",
      "100:\tlearn: 0.7321937\ttotal: 5.17s\tremaining: 20.4s\n",
      "200:\tlearn: 0.7606838\ttotal: 10.5s\tremaining: 15.6s\n",
      "300:\tlearn: 0.8113327\ttotal: 15.7s\tremaining: 10.3s\n",
      "400:\tlearn: 0.8749604\ttotal: 20.8s\tremaining: 5.13s\n",
      "499:\tlearn: 0.9309908\ttotal: 25.9s\tremaining: 0us\n",
      "0:\tlearn: 0.7329114\ttotal: 46.3ms\tremaining: 23.1s\n",
      "100:\tlearn: 0.7322785\ttotal: 5.42s\tremaining: 21.4s\n",
      "200:\tlearn: 0.7560127\ttotal: 10.7s\tremaining: 16s\n",
      "300:\tlearn: 0.8091772\ttotal: 16.1s\tremaining: 10.7s\n",
      "400:\tlearn: 0.8712025\ttotal: 21.4s\tremaining: 5.29s\n",
      "499:\tlearn: 0.9268987\ttotal: 26.6s\tremaining: 0us\n",
      "0:\tlearn: 0.7337765\ttotal: 44.3ms\tremaining: 22.1s\n",
      "100:\tlearn: 0.7321937\ttotal: 5.2s\tremaining: 20.5s\n",
      "200:\tlearn: 0.7410573\ttotal: 10.4s\tremaining: 15.4s\n",
      "300:\tlearn: 0.7730294\ttotal: 15.7s\tremaining: 10.4s\n",
      "400:\tlearn: 0.8233618\ttotal: 21s\tremaining: 5.19s\n",
      "499:\tlearn: 0.8689459\ttotal: 26.2s\tremaining: 0us\n",
      "0:\tlearn: 0.7337765\ttotal: 45.9ms\tremaining: 22.9s\n",
      "100:\tlearn: 0.7321937\ttotal: 5.27s\tremaining: 20.8s\n",
      "200:\tlearn: 0.7458056\ttotal: 10.3s\tremaining: 15.4s\n",
      "300:\tlearn: 0.7784109\ttotal: 15.5s\tremaining: 10.3s\n",
      "400:\tlearn: 0.8243115\ttotal: 20.7s\tremaining: 5.1s\n",
      "499:\tlearn: 0.8654638\ttotal: 25.8s\tremaining: 0us\n",
      "0:\tlearn: 0.7329114\ttotal: 49.8ms\tremaining: 24.8s\n",
      "100:\tlearn: 0.7322785\ttotal: 5.39s\tremaining: 21.3s\n",
      "200:\tlearn: 0.7411392\ttotal: 10.7s\tremaining: 16s\n",
      "300:\tlearn: 0.7750000\ttotal: 16s\tremaining: 10.6s\n",
      "400:\tlearn: 0.8145570\ttotal: 21.3s\tremaining: 5.25s\n",
      "499:\tlearn: 0.8626582\ttotal: 26.6s\tremaining: 0us\n",
      "0:\tlearn: 0.7337765\ttotal: 47.9ms\tremaining: 23.9s\n",
      "100:\tlearn: 0.7543526\ttotal: 5.37s\tremaining: 21.2s\n",
      "200:\tlearn: 0.8787591\ttotal: 10.6s\tremaining: 15.8s\n",
      "300:\tlearn: 0.9648623\ttotal: 15.8s\tremaining: 10.4s\n",
      "400:\tlearn: 0.9895537\ttotal: 20.9s\tremaining: 5.17s\n",
      "499:\tlearn: 0.9977841\ttotal: 26.1s\tremaining: 0us\n",
      "0:\tlearn: 0.7337765\ttotal: 46.5ms\tremaining: 23.2s\n",
      "100:\tlearn: 0.7632162\ttotal: 5.22s\tremaining: 20.6s\n",
      "200:\tlearn: 0.8816081\ttotal: 10.5s\tremaining: 15.7s\n",
      "300:\tlearn: 0.9642292\ttotal: 15.8s\tremaining: 10.4s\n",
      "400:\tlearn: 0.9911364\ttotal: 21.1s\tremaining: 5.2s\n",
      "499:\tlearn: 0.9977841\ttotal: 26.2s\tremaining: 0us\n",
      "0:\tlearn: 0.7329114\ttotal: 48.6ms\tremaining: 24.2s\n",
      "100:\tlearn: 0.7629747\ttotal: 5.43s\tremaining: 21.4s\n",
      "200:\tlearn: 0.8664557\ttotal: 10.6s\tremaining: 15.8s\n",
      "300:\tlearn: 0.9566456\ttotal: 16s\tremaining: 10.6s\n",
      "400:\tlearn: 0.9898734\ttotal: 21.2s\tremaining: 5.23s\n",
      "499:\tlearn: 0.9987342\ttotal: 26.3s\tremaining: 0us\n",
      "0:\tlearn: 0.7337765\ttotal: 44.1ms\tremaining: 22s\n",
      "100:\tlearn: 0.7420070\ttotal: 5.26s\tremaining: 20.8s\n",
      "200:\tlearn: 0.8252612\ttotal: 10.4s\tremaining: 15.5s\n",
      "300:\tlearn: 0.9167458\ttotal: 15.7s\tremaining: 10.4s\n",
      "400:\tlearn: 0.9648623\ttotal: 20.9s\tremaining: 5.15s\n",
      "499:\tlearn: 0.9863881\ttotal: 26s\tremaining: 0us\n",
      "0:\tlearn: 0.7337765\ttotal: 46.8ms\tremaining: 23.3s\n",
      "100:\tlearn: 0.7496043\ttotal: 5.26s\tremaining: 20.8s\n",
      "200:\tlearn: 0.8293764\ttotal: 10.3s\tremaining: 15.3s\n",
      "300:\tlearn: 0.9167458\ttotal: 15.3s\tremaining: 10.1s\n",
      "400:\tlearn: 0.9610636\ttotal: 20.4s\tremaining: 5.04s\n",
      "499:\tlearn: 0.9851219\ttotal: 25.5s\tremaining: 0us\n",
      "0:\tlearn: 0.7329114\ttotal: 45.9ms\tremaining: 22.9s\n",
      "100:\tlearn: 0.7411392\ttotal: 5.41s\tremaining: 21.4s\n",
      "200:\tlearn: 0.8237342\ttotal: 10.7s\tremaining: 15.9s\n",
      "300:\tlearn: 0.9066456\ttotal: 15.9s\tremaining: 10.5s\n",
      "400:\tlearn: 0.9617089\ttotal: 21.3s\tremaining: 5.26s\n",
      "499:\tlearn: 0.9848101\ttotal: 26.6s\tremaining: 0us\n",
      "0:\tlearn: 0.7337765\ttotal: 83.4ms\tremaining: 41.6s\n",
      "100:\tlearn: 0.8154479\ttotal: 5.23s\tremaining: 20.7s\n",
      "200:\tlearn: 0.9540994\ttotal: 10.4s\tremaining: 15.5s\n",
      "300:\tlearn: 0.9946186\ttotal: 15.7s\tremaining: 10.4s\n",
      "400:\tlearn: 0.9993669\ttotal: 21s\tremaining: 5.18s\n",
      "499:\tlearn: 1.0000000\ttotal: 26.2s\tremaining: 0us\n",
      "0:\tlearn: 0.7337765\ttotal: 46.2ms\tremaining: 23.1s\n",
      "100:\tlearn: 0.8306426\ttotal: 5.45s\tremaining: 21.5s\n",
      "200:\tlearn: 0.9582146\ttotal: 10.6s\tremaining: 15.7s\n",
      "300:\tlearn: 0.9949351\ttotal: 15.7s\tremaining: 10.4s\n",
      "400:\tlearn: 0.9993669\ttotal: 20.8s\tremaining: 5.14s\n",
      "499:\tlearn: 0.9996834\ttotal: 26.1s\tremaining: 0us\n",
      "0:\tlearn: 0.7329114\ttotal: 48.8ms\tremaining: 24.3s\n",
      "100:\tlearn: 0.8196203\ttotal: 5.18s\tremaining: 20.5s\n",
      "200:\tlearn: 0.9560127\ttotal: 10.3s\tremaining: 15.3s\n",
      "300:\tlearn: 0.9933544\ttotal: 15.4s\tremaining: 10.2s\n",
      "400:\tlearn: 1.0000000\ttotal: 20.8s\tremaining: 5.13s\n",
      "499:\tlearn: 1.0000000\ttotal: 25.9s\tremaining: 0us\n",
      "0:\tlearn: 0.7337765\ttotal: 45.7ms\tremaining: 22.8s\n",
      "100:\tlearn: 0.7768281\ttotal: 5.23s\tremaining: 20.7s\n",
      "200:\tlearn: 0.9151630\ttotal: 10.4s\tremaining: 15.5s\n",
      "300:\tlearn: 0.9753086\ttotal: 15.6s\tremaining: 10.3s\n",
      "400:\tlearn: 0.9949351\ttotal: 20.8s\tremaining: 5.15s\n",
      "499:\tlearn: 0.9987338\ttotal: 26s\tremaining: 0us\n",
      "0:\tlearn: 0.7337765\ttotal: 47.6ms\tremaining: 23.7s\n",
      "100:\tlearn: 0.7942387\ttotal: 5.2s\tremaining: 20.5s\n",
      "200:\tlearn: 0.9100981\ttotal: 10.3s\tremaining: 15.3s\n",
      "300:\tlearn: 0.9753086\ttotal: 15.4s\tremaining: 10.2s\n",
      "400:\tlearn: 0.9943020\ttotal: 20.5s\tremaining: 5.06s\n",
      "499:\tlearn: 0.9984172\ttotal: 25.6s\tremaining: 0us\n",
      "0:\tlearn: 0.7329114\ttotal: 46.9ms\tremaining: 23.4s\n",
      "100:\tlearn: 0.7787975\ttotal: 5.38s\tremaining: 21.3s\n",
      "200:\tlearn: 0.9066456\ttotal: 10.5s\tremaining: 15.7s\n",
      "300:\tlearn: 0.9756329\ttotal: 15.9s\tremaining: 10.5s\n",
      "400:\tlearn: 0.9946203\ttotal: 21.2s\tremaining: 5.24s\n",
      "499:\tlearn: 0.9987342\ttotal: 26.4s\tremaining: 0us\n",
      "0:\tlearn: 0.7337765\ttotal: 44.4ms\tremaining: 22.1s\n",
      "100:\tlearn: 0.8749604\ttotal: 5.39s\tremaining: 21.3s\n",
      "200:\tlearn: 0.9829060\ttotal: 10.6s\tremaining: 15.7s\n",
      "300:\tlearn: 0.9984172\ttotal: 15.8s\tremaining: 10.4s\n",
      "400:\tlearn: 1.0000000\ttotal: 21.1s\tremaining: 5.2s\n",
      "499:\tlearn: 1.0000000\ttotal: 26.4s\tremaining: 0us\n",
      "0:\tlearn: 0.7337765\ttotal: 48.7ms\tremaining: 24.3s\n",
      "100:\tlearn: 0.8740108\ttotal: 5.47s\tremaining: 21.6s\n",
      "200:\tlearn: 0.9873378\ttotal: 10.8s\tremaining: 16s\n",
      "300:\tlearn: 0.9996834\ttotal: 16s\tremaining: 10.6s\n",
      "400:\tlearn: 1.0000000\ttotal: 21.2s\tremaining: 5.23s\n",
      "499:\tlearn: 1.0000000\ttotal: 26.3s\tremaining: 0us\n",
      "0:\tlearn: 0.7329114\ttotal: 44.9ms\tremaining: 22.4s\n",
      "100:\tlearn: 0.8753165\ttotal: 5.56s\tremaining: 21.9s\n",
      "200:\tlearn: 0.9895570\ttotal: 11s\tremaining: 16.3s\n",
      "300:\tlearn: 1.0000000\ttotal: 16.4s\tremaining: 10.9s\n",
      "400:\tlearn: 1.0000000\ttotal: 21.7s\tremaining: 5.36s\n",
      "499:\tlearn: 1.0000000\ttotal: 26.9s\tremaining: 0us\n",
      "0:\tlearn: 0.7337765\ttotal: 51.2ms\tremaining: 25.5s\n",
      "100:\tlearn: 0.8293764\ttotal: 5.1s\tremaining: 20.2s\n",
      "200:\tlearn: 0.9569484\ttotal: 10.3s\tremaining: 15.3s\n",
      "300:\tlearn: 0.9936689\ttotal: 15.6s\tremaining: 10.3s\n",
      "400:\tlearn: 0.9990503\ttotal: 20.9s\tremaining: 5.15s\n",
      "499:\tlearn: 0.9996834\ttotal: 26.1s\tremaining: 0us\n",
      "0:\tlearn: 0.7337765\ttotal: 48ms\tremaining: 24s\n",
      "100:\tlearn: 0.8353909\ttotal: 5.16s\tremaining: 20.4s\n",
      "200:\tlearn: 0.9639126\ttotal: 10.5s\tremaining: 15.6s\n",
      "300:\tlearn: 0.9930358\ttotal: 15.6s\tremaining: 10.3s\n",
      "400:\tlearn: 0.9987338\ttotal: 21.2s\tremaining: 5.22s\n",
      "499:\tlearn: 1.0000000\ttotal: 26.6s\tremaining: 0us\n",
      "0:\tlearn: 0.7329114\ttotal: 47.6ms\tremaining: 23.8s\n",
      "100:\tlearn: 0.8189873\ttotal: 5.52s\tremaining: 21.8s\n",
      "200:\tlearn: 0.9522152\ttotal: 10.8s\tremaining: 16.1s\n",
      "300:\tlearn: 0.9930380\ttotal: 16.2s\tremaining: 10.7s\n",
      "400:\tlearn: 1.0000000\ttotal: 21.4s\tremaining: 5.28s\n",
      "499:\tlearn: 1.0000000\ttotal: 26.5s\tremaining: 0us\n",
      "0:\tlearn: 0.7337765\ttotal: 46ms\tremaining: 22.9s\n",
      "100:\tlearn: 0.9189617\ttotal: 5.25s\tremaining: 20.7s\n",
      "200:\tlearn: 0.9958848\ttotal: 10.4s\tremaining: 15.4s\n",
      "300:\tlearn: 1.0000000\ttotal: 15.6s\tremaining: 10.3s\n",
      "400:\tlearn: 1.0000000\ttotal: 20.7s\tremaining: 5.11s\n",
      "499:\tlearn: 1.0000000\ttotal: 25.7s\tremaining: 0us\n",
      "0:\tlearn: 0.7337765\ttotal: 45.3ms\tremaining: 22.6s\n",
      "100:\tlearn: 0.9151630\ttotal: 5.17s\tremaining: 20.4s\n",
      "200:\tlearn: 0.9965179\ttotal: 10.4s\tremaining: 15.4s\n",
      "300:\tlearn: 1.0000000\ttotal: 15.5s\tremaining: 10.2s\n",
      "400:\tlearn: 1.0000000\ttotal: 20.6s\tremaining: 5.09s\n",
      "499:\tlearn: 1.0000000\ttotal: 25.7s\tremaining: 0us\n",
      "0:\tlearn: 0.7329114\ttotal: 49.2ms\tremaining: 24.6s\n",
      "100:\tlearn: 0.9199367\ttotal: 5.3s\tremaining: 20.9s\n",
      "200:\tlearn: 0.9968354\ttotal: 10.5s\tremaining: 15.6s\n",
      "300:\tlearn: 1.0000000\ttotal: 15.7s\tremaining: 10.4s\n",
      "400:\tlearn: 1.0000000\ttotal: 20.9s\tremaining: 5.16s\n",
      "499:\tlearn: 1.0000000\ttotal: 26.3s\tremaining: 0us\n",
      "0:\tlearn: 0.7337765\ttotal: 49.1ms\tremaining: 24.5s\n",
      "100:\tlearn: 0.8641975\ttotal: 5.38s\tremaining: 21.3s\n",
      "200:\tlearn: 0.9819563\ttotal: 10.6s\tremaining: 15.8s\n",
      "300:\tlearn: 0.9981007\ttotal: 15.8s\tremaining: 10.4s\n",
      "400:\tlearn: 0.9996834\ttotal: 20.9s\tremaining: 5.16s\n",
      "499:\tlearn: 1.0000000\ttotal: 26.1s\tremaining: 0us\n",
      "0:\tlearn: 0.7337765\ttotal: 45.9ms\tremaining: 22.9s\n",
      "100:\tlearn: 0.8850902\ttotal: 5.29s\tremaining: 20.9s\n",
      "200:\tlearn: 0.9829060\ttotal: 10.4s\tremaining: 15.5s\n",
      "300:\tlearn: 0.9974676\ttotal: 15.6s\tremaining: 10.3s\n",
      "400:\tlearn: 1.0000000\ttotal: 20.7s\tremaining: 5.12s\n",
      "499:\tlearn: 1.0000000\ttotal: 25.9s\tremaining: 0us\n",
      "0:\tlearn: 0.7329114\ttotal: 46.8ms\tremaining: 23.3s\n",
      "100:\tlearn: 0.8632911\ttotal: 5.31s\tremaining: 21s\n",
      "200:\tlearn: 0.9800633\ttotal: 10.5s\tremaining: 15.7s\n",
      "300:\tlearn: 0.9984177\ttotal: 15.8s\tremaining: 10.4s\n",
      "400:\tlearn: 1.0000000\ttotal: 21s\tremaining: 5.18s\n",
      "499:\tlearn: 1.0000000\ttotal: 26.1s\tremaining: 0us\n",
      "0:\tlearn: 0.7337765\ttotal: 47.3ms\tremaining: 23.6s\n",
      "100:\tlearn: 0.9465021\ttotal: 5.21s\tremaining: 20.6s\n",
      "200:\tlearn: 0.9996834\ttotal: 10.3s\tremaining: 15.4s\n",
      "300:\tlearn: 1.0000000\ttotal: 15.5s\tremaining: 10.2s\n",
      "400:\tlearn: 1.0000000\ttotal: 20.6s\tremaining: 5.08s\n",
      "499:\tlearn: 1.0000000\ttotal: 25.7s\tremaining: 0us\n",
      "0:\tlearn: 0.7337765\ttotal: 45.8ms\tremaining: 22.8s\n",
      "100:\tlearn: 0.9474517\ttotal: 5.18s\tremaining: 20.5s\n",
      "200:\tlearn: 0.9987338\ttotal: 10.3s\tremaining: 15.3s\n",
      "300:\tlearn: 1.0000000\ttotal: 15.4s\tremaining: 10.2s\n",
      "400:\tlearn: 1.0000000\ttotal: 20.6s\tremaining: 5.08s\n",
      "499:\tlearn: 1.0000000\ttotal: 25.7s\tremaining: 0us\n",
      "0:\tlearn: 0.7329114\ttotal: 48.1ms\tremaining: 24s\n",
      "100:\tlearn: 0.9471519\ttotal: 5.3s\tremaining: 20.9s\n",
      "200:\tlearn: 0.9996835\ttotal: 10.5s\tremaining: 15.6s\n",
      "300:\tlearn: 1.0000000\ttotal: 15.7s\tremaining: 10.4s\n",
      "400:\tlearn: 1.0000000\ttotal: 20.9s\tremaining: 5.16s\n",
      "499:\tlearn: 1.0000000\ttotal: 26.1s\tremaining: 0us\n",
      "0:\tlearn: 0.7337765\ttotal: 48.8ms\tremaining: 24.4s\n",
      "100:\tlearn: 0.9037670\ttotal: 5.71s\tremaining: 22.5s\n",
      "200:\tlearn: 0.9895537\ttotal: 11.2s\tremaining: 16.7s\n",
      "300:\tlearn: 0.9996834\ttotal: 17.2s\tremaining: 11.3s\n",
      "400:\tlearn: 1.0000000\ttotal: 23.5s\tremaining: 5.79s\n",
      "499:\tlearn: 1.0000000\ttotal: 29.2s\tremaining: 0us\n",
      "0:\tlearn: 0.7337765\ttotal: 53.3ms\tremaining: 26.6s\n",
      "100:\tlearn: 0.9034505\ttotal: 5.56s\tremaining: 22s\n",
      "200:\tlearn: 0.9920861\ttotal: 11s\tremaining: 16.4s\n",
      "300:\tlearn: 1.0000000\ttotal: 16.5s\tremaining: 10.9s\n",
      "400:\tlearn: 1.0000000\ttotal: 21.7s\tremaining: 5.36s\n",
      "499:\tlearn: 1.0000000\ttotal: 26.8s\tremaining: 0us\n",
      "0:\tlearn: 0.7329114\ttotal: 46.1ms\tremaining: 23s\n",
      "100:\tlearn: 0.9041139\ttotal: 5.34s\tremaining: 21.1s\n",
      "200:\tlearn: 0.9920886\ttotal: 10.6s\tremaining: 15.8s\n",
      "300:\tlearn: 1.0000000\ttotal: 15.8s\tremaining: 10.4s\n",
      "400:\tlearn: 1.0000000\ttotal: 21.1s\tremaining: 5.22s\n",
      "499:\tlearn: 1.0000000\ttotal: 26.4s\tremaining: 0us\n",
      "0:\tlearn: 0.7353593\ttotal: 182ms\tremaining: 1m 30s\n",
      "100:\tlearn: 0.7391580\ttotal: 17s\tremaining: 1m 7s\n",
      "200:\tlearn: 0.8284267\ttotal: 33.7s\tremaining: 50.1s\n",
      "300:\tlearn: 0.9487179\ttotal: 50.3s\tremaining: 33.2s\n",
      "400:\tlearn: 0.9908199\ttotal: 1m 6s\tremaining: 16.5s\n",
      "499:\tlearn: 0.9984172\ttotal: 1m 23s\tremaining: 0us\n",
      "0:\tlearn: 0.7378917\ttotal: 204ms\tremaining: 1m 41s\n",
      "100:\tlearn: 0.7413739\ttotal: 16.9s\tremaining: 1m 6s\n",
      "200:\tlearn: 0.8312757\ttotal: 33.5s\tremaining: 49.9s\n",
      "300:\tlearn: 0.9559987\ttotal: 50.1s\tremaining: 33.1s\n",
      "400:\tlearn: 0.9895537\ttotal: 1m 6s\tremaining: 16.5s\n",
      "499:\tlearn: 0.9974676\ttotal: 1m 23s\tremaining: 0us\n",
      "0:\tlearn: 0.7376582\ttotal: 168ms\tremaining: 1m 24s\n",
      "100:\tlearn: 0.7401899\ttotal: 17s\tremaining: 1m 7s\n",
      "200:\tlearn: 0.8234177\ttotal: 33.9s\tremaining: 50.4s\n",
      "300:\tlearn: 0.9462025\ttotal: 50.8s\tremaining: 33.6s\n",
      "400:\tlearn: 0.9898734\ttotal: 1m 9s\tremaining: 17.1s\n",
      "499:\tlearn: 0.9987342\ttotal: 1m 26s\tremaining: 0us\n",
      "0:\tlearn: 0.7353593\ttotal: 178ms\tremaining: 1m 28s\n",
      "100:\tlearn: 0.7328268\ttotal: 17.9s\tremaining: 1m 10s\n",
      "200:\tlearn: 0.7708135\ttotal: 40.3s\tremaining: 1m\n",
      "300:\tlearn: 0.8654638\ttotal: 57.7s\tremaining: 38.1s\n",
      "400:\tlearn: 0.9439696\ttotal: 1m 14s\tremaining: 18.4s\n",
      "499:\tlearn: 0.9768914\ttotal: 1m 30s\tremaining: 0us\n",
      "0:\tlearn: 0.7378917\ttotal: 167ms\tremaining: 1m 23s\n",
      "100:\tlearn: 0.7331434\ttotal: 17s\tremaining: 1m 7s\n",
      "200:\tlearn: 0.7793606\ttotal: 33.8s\tremaining: 50.2s\n",
      "300:\tlearn: 0.8733777\ttotal: 50.5s\tremaining: 33.4s\n",
      "400:\tlearn: 0.9499842\ttotal: 1m 7s\tremaining: 16.6s\n",
      "499:\tlearn: 0.9819563\ttotal: 1m 23s\tremaining: 0us\n",
      "0:\tlearn: 0.7376582\ttotal: 169ms\tremaining: 1m 24s\n",
      "100:\tlearn: 0.7325949\ttotal: 17s\tremaining: 1m 7s\n",
      "200:\tlearn: 0.7712025\ttotal: 33.8s\tremaining: 50.3s\n",
      "300:\tlearn: 0.8642405\ttotal: 50.6s\tremaining: 33.5s\n",
      "400:\tlearn: 0.9398734\ttotal: 1m 7s\tremaining: 16.7s\n",
      "499:\tlearn: 0.9800633\ttotal: 1m 24s\tremaining: 0us\n",
      "0:\tlearn: 0.7353593\ttotal: 174ms\tremaining: 1m 26s\n",
      "100:\tlearn: 0.8360241\ttotal: 16.8s\tremaining: 1m 6s\n",
      "200:\tlearn: 0.9882874\ttotal: 33.6s\tremaining: 49.9s\n",
      "300:\tlearn: 0.9996834\ttotal: 50.1s\tremaining: 33.1s\n",
      "400:\tlearn: 1.0000000\ttotal: 1m 6s\tremaining: 16.5s\n",
      "499:\tlearn: 1.0000000\ttotal: 1m 23s\tremaining: 0us\n",
      "0:\tlearn: 0.7378917\ttotal: 169ms\tremaining: 1m 24s\n",
      "100:\tlearn: 0.8388731\ttotal: 16.8s\tremaining: 1m 6s\n",
      "200:\tlearn: 0.9867047\ttotal: 33.3s\tremaining: 49.6s\n",
      "300:\tlearn: 0.9996834\ttotal: 49.9s\tremaining: 33s\n",
      "400:\tlearn: 1.0000000\ttotal: 1m 6s\tremaining: 16.4s\n",
      "499:\tlearn: 1.0000000\ttotal: 1m 22s\tremaining: 0us\n",
      "0:\tlearn: 0.7376582\ttotal: 170ms\tremaining: 1m 24s\n",
      "100:\tlearn: 0.8281646\ttotal: 17s\tremaining: 1m 7s\n",
      "200:\tlearn: 0.9841772\ttotal: 33.8s\tremaining: 50.3s\n",
      "300:\tlearn: 1.0000000\ttotal: 50.6s\tremaining: 33.4s\n",
      "400:\tlearn: 1.0000000\ttotal: 1m 7s\tremaining: 16.6s\n",
      "499:\tlearn: 1.0000000\ttotal: 1m 24s\tremaining: 0us\n",
      "0:\tlearn: 0.7353593\ttotal: 167ms\tremaining: 1m 23s\n",
      "100:\tlearn: 0.7698639\ttotal: 16.8s\tremaining: 1m 6s\n",
      "200:\tlearn: 0.9385882\ttotal: 33.4s\tremaining: 49.7s\n",
      "300:\tlearn: 0.9917695\ttotal: 50s\tremaining: 33.1s\n",
      "400:\tlearn: 0.9984172\ttotal: 1m 6s\tremaining: 16.5s\n",
      "499:\tlearn: 1.0000000\ttotal: 1m 23s\tremaining: 0us\n",
      "0:\tlearn: 0.7378917\ttotal: 168ms\tremaining: 1m 24s\n",
      "100:\tlearn: 0.7758784\ttotal: 16.8s\tremaining: 1m 6s\n",
      "200:\tlearn: 0.9420703\ttotal: 33.3s\tremaining: 49.6s\n",
      "300:\tlearn: 0.9924027\ttotal: 50.4s\tremaining: 33.3s\n",
      "400:\tlearn: 0.9984172\ttotal: 1m 6s\tremaining: 16.5s\n",
      "499:\tlearn: 1.0000000\ttotal: 1m 23s\tremaining: 0us\n",
      "0:\tlearn: 0.7376582\ttotal: 175ms\tremaining: 1m 27s\n",
      "100:\tlearn: 0.7715190\ttotal: 17.1s\tremaining: 1m 7s\n",
      "200:\tlearn: 0.9420886\ttotal: 34.1s\tremaining: 50.8s\n",
      "300:\tlearn: 0.9901899\ttotal: 51.1s\tremaining: 33.8s\n",
      "400:\tlearn: 0.9993671\ttotal: 1m 8s\tremaining: 16.8s\n",
      "499:\tlearn: 1.0000000\ttotal: 1m 25s\tremaining: 0us\n",
      "0:\tlearn: 0.7353593\ttotal: 168ms\tremaining: 1m 23s\n",
      "100:\tlearn: 0.9347895\ttotal: 18.6s\tremaining: 1m 13s\n",
      "200:\tlearn: 0.9996834\ttotal: 35.5s\tremaining: 52.8s\n",
      "300:\tlearn: 1.0000000\ttotal: 55s\tremaining: 36.4s\n",
      "400:\tlearn: 1.0000000\ttotal: 1m 12s\tremaining: 17.8s\n",
      "499:\tlearn: 1.0000000\ttotal: 1m 28s\tremaining: 0us\n",
      "0:\tlearn: 0.7378917\ttotal: 173ms\tremaining: 1m 26s\n",
      "100:\tlearn: 0.9385882\ttotal: 17s\tremaining: 1m 7s\n",
      "200:\tlearn: 0.9993669\ttotal: 34.1s\tremaining: 50.7s\n",
      "300:\tlearn: 1.0000000\ttotal: 50.9s\tremaining: 33.6s\n",
      "400:\tlearn: 1.0000000\ttotal: 1m 7s\tremaining: 16.7s\n",
      "499:\tlearn: 1.0000000\ttotal: 1m 24s\tremaining: 0us\n",
      "0:\tlearn: 0.7376582\ttotal: 169ms\tremaining: 1m 24s\n",
      "100:\tlearn: 0.9484177\ttotal: 17.2s\tremaining: 1m 7s\n",
      "200:\tlearn: 1.0000000\ttotal: 34.1s\tremaining: 50.7s\n",
      "300:\tlearn: 1.0000000\ttotal: 50.9s\tremaining: 33.6s\n",
      "400:\tlearn: 1.0000000\ttotal: 1m 7s\tremaining: 16.7s\n",
      "499:\tlearn: 1.0000000\ttotal: 1m 24s\tremaining: 0us\n",
      "0:\tlearn: 0.7353593\ttotal: 168ms\tremaining: 1m 23s\n",
      "100:\tlearn: 0.8736942\ttotal: 16.7s\tremaining: 1m 6s\n",
      "200:\tlearn: 0.9927192\ttotal: 33.4s\tremaining: 49.7s\n",
      "300:\tlearn: 1.0000000\ttotal: 50s\tremaining: 33s\n",
      "400:\tlearn: 1.0000000\ttotal: 1m 6s\tremaining: 16.4s\n",
      "499:\tlearn: 1.0000000\ttotal: 1m 22s\tremaining: 0us\n",
      "0:\tlearn: 0.7378917\ttotal: 166ms\tremaining: 1m 23s\n",
      "100:\tlearn: 0.8676796\ttotal: 17s\tremaining: 1m 7s\n",
      "200:\tlearn: 0.9905033\ttotal: 34.1s\tremaining: 50.7s\n",
      "300:\tlearn: 0.9993669\ttotal: 50.9s\tremaining: 33.7s\n",
      "400:\tlearn: 1.0000000\ttotal: 1m 7s\tremaining: 16.7s\n",
      "499:\tlearn: 1.0000000\ttotal: 1m 24s\tremaining: 0us\n",
      "0:\tlearn: 0.7376582\ttotal: 174ms\tremaining: 1m 26s\n",
      "100:\tlearn: 0.8664557\ttotal: 17.1s\tremaining: 1m 7s\n",
      "200:\tlearn: 0.9908228\ttotal: 34s\tremaining: 50.5s\n",
      "300:\tlearn: 0.9993671\ttotal: 51s\tremaining: 33.7s\n",
      "400:\tlearn: 1.0000000\ttotal: 1m 7s\tremaining: 16.7s\n",
      "499:\tlearn: 1.0000000\ttotal: 1m 24s\tremaining: 0us\n",
      "0:\tlearn: 0.7353593\ttotal: 167ms\tremaining: 1m 23s\n",
      "100:\tlearn: 0.9775245\ttotal: 16.8s\tremaining: 1m 6s\n",
      "200:\tlearn: 1.0000000\ttotal: 33.4s\tremaining: 49.7s\n",
      "300:\tlearn: 1.0000000\ttotal: 50s\tremaining: 33.1s\n",
      "400:\tlearn: 1.0000000\ttotal: 1m 6s\tremaining: 16.4s\n",
      "499:\tlearn: 1.0000000\ttotal: 1m 23s\tremaining: 0us\n",
      "0:\tlearn: 0.7378917\ttotal: 171ms\tremaining: 1m 25s\n",
      "100:\tlearn: 0.9816398\ttotal: 16.8s\tremaining: 1m 6s\n",
      "200:\tlearn: 1.0000000\ttotal: 33.4s\tremaining: 49.7s\n",
      "300:\tlearn: 1.0000000\ttotal: 50.1s\tremaining: 33.1s\n",
      "400:\tlearn: 1.0000000\ttotal: 1m 7s\tremaining: 16.6s\n",
      "499:\tlearn: 1.0000000\ttotal: 1m 29s\tremaining: 0us\n",
      "0:\tlearn: 0.7376582\ttotal: 301ms\tremaining: 2m 30s\n",
      "100:\tlearn: 0.9829114\ttotal: 29.5s\tremaining: 1m 56s\n",
      "200:\tlearn: 1.0000000\ttotal: 47.3s\tremaining: 1m 10s\n",
      "300:\tlearn: 1.0000000\ttotal: 1m 4s\tremaining: 42.8s\n",
      "400:\tlearn: 1.0000000\ttotal: 1m 22s\tremaining: 20.3s\n",
      "499:\tlearn: 1.0000000\ttotal: 1m 39s\tremaining: 0us\n",
      "0:\tlearn: 0.7353593\ttotal: 175ms\tremaining: 1m 27s\n",
      "100:\tlearn: 0.9363723\ttotal: 16.9s\tremaining: 1m 6s\n",
      "200:\tlearn: 0.9990503\ttotal: 33.2s\tremaining: 49.4s\n",
      "300:\tlearn: 1.0000000\ttotal: 49.7s\tremaining: 32.9s\n",
      "400:\tlearn: 1.0000000\ttotal: 1m 6s\tremaining: 16.5s\n",
      "499:\tlearn: 1.0000000\ttotal: 1m 23s\tremaining: 0us\n",
      "0:\tlearn: 0.7378917\ttotal: 161ms\tremaining: 1m 20s\n",
      "100:\tlearn: 0.9430199\ttotal: 16.5s\tremaining: 1m 5s\n",
      "200:\tlearn: 0.9968344\ttotal: 33.5s\tremaining: 49.8s\n",
      "300:\tlearn: 1.0000000\ttotal: 49.9s\tremaining: 33s\n",
      "400:\tlearn: 1.0000000\ttotal: 1m 6s\tremaining: 16.4s\n",
      "499:\tlearn: 1.0000000\ttotal: 1m 22s\tremaining: 0us\n",
      "0:\tlearn: 0.7376582\ttotal: 172ms\tremaining: 1m 25s\n",
      "100:\tlearn: 0.9284810\ttotal: 16.7s\tremaining: 1m 6s\n",
      "200:\tlearn: 0.9990506\ttotal: 33.3s\tremaining: 49.5s\n",
      "300:\tlearn: 1.0000000\ttotal: 49.8s\tremaining: 32.9s\n",
      "400:\tlearn: 1.0000000\ttotal: 1m 6s\tremaining: 16.4s\n",
      "499:\tlearn: 1.0000000\ttotal: 1m 22s\tremaining: 0us\n",
      "0:\tlearn: 0.7353593\ttotal: 162ms\tremaining: 1m 20s\n",
      "100:\tlearn: 0.9949351\ttotal: 16.7s\tremaining: 1m 6s\n",
      "200:\tlearn: 1.0000000\ttotal: 33.1s\tremaining: 49.2s\n",
      "300:\tlearn: 1.0000000\ttotal: 49.3s\tremaining: 32.6s\n",
      "400:\tlearn: 1.0000000\ttotal: 1m 5s\tremaining: 16.2s\n",
      "499:\tlearn: 1.0000000\ttotal: 1m 22s\tremaining: 0us\n",
      "0:\tlearn: 0.7378917\ttotal: 168ms\tremaining: 1m 23s\n",
      "100:\tlearn: 0.9965179\ttotal: 17s\tremaining: 1m 7s\n",
      "200:\tlearn: 1.0000000\ttotal: 34s\tremaining: 50.5s\n",
      "300:\tlearn: 1.0000000\ttotal: 51.1s\tremaining: 33.8s\n",
      "400:\tlearn: 1.0000000\ttotal: 1m 8s\tremaining: 16.9s\n",
      "499:\tlearn: 1.0000000\ttotal: 1m 25s\tremaining: 0us\n",
      "0:\tlearn: 0.7376582\ttotal: 169ms\tremaining: 1m 24s\n",
      "100:\tlearn: 0.9955696\ttotal: 18.4s\tremaining: 1m 12s\n",
      "200:\tlearn: 1.0000000\ttotal: 36.7s\tremaining: 54.5s\n",
      "300:\tlearn: 1.0000000\ttotal: 54.9s\tremaining: 36.3s\n",
      "400:\tlearn: 1.0000000\ttotal: 1m 13s\tremaining: 18.2s\n",
      "499:\tlearn: 1.0000000\ttotal: 1m 31s\tremaining: 0us\n",
      "0:\tlearn: 0.7353593\ttotal: 171ms\tremaining: 1m 25s\n",
      "100:\tlearn: 0.9677113\ttotal: 18.4s\tremaining: 1m 12s\n",
      "200:\tlearn: 0.9996834\ttotal: 36.8s\tremaining: 54.8s\n",
      "300:\tlearn: 1.0000000\ttotal: 55.2s\tremaining: 36.5s\n",
      "400:\tlearn: 1.0000000\ttotal: 1m 13s\tremaining: 18.2s\n",
      "499:\tlearn: 1.0000000\ttotal: 1m 32s\tremaining: 0us\n",
      "0:\tlearn: 0.7378917\ttotal: 171ms\tremaining: 1m 25s\n",
      "100:\tlearn: 0.9743590\ttotal: 18.8s\tremaining: 1m 14s\n",
      "200:\tlearn: 0.9996834\ttotal: 37.3s\tremaining: 55.4s\n",
      "300:\tlearn: 1.0000000\ttotal: 56.2s\tremaining: 37.1s\n",
      "400:\tlearn: 1.0000000\ttotal: 1m 14s\tremaining: 18.5s\n",
      "499:\tlearn: 1.0000000\ttotal: 1m 34s\tremaining: 0us\n",
      "0:\tlearn: 0.7376582\ttotal: 188ms\tremaining: 1m 33s\n",
      "100:\tlearn: 0.9702532\ttotal: 18.1s\tremaining: 1m 11s\n",
      "200:\tlearn: 1.0000000\ttotal: 34.9s\tremaining: 52s\n",
      "300:\tlearn: 1.0000000\ttotal: 52.5s\tremaining: 34.7s\n",
      "400:\tlearn: 1.0000000\ttotal: 1m 10s\tremaining: 17.4s\n",
      "499:\tlearn: 1.0000000\ttotal: 1m 27s\tremaining: 0us\n",
      "0:\tlearn: 0.7353593\ttotal: 161ms\tremaining: 1m 20s\n",
      "100:\tlearn: 0.9987338\ttotal: 16.8s\tremaining: 1m 6s\n",
      "200:\tlearn: 1.0000000\ttotal: 35.1s\tremaining: 52.3s\n",
      "300:\tlearn: 1.0000000\ttotal: 52.3s\tremaining: 34.6s\n",
      "400:\tlearn: 1.0000000\ttotal: 1m 8s\tremaining: 17s\n",
      "499:\tlearn: 1.0000000\ttotal: 1m 25s\tremaining: 0us\n",
      "0:\tlearn: 0.7378917\ttotal: 165ms\tremaining: 1m 22s\n",
      "100:\tlearn: 0.9987338\ttotal: 16.7s\tremaining: 1m 5s\n",
      "200:\tlearn: 1.0000000\ttotal: 33.3s\tremaining: 49.5s\n",
      "300:\tlearn: 1.0000000\ttotal: 49.8s\tremaining: 32.9s\n",
      "400:\tlearn: 1.0000000\ttotal: 1m 6s\tremaining: 16.4s\n",
      "499:\tlearn: 1.0000000\ttotal: 1m 23s\tremaining: 0us\n",
      "0:\tlearn: 0.7376582\ttotal: 171ms\tremaining: 1m 25s\n",
      "100:\tlearn: 0.9987342\ttotal: 17.7s\tremaining: 1m 9s\n",
      "200:\tlearn: 1.0000000\ttotal: 35.1s\tremaining: 52.2s\n",
      "300:\tlearn: 1.0000000\ttotal: 52.8s\tremaining: 34.9s\n",
      "400:\tlearn: 1.0000000\ttotal: 1m 10s\tremaining: 17.4s\n",
      "499:\tlearn: 1.0000000\ttotal: 1m 28s\tremaining: 0us\n",
      "0:\tlearn: 0.7353593\ttotal: 165ms\tremaining: 1m 22s\n",
      "100:\tlearn: 0.9879709\ttotal: 17.8s\tremaining: 1m 10s\n",
      "200:\tlearn: 1.0000000\ttotal: 35.7s\tremaining: 53.1s\n",
      "300:\tlearn: 1.0000000\ttotal: 53.8s\tremaining: 35.6s\n",
      "400:\tlearn: 1.0000000\ttotal: 1m 11s\tremaining: 17.7s\n",
      "499:\tlearn: 1.0000000\ttotal: 1m 29s\tremaining: 0us\n",
      "0:\tlearn: 0.7378917\ttotal: 163ms\tremaining: 1m 21s\n",
      "100:\tlearn: 0.9863881\ttotal: 18.7s\tremaining: 1m 13s\n",
      "200:\tlearn: 1.0000000\ttotal: 37.1s\tremaining: 55.2s\n",
      "300:\tlearn: 1.0000000\ttotal: 55.5s\tremaining: 36.7s\n",
      "400:\tlearn: 1.0000000\ttotal: 1m 14s\tremaining: 18.3s\n",
      "499:\tlearn: 1.0000000\ttotal: 1m 32s\tremaining: 0us\n",
      "0:\tlearn: 0.7376582\ttotal: 180ms\tremaining: 1m 29s\n",
      "100:\tlearn: 0.9879747\ttotal: 19.1s\tremaining: 1m 15s\n",
      "200:\tlearn: 1.0000000\ttotal: 38.1s\tremaining: 56.7s\n",
      "300:\tlearn: 1.0000000\ttotal: 57.1s\tremaining: 37.8s\n",
      "400:\tlearn: 1.0000000\ttotal: 1m 16s\tremaining: 18.8s\n",
      "499:\tlearn: 1.0000000\ttotal: 1m 35s\tremaining: 0us\n",
      "0:\tlearn: 0.7322220\ttotal: 13.5ms\tremaining: 6.72s\n",
      "100:\tlearn: 0.7322220\ttotal: 1.6s\tremaining: 6.33s\n",
      "200:\tlearn: 0.7330660\ttotal: 3.2s\tremaining: 4.75s\n",
      "300:\tlearn: 0.7423507\ttotal: 4.79s\tremaining: 3.16s\n",
      "400:\tlearn: 0.7560667\ttotal: 6.39s\tremaining: 1.58s\n",
      "499:\tlearn: 0.7718928\ttotal: 7.95s\tremaining: 0us\n"
     ]
    },
    {
     "data": {
      "text/html": [
       "<style>#sk-container-id-3 {\n",
       "  /* Definition of color scheme common for light and dark mode */\n",
       "  --sklearn-color-text: #000;\n",
       "  --sklearn-color-text-muted: #666;\n",
       "  --sklearn-color-line: gray;\n",
       "  /* Definition of color scheme for unfitted estimators */\n",
       "  --sklearn-color-unfitted-level-0: #fff5e6;\n",
       "  --sklearn-color-unfitted-level-1: #f6e4d2;\n",
       "  --sklearn-color-unfitted-level-2: #ffe0b3;\n",
       "  --sklearn-color-unfitted-level-3: chocolate;\n",
       "  /* Definition of color scheme for fitted estimators */\n",
       "  --sklearn-color-fitted-level-0: #f0f8ff;\n",
       "  --sklearn-color-fitted-level-1: #d4ebff;\n",
       "  --sklearn-color-fitted-level-2: #b3dbfd;\n",
       "  --sklearn-color-fitted-level-3: cornflowerblue;\n",
       "\n",
       "  /* Specific color for light theme */\n",
       "  --sklearn-color-text-on-default-background: var(--sg-text-color, var(--theme-code-foreground, var(--jp-content-font-color1, black)));\n",
       "  --sklearn-color-background: var(--sg-background-color, var(--theme-background, var(--jp-layout-color0, white)));\n",
       "  --sklearn-color-border-box: var(--sg-text-color, var(--theme-code-foreground, var(--jp-content-font-color1, black)));\n",
       "  --sklearn-color-icon: #696969;\n",
       "\n",
       "  @media (prefers-color-scheme: dark) {\n",
       "    /* Redefinition of color scheme for dark theme */\n",
       "    --sklearn-color-text-on-default-background: var(--sg-text-color, var(--theme-code-foreground, var(--jp-content-font-color1, white)));\n",
       "    --sklearn-color-background: var(--sg-background-color, var(--theme-background, var(--jp-layout-color0, #111)));\n",
       "    --sklearn-color-border-box: var(--sg-text-color, var(--theme-code-foreground, var(--jp-content-font-color1, white)));\n",
       "    --sklearn-color-icon: #878787;\n",
       "  }\n",
       "}\n",
       "\n",
       "#sk-container-id-3 {\n",
       "  color: var(--sklearn-color-text);\n",
       "}\n",
       "\n",
       "#sk-container-id-3 pre {\n",
       "  padding: 0;\n",
       "}\n",
       "\n",
       "#sk-container-id-3 input.sk-hidden--visually {\n",
       "  border: 0;\n",
       "  clip: rect(1px 1px 1px 1px);\n",
       "  clip: rect(1px, 1px, 1px, 1px);\n",
       "  height: 1px;\n",
       "  margin: -1px;\n",
       "  overflow: hidden;\n",
       "  padding: 0;\n",
       "  position: absolute;\n",
       "  width: 1px;\n",
       "}\n",
       "\n",
       "#sk-container-id-3 div.sk-dashed-wrapped {\n",
       "  border: 1px dashed var(--sklearn-color-line);\n",
       "  margin: 0 0.4em 0.5em 0.4em;\n",
       "  box-sizing: border-box;\n",
       "  padding-bottom: 0.4em;\n",
       "  background-color: var(--sklearn-color-background);\n",
       "}\n",
       "\n",
       "#sk-container-id-3 div.sk-container {\n",
       "  /* jupyter's `normalize.less` sets `[hidden] { display: none; }`\n",
       "     but bootstrap.min.css set `[hidden] { display: none !important; }`\n",
       "     so we also need the `!important` here to be able to override the\n",
       "     default hidden behavior on the sphinx rendered scikit-learn.org.\n",
       "     See: https://github.com/scikit-learn/scikit-learn/issues/21755 */\n",
       "  display: inline-block !important;\n",
       "  position: relative;\n",
       "}\n",
       "\n",
       "#sk-container-id-3 div.sk-text-repr-fallback {\n",
       "  display: none;\n",
       "}\n",
       "\n",
       "div.sk-parallel-item,\n",
       "div.sk-serial,\n",
       "div.sk-item {\n",
       "  /* draw centered vertical line to link estimators */\n",
       "  background-image: linear-gradient(var(--sklearn-color-text-on-default-background), var(--sklearn-color-text-on-default-background));\n",
       "  background-size: 2px 100%;\n",
       "  background-repeat: no-repeat;\n",
       "  background-position: center center;\n",
       "}\n",
       "\n",
       "/* Parallel-specific style estimator block */\n",
       "\n",
       "#sk-container-id-3 div.sk-parallel-item::after {\n",
       "  content: \"\";\n",
       "  width: 100%;\n",
       "  border-bottom: 2px solid var(--sklearn-color-text-on-default-background);\n",
       "  flex-grow: 1;\n",
       "}\n",
       "\n",
       "#sk-container-id-3 div.sk-parallel {\n",
       "  display: flex;\n",
       "  align-items: stretch;\n",
       "  justify-content: center;\n",
       "  background-color: var(--sklearn-color-background);\n",
       "  position: relative;\n",
       "}\n",
       "\n",
       "#sk-container-id-3 div.sk-parallel-item {\n",
       "  display: flex;\n",
       "  flex-direction: column;\n",
       "}\n",
       "\n",
       "#sk-container-id-3 div.sk-parallel-item:first-child::after {\n",
       "  align-self: flex-end;\n",
       "  width: 50%;\n",
       "}\n",
       "\n",
       "#sk-container-id-3 div.sk-parallel-item:last-child::after {\n",
       "  align-self: flex-start;\n",
       "  width: 50%;\n",
       "}\n",
       "\n",
       "#sk-container-id-3 div.sk-parallel-item:only-child::after {\n",
       "  width: 0;\n",
       "}\n",
       "\n",
       "/* Serial-specific style estimator block */\n",
       "\n",
       "#sk-container-id-3 div.sk-serial {\n",
       "  display: flex;\n",
       "  flex-direction: column;\n",
       "  align-items: center;\n",
       "  background-color: var(--sklearn-color-background);\n",
       "  padding-right: 1em;\n",
       "  padding-left: 1em;\n",
       "}\n",
       "\n",
       "\n",
       "/* Toggleable style: style used for estimator/Pipeline/ColumnTransformer box that is\n",
       "clickable and can be expanded/collapsed.\n",
       "- Pipeline and ColumnTransformer use this feature and define the default style\n",
       "- Estimators will overwrite some part of the style using the `sk-estimator` class\n",
       "*/\n",
       "\n",
       "/* Pipeline and ColumnTransformer style (default) */\n",
       "\n",
       "#sk-container-id-3 div.sk-toggleable {\n",
       "  /* Default theme specific background. It is overwritten whether we have a\n",
       "  specific estimator or a Pipeline/ColumnTransformer */\n",
       "  background-color: var(--sklearn-color-background);\n",
       "}\n",
       "\n",
       "/* Toggleable label */\n",
       "#sk-container-id-3 label.sk-toggleable__label {\n",
       "  cursor: pointer;\n",
       "  display: flex;\n",
       "  width: 100%;\n",
       "  margin-bottom: 0;\n",
       "  padding: 0.5em;\n",
       "  box-sizing: border-box;\n",
       "  text-align: center;\n",
       "  align-items: start;\n",
       "  justify-content: space-between;\n",
       "  gap: 0.5em;\n",
       "}\n",
       "\n",
       "#sk-container-id-3 label.sk-toggleable__label .caption {\n",
       "  font-size: 0.6rem;\n",
       "  font-weight: lighter;\n",
       "  color: var(--sklearn-color-text-muted);\n",
       "}\n",
       "\n",
       "#sk-container-id-3 label.sk-toggleable__label-arrow:before {\n",
       "  /* Arrow on the left of the label */\n",
       "  content: \"▸\";\n",
       "  float: left;\n",
       "  margin-right: 0.25em;\n",
       "  color: var(--sklearn-color-icon);\n",
       "}\n",
       "\n",
       "#sk-container-id-3 label.sk-toggleable__label-arrow:hover:before {\n",
       "  color: var(--sklearn-color-text);\n",
       "}\n",
       "\n",
       "/* Toggleable content - dropdown */\n",
       "\n",
       "#sk-container-id-3 div.sk-toggleable__content {\n",
       "  max-height: 0;\n",
       "  max-width: 0;\n",
       "  overflow: hidden;\n",
       "  text-align: left;\n",
       "  /* unfitted */\n",
       "  background-color: var(--sklearn-color-unfitted-level-0);\n",
       "}\n",
       "\n",
       "#sk-container-id-3 div.sk-toggleable__content.fitted {\n",
       "  /* fitted */\n",
       "  background-color: var(--sklearn-color-fitted-level-0);\n",
       "}\n",
       "\n",
       "#sk-container-id-3 div.sk-toggleable__content pre {\n",
       "  margin: 0.2em;\n",
       "  border-radius: 0.25em;\n",
       "  color: var(--sklearn-color-text);\n",
       "  /* unfitted */\n",
       "  background-color: var(--sklearn-color-unfitted-level-0);\n",
       "}\n",
       "\n",
       "#sk-container-id-3 div.sk-toggleable__content.fitted pre {\n",
       "  /* unfitted */\n",
       "  background-color: var(--sklearn-color-fitted-level-0);\n",
       "}\n",
       "\n",
       "#sk-container-id-3 input.sk-toggleable__control:checked~div.sk-toggleable__content {\n",
       "  /* Expand drop-down */\n",
       "  max-height: 200px;\n",
       "  max-width: 100%;\n",
       "  overflow: auto;\n",
       "}\n",
       "\n",
       "#sk-container-id-3 input.sk-toggleable__control:checked~label.sk-toggleable__label-arrow:before {\n",
       "  content: \"▾\";\n",
       "}\n",
       "\n",
       "/* Pipeline/ColumnTransformer-specific style */\n",
       "\n",
       "#sk-container-id-3 div.sk-label input.sk-toggleable__control:checked~label.sk-toggleable__label {\n",
       "  color: var(--sklearn-color-text);\n",
       "  background-color: var(--sklearn-color-unfitted-level-2);\n",
       "}\n",
       "\n",
       "#sk-container-id-3 div.sk-label.fitted input.sk-toggleable__control:checked~label.sk-toggleable__label {\n",
       "  background-color: var(--sklearn-color-fitted-level-2);\n",
       "}\n",
       "\n",
       "/* Estimator-specific style */\n",
       "\n",
       "/* Colorize estimator box */\n",
       "#sk-container-id-3 div.sk-estimator input.sk-toggleable__control:checked~label.sk-toggleable__label {\n",
       "  /* unfitted */\n",
       "  background-color: var(--sklearn-color-unfitted-level-2);\n",
       "}\n",
       "\n",
       "#sk-container-id-3 div.sk-estimator.fitted input.sk-toggleable__control:checked~label.sk-toggleable__label {\n",
       "  /* fitted */\n",
       "  background-color: var(--sklearn-color-fitted-level-2);\n",
       "}\n",
       "\n",
       "#sk-container-id-3 div.sk-label label.sk-toggleable__label,\n",
       "#sk-container-id-3 div.sk-label label {\n",
       "  /* The background is the default theme color */\n",
       "  color: var(--sklearn-color-text-on-default-background);\n",
       "}\n",
       "\n",
       "/* On hover, darken the color of the background */\n",
       "#sk-container-id-3 div.sk-label:hover label.sk-toggleable__label {\n",
       "  color: var(--sklearn-color-text);\n",
       "  background-color: var(--sklearn-color-unfitted-level-2);\n",
       "}\n",
       "\n",
       "/* Label box, darken color on hover, fitted */\n",
       "#sk-container-id-3 div.sk-label.fitted:hover label.sk-toggleable__label.fitted {\n",
       "  color: var(--sklearn-color-text);\n",
       "  background-color: var(--sklearn-color-fitted-level-2);\n",
       "}\n",
       "\n",
       "/* Estimator label */\n",
       "\n",
       "#sk-container-id-3 div.sk-label label {\n",
       "  font-family: monospace;\n",
       "  font-weight: bold;\n",
       "  display: inline-block;\n",
       "  line-height: 1.2em;\n",
       "}\n",
       "\n",
       "#sk-container-id-3 div.sk-label-container {\n",
       "  text-align: center;\n",
       "}\n",
       "\n",
       "/* Estimator-specific */\n",
       "#sk-container-id-3 div.sk-estimator {\n",
       "  font-family: monospace;\n",
       "  border: 1px dotted var(--sklearn-color-border-box);\n",
       "  border-radius: 0.25em;\n",
       "  box-sizing: border-box;\n",
       "  margin-bottom: 0.5em;\n",
       "  /* unfitted */\n",
       "  background-color: var(--sklearn-color-unfitted-level-0);\n",
       "}\n",
       "\n",
       "#sk-container-id-3 div.sk-estimator.fitted {\n",
       "  /* fitted */\n",
       "  background-color: var(--sklearn-color-fitted-level-0);\n",
       "}\n",
       "\n",
       "/* on hover */\n",
       "#sk-container-id-3 div.sk-estimator:hover {\n",
       "  /* unfitted */\n",
       "  background-color: var(--sklearn-color-unfitted-level-2);\n",
       "}\n",
       "\n",
       "#sk-container-id-3 div.sk-estimator.fitted:hover {\n",
       "  /* fitted */\n",
       "  background-color: var(--sklearn-color-fitted-level-2);\n",
       "}\n",
       "\n",
       "/* Specification for estimator info (e.g. \"i\" and \"?\") */\n",
       "\n",
       "/* Common style for \"i\" and \"?\" */\n",
       "\n",
       ".sk-estimator-doc-link,\n",
       "a:link.sk-estimator-doc-link,\n",
       "a:visited.sk-estimator-doc-link {\n",
       "  float: right;\n",
       "  font-size: smaller;\n",
       "  line-height: 1em;\n",
       "  font-family: monospace;\n",
       "  background-color: var(--sklearn-color-background);\n",
       "  border-radius: 1em;\n",
       "  height: 1em;\n",
       "  width: 1em;\n",
       "  text-decoration: none !important;\n",
       "  margin-left: 0.5em;\n",
       "  text-align: center;\n",
       "  /* unfitted */\n",
       "  border: var(--sklearn-color-unfitted-level-1) 1pt solid;\n",
       "  color: var(--sklearn-color-unfitted-level-1);\n",
       "}\n",
       "\n",
       ".sk-estimator-doc-link.fitted,\n",
       "a:link.sk-estimator-doc-link.fitted,\n",
       "a:visited.sk-estimator-doc-link.fitted {\n",
       "  /* fitted */\n",
       "  border: var(--sklearn-color-fitted-level-1) 1pt solid;\n",
       "  color: var(--sklearn-color-fitted-level-1);\n",
       "}\n",
       "\n",
       "/* On hover */\n",
       "div.sk-estimator:hover .sk-estimator-doc-link:hover,\n",
       ".sk-estimator-doc-link:hover,\n",
       "div.sk-label-container:hover .sk-estimator-doc-link:hover,\n",
       ".sk-estimator-doc-link:hover {\n",
       "  /* unfitted */\n",
       "  background-color: var(--sklearn-color-unfitted-level-3);\n",
       "  color: var(--sklearn-color-background);\n",
       "  text-decoration: none;\n",
       "}\n",
       "\n",
       "div.sk-estimator.fitted:hover .sk-estimator-doc-link.fitted:hover,\n",
       ".sk-estimator-doc-link.fitted:hover,\n",
       "div.sk-label-container:hover .sk-estimator-doc-link.fitted:hover,\n",
       ".sk-estimator-doc-link.fitted:hover {\n",
       "  /* fitted */\n",
       "  background-color: var(--sklearn-color-fitted-level-3);\n",
       "  color: var(--sklearn-color-background);\n",
       "  text-decoration: none;\n",
       "}\n",
       "\n",
       "/* Span, style for the box shown on hovering the info icon */\n",
       ".sk-estimator-doc-link span {\n",
       "  display: none;\n",
       "  z-index: 9999;\n",
       "  position: relative;\n",
       "  font-weight: normal;\n",
       "  right: .2ex;\n",
       "  padding: .5ex;\n",
       "  margin: .5ex;\n",
       "  width: min-content;\n",
       "  min-width: 20ex;\n",
       "  max-width: 50ex;\n",
       "  color: var(--sklearn-color-text);\n",
       "  box-shadow: 2pt 2pt 4pt #999;\n",
       "  /* unfitted */\n",
       "  background: var(--sklearn-color-unfitted-level-0);\n",
       "  border: .5pt solid var(--sklearn-color-unfitted-level-3);\n",
       "}\n",
       "\n",
       ".sk-estimator-doc-link.fitted span {\n",
       "  /* fitted */\n",
       "  background: var(--sklearn-color-fitted-level-0);\n",
       "  border: var(--sklearn-color-fitted-level-3);\n",
       "}\n",
       "\n",
       ".sk-estimator-doc-link:hover span {\n",
       "  display: block;\n",
       "}\n",
       "\n",
       "/* \"?\"-specific style due to the `<a>` HTML tag */\n",
       "\n",
       "#sk-container-id-3 a.estimator_doc_link {\n",
       "  float: right;\n",
       "  font-size: 1rem;\n",
       "  line-height: 1em;\n",
       "  font-family: monospace;\n",
       "  background-color: var(--sklearn-color-background);\n",
       "  border-radius: 1rem;\n",
       "  height: 1rem;\n",
       "  width: 1rem;\n",
       "  text-decoration: none;\n",
       "  /* unfitted */\n",
       "  color: var(--sklearn-color-unfitted-level-1);\n",
       "  border: var(--sklearn-color-unfitted-level-1) 1pt solid;\n",
       "}\n",
       "\n",
       "#sk-container-id-3 a.estimator_doc_link.fitted {\n",
       "  /* fitted */\n",
       "  border: var(--sklearn-color-fitted-level-1) 1pt solid;\n",
       "  color: var(--sklearn-color-fitted-level-1);\n",
       "}\n",
       "\n",
       "/* On hover */\n",
       "#sk-container-id-3 a.estimator_doc_link:hover {\n",
       "  /* unfitted */\n",
       "  background-color: var(--sklearn-color-unfitted-level-3);\n",
       "  color: var(--sklearn-color-background);\n",
       "  text-decoration: none;\n",
       "}\n",
       "\n",
       "#sk-container-id-3 a.estimator_doc_link.fitted:hover {\n",
       "  /* fitted */\n",
       "  background-color: var(--sklearn-color-fitted-level-3);\n",
       "}\n",
       "</style><div id=\"sk-container-id-3\" class=\"sk-top-container\"><div class=\"sk-text-repr-fallback\"><pre>GridSearchCV(cv=3,\n",
       "             estimator=&lt;catboost.core.CatBoostClassifier object at 0x306619550&gt;,\n",
       "             param_grid={&#x27;depth&#x27;: [1, 3, 5, 7, 9],\n",
       "                         &#x27;learning_rate&#x27;: array([0.05, 0.1 , 0.15, 0.2 , 0.25, 0.3 ]),\n",
       "                         &#x27;loss_function&#x27;: [&#x27;MultiClass&#x27;, &#x27;MultiClassOneVsAll&#x27;]},\n",
       "             scoring=&#x27;accuracy&#x27;)</pre><b>In a Jupyter environment, please rerun this cell to show the HTML representation or trust the notebook. <br />On GitHub, the HTML representation is unable to render, please try loading this page with nbviewer.org.</b></div><div class=\"sk-container\" hidden><div class=\"sk-item sk-dashed-wrapped\"><div class=\"sk-label-container\"><div class=\"sk-label fitted sk-toggleable\"><input class=\"sk-toggleable__control sk-hidden--visually\" id=\"sk-estimator-id-7\" type=\"checkbox\" ><label for=\"sk-estimator-id-7\" class=\"sk-toggleable__label fitted sk-toggleable__label-arrow\"><div><div>GridSearchCV</div></div><div><a class=\"sk-estimator-doc-link fitted\" rel=\"noreferrer\" target=\"_blank\" href=\"https://scikit-learn.org/1.6/modules/generated/sklearn.model_selection.GridSearchCV.html\">?<span>Documentation for GridSearchCV</span></a><span class=\"sk-estimator-doc-link fitted\">i<span>Fitted</span></span></div></label><div class=\"sk-toggleable__content fitted\"><pre>GridSearchCV(cv=3,\n",
       "             estimator=&lt;catboost.core.CatBoostClassifier object at 0x306619550&gt;,\n",
       "             param_grid={&#x27;depth&#x27;: [1, 3, 5, 7, 9],\n",
       "                         &#x27;learning_rate&#x27;: array([0.05, 0.1 , 0.15, 0.2 , 0.25, 0.3 ]),\n",
       "                         &#x27;loss_function&#x27;: [&#x27;MultiClass&#x27;, &#x27;MultiClassOneVsAll&#x27;]},\n",
       "             scoring=&#x27;accuracy&#x27;)</pre></div> </div></div><div class=\"sk-parallel\"><div class=\"sk-parallel-item\"><div class=\"sk-item\"><div class=\"sk-label-container\"><div class=\"sk-label fitted sk-toggleable\"><input class=\"sk-toggleable__control sk-hidden--visually\" id=\"sk-estimator-id-8\" type=\"checkbox\" ><label for=\"sk-estimator-id-8\" class=\"sk-toggleable__label fitted sk-toggleable__label-arrow\"><div><div>best_estimator_: CatBoostClassifier</div></div></label><div class=\"sk-toggleable__content fitted\"><pre>&lt;catboost.core.CatBoostClassifier object at 0x3029cde50&gt;</pre></div> </div></div><div class=\"sk-serial\"><div class=\"sk-item\"><div class=\"sk-estimator fitted sk-toggleable\"><input class=\"sk-toggleable__control sk-hidden--visually\" id=\"sk-estimator-id-9\" type=\"checkbox\" ><label for=\"sk-estimator-id-9\" class=\"sk-toggleable__label fitted sk-toggleable__label-arrow\"><div><div>CatBoostClassifier</div></div></label><div class=\"sk-toggleable__content fitted\"><pre>&lt;catboost.core.CatBoostClassifier object at 0x3029cde50&gt;</pre></div> </div></div></div></div></div></div></div></div></div>"
      ],
      "text/plain": [
       "GridSearchCV(cv=3,\n",
       "             estimator=<catboost.core.CatBoostClassifier object at 0x306619550>,\n",
       "             param_grid={'depth': [1, 3, 5, 7, 9],\n",
       "                         'learning_rate': array([0.05, 0.1 , 0.15, 0.2 , 0.25, 0.3 ]),\n",
       "                         'loss_function': ['MultiClass', 'MultiClassOneVsAll']},\n",
       "             scoring='accuracy')"
      ]
     },
     "execution_count": 64,
     "metadata": {},
     "output_type": "execute_result"
    }
   ],
   "source": [
    "grid = {\n",
    "    'depth':list(range(1, 11, 2)),\n",
    "    'learning_rate': np.array(range(5, 35, 5))/100,\n",
    "    'loss_function':['MultiClass','MultiClassOneVsAll'],\n",
    "}\n",
    "\n",
    "model = CatBoostClassifier(\n",
    "    iterations=500,\n",
    "    eval_metric='Accuracy',\n",
    "    verbose=100 # control how often the model will print out output - e.g. when verbose is set to 50 = every 50 iteretion print out current status\n",
    ")\n",
    "\n",
    "grid_search = GridSearchCV(estimator=model, param_grid=grid, cv=3, scoring='accuracy')\n",
    "grid_search.fit(X_train, y_train)\n",
    "\n",
    "#model.fit(X_train, y_train, eval_set=(X_test, y_test))"
   ]
  },
  {
   "cell_type": "code",
   "execution_count": 72,
   "metadata": {},
   "outputs": [
    {
     "name": "stdout",
     "output_type": "stream",
     "text": [
      "best params: {'depth': 5, 'learning_rate': np.float64(0.05), 'loss_function': 'MultiClass'}\n",
      "best accuracy: 0.7341213661373032\n"
     ]
    }
   ],
   "source": [
    "print(f'best params: {grid_search.best_params_}')\n",
    "print(f'best accuracy: {grid_search.best_score_}')"
   ]
  },
  {
   "cell_type": "code",
   "execution_count": 130,
   "metadata": {},
   "outputs": [
    {
     "data": {
      "application/vnd.plotly.v1+json": {
       "config": {
        "plotlyServerURL": "https://plot.ly"
       },
       "data": [
        {
         "hovertemplate": "Importance=%{x}<br>Feature=%{y}<extra></extra>",
         "legendgroup": "",
         "marker": {
          "color": "#636efa",
          "pattern": {
           "shape": ""
          }
         },
         "name": "",
         "orientation": "h",
         "showlegend": false,
         "textposition": "auto",
         "type": "bar",
         "x": {
          "bdata": "yojB9WH9+D/aatAuFdv4P4W7xkZl9/c/frYpRnzu8j/cEMZ7wYPwP0w+RBBEveo/d787ok1x6j+pR3h48QHqP0Ht8ny3COc/eGyD9A6E5j8=",
          "dtype": "f8"
         },
         "xaxis": "x",
         "y": [
          "year",
          "day",
          "weekday",
          "hour",
          "investments-retirement_savings",
          "atlas_vzorek-2023",
          "co_fre_online-obleceni_rok",
          "income_situation_new-save_3months",
          "mobile_games-often",
          "weekend_place-diverse"
         ],
         "yaxis": "y"
        }
       ],
       "layout": {
        "barmode": "relative",
        "legend": {
         "tracegroupgap": 0
        },
        "template": {
         "data": {
          "bar": [
           {
            "error_x": {
             "color": "#2a3f5f"
            },
            "error_y": {
             "color": "#2a3f5f"
            },
            "marker": {
             "line": {
              "color": "#E5ECF6",
              "width": 0.5
             },
             "pattern": {
              "fillmode": "overlay",
              "size": 10,
              "solidity": 0.2
             }
            },
            "type": "bar"
           }
          ],
          "barpolar": [
           {
            "marker": {
             "line": {
              "color": "#E5ECF6",
              "width": 0.5
             },
             "pattern": {
              "fillmode": "overlay",
              "size": 10,
              "solidity": 0.2
             }
            },
            "type": "barpolar"
           }
          ],
          "carpet": [
           {
            "aaxis": {
             "endlinecolor": "#2a3f5f",
             "gridcolor": "white",
             "linecolor": "white",
             "minorgridcolor": "white",
             "startlinecolor": "#2a3f5f"
            },
            "baxis": {
             "endlinecolor": "#2a3f5f",
             "gridcolor": "white",
             "linecolor": "white",
             "minorgridcolor": "white",
             "startlinecolor": "#2a3f5f"
            },
            "type": "carpet"
           }
          ],
          "choropleth": [
           {
            "colorbar": {
             "outlinewidth": 0,
             "ticks": ""
            },
            "type": "choropleth"
           }
          ],
          "contour": [
           {
            "colorbar": {
             "outlinewidth": 0,
             "ticks": ""
            },
            "colorscale": [
             [
              0,
              "#0d0887"
             ],
             [
              0.1111111111111111,
              "#46039f"
             ],
             [
              0.2222222222222222,
              "#7201a8"
             ],
             [
              0.3333333333333333,
              "#9c179e"
             ],
             [
              0.4444444444444444,
              "#bd3786"
             ],
             [
              0.5555555555555556,
              "#d8576b"
             ],
             [
              0.6666666666666666,
              "#ed7953"
             ],
             [
              0.7777777777777778,
              "#fb9f3a"
             ],
             [
              0.8888888888888888,
              "#fdca26"
             ],
             [
              1,
              "#f0f921"
             ]
            ],
            "type": "contour"
           }
          ],
          "contourcarpet": [
           {
            "colorbar": {
             "outlinewidth": 0,
             "ticks": ""
            },
            "type": "contourcarpet"
           }
          ],
          "heatmap": [
           {
            "colorbar": {
             "outlinewidth": 0,
             "ticks": ""
            },
            "colorscale": [
             [
              0,
              "#0d0887"
             ],
             [
              0.1111111111111111,
              "#46039f"
             ],
             [
              0.2222222222222222,
              "#7201a8"
             ],
             [
              0.3333333333333333,
              "#9c179e"
             ],
             [
              0.4444444444444444,
              "#bd3786"
             ],
             [
              0.5555555555555556,
              "#d8576b"
             ],
             [
              0.6666666666666666,
              "#ed7953"
             ],
             [
              0.7777777777777778,
              "#fb9f3a"
             ],
             [
              0.8888888888888888,
              "#fdca26"
             ],
             [
              1,
              "#f0f921"
             ]
            ],
            "type": "heatmap"
           }
          ],
          "histogram": [
           {
            "marker": {
             "pattern": {
              "fillmode": "overlay",
              "size": 10,
              "solidity": 0.2
             }
            },
            "type": "histogram"
           }
          ],
          "histogram2d": [
           {
            "colorbar": {
             "outlinewidth": 0,
             "ticks": ""
            },
            "colorscale": [
             [
              0,
              "#0d0887"
             ],
             [
              0.1111111111111111,
              "#46039f"
             ],
             [
              0.2222222222222222,
              "#7201a8"
             ],
             [
              0.3333333333333333,
              "#9c179e"
             ],
             [
              0.4444444444444444,
              "#bd3786"
             ],
             [
              0.5555555555555556,
              "#d8576b"
             ],
             [
              0.6666666666666666,
              "#ed7953"
             ],
             [
              0.7777777777777778,
              "#fb9f3a"
             ],
             [
              0.8888888888888888,
              "#fdca26"
             ],
             [
              1,
              "#f0f921"
             ]
            ],
            "type": "histogram2d"
           }
          ],
          "histogram2dcontour": [
           {
            "colorbar": {
             "outlinewidth": 0,
             "ticks": ""
            },
            "colorscale": [
             [
              0,
              "#0d0887"
             ],
             [
              0.1111111111111111,
              "#46039f"
             ],
             [
              0.2222222222222222,
              "#7201a8"
             ],
             [
              0.3333333333333333,
              "#9c179e"
             ],
             [
              0.4444444444444444,
              "#bd3786"
             ],
             [
              0.5555555555555556,
              "#d8576b"
             ],
             [
              0.6666666666666666,
              "#ed7953"
             ],
             [
              0.7777777777777778,
              "#fb9f3a"
             ],
             [
              0.8888888888888888,
              "#fdca26"
             ],
             [
              1,
              "#f0f921"
             ]
            ],
            "type": "histogram2dcontour"
           }
          ],
          "mesh3d": [
           {
            "colorbar": {
             "outlinewidth": 0,
             "ticks": ""
            },
            "type": "mesh3d"
           }
          ],
          "parcoords": [
           {
            "line": {
             "colorbar": {
              "outlinewidth": 0,
              "ticks": ""
             }
            },
            "type": "parcoords"
           }
          ],
          "pie": [
           {
            "automargin": true,
            "type": "pie"
           }
          ],
          "scatter": [
           {
            "fillpattern": {
             "fillmode": "overlay",
             "size": 10,
             "solidity": 0.2
            },
            "type": "scatter"
           }
          ],
          "scatter3d": [
           {
            "line": {
             "colorbar": {
              "outlinewidth": 0,
              "ticks": ""
             }
            },
            "marker": {
             "colorbar": {
              "outlinewidth": 0,
              "ticks": ""
             }
            },
            "type": "scatter3d"
           }
          ],
          "scattercarpet": [
           {
            "marker": {
             "colorbar": {
              "outlinewidth": 0,
              "ticks": ""
             }
            },
            "type": "scattercarpet"
           }
          ],
          "scattergeo": [
           {
            "marker": {
             "colorbar": {
              "outlinewidth": 0,
              "ticks": ""
             }
            },
            "type": "scattergeo"
           }
          ],
          "scattergl": [
           {
            "marker": {
             "colorbar": {
              "outlinewidth": 0,
              "ticks": ""
             }
            },
            "type": "scattergl"
           }
          ],
          "scattermap": [
           {
            "marker": {
             "colorbar": {
              "outlinewidth": 0,
              "ticks": ""
             }
            },
            "type": "scattermap"
           }
          ],
          "scattermapbox": [
           {
            "marker": {
             "colorbar": {
              "outlinewidth": 0,
              "ticks": ""
             }
            },
            "type": "scattermapbox"
           }
          ],
          "scatterpolar": [
           {
            "marker": {
             "colorbar": {
              "outlinewidth": 0,
              "ticks": ""
             }
            },
            "type": "scatterpolar"
           }
          ],
          "scatterpolargl": [
           {
            "marker": {
             "colorbar": {
              "outlinewidth": 0,
              "ticks": ""
             }
            },
            "type": "scatterpolargl"
           }
          ],
          "scatterternary": [
           {
            "marker": {
             "colorbar": {
              "outlinewidth": 0,
              "ticks": ""
             }
            },
            "type": "scatterternary"
           }
          ],
          "surface": [
           {
            "colorbar": {
             "outlinewidth": 0,
             "ticks": ""
            },
            "colorscale": [
             [
              0,
              "#0d0887"
             ],
             [
              0.1111111111111111,
              "#46039f"
             ],
             [
              0.2222222222222222,
              "#7201a8"
             ],
             [
              0.3333333333333333,
              "#9c179e"
             ],
             [
              0.4444444444444444,
              "#bd3786"
             ],
             [
              0.5555555555555556,
              "#d8576b"
             ],
             [
              0.6666666666666666,
              "#ed7953"
             ],
             [
              0.7777777777777778,
              "#fb9f3a"
             ],
             [
              0.8888888888888888,
              "#fdca26"
             ],
             [
              1,
              "#f0f921"
             ]
            ],
            "type": "surface"
           }
          ],
          "table": [
           {
            "cells": {
             "fill": {
              "color": "#EBF0F8"
             },
             "line": {
              "color": "white"
             }
            },
            "header": {
             "fill": {
              "color": "#C8D4E3"
             },
             "line": {
              "color": "white"
             }
            },
            "type": "table"
           }
          ]
         },
         "layout": {
          "annotationdefaults": {
           "arrowcolor": "#2a3f5f",
           "arrowhead": 0,
           "arrowwidth": 1
          },
          "autotypenumbers": "strict",
          "coloraxis": {
           "colorbar": {
            "outlinewidth": 0,
            "ticks": ""
           }
          },
          "colorscale": {
           "diverging": [
            [
             0,
             "#8e0152"
            ],
            [
             0.1,
             "#c51b7d"
            ],
            [
             0.2,
             "#de77ae"
            ],
            [
             0.3,
             "#f1b6da"
            ],
            [
             0.4,
             "#fde0ef"
            ],
            [
             0.5,
             "#f7f7f7"
            ],
            [
             0.6,
             "#e6f5d0"
            ],
            [
             0.7,
             "#b8e186"
            ],
            [
             0.8,
             "#7fbc41"
            ],
            [
             0.9,
             "#4d9221"
            ],
            [
             1,
             "#276419"
            ]
           ],
           "sequential": [
            [
             0,
             "#0d0887"
            ],
            [
             0.1111111111111111,
             "#46039f"
            ],
            [
             0.2222222222222222,
             "#7201a8"
            ],
            [
             0.3333333333333333,
             "#9c179e"
            ],
            [
             0.4444444444444444,
             "#bd3786"
            ],
            [
             0.5555555555555556,
             "#d8576b"
            ],
            [
             0.6666666666666666,
             "#ed7953"
            ],
            [
             0.7777777777777778,
             "#fb9f3a"
            ],
            [
             0.8888888888888888,
             "#fdca26"
            ],
            [
             1,
             "#f0f921"
            ]
           ],
           "sequentialminus": [
            [
             0,
             "#0d0887"
            ],
            [
             0.1111111111111111,
             "#46039f"
            ],
            [
             0.2222222222222222,
             "#7201a8"
            ],
            [
             0.3333333333333333,
             "#9c179e"
            ],
            [
             0.4444444444444444,
             "#bd3786"
            ],
            [
             0.5555555555555556,
             "#d8576b"
            ],
            [
             0.6666666666666666,
             "#ed7953"
            ],
            [
             0.7777777777777778,
             "#fb9f3a"
            ],
            [
             0.8888888888888888,
             "#fdca26"
            ],
            [
             1,
             "#f0f921"
            ]
           ]
          },
          "colorway": [
           "#636efa",
           "#EF553B",
           "#00cc96",
           "#ab63fa",
           "#FFA15A",
           "#19d3f3",
           "#FF6692",
           "#B6E880",
           "#FF97FF",
           "#FECB52"
          ],
          "font": {
           "color": "#2a3f5f"
          },
          "geo": {
           "bgcolor": "white",
           "lakecolor": "white",
           "landcolor": "#E5ECF6",
           "showlakes": true,
           "showland": true,
           "subunitcolor": "white"
          },
          "hoverlabel": {
           "align": "left"
          },
          "hovermode": "closest",
          "mapbox": {
           "style": "light"
          },
          "paper_bgcolor": "white",
          "plot_bgcolor": "#E5ECF6",
          "polar": {
           "angularaxis": {
            "gridcolor": "white",
            "linecolor": "white",
            "ticks": ""
           },
           "bgcolor": "#E5ECF6",
           "radialaxis": {
            "gridcolor": "white",
            "linecolor": "white",
            "ticks": ""
           }
          },
          "scene": {
           "xaxis": {
            "backgroundcolor": "#E5ECF6",
            "gridcolor": "white",
            "gridwidth": 2,
            "linecolor": "white",
            "showbackground": true,
            "ticks": "",
            "zerolinecolor": "white"
           },
           "yaxis": {
            "backgroundcolor": "#E5ECF6",
            "gridcolor": "white",
            "gridwidth": 2,
            "linecolor": "white",
            "showbackground": true,
            "ticks": "",
            "zerolinecolor": "white"
           },
           "zaxis": {
            "backgroundcolor": "#E5ECF6",
            "gridcolor": "white",
            "gridwidth": 2,
            "linecolor": "white",
            "showbackground": true,
            "ticks": "",
            "zerolinecolor": "white"
           }
          },
          "shapedefaults": {
           "line": {
            "color": "#2a3f5f"
           }
          },
          "ternary": {
           "aaxis": {
            "gridcolor": "white",
            "linecolor": "white",
            "ticks": ""
           },
           "baxis": {
            "gridcolor": "white",
            "linecolor": "white",
            "ticks": ""
           },
           "bgcolor": "#E5ECF6",
           "caxis": {
            "gridcolor": "white",
            "linecolor": "white",
            "ticks": ""
           }
          },
          "title": {
           "x": 0.05
          },
          "xaxis": {
           "automargin": true,
           "gridcolor": "white",
           "linecolor": "white",
           "ticks": "",
           "title": {
            "standoff": 15
           },
           "zerolinecolor": "white",
           "zerolinewidth": 2
          },
          "yaxis": {
           "automargin": true,
           "gridcolor": "white",
           "linecolor": "white",
           "ticks": "",
           "title": {
            "standoff": 15
           },
           "zerolinecolor": "white",
           "zerolinewidth": 2
          }
         }
        },
        "title": {
         "text": "Top 20 Feature Importances"
        },
        "xaxis": {
         "anchor": "y",
         "domain": [
          0,
          1
         ],
         "title": {
          "text": "Importance"
         }
        },
        "yaxis": {
         "anchor": "x",
         "domain": [
          0,
          1
         ],
         "title": {
          "text": "Feature"
         }
        }
       }
      }
     },
     "metadata": {},
     "output_type": "display_data"
    }
   ],
   "source": [
    "# Get importance values\n",
    "importances = model.get_feature_importance()\n",
    "feature_names = X_train.columns\n",
    "\n",
    "# Combine into DataFrame\n",
    "feature_importance_df = pd.DataFrame({\n",
    "    'Feature': feature_names,\n",
    "    'Importance': importances\n",
    "}).sort_values(by='Importance', ascending=False)\n",
    "\n",
    "fig = px.bar(feature_importance_df.head(10), x='Importance', y='Feature', title='Top 20 Feature Importances')\n",
    "fig.show()"
   ]
  }
 ],
 "metadata": {
  "kernelspec": {
   "display_name": "dp_env",
   "language": "python",
   "name": "python3"
  },
  "language_info": {
   "codemirror_mode": {
    "name": "ipython",
    "version": 3
   },
   "file_extension": ".py",
   "mimetype": "text/x-python",
   "name": "python",
   "nbconvert_exporter": "python",
   "pygments_lexer": "ipython3",
   "version": "3.9.13"
  }
 },
 "nbformat": 4,
 "nbformat_minor": 2
}
