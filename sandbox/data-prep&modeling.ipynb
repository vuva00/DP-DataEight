{
 "cells": [
  {
   "cell_type": "code",
   "execution_count": 244,
   "metadata": {},
   "outputs": [],
   "source": [
    "import numpy as np\n",
    "import pandas as pd\n",
    "import plotly.express as px\n",
    "from datetime import datetime as dt\n",
    "\n",
    "from xgboost import XGBClassifier\n",
    "import xgboost as xgb\n",
    "\n",
    "from sklearn.model_selection import train_test_split\n",
    "from sklearn.metrics import classification_report, accuracy_score\n",
    "from sklearn.model_selection import GridSearchCV, RandomizedSearchCV\n",
    "from sklearn.linear_model import LogisticRegression\n",
    "from sklearn.tree import DecisionTreeClassifier\n",
    "from sklearn.ensemble import RandomForestClassifier \n",
    "\n",
    "from catboost import CatBoostClassifier\n"
   ]
  },
  {
   "cell_type": "markdown",
   "metadata": {},
   "source": [
    "# Read Data"
   ]
  },
  {
   "cell_type": "code",
   "execution_count": 181,
   "metadata": {},
   "outputs": [],
   "source": [
    "df_credits = pd.read_csv('../data/User Credits Student Access.csv', encoding='utf-8')\n",
    "df_atlas = pd.read_csv('../data/Atlas Cechu Student Access.csv', encoding='utf-8')\n",
    "df_payments = pd.read_csv('../data/Payments Student Access.csv', encoding='utf-8')"
   ]
  },
  {
   "cell_type": "code",
   "execution_count": 150,
   "metadata": {},
   "outputs": [
    {
     "data": {
      "text/html": [
       "<div>\n",
       "<style scoped>\n",
       "    .dataframe tbody tr th:only-of-type {\n",
       "        vertical-align: middle;\n",
       "    }\n",
       "\n",
       "    .dataframe tbody tr th {\n",
       "        vertical-align: top;\n",
       "    }\n",
       "\n",
       "    .dataframe thead th {\n",
       "        text-align: right;\n",
       "    }\n",
       "</style>\n",
       "<table border=\"1\" class=\"dataframe\">\n",
       "  <thead>\n",
       "    <tr style=\"text-align: right;\">\n",
       "      <th></th>\n",
       "      <th>id</th>\n",
       "      <th>created_at</th>\n",
       "      <th>changed_at</th>\n",
       "      <th>user</th>\n",
       "      <th>batch</th>\n",
       "      <th>credits</th>\n",
       "      <th>state</th>\n",
       "      <th>type</th>\n",
       "    </tr>\n",
       "  </thead>\n",
       "  <tbody>\n",
       "    <tr>\n",
       "      <th>1572</th>\n",
       "      <td>28545.0</td>\n",
       "      <td>2025-03-03 14:18:05.497799+00:00</td>\n",
       "      <td>2025-04-04 00:15:42.107009+00:00</td>\n",
       "      <td>NaN</td>\n",
       "      <td>NaN</td>\n",
       "      <td>693.0</td>\n",
       "      <td>APPROVED</td>\n",
       "      <td>MEDICINS_SANS_FRONTIERS</td>\n",
       "    </tr>\n",
       "    <tr>\n",
       "      <th>2093</th>\n",
       "      <td>28024.0</td>\n",
       "      <td>2025-02-18 09:46:31.403111+00:00</td>\n",
       "      <td>2025-03-31 00:15:56.283352+00:00</td>\n",
       "      <td>NaN</td>\n",
       "      <td>285</td>\n",
       "      <td>505.0</td>\n",
       "      <td>PAID</td>\n",
       "      <td>MONEY</td>\n",
       "    </tr>\n",
       "    <tr>\n",
       "      <th>2740</th>\n",
       "      <td>27377.0</td>\n",
       "      <td>2025-02-02 13:16:34.341371+00:00</td>\n",
       "      <td>2025-03-09 01:18:13.861829+00:00</td>\n",
       "      <td>NaN</td>\n",
       "      <td>281</td>\n",
       "      <td>506.0</td>\n",
       "      <td>PAID</td>\n",
       "      <td>MONEY</td>\n",
       "    </tr>\n",
       "    <tr>\n",
       "      <th>3095</th>\n",
       "      <td>27022.0</td>\n",
       "      <td>2025-01-24 12:28:51.076215+00:00</td>\n",
       "      <td>2025-03-22 01:17:47.235645+00:00</td>\n",
       "      <td>NaN</td>\n",
       "      <td>280</td>\n",
       "      <td>505.0</td>\n",
       "      <td>PAID</td>\n",
       "      <td>MONEY</td>\n",
       "    </tr>\n",
       "    <tr>\n",
       "      <th>3501</th>\n",
       "      <td>26616.0</td>\n",
       "      <td>2025-01-12 20:28:30.111860+00:00</td>\n",
       "      <td>2025-02-16 01:15:56.035881+00:00</td>\n",
       "      <td>NaN</td>\n",
       "      <td>278</td>\n",
       "      <td>525.0</td>\n",
       "      <td>PAID</td>\n",
       "      <td>MONEY</td>\n",
       "    </tr>\n",
       "    <tr>\n",
       "      <th>...</th>\n",
       "      <td>...</td>\n",
       "      <td>...</td>\n",
       "      <td>...</td>\n",
       "      <td>...</td>\n",
       "      <td>...</td>\n",
       "      <td>...</td>\n",
       "      <td>...</td>\n",
       "      <td>...</td>\n",
       "    </tr>\n",
       "    <tr>\n",
       "      <th>30072</th>\n",
       "      <td>44.0</td>\n",
       "      <td>2017-08-19 21:56:31.771008+00:00</td>\n",
       "      <td>2024-01-10 17:31:11.673796+00:00</td>\n",
       "      <td>NaN</td>\n",
       "      <td>5</td>\n",
       "      <td>526.0</td>\n",
       "      <td>PAID</td>\n",
       "      <td>MONEY</td>\n",
       "    </tr>\n",
       "    <tr>\n",
       "      <th>30074</th>\n",
       "      <td>42.0</td>\n",
       "      <td>2017-08-13 20:27:00.570002+00:00</td>\n",
       "      <td>2024-01-10 17:31:11.696886+00:00</td>\n",
       "      <td>NaN</td>\n",
       "      <td>5</td>\n",
       "      <td>531.0</td>\n",
       "      <td>PAID</td>\n",
       "      <td>MONEY</td>\n",
       "    </tr>\n",
       "    <tr>\n",
       "      <th>30079</th>\n",
       "      <td>37.0</td>\n",
       "      <td>2017-08-11 21:11:51.521635+00:00</td>\n",
       "      <td>2024-01-10 17:31:11.778460+00:00</td>\n",
       "      <td>NaN</td>\n",
       "      <td>5</td>\n",
       "      <td>541.0</td>\n",
       "      <td>PAID</td>\n",
       "      <td>MONEY</td>\n",
       "    </tr>\n",
       "    <tr>\n",
       "      <th>30083</th>\n",
       "      <td>33.0</td>\n",
       "      <td>2017-08-11 03:05:08.659811+00:00</td>\n",
       "      <td>2024-12-22 01:16:00.780947+00:00</td>\n",
       "      <td>NaN</td>\n",
       "      <td>NaN</td>\n",
       "      <td>536.0</td>\n",
       "      <td>PAID</td>\n",
       "      <td>CHILDHOOD_HOME</td>\n",
       "    </tr>\n",
       "    <tr>\n",
       "      <th>30084</th>\n",
       "      <td>32.0</td>\n",
       "      <td>2017-08-10 22:31:33.619685+00:00</td>\n",
       "      <td>2024-01-10 17:31:11.864003+00:00</td>\n",
       "      <td>NaN</td>\n",
       "      <td>NaN</td>\n",
       "      <td>506.0</td>\n",
       "      <td>PAID</td>\n",
       "      <td>TRENDARO</td>\n",
       "    </tr>\n",
       "  </tbody>\n",
       "</table>\n",
       "<p>2333 rows × 8 columns</p>\n",
       "</div>"
      ],
      "text/plain": [
       "            id                        created_at  \\\n",
       "1572   28545.0  2025-03-03 14:18:05.497799+00:00   \n",
       "2093   28024.0  2025-02-18 09:46:31.403111+00:00   \n",
       "2740   27377.0  2025-02-02 13:16:34.341371+00:00   \n",
       "3095   27022.0  2025-01-24 12:28:51.076215+00:00   \n",
       "3501   26616.0  2025-01-12 20:28:30.111860+00:00   \n",
       "...        ...                               ...   \n",
       "30072     44.0  2017-08-19 21:56:31.771008+00:00   \n",
       "30074     42.0  2017-08-13 20:27:00.570002+00:00   \n",
       "30079     37.0  2017-08-11 21:11:51.521635+00:00   \n",
       "30083     33.0  2017-08-11 03:05:08.659811+00:00   \n",
       "30084     32.0  2017-08-10 22:31:33.619685+00:00   \n",
       "\n",
       "                             changed_at user batch  credits     state  \\\n",
       "1572   2025-04-04 00:15:42.107009+00:00  NaN   NaN    693.0  APPROVED   \n",
       "2093   2025-03-31 00:15:56.283352+00:00  NaN   285    505.0      PAID   \n",
       "2740   2025-03-09 01:18:13.861829+00:00  NaN   281    506.0      PAID   \n",
       "3095   2025-03-22 01:17:47.235645+00:00  NaN   280    505.0      PAID   \n",
       "3501   2025-02-16 01:15:56.035881+00:00  NaN   278    525.0      PAID   \n",
       "...                                 ...  ...   ...      ...       ...   \n",
       "30072  2024-01-10 17:31:11.673796+00:00  NaN     5    526.0      PAID   \n",
       "30074  2024-01-10 17:31:11.696886+00:00  NaN     5    531.0      PAID   \n",
       "30079  2024-01-10 17:31:11.778460+00:00  NaN     5    541.0      PAID   \n",
       "30083  2024-12-22 01:16:00.780947+00:00  NaN   NaN    536.0      PAID   \n",
       "30084  2024-01-10 17:31:11.864003+00:00  NaN   NaN    506.0      PAID   \n",
       "\n",
       "                          type  \n",
       "1572   MEDICINS_SANS_FRONTIERS  \n",
       "2093                     MONEY  \n",
       "2740                     MONEY  \n",
       "3095                     MONEY  \n",
       "3501                     MONEY  \n",
       "...                        ...  \n",
       "30072                    MONEY  \n",
       "30074                    MONEY  \n",
       "30079                    MONEY  \n",
       "30083           CHILDHOOD_HOME  \n",
       "30084                 TRENDARO  \n",
       "\n",
       "[2333 rows x 8 columns]"
      ]
     },
     "execution_count": 150,
     "metadata": {},
     "output_type": "execute_result"
    }
   ],
   "source": [
    "df_payments[(df_payments['user'].isna())&(df_payments['credits']>=500)]\n",
    "df_payments[(df_payments['user'].isna())&(df_payments['credits']<500)]\n",
    "df_payments[(df_payments['user'].isna())&(df_payments['credits'].isna())]\n",
    "\n",
    "df_payments[df_payments['id'].isnull()]"
   ]
  },
  {
   "cell_type": "code",
   "execution_count": 79,
   "metadata": {},
   "outputs": [
    {
     "data": {
      "text/plain": [
       "Index(['user_id', 'all_intro-2022', 'atlas_vzorek-2023', 'atlas_vzorek-2024',\n",
       "       'all_intro-trendaro_panel_all', 'sex-woman', 'sex-man', 'age-15_17',\n",
       "       'age-18_24', 'age-25_34',\n",
       "       ...\n",
       "       'check-tv', 'check-radio', 'check-household', 'check-overdraft',\n",
       "       'check-naramek', 'isic2_age-21_26', 'isic2_age-15_20', 'isic_age-15_17',\n",
       "       'isic_age-18_22', 'isic_age-23_26'],\n",
       "      dtype='object', length=1121)"
      ]
     },
     "execution_count": 79,
     "metadata": {},
     "output_type": "execute_result"
    }
   ],
   "source": [
    "df_atlas.columns"
   ]
  },
  {
   "cell_type": "code",
   "execution_count": 80,
   "metadata": {},
   "outputs": [
    {
     "data": {
      "text/html": [
       "<div>\n",
       "<style scoped>\n",
       "    .dataframe tbody tr th:only-of-type {\n",
       "        vertical-align: middle;\n",
       "    }\n",
       "\n",
       "    .dataframe tbody tr th {\n",
       "        vertical-align: top;\n",
       "    }\n",
       "\n",
       "    .dataframe thead th {\n",
       "        text-align: right;\n",
       "    }\n",
       "</style>\n",
       "<table border=\"1\" class=\"dataframe\">\n",
       "  <thead>\n",
       "    <tr style=\"text-align: right;\">\n",
       "      <th></th>\n",
       "      <th>user</th>\n",
       "      <th>credits</th>\n",
       "      <th>is_active</th>\n",
       "      <th>is_verified</th>\n",
       "      <th>is_locked</th>\n",
       "      <th>wage</th>\n",
       "    </tr>\n",
       "  </thead>\n",
       "  <tbody>\n",
       "    <tr>\n",
       "      <th>0</th>\n",
       "      <td>STUD66006</td>\n",
       "      <td>25</td>\n",
       "      <td>1</td>\n",
       "      <td>1</td>\n",
       "      <td>0</td>\n",
       "      <td>Peníze</td>\n",
       "    </tr>\n",
       "    <tr>\n",
       "      <th>1</th>\n",
       "      <td>STUD22095</td>\n",
       "      <td>51</td>\n",
       "      <td>1</td>\n",
       "      <td>1</td>\n",
       "      <td>0</td>\n",
       "      <td>Peníze</td>\n",
       "    </tr>\n",
       "    <tr>\n",
       "      <th>2</th>\n",
       "      <td>STUD77411</td>\n",
       "      <td>0</td>\n",
       "      <td>1</td>\n",
       "      <td>1</td>\n",
       "      <td>1</td>\n",
       "      <td>Peníze</td>\n",
       "    </tr>\n",
       "    <tr>\n",
       "      <th>3</th>\n",
       "      <td>STUD56329</td>\n",
       "      <td>0</td>\n",
       "      <td>1</td>\n",
       "      <td>0</td>\n",
       "      <td>0</td>\n",
       "      <td>NaN</td>\n",
       "    </tr>\n",
       "    <tr>\n",
       "      <th>4</th>\n",
       "      <td>STUD23516</td>\n",
       "      <td>30</td>\n",
       "      <td>1</td>\n",
       "      <td>1</td>\n",
       "      <td>0</td>\n",
       "      <td>Peníze</td>\n",
       "    </tr>\n",
       "    <tr>\n",
       "      <th>...</th>\n",
       "      <td>...</td>\n",
       "      <td>...</td>\n",
       "      <td>...</td>\n",
       "      <td>...</td>\n",
       "      <td>...</td>\n",
       "      <td>...</td>\n",
       "    </tr>\n",
       "    <tr>\n",
       "      <th>89906</th>\n",
       "      <td>STUD54678</td>\n",
       "      <td>789</td>\n",
       "      <td>1</td>\n",
       "      <td>1</td>\n",
       "      <td>0</td>\n",
       "      <td>Peníze</td>\n",
       "    </tr>\n",
       "    <tr>\n",
       "      <th>89907</th>\n",
       "      <td>STUD43709</td>\n",
       "      <td>0</td>\n",
       "      <td>0</td>\n",
       "      <td>1</td>\n",
       "      <td>0</td>\n",
       "      <td>NaN</td>\n",
       "    </tr>\n",
       "    <tr>\n",
       "      <th>89908</th>\n",
       "      <td>STUD21881</td>\n",
       "      <td>0</td>\n",
       "      <td>0</td>\n",
       "      <td>0</td>\n",
       "      <td>0</td>\n",
       "      <td>NaN</td>\n",
       "    </tr>\n",
       "    <tr>\n",
       "      <th>89909</th>\n",
       "      <td>STUD72037</td>\n",
       "      <td>16</td>\n",
       "      <td>1</td>\n",
       "      <td>1</td>\n",
       "      <td>0</td>\n",
       "      <td>Lékaři bez hranic</td>\n",
       "    </tr>\n",
       "    <tr>\n",
       "      <th>89910</th>\n",
       "      <td>STUD48405</td>\n",
       "      <td>996</td>\n",
       "      <td>1</td>\n",
       "      <td>1</td>\n",
       "      <td>0</td>\n",
       "      <td>Lékaři bez hranic</td>\n",
       "    </tr>\n",
       "  </tbody>\n",
       "</table>\n",
       "<p>89911 rows × 6 columns</p>\n",
       "</div>"
      ],
      "text/plain": [
       "            user  credits  is_active  is_verified  is_locked  \\\n",
       "0      STUD66006       25          1            1          0   \n",
       "1      STUD22095       51          1            1          0   \n",
       "2      STUD77411        0          1            1          1   \n",
       "3      STUD56329        0          1            0          0   \n",
       "4      STUD23516       30          1            1          0   \n",
       "...          ...      ...        ...          ...        ...   \n",
       "89906  STUD54678      789          1            1          0   \n",
       "89907  STUD43709        0          0            1          0   \n",
       "89908  STUD21881        0          0            0          0   \n",
       "89909  STUD72037       16          1            1          0   \n",
       "89910  STUD48405      996          1            1          0   \n",
       "\n",
       "                    wage  \n",
       "0                 Peníze  \n",
       "1                 Peníze  \n",
       "2                 Peníze  \n",
       "3                    NaN  \n",
       "4                 Peníze  \n",
       "...                  ...  \n",
       "89906             Peníze  \n",
       "89907                NaN  \n",
       "89908                NaN  \n",
       "89909  Lékaři bez hranic  \n",
       "89910  Lékaři bez hranic  \n",
       "\n",
       "[89911 rows x 6 columns]"
      ]
     },
     "execution_count": 80,
     "metadata": {},
     "output_type": "execute_result"
    }
   ],
   "source": [
    "df_credits"
   ]
  },
  {
   "cell_type": "markdown",
   "metadata": {},
   "source": [
    "# Negative Values investigation & Chekcing other things"
   ]
  },
  {
   "cell_type": "code",
   "execution_count": 81,
   "metadata": {},
   "outputs": [
    {
     "data": {
      "text/html": [
       "<div>\n",
       "<style scoped>\n",
       "    .dataframe tbody tr th:only-of-type {\n",
       "        vertical-align: middle;\n",
       "    }\n",
       "\n",
       "    .dataframe tbody tr th {\n",
       "        vertical-align: top;\n",
       "    }\n",
       "\n",
       "    .dataframe thead th {\n",
       "        text-align: right;\n",
       "    }\n",
       "</style>\n",
       "<table border=\"1\" class=\"dataframe\">\n",
       "  <thead>\n",
       "    <tr style=\"text-align: right;\">\n",
       "      <th></th>\n",
       "      <th>user</th>\n",
       "      <th>credits</th>\n",
       "      <th>is_active</th>\n",
       "      <th>is_verified</th>\n",
       "      <th>is_locked</th>\n",
       "      <th>wage</th>\n",
       "    </tr>\n",
       "  </thead>\n",
       "  <tbody>\n",
       "    <tr>\n",
       "      <th>89906</th>\n",
       "      <td>STUD54678</td>\n",
       "      <td>789</td>\n",
       "      <td>1</td>\n",
       "      <td>1</td>\n",
       "      <td>0</td>\n",
       "      <td>Peníze</td>\n",
       "    </tr>\n",
       "  </tbody>\n",
       "</table>\n",
       "</div>"
      ],
      "text/plain": [
       "            user  credits  is_active  is_verified  is_locked    wage\n",
       "89906  STUD54678      789          1            1          0  Peníze"
      ]
     },
     "execution_count": 81,
     "metadata": {},
     "output_type": "execute_result"
    }
   ],
   "source": [
    "df_c_negative = df_credits[df_credits['credits']<0]\n",
    "df_credits[df_credits.user.isin(df_c_negative.user) == True]\n",
    "\n",
    "# IDK what I'm doing with payments\n",
    "df_payments[df_payments.user.isin(df_c_negative.user)==True].sort_values(['user','created_at'])\n",
    "df_payments.state.unique()\n",
    "df_payments[df_payments.user=='STUD54678']\n",
    "df_credits[df_credits.user=='STUD54678']"
   ]
  },
  {
   "cell_type": "code",
   "execution_count": 133,
   "metadata": {},
   "outputs": [
    {
     "data": {
      "text/html": [
       "<div>\n",
       "<style scoped>\n",
       "    .dataframe tbody tr th:only-of-type {\n",
       "        vertical-align: middle;\n",
       "    }\n",
       "\n",
       "    .dataframe tbody tr th {\n",
       "        vertical-align: top;\n",
       "    }\n",
       "\n",
       "    .dataframe thead th {\n",
       "        text-align: right;\n",
       "    }\n",
       "</style>\n",
       "<table border=\"1\" class=\"dataframe\">\n",
       "  <thead>\n",
       "    <tr style=\"text-align: right;\">\n",
       "      <th></th>\n",
       "      <th>user</th>\n",
       "      <th>credits</th>\n",
       "      <th>is_active</th>\n",
       "      <th>is_verified</th>\n",
       "      <th>is_locked</th>\n",
       "      <th>wage</th>\n",
       "    </tr>\n",
       "  </thead>\n",
       "  <tbody>\n",
       "    <tr>\n",
       "      <th>15877</th>\n",
       "      <td>STUD26214</td>\n",
       "      <td>-416</td>\n",
       "      <td>1</td>\n",
       "      <td>1</td>\n",
       "      <td>0</td>\n",
       "      <td>Peníze</td>\n",
       "    </tr>\n",
       "    <tr>\n",
       "      <th>28959</th>\n",
       "      <td>STUD16141</td>\n",
       "      <td>-10</td>\n",
       "      <td>1</td>\n",
       "      <td>1</td>\n",
       "      <td>0</td>\n",
       "      <td>Peníze</td>\n",
       "    </tr>\n",
       "    <tr>\n",
       "      <th>71540</th>\n",
       "      <td>STUD91415</td>\n",
       "      <td>-452</td>\n",
       "      <td>1</td>\n",
       "      <td>1</td>\n",
       "      <td>0</td>\n",
       "      <td>Peníze</td>\n",
       "    </tr>\n",
       "    <tr>\n",
       "      <th>72659</th>\n",
       "      <td>STUD99479</td>\n",
       "      <td>-441</td>\n",
       "      <td>1</td>\n",
       "      <td>1</td>\n",
       "      <td>0</td>\n",
       "      <td>Peníze</td>\n",
       "    </tr>\n",
       "    <tr>\n",
       "      <th>73458</th>\n",
       "      <td>STUD10440</td>\n",
       "      <td>-4</td>\n",
       "      <td>1</td>\n",
       "      <td>1</td>\n",
       "      <td>0</td>\n",
       "      <td>Peníze</td>\n",
       "    </tr>\n",
       "  </tbody>\n",
       "</table>\n",
       "</div>"
      ],
      "text/plain": [
       "            user  credits  is_active  is_verified  is_locked    wage\n",
       "15877  STUD26214     -416          1            1          0  Peníze\n",
       "28959  STUD16141      -10          1            1          0  Peníze\n",
       "71540  STUD91415     -452          1            1          0  Peníze\n",
       "72659  STUD99479     -441          1            1          0  Peníze\n",
       "73458  STUD10440       -4          1            1          0  Peníze"
      ]
     },
     "execution_count": 133,
     "metadata": {},
     "output_type": "execute_result"
    }
   ],
   "source": [
    "df_c_negative # from df_credits"
   ]
  },
  {
   "cell_type": "code",
   "execution_count": 82,
   "metadata": {},
   "outputs": [
    {
     "name": "stdout",
     "output_type": "stream",
     "text": [
      "<class 'pandas.core.frame.DataFrame'>\n",
      "RangeIndex: 30087 entries, 0 to 30086\n",
      "Data columns (total 8 columns):\n",
      " #   Column      Non-Null Count  Dtype  \n",
      "---  ------      --------------  -----  \n",
      " 0   id          30086 non-null  float64\n",
      " 1   created_at  30087 non-null  object \n",
      " 2   changed_at  30087 non-null  object \n",
      " 3   user        27652 non-null  object \n",
      " 4   batch       27502 non-null  object \n",
      " 5   credits     30086 non-null  float64\n",
      " 6   state       30086 non-null  object \n",
      " 7   type        30086 non-null  object \n",
      "dtypes: float64(2), object(6)\n",
      "memory usage: 1.8+ MB\n"
     ]
    }
   ],
   "source": [
    "df_payments.info()"
   ]
  },
  {
   "cell_type": "markdown",
   "metadata": {},
   "source": [
    "# Data Cleaning"
   ]
  },
  {
   "cell_type": "code",
   "execution_count": 83,
   "metadata": {},
   "outputs": [
    {
     "data": {
      "text/plain": [
       "state\n",
       "CANCELLED    2000\n",
       "PAID            1\n",
       "dtype: int64"
      ]
     },
     "execution_count": 83,
     "metadata": {},
     "output_type": "execute_result"
    }
   ],
   "source": [
    "##### In the dataset we found out that in payments dataset values that are being cancelled has creadits = 0 and NaN user having credit 430 and still being PAID. However, that user doesn't have user_id\n",
    "\n",
    "df_payments[df_payments['credits']<500].groupby('state').size()"
   ]
  },
  {
   "cell_type": "code",
   "execution_count": 154,
   "metadata": {},
   "outputs": [],
   "source": [
    "df_credits_cleaned = df_credits[df_credits['credits']>0]\n",
    "\n",
    "\n",
    "\"\"\"\n",
    "df_payments_cleaned = df_payments[(df_payments['user'].isna())&(df_payments['credits']<500)]\n",
    "df_payments_cleaned = df_payments[(df_payments['user'].isna())&(df_payments['credits']>=500)]\n",
    "df_payments_cleaned[(df_payments['user'].isna())&(df_payments['credits'].isna())]\n",
    "\n",
    "-> everything cane be done using: df_payments_cleaned = df_payments[df_payments['user'].notna()]\n",
    "\n",
    "\"\"\"\n",
    "\n",
    "df_payments_cleaned = df_payments[df_payments['user'].notna()] # we threw out from payments 2345 observations\n"
   ]
  },
  {
   "cell_type": "code",
   "execution_count": 185,
   "metadata": {},
   "outputs": [
    {
     "data": {
      "text/html": [
       "<div>\n",
       "<style scoped>\n",
       "    .dataframe tbody tr th:only-of-type {\n",
       "        vertical-align: middle;\n",
       "    }\n",
       "\n",
       "    .dataframe tbody tr th {\n",
       "        vertical-align: top;\n",
       "    }\n",
       "\n",
       "    .dataframe thead th {\n",
       "        text-align: right;\n",
       "    }\n",
       "</style>\n",
       "<table border=\"1\" class=\"dataframe\">\n",
       "  <thead>\n",
       "    <tr style=\"text-align: right;\">\n",
       "      <th></th>\n",
       "      <th>id</th>\n",
       "      <th>created_at</th>\n",
       "      <th>changed_at</th>\n",
       "      <th>user</th>\n",
       "      <th>batch</th>\n",
       "      <th>credits</th>\n",
       "      <th>state</th>\n",
       "      <th>type</th>\n",
       "    </tr>\n",
       "  </thead>\n",
       "  <tbody>\n",
       "    <tr>\n",
       "      <th>0</th>\n",
       "      <td>30116.0</td>\n",
       "      <td>2025-04-07 10:32:05.073604+00:00</td>\n",
       "      <td>2025-04-07 10:32:05.073633+00:00</td>\n",
       "      <td>STUD83031</td>\n",
       "      <td>NaN</td>\n",
       "      <td>509.0</td>\n",
       "      <td>REQUEST</td>\n",
       "      <td>MONEY</td>\n",
       "    </tr>\n",
       "    <tr>\n",
       "      <th>1</th>\n",
       "      <td>30115.0</td>\n",
       "      <td>2025-04-07 10:30:09.304166+00:00</td>\n",
       "      <td>2025-04-07 10:30:09.304196+00:00</td>\n",
       "      <td>STUD356</td>\n",
       "      <td>NaN</td>\n",
       "      <td>538.0</td>\n",
       "      <td>REQUEST</td>\n",
       "      <td>MONEY</td>\n",
       "    </tr>\n",
       "    <tr>\n",
       "      <th>2</th>\n",
       "      <td>30114.0</td>\n",
       "      <td>2025-04-07 09:57:04.343935+00:00</td>\n",
       "      <td>2025-04-07 09:57:04.343985+00:00</td>\n",
       "      <td>STUD25955</td>\n",
       "      <td>NaN</td>\n",
       "      <td>542.0</td>\n",
       "      <td>REQUEST</td>\n",
       "      <td>MONEY</td>\n",
       "    </tr>\n",
       "    <tr>\n",
       "      <th>3</th>\n",
       "      <td>30113.0</td>\n",
       "      <td>2025-04-07 09:15:39.069868+00:00</td>\n",
       "      <td>2025-04-07 09:15:39.069910+00:00</td>\n",
       "      <td>STUD45618</td>\n",
       "      <td>NaN</td>\n",
       "      <td>501.0</td>\n",
       "      <td>REQUEST</td>\n",
       "      <td>MONEY</td>\n",
       "    </tr>\n",
       "    <tr>\n",
       "      <th>4</th>\n",
       "      <td>30112.0</td>\n",
       "      <td>2025-04-07 08:28:47.838506+00:00</td>\n",
       "      <td>2025-04-07 08:28:47.838578+00:00</td>\n",
       "      <td>STUD44458</td>\n",
       "      <td>NaN</td>\n",
       "      <td>504.0</td>\n",
       "      <td>REQUEST</td>\n",
       "      <td>MONEY</td>\n",
       "    </tr>\n",
       "    <tr>\n",
       "      <th>...</th>\n",
       "      <td>...</td>\n",
       "      <td>...</td>\n",
       "      <td>...</td>\n",
       "      <td>...</td>\n",
       "      <td>...</td>\n",
       "      <td>...</td>\n",
       "      <td>...</td>\n",
       "      <td>...</td>\n",
       "    </tr>\n",
       "    <tr>\n",
       "      <th>30080</th>\n",
       "      <td>36.0</td>\n",
       "      <td>2017-08-11 14:55:18.396493+00:00</td>\n",
       "      <td>2024-01-10 17:31:11.782802+00:00</td>\n",
       "      <td>STUD49275</td>\n",
       "      <td>5</td>\n",
       "      <td>506.0</td>\n",
       "      <td>PAID</td>\n",
       "      <td>MONEY</td>\n",
       "    </tr>\n",
       "    <tr>\n",
       "      <th>30081</th>\n",
       "      <td>35.0</td>\n",
       "      <td>2017-08-11 14:54:35.456650+00:00</td>\n",
       "      <td>2024-01-10 17:31:11.801715+00:00</td>\n",
       "      <td>STUD53465</td>\n",
       "      <td>5</td>\n",
       "      <td>523.0</td>\n",
       "      <td>PAID</td>\n",
       "      <td>MONEY</td>\n",
       "    </tr>\n",
       "    <tr>\n",
       "      <th>30082</th>\n",
       "      <td>34.0</td>\n",
       "      <td>2017-08-11 14:06:49.193910+00:00</td>\n",
       "      <td>2024-01-10 17:31:11.820777+00:00</td>\n",
       "      <td>STUD29324</td>\n",
       "      <td>5</td>\n",
       "      <td>511.0</td>\n",
       "      <td>PAID</td>\n",
       "      <td>MONEY</td>\n",
       "    </tr>\n",
       "    <tr>\n",
       "      <th>30085</th>\n",
       "      <td>31.0</td>\n",
       "      <td>2017-08-10 21:58:35.586238+00:00</td>\n",
       "      <td>2024-01-10 17:31:11.867765+00:00</td>\n",
       "      <td>STUD92308</td>\n",
       "      <td>NaN</td>\n",
       "      <td>511.0</td>\n",
       "      <td>PAID</td>\n",
       "      <td>MEDICINS_SANS_FRONTIERS</td>\n",
       "    </tr>\n",
       "    <tr>\n",
       "      <th>30086</th>\n",
       "      <td>30.0</td>\n",
       "      <td>2017-08-10 20:39:23.016652+00:00</td>\n",
       "      <td>2024-01-10 17:31:11.890678+00:00</td>\n",
       "      <td>STUD6753</td>\n",
       "      <td>5</td>\n",
       "      <td>516.0</td>\n",
       "      <td>PAID</td>\n",
       "      <td>MONEY</td>\n",
       "    </tr>\n",
       "  </tbody>\n",
       "</table>\n",
       "<p>27652 rows × 8 columns</p>\n",
       "</div>"
      ],
      "text/plain": [
       "            id                        created_at  \\\n",
       "0      30116.0  2025-04-07 10:32:05.073604+00:00   \n",
       "1      30115.0  2025-04-07 10:30:09.304166+00:00   \n",
       "2      30114.0  2025-04-07 09:57:04.343935+00:00   \n",
       "3      30113.0  2025-04-07 09:15:39.069868+00:00   \n",
       "4      30112.0  2025-04-07 08:28:47.838506+00:00   \n",
       "...        ...                               ...   \n",
       "30080     36.0  2017-08-11 14:55:18.396493+00:00   \n",
       "30081     35.0  2017-08-11 14:54:35.456650+00:00   \n",
       "30082     34.0  2017-08-11 14:06:49.193910+00:00   \n",
       "30085     31.0  2017-08-10 21:58:35.586238+00:00   \n",
       "30086     30.0  2017-08-10 20:39:23.016652+00:00   \n",
       "\n",
       "                             changed_at       user batch  credits    state  \\\n",
       "0      2025-04-07 10:32:05.073633+00:00  STUD83031   NaN    509.0  REQUEST   \n",
       "1      2025-04-07 10:30:09.304196+00:00    STUD356   NaN    538.0  REQUEST   \n",
       "2      2025-04-07 09:57:04.343985+00:00  STUD25955   NaN    542.0  REQUEST   \n",
       "3      2025-04-07 09:15:39.069910+00:00  STUD45618   NaN    501.0  REQUEST   \n",
       "4      2025-04-07 08:28:47.838578+00:00  STUD44458   NaN    504.0  REQUEST   \n",
       "...                                 ...        ...   ...      ...      ...   \n",
       "30080  2024-01-10 17:31:11.782802+00:00  STUD49275     5    506.0     PAID   \n",
       "30081  2024-01-10 17:31:11.801715+00:00  STUD53465     5    523.0     PAID   \n",
       "30082  2024-01-10 17:31:11.820777+00:00  STUD29324     5    511.0     PAID   \n",
       "30085  2024-01-10 17:31:11.867765+00:00  STUD92308   NaN    511.0     PAID   \n",
       "30086  2024-01-10 17:31:11.890678+00:00   STUD6753     5    516.0     PAID   \n",
       "\n",
       "                          type  \n",
       "0                        MONEY  \n",
       "1                        MONEY  \n",
       "2                        MONEY  \n",
       "3                        MONEY  \n",
       "4                        MONEY  \n",
       "...                        ...  \n",
       "30080                    MONEY  \n",
       "30081                    MONEY  \n",
       "30082                    MONEY  \n",
       "30085  MEDICINS_SANS_FRONTIERS  \n",
       "30086                    MONEY  \n",
       "\n",
       "[27652 rows x 8 columns]"
      ]
     },
     "execution_count": 185,
     "metadata": {},
     "output_type": "execute_result"
    }
   ],
   "source": [
    "df_payments_cleaned"
   ]
  },
  {
   "cell_type": "markdown",
   "metadata": {},
   "source": [
    "# What is core table for merge? - Payments // Can't I just use inner join? Therefore I dont' have to work with nul values - I don't want them in model anyway"
   ]
  },
  {
   "cell_type": "code",
   "execution_count": 85,
   "metadata": {},
   "outputs": [
    {
     "data": {
      "application/vnd.plotly.v1+json": {
       "config": {
        "plotlyServerURL": "https://plot.ly"
       },
       "data": [
        {
         "hovertemplate": "variable=count<br>User in Atlas=%{x}<br>Count=%{y}<extra></extra>",
         "legendgroup": "count",
         "marker": {
          "color": "#636efa",
          "pattern": {
           "shape": ""
          }
         },
         "name": "count",
         "orientation": "v",
         "showlegend": true,
         "textposition": "auto",
         "type": "bar",
         "x": [
          true,
          false
         ],
         "xaxis": "x",
         "y": {
          "bdata": "4J4AABkUAAA=",
          "dtype": "i4"
         },
         "yaxis": "y"
        }
       ],
       "layout": {
        "barmode": "relative",
        "legend": {
         "title": {
          "text": "variable"
         },
         "tracegroupgap": 0
        },
        "template": {
         "data": {
          "bar": [
           {
            "error_x": {
             "color": "#2a3f5f"
            },
            "error_y": {
             "color": "#2a3f5f"
            },
            "marker": {
             "line": {
              "color": "#E5ECF6",
              "width": 0.5
             },
             "pattern": {
              "fillmode": "overlay",
              "size": 10,
              "solidity": 0.2
             }
            },
            "type": "bar"
           }
          ],
          "barpolar": [
           {
            "marker": {
             "line": {
              "color": "#E5ECF6",
              "width": 0.5
             },
             "pattern": {
              "fillmode": "overlay",
              "size": 10,
              "solidity": 0.2
             }
            },
            "type": "barpolar"
           }
          ],
          "carpet": [
           {
            "aaxis": {
             "endlinecolor": "#2a3f5f",
             "gridcolor": "white",
             "linecolor": "white",
             "minorgridcolor": "white",
             "startlinecolor": "#2a3f5f"
            },
            "baxis": {
             "endlinecolor": "#2a3f5f",
             "gridcolor": "white",
             "linecolor": "white",
             "minorgridcolor": "white",
             "startlinecolor": "#2a3f5f"
            },
            "type": "carpet"
           }
          ],
          "choropleth": [
           {
            "colorbar": {
             "outlinewidth": 0,
             "ticks": ""
            },
            "type": "choropleth"
           }
          ],
          "contour": [
           {
            "colorbar": {
             "outlinewidth": 0,
             "ticks": ""
            },
            "colorscale": [
             [
              0,
              "#0d0887"
             ],
             [
              0.1111111111111111,
              "#46039f"
             ],
             [
              0.2222222222222222,
              "#7201a8"
             ],
             [
              0.3333333333333333,
              "#9c179e"
             ],
             [
              0.4444444444444444,
              "#bd3786"
             ],
             [
              0.5555555555555556,
              "#d8576b"
             ],
             [
              0.6666666666666666,
              "#ed7953"
             ],
             [
              0.7777777777777778,
              "#fb9f3a"
             ],
             [
              0.8888888888888888,
              "#fdca26"
             ],
             [
              1,
              "#f0f921"
             ]
            ],
            "type": "contour"
           }
          ],
          "contourcarpet": [
           {
            "colorbar": {
             "outlinewidth": 0,
             "ticks": ""
            },
            "type": "contourcarpet"
           }
          ],
          "heatmap": [
           {
            "colorbar": {
             "outlinewidth": 0,
             "ticks": ""
            },
            "colorscale": [
             [
              0,
              "#0d0887"
             ],
             [
              0.1111111111111111,
              "#46039f"
             ],
             [
              0.2222222222222222,
              "#7201a8"
             ],
             [
              0.3333333333333333,
              "#9c179e"
             ],
             [
              0.4444444444444444,
              "#bd3786"
             ],
             [
              0.5555555555555556,
              "#d8576b"
             ],
             [
              0.6666666666666666,
              "#ed7953"
             ],
             [
              0.7777777777777778,
              "#fb9f3a"
             ],
             [
              0.8888888888888888,
              "#fdca26"
             ],
             [
              1,
              "#f0f921"
             ]
            ],
            "type": "heatmap"
           }
          ],
          "histogram": [
           {
            "marker": {
             "pattern": {
              "fillmode": "overlay",
              "size": 10,
              "solidity": 0.2
             }
            },
            "type": "histogram"
           }
          ],
          "histogram2d": [
           {
            "colorbar": {
             "outlinewidth": 0,
             "ticks": ""
            },
            "colorscale": [
             [
              0,
              "#0d0887"
             ],
             [
              0.1111111111111111,
              "#46039f"
             ],
             [
              0.2222222222222222,
              "#7201a8"
             ],
             [
              0.3333333333333333,
              "#9c179e"
             ],
             [
              0.4444444444444444,
              "#bd3786"
             ],
             [
              0.5555555555555556,
              "#d8576b"
             ],
             [
              0.6666666666666666,
              "#ed7953"
             ],
             [
              0.7777777777777778,
              "#fb9f3a"
             ],
             [
              0.8888888888888888,
              "#fdca26"
             ],
             [
              1,
              "#f0f921"
             ]
            ],
            "type": "histogram2d"
           }
          ],
          "histogram2dcontour": [
           {
            "colorbar": {
             "outlinewidth": 0,
             "ticks": ""
            },
            "colorscale": [
             [
              0,
              "#0d0887"
             ],
             [
              0.1111111111111111,
              "#46039f"
             ],
             [
              0.2222222222222222,
              "#7201a8"
             ],
             [
              0.3333333333333333,
              "#9c179e"
             ],
             [
              0.4444444444444444,
              "#bd3786"
             ],
             [
              0.5555555555555556,
              "#d8576b"
             ],
             [
              0.6666666666666666,
              "#ed7953"
             ],
             [
              0.7777777777777778,
              "#fb9f3a"
             ],
             [
              0.8888888888888888,
              "#fdca26"
             ],
             [
              1,
              "#f0f921"
             ]
            ],
            "type": "histogram2dcontour"
           }
          ],
          "mesh3d": [
           {
            "colorbar": {
             "outlinewidth": 0,
             "ticks": ""
            },
            "type": "mesh3d"
           }
          ],
          "parcoords": [
           {
            "line": {
             "colorbar": {
              "outlinewidth": 0,
              "ticks": ""
             }
            },
            "type": "parcoords"
           }
          ],
          "pie": [
           {
            "automargin": true,
            "type": "pie"
           }
          ],
          "scatter": [
           {
            "fillpattern": {
             "fillmode": "overlay",
             "size": 10,
             "solidity": 0.2
            },
            "type": "scatter"
           }
          ],
          "scatter3d": [
           {
            "line": {
             "colorbar": {
              "outlinewidth": 0,
              "ticks": ""
             }
            },
            "marker": {
             "colorbar": {
              "outlinewidth": 0,
              "ticks": ""
             }
            },
            "type": "scatter3d"
           }
          ],
          "scattercarpet": [
           {
            "marker": {
             "colorbar": {
              "outlinewidth": 0,
              "ticks": ""
             }
            },
            "type": "scattercarpet"
           }
          ],
          "scattergeo": [
           {
            "marker": {
             "colorbar": {
              "outlinewidth": 0,
              "ticks": ""
             }
            },
            "type": "scattergeo"
           }
          ],
          "scattergl": [
           {
            "marker": {
             "colorbar": {
              "outlinewidth": 0,
              "ticks": ""
             }
            },
            "type": "scattergl"
           }
          ],
          "scattermap": [
           {
            "marker": {
             "colorbar": {
              "outlinewidth": 0,
              "ticks": ""
             }
            },
            "type": "scattermap"
           }
          ],
          "scattermapbox": [
           {
            "marker": {
             "colorbar": {
              "outlinewidth": 0,
              "ticks": ""
             }
            },
            "type": "scattermapbox"
           }
          ],
          "scatterpolar": [
           {
            "marker": {
             "colorbar": {
              "outlinewidth": 0,
              "ticks": ""
             }
            },
            "type": "scatterpolar"
           }
          ],
          "scatterpolargl": [
           {
            "marker": {
             "colorbar": {
              "outlinewidth": 0,
              "ticks": ""
             }
            },
            "type": "scatterpolargl"
           }
          ],
          "scatterternary": [
           {
            "marker": {
             "colorbar": {
              "outlinewidth": 0,
              "ticks": ""
             }
            },
            "type": "scatterternary"
           }
          ],
          "surface": [
           {
            "colorbar": {
             "outlinewidth": 0,
             "ticks": ""
            },
            "colorscale": [
             [
              0,
              "#0d0887"
             ],
             [
              0.1111111111111111,
              "#46039f"
             ],
             [
              0.2222222222222222,
              "#7201a8"
             ],
             [
              0.3333333333333333,
              "#9c179e"
             ],
             [
              0.4444444444444444,
              "#bd3786"
             ],
             [
              0.5555555555555556,
              "#d8576b"
             ],
             [
              0.6666666666666666,
              "#ed7953"
             ],
             [
              0.7777777777777778,
              "#fb9f3a"
             ],
             [
              0.8888888888888888,
              "#fdca26"
             ],
             [
              1,
              "#f0f921"
             ]
            ],
            "type": "surface"
           }
          ],
          "table": [
           {
            "cells": {
             "fill": {
              "color": "#EBF0F8"
             },
             "line": {
              "color": "white"
             }
            },
            "header": {
             "fill": {
              "color": "#C8D4E3"
             },
             "line": {
              "color": "white"
             }
            },
            "type": "table"
           }
          ]
         },
         "layout": {
          "annotationdefaults": {
           "arrowcolor": "#2a3f5f",
           "arrowhead": 0,
           "arrowwidth": 1
          },
          "autotypenumbers": "strict",
          "coloraxis": {
           "colorbar": {
            "outlinewidth": 0,
            "ticks": ""
           }
          },
          "colorscale": {
           "diverging": [
            [
             0,
             "#8e0152"
            ],
            [
             0.1,
             "#c51b7d"
            ],
            [
             0.2,
             "#de77ae"
            ],
            [
             0.3,
             "#f1b6da"
            ],
            [
             0.4,
             "#fde0ef"
            ],
            [
             0.5,
             "#f7f7f7"
            ],
            [
             0.6,
             "#e6f5d0"
            ],
            [
             0.7,
             "#b8e186"
            ],
            [
             0.8,
             "#7fbc41"
            ],
            [
             0.9,
             "#4d9221"
            ],
            [
             1,
             "#276419"
            ]
           ],
           "sequential": [
            [
             0,
             "#0d0887"
            ],
            [
             0.1111111111111111,
             "#46039f"
            ],
            [
             0.2222222222222222,
             "#7201a8"
            ],
            [
             0.3333333333333333,
             "#9c179e"
            ],
            [
             0.4444444444444444,
             "#bd3786"
            ],
            [
             0.5555555555555556,
             "#d8576b"
            ],
            [
             0.6666666666666666,
             "#ed7953"
            ],
            [
             0.7777777777777778,
             "#fb9f3a"
            ],
            [
             0.8888888888888888,
             "#fdca26"
            ],
            [
             1,
             "#f0f921"
            ]
           ],
           "sequentialminus": [
            [
             0,
             "#0d0887"
            ],
            [
             0.1111111111111111,
             "#46039f"
            ],
            [
             0.2222222222222222,
             "#7201a8"
            ],
            [
             0.3333333333333333,
             "#9c179e"
            ],
            [
             0.4444444444444444,
             "#bd3786"
            ],
            [
             0.5555555555555556,
             "#d8576b"
            ],
            [
             0.6666666666666666,
             "#ed7953"
            ],
            [
             0.7777777777777778,
             "#fb9f3a"
            ],
            [
             0.8888888888888888,
             "#fdca26"
            ],
            [
             1,
             "#f0f921"
            ]
           ]
          },
          "colorway": [
           "#636efa",
           "#EF553B",
           "#00cc96",
           "#ab63fa",
           "#FFA15A",
           "#19d3f3",
           "#FF6692",
           "#B6E880",
           "#FF97FF",
           "#FECB52"
          ],
          "font": {
           "color": "#2a3f5f"
          },
          "geo": {
           "bgcolor": "white",
           "lakecolor": "white",
           "landcolor": "#E5ECF6",
           "showlakes": true,
           "showland": true,
           "subunitcolor": "white"
          },
          "hoverlabel": {
           "align": "left"
          },
          "hovermode": "closest",
          "mapbox": {
           "style": "light"
          },
          "paper_bgcolor": "white",
          "plot_bgcolor": "#E5ECF6",
          "polar": {
           "angularaxis": {
            "gridcolor": "white",
            "linecolor": "white",
            "ticks": ""
           },
           "bgcolor": "#E5ECF6",
           "radialaxis": {
            "gridcolor": "white",
            "linecolor": "white",
            "ticks": ""
           }
          },
          "scene": {
           "xaxis": {
            "backgroundcolor": "#E5ECF6",
            "gridcolor": "white",
            "gridwidth": 2,
            "linecolor": "white",
            "showbackground": true,
            "ticks": "",
            "zerolinecolor": "white"
           },
           "yaxis": {
            "backgroundcolor": "#E5ECF6",
            "gridcolor": "white",
            "gridwidth": 2,
            "linecolor": "white",
            "showbackground": true,
            "ticks": "",
            "zerolinecolor": "white"
           },
           "zaxis": {
            "backgroundcolor": "#E5ECF6",
            "gridcolor": "white",
            "gridwidth": 2,
            "linecolor": "white",
            "showbackground": true,
            "ticks": "",
            "zerolinecolor": "white"
           }
          },
          "shapedefaults": {
           "line": {
            "color": "#2a3f5f"
           }
          },
          "ternary": {
           "aaxis": {
            "gridcolor": "white",
            "linecolor": "white",
            "ticks": ""
           },
           "baxis": {
            "gridcolor": "white",
            "linecolor": "white",
            "ticks": ""
           },
           "bgcolor": "#E5ECF6",
           "caxis": {
            "gridcolor": "white",
            "linecolor": "white",
            "ticks": ""
           }
          },
          "title": {
           "x": 0.05
          },
          "xaxis": {
           "automargin": true,
           "gridcolor": "white",
           "linecolor": "white",
           "ticks": "",
           "title": {
            "standoff": 15
           },
           "zerolinecolor": "white",
           "zerolinewidth": 2
          },
          "yaxis": {
           "automargin": true,
           "gridcolor": "white",
           "linecolor": "white",
           "ticks": "",
           "title": {
            "standoff": 15
           },
           "zerolinecolor": "white",
           "zerolinewidth": 2
          }
         }
        },
        "title": {
         "text": "How many users from Atlas Cechu are in the credits table"
        },
        "xaxis": {
         "anchor": "y",
         "domain": [
          0,
          1
         ],
         "title": {
          "text": "User in Atlas"
         }
        },
        "yaxis": {
         "anchor": "x",
         "domain": [
          0,
          1
         ],
         "title": {
          "text": "Count"
         }
        }
       }
      }
     },
     "metadata": {},
     "output_type": "display_data"
    },
    {
     "data": {
      "application/vnd.plotly.v1+json": {
       "config": {
        "plotlyServerURL": "https://plot.ly"
       },
       "data": [
        {
         "hovertemplate": "variable=count<br>user=%{x}<br>Count=%{y}<extra></extra>",
         "legendgroup": "count",
         "marker": {
          "color": "#636efa",
          "pattern": {
           "shape": ""
          }
         },
         "name": "count",
         "orientation": "v",
         "showlegend": true,
         "textposition": "auto",
         "type": "bar",
         "x": [
          true,
          false
         ],
         "xaxis": "x",
         "y": {
          "bdata": "/2iHDA==",
          "dtype": "i2"
         },
         "yaxis": "y"
        }
       ],
       "layout": {
        "barmode": "relative",
        "legend": {
         "title": {
          "text": "variable"
         },
         "tracegroupgap": 0
        },
        "template": {
         "data": {
          "bar": [
           {
            "error_x": {
             "color": "#2a3f5f"
            },
            "error_y": {
             "color": "#2a3f5f"
            },
            "marker": {
             "line": {
              "color": "#E5ECF6",
              "width": 0.5
             },
             "pattern": {
              "fillmode": "overlay",
              "size": 10,
              "solidity": 0.2
             }
            },
            "type": "bar"
           }
          ],
          "barpolar": [
           {
            "marker": {
             "line": {
              "color": "#E5ECF6",
              "width": 0.5
             },
             "pattern": {
              "fillmode": "overlay",
              "size": 10,
              "solidity": 0.2
             }
            },
            "type": "barpolar"
           }
          ],
          "carpet": [
           {
            "aaxis": {
             "endlinecolor": "#2a3f5f",
             "gridcolor": "white",
             "linecolor": "white",
             "minorgridcolor": "white",
             "startlinecolor": "#2a3f5f"
            },
            "baxis": {
             "endlinecolor": "#2a3f5f",
             "gridcolor": "white",
             "linecolor": "white",
             "minorgridcolor": "white",
             "startlinecolor": "#2a3f5f"
            },
            "type": "carpet"
           }
          ],
          "choropleth": [
           {
            "colorbar": {
             "outlinewidth": 0,
             "ticks": ""
            },
            "type": "choropleth"
           }
          ],
          "contour": [
           {
            "colorbar": {
             "outlinewidth": 0,
             "ticks": ""
            },
            "colorscale": [
             [
              0,
              "#0d0887"
             ],
             [
              0.1111111111111111,
              "#46039f"
             ],
             [
              0.2222222222222222,
              "#7201a8"
             ],
             [
              0.3333333333333333,
              "#9c179e"
             ],
             [
              0.4444444444444444,
              "#bd3786"
             ],
             [
              0.5555555555555556,
              "#d8576b"
             ],
             [
              0.6666666666666666,
              "#ed7953"
             ],
             [
              0.7777777777777778,
              "#fb9f3a"
             ],
             [
              0.8888888888888888,
              "#fdca26"
             ],
             [
              1,
              "#f0f921"
             ]
            ],
            "type": "contour"
           }
          ],
          "contourcarpet": [
           {
            "colorbar": {
             "outlinewidth": 0,
             "ticks": ""
            },
            "type": "contourcarpet"
           }
          ],
          "heatmap": [
           {
            "colorbar": {
             "outlinewidth": 0,
             "ticks": ""
            },
            "colorscale": [
             [
              0,
              "#0d0887"
             ],
             [
              0.1111111111111111,
              "#46039f"
             ],
             [
              0.2222222222222222,
              "#7201a8"
             ],
             [
              0.3333333333333333,
              "#9c179e"
             ],
             [
              0.4444444444444444,
              "#bd3786"
             ],
             [
              0.5555555555555556,
              "#d8576b"
             ],
             [
              0.6666666666666666,
              "#ed7953"
             ],
             [
              0.7777777777777778,
              "#fb9f3a"
             ],
             [
              0.8888888888888888,
              "#fdca26"
             ],
             [
              1,
              "#f0f921"
             ]
            ],
            "type": "heatmap"
           }
          ],
          "histogram": [
           {
            "marker": {
             "pattern": {
              "fillmode": "overlay",
              "size": 10,
              "solidity": 0.2
             }
            },
            "type": "histogram"
           }
          ],
          "histogram2d": [
           {
            "colorbar": {
             "outlinewidth": 0,
             "ticks": ""
            },
            "colorscale": [
             [
              0,
              "#0d0887"
             ],
             [
              0.1111111111111111,
              "#46039f"
             ],
             [
              0.2222222222222222,
              "#7201a8"
             ],
             [
              0.3333333333333333,
              "#9c179e"
             ],
             [
              0.4444444444444444,
              "#bd3786"
             ],
             [
              0.5555555555555556,
              "#d8576b"
             ],
             [
              0.6666666666666666,
              "#ed7953"
             ],
             [
              0.7777777777777778,
              "#fb9f3a"
             ],
             [
              0.8888888888888888,
              "#fdca26"
             ],
             [
              1,
              "#f0f921"
             ]
            ],
            "type": "histogram2d"
           }
          ],
          "histogram2dcontour": [
           {
            "colorbar": {
             "outlinewidth": 0,
             "ticks": ""
            },
            "colorscale": [
             [
              0,
              "#0d0887"
             ],
             [
              0.1111111111111111,
              "#46039f"
             ],
             [
              0.2222222222222222,
              "#7201a8"
             ],
             [
              0.3333333333333333,
              "#9c179e"
             ],
             [
              0.4444444444444444,
              "#bd3786"
             ],
             [
              0.5555555555555556,
              "#d8576b"
             ],
             [
              0.6666666666666666,
              "#ed7953"
             ],
             [
              0.7777777777777778,
              "#fb9f3a"
             ],
             [
              0.8888888888888888,
              "#fdca26"
             ],
             [
              1,
              "#f0f921"
             ]
            ],
            "type": "histogram2dcontour"
           }
          ],
          "mesh3d": [
           {
            "colorbar": {
             "outlinewidth": 0,
             "ticks": ""
            },
            "type": "mesh3d"
           }
          ],
          "parcoords": [
           {
            "line": {
             "colorbar": {
              "outlinewidth": 0,
              "ticks": ""
             }
            },
            "type": "parcoords"
           }
          ],
          "pie": [
           {
            "automargin": true,
            "type": "pie"
           }
          ],
          "scatter": [
           {
            "fillpattern": {
             "fillmode": "overlay",
             "size": 10,
             "solidity": 0.2
            },
            "type": "scatter"
           }
          ],
          "scatter3d": [
           {
            "line": {
             "colorbar": {
              "outlinewidth": 0,
              "ticks": ""
             }
            },
            "marker": {
             "colorbar": {
              "outlinewidth": 0,
              "ticks": ""
             }
            },
            "type": "scatter3d"
           }
          ],
          "scattercarpet": [
           {
            "marker": {
             "colorbar": {
              "outlinewidth": 0,
              "ticks": ""
             }
            },
            "type": "scattercarpet"
           }
          ],
          "scattergeo": [
           {
            "marker": {
             "colorbar": {
              "outlinewidth": 0,
              "ticks": ""
             }
            },
            "type": "scattergeo"
           }
          ],
          "scattergl": [
           {
            "marker": {
             "colorbar": {
              "outlinewidth": 0,
              "ticks": ""
             }
            },
            "type": "scattergl"
           }
          ],
          "scattermap": [
           {
            "marker": {
             "colorbar": {
              "outlinewidth": 0,
              "ticks": ""
             }
            },
            "type": "scattermap"
           }
          ],
          "scattermapbox": [
           {
            "marker": {
             "colorbar": {
              "outlinewidth": 0,
              "ticks": ""
             }
            },
            "type": "scattermapbox"
           }
          ],
          "scatterpolar": [
           {
            "marker": {
             "colorbar": {
              "outlinewidth": 0,
              "ticks": ""
             }
            },
            "type": "scatterpolar"
           }
          ],
          "scatterpolargl": [
           {
            "marker": {
             "colorbar": {
              "outlinewidth": 0,
              "ticks": ""
             }
            },
            "type": "scatterpolargl"
           }
          ],
          "scatterternary": [
           {
            "marker": {
             "colorbar": {
              "outlinewidth": 0,
              "ticks": ""
             }
            },
            "type": "scatterternary"
           }
          ],
          "surface": [
           {
            "colorbar": {
             "outlinewidth": 0,
             "ticks": ""
            },
            "colorscale": [
             [
              0,
              "#0d0887"
             ],
             [
              0.1111111111111111,
              "#46039f"
             ],
             [
              0.2222222222222222,
              "#7201a8"
             ],
             [
              0.3333333333333333,
              "#9c179e"
             ],
             [
              0.4444444444444444,
              "#bd3786"
             ],
             [
              0.5555555555555556,
              "#d8576b"
             ],
             [
              0.6666666666666666,
              "#ed7953"
             ],
             [
              0.7777777777777778,
              "#fb9f3a"
             ],
             [
              0.8888888888888888,
              "#fdca26"
             ],
             [
              1,
              "#f0f921"
             ]
            ],
            "type": "surface"
           }
          ],
          "table": [
           {
            "cells": {
             "fill": {
              "color": "#EBF0F8"
             },
             "line": {
              "color": "white"
             }
            },
            "header": {
             "fill": {
              "color": "#C8D4E3"
             },
             "line": {
              "color": "white"
             }
            },
            "type": "table"
           }
          ]
         },
         "layout": {
          "annotationdefaults": {
           "arrowcolor": "#2a3f5f",
           "arrowhead": 0,
           "arrowwidth": 1
          },
          "autotypenumbers": "strict",
          "coloraxis": {
           "colorbar": {
            "outlinewidth": 0,
            "ticks": ""
           }
          },
          "colorscale": {
           "diverging": [
            [
             0,
             "#8e0152"
            ],
            [
             0.1,
             "#c51b7d"
            ],
            [
             0.2,
             "#de77ae"
            ],
            [
             0.3,
             "#f1b6da"
            ],
            [
             0.4,
             "#fde0ef"
            ],
            [
             0.5,
             "#f7f7f7"
            ],
            [
             0.6,
             "#e6f5d0"
            ],
            [
             0.7,
             "#b8e186"
            ],
            [
             0.8,
             "#7fbc41"
            ],
            [
             0.9,
             "#4d9221"
            ],
            [
             1,
             "#276419"
            ]
           ],
           "sequential": [
            [
             0,
             "#0d0887"
            ],
            [
             0.1111111111111111,
             "#46039f"
            ],
            [
             0.2222222222222222,
             "#7201a8"
            ],
            [
             0.3333333333333333,
             "#9c179e"
            ],
            [
             0.4444444444444444,
             "#bd3786"
            ],
            [
             0.5555555555555556,
             "#d8576b"
            ],
            [
             0.6666666666666666,
             "#ed7953"
            ],
            [
             0.7777777777777778,
             "#fb9f3a"
            ],
            [
             0.8888888888888888,
             "#fdca26"
            ],
            [
             1,
             "#f0f921"
            ]
           ],
           "sequentialminus": [
            [
             0,
             "#0d0887"
            ],
            [
             0.1111111111111111,
             "#46039f"
            ],
            [
             0.2222222222222222,
             "#7201a8"
            ],
            [
             0.3333333333333333,
             "#9c179e"
            ],
            [
             0.4444444444444444,
             "#bd3786"
            ],
            [
             0.5555555555555556,
             "#d8576b"
            ],
            [
             0.6666666666666666,
             "#ed7953"
            ],
            [
             0.7777777777777778,
             "#fb9f3a"
            ],
            [
             0.8888888888888888,
             "#fdca26"
            ],
            [
             1,
             "#f0f921"
            ]
           ]
          },
          "colorway": [
           "#636efa",
           "#EF553B",
           "#00cc96",
           "#ab63fa",
           "#FFA15A",
           "#19d3f3",
           "#FF6692",
           "#B6E880",
           "#FF97FF",
           "#FECB52"
          ],
          "font": {
           "color": "#2a3f5f"
          },
          "geo": {
           "bgcolor": "white",
           "lakecolor": "white",
           "landcolor": "#E5ECF6",
           "showlakes": true,
           "showland": true,
           "subunitcolor": "white"
          },
          "hoverlabel": {
           "align": "left"
          },
          "hovermode": "closest",
          "mapbox": {
           "style": "light"
          },
          "paper_bgcolor": "white",
          "plot_bgcolor": "#E5ECF6",
          "polar": {
           "angularaxis": {
            "gridcolor": "white",
            "linecolor": "white",
            "ticks": ""
           },
           "bgcolor": "#E5ECF6",
           "radialaxis": {
            "gridcolor": "white",
            "linecolor": "white",
            "ticks": ""
           }
          },
          "scene": {
           "xaxis": {
            "backgroundcolor": "#E5ECF6",
            "gridcolor": "white",
            "gridwidth": 2,
            "linecolor": "white",
            "showbackground": true,
            "ticks": "",
            "zerolinecolor": "white"
           },
           "yaxis": {
            "backgroundcolor": "#E5ECF6",
            "gridcolor": "white",
            "gridwidth": 2,
            "linecolor": "white",
            "showbackground": true,
            "ticks": "",
            "zerolinecolor": "white"
           },
           "zaxis": {
            "backgroundcolor": "#E5ECF6",
            "gridcolor": "white",
            "gridwidth": 2,
            "linecolor": "white",
            "showbackground": true,
            "ticks": "",
            "zerolinecolor": "white"
           }
          },
          "shapedefaults": {
           "line": {
            "color": "#2a3f5f"
           }
          },
          "ternary": {
           "aaxis": {
            "gridcolor": "white",
            "linecolor": "white",
            "ticks": ""
           },
           "baxis": {
            "gridcolor": "white",
            "linecolor": "white",
            "ticks": ""
           },
           "bgcolor": "#E5ECF6",
           "caxis": {
            "gridcolor": "white",
            "linecolor": "white",
            "ticks": ""
           }
          },
          "title": {
           "x": 0.05
          },
          "xaxis": {
           "automargin": true,
           "gridcolor": "white",
           "linecolor": "white",
           "ticks": "",
           "title": {
            "standoff": 15
           },
           "zerolinecolor": "white",
           "zerolinewidth": 2
          },
          "yaxis": {
           "automargin": true,
           "gridcolor": "white",
           "linecolor": "white",
           "ticks": "",
           "title": {
            "standoff": 15
           },
           "zerolinecolor": "white",
           "zerolinewidth": 2
          }
         }
        },
        "title": {
         "text": "How many users from Atlas Cechu are in the payments table"
        },
        "xaxis": {
         "anchor": "y",
         "domain": [
          0,
          1
         ],
         "title": {
          "text": "user"
         }
        },
        "yaxis": {
         "anchor": "x",
         "domain": [
          0,
          1
         ],
         "title": {
          "text": "Count"
         }
        }
       }
      }
     },
     "metadata": {},
     "output_type": "display_data"
    }
   ],
   "source": [
    "#I have an assumption that all users should be in Atlas Cechu. However, after cheking my assumption it tourns out not to be true. \n",
    "\n",
    "# Convert the boolean series to a DataFrame with a column name\n",
    "atlas_in_credits = df_credits_cleaned.user.isin(df_atlas.user_id).rename('User in Atlas')\n",
    "atlas_in_payments = df_payments_cleaned.user.isin(df_atlas.user_id)\n",
    "\n",
    "# Plotting\n",
    "fig_ac = px.bar(atlas_in_credits.value_counts(), title='How many users from Atlas Cechu are in the credits table', labels={'index': 'User in Atlas (True/False)', 'value': 'Count'})\n",
    "fig_ap = px.bar(atlas_in_payments.value_counts(), title='How many users from Atlas Cechu are in the payments table', labels={'index': 'User in Atlas (True/False)', 'value': 'Count'})\n",
    "\n",
    "fig_ac.show()\n",
    "fig_ap.show()"
   ]
  },
  {
   "cell_type": "code",
   "execution_count": 86,
   "metadata": {},
   "outputs": [
    {
     "data": {
      "text/plain": [
       "user_id\n",
       "True     40672\n",
       "False     2861\n",
       "Name: count, dtype: int64"
      ]
     },
     "execution_count": 86,
     "metadata": {},
     "output_type": "execute_result"
    }
   ],
   "source": [
    "df_atlas.user_id.isin(df_credits_cleaned.user).value_counts()"
   ]
  },
  {
   "cell_type": "code",
   "execution_count": 87,
   "metadata": {},
   "outputs": [
    {
     "data": {
      "text/plain": [
       "user_id\n",
       "False    34824\n",
       "True      8709\n",
       "Name: count, dtype: int64"
      ]
     },
     "execution_count": 87,
     "metadata": {},
     "output_type": "execute_result"
    }
   ],
   "source": [
    "df_atlas.user_id.isin(df_payments_cleaned.user).value_counts()"
   ]
  },
  {
   "cell_type": "markdown",
   "metadata": {},
   "source": [
    "Since we want to find out when who pulls what, it makes sense to use the payments table and connect data to it - even though there are users in payments tables that are not in Atlas Cechu"
   ]
  },
  {
   "cell_type": "code",
   "execution_count": 88,
   "metadata": {},
   "outputs": [
    {
     "data": {
      "text/plain": [
       "'\\nI don\\'t find credits table to be interesting - mainly we cannot join them together due to different \"time type\" -- credits shows the newest version of creadits without historical changes, on the other hand table payments shows history of all transactions\\n'"
      ]
     },
     "execution_count": 88,
     "metadata": {},
     "output_type": "execute_result"
    }
   ],
   "source": [
    "#df_merge_credits = pd.merge(df_payments_cleaned, df_credits_cleaned, how=\"inner\", left_on='user', right_on='user')\n",
    "#df_merge_credits[df_merge_credits.user=='STUD92308']\n",
    "\n",
    "\"\"\"\n",
    "I don't find credits table to be interesting - mainly we cannot join them together due to different \"time type\" -- credits shows the newest version of creadits without historical changes, on the other hand table payments shows history of all transactions\n",
    "\"\"\""
   ]
  },
  {
   "cell_type": "code",
   "execution_count": 186,
   "metadata": {},
   "outputs": [
    {
     "name": "stderr",
     "output_type": "stream",
     "text": [
      "/var/folders/_c/8b17td616wg63_3tyjv1dhb80000gn/T/ipykernel_11060/2234070991.py:12: PerformanceWarning:\n",
      "\n",
      "DataFrame is highly fragmented.  This is usually the result of calling `frame.insert` many times, which has poor performance.  Consider joining all columns at once using pd.concat(axis=1) instead. To get a de-fragmented frame, use `newframe = frame.copy()`\n",
      "\n",
      "/var/folders/_c/8b17td616wg63_3tyjv1dhb80000gn/T/ipykernel_11060/2234070991.py:13: PerformanceWarning:\n",
      "\n",
      "DataFrame is highly fragmented.  This is usually the result of calling `frame.insert` many times, which has poor performance.  Consider joining all columns at once using pd.concat(axis=1) instead. To get a de-fragmented frame, use `newframe = frame.copy()`\n",
      "\n",
      "/var/folders/_c/8b17td616wg63_3tyjv1dhb80000gn/T/ipykernel_11060/2234070991.py:14: PerformanceWarning:\n",
      "\n",
      "DataFrame is highly fragmented.  This is usually the result of calling `frame.insert` many times, which has poor performance.  Consider joining all columns at once using pd.concat(axis=1) instead. To get a de-fragmented frame, use `newframe = frame.copy()`\n",
      "\n",
      "/var/folders/_c/8b17td616wg63_3tyjv1dhb80000gn/T/ipykernel_11060/2234070991.py:15: PerformanceWarning:\n",
      "\n",
      "DataFrame is highly fragmented.  This is usually the result of calling `frame.insert` many times, which has poor performance.  Consider joining all columns at once using pd.concat(axis=1) instead. To get a de-fragmented frame, use `newframe = frame.copy()`\n",
      "\n",
      "/var/folders/_c/8b17td616wg63_3tyjv1dhb80000gn/T/ipykernel_11060/2234070991.py:16: PerformanceWarning:\n",
      "\n",
      "DataFrame is highly fragmented.  This is usually the result of calling `frame.insert` many times, which has poor performance.  Consider joining all columns at once using pd.concat(axis=1) instead. To get a de-fragmented frame, use `newframe = frame.copy()`\n",
      "\n"
     ]
    }
   ],
   "source": [
    "df_merge_full = pd.merge(df_payments_cleaned, df_atlas, how='inner', left_on='user', right_on='user_id')\n",
    "df_merge_full.rename(columns={'credits_x':'credits_payments', 'credits_y':'credits_credits'})\n",
    "df_merge_full = pd.get_dummies(df_merge_full, columns=['type'], drop_first=True)\n",
    "df_merge_full = df_merge_full.astype({col: int for col in df_merge_full.select_dtypes(include='bool').columns})\n",
    "\n",
    "\n",
    "# df_merge_full.to_csv('../data_output/df_merge_full.csv')\n",
    "\n",
    "\n",
    "df_merge_full['created_at'] = pd.to_datetime(df_merge_full['created_at'])\n",
    "\n",
    "df_merge_full['day'] = df_merge_full['created_at'].dt.day\n",
    "df_merge_full['month'] = df_merge_full['created_at'].dt.month\n",
    "df_merge_full['year'] = df_merge_full['created_at'].dt.year\n",
    "df_merge_full['hour'] = df_merge_full['created_at'].dt.hour\n",
    "df_merge_full['weekday'] = df_merge_full['created_at'].dt.weekday\n",
    "\n",
    "\n",
    "df_merge_full = df_merge_full.drop(columns=['created_at'])"
   ]
  },
  {
   "cell_type": "code",
   "execution_count": 187,
   "metadata": {},
   "outputs": [
    {
     "data": {
      "text/html": [
       "<div>\n",
       "<style scoped>\n",
       "    .dataframe tbody tr th:only-of-type {\n",
       "        vertical-align: middle;\n",
       "    }\n",
       "\n",
       "    .dataframe tbody tr th {\n",
       "        vertical-align: top;\n",
       "    }\n",
       "\n",
       "    .dataframe thead th {\n",
       "        text-align: right;\n",
       "    }\n",
       "</style>\n",
       "<table border=\"1\" class=\"dataframe\">\n",
       "  <thead>\n",
       "    <tr style=\"text-align: right;\">\n",
       "      <th></th>\n",
       "      <th>id</th>\n",
       "      <th>changed_at</th>\n",
       "      <th>user</th>\n",
       "      <th>batch</th>\n",
       "      <th>credits</th>\n",
       "      <th>state</th>\n",
       "      <th>user_id</th>\n",
       "      <th>all_intro-2022</th>\n",
       "      <th>atlas_vzorek-2023</th>\n",
       "      <th>atlas_vzorek-2024</th>\n",
       "      <th>...</th>\n",
       "      <th>isic_age-23_26</th>\n",
       "      <th>type_HANDIPET</th>\n",
       "      <th>type_MEDICINS_SANS_FRONTIERS</th>\n",
       "      <th>type_MONEY</th>\n",
       "      <th>type_TRENDARO</th>\n",
       "      <th>day</th>\n",
       "      <th>month</th>\n",
       "      <th>year</th>\n",
       "      <th>hour</th>\n",
       "      <th>weekday</th>\n",
       "    </tr>\n",
       "  </thead>\n",
       "  <tbody>\n",
       "    <tr>\n",
       "      <th>0</th>\n",
       "      <td>30116.0</td>\n",
       "      <td>2025-04-07 10:32:05.073633+00:00</td>\n",
       "      <td>STUD83031</td>\n",
       "      <td>NaN</td>\n",
       "      <td>509.0</td>\n",
       "      <td>REQUEST</td>\n",
       "      <td>STUD83031</td>\n",
       "      <td>1</td>\n",
       "      <td>0</td>\n",
       "      <td>0</td>\n",
       "      <td>...</td>\n",
       "      <td>0</td>\n",
       "      <td>0</td>\n",
       "      <td>0</td>\n",
       "      <td>1</td>\n",
       "      <td>0</td>\n",
       "      <td>7</td>\n",
       "      <td>4</td>\n",
       "      <td>2025</td>\n",
       "      <td>10</td>\n",
       "      <td>0</td>\n",
       "    </tr>\n",
       "    <tr>\n",
       "      <th>1</th>\n",
       "      <td>30115.0</td>\n",
       "      <td>2025-04-07 10:30:09.304196+00:00</td>\n",
       "      <td>STUD356</td>\n",
       "      <td>NaN</td>\n",
       "      <td>538.0</td>\n",
       "      <td>REQUEST</td>\n",
       "      <td>STUD356</td>\n",
       "      <td>1</td>\n",
       "      <td>0</td>\n",
       "      <td>1</td>\n",
       "      <td>...</td>\n",
       "      <td>0</td>\n",
       "      <td>0</td>\n",
       "      <td>0</td>\n",
       "      <td>1</td>\n",
       "      <td>0</td>\n",
       "      <td>7</td>\n",
       "      <td>4</td>\n",
       "      <td>2025</td>\n",
       "      <td>10</td>\n",
       "      <td>0</td>\n",
       "    </tr>\n",
       "    <tr>\n",
       "      <th>2</th>\n",
       "      <td>30114.0</td>\n",
       "      <td>2025-04-07 09:57:04.343985+00:00</td>\n",
       "      <td>STUD25955</td>\n",
       "      <td>NaN</td>\n",
       "      <td>542.0</td>\n",
       "      <td>REQUEST</td>\n",
       "      <td>STUD25955</td>\n",
       "      <td>1</td>\n",
       "      <td>0</td>\n",
       "      <td>0</td>\n",
       "      <td>...</td>\n",
       "      <td>0</td>\n",
       "      <td>0</td>\n",
       "      <td>0</td>\n",
       "      <td>1</td>\n",
       "      <td>0</td>\n",
       "      <td>7</td>\n",
       "      <td>4</td>\n",
       "      <td>2025</td>\n",
       "      <td>9</td>\n",
       "      <td>0</td>\n",
       "    </tr>\n",
       "    <tr>\n",
       "      <th>3</th>\n",
       "      <td>30113.0</td>\n",
       "      <td>2025-04-07 09:15:39.069910+00:00</td>\n",
       "      <td>STUD45618</td>\n",
       "      <td>NaN</td>\n",
       "      <td>501.0</td>\n",
       "      <td>REQUEST</td>\n",
       "      <td>STUD45618</td>\n",
       "      <td>1</td>\n",
       "      <td>0</td>\n",
       "      <td>0</td>\n",
       "      <td>...</td>\n",
       "      <td>0</td>\n",
       "      <td>0</td>\n",
       "      <td>0</td>\n",
       "      <td>1</td>\n",
       "      <td>0</td>\n",
       "      <td>7</td>\n",
       "      <td>4</td>\n",
       "      <td>2025</td>\n",
       "      <td>9</td>\n",
       "      <td>0</td>\n",
       "    </tr>\n",
       "    <tr>\n",
       "      <th>4</th>\n",
       "      <td>30112.0</td>\n",
       "      <td>2025-04-07 08:28:47.838578+00:00</td>\n",
       "      <td>STUD44458</td>\n",
       "      <td>NaN</td>\n",
       "      <td>504.0</td>\n",
       "      <td>REQUEST</td>\n",
       "      <td>STUD44458</td>\n",
       "      <td>1</td>\n",
       "      <td>0</td>\n",
       "      <td>0</td>\n",
       "      <td>...</td>\n",
       "      <td>0</td>\n",
       "      <td>0</td>\n",
       "      <td>0</td>\n",
       "      <td>1</td>\n",
       "      <td>0</td>\n",
       "      <td>7</td>\n",
       "      <td>4</td>\n",
       "      <td>2025</td>\n",
       "      <td>8</td>\n",
       "      <td>0</td>\n",
       "    </tr>\n",
       "    <tr>\n",
       "      <th>...</th>\n",
       "      <td>...</td>\n",
       "      <td>...</td>\n",
       "      <td>...</td>\n",
       "      <td>...</td>\n",
       "      <td>...</td>\n",
       "      <td>...</td>\n",
       "      <td>...</td>\n",
       "      <td>...</td>\n",
       "      <td>...</td>\n",
       "      <td>...</td>\n",
       "      <td>...</td>\n",
       "      <td>...</td>\n",
       "      <td>...</td>\n",
       "      <td>...</td>\n",
       "      <td>...</td>\n",
       "      <td>...</td>\n",
       "      <td>...</td>\n",
       "      <td>...</td>\n",
       "      <td>...</td>\n",
       "      <td>...</td>\n",
       "      <td>...</td>\n",
       "    </tr>\n",
       "    <tr>\n",
       "      <th>26874</th>\n",
       "      <td>36.0</td>\n",
       "      <td>2024-01-10 17:31:11.782802+00:00</td>\n",
       "      <td>STUD49275</td>\n",
       "      <td>5</td>\n",
       "      <td>506.0</td>\n",
       "      <td>PAID</td>\n",
       "      <td>STUD49275</td>\n",
       "      <td>1</td>\n",
       "      <td>0</td>\n",
       "      <td>0</td>\n",
       "      <td>...</td>\n",
       "      <td>0</td>\n",
       "      <td>0</td>\n",
       "      <td>0</td>\n",
       "      <td>1</td>\n",
       "      <td>0</td>\n",
       "      <td>11</td>\n",
       "      <td>8</td>\n",
       "      <td>2017</td>\n",
       "      <td>14</td>\n",
       "      <td>4</td>\n",
       "    </tr>\n",
       "    <tr>\n",
       "      <th>26875</th>\n",
       "      <td>35.0</td>\n",
       "      <td>2024-01-10 17:31:11.801715+00:00</td>\n",
       "      <td>STUD53465</td>\n",
       "      <td>5</td>\n",
       "      <td>523.0</td>\n",
       "      <td>PAID</td>\n",
       "      <td>STUD53465</td>\n",
       "      <td>1</td>\n",
       "      <td>0</td>\n",
       "      <td>0</td>\n",
       "      <td>...</td>\n",
       "      <td>0</td>\n",
       "      <td>0</td>\n",
       "      <td>0</td>\n",
       "      <td>1</td>\n",
       "      <td>0</td>\n",
       "      <td>11</td>\n",
       "      <td>8</td>\n",
       "      <td>2017</td>\n",
       "      <td>14</td>\n",
       "      <td>4</td>\n",
       "    </tr>\n",
       "    <tr>\n",
       "      <th>26876</th>\n",
       "      <td>34.0</td>\n",
       "      <td>2024-01-10 17:31:11.820777+00:00</td>\n",
       "      <td>STUD29324</td>\n",
       "      <td>5</td>\n",
       "      <td>511.0</td>\n",
       "      <td>PAID</td>\n",
       "      <td>STUD29324</td>\n",
       "      <td>1</td>\n",
       "      <td>0</td>\n",
       "      <td>1</td>\n",
       "      <td>...</td>\n",
       "      <td>0</td>\n",
       "      <td>0</td>\n",
       "      <td>0</td>\n",
       "      <td>1</td>\n",
       "      <td>0</td>\n",
       "      <td>11</td>\n",
       "      <td>8</td>\n",
       "      <td>2017</td>\n",
       "      <td>14</td>\n",
       "      <td>4</td>\n",
       "    </tr>\n",
       "    <tr>\n",
       "      <th>26877</th>\n",
       "      <td>31.0</td>\n",
       "      <td>2024-01-10 17:31:11.867765+00:00</td>\n",
       "      <td>STUD92308</td>\n",
       "      <td>NaN</td>\n",
       "      <td>511.0</td>\n",
       "      <td>PAID</td>\n",
       "      <td>STUD92308</td>\n",
       "      <td>1</td>\n",
       "      <td>1</td>\n",
       "      <td>0</td>\n",
       "      <td>...</td>\n",
       "      <td>0</td>\n",
       "      <td>0</td>\n",
       "      <td>1</td>\n",
       "      <td>0</td>\n",
       "      <td>0</td>\n",
       "      <td>10</td>\n",
       "      <td>8</td>\n",
       "      <td>2017</td>\n",
       "      <td>21</td>\n",
       "      <td>3</td>\n",
       "    </tr>\n",
       "    <tr>\n",
       "      <th>26878</th>\n",
       "      <td>30.0</td>\n",
       "      <td>2024-01-10 17:31:11.890678+00:00</td>\n",
       "      <td>STUD6753</td>\n",
       "      <td>5</td>\n",
       "      <td>516.0</td>\n",
       "      <td>PAID</td>\n",
       "      <td>STUD6753</td>\n",
       "      <td>1</td>\n",
       "      <td>1</td>\n",
       "      <td>1</td>\n",
       "      <td>...</td>\n",
       "      <td>0</td>\n",
       "      <td>0</td>\n",
       "      <td>0</td>\n",
       "      <td>1</td>\n",
       "      <td>0</td>\n",
       "      <td>10</td>\n",
       "      <td>8</td>\n",
       "      <td>2017</td>\n",
       "      <td>20</td>\n",
       "      <td>3</td>\n",
       "    </tr>\n",
       "  </tbody>\n",
       "</table>\n",
       "<p>26879 rows × 1136 columns</p>\n",
       "</div>"
      ],
      "text/plain": [
       "            id                        changed_at       user batch  credits  \\\n",
       "0      30116.0  2025-04-07 10:32:05.073633+00:00  STUD83031   NaN    509.0   \n",
       "1      30115.0  2025-04-07 10:30:09.304196+00:00    STUD356   NaN    538.0   \n",
       "2      30114.0  2025-04-07 09:57:04.343985+00:00  STUD25955   NaN    542.0   \n",
       "3      30113.0  2025-04-07 09:15:39.069910+00:00  STUD45618   NaN    501.0   \n",
       "4      30112.0  2025-04-07 08:28:47.838578+00:00  STUD44458   NaN    504.0   \n",
       "...        ...                               ...        ...   ...      ...   \n",
       "26874     36.0  2024-01-10 17:31:11.782802+00:00  STUD49275     5    506.0   \n",
       "26875     35.0  2024-01-10 17:31:11.801715+00:00  STUD53465     5    523.0   \n",
       "26876     34.0  2024-01-10 17:31:11.820777+00:00  STUD29324     5    511.0   \n",
       "26877     31.0  2024-01-10 17:31:11.867765+00:00  STUD92308   NaN    511.0   \n",
       "26878     30.0  2024-01-10 17:31:11.890678+00:00   STUD6753     5    516.0   \n",
       "\n",
       "         state    user_id  all_intro-2022  atlas_vzorek-2023  \\\n",
       "0      REQUEST  STUD83031               1                  0   \n",
       "1      REQUEST    STUD356               1                  0   \n",
       "2      REQUEST  STUD25955               1                  0   \n",
       "3      REQUEST  STUD45618               1                  0   \n",
       "4      REQUEST  STUD44458               1                  0   \n",
       "...        ...        ...             ...                ...   \n",
       "26874     PAID  STUD49275               1                  0   \n",
       "26875     PAID  STUD53465               1                  0   \n",
       "26876     PAID  STUD29324               1                  0   \n",
       "26877     PAID  STUD92308               1                  1   \n",
       "26878     PAID   STUD6753               1                  1   \n",
       "\n",
       "       atlas_vzorek-2024  ...  isic_age-23_26  type_HANDIPET  \\\n",
       "0                      0  ...               0              0   \n",
       "1                      1  ...               0              0   \n",
       "2                      0  ...               0              0   \n",
       "3                      0  ...               0              0   \n",
       "4                      0  ...               0              0   \n",
       "...                  ...  ...             ...            ...   \n",
       "26874                  0  ...               0              0   \n",
       "26875                  0  ...               0              0   \n",
       "26876                  1  ...               0              0   \n",
       "26877                  0  ...               0              0   \n",
       "26878                  1  ...               0              0   \n",
       "\n",
       "       type_MEDICINS_SANS_FRONTIERS  type_MONEY  type_TRENDARO  day  month  \\\n",
       "0                                 0           1              0    7      4   \n",
       "1                                 0           1              0    7      4   \n",
       "2                                 0           1              0    7      4   \n",
       "3                                 0           1              0    7      4   \n",
       "4                                 0           1              0    7      4   \n",
       "...                             ...         ...            ...  ...    ...   \n",
       "26874                             0           1              0   11      8   \n",
       "26875                             0           1              0   11      8   \n",
       "26876                             0           1              0   11      8   \n",
       "26877                             1           0              0   10      8   \n",
       "26878                             0           1              0   10      8   \n",
       "\n",
       "       year  hour  weekday  \n",
       "0      2025    10        0  \n",
       "1      2025    10        0  \n",
       "2      2025     9        0  \n",
       "3      2025     9        0  \n",
       "4      2025     8        0  \n",
       "...     ...   ...      ...  \n",
       "26874  2017    14        4  \n",
       "26875  2017    14        4  \n",
       "26876  2017    14        4  \n",
       "26877  2017    21        3  \n",
       "26878  2017    20        3  \n",
       "\n",
       "[26879 rows x 1136 columns]"
      ]
     },
     "execution_count": 187,
     "metadata": {},
     "output_type": "execute_result"
    }
   ],
   "source": [
    "df_merge_full"
   ]
  },
  {
   "cell_type": "code",
   "execution_count": 167,
   "metadata": {},
   "outputs": [
    {
     "name": "stderr",
     "output_type": "stream",
     "text": [
      "/var/folders/_c/8b17td616wg63_3tyjv1dhb80000gn/T/ipykernel_11060/1893180649.py:4: PerformanceWarning:\n",
      "\n",
      "DataFrame is highly fragmented.  This is usually the result of calling `frame.insert` many times, which has poor performance.  Consider joining all columns at once using pd.concat(axis=1) instead. To get a de-fragmented frame, use `newframe = frame.copy()`\n",
      "\n"
     ]
    },
    {
     "data": {
      "application/vnd.plotly.v1+json": {
       "config": {
        "plotlyServerURL": "https://plot.ly"
       },
       "data": [
        {
         "hovertemplate": "credits_601+=%{x}<br>count=%{y}<extra></extra>",
         "legendgroup": "",
         "marker": {
          "color": "#636efa",
          "pattern": {
           "shape": ""
          }
         },
         "name": "",
         "orientation": "v",
         "showlegend": false,
         "textposition": "auto",
         "type": "bar",
         "x": {
          "bdata": "AAE=",
          "dtype": "i1"
         },
         "xaxis": "x",
         "y": {
          "bdata": "l0nMGA==",
          "dtype": "i2"
         },
         "yaxis": "y"
        }
       ],
       "layout": {
        "barmode": "relative",
        "legend": {
         "tracegroupgap": 0
        },
        "template": {
         "data": {
          "bar": [
           {
            "error_x": {
             "color": "#2a3f5f"
            },
            "error_y": {
             "color": "#2a3f5f"
            },
            "marker": {
             "line": {
              "color": "#E5ECF6",
              "width": 0.5
             },
             "pattern": {
              "fillmode": "overlay",
              "size": 10,
              "solidity": 0.2
             }
            },
            "type": "bar"
           }
          ],
          "barpolar": [
           {
            "marker": {
             "line": {
              "color": "#E5ECF6",
              "width": 0.5
             },
             "pattern": {
              "fillmode": "overlay",
              "size": 10,
              "solidity": 0.2
             }
            },
            "type": "barpolar"
           }
          ],
          "carpet": [
           {
            "aaxis": {
             "endlinecolor": "#2a3f5f",
             "gridcolor": "white",
             "linecolor": "white",
             "minorgridcolor": "white",
             "startlinecolor": "#2a3f5f"
            },
            "baxis": {
             "endlinecolor": "#2a3f5f",
             "gridcolor": "white",
             "linecolor": "white",
             "minorgridcolor": "white",
             "startlinecolor": "#2a3f5f"
            },
            "type": "carpet"
           }
          ],
          "choropleth": [
           {
            "colorbar": {
             "outlinewidth": 0,
             "ticks": ""
            },
            "type": "choropleth"
           }
          ],
          "contour": [
           {
            "colorbar": {
             "outlinewidth": 0,
             "ticks": ""
            },
            "colorscale": [
             [
              0,
              "#0d0887"
             ],
             [
              0.1111111111111111,
              "#46039f"
             ],
             [
              0.2222222222222222,
              "#7201a8"
             ],
             [
              0.3333333333333333,
              "#9c179e"
             ],
             [
              0.4444444444444444,
              "#bd3786"
             ],
             [
              0.5555555555555556,
              "#d8576b"
             ],
             [
              0.6666666666666666,
              "#ed7953"
             ],
             [
              0.7777777777777778,
              "#fb9f3a"
             ],
             [
              0.8888888888888888,
              "#fdca26"
             ],
             [
              1,
              "#f0f921"
             ]
            ],
            "type": "contour"
           }
          ],
          "contourcarpet": [
           {
            "colorbar": {
             "outlinewidth": 0,
             "ticks": ""
            },
            "type": "contourcarpet"
           }
          ],
          "heatmap": [
           {
            "colorbar": {
             "outlinewidth": 0,
             "ticks": ""
            },
            "colorscale": [
             [
              0,
              "#0d0887"
             ],
             [
              0.1111111111111111,
              "#46039f"
             ],
             [
              0.2222222222222222,
              "#7201a8"
             ],
             [
              0.3333333333333333,
              "#9c179e"
             ],
             [
              0.4444444444444444,
              "#bd3786"
             ],
             [
              0.5555555555555556,
              "#d8576b"
             ],
             [
              0.6666666666666666,
              "#ed7953"
             ],
             [
              0.7777777777777778,
              "#fb9f3a"
             ],
             [
              0.8888888888888888,
              "#fdca26"
             ],
             [
              1,
              "#f0f921"
             ]
            ],
            "type": "heatmap"
           }
          ],
          "histogram": [
           {
            "marker": {
             "pattern": {
              "fillmode": "overlay",
              "size": 10,
              "solidity": 0.2
             }
            },
            "type": "histogram"
           }
          ],
          "histogram2d": [
           {
            "colorbar": {
             "outlinewidth": 0,
             "ticks": ""
            },
            "colorscale": [
             [
              0,
              "#0d0887"
             ],
             [
              0.1111111111111111,
              "#46039f"
             ],
             [
              0.2222222222222222,
              "#7201a8"
             ],
             [
              0.3333333333333333,
              "#9c179e"
             ],
             [
              0.4444444444444444,
              "#bd3786"
             ],
             [
              0.5555555555555556,
              "#d8576b"
             ],
             [
              0.6666666666666666,
              "#ed7953"
             ],
             [
              0.7777777777777778,
              "#fb9f3a"
             ],
             [
              0.8888888888888888,
              "#fdca26"
             ],
             [
              1,
              "#f0f921"
             ]
            ],
            "type": "histogram2d"
           }
          ],
          "histogram2dcontour": [
           {
            "colorbar": {
             "outlinewidth": 0,
             "ticks": ""
            },
            "colorscale": [
             [
              0,
              "#0d0887"
             ],
             [
              0.1111111111111111,
              "#46039f"
             ],
             [
              0.2222222222222222,
              "#7201a8"
             ],
             [
              0.3333333333333333,
              "#9c179e"
             ],
             [
              0.4444444444444444,
              "#bd3786"
             ],
             [
              0.5555555555555556,
              "#d8576b"
             ],
             [
              0.6666666666666666,
              "#ed7953"
             ],
             [
              0.7777777777777778,
              "#fb9f3a"
             ],
             [
              0.8888888888888888,
              "#fdca26"
             ],
             [
              1,
              "#f0f921"
             ]
            ],
            "type": "histogram2dcontour"
           }
          ],
          "mesh3d": [
           {
            "colorbar": {
             "outlinewidth": 0,
             "ticks": ""
            },
            "type": "mesh3d"
           }
          ],
          "parcoords": [
           {
            "line": {
             "colorbar": {
              "outlinewidth": 0,
              "ticks": ""
             }
            },
            "type": "parcoords"
           }
          ],
          "pie": [
           {
            "automargin": true,
            "type": "pie"
           }
          ],
          "scatter": [
           {
            "fillpattern": {
             "fillmode": "overlay",
             "size": 10,
             "solidity": 0.2
            },
            "type": "scatter"
           }
          ],
          "scatter3d": [
           {
            "line": {
             "colorbar": {
              "outlinewidth": 0,
              "ticks": ""
             }
            },
            "marker": {
             "colorbar": {
              "outlinewidth": 0,
              "ticks": ""
             }
            },
            "type": "scatter3d"
           }
          ],
          "scattercarpet": [
           {
            "marker": {
             "colorbar": {
              "outlinewidth": 0,
              "ticks": ""
             }
            },
            "type": "scattercarpet"
           }
          ],
          "scattergeo": [
           {
            "marker": {
             "colorbar": {
              "outlinewidth": 0,
              "ticks": ""
             }
            },
            "type": "scattergeo"
           }
          ],
          "scattergl": [
           {
            "marker": {
             "colorbar": {
              "outlinewidth": 0,
              "ticks": ""
             }
            },
            "type": "scattergl"
           }
          ],
          "scattermap": [
           {
            "marker": {
             "colorbar": {
              "outlinewidth": 0,
              "ticks": ""
             }
            },
            "type": "scattermap"
           }
          ],
          "scattermapbox": [
           {
            "marker": {
             "colorbar": {
              "outlinewidth": 0,
              "ticks": ""
             }
            },
            "type": "scattermapbox"
           }
          ],
          "scatterpolar": [
           {
            "marker": {
             "colorbar": {
              "outlinewidth": 0,
              "ticks": ""
             }
            },
            "type": "scatterpolar"
           }
          ],
          "scatterpolargl": [
           {
            "marker": {
             "colorbar": {
              "outlinewidth": 0,
              "ticks": ""
             }
            },
            "type": "scatterpolargl"
           }
          ],
          "scatterternary": [
           {
            "marker": {
             "colorbar": {
              "outlinewidth": 0,
              "ticks": ""
             }
            },
            "type": "scatterternary"
           }
          ],
          "surface": [
           {
            "colorbar": {
             "outlinewidth": 0,
             "ticks": ""
            },
            "colorscale": [
             [
              0,
              "#0d0887"
             ],
             [
              0.1111111111111111,
              "#46039f"
             ],
             [
              0.2222222222222222,
              "#7201a8"
             ],
             [
              0.3333333333333333,
              "#9c179e"
             ],
             [
              0.4444444444444444,
              "#bd3786"
             ],
             [
              0.5555555555555556,
              "#d8576b"
             ],
             [
              0.6666666666666666,
              "#ed7953"
             ],
             [
              0.7777777777777778,
              "#fb9f3a"
             ],
             [
              0.8888888888888888,
              "#fdca26"
             ],
             [
              1,
              "#f0f921"
             ]
            ],
            "type": "surface"
           }
          ],
          "table": [
           {
            "cells": {
             "fill": {
              "color": "#EBF0F8"
             },
             "line": {
              "color": "white"
             }
            },
            "header": {
             "fill": {
              "color": "#C8D4E3"
             },
             "line": {
              "color": "white"
             }
            },
            "type": "table"
           }
          ]
         },
         "layout": {
          "annotationdefaults": {
           "arrowcolor": "#2a3f5f",
           "arrowhead": 0,
           "arrowwidth": 1
          },
          "autotypenumbers": "strict",
          "coloraxis": {
           "colorbar": {
            "outlinewidth": 0,
            "ticks": ""
           }
          },
          "colorscale": {
           "diverging": [
            [
             0,
             "#8e0152"
            ],
            [
             0.1,
             "#c51b7d"
            ],
            [
             0.2,
             "#de77ae"
            ],
            [
             0.3,
             "#f1b6da"
            ],
            [
             0.4,
             "#fde0ef"
            ],
            [
             0.5,
             "#f7f7f7"
            ],
            [
             0.6,
             "#e6f5d0"
            ],
            [
             0.7,
             "#b8e186"
            ],
            [
             0.8,
             "#7fbc41"
            ],
            [
             0.9,
             "#4d9221"
            ],
            [
             1,
             "#276419"
            ]
           ],
           "sequential": [
            [
             0,
             "#0d0887"
            ],
            [
             0.1111111111111111,
             "#46039f"
            ],
            [
             0.2222222222222222,
             "#7201a8"
            ],
            [
             0.3333333333333333,
             "#9c179e"
            ],
            [
             0.4444444444444444,
             "#bd3786"
            ],
            [
             0.5555555555555556,
             "#d8576b"
            ],
            [
             0.6666666666666666,
             "#ed7953"
            ],
            [
             0.7777777777777778,
             "#fb9f3a"
            ],
            [
             0.8888888888888888,
             "#fdca26"
            ],
            [
             1,
             "#f0f921"
            ]
           ],
           "sequentialminus": [
            [
             0,
             "#0d0887"
            ],
            [
             0.1111111111111111,
             "#46039f"
            ],
            [
             0.2222222222222222,
             "#7201a8"
            ],
            [
             0.3333333333333333,
             "#9c179e"
            ],
            [
             0.4444444444444444,
             "#bd3786"
            ],
            [
             0.5555555555555556,
             "#d8576b"
            ],
            [
             0.6666666666666666,
             "#ed7953"
            ],
            [
             0.7777777777777778,
             "#fb9f3a"
            ],
            [
             0.8888888888888888,
             "#fdca26"
            ],
            [
             1,
             "#f0f921"
            ]
           ]
          },
          "colorway": [
           "#636efa",
           "#EF553B",
           "#00cc96",
           "#ab63fa",
           "#FFA15A",
           "#19d3f3",
           "#FF6692",
           "#B6E880",
           "#FF97FF",
           "#FECB52"
          ],
          "font": {
           "color": "#2a3f5f"
          },
          "geo": {
           "bgcolor": "white",
           "lakecolor": "white",
           "landcolor": "#E5ECF6",
           "showlakes": true,
           "showland": true,
           "subunitcolor": "white"
          },
          "hoverlabel": {
           "align": "left"
          },
          "hovermode": "closest",
          "mapbox": {
           "style": "light"
          },
          "paper_bgcolor": "white",
          "plot_bgcolor": "#E5ECF6",
          "polar": {
           "angularaxis": {
            "gridcolor": "white",
            "linecolor": "white",
            "ticks": ""
           },
           "bgcolor": "#E5ECF6",
           "radialaxis": {
            "gridcolor": "white",
            "linecolor": "white",
            "ticks": ""
           }
          },
          "scene": {
           "xaxis": {
            "backgroundcolor": "#E5ECF6",
            "gridcolor": "white",
            "gridwidth": 2,
            "linecolor": "white",
            "showbackground": true,
            "ticks": "",
            "zerolinecolor": "white"
           },
           "yaxis": {
            "backgroundcolor": "#E5ECF6",
            "gridcolor": "white",
            "gridwidth": 2,
            "linecolor": "white",
            "showbackground": true,
            "ticks": "",
            "zerolinecolor": "white"
           },
           "zaxis": {
            "backgroundcolor": "#E5ECF6",
            "gridcolor": "white",
            "gridwidth": 2,
            "linecolor": "white",
            "showbackground": true,
            "ticks": "",
            "zerolinecolor": "white"
           }
          },
          "shapedefaults": {
           "line": {
            "color": "#2a3f5f"
           }
          },
          "ternary": {
           "aaxis": {
            "gridcolor": "white",
            "linecolor": "white",
            "ticks": ""
           },
           "baxis": {
            "gridcolor": "white",
            "linecolor": "white",
            "ticks": ""
           },
           "bgcolor": "#E5ECF6",
           "caxis": {
            "gridcolor": "white",
            "linecolor": "white",
            "ticks": ""
           }
          },
          "title": {
           "x": 0.05
          },
          "xaxis": {
           "automargin": true,
           "gridcolor": "white",
           "linecolor": "white",
           "ticks": "",
           "title": {
            "standoff": 15
           },
           "zerolinecolor": "white",
           "zerolinewidth": 2
          },
          "yaxis": {
           "automargin": true,
           "gridcolor": "white",
           "linecolor": "white",
           "ticks": "",
           "title": {
            "standoff": 15
           },
           "zerolinecolor": "white",
           "zerolinewidth": 2
          }
         }
        },
        "title": {
         "text": "Credits Category Distribution"
        },
        "xaxis": {
         "anchor": "y",
         "domain": [
          0,
          1
         ],
         "title": {
          "text": "credits_601+"
         }
        },
        "yaxis": {
         "anchor": "x",
         "domain": [
          0,
          1
         ],
         "title": {
          "text": "count"
         }
        }
       }
      }
     },
     "metadata": {},
     "output_type": "display_data"
    }
   ],
   "source": [
    "# split dataset into three categories\n",
    "\n",
    "df_modeling = df_merge_full.drop(columns=['id', 'changed_at', 'user', 'batch', 'state', 'user_id'])\n",
    "df_modeling['credits_601+'] = (df_modeling['credits'] > 600).astype(int)\n",
    "df_modeling = df_modeling.drop(columns=['credits'])\n",
    "\n",
    "fig = px.bar(pd.DataFrame(df_modeling['credits_601+'].value_counts().reset_index()), x='credits_601+', y='count', title='Credits Category Distribution')\n",
    "fig.show()"
   ]
  },
  {
   "cell_type": "code",
   "execution_count": 191,
   "metadata": {},
   "outputs": [
    {
     "data": {
      "text/plain": [
       "array([0, 1])"
      ]
     },
     "execution_count": 191,
     "metadata": {},
     "output_type": "execute_result"
    }
   ],
   "source": [
    "df_modeling['credits_601+'].unique()"
   ]
  },
  {
   "cell_type": "code",
   "execution_count": 95,
   "metadata": {},
   "outputs": [],
   "source": [
    "df_modeling = df_modeling[df_modeling['credits_category'].isnull()==False] # clean data from null values"
   ]
  },
  {
   "cell_type": "markdown",
   "metadata": {},
   "source": [
    "# Modeling"
   ]
  },
  {
   "cell_type": "code",
   "execution_count": 209,
   "metadata": {},
   "outputs": [],
   "source": [
    "y = df_modeling['credits_601+']\n",
    "X = df_modeling.drop(columns=['credits_601+'])\n",
    "\n",
    "def split_data(X, y, test_size=0.2, stratify=True, random_state=42):\n",
    "    \"\"\"\n",
    "    Split data into training and testing sets with optional stratification.\n",
    "\n",
    "    Args:\n",
    "        X (pd.DataFrame): Feature matrix.\n",
    "        y (pd.Series): Target variable.\n",
    "        test_size (float): Proportion of data to use as test set.\n",
    "        stratify (bool): Whether to stratify split based on y.\n",
    "        random_state (int): Seed for reproducibility.\n",
    "\n",
    "    Returns:\n",
    "        Tuple: (X_train, X_test, y_train, y_test)\n",
    "    \"\"\"\n",
    "    return train_test_split(\n",
    "        X,\n",
    "        y,\n",
    "        test_size=test_size,\n",
    "        stratify=y if stratify else None,\n",
    "        random_state=random_state\n",
    "    )\n",
    "\n",
    "\n",
    "\n",
    "X_train, X_test, y_train, y_test = train_test_split(X, y, stratify=y , train_size=0.8, random_state=42)"
   ]
  },
  {
   "cell_type": "markdown",
   "metadata": {},
   "source": [
    "# Grid Search"
   ]
  },
  {
   "cell_type": "code",
   "execution_count": 245,
   "metadata": {},
   "outputs": [
    {
     "name": "stdout",
     "output_type": "stream",
     "text": [
      "0:\tlearn: 0.7479899\ttotal: 22.9ms\tremaining: 11.4s\n",
      "100:\tlearn: 0.7480643\ttotal: 468ms\tremaining: 1.85s\n",
      "200:\tlearn: 0.7514145\ttotal: 920ms\tremaining: 1.37s\n",
      "300:\tlearn: 0.7550625\ttotal: 1.4s\tremaining: 924ms\n",
      "400:\tlearn: 0.7612418\ttotal: 1.81s\tremaining: 446ms\n",
      "499:\tlearn: 0.7681656\ttotal: 2.21s\tremaining: 0us\n",
      "0:\tlearn: 0.7479342\ttotal: 7.02ms\tremaining: 3.5s\n",
      "100:\tlearn: 0.7479342\ttotal: 424ms\tremaining: 1.68s\n",
      "200:\tlearn: 0.7486786\ttotal: 829ms\tremaining: 1.23s\n",
      "300:\tlearn: 0.7529964\ttotal: 1.33s\tremaining: 880ms\n",
      "400:\tlearn: 0.7583563\ttotal: 1.73s\tremaining: 428ms\n",
      "499:\tlearn: 0.7629718\ttotal: 2.14s\tremaining: 0us\n",
      "0:\tlearn: 0.7480086\ttotal: 7.16ms\tremaining: 3.57s\n",
      "100:\tlearn: 0.7480086\ttotal: 418ms\tremaining: 1.65s\n",
      "200:\tlearn: 0.7499442\ttotal: 805ms\tremaining: 1.2s\n",
      "300:\tlearn: 0.7552297\ttotal: 1.2s\tremaining: 796ms\n",
      "400:\tlearn: 0.7602918\ttotal: 1.58s\tremaining: 391ms\n",
      "499:\tlearn: 0.7666195\ttotal: 1.99s\tremaining: 0us\n",
      "0:\tlearn: 0.7479899\ttotal: 4.01ms\tremaining: 2s\n",
      "100:\tlearn: 0.7480643\ttotal: 407ms\tremaining: 1.61s\n",
      "200:\tlearn: 0.7514145\ttotal: 798ms\tremaining: 1.19s\n",
      "300:\tlearn: 0.7550625\ttotal: 1.19s\tremaining: 785ms\n",
      "400:\tlearn: 0.7612418\ttotal: 1.57s\tremaining: 389ms\n",
      "499:\tlearn: 0.7681656\ttotal: 1.96s\tremaining: 0us\n",
      "0:\tlearn: 0.7479342\ttotal: 3.88ms\tremaining: 1.94s\n",
      "100:\tlearn: 0.7479342\ttotal: 401ms\tremaining: 1.58s\n",
      "200:\tlearn: 0.7486786\ttotal: 799ms\tremaining: 1.19s\n",
      "300:\tlearn: 0.7529964\ttotal: 1.19s\tremaining: 790ms\n",
      "400:\tlearn: 0.7583563\ttotal: 1.58s\tremaining: 389ms\n",
      "499:\tlearn: 0.7629718\ttotal: 1.96s\tremaining: 0us\n",
      "0:\tlearn: 0.7480086\ttotal: 4.12ms\tremaining: 2.06s\n",
      "100:\tlearn: 0.7480086\ttotal: 401ms\tremaining: 1.58s\n",
      "200:\tlearn: 0.7499442\ttotal: 788ms\tremaining: 1.17s\n",
      "300:\tlearn: 0.7552297\ttotal: 1.17s\tremaining: 773ms\n",
      "400:\tlearn: 0.7602918\ttotal: 1.54s\tremaining: 381ms\n",
      "499:\tlearn: 0.7666195\ttotal: 1.91s\tremaining: 0us\n",
      "0:\tlearn: 0.7479899\ttotal: 3.6ms\tremaining: 1.8s\n",
      "100:\tlearn: 0.7512656\ttotal: 382ms\tremaining: 1.51s\n",
      "200:\tlearn: 0.7630286\ttotal: 761ms\tremaining: 1.13s\n",
      "300:\tlearn: 0.7756105\ttotal: 1.14s\tremaining: 751ms\n",
      "400:\tlearn: 0.7890113\ttotal: 1.51s\tremaining: 373ms\n",
      "499:\tlearn: 0.8001787\ttotal: 1.88s\tremaining: 0us\n",
      "0:\tlearn: 0.7479342\ttotal: 3.75ms\tremaining: 1.87s\n",
      "100:\tlearn: 0.7492742\ttotal: 416ms\tremaining: 1.65s\n",
      "200:\tlearn: 0.7601429\ttotal: 805ms\tremaining: 1.2s\n",
      "300:\tlearn: 0.7730961\ttotal: 1.18s\tremaining: 782ms\n",
      "400:\tlearn: 0.7859748\ttotal: 1.57s\tremaining: 388ms\n",
      "499:\tlearn: 0.7972158\ttotal: 1.95s\tremaining: 0us\n",
      "0:\tlearn: 0.7480086\ttotal: 3.79ms\tremaining: 1.89s\n",
      "100:\tlearn: 0.7512842\ttotal: 383ms\tremaining: 1.51s\n",
      "200:\tlearn: 0.7631207\ttotal: 759ms\tremaining: 1.13s\n",
      "300:\tlearn: 0.7746594\ttotal: 1.13s\tremaining: 750ms\n",
      "400:\tlearn: 0.7871659\ttotal: 1.51s\tremaining: 374ms\n",
      "499:\tlearn: 0.7999702\ttotal: 1.89s\tremaining: 0us\n",
      "0:\tlearn: 0.7479899\ttotal: 3.68ms\tremaining: 1.84s\n",
      "100:\tlearn: 0.7512656\ttotal: 398ms\tremaining: 1.57s\n",
      "200:\tlearn: 0.7630286\ttotal: 781ms\tremaining: 1.16s\n",
      "300:\tlearn: 0.7756105\ttotal: 1.16s\tremaining: 766ms\n",
      "400:\tlearn: 0.7890113\ttotal: 1.52s\tremaining: 377ms\n",
      "499:\tlearn: 0.8001787\ttotal: 2.09s\tremaining: 0us\n",
      "0:\tlearn: 0.7479342\ttotal: 4.31ms\tremaining: 2.15s\n",
      "100:\tlearn: 0.7492742\ttotal: 389ms\tremaining: 1.53s\n",
      "200:\tlearn: 0.7601429\ttotal: 772ms\tremaining: 1.15s\n",
      "300:\tlearn: 0.7730961\ttotal: 1.14s\tremaining: 756ms\n",
      "400:\tlearn: 0.7859748\ttotal: 1.54s\tremaining: 379ms\n",
      "499:\tlearn: 0.7972158\ttotal: 1.9s\tremaining: 0us\n",
      "0:\tlearn: 0.7480086\ttotal: 3.46ms\tremaining: 1.73s\n",
      "100:\tlearn: 0.7512842\ttotal: 377ms\tremaining: 1.49s\n",
      "200:\tlearn: 0.7631207\ttotal: 763ms\tremaining: 1.14s\n",
      "300:\tlearn: 0.7746594\ttotal: 1.13s\tremaining: 747ms\n",
      "400:\tlearn: 0.7871659\ttotal: 1.49s\tremaining: 369ms\n",
      "499:\tlearn: 0.7999702\ttotal: 1.87s\tremaining: 0us\n",
      "0:\tlearn: 0.7479899\ttotal: 4.43ms\tremaining: 2.21s\n",
      "100:\tlearn: 0.7583383\ttotal: 386ms\tremaining: 1.52s\n",
      "200:\tlearn: 0.7785140\ttotal: 763ms\tremaining: 1.13s\n",
      "300:\tlearn: 0.7959351\ttotal: 1.17s\tremaining: 772ms\n",
      "400:\tlearn: 0.8117927\ttotal: 1.54s\tremaining: 380ms\n",
      "499:\tlearn: 0.8286182\ttotal: 1.91s\tremaining: 0us\n",
      "0:\tlearn: 0.7479342\ttotal: 4.17ms\tremaining: 2.08s\n",
      "100:\tlearn: 0.7540386\ttotal: 380ms\tremaining: 1.5s\n",
      "200:\tlearn: 0.7742128\ttotal: 752ms\tremaining: 1.12s\n",
      "300:\tlearn: 0.7937170\ttotal: 1.13s\tremaining: 748ms\n",
      "400:\tlearn: 0.8129234\ttotal: 1.49s\tremaining: 369ms\n",
      "499:\tlearn: 0.8258766\ttotal: 1.86s\tremaining: 0us\n",
      "0:\tlearn: 0.7480086\ttotal: 3.33ms\tremaining: 1.66s\n",
      "100:\tlearn: 0.7564208\ttotal: 372ms\tremaining: 1.47s\n",
      "200:\tlearn: 0.7773394\ttotal: 752ms\tremaining: 1.12s\n",
      "300:\tlearn: 0.7962480\ttotal: 1.13s\tremaining: 747ms\n",
      "400:\tlearn: 0.8129978\ttotal: 1.49s\tremaining: 368ms\n",
      "499:\tlearn: 0.8269932\ttotal: 1.85s\tremaining: 0us\n",
      "0:\tlearn: 0.7479899\ttotal: 3.62ms\tremaining: 1.8s\n",
      "100:\tlearn: 0.7583383\ttotal: 374ms\tremaining: 1.48s\n",
      "200:\tlearn: 0.7785140\ttotal: 786ms\tremaining: 1.17s\n",
      "300:\tlearn: 0.7959351\ttotal: 1.24s\tremaining: 817ms\n",
      "400:\tlearn: 0.8117927\ttotal: 1.62s\tremaining: 400ms\n",
      "499:\tlearn: 0.8286182\ttotal: 2s\tremaining: 0us\n",
      "0:\tlearn: 0.7479342\ttotal: 4.67ms\tremaining: 2.33s\n",
      "100:\tlearn: 0.7540386\ttotal: 390ms\tremaining: 1.54s\n",
      "200:\tlearn: 0.7742128\ttotal: 760ms\tremaining: 1.13s\n",
      "300:\tlearn: 0.7937170\ttotal: 1.12s\tremaining: 743ms\n",
      "400:\tlearn: 0.8129234\ttotal: 1.56s\tremaining: 386ms\n",
      "499:\tlearn: 0.8258766\ttotal: 1.94s\tremaining: 0us\n",
      "0:\tlearn: 0.7480086\ttotal: 4.65ms\tremaining: 2.32s\n",
      "100:\tlearn: 0.7564208\ttotal: 375ms\tremaining: 1.48s\n",
      "200:\tlearn: 0.7773394\ttotal: 757ms\tremaining: 1.13s\n",
      "300:\tlearn: 0.7962480\ttotal: 1.16s\tremaining: 765ms\n",
      "400:\tlearn: 0.8129978\ttotal: 1.55s\tremaining: 382ms\n",
      "499:\tlearn: 0.8269932\ttotal: 1.94s\tremaining: 0us\n",
      "0:\tlearn: 0.7479899\ttotal: 4.11ms\tremaining: 2.05s\n",
      "100:\tlearn: 0.7661554\ttotal: 404ms\tremaining: 1.6s\n",
      "200:\tlearn: 0.7908725\ttotal: 796ms\tremaining: 1.18s\n",
      "300:\tlearn: 0.8148451\ttotal: 1.17s\tremaining: 774ms\n",
      "400:\tlearn: 0.8315217\ttotal: 1.55s\tremaining: 383ms\n",
      "499:\tlearn: 0.8463371\ttotal: 2.03s\tremaining: 0us\n",
      "0:\tlearn: 0.7479342\ttotal: 4.62ms\tremaining: 2.3s\n",
      "100:\tlearn: 0.7612596\ttotal: 381ms\tremaining: 1.5s\n",
      "200:\tlearn: 0.7858260\ttotal: 787ms\tremaining: 1.17s\n",
      "300:\tlearn: 0.8103179\ttotal: 1.18s\tremaining: 782ms\n",
      "400:\tlearn: 0.8294499\ttotal: 1.57s\tremaining: 389ms\n",
      "499:\tlearn: 0.8447852\ttotal: 1.95s\tremaining: 0us\n",
      "0:\tlearn: 0.7480086\ttotal: 3.63ms\tremaining: 1.81s\n",
      "100:\tlearn: 0.7649818\ttotal: 383ms\tremaining: 1.51s\n",
      "200:\tlearn: 0.7905903\ttotal: 767ms\tremaining: 1.14s\n",
      "300:\tlearn: 0.8121045\ttotal: 1.15s\tremaining: 761ms\n",
      "400:\tlearn: 0.8293754\ttotal: 1.6s\tremaining: 394ms\n",
      "499:\tlearn: 0.8425519\ttotal: 1.99s\tremaining: 0us\n",
      "0:\tlearn: 0.7479899\ttotal: 4.69ms\tremaining: 2.34s\n",
      "100:\tlearn: 0.7661554\ttotal: 380ms\tremaining: 1.5s\n",
      "200:\tlearn: 0.7908725\ttotal: 774ms\tremaining: 1.15s\n",
      "300:\tlearn: 0.8148451\ttotal: 1.17s\tremaining: 774ms\n",
      "400:\tlearn: 0.8315217\ttotal: 1.56s\tremaining: 384ms\n",
      "499:\tlearn: 0.8463371\ttotal: 1.94s\tremaining: 0us\n",
      "0:\tlearn: 0.7479342\ttotal: 3.56ms\tremaining: 1.77s\n",
      "100:\tlearn: 0.7612596\ttotal: 383ms\tremaining: 1.51s\n",
      "200:\tlearn: 0.7858260\ttotal: 768ms\tremaining: 1.14s\n",
      "300:\tlearn: 0.8103179\ttotal: 1.14s\tremaining: 754ms\n",
      "400:\tlearn: 0.8294499\ttotal: 1.52s\tremaining: 375ms\n",
      "499:\tlearn: 0.8447852\ttotal: 1.89s\tremaining: 0us\n",
      "0:\tlearn: 0.7480086\ttotal: 5.79ms\tremaining: 2.89s\n",
      "100:\tlearn: 0.7649818\ttotal: 386ms\tremaining: 1.52s\n",
      "200:\tlearn: 0.7905903\ttotal: 763ms\tremaining: 1.13s\n",
      "300:\tlearn: 0.8121045\ttotal: 1.15s\tremaining: 762ms\n",
      "400:\tlearn: 0.8293754\ttotal: 1.52s\tremaining: 376ms\n",
      "499:\tlearn: 0.8425519\ttotal: 1.9s\tremaining: 0us\n",
      "0:\tlearn: 0.7479899\ttotal: 12.9ms\tremaining: 6.42s\n",
      "100:\tlearn: 0.7540203\ttotal: 1.46s\tremaining: 5.76s\n",
      "200:\tlearn: 0.7769506\ttotal: 2.81s\tremaining: 4.18s\n",
      "300:\tlearn: 0.8064324\ttotal: 4.18s\tremaining: 2.76s\n",
      "400:\tlearn: 0.8330107\ttotal: 5.53s\tremaining: 1.37s\n",
      "499:\tlearn: 0.8548987\ttotal: 6.81s\tremaining: 0us\n",
      "0:\tlearn: 0.7479342\ttotal: 11.1ms\tremaining: 5.55s\n",
      "100:\tlearn: 0.7512842\ttotal: 1.3s\tremaining: 5.16s\n",
      "200:\tlearn: 0.7709372\ttotal: 2.67s\tremaining: 3.97s\n",
      "300:\tlearn: 0.7993002\ttotal: 4.05s\tremaining: 2.68s\n",
      "400:\tlearn: 0.8274399\ttotal: 5.41s\tremaining: 1.33s\n",
      "499:\tlearn: 0.8502941\ttotal: 6.74s\tremaining: 0us\n",
      "0:\tlearn: 0.7486042\ttotal: 12.3ms\tremaining: 6.12s\n",
      "100:\tlearn: 0.7524752\ttotal: 1.31s\tremaining: 5.19s\n",
      "200:\tlearn: 0.7737661\ttotal: 2.89s\tremaining: 4.3s\n",
      "300:\tlearn: 0.8036180\ttotal: 4.2s\tremaining: 2.78s\n",
      "400:\tlearn: 0.8314598\ttotal: 5.51s\tremaining: 1.36s\n",
      "499:\tlearn: 0.8531973\ttotal: 6.88s\tremaining: 0us\n",
      "0:\tlearn: 0.7479899\ttotal: 13.8ms\tremaining: 6.9s\n",
      "100:\tlearn: 0.7540203\ttotal: 1.56s\tremaining: 6.16s\n",
      "200:\tlearn: 0.7769506\ttotal: 2.99s\tremaining: 4.45s\n",
      "300:\tlearn: 0.8064324\ttotal: 4.38s\tremaining: 2.89s\n",
      "400:\tlearn: 0.8330107\ttotal: 5.86s\tremaining: 1.45s\n",
      "499:\tlearn: 0.8548987\ttotal: 7.17s\tremaining: 0us\n",
      "0:\tlearn: 0.7479342\ttotal: 11.1ms\tremaining: 5.55s\n",
      "100:\tlearn: 0.7512842\ttotal: 1.37s\tremaining: 5.42s\n",
      "200:\tlearn: 0.7709372\ttotal: 2.68s\tremaining: 3.98s\n",
      "300:\tlearn: 0.7993002\ttotal: 4.16s\tremaining: 2.75s\n",
      "400:\tlearn: 0.8274399\ttotal: 5.6s\tremaining: 1.38s\n",
      "499:\tlearn: 0.8502941\ttotal: 6.92s\tremaining: 0us\n",
      "0:\tlearn: 0.7486042\ttotal: 12.1ms\tremaining: 6.04s\n",
      "100:\tlearn: 0.7524752\ttotal: 1.37s\tremaining: 5.42s\n",
      "200:\tlearn: 0.7737661\ttotal: 2.64s\tremaining: 3.93s\n",
      "300:\tlearn: 0.8036180\ttotal: 4.01s\tremaining: 2.65s\n",
      "400:\tlearn: 0.8314598\ttotal: 5.56s\tremaining: 1.37s\n",
      "499:\tlearn: 0.8531973\ttotal: 7.45s\tremaining: 0us\n",
      "0:\tlearn: 0.7479899\ttotal: 13ms\tremaining: 6.49s\n",
      "100:\tlearn: 0.7775462\ttotal: 1.38s\tremaining: 5.45s\n",
      "200:\tlearn: 0.8322662\ttotal: 2.8s\tremaining: 4.16s\n",
      "300:\tlearn: 0.8741811\ttotal: 4.21s\tremaining: 2.78s\n",
      "400:\tlearn: 0.9030673\ttotal: 5.62s\tremaining: 1.39s\n",
      "499:\tlearn: 0.9279333\ttotal: 7.15s\tremaining: 0us\n",
      "0:\tlearn: 0.7479342\ttotal: 61.3ms\tremaining: 30.6s\n",
      "100:\tlearn: 0.7733194\ttotal: 1.78s\tremaining: 7.04s\n",
      "200:\tlearn: 0.8307154\ttotal: 3.23s\tremaining: 4.81s\n",
      "300:\tlearn: 0.8711382\ttotal: 4.64s\tremaining: 3.07s\n",
      "400:\tlearn: 0.9026279\ttotal: 5.97s\tremaining: 1.47s\n",
      "499:\tlearn: 0.9271942\ttotal: 7.27s\tremaining: 0us\n",
      "0:\tlearn: 0.7486042\ttotal: 11.4ms\tremaining: 5.7s\n",
      "100:\tlearn: 0.7758505\ttotal: 1.28s\tremaining: 5.04s\n",
      "200:\tlearn: 0.8325765\ttotal: 2.52s\tremaining: 3.74s\n",
      "300:\tlearn: 0.8671183\ttotal: 3.75s\tremaining: 2.48s\n",
      "400:\tlearn: 0.9018834\ttotal: 5.02s\tremaining: 1.24s\n",
      "499:\tlearn: 0.9265987\ttotal: 6.25s\tremaining: 0us\n",
      "0:\tlearn: 0.7479899\ttotal: 13.6ms\tremaining: 6.77s\n",
      "100:\tlearn: 0.7775462\ttotal: 1.26s\tremaining: 4.99s\n",
      "200:\tlearn: 0.8322662\ttotal: 2.62s\tremaining: 3.89s\n",
      "300:\tlearn: 0.8741811\ttotal: 3.9s\tremaining: 2.58s\n",
      "400:\tlearn: 0.9030673\ttotal: 5.16s\tremaining: 1.27s\n",
      "499:\tlearn: 0.9279333\ttotal: 6.41s\tremaining: 0us\n",
      "0:\tlearn: 0.7479342\ttotal: 11.4ms\tremaining: 5.68s\n",
      "100:\tlearn: 0.7733194\ttotal: 1.27s\tremaining: 5.03s\n",
      "200:\tlearn: 0.8307154\ttotal: 2.79s\tremaining: 4.16s\n",
      "300:\tlearn: 0.8711382\ttotal: 4.06s\tremaining: 2.68s\n",
      "400:\tlearn: 0.9026279\ttotal: 5.35s\tremaining: 1.32s\n",
      "499:\tlearn: 0.9271942\ttotal: 6.58s\tremaining: 0us\n",
      "0:\tlearn: 0.7486042\ttotal: 11.2ms\tremaining: 5.58s\n",
      "100:\tlearn: 0.7758505\ttotal: 1.28s\tremaining: 5.06s\n",
      "200:\tlearn: 0.8325765\ttotal: 2.56s\tremaining: 3.81s\n",
      "300:\tlearn: 0.8671183\ttotal: 3.8s\tremaining: 2.51s\n",
      "400:\tlearn: 0.9018834\ttotal: 5.08s\tremaining: 1.25s\n",
      "499:\tlearn: 0.9265987\ttotal: 6.31s\tremaining: 0us\n",
      "0:\tlearn: 0.7479899\ttotal: 11.3ms\tremaining: 5.62s\n",
      "100:\tlearn: 0.8085914\ttotal: 1.27s\tremaining: 5.01s\n",
      "200:\tlearn: 0.8724687\ttotal: 2.52s\tremaining: 3.75s\n",
      "300:\tlearn: 0.9146069\ttotal: 3.79s\tremaining: 2.5s\n",
      "400:\tlearn: 0.9430465\ttotal: 5.04s\tremaining: 1.24s\n",
      "499:\tlearn: 0.9650089\ttotal: 6.29s\tremaining: 0us\n",
      "0:\tlearn: 0.7479342\ttotal: 11.6ms\tremaining: 5.78s\n",
      "100:\tlearn: 0.8018313\ttotal: 1.32s\tremaining: 5.21s\n",
      "200:\tlearn: 0.8702449\ttotal: 2.65s\tremaining: 3.94s\n",
      "300:\tlearn: 0.9143899\ttotal: 4.05s\tremaining: 2.68s\n",
      "400:\tlearn: 0.9454329\ttotal: 5.62s\tremaining: 1.39s\n",
      "499:\tlearn: 0.9668726\ttotal: 7.2s\tremaining: 0us\n",
      "0:\tlearn: 0.7486042\ttotal: 12.4ms\tremaining: 6.17s\n",
      "100:\tlearn: 0.8068935\ttotal: 1.58s\tremaining: 6.25s\n",
      "200:\tlearn: 0.8695749\ttotal: 2.94s\tremaining: 4.37s\n",
      "300:\tlearn: 0.9105189\ttotal: 4.19s\tremaining: 2.77s\n",
      "400:\tlearn: 0.9446140\ttotal: 5.5s\tremaining: 1.36s\n",
      "499:\tlearn: 0.9651604\ttotal: 6.86s\tremaining: 0us\n",
      "0:\tlearn: 0.7479899\ttotal: 14.5ms\tremaining: 7.24s\n",
      "100:\tlearn: 0.8085914\ttotal: 1.3s\tremaining: 5.14s\n",
      "200:\tlearn: 0.8724687\ttotal: 2.58s\tremaining: 3.84s\n",
      "300:\tlearn: 0.9146069\ttotal: 3.82s\tremaining: 2.52s\n",
      "400:\tlearn: 0.9430465\ttotal: 5.07s\tremaining: 1.25s\n",
      "499:\tlearn: 0.9650089\ttotal: 6.29s\tremaining: 0us\n",
      "0:\tlearn: 0.7479342\ttotal: 11.5ms\tremaining: 5.74s\n",
      "100:\tlearn: 0.8018313\ttotal: 1.25s\tremaining: 4.95s\n",
      "200:\tlearn: 0.8702449\ttotal: 2.49s\tremaining: 3.7s\n",
      "300:\tlearn: 0.9143899\ttotal: 3.73s\tremaining: 2.46s\n",
      "400:\tlearn: 0.9454329\ttotal: 4.98s\tremaining: 1.23s\n",
      "499:\tlearn: 0.9668726\ttotal: 6.21s\tremaining: 0us\n",
      "0:\tlearn: 0.7486042\ttotal: 11.3ms\tremaining: 5.63s\n",
      "100:\tlearn: 0.8068935\ttotal: 1.26s\tremaining: 5s\n",
      "200:\tlearn: 0.8695749\ttotal: 2.55s\tremaining: 3.8s\n",
      "300:\tlearn: 0.9105189\ttotal: 3.79s\tremaining: 2.51s\n",
      "400:\tlearn: 0.9446140\ttotal: 5.03s\tremaining: 1.24s\n",
      "499:\tlearn: 0.9651604\ttotal: 6.25s\tremaining: 0us\n",
      "0:\tlearn: 0.7479899\ttotal: 11.6ms\tremaining: 5.76s\n",
      "100:\tlearn: 0.8340530\ttotal: 1.23s\tremaining: 4.86s\n",
      "200:\tlearn: 0.9003127\ttotal: 2.44s\tremaining: 3.63s\n",
      "300:\tlearn: 0.9444610\ttotal: 3.68s\tremaining: 2.43s\n",
      "400:\tlearn: 0.9711138\ttotal: 4.96s\tremaining: 1.23s\n",
      "499:\tlearn: 0.9863014\ttotal: 6.28s\tremaining: 0us\n",
      "0:\tlearn: 0.7479342\ttotal: 11.5ms\tremaining: 5.71s\n",
      "100:\tlearn: 0.8307154\ttotal: 1.33s\tremaining: 5.24s\n",
      "200:\tlearn: 0.9000223\ttotal: 2.6s\tremaining: 3.88s\n",
      "300:\tlearn: 0.9443162\ttotal: 3.89s\tremaining: 2.57s\n",
      "400:\tlearn: 0.9709670\ttotal: 5.13s\tremaining: 1.27s\n",
      "499:\tlearn: 0.9860046\ttotal: 7.01s\tremaining: 0us\n",
      "0:\tlearn: 0.7486042\ttotal: 13.1ms\tremaining: 6.55s\n",
      "100:\tlearn: 0.8318321\ttotal: 1.41s\tremaining: 5.57s\n",
      "200:\tlearn: 0.9000968\ttotal: 2.67s\tremaining: 3.97s\n",
      "300:\tlearn: 0.9429763\ttotal: 3.96s\tremaining: 2.62s\n",
      "400:\tlearn: 0.9713392\ttotal: 5.21s\tremaining: 1.29s\n",
      "499:\tlearn: 0.9862279\ttotal: 6.47s\tremaining: 0us\n",
      "0:\tlearn: 0.7479899\ttotal: 13.2ms\tremaining: 6.61s\n",
      "100:\tlearn: 0.8340530\ttotal: 1.35s\tremaining: 5.32s\n",
      "200:\tlearn: 0.9003127\ttotal: 2.65s\tremaining: 3.94s\n",
      "300:\tlearn: 0.9444610\ttotal: 3.93s\tremaining: 2.6s\n",
      "400:\tlearn: 0.9711138\ttotal: 5.21s\tremaining: 1.29s\n",
      "499:\tlearn: 0.9863014\ttotal: 6.55s\tremaining: 0us\n",
      "0:\tlearn: 0.7479342\ttotal: 14.2ms\tremaining: 7.1s\n",
      "100:\tlearn: 0.8307154\ttotal: 1.3s\tremaining: 5.16s\n",
      "200:\tlearn: 0.9000223\ttotal: 2.65s\tremaining: 3.94s\n",
      "300:\tlearn: 0.9443162\ttotal: 3.96s\tremaining: 2.62s\n",
      "400:\tlearn: 0.9709670\ttotal: 5.25s\tremaining: 1.29s\n",
      "499:\tlearn: 0.9860046\ttotal: 6.57s\tremaining: 0us\n",
      "0:\tlearn: 0.7486042\ttotal: 11.8ms\tremaining: 5.91s\n",
      "100:\tlearn: 0.8318321\ttotal: 1.33s\tremaining: 5.27s\n",
      "200:\tlearn: 0.9000968\ttotal: 2.67s\tremaining: 3.97s\n",
      "300:\tlearn: 0.9429763\ttotal: 4s\tremaining: 2.64s\n",
      "400:\tlearn: 0.9713392\ttotal: 5.28s\tremaining: 1.3s\n",
      "499:\tlearn: 0.9862279\ttotal: 6.57s\tremaining: 0us\n",
      "0:\tlearn: 0.7500744\ttotal: 70.7ms\tremaining: 35.3s\n",
      "100:\tlearn: 0.8132073\ttotal: 7.87s\tremaining: 31.1s\n",
      "200:\tlearn: 0.8849762\ttotal: 15.7s\tremaining: 23.4s\n",
      "300:\tlearn: 0.9395473\ttotal: 23.7s\tremaining: 15.7s\n",
      "400:\tlearn: 0.9737195\ttotal: 31.5s\tremaining: 7.79s\n",
      "499:\tlearn: 0.9919595\ttotal: 39.1s\tremaining: 0us\n",
      "0:\tlearn: 0.7512842\ttotal: 68ms\tremaining: 33.9s\n",
      "100:\tlearn: 0.7987047\ttotal: 7.61s\tremaining: 30.1s\n",
      "200:\tlearn: 0.8768704\ttotal: 15.1s\tremaining: 22.5s\n",
      "300:\tlearn: 0.9357552\ttotal: 22.7s\tremaining: 15s\n",
      "400:\tlearn: 0.9730514\ttotal: 30.3s\tremaining: 7.47s\n",
      "499:\tlearn: 0.9896523\ttotal: 38.1s\tremaining: 0us\n",
      "0:\tlearn: 0.7507630\ttotal: 63.4ms\tremaining: 31.6s\n",
      "100:\tlearn: 0.8033202\ttotal: 8.02s\tremaining: 31.7s\n",
      "200:\tlearn: 0.8780615\ttotal: 15.9s\tremaining: 23.6s\n",
      "300:\tlearn: 0.9398496\ttotal: 24.2s\tremaining: 16s\n",
      "400:\tlearn: 0.9752103\ttotal: 33.6s\tremaining: 8.29s\n",
      "499:\tlearn: 0.9912901\ttotal: 42.5s\tremaining: 0us\n",
      "0:\tlearn: 0.7500744\ttotal: 68.7ms\tremaining: 34.3s\n",
      "100:\tlearn: 0.8132073\ttotal: 8.07s\tremaining: 31.9s\n",
      "200:\tlearn: 0.8849762\ttotal: 15.6s\tremaining: 23.2s\n",
      "300:\tlearn: 0.9395473\ttotal: 23.3s\tremaining: 15.4s\n",
      "400:\tlearn: 0.9737195\ttotal: 32s\tremaining: 7.89s\n",
      "499:\tlearn: 0.9919595\ttotal: 39.7s\tremaining: 0us\n",
      "0:\tlearn: 0.7512842\ttotal: 75.5ms\tremaining: 37.7s\n",
      "100:\tlearn: 0.7987047\ttotal: 8.2s\tremaining: 32.4s\n",
      "200:\tlearn: 0.8768704\ttotal: 16.6s\tremaining: 24.7s\n",
      "300:\tlearn: 0.9357552\ttotal: 24.7s\tremaining: 16.3s\n",
      "400:\tlearn: 0.9730514\ttotal: 33s\tremaining: 8.16s\n",
      "499:\tlearn: 0.9896523\ttotal: 42.2s\tremaining: 0us\n",
      "0:\tlearn: 0.7507630\ttotal: 76ms\tremaining: 37.9s\n",
      "100:\tlearn: 0.8033202\ttotal: 8.16s\tremaining: 32.2s\n",
      "200:\tlearn: 0.8780615\ttotal: 15.9s\tremaining: 23.7s\n",
      "300:\tlearn: 0.9398496\ttotal: 24.1s\tremaining: 15.9s\n",
      "400:\tlearn: 0.9752103\ttotal: 32.4s\tremaining: 7.99s\n",
      "499:\tlearn: 0.9912901\ttotal: 40.6s\tremaining: 0us\n",
      "0:\tlearn: 0.7500744\ttotal: 89ms\tremaining: 44.4s\n",
      "100:\tlearn: 0.8837850\ttotal: 8.85s\tremaining: 34.9s\n",
      "200:\tlearn: 0.9740173\ttotal: 17.4s\tremaining: 25.8s\n",
      "300:\tlearn: 0.9962031\ttotal: 26.3s\tremaining: 17.4s\n",
      "400:\tlearn: 0.9998511\ttotal: 35s\tremaining: 8.64s\n",
      "499:\tlearn: 1.0000000\ttotal: 44s\tremaining: 0us\n",
      "0:\tlearn: 0.7512842\ttotal: 104ms\tremaining: 51.7s\n",
      "100:\tlearn: 0.8754560\ttotal: 9.55s\tremaining: 37.7s\n",
      "200:\tlearn: 0.9694782\ttotal: 18.2s\tremaining: 27.1s\n",
      "300:\tlearn: 0.9965012\ttotal: 26.5s\tremaining: 17.5s\n",
      "400:\tlearn: 0.9999256\ttotal: 35.2s\tremaining: 8.7s\n",
      "499:\tlearn: 1.0000000\ttotal: 42.9s\tremaining: 0us\n",
      "0:\tlearn: 0.7507630\ttotal: 76.4ms\tremaining: 38.1s\n",
      "100:\tlearn: 0.8758282\ttotal: 7.84s\tremaining: 31s\n",
      "200:\tlearn: 0.9705204\ttotal: 15.9s\tremaining: 23.7s\n",
      "300:\tlearn: 0.9955334\ttotal: 25.2s\tremaining: 16.7s\n",
      "400:\tlearn: 0.9997022\ttotal: 33.6s\tremaining: 8.29s\n",
      "499:\tlearn: 1.0000000\ttotal: 41.1s\tremaining: 0us\n",
      "0:\tlearn: 0.7500744\ttotal: 69.5ms\tremaining: 34.7s\n",
      "100:\tlearn: 0.8837850\ttotal: 7.68s\tremaining: 30.4s\n",
      "200:\tlearn: 0.9740173\ttotal: 15.4s\tremaining: 22.9s\n",
      "300:\tlearn: 0.9962031\ttotal: 23.1s\tremaining: 15.3s\n",
      "400:\tlearn: 0.9998511\ttotal: 31.1s\tremaining: 7.68s\n",
      "499:\tlearn: 1.0000000\ttotal: 38.8s\tremaining: 0us\n",
      "0:\tlearn: 0.7512842\ttotal: 71.6ms\tremaining: 35.7s\n",
      "100:\tlearn: 0.8754560\ttotal: 7.89s\tremaining: 31.2s\n",
      "200:\tlearn: 0.9694782\ttotal: 15.7s\tremaining: 23.3s\n",
      "300:\tlearn: 0.9965012\ttotal: 23.6s\tremaining: 15.6s\n",
      "400:\tlearn: 0.9999256\ttotal: 31.4s\tremaining: 7.76s\n",
      "499:\tlearn: 1.0000000\ttotal: 39.2s\tremaining: 0us\n",
      "0:\tlearn: 0.7507630\ttotal: 70.8ms\tremaining: 35.3s\n",
      "100:\tlearn: 0.8758282\ttotal: 8.35s\tremaining: 33s\n",
      "200:\tlearn: 0.9705204\ttotal: 16.2s\tremaining: 24.1s\n",
      "300:\tlearn: 0.9955334\ttotal: 24s\tremaining: 15.9s\n",
      "400:\tlearn: 0.9997022\ttotal: 31.7s\tremaining: 7.82s\n",
      "499:\tlearn: 1.0000000\ttotal: 39.3s\tremaining: 0us\n",
      "0:\tlearn: 0.7500744\ttotal: 68ms\tremaining: 34s\n",
      "100:\tlearn: 0.9353782\ttotal: 7.65s\tremaining: 30.2s\n",
      "200:\tlearn: 0.9965009\ttotal: 15.7s\tremaining: 23.3s\n",
      "300:\tlearn: 1.0000000\ttotal: 23.7s\tremaining: 15.7s\n",
      "400:\tlearn: 1.0000000\ttotal: 31.6s\tremaining: 7.8s\n",
      "499:\tlearn: 1.0000000\ttotal: 39.4s\tremaining: 0us\n",
      "0:\tlearn: 0.7512842\ttotal: 67.2ms\tremaining: 33.5s\n",
      "100:\tlearn: 0.9303953\ttotal: 7.97s\tremaining: 31.5s\n",
      "200:\tlearn: 0.9942678\ttotal: 16s\tremaining: 23.7s\n",
      "300:\tlearn: 0.9998511\ttotal: 24s\tremaining: 15.9s\n",
      "400:\tlearn: 1.0000000\ttotal: 31.9s\tremaining: 7.88s\n",
      "499:\tlearn: 1.0000000\ttotal: 39.9s\tremaining: 0us\n",
      "0:\tlearn: 0.7507630\ttotal: 73.4ms\tremaining: 36.6s\n",
      "100:\tlearn: 0.9362763\ttotal: 7.91s\tremaining: 31.3s\n",
      "200:\tlearn: 0.9953101\ttotal: 16.1s\tremaining: 23.9s\n",
      "300:\tlearn: 0.9999256\ttotal: 23.9s\tremaining: 15.8s\n",
      "400:\tlearn: 1.0000000\ttotal: 32s\tremaining: 7.91s\n",
      "499:\tlearn: 1.0000000\ttotal: 39.9s\tremaining: 0us\n",
      "0:\tlearn: 0.7500744\ttotal: 64.5ms\tremaining: 32.2s\n",
      "100:\tlearn: 0.9353782\ttotal: 8.04s\tremaining: 31.8s\n",
      "200:\tlearn: 0.9965009\ttotal: 15.9s\tremaining: 23.6s\n",
      "300:\tlearn: 1.0000000\ttotal: 23.8s\tremaining: 15.7s\n",
      "400:\tlearn: 1.0000000\ttotal: 31.4s\tremaining: 7.76s\n",
      "499:\tlearn: 1.0000000\ttotal: 39.3s\tremaining: 0us\n",
      "0:\tlearn: 0.7512842\ttotal: 72.6ms\tremaining: 36.2s\n",
      "100:\tlearn: 0.9303953\ttotal: 8.49s\tremaining: 33.6s\n",
      "200:\tlearn: 0.9942678\ttotal: 16.3s\tremaining: 24.3s\n",
      "300:\tlearn: 0.9998511\ttotal: 24s\tremaining: 15.9s\n",
      "400:\tlearn: 1.0000000\ttotal: 31.7s\tremaining: 7.83s\n",
      "499:\tlearn: 1.0000000\ttotal: 39.3s\tremaining: 0us\n",
      "0:\tlearn: 0.7507630\ttotal: 76ms\tremaining: 37.9s\n",
      "100:\tlearn: 0.9362763\ttotal: 7.7s\tremaining: 30.4s\n",
      "200:\tlearn: 0.9953101\ttotal: 15.4s\tremaining: 22.9s\n",
      "300:\tlearn: 0.9999256\ttotal: 23.1s\tremaining: 15.3s\n",
      "400:\tlearn: 1.0000000\ttotal: 30.8s\tremaining: 7.61s\n",
      "499:\tlearn: 1.0000000\ttotal: 38.6s\tremaining: 0us\n",
      "0:\tlearn: 0.7500744\ttotal: 74.1ms\tremaining: 37s\n",
      "100:\tlearn: 0.9688803\ttotal: 7.84s\tremaining: 31s\n",
      "200:\tlearn: 0.9997022\ttotal: 15.5s\tremaining: 23s\n",
      "300:\tlearn: 1.0000000\ttotal: 23.2s\tremaining: 15.3s\n",
      "400:\tlearn: 1.0000000\ttotal: 30.9s\tremaining: 7.62s\n",
      "499:\tlearn: 1.0000000\ttotal: 38.4s\tremaining: 0us\n",
      "0:\tlearn: 0.7512842\ttotal: 65.8ms\tremaining: 32.8s\n",
      "100:\tlearn: 0.9660537\ttotal: 7.72s\tremaining: 30.5s\n",
      "200:\tlearn: 0.9996278\ttotal: 15.5s\tremaining: 23s\n",
      "300:\tlearn: 1.0000000\ttotal: 23.3s\tremaining: 15.4s\n",
      "400:\tlearn: 1.0000000\ttotal: 31s\tremaining: 7.66s\n",
      "499:\tlearn: 1.0000000\ttotal: 38.8s\tremaining: 0us\n",
      "0:\tlearn: 0.7507630\ttotal: 71.3ms\tremaining: 35.6s\n",
      "100:\tlearn: 0.9691804\ttotal: 7.83s\tremaining: 30.9s\n",
      "200:\tlearn: 0.9995533\ttotal: 15.4s\tremaining: 22.9s\n",
      "300:\tlearn: 1.0000000\ttotal: 23.1s\tremaining: 15.3s\n",
      "400:\tlearn: 1.0000000\ttotal: 30.7s\tremaining: 7.57s\n",
      "499:\tlearn: 1.0000000\ttotal: 38.2s\tremaining: 0us\n",
      "0:\tlearn: 0.7500744\ttotal: 65.7ms\tremaining: 32.8s\n",
      "100:\tlearn: 0.9688803\ttotal: 7.62s\tremaining: 30.1s\n",
      "200:\tlearn: 0.9997022\ttotal: 15.3s\tremaining: 22.8s\n",
      "300:\tlearn: 1.0000000\ttotal: 23s\tremaining: 15.2s\n",
      "400:\tlearn: 1.0000000\ttotal: 30.9s\tremaining: 7.62s\n",
      "499:\tlearn: 1.0000000\ttotal: 38.3s\tremaining: 0us\n",
      "0:\tlearn: 0.7512842\ttotal: 67.3ms\tremaining: 33.6s\n",
      "100:\tlearn: 0.9660537\ttotal: 7.49s\tremaining: 29.6s\n",
      "200:\tlearn: 0.9996278\ttotal: 15.1s\tremaining: 22.4s\n",
      "300:\tlearn: 1.0000000\ttotal: 23.1s\tremaining: 15.3s\n",
      "400:\tlearn: 1.0000000\ttotal: 30.7s\tremaining: 7.59s\n",
      "499:\tlearn: 1.0000000\ttotal: 38.3s\tremaining: 0us\n",
      "0:\tlearn: 0.7507630\ttotal: 66.9ms\tremaining: 33.4s\n",
      "100:\tlearn: 0.9691804\ttotal: 7.71s\tremaining: 30.5s\n",
      "200:\tlearn: 0.9995533\ttotal: 15.4s\tremaining: 22.9s\n",
      "300:\tlearn: 1.0000000\ttotal: 25.3s\tremaining: 16.7s\n",
      "400:\tlearn: 1.0000000\ttotal: 36.3s\tremaining: 8.97s\n",
      "499:\tlearn: 1.0000000\ttotal: 45.4s\tremaining: 0us\n",
      "0:\tlearn: 0.7486724\ttotal: 20.7ms\tremaining: 10.3s\n",
      "100:\tlearn: 0.7696660\ttotal: 1.57s\tremaining: 6.2s\n",
      "200:\tlearn: 0.8156236\ttotal: 3.36s\tremaining: 5s\n",
      "300:\tlearn: 0.8451040\ttotal: 4.82s\tremaining: 3.18s\n",
      "400:\tlearn: 0.8695221\ttotal: 6.19s\tremaining: 1.53s\n",
      "499:\tlearn: 0.8908631\ttotal: 7.57s\tremaining: 0us\n",
      "best params: {'depth': 6, 'learning_rate': np.float64(0.1), 'loss_function': 'CrossEntropy'}\n",
      "best accuracy: 0.7818254489503592\n"
     ]
    }
   ],
   "source": [
    "# catboost clf\n",
    "\n",
    "grid_cat = {\n",
    "    'depth':[3,6,9],\n",
    "    'learning_rate': np.array(range(5, 25, 5))/100,\n",
    "    'loss_function':['CrossEntropy','Logloss'],\n",
    "}\n",
    "\n",
    "model_cat = CatBoostClassifier(\n",
    "    iterations=500,\n",
    "    eval_metric='Accuracy',\n",
    "    verbose=100 # control how often the model will print out output - e.g. when verbose is set to 50 = every 50 iteretion print out current status\n",
    ")\n",
    "\n",
    "grid_cat = GridSearchCV(estimator=model_cat, param_grid=grid_cat, cv=3, scoring='accuracy')\n",
    "grid_cat.fit(X_train, y_train)\n",
    "\n",
    "#model.fit(X_train, y_train, eval_set=(X_test, y_test))\n",
    "print(f'best params: {grid_cat.best_params_}')\n",
    "print(f'best accuracy: {grid_cat.best_score_}')"
   ]
  },
  {
   "cell_type": "code",
   "execution_count": 195,
   "metadata": {},
   "outputs": [
    {
     "name": "stdout",
     "output_type": "stream",
     "text": [
      "0:\tlearn: 0.7487220\ttest: 0.7481143\tbest: 0.7481143 (0)\ttotal: 27.4ms\tremaining: 27.3s\n",
      "200:\tlearn: 0.8483299\ttest: 0.7814609\tbest: 0.7814609 (200)\ttotal: 5.61s\tremaining: 22.3s\n",
      "400:\tlearn: 0.9163730\ttest: 0.7888051\tbest: 0.7911870 (376)\ttotal: 11s\tremaining: 16.5s\n",
      "600:\tlearn: 0.9591047\ttest: 0.7941644\tbest: 0.7943628 (596)\ttotal: 16.3s\tremaining: 10.8s\n",
      "800:\tlearn: 0.9820338\ttest: 0.7929734\tbest: 0.7963478 (697)\ttotal: 21.9s\tremaining: 5.43s\n",
      "999:\tlearn: 0.9927044\ttest: 0.7939659\tbest: 0.7963478 (697)\ttotal: 27.1s\tremaining: 0us\n",
      "\n",
      "bestTest = 0.796347757\n",
      "bestIteration = 697\n",
      "\n",
      "Shrink model to first 698 iterations.\n"
     ]
    },
    {
     "data": {
      "text/plain": [
       "<catboost.core.CatBoostClassifier at 0x32038f850>"
      ]
     },
     "execution_count": 195,
     "metadata": {},
     "output_type": "execute_result"
    }
   ],
   "source": [
    "# CatBoost\n",
    "model_cat = CatBoostClassifier(\n",
    "    iterations=1000,\n",
    "    eval_metric='Accuracy',\n",
    "    verbose=200,\n",
    "    depth=7,\n",
    "    learning_rate=0.1,\n",
    "    loss_function='CrossEntropy'\n",
    ")\n",
    "model_cat.fit(X_train, y_train, eval_set=(X_test, y_test))"
   ]
  },
  {
   "cell_type": "code",
   "execution_count": 243,
   "metadata": {},
   "outputs": [
    {
     "ename": "NameError",
     "evalue": "name 'RandomizedSearchCV' is not defined",
     "output_type": "error",
     "traceback": [
      "\u001b[0;31m---------------------------------------------------------------------------\u001b[0m",
      "\u001b[0;31mNameError\u001b[0m                                 Traceback (most recent call last)",
      "Cell \u001b[0;32mIn[243], line 14\u001b[0m\n\u001b[1;32m      5\u001b[0m param_grid \u001b[38;5;241m=\u001b[39m {\n\u001b[1;32m      6\u001b[0m     \u001b[38;5;124m'\u001b[39m\u001b[38;5;124mn_estimators\u001b[39m\u001b[38;5;124m'\u001b[39m: [\u001b[38;5;241m500\u001b[39m, \u001b[38;5;241m1000\u001b[39m, \u001b[38;5;241m1500\u001b[39m],\n\u001b[1;32m      7\u001b[0m     \u001b[38;5;124m'\u001b[39m\u001b[38;5;124mmax_depth\u001b[39m\u001b[38;5;124m'\u001b[39m: [\u001b[38;5;28;01mNone\u001b[39;00m, \u001b[38;5;241m6\u001b[39m, \u001b[38;5;241m8\u001b[39m, \u001b[38;5;241m10\u001b[39m, \u001b[38;5;241m12\u001b[39m],\n\u001b[1;32m      8\u001b[0m     \u001b[38;5;124m'\u001b[39m\u001b[38;5;124mlearning_rate\u001b[39m\u001b[38;5;124m'\u001b[39m: [\u001b[38;5;241m0.05\u001b[39m, \u001b[38;5;241m0.1\u001b[39m, \u001b[38;5;241m0.15\u001b[39m, \u001b[38;5;241m0.2\u001b[39m],\n\u001b[1;32m      9\u001b[0m     \u001b[38;5;124m'\u001b[39m\u001b[38;5;124meval_metric\u001b[39m\u001b[38;5;124m'\u001b[39m: [\u001b[38;5;124m'\u001b[39m\u001b[38;5;124mlogloss\u001b[39m\u001b[38;5;124m'\u001b[39m, \u001b[38;5;124m'\u001b[39m\u001b[38;5;124merror\u001b[39m\u001b[38;5;124m'\u001b[39m, \u001b[38;5;124m'\u001b[39m\u001b[38;5;124mauc\u001b[39m\u001b[38;5;124m'\u001b[39m],\n\u001b[1;32m     10\u001b[0m }\n\u001b[1;32m     12\u001b[0m model \u001b[38;5;241m=\u001b[39m XGBClassifier(objective\u001b[38;5;241m=\u001b[39m\u001b[38;5;124m'\u001b[39m\u001b[38;5;124mbinary:logistic\u001b[39m\u001b[38;5;124m'\u001b[39m, use_label_encoder\u001b[38;5;241m=\u001b[39m\u001b[38;5;28;01mFalse\u001b[39;00m)\n\u001b[0;32m---> 14\u001b[0m grid_search \u001b[38;5;241m=\u001b[39m \u001b[43mRandomizedSearchCV\u001b[49m(model, param_grid, cv\u001b[38;5;241m=\u001b[39m\u001b[38;5;241m3\u001b[39m, scoring\u001b[38;5;241m=\u001b[39m\u001b[38;5;124m'\u001b[39m\u001b[38;5;124maccuracy\u001b[39m\u001b[38;5;124m'\u001b[39m, n_iter\u001b[38;5;241m=\u001b[39m\u001b[38;5;241m30\u001b[39m)\n\u001b[1;32m     15\u001b[0m grid_search\u001b[38;5;241m.\u001b[39mfit(X_train, y_train)\n\u001b[1;32m     17\u001b[0m \u001b[38;5;28mprint\u001b[39m(\u001b[38;5;124mf\u001b[39m\u001b[38;5;124m'\u001b[39m\u001b[38;5;124mBest Parameters: \u001b[39m\u001b[38;5;132;01m{\u001b[39;00mgrid_search\u001b[38;5;241m.\u001b[39mbest_params_\u001b[38;5;132;01m}\u001b[39;00m\u001b[38;5;124m'\u001b[39m)\n",
      "\u001b[0;31mNameError\u001b[0m: name 'RandomizedSearchCV' is not defined"
     ]
    }
   ],
   "source": [
    "# XGBClassifier\n",
    "\n",
    "xgb.set_config(verbosity=1)\n",
    "\n",
    "param_grid = {\n",
    "    'n_estimators': [500, 1000, 1500],\n",
    "    'max_depth': [3, 9, 15],\n",
    "    'learning_rate': [0.05, 0.1, 0.15],\n",
    "    'eval_metric': ['logloss', 'error', 'auc'],\n",
    "}\n",
    "\n",
    "model = XGBClassifier(objective='binary:logistic', use_label_encoder=False)\n",
    "\n",
    "grid_search = RandomizedSearchCV(model, param_grid, cv=3, scoring='accuracy', n_iter=60)\n",
    "grid_search.fit(X_train, y_train)\n",
    "\n",
    "print(f'Best Parameters: {grid_search.best_params_}')\n",
    "print(f'Best Score: {grid_search.best_score_:.4f}')\n",
    "\n",
    "# ✅ Predict and evaluate using the best model\n",
    "best_model = grid_search.best_estimator_\n",
    "y_pred = best_model.predict(X_test)\n",
    "\n",
    "print(classification_report(y_test, y_pred))\n",
    "print(\"Accuracy:\", accuracy_score(y_test, y_pred))"
   ]
  },
  {
   "cell_type": "code",
   "execution_count": 210,
   "metadata": {},
   "outputs": [
    {
     "name": "stdout",
     "output_type": "stream",
     "text": [
      "              precision    recall  f1-score   support\n",
      "\n",
      "           0       0.76      0.97      0.85      3768\n",
      "           1       0.48      0.09      0.15      1270\n",
      "\n",
      "    accuracy                           0.75      5038\n",
      "   macro avg       0.62      0.53      0.50      5038\n",
      "weighted avg       0.69      0.75      0.67      5038\n",
      "\n",
      "Accuracy: 0.7457324335053592\n"
     ]
    },
    {
     "name": "stderr",
     "output_type": "stream",
     "text": [
      "/Users/vanhieuvu/Documents/school/Magisterský studium/2.semestr/datovy_projekt/dp_env/lib/python3.9/site-packages/sklearn/linear_model/_logistic.py:465: ConvergenceWarning:\n",
      "\n",
      "lbfgs failed to converge (status=1):\n",
      "STOP: TOTAL NO. of ITERATIONS REACHED LIMIT.\n",
      "\n",
      "Increase the number of iterations (max_iter) or scale the data as shown in:\n",
      "    https://scikit-learn.org/stable/modules/preprocessing.html\n",
      "Please also refer to the documentation for alternative solver options:\n",
      "    https://scikit-learn.org/stable/modules/linear_model.html#logistic-regression\n",
      "\n"
     ]
    }
   ],
   "source": [
    "# logistic regression model\n",
    "model = LogisticRegression()\n",
    "model.fit(X_train, y_train)\n",
    "\n",
    "# Predict\n",
    "y_pred = model.predict(X_test)\n",
    "\n",
    "# Evaluate\n",
    "print(classification_report(y_test, y_pred))\n",
    "print(\"Accuracy:\", accuracy_score(y_test, y_pred))\n",
    "\n",
    "#Accuracy: 0.7457324335053592"
   ]
  },
  {
   "cell_type": "code",
   "execution_count": 237,
   "metadata": {},
   "outputs": [
    {
     "name": "stdout",
     "output_type": "stream",
     "text": [
      "              precision    recall  f1-score   support\n",
      "\n",
      "           0       0.82      0.81      0.81      3768\n",
      "           1       0.45      0.46      0.45      1270\n",
      "\n",
      "    accuracy                           0.72      5038\n",
      "   macro avg       0.63      0.63      0.63      5038\n",
      "weighted avg       0.72      0.72      0.72      5038\n",
      "\n",
      "Accuracy: 0.7213179833267169\n",
      "Node Count: 6473\n",
      "Max Depth: 30\n"
     ]
    }
   ],
   "source": [
    "\n",
    "# Define parameter grid\n",
    "param_grid = {\n",
    "    'max_depth': [3, 5, 10, None],\n",
    "    'criterion': ['gini', 'entropy']\n",
    "}\n",
    "\n",
    "# Define the base model\n",
    "model_dt = DecisionTreeClassifier(random_state=42)\n",
    "\n",
    "# Run grid search\n",
    "grid_search = GridSearchCV(model_dt, param_grid, cv=3, scoring='accuracy')\n",
    "grid_search.fit(X_train, y_train)\n",
    "\n",
    "# Get best model and predict\n",
    "best_dt = grid_search.best_estimator_\n",
    "y_pred = best_dt.predict(X_test)\n",
    "\n",
    "print(classification_report(y_test, y_pred))\n",
    "print(\"Accuracy:\", accuracy_score(y_test, y_pred))"
   ]
  },
  {
   "cell_type": "code",
   "execution_count": 235,
   "metadata": {},
   "outputs": [
    {
     "name": "stdout",
     "output_type": "stream",
     "text": [
      "              precision    recall  f1-score   support\n",
      "\n",
      "           0       0.82      0.91      0.87      3768\n",
      "           1       0.61      0.42      0.50      1270\n",
      "\n",
      "    accuracy                           0.79      5038\n",
      "   macro avg       0.72      0.67      0.68      5038\n",
      "weighted avg       0.77      0.79      0.77      5038\n",
      "\n",
      "Accuracy: 0.7874156411274316\n"
     ]
    }
   ],
   "source": [
    "# Define the parameter grid\n",
    "param_grid = {\n",
    "    'n_estimators': [100, 200, 300],\n",
    "    'max_depth': [None, 10, 20],\n",
    "    'criterion': ['gini', 'entropy']\n",
    "}\n",
    "\n",
    "# Base model\n",
    "model_rf = RandomForestClassifier(random_state=42)\n",
    "\n",
    "# Grid search\n",
    "grid_search = GridSearchCV(model_rf, param_grid, cv=3, scoring='accuracy')\n",
    "grid_search.fit(X_train, y_train)\n",
    "\n",
    "# Use the best model\n",
    "best_rf = grid_search.best_estimator_\n",
    "y_pred = best_rf.predict(X_test)\n",
    "\n",
    "# Evaluate\n",
    "print(classification_report(y_test, y_pred))\n",
    "print(\"Accuracy:\", accuracy_score(y_test, y_pred))\n",
    "print(\"Best Parameters:\", grid_search.best_params_)"
   ]
  }
 ],
 "metadata": {
  "kernelspec": {
   "display_name": "dp_env",
   "language": "python",
   "name": "python3"
  },
  "language_info": {
   "codemirror_mode": {
    "name": "ipython",
    "version": 3
   },
   "file_extension": ".py",
   "mimetype": "text/x-python",
   "name": "python",
   "nbconvert_exporter": "python",
   "pygments_lexer": "ipython3",
   "version": "3.9.13"
  }
 },
 "nbformat": 4,
 "nbformat_minor": 2
}
