{
 "cells": [
  {
   "cell_type": "code",
   "execution_count": 1,
   "metadata": {},
   "outputs": [],
   "source": [
    "import numpy as np\n",
    "import pandas as pd\n",
    "import matplotlib.pyplot as plt\n",
    "import seaborn as sns\n",
    "import plotly.express as px\n",
    "from datetime import datetime as dt\n",
    "from sklearn.model_selection import train_test_split\n",
    "import catboost\n",
    "from catboost import CatBoostClassifier"
   ]
  },
  {
   "cell_type": "code",
   "execution_count": 2,
   "metadata": {},
   "outputs": [],
   "source": [
    "df_atlas = pd.read_csv('../data/Atlas Cechu Student Access.csv', encoding='utf-8')\n",
    "df_payments = pd.read_csv('../data/Payments Student Access.csv', encoding='utf-8')"
   ]
  },
  {
   "cell_type": "code",
   "execution_count": 5,
   "metadata": {},
   "outputs": [
    {
     "data": {
      "text/plain": [
       "'2017-08-10 20:39:23.016652+00:00'"
      ]
     },
     "execution_count": 5,
     "metadata": {},
     "output_type": "execute_result"
    }
   ],
   "source": [
    "min(df_payments['created_at'].unique())"
   ]
  },
  {
   "cell_type": "code",
   "execution_count": 3,
   "metadata": {},
   "outputs": [
    {
     "data": {
      "text/plain": [
       "1121"
      ]
     },
     "execution_count": 3,
     "metadata": {},
     "output_type": "execute_result"
    }
   ],
   "source": [
    "len(df_atlas.columns)"
   ]
  },
  {
   "cell_type": "code",
   "execution_count": 4,
   "metadata": {},
   "outputs": [
    {
     "name": "stdout",
     "output_type": "stream",
     "text": [
      "<class 'pandas.core.frame.DataFrame'>\n",
      "RangeIndex: 30087 entries, 0 to 30086\n",
      "Data columns (total 8 columns):\n",
      " #   Column      Non-Null Count  Dtype  \n",
      "---  ------      --------------  -----  \n",
      " 0   id          30086 non-null  float64\n",
      " 1   created_at  30087 non-null  object \n",
      " 2   changed_at  30087 non-null  object \n",
      " 3   user        27652 non-null  object \n",
      " 4   batch       27502 non-null  object \n",
      " 5   credits     30086 non-null  float64\n",
      " 6   state       30086 non-null  object \n",
      " 7   type        30086 non-null  object \n",
      "dtypes: float64(2), object(6)\n",
      "memory usage: 1.8+ MB\n"
     ]
    }
   ],
   "source": [
    "df_payments.info()"
   ]
  },
  {
   "cell_type": "markdown",
   "metadata": {},
   "source": [
    "# Data Cleaning"
   ]
  },
  {
   "cell_type": "code",
   "execution_count": 5,
   "metadata": {},
   "outputs": [],
   "source": [
    "df_payments_cleaned = df_payments[df_payments['id'].notna()]"
   ]
  },
  {
   "cell_type": "code",
   "execution_count": 9,
   "metadata": {},
   "outputs": [
    {
     "data": {
      "text/plain": [
       "['user_id',\n",
       " 'all_intro-2022',\n",
       " 'atlas_vzorek-2023',\n",
       " 'atlas_vzorek-2024',\n",
       " 'all_intro-trendaro_panel_all',\n",
       " 'sex-woman',\n",
       " 'sex-man',\n",
       " 'age-15_17',\n",
       " 'age-18_24',\n",
       " 'age-25_34',\n",
       " 'age-35_44',\n",
       " 'age-45_54',\n",
       " 'age-55_64',\n",
       " 'age-65_plus',\n",
       " 'education_level-basic',\n",
       " 'education_level-high_bezmat',\n",
       " 'education_level-high_smat',\n",
       " 'education_level-university',\n",
       " 'city_size-0_2',\n",
       " 'city_size-2_10',\n",
       " 'city_size-10_50',\n",
       " 'city_size-over50',\n",
       " 'kraj-stredocesky',\n",
       " 'kraj-jihocesky',\n",
       " 'kraj-plzensky',\n",
       " 'kraj-karlovarsky',\n",
       " 'kraj-ustecky',\n",
       " 'kraj-liberecky',\n",
       " 'kraj-kralovehradecky',\n",
       " 'kraj-pardubicky',\n",
       " 'kraj-olomoucky',\n",
       " 'kraj-moravskoslezsky',\n",
       " 'kraj-jihomoravsky',\n",
       " 'kraj-zlinsky',\n",
       " 'kraj-vysocina',\n",
       " 'income_level-high',\n",
       " 'income_level-mid',\n",
       " 'income_level-low',\n",
       " 'ea-student',\n",
       " 'ea-maternity_leave',\n",
       " 'ea-unemployed',\n",
       " 'ea-pensioner',\n",
       " 'ea-fulltime',\n",
       " 'elected_2021-no',\n",
       " 'elected_2021-ano_2011',\n",
       " 'elected_2021-spolu',\n",
       " 'elected_2021-pirstan',\n",
       " 'elected_2021-spd',\n",
       " 'nuts2-praha',\n",
       " 'nuts2-stredocesky',\n",
       " 'nuts2-jihozapad',\n",
       " 'nuts2-severozapad',\n",
       " 'nuts2-severovychod',\n",
       " 'nuts2-stredni_morava',\n",
       " 'nuts2-moravskoslezsko',\n",
       " 'nuts2-jihovychod',\n",
       " 'age-18_29',\n",
       " 'age-30_44',\n",
       " 'age-45_64',\n",
       " 'kraj-hlavni',\n",
       " 'kraj-praha',\n",
       " 'city-brno',\n",
       " 'city-ostrava',\n",
       " 'city-plzen',\n",
       " 'education_level-university_bc',\n",
       " 'education_level-university_mgr',\n",
       " 'education_level-university_phd',\n",
       " 'education_level-high_stavebni',\n",
       " 'education_level-high_strojni',\n",
       " 'education_level-high_zdravotni',\n",
       " 'education_level-high_obchodni',\n",
       " 'education_level-high_remesla',\n",
       " 'education_level-high_zemedelska',\n",
       " 'education_field_general-tech',\n",
       " 'education_field_general-social_sci',\n",
       " 'education_field_general-economy',\n",
       " 'life_stages-mlady_bezdetny',\n",
       " 'life_stages-mlady_s_rodinou',\n",
       " 'life_stages-starsi_s_rodinou',\n",
       " 'life_stages-opustene_hnizdo',\n",
       " 'life_stages-duchodce',\n",
       " 'life_stages-stary_bezdetny',\n",
       " 'marital_status-single',\n",
       " 'marital_status-cohabitation',\n",
       " 'marital_status-married',\n",
       " 'marital_status-divorced',\n",
       " 'marital_status-widover',\n",
       " 'kids_number-0',\n",
       " 'kids_number-1plus',\n",
       " 'kids_number-1_2',\n",
       " 'kids_number-3plus',\n",
       " 'kids-man_yes',\n",
       " 'kids-man_no',\n",
       " 'kids-woman_yes',\n",
       " 'kids-woman_no',\n",
       " 'home_type-flat',\n",
       " 'home_type-house',\n",
       " 'home_type-other',\n",
       " 'ownership-rented',\n",
       " 'ownership-owner',\n",
       " 'living-sharing',\n",
       " 'living-single',\n",
       " 'members_household-flatmate',\n",
       " 'members_household-partner',\n",
       " 'members_household-children',\n",
       " 'members_household-parents',\n",
       " 'members_household-children_baby',\n",
       " 'members_household-children_preschool',\n",
       " 'members_household-children_schoolkid',\n",
       " 'members_household-children_highschoolkid',\n",
       " 'members_household-children_adult_kid',\n",
       " 'household_members_income-1',\n",
       " 'household_members_income-2',\n",
       " 'household_members_income-3plus',\n",
       " 'household_income-lt20',\n",
       " 'household_income-20_29',\n",
       " 'household_income-30_39',\n",
       " 'household_income-40_49',\n",
       " 'household_income-gt50',\n",
       " 'car-none',\n",
       " 'car',\n",
       " 'car_type-mini_car',\n",
       " 'car_type-middle_class',\n",
       " 'car_type-luxury_car',\n",
       " 'car_type-minivan',\n",
       " 'household_equipment-motorbike',\n",
       " 'household_equipment-tv',\n",
       " 'household_equipment-smart_home',\n",
       " 'household_equipment-pool',\n",
       " 'plan_property-soon',\n",
       " 'plan-house',\n",
       " 'plan-reconstruction',\n",
       " 'plan-garden_work',\n",
       " 'plan-interior_change',\n",
       " 'housing-big_city_centre',\n",
       " 'housing-small_city_centre',\n",
       " 'housing-housing_estate',\n",
       " 'housing-satellite_city',\n",
       " 'housing-village',\n",
       " 'garden_animals-gardening',\n",
       " 'garden_animals-balcony',\n",
       " 'garden_animals-animals_small',\n",
       " 'garden_animals-animals_big',\n",
       " 'repairing-me',\n",
       " 'repairing-not_me',\n",
       " 'houseworks-cooking',\n",
       " 'houseworks-tidy',\n",
       " 'houseworks-laundry',\n",
       " 'houseworks-animals',\n",
       " 'mobile_os-old',\n",
       " 'plan-chata',\n",
       " 'plan-rekonstrukce_chata',\n",
       " 'energy_supplier-me',\n",
       " 'energy_supplier-else',\n",
       " 'plyn-yes',\n",
       " 'other_electronics-naramek_owner',\n",
       " 'other_electronics-tablet_owner',\n",
       " 'other_electronics-laptop_owner',\n",
       " 'other_electronics-pc_owner',\n",
       " 'emobility_use-elektromobil',\n",
       " 'emobility_use-ekolo',\n",
       " 'emobility_use-ekolobezka',\n",
       " 'emobility_use-eskutr',\n",
       " 'income_situation_new-financial_problems',\n",
       " 'income_situation_new-from_month_to_month',\n",
       " 'income_situation_new-save_alittle',\n",
       " 'income_situation_new-save_6months',\n",
       " 'income_situation_new-wealthy',\n",
       " 'savings-nic',\n",
       " 'execution-no',\n",
       " 'execution-in_danger',\n",
       " 'execution-has_yet',\n",
       " 'bank-business_account',\n",
       " 'bank-savings_account',\n",
       " 'banking-mortgage',\n",
       " 'banking-overdraft',\n",
       " 'banking-business_loan',\n",
       " 'banking-personal_loan',\n",
       " 'insurance-none',\n",
       " 'insurance-household_insurance',\n",
       " 'insurance-car_insurance',\n",
       " 'insurance-accident_insurance',\n",
       " 'insurance-life_insurance',\n",
       " 'insurance-travel_insurance',\n",
       " 'investments-building_savings',\n",
       " 'investments-savings_accounts',\n",
       " 'investments-retirement_savings',\n",
       " 'investments-funds_shares_commodities',\n",
       " 'investments-cryptocurrency',\n",
       " 'investments-real_estate',\n",
       " 'income-up_10k',\n",
       " 'income-11k_20k',\n",
       " 'income-21k_30k',\n",
       " 'income-over_30k',\n",
       " 'save-cannot',\n",
       " 'save-can',\n",
       " 'income_situation_new-save_3months',\n",
       " 'bank-current_account',\n",
       " 'majetek-up500k',\n",
       " 'majetek-up1mio',\n",
       " 'majetek-up2halfmio',\n",
       " 'majetek-up5mio',\n",
       " 'majetek-plus5mio',\n",
       " 'ea-student_all',\n",
       " 'ea-maternity_leave_all',\n",
       " 'ea-unemployed_all',\n",
       " 'ea-pensioner_all',\n",
       " 'ea-employee',\n",
       " 'ea-osvc_own_firm',\n",
       " 'ea-osvc',\n",
       " 'ea-own_firm',\n",
       " 'job_time_new-fulltime',\n",
       " 'job_time_new-parttime',\n",
       " 'job_time_new-no_job',\n",
       " 'job_institution-firm',\n",
       " 'job_institution-public',\n",
       " 'job_institution-nonprofit',\n",
       " 'manual-profession',\n",
       " 'intel-profession',\n",
       " 'subordinate-none',\n",
       " 'subordinate-has',\n",
       " 'job-junior',\n",
       " 'job-leader',\n",
       " 'new_job-no',\n",
       " 'new_job-good_offer',\n",
       " 'new_job-searching',\n",
       " 'finding_job-hard',\n",
       " 'finding_job-easy',\n",
       " 'commuting-car',\n",
       " 'commuting-bus_train',\n",
       " 'commuting-bike',\n",
       " 'commuting-on_foot',\n",
       " 'work-team',\n",
       " 'work-alone',\n",
       " 'aim_stay_abroad-job',\n",
       " 'internet_tools-linked_in',\n",
       " 'job_time_new-less',\n",
       " 'previous_job-employee',\n",
       " 'previous_job-osvc',\n",
       " 'previous_job-own_firm',\n",
       " 'previous_job-none',\n",
       " 'home_office-now',\n",
       " 'home_office-regular',\n",
       " 'home_office-occasional',\n",
       " 'home_office-never',\n",
       " 'company_size-garage',\n",
       " 'company_size-small',\n",
       " 'company_size-medium',\n",
       " 'company_size-big',\n",
       " 'company_size-huge',\n",
       " 'kvalifikace-vs',\n",
       " 'kvalifikace-ss',\n",
       " 'kvalifikace-vyucni',\n",
       " 'kvalifikace-praxe',\n",
       " 'kvalifikace-kurz',\n",
       " 'kvalifikace-none',\n",
       " 'job-low_industry',\n",
       " 'job-salesman',\n",
       " 'job-finance',\n",
       " 'job-high_industry',\n",
       " 'job-building',\n",
       " 'job-transport',\n",
       " 'job-handyman',\n",
       " 'job-medical_social',\n",
       " 'job-it',\n",
       " 'job-gastro_travel',\n",
       " 'job-law',\n",
       " 'job-mkt_admin',\n",
       " 'job-edu_science',\n",
       " 'job-culture',\n",
       " 'job-forces',\n",
       " 'job-other',\n",
       " 'job-rote',\n",
       " 'job-new_issue',\n",
       " 'aim_stay_abroad-study',\n",
       " 'stay_abroad-ne',\n",
       " 'stay_abroad-ano',\n",
       " 'aim_stay_abroad-childhood',\n",
       " 'satisfaction_life-no',\n",
       " 'satisfaction_life-yes',\n",
       " 'satisfaction_money-no',\n",
       " 'satisfaction_money-yes',\n",
       " 'satisfaction_relationships-no',\n",
       " 'satisfaction_relationships-yes',\n",
       " 'business_satisfaction-no',\n",
       " 'business_satisfaction-yes',\n",
       " 'goldies_oldies-oldtime_lovers',\n",
       " 'goldies_oldies-cant_say',\n",
       " 'goldies_oldies-now_is_better',\n",
       " 'luck-bad_luck',\n",
       " 'luck-lucky_enough',\n",
       " 'satisfaction_life_in_CZ-no',\n",
       " 'satisfaction_life_in_CZ-yes',\n",
       " 'municipality_problems-passive',\n",
       " 'municipality_problems-active',\n",
       " 'country_problems-passive',\n",
       " 'country_problems-active',\n",
       " 'world_problems-passive',\n",
       " 'world_problems-active',\n",
       " 'car-image',\n",
       " 'car-transport',\n",
       " 'worse-stress',\n",
       " 'worse-routine',\n",
       " 'fulfillment-money',\n",
       " 'fulfillment-meaning',\n",
       " 'physical_punishment-none',\n",
       " 'physical_punishment-depends',\n",
       " 'violence-self_defense',\n",
       " 'violence-other',\n",
       " 'homosexuality-no_tolerance',\n",
       " 'homosexuality-no_adoption',\n",
       " 'homosexuality-marriage_adoption',\n",
       " 'rape_responsibility-none',\n",
       " 'rape_responsibility-yes',\n",
       " 'agency_structure-agency',\n",
       " 'agency_structure-structure',\n",
       " 'charity-no',\n",
       " 'charity-yes',\n",
       " 'my_childs_study-make_living',\n",
       " 'my_childs_study-fulfillment',\n",
       " 'security_feeling-no',\n",
       " 'security_feeling-yes',\n",
       " 'security-no_cameras',\n",
       " 'security-yes_cameras',\n",
       " 'country_future-foreign_affairs',\n",
       " 'country_future-interior_problems',\n",
       " 'elections_2021-yes_elections',\n",
       " 'elected_2021-nevoli',\n",
       " 'elected_2021-kscm',\n",
       " 'elected_2021-cssd',\n",
       " 'elected_2021-prisaha',\n",
       " 'elected_2021-other',\n",
       " 'elected_2021-nevi',\n",
       " 'religion-one_god',\n",
       " 'religion-deities',\n",
       " 'religion-something_above_us',\n",
       " 'religion-not_important',\n",
       " 'religion-nothing_above_us',\n",
       " 'household_care-woman',\n",
       " 'household_care-man',\n",
       " 'household_care-equally',\n",
       " 'household_division-natural_division',\n",
       " 'household_division-agreement',\n",
       " 'breadwinner-woman',\n",
       " 'breadwinner-man',\n",
       " 'breadwinner-equally',\n",
       " 'kids_fulfillment-yes',\n",
       " 'kids_fulfillment-no',\n",
       " 'chinese_medicine-chinese_prefer',\n",
       " 'chinese_medicine-supplement',\n",
       " 'chinese_medicine-unreal',\n",
       " 'vaccination-vaccination_ok',\n",
       " 'vaccination-vaccination_needed',\n",
       " 'vaccination-vaccination_bad',\n",
       " 'blood_donation-donates',\n",
       " 'blood_donation-supports',\n",
       " 'blood_donation-not_support',\n",
       " 'luck-little_luck',\n",
       " 'luck-do_not_believe',\n",
       " 'charity-close',\n",
       " 'charity-country',\n",
       " 'charity-international',\n",
       " 'charity-nature',\n",
       " 'charity-animals',\n",
       " 'charity-none',\n",
       " 'discuss_politics-yes',\n",
       " 'discuss_politics-no',\n",
       " 'discuss_municipality-yes',\n",
       " 'discuss_municipality-no',\n",
       " 'stavkrajiny-skvele',\n",
       " 'stavkrajiny-lepe',\n",
       " 'stavkrajiny-spatne',\n",
       " 'climate-bubble',\n",
       " 'climate-problem',\n",
       " 'climatehumans-much',\n",
       " 'climatehumans-little',\n",
       " 'climatehumans-no',\n",
       " 'eu_vyhody-zasadni',\n",
       " 'eu_vyhody-trochu',\n",
       " 'eu_vyhody-nevyhodne',\n",
       " 'immigrants_new-yes_all',\n",
       " 'immigrants_new-no_muslim',\n",
       " 'immigrants_new-no_none',\n",
       " 'emotion_okamura-positive',\n",
       " 'emotion_okamura-negative',\n",
       " 'emotion_babis-positive',\n",
       " 'emotion_babis-negative',\n",
       " 'emotion_zeman-positive',\n",
       " 'emotion_zeman-negative',\n",
       " 'emotion_havel-positive',\n",
       " 'emotion_havel-negative',\n",
       " 'emotion_bartos-positive',\n",
       " 'emotion_bartos-negative',\n",
       " 'emotion_fiala-positive',\n",
       " 'emotion_fiala-negative',\n",
       " 'vaccine-covid_more',\n",
       " 'vaccine-covid_one',\n",
       " 'vaccine-covid_cannot',\n",
       " 'vaccine-covid_against',\n",
       " 'confession-catholic',\n",
       " 'confession-christian',\n",
       " 'confession-muslim',\n",
       " 'confession-jude',\n",
       " 'confession-other_confession',\n",
       " 'konopi-ne',\n",
       " 'konopi-lekarske',\n",
       " 'konopi-osobni',\n",
       " 'emobility_attitude-spatne',\n",
       " 'emobility_attitude-budoucnost',\n",
       " 'shared_attitude-ne',\n",
       " 'shared_attitude-budoucnost',\n",
       " 'soc_kapital-pomaha_emoc',\n",
       " 'soc_kapital-finance',\n",
       " 'soc_kapital-pravnik',\n",
       " 'soc_kapital-pomuze_nemoc',\n",
       " 'soc_kapital-pomuze_byt',\n",
       " 'soc_kapital-nema_pomaha_emoc',\n",
       " 'soc_kapital-nema_finance',\n",
       " 'soc_kapital-nema_pravnik',\n",
       " 'soc_kapital-nema_pomuze_nemoc',\n",
       " 'soc_kapital-nema_pomuze_byt',\n",
       " 'friends-doctor',\n",
       " 'friends-program',\n",
       " 'friends-instalater',\n",
       " 'friends-dodavka',\n",
       " 'friends-doucit',\n",
       " 'friends-urad',\n",
       " 'friends-stavebni',\n",
       " 'friends-mechanic',\n",
       " 'friends-police',\n",
       " 'friends-doctor_nema',\n",
       " 'friends-program_nema',\n",
       " 'friends-instalater_nema',\n",
       " 'friends-dodavka_nema',\n",
       " 'friends-doucit_nema',\n",
       " 'friends-urad_nema',\n",
       " 'friends-stavebni_nema',\n",
       " 'friends-mechanic_nema',\n",
       " 'friends-police_nema',\n",
       " 'social_support-no_one',\n",
       " 'social_support-many',\n",
       " 'pride_1-open_minded',\n",
       " 'pride_1-university_diploma',\n",
       " 'pride_1-luxury_car',\n",
       " 'pride_1-moral_principles',\n",
       " 'pride_1-job',\n",
       " 'pride_1-reliability',\n",
       " 'pride_1-unique',\n",
       " 'pride_1-children',\n",
       " 'pride_2-fitness',\n",
       " 'pride_2-house',\n",
       " 'pride_2-public',\n",
       " 'pride_2-art',\n",
       " 'pride_2-help',\n",
       " 'pride_2-popularity',\n",
       " 'pride_2-attractiveness',\n",
       " 'holiday_number-0',\n",
       " 'holiday_number-1',\n",
       " 'holiday_number-2',\n",
       " 'holiday_number-3',\n",
       " 'holiday_price-up15',\n",
       " 'holiday_price-15_39',\n",
       " 'holiday_price-above_40',\n",
       " 'holiday_tourist_type-no_tourists',\n",
       " 'holiday_tourist_type-tourist_attractions',\n",
       " 'holiday_abroad-travel_agency',\n",
       " 'holiday_abroad-organized_group',\n",
       " 'holiday_abroad-on_my_own',\n",
       " 'holiday_abroad_transport-car',\n",
       " 'holiday_abroad_transport-bus',\n",
       " 'holiday_abroad_transport-train',\n",
       " 'holiday_abroad_transport-airplane',\n",
       " 'holiday_abroad-same_destinations',\n",
       " 'holiday_abroad-new_destinations',\n",
       " 'holiday_out_europe-ne',\n",
       " 'holiday_out_europe-ano',\n",
       " 'holiday_abroad_activities-sea',\n",
       " 'holiday_abroad_activities-hiking',\n",
       " 'holiday_abroad_activities-sightseeing',\n",
       " 'holiday_abroad_activities-mountains',\n",
       " 'holiday_abroad_activities-skiing',\n",
       " 'holiday_abroad_sport-fitness',\n",
       " 'holiday_abroad_activities-diving',\n",
       " 'holiday_abroad_activities-biking',\n",
       " 'aim_stay_abroad-vacation',\n",
       " 'holiday_abroad-ano',\n",
       " 'holiday_abroad-cesko',\n",
       " 'holiday_abroad-both',\n",
       " 'holiday_cesko_activities-rybnik',\n",
       " 'holiday_cesko_activities-hiking',\n",
       " 'holiday_cesko_activities-sightseeing',\n",
       " 'holiday_cesko_activities-skiing',\n",
       " 'holiday_cesko_activities-fitness',\n",
       " 'holiday_cesko_activities-biking',\n",
       " 'holiday_cesko_activities-gastro',\n",
       " 'municipality_problems-s_active',\n",
       " 'country_problems-s_active',\n",
       " 'world_problems-s_active',\n",
       " 'owns-weekend_house',\n",
       " 'owns-garden',\n",
       " 'owns-other_land',\n",
       " 'pet-any',\n",
       " 'pet-dog',\n",
       " 'pet-cat',\n",
       " 'driving_licence-none',\n",
       " 'driving_licence-car',\n",
       " 'driving_licence-motorbike',\n",
       " 'driving_licence-bus',\n",
       " 'english-no',\n",
       " 'english-yes',\n",
       " 'english-well',\n",
       " 'english-fluent',\n",
       " 'foreign_language-german',\n",
       " 'foreign_language-russian',\n",
       " 'foreign_language-french',\n",
       " 'foreign_language-spanish',\n",
       " 'foreign_language-italian',\n",
       " 'leisure_program-bored',\n",
       " 'leisure_program-busy',\n",
       " 'weekend_schedule-weekend_open',\n",
       " 'weekend_schedule-weekend_planner',\n",
       " 'weekend_place-home',\n",
       " 'weekend_place-diverse',\n",
       " 'hazard-bet',\n",
       " 'hazard-slot_machine',\n",
       " 'hazard-number_lottery',\n",
       " 'leisure_activity-passive_fan',\n",
       " 'leisure_activity-active_fan',\n",
       " 'leisure_activity-gamer',\n",
       " 'leisure_activity-wellness',\n",
       " 'leisure_activity-active_art',\n",
       " 'leisure_activity-book',\n",
       " 'leisure_activity-shopping_market',\n",
       " 'leisure_activity-pub',\n",
       " 'leisure_activity-dinner_outside',\n",
       " 'leisure_activity-party',\n",
       " 'leisure_activity-wine',\n",
       " 'leisure_activity-curious',\n",
       " 'media_channels-cinema',\n",
       " 'leisure_activity-theatre',\n",
       " 'leisure_activity-museum',\n",
       " 'leisure_activity-concert',\n",
       " 'leisure_activity-disco_club',\n",
       " 'leisure_activity-shopping_mall',\n",
       " 'leisure_activity-cottage',\n",
       " 'leisure_activity-playground',\n",
       " 'leisure_activity-fun_kids',\n",
       " 'leisure_activity-outdoor',\n",
       " 'theatre-clasic_theater',\n",
       " 'theatre-students_theater',\n",
       " 'theatre-musical',\n",
       " 'theatre-new_circus',\n",
       " 'smoking-no_smoking',\n",
       " 'smoking-occasionally',\n",
       " 'smoking-daily',\n",
       " 'smoking-heavy',\n",
       " 'cigarettes-rolled',\n",
       " 'beer-never_yearly',\n",
       " 'beer-weekly_monthly',\n",
       " 'fastfood-no',\n",
       " 'fastfood-yes',\n",
       " 'food_healthy-no',\n",
       " 'food_healthy-yes',\n",
       " 'new_restaurant-czech',\n",
       " 'new_restaurant-indian',\n",
       " 'new_restaurant-lebanese',\n",
       " 'new_restaurant-pizza',\n",
       " 'food_diet-no_meat',\n",
       " 'food_diet-vegetarian',\n",
       " 'food_diet-vegan',\n",
       " 'food_diet-gluten_free',\n",
       " 'food_diet-low_carb',\n",
       " 'food_diet-raw',\n",
       " 'food_diet-other_diet',\n",
       " 'quick_decision-negative',\n",
       " 'quick_decision-positive',\n",
       " 'leisure_activity_monthly_1-crosswords',\n",
       " 'leisure_activity_monthly_1-handcraft',\n",
       " 'leisure_activity_monthly_1-diy',\n",
       " 'leisure_activity_monthly_3-cafe',\n",
       " 'leisure_activity_monthly_3-walk',\n",
       " 'family_frequency-weekly',\n",
       " 'family_frequency-monthly',\n",
       " 'family_frequency-yearly',\n",
       " 'neighbours-meeting',\n",
       " 'neighbours-chat',\n",
       " 'neighbours-celebrations',\n",
       " 'neighbours-city',\n",
       " 'neighbours-none',\n",
       " 'hanging_out-weekly_monthly',\n",
       " 'hanging_out-yearly_never',\n",
       " 'internet-chains',\n",
       " 'internet-newsletter',\n",
       " 'internet-sn',\n",
       " 'immigrants_know-ano',\n",
       " 'immigrants_know-ne',\n",
       " 'horoscope-believe',\n",
       " 'horoscope-fun',\n",
       " 'horoscope-not_read',\n",
       " 'mobile_internet-no',\n",
       " 'mobile_games-often',\n",
       " 'mobile_apps-over10',\n",
       " 'other_electronics-book_reader_owner',\n",
       " 'gamer-yes',\n",
       " 'youtube_subscribe-yes',\n",
       " 'freq_tv_hours-gt_3',\n",
       " 'leisure_activity-gallery',\n",
       " 'leisure_activity-hiking',\n",
       " 'sport_frequency-less',\n",
       " 'sport_frequency-weekly',\n",
       " 'sport_frequency-monthly',\n",
       " 'hazard-casino_bet_online',\n",
       " 'family_frequency-never',\n",
       " 'cigarettes-pack',\n",
       " 'cigarettes-elektornic',\n",
       " 'cigarettes-stop_smoking',\n",
       " 'shared_use-yes',\n",
       " 'music-clasic',\n",
       " 'music-czech_pop_singers',\n",
       " 'music-colours',\n",
       " 'music-country',\n",
       " 'music-hiphop',\n",
       " 'music-czech_rock',\n",
       " 'music-czech_pop_bands',\n",
       " 'music-jazz_swing',\n",
       " 'music-world_pop',\n",
       " 'music-electronic_music',\n",
       " 'music-brass_band',\n",
       " 'music-world_rock',\n",
       " 'internet_tools-facebook',\n",
       " 'internet_tools-twitter',\n",
       " 'internet_tools-tinder',\n",
       " 'internet_tools-tiktok',\n",
       " 'internet_tools-instagram',\n",
       " 'internet_tools-messenger',\n",
       " 'internet_tools-whatsapp',\n",
       " 'internet_tools-skype',\n",
       " 'internet_tools-telegram',\n",
       " 'internet_tools-signal',\n",
       " 'internet_tools-viber',\n",
       " 'mobile_os-apple',\n",
       " 'mobile_internet-wifi',\n",
       " 'mobile_internet-data',\n",
       " 'information_source-tv',\n",
       " 'information_source-online_news',\n",
       " 'information_source-radio',\n",
       " 'information_source-friends_family',\n",
       " 'information_source-blog',\n",
       " 'information_source-newspaper',\n",
       " 'media_channels-tv_oldway',\n",
       " 'tv-online',\n",
       " 'media_channels-radio_oldway',\n",
       " 'radio-online',\n",
       " 'freq_tv-daily',\n",
       " 'freq_tv-weekly_monthly',\n",
       " 'freq_tv-less',\n",
       " 'paid_tv-daily',\n",
       " 'paid_tv-weekly_monthly',\n",
       " 'paid_tv-less',\n",
       " 'tv_radio_way-no_tv',\n",
       " 'tv_radio_way-no_radio',\n",
       " 'radio-daily',\n",
       " 'radio-weekly_monthly',\n",
       " 'radio-rare',\n",
       " 'newspapers-serious',\n",
       " 'tabloid-offline',\n",
       " 'journals-woman',\n",
       " 'journals-man',\n",
       " 'news_online-serious',\n",
       " 'tabloid-online',\n",
       " 'news_online-alt',\n",
       " 'woman-website',\n",
       " 'cooking-website',\n",
       " 'media_channels-news',\n",
       " 'media_channels-news_online',\n",
       " 'media_channels-journal',\n",
       " 'internet_bullshitters-more',\n",
       " 'internet_bullshitters-weekly',\n",
       " 'internet_bullshitters-less',\n",
       " 'youtube_subscribe-no-no-idea',\n",
       " 'freq_tv_hours-lt_1',\n",
       " 'freq_tv_hours-1_2',\n",
       " 'freq_tv_hours-3_7',\n",
       " 'tv_shows-fashion',\n",
       " 'tv_shows-garden',\n",
       " 'tv_shows-finance',\n",
       " 'tv_shows-world',\n",
       " 'tv_shows-nature',\n",
       " 'tv_shows-sport',\n",
       " 'tv_shows-series',\n",
       " 'tv_shows-history',\n",
       " 'tv_shows-politics',\n",
       " 'tv_shows-art',\n",
       " 'freq_radio_channel-evropa_2',\n",
       " 'freq_radio_channel-radio_impuls',\n",
       " 'freq_radio_channel-cesky_rozhlas_radiozurnal',\n",
       " 'freq_radio_channel-frekvence_1',\n",
       " 'freq_radio_channel-fajn_radio',\n",
       " 'freq_radio_channel-cesky_impuls',\n",
       " 'freq_radio_channel-radio_krokodyl',\n",
       " 'freq_radio_channel-rock_radio',\n",
       " 'freq_radio_channel-cesky_rozhlas_dvojka',\n",
       " 'freq_radio_channel-country_radio',\n",
       " 'freq_radio_channel-cesky_rozhlas_plus',\n",
       " 'freq_radio_channel-radio_1',\n",
       " 'freq_radio_channel-radio_spin',\n",
       " 'freq_radio_channel-expres_fm',\n",
       " 'freq_radio_channel-cesky_rozhlas_radio_wave',\n",
       " 'freq_radio_channel-free_radio',\n",
       " 'freq_radio_channel-cesky_rozhlas_vltava',\n",
       " 'freq_radio_channel-rock_max',\n",
       " 'freq_radio_channel-rockzone_1059',\n",
       " 'freq_radio_channel-zet_bbc_world_service',\n",
       " 'freq_radio_channel-radio_blanik',\n",
       " 'freq_radio_channel-cro',\n",
       " 'freq_radio_channel-kiss',\n",
       " 'tv_station_winners-ct_1',\n",
       " 'tv_station_winners-ct_2',\n",
       " 'tv_station_winners-ct_24',\n",
       " 'tv_station_winners-ct_sport',\n",
       " 'tv_station_winners-nova',\n",
       " 'tv_station_winners-nova_cinema',\n",
       " 'tv_station_winners-prima_family',\n",
       " 'tv_station_winners-prima_cool',\n",
       " 'tv_station_winners-barrandov',\n",
       " 'tv_station_winners-prima_love',\n",
       " 'tv_station_winners-ocko',\n",
       " 'tv_station_winners-nova_action',\n",
       " 'tv_station_winners-prima_zoom',\n",
       " 'tv_station_winners-prima_cnn',\n",
       " 'tv_station_winners-seznam_tv',\n",
       " 'tv_station_winners-prima_max',\n",
       " 'tv_station_winners-slagr_tv',\n",
       " 'newspaper_winners-denik',\n",
       " 'newspaper_winners-lidove_noviny',\n",
       " 'newspaper_winners-mf_dnes',\n",
       " 'newspaper_winners-pravo',\n",
       " 'newspaper_winners-denikn',\n",
       " 'newspaper_winners-5_2',\n",
       " 'newspaper_winners-blesk',\n",
       " 'newspaper_winners-aha',\n",
       " 'newspaper_winners-metro',\n",
       " 'newspaper_winners-hospodarske_noviny',\n",
       " 'newspaper_winners-halo_noviny',\n",
       " 'newspaper_winners-e_15',\n",
       " 'newspaper_winners-denik_sport',\n",
       " 'news_server_winners-aktualne',\n",
       " 'news_server_winners-denik_cz',\n",
       " 'news_server_winners-idnes',\n",
       " 'news_server_winners-lidovky',\n",
       " 'news_server_winners-ihned',\n",
       " 'news_server_winners-sport_cz',\n",
       " 'news_server_winners-g_cz',\n",
       " 'news_server_winners-super_cz',\n",
       " 'news_server_winners-extra',\n",
       " 'news_server_winners-blesk_cz',\n",
       " 'news_server_winners-ahaonline',\n",
       " 'news_server_winners-e_15_cz',\n",
       " 'news_server_winners-parlamentni_listy',\n",
       " 'news_server_winners-denik_referendum',\n",
       " 'news_server_winners-novinky_cz',\n",
       " 'news_server_winners-zive',\n",
       " 'news_server_winners-denik_n',\n",
       " 'news_server_winners-seznam_zpravy',\n",
       " 'tv_station-ct_1',\n",
       " 'tv_station-ct_2',\n",
       " 'tv_station-ct_24',\n",
       " 'tv_station-ct_sport',\n",
       " 'tv_station-nova',\n",
       " 'tv_station-nova_cinema',\n",
       " 'tv_station-prima_family',\n",
       " 'tv_station-prima_cool',\n",
       " 'tv_station-barrandov',\n",
       " 'tv_station-prima_love',\n",
       " 'tv_station-ocko',\n",
       " 'tv_station-slagr_tv',\n",
       " 'tv_station-prima_cnn',\n",
       " 'tv_station-seznam_tv',\n",
       " 'newspaper-denik',\n",
       " 'newspaper-lidove_noviny',\n",
       " 'newspaper-mf_dnes',\n",
       " 'newspaper-pravo',\n",
       " 'newspaper-denik_n',\n",
       " 'newspaper-5_2',\n",
       " 'newspaper-blesk',\n",
       " 'newspaper-aha',\n",
       " 'newspaper-metro',\n",
       " 'newspaper-hospodarske_noviny',\n",
       " 'newspaper-halo_noviny',\n",
       " 'newspaper-e_15',\n",
       " 'newspaper-denik_sport',\n",
       " 'journal-respekt',\n",
       " 'journal-forbes',\n",
       " 'journal-reflex',\n",
       " 'journal-tyden',\n",
       " 'journal-tema',\n",
       " 'journal-ekonom',\n",
       " 'journal-formen',\n",
       " 'journal-svet_motoru',\n",
       " 'journal-auto_tip',\n",
       " 'journal-esquire',\n",
       " 'journal-svet_zeny',\n",
       " 'journal-vlasta',\n",
       " 'journal-zena_zivot',\n",
       " 'journal-elle',\n",
       " 'journal-cosmopolitan',\n",
       " 'journal-rytmus_zivota',\n",
       " 'journal-epocha',\n",
       " 'journal-pestry_svet',\n",
       " 'journal-moje_psychologie',\n",
       " 'journal-lide_zeme',\n",
       " 'journal-national_geographic',\n",
       " 'news_server-aktualne',\n",
       " 'news_server-denik_cz',\n",
       " 'news_server-idnes',\n",
       " 'news_server-lidovky',\n",
       " 'news_server-irozhlas',\n",
       " 'news_server-denikn-online',\n",
       " 'news_server-ihned',\n",
       " 'news_server-sport_cz',\n",
       " 'news_server-g_cz',\n",
       " 'news_server-super_cz',\n",
       " 'news_server-seznam_zpravy',\n",
       " 'news_server-isport_cz',\n",
       " 'news_server-extra',\n",
       " 'news_server-blesk_cz',\n",
       " 'news_server-ahaonline',\n",
       " 'news_server-e_15_cz',\n",
       " 'news_server-parlamentni_listy',\n",
       " 'news_server-denik_referendum',\n",
       " 'news_server-novinky_cz',\n",
       " 'news_server-zive',\n",
       " 'online_tv-nova_online',\n",
       " 'online_tv-ct_online',\n",
       " 'online_tv-iprima',\n",
       " 'online_tv-dvtv',\n",
       " 'online_tv-stream',\n",
       " 'online_tv-seznam_tv',\n",
       " 'lifestyle_online_2-forum24',\n",
       " 'lifestyle_online_2-echo24',\n",
       " 'lifestyle_online_2-euro',\n",
       " 'lifestyle_online_2-refresher',\n",
       " 'lifestyle_online_3-lifee',\n",
       " 'lifestyle_online_3-drbna',\n",
       " 'lifestyle_online_3-marianne',\n",
       " 'lifestyle_online_3-expres',\n",
       " 'spending_type-spender',\n",
       " 'spending_type-saver',\n",
       " 'shopping_market_type-supermarket',\n",
       " 'shopping_market_type-samoobsluha',\n",
       " 'shopping_market_type-trh',\n",
       " 'shopping_market_type-bezobalu',\n",
       " 'shopping_weekly-bakery',\n",
       " 'shopping_weekly-grocery',\n",
       " 'shopping_weekly-reznik',\n",
       " 'shopping_weekly-zdrava_vyziva',\n",
       " 'shopping_monthly-second_hand',\n",
       " 'shopping_monthly-drugstore',\n",
       " 'shopping_monthly-pharmacy',\n",
       " 'shopping_quarterly-hobby',\n",
       " 'shopping_quarterly-knihy',\n",
       " 'shopping_quarterly-sport',\n",
       " 'shopping_monthly-obleceni',\n",
       " 'online_fre-vubec',\n",
       " 'online_fre-tyden',\n",
       " 'online_fre-mesic',\n",
       " 'online_fre-ctvrtrok',\n",
       " 'online_fre-pulrok',\n",
       " 'online_fre-rok',\n",
       " 'online_fre-mene',\n",
       " 'co_fre_online-elektro',\n",
       " 'co_fre_online-volny_cas',\n",
       " 'co_fre_online-drogerii',\n",
       " 'co_fre_online-obleceni',\n",
       " 'co_fre_online-leky',\n",
       " 'co_fre_online-mazlicci',\n",
       " 'co_fre_online-deti',\n",
       " 'co_fre_online-dum',\n",
       " 'co_fre_online-sport',\n",
       " 'co_fre_online-drogerii_mesic',\n",
       " 'co_fre_online-drogerii_rok',\n",
       " 'co_fre_online-drogerii_mene',\n",
       " 'co_fre_online-leky_mesic',\n",
       " 'co_fre_online-leky_rok',\n",
       " 'co_fre_online-leky_mene',\n",
       " 'co_fre_online-elektro_mesic',\n",
       " 'co_fre_online-elektro_rok',\n",
       " 'co_fre_online-elektro_mene',\n",
       " 'co_fre_online-obleceni_mesic',\n",
       " 'co_fre_online-obleceni_rok',\n",
       " 'co_fre_online-obleceni_mene',\n",
       " 'co_fre_online-sport_mesic',\n",
       " 'co_fre_online-sport_rok',\n",
       " 'co_fre_online-sport_mene',\n",
       " 'co_fre_online-mazlicci_mesic',\n",
       " 'co_fre_online-mazlicci_rok',\n",
       " 'co_fre_online-mazlicci_mene',\n",
       " 'co_fre_online-dum_mesic',\n",
       " 'co_fre_online-dum_rok',\n",
       " 'co_fre_online-dum_mene',\n",
       " 'co_fre_online-volny_cas_mesic',\n",
       " 'co_fre_online-volny_cas_rok',\n",
       " 'co_fre_online-volny_cas_mene',\n",
       " 'co_fre_online-deti_mesic',\n",
       " 'co_fre_online-deti_rok',\n",
       " 'co_fre_online-deti_mene',\n",
       " 'shopping-on_spot_decision',\n",
       " 'shopping-informed_decision',\n",
       " 'discount_hunters-none',\n",
       " 'discount_hunters-discount_leaflet',\n",
       " 'discount_hunters-e_discount_leaflet',\n",
       " 'discount_hunters-slevomat',\n",
       " 'discount_hunters-loyalty',\n",
       " 'payment_delayed-splatky',\n",
       " 'payment_delayed-odlozena',\n",
       " 'payment_delayed-kreditka',\n",
       " 'payment_delayed-kontokorent',\n",
       " 'brand-indifferent',\n",
       " 'brand-lover',\n",
       " 'grocery-ethics',\n",
       " 'grocery_quality-item_price',\n",
       " 'grocery_quality-calories',\n",
       " 'grocery_quality-health_aspect',\n",
       " 'grocery_quality-origin',\n",
       " 'grocery_quality-animal_suffering',\n",
       " 'grocery_quality-fair_trade',\n",
       " 'grocery_quality-bio_quality',\n",
       " 'fre_food-daily',\n",
       " 'fre_food-weekly',\n",
       " 'fre_food-monthly',\n",
       " 'fre_food-less',\n",
       " 'payment-karta_fyz',\n",
       " 'payment-g_apple_pay',\n",
       " 'payment-cash',\n",
       " 'payment-naramek',\n",
       " 'payment-stravenky',\n",
       " 'payment-jinak',\n",
       " 'potraviny_online-weekly',\n",
       " 'potraviny_online-monthly',\n",
       " 'potraviny_online-less',\n",
       " 'potraviny_online-never',\n",
       " 'obchody_online-rohlik',\n",
       " 'obchody_online-kosik',\n",
       " 'obchody_online-alza',\n",
       " 'obchody_online-mall',\n",
       " 'obchody_online-czc',\n",
       " 'obchody_online-datart',\n",
       " 'car_brand-ford',\n",
       " 'car_brand-peugeot',\n",
       " 'car_brand-renault',\n",
       " 'car_brand-skoda',\n",
       " 'car_brand-volkswagen',\n",
       " 'car_brand-opel',\n",
       " 'car_brand-toyota',\n",
       " 'car_brand-citroen',\n",
       " 'car_brand-hyundai',\n",
       " 'car_brand-kia',\n",
       " 'acounts-airbank',\n",
       " 'acounts-cs',\n",
       " 'acounts-csob',\n",
       " 'acounts-equa',\n",
       " 'acounts-fio',\n",
       " 'acounts-moneta',\n",
       " 'acounts-kb',\n",
       " 'acounts-mbank',\n",
       " 'acounts-era',\n",
       " 'acounts-raiffeisen',\n",
       " 'acounts-unicredit',\n",
       " 'acounts-sberbank',\n",
       " 'acounts-hello',\n",
       " 'mobile_os-android',\n",
       " 'notebook-acer',\n",
       " 'notebook-apple',\n",
       " 'notebook-asus',\n",
       " 'notebook-dell',\n",
       " 'notebook-hp',\n",
       " 'notebook-lenovo',\n",
       " 'mobile-samsung',\n",
       " 'mobile-apple',\n",
       " 'mobile-huawei',\n",
       " 'mobile-lenovo',\n",
       " 'mobile-sony',\n",
       " 'mobile-nokia',\n",
       " 'mobile-xiaomi',\n",
       " 'mobile-honor',\n",
       " 'cigarettes-luckystrike',\n",
       " 'cigarettes-davidoff',\n",
       " 'cigarettes-marlboro',\n",
       " 'cigarettes-winston',\n",
       " 'cigarettes-camel',\n",
       " 'cigarettes-chesterfield',\n",
       " 'cigarettes-lm',\n",
       " 'cigarettes-viceroy',\n",
       " 'beer-gambrinus',\n",
       " 'beer-kozel',\n",
       " 'beer-staropramen',\n",
       " 'beer-branik',\n",
       " 'beer-bernard',\n",
       " 'beer-plzen',\n",
       " 'beer-svijany',\n",
       " ...]"
      ]
     },
     "execution_count": 9,
     "metadata": {},
     "output_type": "execute_result"
    }
   ],
   "source": [
    "list(df_atlas.columns)"
   ]
  },
  {
   "cell_type": "code",
   "execution_count": 20,
   "metadata": {},
   "outputs": [
    {
     "data": {
      "text/html": [
       "<div>\n",
       "<style scoped>\n",
       "    .dataframe tbody tr th:only-of-type {\n",
       "        vertical-align: middle;\n",
       "    }\n",
       "\n",
       "    .dataframe tbody tr th {\n",
       "        vertical-align: top;\n",
       "    }\n",
       "\n",
       "    .dataframe thead th {\n",
       "        text-align: right;\n",
       "    }\n",
       "</style>\n",
       "<table border=\"1\" class=\"dataframe\">\n",
       "  <thead>\n",
       "    <tr style=\"text-align: right;\">\n",
       "      <th></th>\n",
       "      <th>user_id</th>\n",
       "      <th>all_intro-2022</th>\n",
       "      <th>atlas_vzorek-2023</th>\n",
       "      <th>atlas_vzorek-2024</th>\n",
       "      <th>all_intro-trendaro_panel_all</th>\n",
       "      <th>sex-woman</th>\n",
       "      <th>sex-man</th>\n",
       "      <th>age-15_17</th>\n",
       "      <th>age-18_24</th>\n",
       "      <th>age-25_34</th>\n",
       "      <th>...</th>\n",
       "      <th>check-tv</th>\n",
       "      <th>check-radio</th>\n",
       "      <th>check-household</th>\n",
       "      <th>check-overdraft</th>\n",
       "      <th>check-naramek</th>\n",
       "      <th>isic2_age-21_26</th>\n",
       "      <th>isic2_age-15_20</th>\n",
       "      <th>isic_age-15_17</th>\n",
       "      <th>isic_age-18_22</th>\n",
       "      <th>isic_age-23_26</th>\n",
       "    </tr>\n",
       "  </thead>\n",
       "  <tbody>\n",
       "    <tr>\n",
       "      <th>0</th>\n",
       "      <td>STUD29866</td>\n",
       "      <td>0</td>\n",
       "      <td>0</td>\n",
       "      <td>0</td>\n",
       "      <td>1</td>\n",
       "      <td>1</td>\n",
       "      <td>0</td>\n",
       "      <td>1</td>\n",
       "      <td>0</td>\n",
       "      <td>0</td>\n",
       "      <td>...</td>\n",
       "      <td>0</td>\n",
       "      <td>0</td>\n",
       "      <td>0</td>\n",
       "      <td>0</td>\n",
       "      <td>0</td>\n",
       "      <td>0</td>\n",
       "      <td>1</td>\n",
       "      <td>1</td>\n",
       "      <td>0</td>\n",
       "      <td>0</td>\n",
       "    </tr>\n",
       "    <tr>\n",
       "      <th>1</th>\n",
       "      <td>STUD35256</td>\n",
       "      <td>0</td>\n",
       "      <td>0</td>\n",
       "      <td>0</td>\n",
       "      <td>0</td>\n",
       "      <td>0</td>\n",
       "      <td>0</td>\n",
       "      <td>0</td>\n",
       "      <td>0</td>\n",
       "      <td>0</td>\n",
       "      <td>...</td>\n",
       "      <td>0</td>\n",
       "      <td>0</td>\n",
       "      <td>0</td>\n",
       "      <td>0</td>\n",
       "      <td>0</td>\n",
       "      <td>0</td>\n",
       "      <td>0</td>\n",
       "      <td>0</td>\n",
       "      <td>0</td>\n",
       "      <td>0</td>\n",
       "    </tr>\n",
       "    <tr>\n",
       "      <th>2</th>\n",
       "      <td>STUD29684</td>\n",
       "      <td>0</td>\n",
       "      <td>0</td>\n",
       "      <td>0</td>\n",
       "      <td>1</td>\n",
       "      <td>0</td>\n",
       "      <td>1</td>\n",
       "      <td>0</td>\n",
       "      <td>0</td>\n",
       "      <td>0</td>\n",
       "      <td>...</td>\n",
       "      <td>0</td>\n",
       "      <td>0</td>\n",
       "      <td>0</td>\n",
       "      <td>0</td>\n",
       "      <td>0</td>\n",
       "      <td>0</td>\n",
       "      <td>0</td>\n",
       "      <td>0</td>\n",
       "      <td>0</td>\n",
       "      <td>0</td>\n",
       "    </tr>\n",
       "    <tr>\n",
       "      <th>3</th>\n",
       "      <td>STUD11967</td>\n",
       "      <td>0</td>\n",
       "      <td>0</td>\n",
       "      <td>0</td>\n",
       "      <td>1</td>\n",
       "      <td>1</td>\n",
       "      <td>0</td>\n",
       "      <td>0</td>\n",
       "      <td>0</td>\n",
       "      <td>1</td>\n",
       "      <td>...</td>\n",
       "      <td>0</td>\n",
       "      <td>0</td>\n",
       "      <td>0</td>\n",
       "      <td>0</td>\n",
       "      <td>0</td>\n",
       "      <td>1</td>\n",
       "      <td>0</td>\n",
       "      <td>0</td>\n",
       "      <td>0</td>\n",
       "      <td>1</td>\n",
       "    </tr>\n",
       "    <tr>\n",
       "      <th>4</th>\n",
       "      <td>STUD57644</td>\n",
       "      <td>0</td>\n",
       "      <td>0</td>\n",
       "      <td>0</td>\n",
       "      <td>1</td>\n",
       "      <td>0</td>\n",
       "      <td>1</td>\n",
       "      <td>0</td>\n",
       "      <td>0</td>\n",
       "      <td>0</td>\n",
       "      <td>...</td>\n",
       "      <td>0</td>\n",
       "      <td>0</td>\n",
       "      <td>0</td>\n",
       "      <td>0</td>\n",
       "      <td>0</td>\n",
       "      <td>0</td>\n",
       "      <td>0</td>\n",
       "      <td>0</td>\n",
       "      <td>0</td>\n",
       "      <td>0</td>\n",
       "    </tr>\n",
       "    <tr>\n",
       "      <th>...</th>\n",
       "      <td>...</td>\n",
       "      <td>...</td>\n",
       "      <td>...</td>\n",
       "      <td>...</td>\n",
       "      <td>...</td>\n",
       "      <td>...</td>\n",
       "      <td>...</td>\n",
       "      <td>...</td>\n",
       "      <td>...</td>\n",
       "      <td>...</td>\n",
       "      <td>...</td>\n",
       "      <td>...</td>\n",
       "      <td>...</td>\n",
       "      <td>...</td>\n",
       "      <td>...</td>\n",
       "      <td>...</td>\n",
       "      <td>...</td>\n",
       "      <td>...</td>\n",
       "      <td>...</td>\n",
       "      <td>...</td>\n",
       "      <td>...</td>\n",
       "    </tr>\n",
       "    <tr>\n",
       "      <th>43528</th>\n",
       "      <td>STUD33520</td>\n",
       "      <td>0</td>\n",
       "      <td>0</td>\n",
       "      <td>0</td>\n",
       "      <td>1</td>\n",
       "      <td>1</td>\n",
       "      <td>0</td>\n",
       "      <td>0</td>\n",
       "      <td>0</td>\n",
       "      <td>0</td>\n",
       "      <td>...</td>\n",
       "      <td>0</td>\n",
       "      <td>0</td>\n",
       "      <td>0</td>\n",
       "      <td>0</td>\n",
       "      <td>0</td>\n",
       "      <td>0</td>\n",
       "      <td>0</td>\n",
       "      <td>0</td>\n",
       "      <td>0</td>\n",
       "      <td>0</td>\n",
       "    </tr>\n",
       "    <tr>\n",
       "      <th>43529</th>\n",
       "      <td>STUD64071</td>\n",
       "      <td>0</td>\n",
       "      <td>0</td>\n",
       "      <td>0</td>\n",
       "      <td>1</td>\n",
       "      <td>0</td>\n",
       "      <td>1</td>\n",
       "      <td>0</td>\n",
       "      <td>0</td>\n",
       "      <td>0</td>\n",
       "      <td>...</td>\n",
       "      <td>0</td>\n",
       "      <td>0</td>\n",
       "      <td>0</td>\n",
       "      <td>0</td>\n",
       "      <td>0</td>\n",
       "      <td>0</td>\n",
       "      <td>0</td>\n",
       "      <td>0</td>\n",
       "      <td>0</td>\n",
       "      <td>0</td>\n",
       "    </tr>\n",
       "    <tr>\n",
       "      <th>43530</th>\n",
       "      <td>STUD82916</td>\n",
       "      <td>1</td>\n",
       "      <td>1</td>\n",
       "      <td>1</td>\n",
       "      <td>1</td>\n",
       "      <td>0</td>\n",
       "      <td>1</td>\n",
       "      <td>0</td>\n",
       "      <td>0</td>\n",
       "      <td>0</td>\n",
       "      <td>...</td>\n",
       "      <td>0</td>\n",
       "      <td>0</td>\n",
       "      <td>0</td>\n",
       "      <td>0</td>\n",
       "      <td>0</td>\n",
       "      <td>0</td>\n",
       "      <td>0</td>\n",
       "      <td>0</td>\n",
       "      <td>0</td>\n",
       "      <td>0</td>\n",
       "    </tr>\n",
       "    <tr>\n",
       "      <th>43531</th>\n",
       "      <td>STUD63130</td>\n",
       "      <td>0</td>\n",
       "      <td>0</td>\n",
       "      <td>0</td>\n",
       "      <td>0</td>\n",
       "      <td>0</td>\n",
       "      <td>0</td>\n",
       "      <td>0</td>\n",
       "      <td>0</td>\n",
       "      <td>0</td>\n",
       "      <td>...</td>\n",
       "      <td>0</td>\n",
       "      <td>0</td>\n",
       "      <td>0</td>\n",
       "      <td>0</td>\n",
       "      <td>0</td>\n",
       "      <td>0</td>\n",
       "      <td>0</td>\n",
       "      <td>0</td>\n",
       "      <td>0</td>\n",
       "      <td>0</td>\n",
       "    </tr>\n",
       "    <tr>\n",
       "      <th>43532</th>\n",
       "      <td>STUD56842</td>\n",
       "      <td>0</td>\n",
       "      <td>0</td>\n",
       "      <td>0</td>\n",
       "      <td>1</td>\n",
       "      <td>0</td>\n",
       "      <td>1</td>\n",
       "      <td>0</td>\n",
       "      <td>0</td>\n",
       "      <td>0</td>\n",
       "      <td>...</td>\n",
       "      <td>0</td>\n",
       "      <td>0</td>\n",
       "      <td>0</td>\n",
       "      <td>0</td>\n",
       "      <td>0</td>\n",
       "      <td>0</td>\n",
       "      <td>0</td>\n",
       "      <td>0</td>\n",
       "      <td>0</td>\n",
       "      <td>0</td>\n",
       "    </tr>\n",
       "  </tbody>\n",
       "</table>\n",
       "<p>43533 rows × 1121 columns</p>\n",
       "</div>"
      ],
      "text/plain": [
       "         user_id  all_intro-2022  atlas_vzorek-2023  atlas_vzorek-2024  \\\n",
       "0      STUD29866               0                  0                  0   \n",
       "1      STUD35256               0                  0                  0   \n",
       "2      STUD29684               0                  0                  0   \n",
       "3      STUD11967               0                  0                  0   \n",
       "4      STUD57644               0                  0                  0   \n",
       "...          ...             ...                ...                ...   \n",
       "43528  STUD33520               0                  0                  0   \n",
       "43529  STUD64071               0                  0                  0   \n",
       "43530  STUD82916               1                  1                  1   \n",
       "43531  STUD63130               0                  0                  0   \n",
       "43532  STUD56842               0                  0                  0   \n",
       "\n",
       "       all_intro-trendaro_panel_all  sex-woman  sex-man  age-15_17  age-18_24  \\\n",
       "0                                 1          1        0          1          0   \n",
       "1                                 0          0        0          0          0   \n",
       "2                                 1          0        1          0          0   \n",
       "3                                 1          1        0          0          0   \n",
       "4                                 1          0        1          0          0   \n",
       "...                             ...        ...      ...        ...        ...   \n",
       "43528                             1          1        0          0          0   \n",
       "43529                             1          0        1          0          0   \n",
       "43530                             1          0        1          0          0   \n",
       "43531                             0          0        0          0          0   \n",
       "43532                             1          0        1          0          0   \n",
       "\n",
       "       age-25_34  ...  check-tv  check-radio  check-household  \\\n",
       "0              0  ...         0            0                0   \n",
       "1              0  ...         0            0                0   \n",
       "2              0  ...         0            0                0   \n",
       "3              1  ...         0            0                0   \n",
       "4              0  ...         0            0                0   \n",
       "...          ...  ...       ...          ...              ...   \n",
       "43528          0  ...         0            0                0   \n",
       "43529          0  ...         0            0                0   \n",
       "43530          0  ...         0            0                0   \n",
       "43531          0  ...         0            0                0   \n",
       "43532          0  ...         0            0                0   \n",
       "\n",
       "       check-overdraft  check-naramek  isic2_age-21_26  isic2_age-15_20  \\\n",
       "0                    0              0                0                1   \n",
       "1                    0              0                0                0   \n",
       "2                    0              0                0                0   \n",
       "3                    0              0                1                0   \n",
       "4                    0              0                0                0   \n",
       "...                ...            ...              ...              ...   \n",
       "43528                0              0                0                0   \n",
       "43529                0              0                0                0   \n",
       "43530                0              0                0                0   \n",
       "43531                0              0                0                0   \n",
       "43532                0              0                0                0   \n",
       "\n",
       "       isic_age-15_17  isic_age-18_22  isic_age-23_26  \n",
       "0                   1               0               0  \n",
       "1                   0               0               0  \n",
       "2                   0               0               0  \n",
       "3                   0               0               1  \n",
       "4                   0               0               0  \n",
       "...               ...             ...             ...  \n",
       "43528               0               0               0  \n",
       "43529               0               0               0  \n",
       "43530               0               0               0  \n",
       "43531               0               0               0  \n",
       "43532               0               0               0  \n",
       "\n",
       "[43533 rows x 1121 columns]"
      ]
     },
     "execution_count": 20,
     "metadata": {},
     "output_type": "execute_result"
    }
   ],
   "source": [
    "df_atlas"
   ]
  },
  {
   "cell_type": "code",
   "execution_count": 16,
   "metadata": {},
   "outputs": [],
   "source": [
    "from collections import defaultdict\n",
    "\n",
    "grouped_cols = defaultdict(dict)\n",
    "\n",
    "for col in df_atlas.columns:\n",
    "    if \"-\" in col:\n",
    "        group, key = col.split('-', 1)\n",
    "        grouped_cols[group][key] = col\n",
    "    else:\n",
    "        grouped_cols[col][col] = col\n",
    "\n",
    "structured_data = []\n",
    "for _, row in df_atlas.iterrows():\n",
    "    entry = {}\n",
    "    for group, mapping in grouped_cols.items():\n",
    "        entry[group] = [key for key, col in mapping.items() if row[col] == 1]\n",
    "    structured_data.append(entry)"
   ]
  },
  {
   "cell_type": "code",
   "execution_count": 17,
   "metadata": {},
   "outputs": [],
   "source": [
    "df_test = pd.DataFrame(structured_data)"
   ]
  },
  {
   "cell_type": "code",
   "execution_count": 108,
   "metadata": {},
   "outputs": [],
   "source": [
    "df_test2 = df_test.drop(columns=['user_id'])\n",
    "df_test3 = pd.concat([df_atlas['user_id'], df_test2], axis=1, join='inner')"
   ]
  },
  {
   "cell_type": "code",
   "execution_count": 109,
   "metadata": {},
   "outputs": [
    {
     "data": {
      "text/html": [
       "<div>\n",
       "<style scoped>\n",
       "    .dataframe tbody tr th:only-of-type {\n",
       "        vertical-align: middle;\n",
       "    }\n",
       "\n",
       "    .dataframe tbody tr th {\n",
       "        vertical-align: top;\n",
       "    }\n",
       "\n",
       "    .dataframe thead th {\n",
       "        text-align: right;\n",
       "    }\n",
       "</style>\n",
       "<table border=\"1\" class=\"dataframe\">\n",
       "  <thead>\n",
       "    <tr style=\"text-align: right;\">\n",
       "      <th></th>\n",
       "      <th>user_id</th>\n",
       "      <th>all_intro</th>\n",
       "      <th>atlas_vzorek</th>\n",
       "      <th>sex</th>\n",
       "      <th>age</th>\n",
       "      <th>education_level</th>\n",
       "      <th>city_size</th>\n",
       "      <th>kraj</th>\n",
       "      <th>income_level</th>\n",
       "      <th>ea</th>\n",
       "      <th>...</th>\n",
       "      <th>sportshops_halfyear</th>\n",
       "      <th>sport_halfyear</th>\n",
       "      <th>klientstvi</th>\n",
       "      <th>intro</th>\n",
       "      <th>seen</th>\n",
       "      <th>kecalkove</th>\n",
       "      <th>nakupuje</th>\n",
       "      <th>check</th>\n",
       "      <th>isic2_age</th>\n",
       "      <th>isic_age</th>\n",
       "    </tr>\n",
       "  </thead>\n",
       "  <tbody>\n",
       "    <tr>\n",
       "      <th>0</th>\n",
       "      <td>STUD29866</td>\n",
       "      <td>[trendaro_panel_all]</td>\n",
       "      <td>[]</td>\n",
       "      <td>[woman]</td>\n",
       "      <td>[15_17]</td>\n",
       "      <td>[basic]</td>\n",
       "      <td>[over50]</td>\n",
       "      <td>[vysocina]</td>\n",
       "      <td>[]</td>\n",
       "      <td>[]</td>\n",
       "      <td>...</td>\n",
       "      <td>[]</td>\n",
       "      <td>[]</td>\n",
       "      <td>[]</td>\n",
       "      <td>[]</td>\n",
       "      <td>[o_mne]</td>\n",
       "      <td>[]</td>\n",
       "      <td>[]</td>\n",
       "      <td>[]</td>\n",
       "      <td>[15_20]</td>\n",
       "      <td>[15_17]</td>\n",
       "    </tr>\n",
       "    <tr>\n",
       "      <th>1</th>\n",
       "      <td>STUD35256</td>\n",
       "      <td>[]</td>\n",
       "      <td>[]</td>\n",
       "      <td>[]</td>\n",
       "      <td>[]</td>\n",
       "      <td>[]</td>\n",
       "      <td>[]</td>\n",
       "      <td>[]</td>\n",
       "      <td>[]</td>\n",
       "      <td>[]</td>\n",
       "      <td>...</td>\n",
       "      <td>[]</td>\n",
       "      <td>[]</td>\n",
       "      <td>[]</td>\n",
       "      <td>[]</td>\n",
       "      <td>[]</td>\n",
       "      <td>[]</td>\n",
       "      <td>[]</td>\n",
       "      <td>[]</td>\n",
       "      <td>[]</td>\n",
       "      <td>[]</td>\n",
       "    </tr>\n",
       "    <tr>\n",
       "      <th>2</th>\n",
       "      <td>STUD29684</td>\n",
       "      <td>[trendaro_panel_all]</td>\n",
       "      <td>[]</td>\n",
       "      <td>[man]</td>\n",
       "      <td>[55_64, 45_64]</td>\n",
       "      <td>[high_bezmat]</td>\n",
       "      <td>[over50]</td>\n",
       "      <td>[plzensky]</td>\n",
       "      <td>[]</td>\n",
       "      <td>[]</td>\n",
       "      <td>...</td>\n",
       "      <td>[]</td>\n",
       "      <td>[]</td>\n",
       "      <td>[]</td>\n",
       "      <td>[]</td>\n",
       "      <td>[o_mne]</td>\n",
       "      <td>[]</td>\n",
       "      <td>[]</td>\n",
       "      <td>[]</td>\n",
       "      <td>[]</td>\n",
       "      <td>[]</td>\n",
       "    </tr>\n",
       "    <tr>\n",
       "      <th>3</th>\n",
       "      <td>STUD11967</td>\n",
       "      <td>[trendaro_panel_all]</td>\n",
       "      <td>[]</td>\n",
       "      <td>[woman]</td>\n",
       "      <td>[25_34, 18_29]</td>\n",
       "      <td>[university, university_mgr]</td>\n",
       "      <td>[over50]</td>\n",
       "      <td>[vysocina]</td>\n",
       "      <td>[]</td>\n",
       "      <td>[]</td>\n",
       "      <td>...</td>\n",
       "      <td>[]</td>\n",
       "      <td>[]</td>\n",
       "      <td>[]</td>\n",
       "      <td>[]</td>\n",
       "      <td>[o_mne, nazory, media]</td>\n",
       "      <td>[]</td>\n",
       "      <td>[]</td>\n",
       "      <td>[]</td>\n",
       "      <td>[21_26]</td>\n",
       "      <td>[23_26]</td>\n",
       "    </tr>\n",
       "    <tr>\n",
       "      <th>4</th>\n",
       "      <td>STUD57644</td>\n",
       "      <td>[trendaro_panel_all]</td>\n",
       "      <td>[]</td>\n",
       "      <td>[man]</td>\n",
       "      <td>[35_44, 30_44]</td>\n",
       "      <td>[basic]</td>\n",
       "      <td>[over50]</td>\n",
       "      <td>[plzensky]</td>\n",
       "      <td>[]</td>\n",
       "      <td>[]</td>\n",
       "      <td>...</td>\n",
       "      <td>[]</td>\n",
       "      <td>[]</td>\n",
       "      <td>[]</td>\n",
       "      <td>[]</td>\n",
       "      <td>[o_mne]</td>\n",
       "      <td>[]</td>\n",
       "      <td>[]</td>\n",
       "      <td>[]</td>\n",
       "      <td>[]</td>\n",
       "      <td>[]</td>\n",
       "    </tr>\n",
       "    <tr>\n",
       "      <th>...</th>\n",
       "      <td>...</td>\n",
       "      <td>...</td>\n",
       "      <td>...</td>\n",
       "      <td>...</td>\n",
       "      <td>...</td>\n",
       "      <td>...</td>\n",
       "      <td>...</td>\n",
       "      <td>...</td>\n",
       "      <td>...</td>\n",
       "      <td>...</td>\n",
       "      <td>...</td>\n",
       "      <td>...</td>\n",
       "      <td>...</td>\n",
       "      <td>...</td>\n",
       "      <td>...</td>\n",
       "      <td>...</td>\n",
       "      <td>...</td>\n",
       "      <td>...</td>\n",
       "      <td>...</td>\n",
       "      <td>...</td>\n",
       "      <td>...</td>\n",
       "    </tr>\n",
       "    <tr>\n",
       "      <th>43528</th>\n",
       "      <td>STUD33520</td>\n",
       "      <td>[trendaro_panel_all]</td>\n",
       "      <td>[]</td>\n",
       "      <td>[woman]</td>\n",
       "      <td>[35_44, 30_44]</td>\n",
       "      <td>[university, university_mgr]</td>\n",
       "      <td>[over50]</td>\n",
       "      <td>[hlavni, praha]</td>\n",
       "      <td>[low]</td>\n",
       "      <td>[]</td>\n",
       "      <td>...</td>\n",
       "      <td>[]</td>\n",
       "      <td>[]</td>\n",
       "      <td>[]</td>\n",
       "      <td>[]</td>\n",
       "      <td>[cestovani]</td>\n",
       "      <td>[]</td>\n",
       "      <td>[]</td>\n",
       "      <td>[]</td>\n",
       "      <td>[]</td>\n",
       "      <td>[]</td>\n",
       "    </tr>\n",
       "    <tr>\n",
       "      <th>43529</th>\n",
       "      <td>STUD64071</td>\n",
       "      <td>[trendaro_panel_all]</td>\n",
       "      <td>[]</td>\n",
       "      <td>[man]</td>\n",
       "      <td>[65_plus]</td>\n",
       "      <td>[high_bezmat]</td>\n",
       "      <td>[over50]</td>\n",
       "      <td>[hlavni, praha]</td>\n",
       "      <td>[]</td>\n",
       "      <td>[]</td>\n",
       "      <td>...</td>\n",
       "      <td>[]</td>\n",
       "      <td>[]</td>\n",
       "      <td>[]</td>\n",
       "      <td>[]</td>\n",
       "      <td>[]</td>\n",
       "      <td>[]</td>\n",
       "      <td>[]</td>\n",
       "      <td>[]</td>\n",
       "      <td>[]</td>\n",
       "      <td>[]</td>\n",
       "    </tr>\n",
       "    <tr>\n",
       "      <th>43530</th>\n",
       "      <td>STUD82916</td>\n",
       "      <td>[2022, trendaro_panel_all]</td>\n",
       "      <td>[2023, 2024]</td>\n",
       "      <td>[man]</td>\n",
       "      <td>[35_44, 30_44]</td>\n",
       "      <td>[university, university_phd]</td>\n",
       "      <td>[0_2]</td>\n",
       "      <td>[jihocesky]</td>\n",
       "      <td>[mid]</td>\n",
       "      <td>[fulltime, osvc_own_firm, own_firm]</td>\n",
       "      <td>...</td>\n",
       "      <td>[decathlon]</td>\n",
       "      <td>[]</td>\n",
       "      <td>[eon]</td>\n",
       "      <td>[]</td>\n",
       "      <td>[znacky, nakupovani, technologie, o_mne, u_me_...</td>\n",
       "      <td>[]</td>\n",
       "      <td>[partner]</td>\n",
       "      <td>[]</td>\n",
       "      <td>[]</td>\n",
       "      <td>[]</td>\n",
       "    </tr>\n",
       "    <tr>\n",
       "      <th>43531</th>\n",
       "      <td>STUD63130</td>\n",
       "      <td>[]</td>\n",
       "      <td>[]</td>\n",
       "      <td>[]</td>\n",
       "      <td>[]</td>\n",
       "      <td>[high_smat]</td>\n",
       "      <td>[over50]</td>\n",
       "      <td>[hlavni, praha]</td>\n",
       "      <td>[]</td>\n",
       "      <td>[osvc_own_firm, own_firm]</td>\n",
       "      <td>...</td>\n",
       "      <td>[]</td>\n",
       "      <td>[]</td>\n",
       "      <td>[]</td>\n",
       "      <td>[]</td>\n",
       "      <td>[]</td>\n",
       "      <td>[]</td>\n",
       "      <td>[]</td>\n",
       "      <td>[]</td>\n",
       "      <td>[]</td>\n",
       "      <td>[]</td>\n",
       "    </tr>\n",
       "    <tr>\n",
       "      <th>43532</th>\n",
       "      <td>STUD56842</td>\n",
       "      <td>[trendaro_panel_all]</td>\n",
       "      <td>[]</td>\n",
       "      <td>[man]</td>\n",
       "      <td>[35_44, 30_44]</td>\n",
       "      <td>[university, university_mgr]</td>\n",
       "      <td>[over50]</td>\n",
       "      <td>[hlavni, praha]</td>\n",
       "      <td>[high]</td>\n",
       "      <td>[osvc_own_firm, own_firm]</td>\n",
       "      <td>...</td>\n",
       "      <td>[]</td>\n",
       "      <td>[]</td>\n",
       "      <td>[]</td>\n",
       "      <td>[]</td>\n",
       "      <td>[nakupovani, technologie, o_mne, cestovani, ve...</td>\n",
       "      <td>[]</td>\n",
       "      <td>[]</td>\n",
       "      <td>[]</td>\n",
       "      <td>[]</td>\n",
       "      <td>[]</td>\n",
       "    </tr>\n",
       "  </tbody>\n",
       "</table>\n",
       "<p>43533 rows × 231 columns</p>\n",
       "</div>"
      ],
      "text/plain": [
       "         user_id                   all_intro  atlas_vzorek      sex  \\\n",
       "0      STUD29866        [trendaro_panel_all]            []  [woman]   \n",
       "1      STUD35256                          []            []       []   \n",
       "2      STUD29684        [trendaro_panel_all]            []    [man]   \n",
       "3      STUD11967        [trendaro_panel_all]            []  [woman]   \n",
       "4      STUD57644        [trendaro_panel_all]            []    [man]   \n",
       "...          ...                         ...           ...      ...   \n",
       "43528  STUD33520        [trendaro_panel_all]            []  [woman]   \n",
       "43529  STUD64071        [trendaro_panel_all]            []    [man]   \n",
       "43530  STUD82916  [2022, trendaro_panel_all]  [2023, 2024]    [man]   \n",
       "43531  STUD63130                          []            []       []   \n",
       "43532  STUD56842        [trendaro_panel_all]            []    [man]   \n",
       "\n",
       "                  age               education_level city_size  \\\n",
       "0             [15_17]                       [basic]  [over50]   \n",
       "1                  []                            []        []   \n",
       "2      [55_64, 45_64]                 [high_bezmat]  [over50]   \n",
       "3      [25_34, 18_29]  [university, university_mgr]  [over50]   \n",
       "4      [35_44, 30_44]                       [basic]  [over50]   \n",
       "...               ...                           ...       ...   \n",
       "43528  [35_44, 30_44]  [university, university_mgr]  [over50]   \n",
       "43529       [65_plus]                 [high_bezmat]  [over50]   \n",
       "43530  [35_44, 30_44]  [university, university_phd]     [0_2]   \n",
       "43531              []                   [high_smat]  [over50]   \n",
       "43532  [35_44, 30_44]  [university, university_mgr]  [over50]   \n",
       "\n",
       "                  kraj income_level                                   ea  ...  \\\n",
       "0           [vysocina]           []                                   []  ...   \n",
       "1                   []           []                                   []  ...   \n",
       "2           [plzensky]           []                                   []  ...   \n",
       "3           [vysocina]           []                                   []  ...   \n",
       "4           [plzensky]           []                                   []  ...   \n",
       "...                ...          ...                                  ...  ...   \n",
       "43528  [hlavni, praha]        [low]                                   []  ...   \n",
       "43529  [hlavni, praha]           []                                   []  ...   \n",
       "43530      [jihocesky]        [mid]  [fulltime, osvc_own_firm, own_firm]  ...   \n",
       "43531  [hlavni, praha]           []            [osvc_own_firm, own_firm]  ...   \n",
       "43532  [hlavni, praha]       [high]            [osvc_own_firm, own_firm]  ...   \n",
       "\n",
       "      sportshops_halfyear sport_halfyear klientstvi intro  \\\n",
       "0                      []             []         []    []   \n",
       "1                      []             []         []    []   \n",
       "2                      []             []         []    []   \n",
       "3                      []             []         []    []   \n",
       "4                      []             []         []    []   \n",
       "...                   ...            ...        ...   ...   \n",
       "43528                  []             []         []    []   \n",
       "43529                  []             []         []    []   \n",
       "43530         [decathlon]             []      [eon]    []   \n",
       "43531                  []             []         []    []   \n",
       "43532                  []             []         []    []   \n",
       "\n",
       "                                                    seen kecalkove   nakupuje  \\\n",
       "0                                                [o_mne]        []         []   \n",
       "1                                                     []        []         []   \n",
       "2                                                [o_mne]        []         []   \n",
       "3                                 [o_mne, nazory, media]        []         []   \n",
       "4                                                [o_mne]        []         []   \n",
       "...                                                  ...       ...        ...   \n",
       "43528                                        [cestovani]        []         []   \n",
       "43529                                                 []        []         []   \n",
       "43530  [znacky, nakupovani, technologie, o_mne, u_me_...        []  [partner]   \n",
       "43531                                                 []        []         []   \n",
       "43532  [nakupovani, technologie, o_mne, cestovani, ve...        []         []   \n",
       "\n",
       "      check isic2_age isic_age  \n",
       "0        []   [15_20]  [15_17]  \n",
       "1        []        []       []  \n",
       "2        []        []       []  \n",
       "3        []   [21_26]  [23_26]  \n",
       "4        []        []       []  \n",
       "...     ...       ...      ...  \n",
       "43528    []        []       []  \n",
       "43529    []        []       []  \n",
       "43530    []        []       []  \n",
       "43531    []        []       []  \n",
       "43532    []        []       []  \n",
       "\n",
       "[43533 rows x 231 columns]"
      ]
     },
     "execution_count": 109,
     "metadata": {},
     "output_type": "execute_result"
    }
   ],
   "source": [
    "df_test3"
   ]
  },
  {
   "cell_type": "code",
   "execution_count": 54,
   "metadata": {},
   "outputs": [],
   "source": [
    "mapping_dicts = {}\n",
    "\n",
    "for col in df_test3.columns:\n",
    "    if col == 'user_id':\n",
    "        continue\n",
    "\n",
    "    # Convert lists to tuples to make them hashable (dict keys)\n",
    "    unique_lists = df_test3[col].apply(lambda x: tuple(sorted(x))).unique()\n",
    "    \n",
    "    # Create mapping: list → ID\n",
    "    mapping_dicts[col] = {lst: idx + 1 for idx, lst in enumerate(unique_lists)}\n",
    "\n",
    "    # Apply mapping\n",
    "    df_test3[col] = df_test3[col].apply(lambda x: mapping_dicts[col][tuple(sorted(x))])\n"
   ]
  },
  {
   "cell_type": "code",
   "execution_count": 58,
   "metadata": {},
   "outputs": [
    {
     "data": {
      "text/html": [
       "<div>\n",
       "<style scoped>\n",
       "    .dataframe tbody tr th:only-of-type {\n",
       "        vertical-align: middle;\n",
       "    }\n",
       "\n",
       "    .dataframe tbody tr th {\n",
       "        vertical-align: top;\n",
       "    }\n",
       "\n",
       "    .dataframe thead th {\n",
       "        text-align: right;\n",
       "    }\n",
       "</style>\n",
       "<table border=\"1\" class=\"dataframe\">\n",
       "  <thead>\n",
       "    <tr style=\"text-align: right;\">\n",
       "      <th></th>\n",
       "      <th>user_id</th>\n",
       "      <th>all_intro</th>\n",
       "      <th>atlas_vzorek</th>\n",
       "      <th>sex</th>\n",
       "      <th>age</th>\n",
       "      <th>education_level</th>\n",
       "      <th>city_size</th>\n",
       "      <th>kraj</th>\n",
       "      <th>income_level</th>\n",
       "      <th>ea</th>\n",
       "      <th>...</th>\n",
       "      <th>sportshops_halfyear</th>\n",
       "      <th>sport_halfyear</th>\n",
       "      <th>klientstvi</th>\n",
       "      <th>intro</th>\n",
       "      <th>seen</th>\n",
       "      <th>kecalkove</th>\n",
       "      <th>nakupuje</th>\n",
       "      <th>check</th>\n",
       "      <th>isic2_age</th>\n",
       "      <th>isic_age</th>\n",
       "    </tr>\n",
       "  </thead>\n",
       "  <tbody>\n",
       "    <tr>\n",
       "      <th>0</th>\n",
       "      <td>STUD29866</td>\n",
       "      <td>1</td>\n",
       "      <td>1</td>\n",
       "      <td>1</td>\n",
       "      <td>1</td>\n",
       "      <td>1</td>\n",
       "      <td>1</td>\n",
       "      <td>1</td>\n",
       "      <td>1</td>\n",
       "      <td>1</td>\n",
       "      <td>...</td>\n",
       "      <td>1</td>\n",
       "      <td>1</td>\n",
       "      <td>1</td>\n",
       "      <td>1</td>\n",
       "      <td>1</td>\n",
       "      <td>1</td>\n",
       "      <td>1</td>\n",
       "      <td>1</td>\n",
       "      <td>1</td>\n",
       "      <td>1</td>\n",
       "    </tr>\n",
       "    <tr>\n",
       "      <th>1</th>\n",
       "      <td>STUD35256</td>\n",
       "      <td>2</td>\n",
       "      <td>1</td>\n",
       "      <td>2</td>\n",
       "      <td>2</td>\n",
       "      <td>2</td>\n",
       "      <td>2</td>\n",
       "      <td>2</td>\n",
       "      <td>1</td>\n",
       "      <td>1</td>\n",
       "      <td>...</td>\n",
       "      <td>1</td>\n",
       "      <td>1</td>\n",
       "      <td>1</td>\n",
       "      <td>1</td>\n",
       "      <td>2</td>\n",
       "      <td>1</td>\n",
       "      <td>1</td>\n",
       "      <td>1</td>\n",
       "      <td>2</td>\n",
       "      <td>2</td>\n",
       "    </tr>\n",
       "    <tr>\n",
       "      <th>2</th>\n",
       "      <td>STUD29684</td>\n",
       "      <td>1</td>\n",
       "      <td>1</td>\n",
       "      <td>3</td>\n",
       "      <td>3</td>\n",
       "      <td>3</td>\n",
       "      <td>1</td>\n",
       "      <td>3</td>\n",
       "      <td>1</td>\n",
       "      <td>1</td>\n",
       "      <td>...</td>\n",
       "      <td>1</td>\n",
       "      <td>1</td>\n",
       "      <td>1</td>\n",
       "      <td>1</td>\n",
       "      <td>1</td>\n",
       "      <td>1</td>\n",
       "      <td>1</td>\n",
       "      <td>1</td>\n",
       "      <td>2</td>\n",
       "      <td>2</td>\n",
       "    </tr>\n",
       "    <tr>\n",
       "      <th>3</th>\n",
       "      <td>STUD11967</td>\n",
       "      <td>1</td>\n",
       "      <td>1</td>\n",
       "      <td>1</td>\n",
       "      <td>4</td>\n",
       "      <td>4</td>\n",
       "      <td>1</td>\n",
       "      <td>1</td>\n",
       "      <td>1</td>\n",
       "      <td>1</td>\n",
       "      <td>...</td>\n",
       "      <td>1</td>\n",
       "      <td>1</td>\n",
       "      <td>1</td>\n",
       "      <td>1</td>\n",
       "      <td>3</td>\n",
       "      <td>1</td>\n",
       "      <td>1</td>\n",
       "      <td>1</td>\n",
       "      <td>3</td>\n",
       "      <td>3</td>\n",
       "    </tr>\n",
       "    <tr>\n",
       "      <th>4</th>\n",
       "      <td>STUD57644</td>\n",
       "      <td>1</td>\n",
       "      <td>1</td>\n",
       "      <td>3</td>\n",
       "      <td>5</td>\n",
       "      <td>1</td>\n",
       "      <td>1</td>\n",
       "      <td>3</td>\n",
       "      <td>1</td>\n",
       "      <td>1</td>\n",
       "      <td>...</td>\n",
       "      <td>1</td>\n",
       "      <td>1</td>\n",
       "      <td>1</td>\n",
       "      <td>1</td>\n",
       "      <td>1</td>\n",
       "      <td>1</td>\n",
       "      <td>1</td>\n",
       "      <td>1</td>\n",
       "      <td>2</td>\n",
       "      <td>2</td>\n",
       "    </tr>\n",
       "    <tr>\n",
       "      <th>...</th>\n",
       "      <td>...</td>\n",
       "      <td>...</td>\n",
       "      <td>...</td>\n",
       "      <td>...</td>\n",
       "      <td>...</td>\n",
       "      <td>...</td>\n",
       "      <td>...</td>\n",
       "      <td>...</td>\n",
       "      <td>...</td>\n",
       "      <td>...</td>\n",
       "      <td>...</td>\n",
       "      <td>...</td>\n",
       "      <td>...</td>\n",
       "      <td>...</td>\n",
       "      <td>...</td>\n",
       "      <td>...</td>\n",
       "      <td>...</td>\n",
       "      <td>...</td>\n",
       "      <td>...</td>\n",
       "      <td>...</td>\n",
       "      <td>...</td>\n",
       "    </tr>\n",
       "    <tr>\n",
       "      <th>43528</th>\n",
       "      <td>STUD33520</td>\n",
       "      <td>1</td>\n",
       "      <td>1</td>\n",
       "      <td>1</td>\n",
       "      <td>5</td>\n",
       "      <td>4</td>\n",
       "      <td>1</td>\n",
       "      <td>5</td>\n",
       "      <td>2</td>\n",
       "      <td>1</td>\n",
       "      <td>...</td>\n",
       "      <td>1</td>\n",
       "      <td>1</td>\n",
       "      <td>1</td>\n",
       "      <td>1</td>\n",
       "      <td>344</td>\n",
       "      <td>1</td>\n",
       "      <td>1</td>\n",
       "      <td>1</td>\n",
       "      <td>2</td>\n",
       "      <td>2</td>\n",
       "    </tr>\n",
       "    <tr>\n",
       "      <th>43529</th>\n",
       "      <td>STUD64071</td>\n",
       "      <td>1</td>\n",
       "      <td>1</td>\n",
       "      <td>3</td>\n",
       "      <td>9</td>\n",
       "      <td>3</td>\n",
       "      <td>1</td>\n",
       "      <td>5</td>\n",
       "      <td>1</td>\n",
       "      <td>1</td>\n",
       "      <td>...</td>\n",
       "      <td>1</td>\n",
       "      <td>1</td>\n",
       "      <td>1</td>\n",
       "      <td>1</td>\n",
       "      <td>2</td>\n",
       "      <td>1</td>\n",
       "      <td>1</td>\n",
       "      <td>1</td>\n",
       "      <td>2</td>\n",
       "      <td>2</td>\n",
       "    </tr>\n",
       "    <tr>\n",
       "      <th>43530</th>\n",
       "      <td>STUD82916</td>\n",
       "      <td>3</td>\n",
       "      <td>4</td>\n",
       "      <td>3</td>\n",
       "      <td>5</td>\n",
       "      <td>13</td>\n",
       "      <td>4</td>\n",
       "      <td>12</td>\n",
       "      <td>3</td>\n",
       "      <td>19</td>\n",
       "      <td>...</td>\n",
       "      <td>2</td>\n",
       "      <td>1</td>\n",
       "      <td>2</td>\n",
       "      <td>1</td>\n",
       "      <td>20</td>\n",
       "      <td>1</td>\n",
       "      <td>2</td>\n",
       "      <td>1</td>\n",
       "      <td>2</td>\n",
       "      <td>2</td>\n",
       "    </tr>\n",
       "    <tr>\n",
       "      <th>43531</th>\n",
       "      <td>STUD63130</td>\n",
       "      <td>2</td>\n",
       "      <td>1</td>\n",
       "      <td>2</td>\n",
       "      <td>2</td>\n",
       "      <td>5</td>\n",
       "      <td>1</td>\n",
       "      <td>5</td>\n",
       "      <td>1</td>\n",
       "      <td>57</td>\n",
       "      <td>...</td>\n",
       "      <td>1</td>\n",
       "      <td>1</td>\n",
       "      <td>1</td>\n",
       "      <td>1</td>\n",
       "      <td>2</td>\n",
       "      <td>1</td>\n",
       "      <td>1</td>\n",
       "      <td>1</td>\n",
       "      <td>2</td>\n",
       "      <td>2</td>\n",
       "    </tr>\n",
       "    <tr>\n",
       "      <th>43532</th>\n",
       "      <td>STUD56842</td>\n",
       "      <td>1</td>\n",
       "      <td>1</td>\n",
       "      <td>3</td>\n",
       "      <td>5</td>\n",
       "      <td>4</td>\n",
       "      <td>1</td>\n",
       "      <td>5</td>\n",
       "      <td>4</td>\n",
       "      <td>57</td>\n",
       "      <td>...</td>\n",
       "      <td>1</td>\n",
       "      <td>1</td>\n",
       "      <td>1</td>\n",
       "      <td>1</td>\n",
       "      <td>105</td>\n",
       "      <td>1</td>\n",
       "      <td>1</td>\n",
       "      <td>1</td>\n",
       "      <td>2</td>\n",
       "      <td>2</td>\n",
       "    </tr>\n",
       "  </tbody>\n",
       "</table>\n",
       "<p>43533 rows × 231 columns</p>\n",
       "</div>"
      ],
      "text/plain": [
       "         user_id  all_intro  atlas_vzorek  sex  age  education_level  \\\n",
       "0      STUD29866          1             1    1    1                1   \n",
       "1      STUD35256          2             1    2    2                2   \n",
       "2      STUD29684          1             1    3    3                3   \n",
       "3      STUD11967          1             1    1    4                4   \n",
       "4      STUD57644          1             1    3    5                1   \n",
       "...          ...        ...           ...  ...  ...              ...   \n",
       "43528  STUD33520          1             1    1    5                4   \n",
       "43529  STUD64071          1             1    3    9                3   \n",
       "43530  STUD82916          3             4    3    5               13   \n",
       "43531  STUD63130          2             1    2    2                5   \n",
       "43532  STUD56842          1             1    3    5                4   \n",
       "\n",
       "       city_size  kraj  income_level  ea  ...  sportshops_halfyear  \\\n",
       "0              1     1             1   1  ...                    1   \n",
       "1              2     2             1   1  ...                    1   \n",
       "2              1     3             1   1  ...                    1   \n",
       "3              1     1             1   1  ...                    1   \n",
       "4              1     3             1   1  ...                    1   \n",
       "...          ...   ...           ...  ..  ...                  ...   \n",
       "43528          1     5             2   1  ...                    1   \n",
       "43529          1     5             1   1  ...                    1   \n",
       "43530          4    12             3  19  ...                    2   \n",
       "43531          1     5             1  57  ...                    1   \n",
       "43532          1     5             4  57  ...                    1   \n",
       "\n",
       "       sport_halfyear  klientstvi  intro  seen  kecalkove  nakupuje  check  \\\n",
       "0                   1           1      1     1          1         1      1   \n",
       "1                   1           1      1     2          1         1      1   \n",
       "2                   1           1      1     1          1         1      1   \n",
       "3                   1           1      1     3          1         1      1   \n",
       "4                   1           1      1     1          1         1      1   \n",
       "...               ...         ...    ...   ...        ...       ...    ...   \n",
       "43528               1           1      1   344          1         1      1   \n",
       "43529               1           1      1     2          1         1      1   \n",
       "43530               1           2      1    20          1         2      1   \n",
       "43531               1           1      1     2          1         1      1   \n",
       "43532               1           1      1   105          1         1      1   \n",
       "\n",
       "       isic2_age  isic_age  \n",
       "0              1         1  \n",
       "1              2         2  \n",
       "2              2         2  \n",
       "3              3         3  \n",
       "4              2         2  \n",
       "...          ...       ...  \n",
       "43528          2         2  \n",
       "43529          2         2  \n",
       "43530          2         2  \n",
       "43531          2         2  \n",
       "43532          2         2  \n",
       "\n",
       "[43533 rows x 231 columns]"
      ]
     },
     "execution_count": 58,
     "metadata": {},
     "output_type": "execute_result"
    }
   ],
   "source": [
    "df_test3"
   ]
  },
  {
   "cell_type": "markdown",
   "metadata": {},
   "source": [
    "# What is core table for merge? - Payments // Can't I just use inner join? Therefore I dont' have to work with nul values - I don't want them in model anyway"
   ]
  },
  {
   "cell_type": "code",
   "execution_count": 110,
   "metadata": {},
   "outputs": [
    {
     "data": {
      "application/vnd.plotly.v1+json": {
       "config": {
        "plotlyServerURL": "https://plot.ly"
       },
       "data": [
        {
         "hovertemplate": "variable=count<br>user=%{x}<br>Count=%{y}<extra></extra>",
         "legendgroup": "count",
         "marker": {
          "color": "#636efa",
          "pattern": {
           "shape": ""
          }
         },
         "name": "count",
         "orientation": "v",
         "showlegend": true,
         "textposition": "auto",
         "type": "bar",
         "x": [
          true,
          false
         ],
         "xaxis": "x",
         "y": {
          "bdata": "/2iHDA==",
          "dtype": "i2"
         },
         "yaxis": "y"
        }
       ],
       "layout": {
        "barmode": "relative",
        "legend": {
         "title": {
          "text": "variable"
         },
         "tracegroupgap": 0
        },
        "template": {
         "data": {
          "bar": [
           {
            "error_x": {
             "color": "#2a3f5f"
            },
            "error_y": {
             "color": "#2a3f5f"
            },
            "marker": {
             "line": {
              "color": "#E5ECF6",
              "width": 0.5
             },
             "pattern": {
              "fillmode": "overlay",
              "size": 10,
              "solidity": 0.2
             }
            },
            "type": "bar"
           }
          ],
          "barpolar": [
           {
            "marker": {
             "line": {
              "color": "#E5ECF6",
              "width": 0.5
             },
             "pattern": {
              "fillmode": "overlay",
              "size": 10,
              "solidity": 0.2
             }
            },
            "type": "barpolar"
           }
          ],
          "carpet": [
           {
            "aaxis": {
             "endlinecolor": "#2a3f5f",
             "gridcolor": "white",
             "linecolor": "white",
             "minorgridcolor": "white",
             "startlinecolor": "#2a3f5f"
            },
            "baxis": {
             "endlinecolor": "#2a3f5f",
             "gridcolor": "white",
             "linecolor": "white",
             "minorgridcolor": "white",
             "startlinecolor": "#2a3f5f"
            },
            "type": "carpet"
           }
          ],
          "choropleth": [
           {
            "colorbar": {
             "outlinewidth": 0,
             "ticks": ""
            },
            "type": "choropleth"
           }
          ],
          "contour": [
           {
            "colorbar": {
             "outlinewidth": 0,
             "ticks": ""
            },
            "colorscale": [
             [
              0,
              "#0d0887"
             ],
             [
              0.1111111111111111,
              "#46039f"
             ],
             [
              0.2222222222222222,
              "#7201a8"
             ],
             [
              0.3333333333333333,
              "#9c179e"
             ],
             [
              0.4444444444444444,
              "#bd3786"
             ],
             [
              0.5555555555555556,
              "#d8576b"
             ],
             [
              0.6666666666666666,
              "#ed7953"
             ],
             [
              0.7777777777777778,
              "#fb9f3a"
             ],
             [
              0.8888888888888888,
              "#fdca26"
             ],
             [
              1,
              "#f0f921"
             ]
            ],
            "type": "contour"
           }
          ],
          "contourcarpet": [
           {
            "colorbar": {
             "outlinewidth": 0,
             "ticks": ""
            },
            "type": "contourcarpet"
           }
          ],
          "heatmap": [
           {
            "colorbar": {
             "outlinewidth": 0,
             "ticks": ""
            },
            "colorscale": [
             [
              0,
              "#0d0887"
             ],
             [
              0.1111111111111111,
              "#46039f"
             ],
             [
              0.2222222222222222,
              "#7201a8"
             ],
             [
              0.3333333333333333,
              "#9c179e"
             ],
             [
              0.4444444444444444,
              "#bd3786"
             ],
             [
              0.5555555555555556,
              "#d8576b"
             ],
             [
              0.6666666666666666,
              "#ed7953"
             ],
             [
              0.7777777777777778,
              "#fb9f3a"
             ],
             [
              0.8888888888888888,
              "#fdca26"
             ],
             [
              1,
              "#f0f921"
             ]
            ],
            "type": "heatmap"
           }
          ],
          "histogram": [
           {
            "marker": {
             "pattern": {
              "fillmode": "overlay",
              "size": 10,
              "solidity": 0.2
             }
            },
            "type": "histogram"
           }
          ],
          "histogram2d": [
           {
            "colorbar": {
             "outlinewidth": 0,
             "ticks": ""
            },
            "colorscale": [
             [
              0,
              "#0d0887"
             ],
             [
              0.1111111111111111,
              "#46039f"
             ],
             [
              0.2222222222222222,
              "#7201a8"
             ],
             [
              0.3333333333333333,
              "#9c179e"
             ],
             [
              0.4444444444444444,
              "#bd3786"
             ],
             [
              0.5555555555555556,
              "#d8576b"
             ],
             [
              0.6666666666666666,
              "#ed7953"
             ],
             [
              0.7777777777777778,
              "#fb9f3a"
             ],
             [
              0.8888888888888888,
              "#fdca26"
             ],
             [
              1,
              "#f0f921"
             ]
            ],
            "type": "histogram2d"
           }
          ],
          "histogram2dcontour": [
           {
            "colorbar": {
             "outlinewidth": 0,
             "ticks": ""
            },
            "colorscale": [
             [
              0,
              "#0d0887"
             ],
             [
              0.1111111111111111,
              "#46039f"
             ],
             [
              0.2222222222222222,
              "#7201a8"
             ],
             [
              0.3333333333333333,
              "#9c179e"
             ],
             [
              0.4444444444444444,
              "#bd3786"
             ],
             [
              0.5555555555555556,
              "#d8576b"
             ],
             [
              0.6666666666666666,
              "#ed7953"
             ],
             [
              0.7777777777777778,
              "#fb9f3a"
             ],
             [
              0.8888888888888888,
              "#fdca26"
             ],
             [
              1,
              "#f0f921"
             ]
            ],
            "type": "histogram2dcontour"
           }
          ],
          "mesh3d": [
           {
            "colorbar": {
             "outlinewidth": 0,
             "ticks": ""
            },
            "type": "mesh3d"
           }
          ],
          "parcoords": [
           {
            "line": {
             "colorbar": {
              "outlinewidth": 0,
              "ticks": ""
             }
            },
            "type": "parcoords"
           }
          ],
          "pie": [
           {
            "automargin": true,
            "type": "pie"
           }
          ],
          "scatter": [
           {
            "fillpattern": {
             "fillmode": "overlay",
             "size": 10,
             "solidity": 0.2
            },
            "type": "scatter"
           }
          ],
          "scatter3d": [
           {
            "line": {
             "colorbar": {
              "outlinewidth": 0,
              "ticks": ""
             }
            },
            "marker": {
             "colorbar": {
              "outlinewidth": 0,
              "ticks": ""
             }
            },
            "type": "scatter3d"
           }
          ],
          "scattercarpet": [
           {
            "marker": {
             "colorbar": {
              "outlinewidth": 0,
              "ticks": ""
             }
            },
            "type": "scattercarpet"
           }
          ],
          "scattergeo": [
           {
            "marker": {
             "colorbar": {
              "outlinewidth": 0,
              "ticks": ""
             }
            },
            "type": "scattergeo"
           }
          ],
          "scattergl": [
           {
            "marker": {
             "colorbar": {
              "outlinewidth": 0,
              "ticks": ""
             }
            },
            "type": "scattergl"
           }
          ],
          "scattermap": [
           {
            "marker": {
             "colorbar": {
              "outlinewidth": 0,
              "ticks": ""
             }
            },
            "type": "scattermap"
           }
          ],
          "scattermapbox": [
           {
            "marker": {
             "colorbar": {
              "outlinewidth": 0,
              "ticks": ""
             }
            },
            "type": "scattermapbox"
           }
          ],
          "scatterpolar": [
           {
            "marker": {
             "colorbar": {
              "outlinewidth": 0,
              "ticks": ""
             }
            },
            "type": "scatterpolar"
           }
          ],
          "scatterpolargl": [
           {
            "marker": {
             "colorbar": {
              "outlinewidth": 0,
              "ticks": ""
             }
            },
            "type": "scatterpolargl"
           }
          ],
          "scatterternary": [
           {
            "marker": {
             "colorbar": {
              "outlinewidth": 0,
              "ticks": ""
             }
            },
            "type": "scatterternary"
           }
          ],
          "surface": [
           {
            "colorbar": {
             "outlinewidth": 0,
             "ticks": ""
            },
            "colorscale": [
             [
              0,
              "#0d0887"
             ],
             [
              0.1111111111111111,
              "#46039f"
             ],
             [
              0.2222222222222222,
              "#7201a8"
             ],
             [
              0.3333333333333333,
              "#9c179e"
             ],
             [
              0.4444444444444444,
              "#bd3786"
             ],
             [
              0.5555555555555556,
              "#d8576b"
             ],
             [
              0.6666666666666666,
              "#ed7953"
             ],
             [
              0.7777777777777778,
              "#fb9f3a"
             ],
             [
              0.8888888888888888,
              "#fdca26"
             ],
             [
              1,
              "#f0f921"
             ]
            ],
            "type": "surface"
           }
          ],
          "table": [
           {
            "cells": {
             "fill": {
              "color": "#EBF0F8"
             },
             "line": {
              "color": "white"
             }
            },
            "header": {
             "fill": {
              "color": "#C8D4E3"
             },
             "line": {
              "color": "white"
             }
            },
            "type": "table"
           }
          ]
         },
         "layout": {
          "annotationdefaults": {
           "arrowcolor": "#2a3f5f",
           "arrowhead": 0,
           "arrowwidth": 1
          },
          "autotypenumbers": "strict",
          "coloraxis": {
           "colorbar": {
            "outlinewidth": 0,
            "ticks": ""
           }
          },
          "colorscale": {
           "diverging": [
            [
             0,
             "#8e0152"
            ],
            [
             0.1,
             "#c51b7d"
            ],
            [
             0.2,
             "#de77ae"
            ],
            [
             0.3,
             "#f1b6da"
            ],
            [
             0.4,
             "#fde0ef"
            ],
            [
             0.5,
             "#f7f7f7"
            ],
            [
             0.6,
             "#e6f5d0"
            ],
            [
             0.7,
             "#b8e186"
            ],
            [
             0.8,
             "#7fbc41"
            ],
            [
             0.9,
             "#4d9221"
            ],
            [
             1,
             "#276419"
            ]
           ],
           "sequential": [
            [
             0,
             "#0d0887"
            ],
            [
             0.1111111111111111,
             "#46039f"
            ],
            [
             0.2222222222222222,
             "#7201a8"
            ],
            [
             0.3333333333333333,
             "#9c179e"
            ],
            [
             0.4444444444444444,
             "#bd3786"
            ],
            [
             0.5555555555555556,
             "#d8576b"
            ],
            [
             0.6666666666666666,
             "#ed7953"
            ],
            [
             0.7777777777777778,
             "#fb9f3a"
            ],
            [
             0.8888888888888888,
             "#fdca26"
            ],
            [
             1,
             "#f0f921"
            ]
           ],
           "sequentialminus": [
            [
             0,
             "#0d0887"
            ],
            [
             0.1111111111111111,
             "#46039f"
            ],
            [
             0.2222222222222222,
             "#7201a8"
            ],
            [
             0.3333333333333333,
             "#9c179e"
            ],
            [
             0.4444444444444444,
             "#bd3786"
            ],
            [
             0.5555555555555556,
             "#d8576b"
            ],
            [
             0.6666666666666666,
             "#ed7953"
            ],
            [
             0.7777777777777778,
             "#fb9f3a"
            ],
            [
             0.8888888888888888,
             "#fdca26"
            ],
            [
             1,
             "#f0f921"
            ]
           ]
          },
          "colorway": [
           "#636efa",
           "#EF553B",
           "#00cc96",
           "#ab63fa",
           "#FFA15A",
           "#19d3f3",
           "#FF6692",
           "#B6E880",
           "#FF97FF",
           "#FECB52"
          ],
          "font": {
           "color": "#2a3f5f"
          },
          "geo": {
           "bgcolor": "white",
           "lakecolor": "white",
           "landcolor": "#E5ECF6",
           "showlakes": true,
           "showland": true,
           "subunitcolor": "white"
          },
          "hoverlabel": {
           "align": "left"
          },
          "hovermode": "closest",
          "mapbox": {
           "style": "light"
          },
          "paper_bgcolor": "white",
          "plot_bgcolor": "#E5ECF6",
          "polar": {
           "angularaxis": {
            "gridcolor": "white",
            "linecolor": "white",
            "ticks": ""
           },
           "bgcolor": "#E5ECF6",
           "radialaxis": {
            "gridcolor": "white",
            "linecolor": "white",
            "ticks": ""
           }
          },
          "scene": {
           "xaxis": {
            "backgroundcolor": "#E5ECF6",
            "gridcolor": "white",
            "gridwidth": 2,
            "linecolor": "white",
            "showbackground": true,
            "ticks": "",
            "zerolinecolor": "white"
           },
           "yaxis": {
            "backgroundcolor": "#E5ECF6",
            "gridcolor": "white",
            "gridwidth": 2,
            "linecolor": "white",
            "showbackground": true,
            "ticks": "",
            "zerolinecolor": "white"
           },
           "zaxis": {
            "backgroundcolor": "#E5ECF6",
            "gridcolor": "white",
            "gridwidth": 2,
            "linecolor": "white",
            "showbackground": true,
            "ticks": "",
            "zerolinecolor": "white"
           }
          },
          "shapedefaults": {
           "line": {
            "color": "#2a3f5f"
           }
          },
          "ternary": {
           "aaxis": {
            "gridcolor": "white",
            "linecolor": "white",
            "ticks": ""
           },
           "baxis": {
            "gridcolor": "white",
            "linecolor": "white",
            "ticks": ""
           },
           "bgcolor": "#E5ECF6",
           "caxis": {
            "gridcolor": "white",
            "linecolor": "white",
            "ticks": ""
           }
          },
          "title": {
           "x": 0.05
          },
          "xaxis": {
           "automargin": true,
           "gridcolor": "white",
           "linecolor": "white",
           "ticks": "",
           "title": {
            "standoff": 15
           },
           "zerolinecolor": "white",
           "zerolinewidth": 2
          },
          "yaxis": {
           "automargin": true,
           "gridcolor": "white",
           "linecolor": "white",
           "ticks": "",
           "title": {
            "standoff": 15
           },
           "zerolinecolor": "white",
           "zerolinewidth": 2
          }
         }
        },
        "title": {
         "text": "How many users from Atlas Cechu are in the payments table"
        },
        "xaxis": {
         "anchor": "y",
         "domain": [
          0,
          1
         ],
         "title": {
          "text": "user"
         }
        },
        "yaxis": {
         "anchor": "x",
         "domain": [
          0,
          1
         ],
         "title": {
          "text": "Count"
         }
        }
       }
      }
     },
     "metadata": {},
     "output_type": "display_data"
    }
   ],
   "source": [
    "atlas_in_payments = df_payments_cleaned.user.isin(df_atlas.user_id)\n",
    "\n",
    "# Plotting\n",
    "fig_ap = px.bar(atlas_in_payments.value_counts(), title='How many users from Atlas Cechu are in the payments table', labels={'index': 'User in Atlas (True/False)', 'value': 'Count'})\n",
    "fig_ap.show()"
   ]
  },
  {
   "cell_type": "code",
   "execution_count": 111,
   "metadata": {},
   "outputs": [
    {
     "data": {
      "text/plain": [
       "user_id\n",
       "False    34824\n",
       "True      8709\n",
       "Name: count, dtype: int64"
      ]
     },
     "execution_count": 111,
     "metadata": {},
     "output_type": "execute_result"
    }
   ],
   "source": [
    "df_test3.user_id.isin(df_payments_cleaned.user).value_counts()"
   ]
  },
  {
   "cell_type": "markdown",
   "metadata": {},
   "source": [
    "Since we want to find out when who pulls what, it makes sense to use the payments table and connect data to it - even though there are users in payments tables that are not in Atlas Cechu"
   ]
  },
  {
   "cell_type": "code",
   "execution_count": 61,
   "metadata": {},
   "outputs": [
    {
     "data": {
      "text/plain": [
       "'\\nI don\\'t find credits table to be interesting - mainly we cannot join them together due to different \"time type\" -- credits shows the newest version of creadits without historical changes, on the other hand table payments shows history of all transactions\\n'"
      ]
     },
     "execution_count": 61,
     "metadata": {},
     "output_type": "execute_result"
    }
   ],
   "source": [
    "#df_merge_credits = pd.merge(df_payments_cleaned, df_credits_cleaned, how=\"inner\", left_on='user', right_on='user')\n",
    "#df_merge_credits[df_merge_credits.user=='STUD92308']\n",
    "\n",
    "\"\"\"\n",
    "I don't find credits table to be interesting - mainly we cannot join them together due to different \"time type\" -- credits shows the newest version of creadits without historical changes, on the other hand table payments shows history of all transactions\n",
    "\"\"\""
   ]
  },
  {
   "cell_type": "code",
   "execution_count": 112,
   "metadata": {},
   "outputs": [],
   "source": [
    "df_merge_full = pd.merge(df_payments_cleaned, df_test3, how='inner', left_on='user', right_on='user_id')\n",
    "df_merge_full.rename(columns={'credits_x':'credits_payments', 'credits_y':'credits_credits'})\n",
    "df_merge_full = pd.get_dummies(df_merge_full, columns=['type'], drop_first=True)\n",
    "df_merge_full = df_merge_full.astype({col: int for col in df_merge_full.select_dtypes(include='bool').columns})\n",
    "\n",
    "df_merge_full = df_merge_full[df_merge_full['state']!='CANCELLED']\n",
    "\n",
    "# df_merge_full.to_csv('../data_output/df_merge_full.csv')"
   ]
  },
  {
   "cell_type": "code",
   "execution_count": 113,
   "metadata": {},
   "outputs": [
    {
     "data": {
      "text/plain": [
       "state\n",
       "CANCELLED    2000\n",
       "PAID            1\n",
       "dtype: int64"
      ]
     },
     "execution_count": 113,
     "metadata": {},
     "output_type": "execute_result"
    }
   ],
   "source": [
    "##### In the dataset we found out that in payments dataset values that are being cancelled has creadits = 0 and NaN user having credit 430 and still being PAID. However, that user doesn't have user_id\n",
    "\n",
    "df_payments[df_payments['credits']<500].groupby('state').size()"
   ]
  },
  {
   "cell_type": "code",
   "execution_count": 114,
   "metadata": {},
   "outputs": [
    {
     "name": "stderr",
     "output_type": "stream",
     "text": [
      "C:\\Users\\FilipSlyško\\AppData\\Local\\Temp\\ipykernel_30052\\2671573870.py:3: PerformanceWarning:\n",
      "\n",
      "DataFrame is highly fragmented.  This is usually the result of calling `frame.insert` many times, which has poor performance.  Consider joining all columns at once using pd.concat(axis=1) instead. To get a de-fragmented frame, use `newframe = frame.copy()`\n",
      "\n",
      "C:\\Users\\FilipSlyško\\AppData\\Local\\Temp\\ipykernel_30052\\2671573870.py:4: PerformanceWarning:\n",
      "\n",
      "DataFrame is highly fragmented.  This is usually the result of calling `frame.insert` many times, which has poor performance.  Consider joining all columns at once using pd.concat(axis=1) instead. To get a de-fragmented frame, use `newframe = frame.copy()`\n",
      "\n",
      "C:\\Users\\FilipSlyško\\AppData\\Local\\Temp\\ipykernel_30052\\2671573870.py:5: PerformanceWarning:\n",
      "\n",
      "DataFrame is highly fragmented.  This is usually the result of calling `frame.insert` many times, which has poor performance.  Consider joining all columns at once using pd.concat(axis=1) instead. To get a de-fragmented frame, use `newframe = frame.copy()`\n",
      "\n",
      "C:\\Users\\FilipSlyško\\AppData\\Local\\Temp\\ipykernel_30052\\2671573870.py:6: PerformanceWarning:\n",
      "\n",
      "DataFrame is highly fragmented.  This is usually the result of calling `frame.insert` many times, which has poor performance.  Consider joining all columns at once using pd.concat(axis=1) instead. To get a de-fragmented frame, use `newframe = frame.copy()`\n",
      "\n",
      "C:\\Users\\FilipSlyško\\AppData\\Local\\Temp\\ipykernel_30052\\2671573870.py:7: PerformanceWarning:\n",
      "\n",
      "DataFrame is highly fragmented.  This is usually the result of calling `frame.insert` many times, which has poor performance.  Consider joining all columns at once using pd.concat(axis=1) instead. To get a de-fragmented frame, use `newframe = frame.copy()`\n",
      "\n"
     ]
    }
   ],
   "source": [
    "df_merge_full['created_at'] = pd.to_datetime(df_merge_full['created_at'])\n",
    "\n",
    "df_merge_full['day'] = df_merge_full['created_at'].dt.day\n",
    "df_merge_full['month'] = df_merge_full['created_at'].dt.month\n",
    "df_merge_full['year'] = df_merge_full['created_at'].dt.year\n",
    "df_merge_full['hour'] = df_merge_full['created_at'].dt.hour\n",
    "df_merge_full['weekday'] = df_merge_full['created_at'].dt.weekday\n",
    "\n",
    "\n",
    "df_merge_full = df_merge_full.drop(columns=['created_at'])"
   ]
  },
  {
   "cell_type": "code",
   "execution_count": 116,
   "metadata": {},
   "outputs": [
    {
     "name": "stderr",
     "output_type": "stream",
     "text": [
      "C:\\Users\\FilipSlyško\\AppData\\Local\\Temp\\ipykernel_30052\\2458708521.py:2: PerformanceWarning:\n",
      "\n",
      "DataFrame is highly fragmented.  This is usually the result of calling `frame.insert` many times, which has poor performance.  Consider joining all columns at once using pd.concat(axis=1) instead. To get a de-fragmented frame, use `newframe = frame.copy()`\n",
      "\n"
     ]
    }
   ],
   "source": [
    "df_modeling = df_merge_full.drop(columns=['id', 'changed_at', 'user','batch','state','user_id'])\n",
    "df_modeling['credits_category'] = pd.cut(df_modeling['credits'], bins=[500,525,550,575,600, 1000, max(df_modeling['credits'])], labels=['500-525','526-550', '551-575', '576-600', '601-1000', '1001+'])"
   ]
  },
  {
   "cell_type": "code",
   "execution_count": 117,
   "metadata": {},
   "outputs": [],
   "source": [
    "df_modeling = df_modeling[df_modeling['credits_category'].notnull()]"
   ]
  },
  {
   "cell_type": "code",
   "execution_count": 118,
   "metadata": {},
   "outputs": [
    {
     "data": {
      "text/plain": [
       "['500-525', '526-550', '601-1000', '551-575', '1001+', '576-600']\n",
       "Categories (6, object): ['500-525' < '526-550' < '551-575' < '576-600' < '601-1000' < '1001+']"
      ]
     },
     "execution_count": 118,
     "metadata": {},
     "output_type": "execute_result"
    }
   ],
   "source": [
    "df_modeling['credits_category'].unique()"
   ]
  },
  {
   "cell_type": "code",
   "execution_count": 119,
   "metadata": {},
   "outputs": [
    {
     "name": "stderr",
     "output_type": "stream",
     "text": [
      "C:\\Users\\FilipSlyško\\AppData\\Local\\Temp\\ipykernel_30052\\3129374143.py:2: PerformanceWarning:\n",
      "\n",
      "DataFrame is highly fragmented.  This is usually the result of calling `frame.insert` many times, which has poor performance.  Consider joining all columns at once using pd.concat(axis=1) instead. To get a de-fragmented frame, use `newframe = frame.copy()`\n",
      "\n"
     ]
    },
    {
     "data": {
      "application/vnd.plotly.v1+json": {
       "config": {
        "plotlyServerURL": "https://plot.ly"
       },
       "data": [
        {
         "hovertemplate": "credits_category=%{x}<br>count=%{y}<extra></extra>",
         "legendgroup": "",
         "marker": {
          "color": "#636efa",
          "pattern": {
           "shape": ""
          }
         },
         "name": "",
         "orientation": "v",
         "showlegend": false,
         "textposition": "auto",
         "type": "bar",
         "x": [
          "500-525",
          "1001+",
          "601-1000",
          "526-550",
          "551-575",
          "576-600"
         ],
         "xaxis": "x",
         "y": {
          "bdata": "kTd1DVcL0wZMAxcC",
          "dtype": "i2"
         },
         "yaxis": "y"
        }
       ],
       "layout": {
        "barmode": "relative",
        "legend": {
         "tracegroupgap": 0
        },
        "template": {
         "data": {
          "bar": [
           {
            "error_x": {
             "color": "#2a3f5f"
            },
            "error_y": {
             "color": "#2a3f5f"
            },
            "marker": {
             "line": {
              "color": "#E5ECF6",
              "width": 0.5
             },
             "pattern": {
              "fillmode": "overlay",
              "size": 10,
              "solidity": 0.2
             }
            },
            "type": "bar"
           }
          ],
          "barpolar": [
           {
            "marker": {
             "line": {
              "color": "#E5ECF6",
              "width": 0.5
             },
             "pattern": {
              "fillmode": "overlay",
              "size": 10,
              "solidity": 0.2
             }
            },
            "type": "barpolar"
           }
          ],
          "carpet": [
           {
            "aaxis": {
             "endlinecolor": "#2a3f5f",
             "gridcolor": "white",
             "linecolor": "white",
             "minorgridcolor": "white",
             "startlinecolor": "#2a3f5f"
            },
            "baxis": {
             "endlinecolor": "#2a3f5f",
             "gridcolor": "white",
             "linecolor": "white",
             "minorgridcolor": "white",
             "startlinecolor": "#2a3f5f"
            },
            "type": "carpet"
           }
          ],
          "choropleth": [
           {
            "colorbar": {
             "outlinewidth": 0,
             "ticks": ""
            },
            "type": "choropleth"
           }
          ],
          "contour": [
           {
            "colorbar": {
             "outlinewidth": 0,
             "ticks": ""
            },
            "colorscale": [
             [
              0,
              "#0d0887"
             ],
             [
              0.1111111111111111,
              "#46039f"
             ],
             [
              0.2222222222222222,
              "#7201a8"
             ],
             [
              0.3333333333333333,
              "#9c179e"
             ],
             [
              0.4444444444444444,
              "#bd3786"
             ],
             [
              0.5555555555555556,
              "#d8576b"
             ],
             [
              0.6666666666666666,
              "#ed7953"
             ],
             [
              0.7777777777777778,
              "#fb9f3a"
             ],
             [
              0.8888888888888888,
              "#fdca26"
             ],
             [
              1,
              "#f0f921"
             ]
            ],
            "type": "contour"
           }
          ],
          "contourcarpet": [
           {
            "colorbar": {
             "outlinewidth": 0,
             "ticks": ""
            },
            "type": "contourcarpet"
           }
          ],
          "heatmap": [
           {
            "colorbar": {
             "outlinewidth": 0,
             "ticks": ""
            },
            "colorscale": [
             [
              0,
              "#0d0887"
             ],
             [
              0.1111111111111111,
              "#46039f"
             ],
             [
              0.2222222222222222,
              "#7201a8"
             ],
             [
              0.3333333333333333,
              "#9c179e"
             ],
             [
              0.4444444444444444,
              "#bd3786"
             ],
             [
              0.5555555555555556,
              "#d8576b"
             ],
             [
              0.6666666666666666,
              "#ed7953"
             ],
             [
              0.7777777777777778,
              "#fb9f3a"
             ],
             [
              0.8888888888888888,
              "#fdca26"
             ],
             [
              1,
              "#f0f921"
             ]
            ],
            "type": "heatmap"
           }
          ],
          "histogram": [
           {
            "marker": {
             "pattern": {
              "fillmode": "overlay",
              "size": 10,
              "solidity": 0.2
             }
            },
            "type": "histogram"
           }
          ],
          "histogram2d": [
           {
            "colorbar": {
             "outlinewidth": 0,
             "ticks": ""
            },
            "colorscale": [
             [
              0,
              "#0d0887"
             ],
             [
              0.1111111111111111,
              "#46039f"
             ],
             [
              0.2222222222222222,
              "#7201a8"
             ],
             [
              0.3333333333333333,
              "#9c179e"
             ],
             [
              0.4444444444444444,
              "#bd3786"
             ],
             [
              0.5555555555555556,
              "#d8576b"
             ],
             [
              0.6666666666666666,
              "#ed7953"
             ],
             [
              0.7777777777777778,
              "#fb9f3a"
             ],
             [
              0.8888888888888888,
              "#fdca26"
             ],
             [
              1,
              "#f0f921"
             ]
            ],
            "type": "histogram2d"
           }
          ],
          "histogram2dcontour": [
           {
            "colorbar": {
             "outlinewidth": 0,
             "ticks": ""
            },
            "colorscale": [
             [
              0,
              "#0d0887"
             ],
             [
              0.1111111111111111,
              "#46039f"
             ],
             [
              0.2222222222222222,
              "#7201a8"
             ],
             [
              0.3333333333333333,
              "#9c179e"
             ],
             [
              0.4444444444444444,
              "#bd3786"
             ],
             [
              0.5555555555555556,
              "#d8576b"
             ],
             [
              0.6666666666666666,
              "#ed7953"
             ],
             [
              0.7777777777777778,
              "#fb9f3a"
             ],
             [
              0.8888888888888888,
              "#fdca26"
             ],
             [
              1,
              "#f0f921"
             ]
            ],
            "type": "histogram2dcontour"
           }
          ],
          "mesh3d": [
           {
            "colorbar": {
             "outlinewidth": 0,
             "ticks": ""
            },
            "type": "mesh3d"
           }
          ],
          "parcoords": [
           {
            "line": {
             "colorbar": {
              "outlinewidth": 0,
              "ticks": ""
             }
            },
            "type": "parcoords"
           }
          ],
          "pie": [
           {
            "automargin": true,
            "type": "pie"
           }
          ],
          "scatter": [
           {
            "fillpattern": {
             "fillmode": "overlay",
             "size": 10,
             "solidity": 0.2
            },
            "type": "scatter"
           }
          ],
          "scatter3d": [
           {
            "line": {
             "colorbar": {
              "outlinewidth": 0,
              "ticks": ""
             }
            },
            "marker": {
             "colorbar": {
              "outlinewidth": 0,
              "ticks": ""
             }
            },
            "type": "scatter3d"
           }
          ],
          "scattercarpet": [
           {
            "marker": {
             "colorbar": {
              "outlinewidth": 0,
              "ticks": ""
             }
            },
            "type": "scattercarpet"
           }
          ],
          "scattergeo": [
           {
            "marker": {
             "colorbar": {
              "outlinewidth": 0,
              "ticks": ""
             }
            },
            "type": "scattergeo"
           }
          ],
          "scattergl": [
           {
            "marker": {
             "colorbar": {
              "outlinewidth": 0,
              "ticks": ""
             }
            },
            "type": "scattergl"
           }
          ],
          "scattermap": [
           {
            "marker": {
             "colorbar": {
              "outlinewidth": 0,
              "ticks": ""
             }
            },
            "type": "scattermap"
           }
          ],
          "scattermapbox": [
           {
            "marker": {
             "colorbar": {
              "outlinewidth": 0,
              "ticks": ""
             }
            },
            "type": "scattermapbox"
           }
          ],
          "scatterpolar": [
           {
            "marker": {
             "colorbar": {
              "outlinewidth": 0,
              "ticks": ""
             }
            },
            "type": "scatterpolar"
           }
          ],
          "scatterpolargl": [
           {
            "marker": {
             "colorbar": {
              "outlinewidth": 0,
              "ticks": ""
             }
            },
            "type": "scatterpolargl"
           }
          ],
          "scatterternary": [
           {
            "marker": {
             "colorbar": {
              "outlinewidth": 0,
              "ticks": ""
             }
            },
            "type": "scatterternary"
           }
          ],
          "surface": [
           {
            "colorbar": {
             "outlinewidth": 0,
             "ticks": ""
            },
            "colorscale": [
             [
              0,
              "#0d0887"
             ],
             [
              0.1111111111111111,
              "#46039f"
             ],
             [
              0.2222222222222222,
              "#7201a8"
             ],
             [
              0.3333333333333333,
              "#9c179e"
             ],
             [
              0.4444444444444444,
              "#bd3786"
             ],
             [
              0.5555555555555556,
              "#d8576b"
             ],
             [
              0.6666666666666666,
              "#ed7953"
             ],
             [
              0.7777777777777778,
              "#fb9f3a"
             ],
             [
              0.8888888888888888,
              "#fdca26"
             ],
             [
              1,
              "#f0f921"
             ]
            ],
            "type": "surface"
           }
          ],
          "table": [
           {
            "cells": {
             "fill": {
              "color": "#EBF0F8"
             },
             "line": {
              "color": "white"
             }
            },
            "header": {
             "fill": {
              "color": "#C8D4E3"
             },
             "line": {
              "color": "white"
             }
            },
            "type": "table"
           }
          ]
         },
         "layout": {
          "annotationdefaults": {
           "arrowcolor": "#2a3f5f",
           "arrowhead": 0,
           "arrowwidth": 1
          },
          "autotypenumbers": "strict",
          "coloraxis": {
           "colorbar": {
            "outlinewidth": 0,
            "ticks": ""
           }
          },
          "colorscale": {
           "diverging": [
            [
             0,
             "#8e0152"
            ],
            [
             0.1,
             "#c51b7d"
            ],
            [
             0.2,
             "#de77ae"
            ],
            [
             0.3,
             "#f1b6da"
            ],
            [
             0.4,
             "#fde0ef"
            ],
            [
             0.5,
             "#f7f7f7"
            ],
            [
             0.6,
             "#e6f5d0"
            ],
            [
             0.7,
             "#b8e186"
            ],
            [
             0.8,
             "#7fbc41"
            ],
            [
             0.9,
             "#4d9221"
            ],
            [
             1,
             "#276419"
            ]
           ],
           "sequential": [
            [
             0,
             "#0d0887"
            ],
            [
             0.1111111111111111,
             "#46039f"
            ],
            [
             0.2222222222222222,
             "#7201a8"
            ],
            [
             0.3333333333333333,
             "#9c179e"
            ],
            [
             0.4444444444444444,
             "#bd3786"
            ],
            [
             0.5555555555555556,
             "#d8576b"
            ],
            [
             0.6666666666666666,
             "#ed7953"
            ],
            [
             0.7777777777777778,
             "#fb9f3a"
            ],
            [
             0.8888888888888888,
             "#fdca26"
            ],
            [
             1,
             "#f0f921"
            ]
           ],
           "sequentialminus": [
            [
             0,
             "#0d0887"
            ],
            [
             0.1111111111111111,
             "#46039f"
            ],
            [
             0.2222222222222222,
             "#7201a8"
            ],
            [
             0.3333333333333333,
             "#9c179e"
            ],
            [
             0.4444444444444444,
             "#bd3786"
            ],
            [
             0.5555555555555556,
             "#d8576b"
            ],
            [
             0.6666666666666666,
             "#ed7953"
            ],
            [
             0.7777777777777778,
             "#fb9f3a"
            ],
            [
             0.8888888888888888,
             "#fdca26"
            ],
            [
             1,
             "#f0f921"
            ]
           ]
          },
          "colorway": [
           "#636efa",
           "#EF553B",
           "#00cc96",
           "#ab63fa",
           "#FFA15A",
           "#19d3f3",
           "#FF6692",
           "#B6E880",
           "#FF97FF",
           "#FECB52"
          ],
          "font": {
           "color": "#2a3f5f"
          },
          "geo": {
           "bgcolor": "white",
           "lakecolor": "white",
           "landcolor": "#E5ECF6",
           "showlakes": true,
           "showland": true,
           "subunitcolor": "white"
          },
          "hoverlabel": {
           "align": "left"
          },
          "hovermode": "closest",
          "mapbox": {
           "style": "light"
          },
          "paper_bgcolor": "white",
          "plot_bgcolor": "#E5ECF6",
          "polar": {
           "angularaxis": {
            "gridcolor": "white",
            "linecolor": "white",
            "ticks": ""
           },
           "bgcolor": "#E5ECF6",
           "radialaxis": {
            "gridcolor": "white",
            "linecolor": "white",
            "ticks": ""
           }
          },
          "scene": {
           "xaxis": {
            "backgroundcolor": "#E5ECF6",
            "gridcolor": "white",
            "gridwidth": 2,
            "linecolor": "white",
            "showbackground": true,
            "ticks": "",
            "zerolinecolor": "white"
           },
           "yaxis": {
            "backgroundcolor": "#E5ECF6",
            "gridcolor": "white",
            "gridwidth": 2,
            "linecolor": "white",
            "showbackground": true,
            "ticks": "",
            "zerolinecolor": "white"
           },
           "zaxis": {
            "backgroundcolor": "#E5ECF6",
            "gridcolor": "white",
            "gridwidth": 2,
            "linecolor": "white",
            "showbackground": true,
            "ticks": "",
            "zerolinecolor": "white"
           }
          },
          "shapedefaults": {
           "line": {
            "color": "#2a3f5f"
           }
          },
          "ternary": {
           "aaxis": {
            "gridcolor": "white",
            "linecolor": "white",
            "ticks": ""
           },
           "baxis": {
            "gridcolor": "white",
            "linecolor": "white",
            "ticks": ""
           },
           "bgcolor": "#E5ECF6",
           "caxis": {
            "gridcolor": "white",
            "linecolor": "white",
            "ticks": ""
           }
          },
          "title": {
           "x": 0.05
          },
          "xaxis": {
           "automargin": true,
           "gridcolor": "white",
           "linecolor": "white",
           "ticks": "",
           "title": {
            "standoff": 15
           },
           "zerolinecolor": "white",
           "zerolinewidth": 2
          },
          "yaxis": {
           "automargin": true,
           "gridcolor": "white",
           "linecolor": "white",
           "ticks": "",
           "title": {
            "standoff": 15
           },
           "zerolinecolor": "white",
           "zerolinewidth": 2
          }
         }
        },
        "title": {
         "text": "Credits Category Distribution"
        },
        "xaxis": {
         "anchor": "y",
         "domain": [
          0,
          1
         ],
         "title": {
          "text": "credits_category"
         }
        },
        "yaxis": {
         "anchor": "x",
         "domain": [
          0,
          1
         ],
         "title": {
          "text": "count"
         }
        }
       }
      }
     },
     "metadata": {},
     "output_type": "display_data"
    }
   ],
   "source": [
    "df_modeling = df_merge_full.drop(columns=['id', 'changed_at', 'user','batch','state','user_id'])\n",
    "df_modeling['credits_category'] = pd.cut(df_modeling['credits'], bins=[500,525,550,575,600, 1000, max(df_modeling['credits'])], labels=['500-525','526-550', '551-575', '576-600', '601-1000', '1001+'])\n",
    "df_modeling = df_modeling.drop(columns=['credits'])\n",
    "\n",
    "fig = px.bar(pd.DataFrame(df_modeling['credits_category'].value_counts().reset_index()), x='credits_category', y='count', title='Credits Category Distribution')\n",
    "fig.show()"
   ]
  },
  {
   "cell_type": "markdown",
   "metadata": {},
   "source": [
    "# Modeling"
   ]
  },
  {
   "cell_type": "code",
   "execution_count": 120,
   "metadata": {},
   "outputs": [],
   "source": [
    "df_cleaned = df_modeling[df_modeling['credits_category'].notnull()]\n",
    "\n",
    "y = df_cleaned['credits_category']\n",
    "X = df_cleaned.drop(columns=['credits_category'])\n",
    "\n",
    "X_train, X_test, y_train, y_test = train_test_split(X, y, test_size=0.8, random_state=42)"
   ]
  },
  {
   "cell_type": "code",
   "execution_count": 141,
   "metadata": {},
   "outputs": [
    {
     "name": "stderr",
     "output_type": "stream",
     "text": [
      "C:\\Users\\FilipSlyško\\AppData\\Local\\Temp\\ipykernel_30052\\3546885764.py:3: SettingWithCopyWarning:\n",
      "\n",
      "\n",
      "A value is trying to be set on a copy of a slice from a DataFrame.\n",
      "Try using .loc[row_indexer,col_indexer] = value instead\n",
      "\n",
      "See the caveats in the documentation: https://pandas.pydata.org/pandas-docs/stable/user_guide/indexing.html#returning-a-view-versus-a-copy\n",
      "\n"
     ]
    }
   ],
   "source": [
    "for col in df_cleaned.columns:\n",
    "    if df_cleaned[col].apply(lambda x: isinstance(x, list)).any():\n",
    "        df_cleaned[col] = df_cleaned[col].apply(lambda x: ' '.join(map(str, x)) if isinstance(x, list) else x)"
   ]
  },
  {
   "cell_type": "code",
   "execution_count": 144,
   "metadata": {},
   "outputs": [],
   "source": [
    "y = df_cleaned['credits_category']\n",
    "X = df_cleaned.drop(columns=['credits_category'])\n",
    "\n",
    "X_train, X_test, y_train, y_test = train_test_split(X, y, test_size=0.8, random_state=42)"
   ]
  },
  {
   "cell_type": "code",
   "execution_count": 147,
   "metadata": {},
   "outputs": [
    {
     "ename": "CatBoostError",
     "evalue": "Bad value for num_feature[non_default_doc_idx=0,feature_idx=0]=\"2022 trendaro_panel_all\": Cannot convert '2022 trendaro_panel_all' to float",
     "output_type": "error",
     "traceback": [
      "\u001b[31m---------------------------------------------------------------------------\u001b[39m",
      "\u001b[31mTypeError\u001b[39m                                 Traceback (most recent call last)",
      "\u001b[36mFile \u001b[39m\u001b[32m_catboost.pyx:2534\u001b[39m, in \u001b[36m_catboost.get_float_feature\u001b[39m\u001b[34m()\u001b[39m\n",
      "\u001b[36mFile \u001b[39m\u001b[32m_catboost.pyx:1228\u001b[39m, in \u001b[36m_catboost._FloatOrNan\u001b[39m\u001b[34m()\u001b[39m\n",
      "\u001b[36mFile \u001b[39m\u001b[32m_catboost.pyx:1023\u001b[39m, in \u001b[36m_catboost._FloatOrNanFromString\u001b[39m\u001b[34m()\u001b[39m\n",
      "\u001b[31mTypeError\u001b[39m: Cannot convert '2022 trendaro_panel_all' to float",
      "\nDuring handling of the above exception, another exception occurred:\n",
      "\u001b[31mCatBoostError\u001b[39m                             Traceback (most recent call last)",
      "\u001b[36mCell\u001b[39m\u001b[36m \u001b[39m\u001b[32mIn[147]\u001b[39m\u001b[32m, line 10\u001b[39m\n\u001b[32m      1\u001b[39m model = CatBoostClassifier(\n\u001b[32m      2\u001b[39m     iterations=\u001b[32m1000\u001b[39m,\n\u001b[32m      3\u001b[39m     learning_rate=\u001b[32m0.1\u001b[39m,\n\u001b[32m   (...)\u001b[39m\u001b[32m      7\u001b[39m     verbose=\u001b[32m1\u001b[39m\n\u001b[32m      8\u001b[39m )\n\u001b[32m---> \u001b[39m\u001b[32m10\u001b[39m \u001b[43mmodel\u001b[49m\u001b[43m.\u001b[49m\u001b[43mfit\u001b[49m\u001b[43m(\u001b[49m\u001b[43mX_train\u001b[49m\u001b[43m,\u001b[49m\u001b[43m \u001b[49m\u001b[43my_train\u001b[49m\u001b[43m,\u001b[49m\u001b[43m \u001b[49m\u001b[43meval_set\u001b[49m\u001b[43m=\u001b[49m\u001b[43m(\u001b[49m\u001b[43mX_test\u001b[49m\u001b[43m,\u001b[49m\u001b[43m \u001b[49m\u001b[43my_test\u001b[49m\u001b[43m)\u001b[49m\u001b[43m)\u001b[49m\n",
      "\u001b[36mFile \u001b[39m\u001b[32mc:\\Coding\\DP-DataEight\\venv\\Lib\\site-packages\\catboost\\core.py:5245\u001b[39m, in \u001b[36mCatBoostClassifier.fit\u001b[39m\u001b[34m(self, X, y, cat_features, text_features, embedding_features, graph, sample_weight, baseline, use_best_model, eval_set, verbose, logging_level, plot, plot_file, column_description, verbose_eval, metric_period, silent, early_stopping_rounds, save_snapshot, snapshot_file, snapshot_interval, init_model, callbacks, log_cout, log_cerr)\u001b[39m\n\u001b[32m   5242\u001b[39m \u001b[38;5;28;01mif\u001b[39;00m \u001b[33m'\u001b[39m\u001b[33mloss_function\u001b[39m\u001b[33m'\u001b[39m \u001b[38;5;129;01min\u001b[39;00m params:\n\u001b[32m   5243\u001b[39m     CatBoostClassifier._check_is_compatible_loss(params[\u001b[33m'\u001b[39m\u001b[33mloss_function\u001b[39m\u001b[33m'\u001b[39m])\n\u001b[32m-> \u001b[39m\u001b[32m5245\u001b[39m \u001b[38;5;28;43mself\u001b[39;49m\u001b[43m.\u001b[49m\u001b[43m_fit\u001b[49m\u001b[43m(\u001b[49m\u001b[43mX\u001b[49m\u001b[43m,\u001b[49m\u001b[43m \u001b[49m\u001b[43my\u001b[49m\u001b[43m,\u001b[49m\u001b[43m \u001b[49m\u001b[43mcat_features\u001b[49m\u001b[43m,\u001b[49m\u001b[43m \u001b[49m\u001b[43mtext_features\u001b[49m\u001b[43m,\u001b[49m\u001b[43m \u001b[49m\u001b[43membedding_features\u001b[49m\u001b[43m,\u001b[49m\u001b[43m \u001b[49m\u001b[38;5;28;43;01mNone\u001b[39;49;00m\u001b[43m,\u001b[49m\u001b[43m \u001b[49m\u001b[43mgraph\u001b[49m\u001b[43m,\u001b[49m\u001b[43m \u001b[49m\u001b[43msample_weight\u001b[49m\u001b[43m,\u001b[49m\u001b[43m \u001b[49m\u001b[38;5;28;43;01mNone\u001b[39;49;00m\u001b[43m,\u001b[49m\u001b[43m \u001b[49m\u001b[38;5;28;43;01mNone\u001b[39;49;00m\u001b[43m,\u001b[49m\u001b[43m \u001b[49m\u001b[38;5;28;43;01mNone\u001b[39;49;00m\u001b[43m,\u001b[49m\u001b[43m \u001b[49m\u001b[38;5;28;43;01mNone\u001b[39;49;00m\u001b[43m,\u001b[49m\u001b[43m \u001b[49m\u001b[43mbaseline\u001b[49m\u001b[43m,\u001b[49m\u001b[43m \u001b[49m\u001b[43muse_best_model\u001b[49m\u001b[43m,\u001b[49m\n\u001b[32m   5246\u001b[39m \u001b[43m          \u001b[49m\u001b[43meval_set\u001b[49m\u001b[43m,\u001b[49m\u001b[43m \u001b[49m\u001b[43mverbose\u001b[49m\u001b[43m,\u001b[49m\u001b[43m \u001b[49m\u001b[43mlogging_level\u001b[49m\u001b[43m,\u001b[49m\u001b[43m \u001b[49m\u001b[43mplot\u001b[49m\u001b[43m,\u001b[49m\u001b[43m \u001b[49m\u001b[43mplot_file\u001b[49m\u001b[43m,\u001b[49m\u001b[43m \u001b[49m\u001b[43mcolumn_description\u001b[49m\u001b[43m,\u001b[49m\u001b[43m \u001b[49m\u001b[43mverbose_eval\u001b[49m\u001b[43m,\u001b[49m\u001b[43m \u001b[49m\u001b[43mmetric_period\u001b[49m\u001b[43m,\u001b[49m\n\u001b[32m   5247\u001b[39m \u001b[43m          \u001b[49m\u001b[43msilent\u001b[49m\u001b[43m,\u001b[49m\u001b[43m \u001b[49m\u001b[43mearly_stopping_rounds\u001b[49m\u001b[43m,\u001b[49m\u001b[43m \u001b[49m\u001b[43msave_snapshot\u001b[49m\u001b[43m,\u001b[49m\u001b[43m \u001b[49m\u001b[43msnapshot_file\u001b[49m\u001b[43m,\u001b[49m\u001b[43m \u001b[49m\u001b[43msnapshot_interval\u001b[49m\u001b[43m,\u001b[49m\u001b[43m \u001b[49m\u001b[43minit_model\u001b[49m\u001b[43m,\u001b[49m\u001b[43m \u001b[49m\u001b[43mcallbacks\u001b[49m\u001b[43m,\u001b[49m\u001b[43m \u001b[49m\u001b[43mlog_cout\u001b[49m\u001b[43m,\u001b[49m\u001b[43m \u001b[49m\u001b[43mlog_cerr\u001b[49m\u001b[43m)\u001b[49m\n\u001b[32m   5248\u001b[39m \u001b[38;5;28;01mreturn\u001b[39;00m \u001b[38;5;28mself\u001b[39m\n",
      "\u001b[36mFile \u001b[39m\u001b[32mc:\\Coding\\DP-DataEight\\venv\\Lib\\site-packages\\catboost\\core.py:2395\u001b[39m, in \u001b[36mCatBoost._fit\u001b[39m\u001b[34m(self, X, y, cat_features, text_features, embedding_features, pairs, graph, sample_weight, group_id, group_weight, subgroup_id, pairs_weight, baseline, use_best_model, eval_set, verbose, logging_level, plot, plot_file, column_description, verbose_eval, metric_period, silent, early_stopping_rounds, save_snapshot, snapshot_file, snapshot_interval, init_model, callbacks, log_cout, log_cerr)\u001b[39m\n\u001b[32m   2392\u001b[39m \u001b[38;5;28;01mif\u001b[39;00m y \u001b[38;5;129;01mis\u001b[39;00m \u001b[38;5;28;01mNone\u001b[39;00m \u001b[38;5;129;01mand\u001b[39;00m \u001b[38;5;129;01mnot\u001b[39;00m \u001b[38;5;28misinstance\u001b[39m(X, PATH_TYPES + (Pool,)):\n\u001b[32m   2393\u001b[39m     \u001b[38;5;28;01mraise\u001b[39;00m CatBoostError(\u001b[33m\"\u001b[39m\u001b[33my may be None only when X is an instance of catboost.Pool or string\u001b[39m\u001b[33m\"\u001b[39m)\n\u001b[32m-> \u001b[39m\u001b[32m2395\u001b[39m train_params = \u001b[38;5;28;43mself\u001b[39;49m\u001b[43m.\u001b[49m\u001b[43m_prepare_train_params\u001b[49m\u001b[43m(\u001b[49m\n\u001b[32m   2396\u001b[39m \u001b[43m    \u001b[49m\u001b[43mX\u001b[49m\u001b[43m=\u001b[49m\u001b[43mX\u001b[49m\u001b[43m,\u001b[49m\u001b[43m \u001b[49m\u001b[43my\u001b[49m\u001b[43m=\u001b[49m\u001b[43my\u001b[49m\u001b[43m,\u001b[49m\u001b[43m \u001b[49m\u001b[43mcat_features\u001b[49m\u001b[43m=\u001b[49m\u001b[43mcat_features\u001b[49m\u001b[43m,\u001b[49m\u001b[43m \u001b[49m\u001b[43mtext_features\u001b[49m\u001b[43m=\u001b[49m\u001b[43mtext_features\u001b[49m\u001b[43m,\u001b[49m\u001b[43m \u001b[49m\u001b[43membedding_features\u001b[49m\u001b[43m=\u001b[49m\u001b[43membedding_features\u001b[49m\u001b[43m,\u001b[49m\n\u001b[32m   2397\u001b[39m \u001b[43m    \u001b[49m\u001b[43mpairs\u001b[49m\u001b[43m=\u001b[49m\u001b[43mpairs\u001b[49m\u001b[43m,\u001b[49m\u001b[43m \u001b[49m\u001b[43mgraph\u001b[49m\u001b[43m=\u001b[49m\u001b[43mgraph\u001b[49m\u001b[43m,\u001b[49m\u001b[43m \u001b[49m\u001b[43msample_weight\u001b[49m\u001b[43m=\u001b[49m\u001b[43msample_weight\u001b[49m\u001b[43m,\u001b[49m\u001b[43m \u001b[49m\u001b[43mgroup_id\u001b[49m\u001b[43m=\u001b[49m\u001b[43mgroup_id\u001b[49m\u001b[43m,\u001b[49m\u001b[43m \u001b[49m\u001b[43mgroup_weight\u001b[49m\u001b[43m=\u001b[49m\u001b[43mgroup_weight\u001b[49m\u001b[43m,\u001b[49m\n\u001b[32m   2398\u001b[39m \u001b[43m    \u001b[49m\u001b[43msubgroup_id\u001b[49m\u001b[43m=\u001b[49m\u001b[43msubgroup_id\u001b[49m\u001b[43m,\u001b[49m\u001b[43m \u001b[49m\u001b[43mpairs_weight\u001b[49m\u001b[43m=\u001b[49m\u001b[43mpairs_weight\u001b[49m\u001b[43m,\u001b[49m\u001b[43m \u001b[49m\u001b[43mbaseline\u001b[49m\u001b[43m=\u001b[49m\u001b[43mbaseline\u001b[49m\u001b[43m,\u001b[49m\u001b[43m \u001b[49m\u001b[43muse_best_model\u001b[49m\u001b[43m=\u001b[49m\u001b[43muse_best_model\u001b[49m\u001b[43m,\u001b[49m\n\u001b[32m   2399\u001b[39m \u001b[43m    \u001b[49m\u001b[43meval_set\u001b[49m\u001b[43m=\u001b[49m\u001b[43meval_set\u001b[49m\u001b[43m,\u001b[49m\u001b[43m \u001b[49m\u001b[43mverbose\u001b[49m\u001b[43m=\u001b[49m\u001b[43mverbose\u001b[49m\u001b[43m,\u001b[49m\u001b[43m \u001b[49m\u001b[43mlogging_level\u001b[49m\u001b[43m=\u001b[49m\u001b[43mlogging_level\u001b[49m\u001b[43m,\u001b[49m\u001b[43m \u001b[49m\u001b[43mplot\u001b[49m\u001b[43m=\u001b[49m\u001b[43mplot\u001b[49m\u001b[43m,\u001b[49m\u001b[43m \u001b[49m\u001b[43mplot_file\u001b[49m\u001b[43m=\u001b[49m\u001b[43mplot_file\u001b[49m\u001b[43m,\u001b[49m\n\u001b[32m   2400\u001b[39m \u001b[43m    \u001b[49m\u001b[43mcolumn_description\u001b[49m\u001b[43m=\u001b[49m\u001b[43mcolumn_description\u001b[49m\u001b[43m,\u001b[49m\u001b[43m \u001b[49m\u001b[43mverbose_eval\u001b[49m\u001b[43m=\u001b[49m\u001b[43mverbose_eval\u001b[49m\u001b[43m,\u001b[49m\u001b[43m \u001b[49m\u001b[43mmetric_period\u001b[49m\u001b[43m=\u001b[49m\u001b[43mmetric_period\u001b[49m\u001b[43m,\u001b[49m\n\u001b[32m   2401\u001b[39m \u001b[43m    \u001b[49m\u001b[43msilent\u001b[49m\u001b[43m=\u001b[49m\u001b[43msilent\u001b[49m\u001b[43m,\u001b[49m\u001b[43m \u001b[49m\u001b[43mearly_stopping_rounds\u001b[49m\u001b[43m=\u001b[49m\u001b[43mearly_stopping_rounds\u001b[49m\u001b[43m,\u001b[49m\u001b[43m \u001b[49m\u001b[43msave_snapshot\u001b[49m\u001b[43m=\u001b[49m\u001b[43msave_snapshot\u001b[49m\u001b[43m,\u001b[49m\n\u001b[32m   2402\u001b[39m \u001b[43m    \u001b[49m\u001b[43msnapshot_file\u001b[49m\u001b[43m=\u001b[49m\u001b[43msnapshot_file\u001b[49m\u001b[43m,\u001b[49m\u001b[43m \u001b[49m\u001b[43msnapshot_interval\u001b[49m\u001b[43m=\u001b[49m\u001b[43msnapshot_interval\u001b[49m\u001b[43m,\u001b[49m\u001b[43m \u001b[49m\u001b[43minit_model\u001b[49m\u001b[43m=\u001b[49m\u001b[43minit_model\u001b[49m\u001b[43m,\u001b[49m\n\u001b[32m   2403\u001b[39m \u001b[43m    \u001b[49m\u001b[43mcallbacks\u001b[49m\u001b[43m=\u001b[49m\u001b[43mcallbacks\u001b[49m\n\u001b[32m   2404\u001b[39m \u001b[43m\u001b[49m\u001b[43m)\u001b[49m\n\u001b[32m   2405\u001b[39m params = train_params[\u001b[33m\"\u001b[39m\u001b[33mparams\u001b[39m\u001b[33m\"\u001b[39m]\n\u001b[32m   2406\u001b[39m train_pool = train_params[\u001b[33m\"\u001b[39m\u001b[33mtrain_pool\u001b[39m\u001b[33m\"\u001b[39m]\n",
      "\u001b[36mFile \u001b[39m\u001b[32mc:\\Coding\\DP-DataEight\\venv\\Lib\\site-packages\\catboost\\core.py:2275\u001b[39m, in \u001b[36mCatBoost._prepare_train_params\u001b[39m\u001b[34m(self, X, y, cat_features, text_features, embedding_features, pairs, graph, sample_weight, group_id, group_weight, subgroup_id, pairs_weight, baseline, use_best_model, eval_set, verbose, logging_level, plot, plot_file, column_description, verbose_eval, metric_period, silent, early_stopping_rounds, save_snapshot, snapshot_file, snapshot_interval, init_model, callbacks)\u001b[39m\n\u001b[32m   2272\u001b[39m text_features = _process_feature_indices(text_features, X, params, \u001b[33m'\u001b[39m\u001b[33mtext_features\u001b[39m\u001b[33m'\u001b[39m)\n\u001b[32m   2273\u001b[39m embedding_features = _process_feature_indices(embedding_features, X, params, \u001b[33m'\u001b[39m\u001b[33membedding_features\u001b[39m\u001b[33m'\u001b[39m)\n\u001b[32m-> \u001b[39m\u001b[32m2275\u001b[39m train_pool = \u001b[43m_build_train_pool\u001b[49m\u001b[43m(\u001b[49m\u001b[43mX\u001b[49m\u001b[43m,\u001b[49m\u001b[43m \u001b[49m\u001b[43my\u001b[49m\u001b[43m,\u001b[49m\u001b[43m \u001b[49m\u001b[43mcat_features\u001b[49m\u001b[43m,\u001b[49m\u001b[43m \u001b[49m\u001b[43mtext_features\u001b[49m\u001b[43m,\u001b[49m\u001b[43m \u001b[49m\u001b[43membedding_features\u001b[49m\u001b[43m,\u001b[49m\u001b[43m \u001b[49m\u001b[43mpairs\u001b[49m\u001b[43m,\u001b[49m\u001b[43m \u001b[49m\u001b[43mgraph\u001b[49m\u001b[43m,\u001b[49m\n\u001b[32m   2276\u001b[39m \u001b[43m                               \u001b[49m\u001b[43msample_weight\u001b[49m\u001b[43m,\u001b[49m\u001b[43m \u001b[49m\u001b[43mgroup_id\u001b[49m\u001b[43m,\u001b[49m\u001b[43m \u001b[49m\u001b[43mgroup_weight\u001b[49m\u001b[43m,\u001b[49m\u001b[43m \u001b[49m\u001b[43msubgroup_id\u001b[49m\u001b[43m,\u001b[49m\u001b[43m \u001b[49m\u001b[43mpairs_weight\u001b[49m\u001b[43m,\u001b[49m\n\u001b[32m   2277\u001b[39m \u001b[43m                               \u001b[49m\u001b[43mbaseline\u001b[49m\u001b[43m,\u001b[49m\u001b[43m \u001b[49m\u001b[43mcolumn_description\u001b[49m\u001b[43m)\u001b[49m\n\u001b[32m   2278\u001b[39m \u001b[38;5;28;01mif\u001b[39;00m train_pool.is_empty_:\n\u001b[32m   2279\u001b[39m     \u001b[38;5;28;01mraise\u001b[39;00m CatBoostError(\u001b[33m\"\u001b[39m\u001b[33mX is empty.\u001b[39m\u001b[33m\"\u001b[39m)\n",
      "\u001b[36mFile \u001b[39m\u001b[32mc:\\Coding\\DP-DataEight\\venv\\Lib\\site-packages\\catboost\\core.py:1513\u001b[39m, in \u001b[36m_build_train_pool\u001b[39m\u001b[34m(X, y, cat_features, text_features, embedding_features, pairs, graph, sample_weight, group_id, group_weight, subgroup_id, pairs_weight, baseline, column_description)\u001b[39m\n\u001b[32m   1511\u001b[39m     \u001b[38;5;28;01mif\u001b[39;00m y \u001b[38;5;129;01mis\u001b[39;00m \u001b[38;5;28;01mNone\u001b[39;00m:\n\u001b[32m   1512\u001b[39m         \u001b[38;5;28;01mraise\u001b[39;00m CatBoostError(\u001b[33m\"\u001b[39m\u001b[33my has not initialized in fit(): X is not catboost.Pool object, y must be not None in fit().\u001b[39m\u001b[33m\"\u001b[39m)\n\u001b[32m-> \u001b[39m\u001b[32m1513\u001b[39m     train_pool = \u001b[43mPool\u001b[49m\u001b[43m(\u001b[49m\u001b[43mX\u001b[49m\u001b[43m,\u001b[49m\u001b[43m \u001b[49m\u001b[43my\u001b[49m\u001b[43m,\u001b[49m\u001b[43m \u001b[49m\u001b[43mcat_features\u001b[49m\u001b[43m=\u001b[49m\u001b[43mcat_features\u001b[49m\u001b[43m,\u001b[49m\u001b[43m \u001b[49m\u001b[43mtext_features\u001b[49m\u001b[43m=\u001b[49m\u001b[43mtext_features\u001b[49m\u001b[43m,\u001b[49m\u001b[43m \u001b[49m\u001b[43membedding_features\u001b[49m\u001b[43m=\u001b[49m\u001b[43membedding_features\u001b[49m\u001b[43m,\u001b[49m\u001b[43m \u001b[49m\u001b[43mpairs\u001b[49m\u001b[43m=\u001b[49m\u001b[43mpairs\u001b[49m\u001b[43m,\u001b[49m\u001b[43m \u001b[49m\u001b[43mgraph\u001b[49m\u001b[43m=\u001b[49m\u001b[43mgraph\u001b[49m\u001b[43m,\u001b[49m\u001b[43m \u001b[49m\u001b[43mweight\u001b[49m\u001b[43m=\u001b[49m\u001b[43msample_weight\u001b[49m\u001b[43m,\u001b[49m\u001b[43m \u001b[49m\u001b[43mgroup_id\u001b[49m\u001b[43m=\u001b[49m\u001b[43mgroup_id\u001b[49m\u001b[43m,\u001b[49m\n\u001b[32m   1514\u001b[39m \u001b[43m                      \u001b[49m\u001b[43mgroup_weight\u001b[49m\u001b[43m=\u001b[49m\u001b[43mgroup_weight\u001b[49m\u001b[43m,\u001b[49m\u001b[43m \u001b[49m\u001b[43msubgroup_id\u001b[49m\u001b[43m=\u001b[49m\u001b[43msubgroup_id\u001b[49m\u001b[43m,\u001b[49m\u001b[43m \u001b[49m\u001b[43mpairs_weight\u001b[49m\u001b[43m=\u001b[49m\u001b[43mpairs_weight\u001b[49m\u001b[43m,\u001b[49m\u001b[43m \u001b[49m\u001b[43mbaseline\u001b[49m\u001b[43m=\u001b[49m\u001b[43mbaseline\u001b[49m\u001b[43m)\u001b[49m\n\u001b[32m   1515\u001b[39m \u001b[38;5;28;01mreturn\u001b[39;00m train_pool\n",
      "\u001b[36mFile \u001b[39m\u001b[32mc:\\Coding\\DP-DataEight\\venv\\Lib\\site-packages\\catboost\\core.py:855\u001b[39m, in \u001b[36mPool.__init__\u001b[39m\u001b[34m(self, data, label, cat_features, text_features, embedding_features, embedding_features_data, column_description, pairs, graph, delimiter, has_header, ignore_csv_quoting, weight, group_id, group_weight, subgroup_id, pairs_weight, baseline, timestamp, feature_names, feature_tags, thread_count, log_cout, log_cerr, data_can_be_none)\u001b[39m\n\u001b[32m    849\u001b[39m         \u001b[38;5;28;01mif\u001b[39;00m \u001b[38;5;28misinstance\u001b[39m(feature_names, PATH_TYPES):\n\u001b[32m    850\u001b[39m             \u001b[38;5;28;01mraise\u001b[39;00m CatBoostError(\n\u001b[32m    851\u001b[39m                 \u001b[33m\"\u001b[39m\u001b[33mfeature_names must be None or have non-string type when the pool is created from \u001b[39m\u001b[33m\"\u001b[39m\n\u001b[32m    852\u001b[39m                 \u001b[33m\"\u001b[39m\u001b[33mpython objects.\u001b[39m\u001b[33m\"\u001b[39m\n\u001b[32m    853\u001b[39m             )\n\u001b[32m--> \u001b[39m\u001b[32m855\u001b[39m         \u001b[38;5;28;43mself\u001b[39;49m\u001b[43m.\u001b[49m\u001b[43m_init\u001b[49m\u001b[43m(\u001b[49m\u001b[43mdata\u001b[49m\u001b[43m,\u001b[49m\u001b[43m \u001b[49m\u001b[43mlabel\u001b[49m\u001b[43m,\u001b[49m\u001b[43m \u001b[49m\u001b[43mcat_features\u001b[49m\u001b[43m,\u001b[49m\u001b[43m \u001b[49m\u001b[43mtext_features\u001b[49m\u001b[43m,\u001b[49m\u001b[43m \u001b[49m\u001b[43membedding_features\u001b[49m\u001b[43m,\u001b[49m\u001b[43m \u001b[49m\u001b[43membedding_features_data\u001b[49m\u001b[43m,\u001b[49m\u001b[43m \u001b[49m\u001b[43mpairs\u001b[49m\u001b[43m,\u001b[49m\u001b[43m \u001b[49m\u001b[43mgraph\u001b[49m\u001b[43m,\u001b[49m\u001b[43m \u001b[49m\u001b[43mweight\u001b[49m\u001b[43m,\u001b[49m\n\u001b[32m    856\u001b[39m \u001b[43m                   \u001b[49m\u001b[43mgroup_id\u001b[49m\u001b[43m,\u001b[49m\u001b[43m \u001b[49m\u001b[43mgroup_weight\u001b[49m\u001b[43m,\u001b[49m\u001b[43m \u001b[49m\u001b[43msubgroup_id\u001b[49m\u001b[43m,\u001b[49m\u001b[43m \u001b[49m\u001b[43mpairs_weight\u001b[49m\u001b[43m,\u001b[49m\u001b[43m \u001b[49m\u001b[43mbaseline\u001b[49m\u001b[43m,\u001b[49m\u001b[43m \u001b[49m\u001b[43mtimestamp\u001b[49m\u001b[43m,\u001b[49m\u001b[43m \u001b[49m\u001b[43mfeature_names\u001b[49m\u001b[43m,\u001b[49m\u001b[43m \u001b[49m\u001b[43mfeature_tags\u001b[49m\u001b[43m,\u001b[49m\u001b[43m \u001b[49m\u001b[43mthread_count\u001b[49m\u001b[43m)\u001b[49m\n\u001b[32m    857\u001b[39m \u001b[38;5;28;01melif\u001b[39;00m \u001b[38;5;129;01mnot\u001b[39;00m data_can_be_none:\n\u001b[32m    858\u001b[39m     \u001b[38;5;28;01mraise\u001b[39;00m CatBoostError(\u001b[33m\"\u001b[39m\u001b[33m'\u001b[39m\u001b[33mdata\u001b[39m\u001b[33m'\u001b[39m\u001b[33m parameter can\u001b[39m\u001b[33m'\u001b[39m\u001b[33mt be None\u001b[39m\u001b[33m\"\u001b[39m)\n",
      "\u001b[36mFile \u001b[39m\u001b[32mc:\\Coding\\DP-DataEight\\venv\\Lib\\site-packages\\catboost\\core.py:1491\u001b[39m, in \u001b[36mPool._init\u001b[39m\u001b[34m(self, data, label, cat_features, text_features, embedding_features, embedding_features_data, pairs, graph, weight, group_id, group_weight, subgroup_id, pairs_weight, baseline, timestamp, feature_names, feature_tags, thread_count)\u001b[39m\n\u001b[32m   1489\u001b[39m \u001b[38;5;28;01mif\u001b[39;00m feature_tags \u001b[38;5;129;01mis\u001b[39;00m \u001b[38;5;129;01mnot\u001b[39;00m \u001b[38;5;28;01mNone\u001b[39;00m:\n\u001b[32m   1490\u001b[39m     feature_tags = \u001b[38;5;28mself\u001b[39m._check_transform_tags(feature_tags, feature_names)\n\u001b[32m-> \u001b[39m\u001b[32m1491\u001b[39m \u001b[38;5;28;43mself\u001b[39;49m\u001b[43m.\u001b[49m\u001b[43m_init_pool\u001b[49m\u001b[43m(\u001b[49m\u001b[43mdata\u001b[49m\u001b[43m,\u001b[49m\u001b[43m \u001b[49m\u001b[43mlabel\u001b[49m\u001b[43m,\u001b[49m\u001b[43m \u001b[49m\u001b[43mcat_features\u001b[49m\u001b[43m,\u001b[49m\u001b[43m \u001b[49m\u001b[43mtext_features\u001b[49m\u001b[43m,\u001b[49m\u001b[43m \u001b[49m\u001b[43membedding_features\u001b[49m\u001b[43m,\u001b[49m\u001b[43m \u001b[49m\u001b[43membedding_features_data\u001b[49m\u001b[43m,\u001b[49m\u001b[43m \u001b[49m\u001b[43mpairs\u001b[49m\u001b[43m,\u001b[49m\u001b[43m \u001b[49m\u001b[43mgraph\u001b[49m\u001b[43m,\u001b[49m\u001b[43m \u001b[49m\u001b[43mweight\u001b[49m\u001b[43m,\u001b[49m\n\u001b[32m   1492\u001b[39m \u001b[43m                \u001b[49m\u001b[43mgroup_id\u001b[49m\u001b[43m,\u001b[49m\u001b[43m \u001b[49m\u001b[43mgroup_weight\u001b[49m\u001b[43m,\u001b[49m\u001b[43m \u001b[49m\u001b[43msubgroup_id\u001b[49m\u001b[43m,\u001b[49m\u001b[43m \u001b[49m\u001b[43mpairs_weight\u001b[49m\u001b[43m,\u001b[49m\u001b[43m \u001b[49m\u001b[43mbaseline\u001b[49m\u001b[43m,\u001b[49m\u001b[43m \u001b[49m\u001b[43mtimestamp\u001b[49m\u001b[43m,\u001b[49m\u001b[43m \u001b[49m\u001b[43mfeature_names\u001b[49m\u001b[43m,\u001b[49m\u001b[43m \u001b[49m\u001b[43mfeature_tags\u001b[49m\u001b[43m,\u001b[49m\u001b[43m \u001b[49m\u001b[43mthread_count\u001b[49m\u001b[43m)\u001b[49m\n",
      "\u001b[36mFile \u001b[39m\u001b[32m_catboost.pyx:4329\u001b[39m, in \u001b[36m_catboost._PoolBase._init_pool\u001b[39m\u001b[34m()\u001b[39m\n",
      "\u001b[36mFile \u001b[39m\u001b[32m_catboost.pyx:4381\u001b[39m, in \u001b[36m_catboost._PoolBase._init_pool\u001b[39m\u001b[34m()\u001b[39m\n",
      "\u001b[36mFile \u001b[39m\u001b[32m_catboost.pyx:4190\u001b[39m, in \u001b[36m_catboost._PoolBase._init_features_order_layout_pool\u001b[39m\u001b[34m()\u001b[39m\n",
      "\u001b[36mFile \u001b[39m\u001b[32m_catboost.pyx:3114\u001b[39m, in \u001b[36m_catboost._set_features_order_data_pd_data_frame\u001b[39m\u001b[34m()\u001b[39m\n",
      "\u001b[36mFile \u001b[39m\u001b[32m_catboost.pyx:2578\u001b[39m, in \u001b[36m_catboost.create_num_factor_data\u001b[39m\u001b[34m()\u001b[39m\n",
      "\u001b[36mFile \u001b[39m\u001b[32m_catboost.pyx:2536\u001b[39m, in \u001b[36m_catboost.get_float_feature\u001b[39m\u001b[34m()\u001b[39m\n",
      "\u001b[31mCatBoostError\u001b[39m: Bad value for num_feature[non_default_doc_idx=0,feature_idx=0]=\"2022 trendaro_panel_all\": Cannot convert '2022 trendaro_panel_all' to float"
     ]
    }
   ],
   "source": [
    "model = CatBoostClassifier(\n",
    "    iterations=1000,\n",
    "    learning_rate=0.1,\n",
    "    depth=6,\n",
    "    loss_function='MultiClass',\n",
    "    eval_metric='Accuracy',\n",
    "    verbose=1\n",
    ")\n",
    "\n",
    "model.fit(X_train, y_train, eval_set=(X_test, y_test))"
   ]
  },
  {
   "cell_type": "code",
   "execution_count": 73,
   "metadata": {},
   "outputs": [],
   "source": [
    "# Get importance values\n",
    "importances = model.get_feature_importance()\n",
    "feature_names = X_train.columns"
   ]
  },
  {
   "cell_type": "code",
   "execution_count": 76,
   "metadata": {},
   "outputs": [],
   "source": [
    "# Combine into DataFrame\n",
    "feature_importance_df = pd.DataFrame({\n",
    "    'Feature': feature_names,\n",
    "    'Importance': importances\n",
    "}).sort_values(by='Importance', ascending=False)"
   ]
  },
  {
   "cell_type": "code",
   "execution_count": 80,
   "metadata": {},
   "outputs": [
    {
     "data": {
      "text/plain": [
       "['insurance',\n",
       " 'atlas_vzorek',\n",
       " 'hour',\n",
       " 'leisure_activity',\n",
       " 'day',\n",
       " 'co_fre_online',\n",
       " 'weekday',\n",
       " 'year',\n",
       " 'news_server',\n",
       " 'music',\n",
       " 'cigarettes',\n",
       " 'internet_tools',\n",
       " 'obchody_online',\n",
       " 'tv_station',\n",
       " 'tv_shows',\n",
       " 'investments',\n",
       " 'limo',\n",
       " 'shopping_monthly',\n",
       " 'hobby_halfyear',\n",
       " 'information_source',\n",
       " 'grocery_quality',\n",
       " 'plan',\n",
       " 'month',\n",
       " 'nuts2',\n",
       " 'job',\n",
       " 'shopping_weekly',\n",
       " 'friends',\n",
       " 'sportshops_halfyear',\n",
       " 'foreign_language',\n",
       " 'supermarket_monthly',\n",
       " 'theatre',\n",
       " 'internet',\n",
       " 'soc_kapital',\n",
       " 'beer',\n",
       " 'immigrants_new',\n",
       " 'notebook',\n",
       " 'drugstore',\n",
       " 'repairing',\n",
       " 'brand',\n",
       " 'leisure_activity_monthly_1',\n",
       " 'pharmacy',\n",
       " 'pride_2',\n",
       " 'mobile',\n",
       " 'tv_station_winners',\n",
       " 'education_level',\n",
       " 'kraj',\n",
       " 'elected_2021',\n",
       " 'pride_1',\n",
       " 'kvalifikace',\n",
       " 'freq_tv_hours',\n",
       " 'journal',\n",
       " 'acounts',\n",
       " 'eu_vyhody',\n",
       " 'shopping_quarterly',\n",
       " 'driving_licence',\n",
       " 'news_server_winners',\n",
       " 'majetek',\n",
       " 'chocolate',\n",
       " 'charity',\n",
       " 'holiday_abroad',\n",
       " 'members_household',\n",
       " 'company_size',\n",
       " 'income_situation_new',\n",
       " 'kids_fulfillment',\n",
       " 'garden_animals',\n",
       " 'klientstvi',\n",
       " 'marital_status',\n",
       " 'municipality_problems',\n",
       " 'bank',\n",
       " 'radio',\n",
       " 'immigrants_know',\n",
       " 'ownership',\n",
       " 'car_type',\n",
       " 'fre_food',\n",
       " 'clothes',\n",
       " 'age',\n",
       " 'household_equipment',\n",
       " 'mobile_internet',\n",
       " 'satisfaction_money',\n",
       " 'car_brand',\n",
       " 'holiday_cesko_activities',\n",
       " 'internet_bullshitters',\n",
       " 'other_electronics',\n",
       " 'fastfood',\n",
       " 'lifestyle_online_3',\n",
       " 'newspaper',\n",
       " 'media_channels',\n",
       " 'emotion_zeman',\n",
       " 'holiday_price',\n",
       " 'online_fre',\n",
       " 'vaccine',\n",
       " 'work',\n",
       " 'holiday_abroad_activities',\n",
       " 'shopping_market_type',\n",
       " 'coffee',\n",
       " 'type_MONEY',\n",
       " 'satisfaction_relationships',\n",
       " 'household_income',\n",
       " 'ea',\n",
       " 'houseworks']"
      ]
     },
     "execution_count": 80,
     "metadata": {},
     "output_type": "execute_result"
    }
   ],
   "source": [
    "feature_importance_df.head(100)['Feature'].to_list()"
   ]
  },
  {
   "cell_type": "code",
   "execution_count": 104,
   "metadata": {},
   "outputs": [],
   "source": [
    "df_adsasd= df_modeling[df_modeling['credits_category'].notnull()]\n",
    "cols = feature_importance_df.head(25)['Feature'].to_list()\n",
    "cols.append('credits_category')\n",
    "df_cleaned2 = df_adsasd[cols]\n",
    "\n",
    "y = df_cleaned2['credits_category']\n",
    "X = df_cleaned2.drop(columns=['credits_category'])\n",
    "\n",
    "X_train, X_test, y_train, y_test = train_test_split(X, y, test_size=0.8, random_state=42)"
   ]
  },
  {
   "cell_type": "code",
   "execution_count": 106,
   "metadata": {},
   "outputs": [
    {
     "name": "stdout",
     "output_type": "stream",
     "text": [
      "0:\tlearn: 0.7332771\ttest: 0.7302743\tbest: 0.7302743 (0)\ttotal: 13.2ms\tremaining: 13.2s\n",
      "100:\tlearn: 0.7328550\ttest: 0.7319620\tbest: 0.7319620 (1)\ttotal: 996ms\tremaining: 8.87s\n",
      "200:\tlearn: 0.7385524\ttest: 0.7324367\tbest: 0.7324895 (194)\ttotal: 1.84s\tremaining: 7.32s\n",
      "300:\tlearn: 0.7476261\ttest: 0.7333861\tbest: 0.7334916 (299)\ttotal: 2.67s\tremaining: 6.21s\n",
      "400:\tlearn: 0.7636632\ttest: 0.7333333\tbest: 0.7340717 (345)\ttotal: 3.52s\tremaining: 5.25s\n",
      "500:\tlearn: 0.7773792\ttest: 0.7335443\tbest: 0.7340717 (345)\ttotal: 4.35s\tremaining: 4.33s\n",
      "600:\tlearn: 0.7936273\ttest: 0.7335443\tbest: 0.7340717 (345)\ttotal: 5.15s\tremaining: 3.42s\n",
      "700:\tlearn: 0.8069213\ttest: 0.7345992\tbest: 0.7347574 (690)\ttotal: 5.96s\tremaining: 2.54s\n",
      "800:\tlearn: 0.8216923\ttest: 0.7340190\tbest: 0.7347574 (690)\ttotal: 6.75s\tremaining: 1.68s\n",
      "900:\tlearn: 0.8400506\ttest: 0.7344409\tbest: 0.7347574 (690)\ttotal: 7.57s\tremaining: 832ms\n",
      "999:\tlearn: 0.8522895\ttest: 0.7339662\tbest: 0.7347574 (690)\ttotal: 8.64s\tremaining: 0us\n",
      "\n",
      "bestTest = 0.734757384\n",
      "bestIteration = 690\n",
      "\n",
      "Shrink model to first 691 iterations.\n"
     ]
    },
    {
     "data": {
      "text/plain": [
       "<catboost.core.CatBoostClassifier at 0x2b8efdc1150>"
      ]
     },
     "execution_count": 106,
     "metadata": {},
     "output_type": "execute_result"
    }
   ],
   "source": [
    "model = CatBoostClassifier(\n",
    "    iterations=1000,\n",
    "    learning_rate=0.05,\n",
    "    depth=6,\n",
    "    loss_function='MultiClassOneVsAll',\n",
    "    eval_metric='Accuracy',\n",
    "    verbose=100\n",
    ")\n",
    "\n",
    "model.fit(X_train, y_train, eval_set=(X_test, y_test))"
   ]
  },
  {
   "cell_type": "code",
   "execution_count": 103,
   "metadata": {},
   "outputs": [
    {
     "data": {
      "text/plain": [
       "insurance            846\n",
       "atlas_vzorek           4\n",
       "hour                  24\n",
       "leisure_activity    2717\n",
       "day                   31\n",
       "co_fre_online       1900\n",
       "weekday                7\n",
       "year                   9\n",
       "news_server         1222\n",
       "music                753\n",
       "dtype: int64"
      ]
     },
     "execution_count": 103,
     "metadata": {},
     "output_type": "execute_result"
    }
   ],
   "source": [
    "X_train.nunique()"
   ]
  },
  {
   "cell_type": "code",
   "execution_count": 72,
   "metadata": {},
   "outputs": [
    {
     "data": {
      "application/vnd.plotly.v1+json": {
       "config": {
        "plotlyServerURL": "https://plot.ly"
       },
       "data": [
        {
         "hovertemplate": "Importance=%{x}<br>Feature=%{y}<extra></extra>",
         "legendgroup": "",
         "marker": {
          "color": "#636efa",
          "pattern": {
           "shape": ""
          }
         },
         "name": "",
         "orientation": "h",
         "showlegend": false,
         "textposition": "auto",
         "type": "bar",
         "x": {
          "bdata": "4QCCWxlvAkDgRNlkc47/P+eOaCvwpvw/gcRZodhU/D+F+qX/UEL8P8/nSeBbsPs/2ghc3/B2+j+o9qwMv9T5P+iQvWnuI/g/iS+6VrhK9j+9dCKFMEn2P+0n6Wsd6vU/9N8dsxvl9D/6obgWwcn0P/GActFWN/M/2o73k2cc8z8B2a9iBhPzPxPmcmpzD/M/oeUK+pnl8j/zMDR9IdbyPw==",
          "dtype": "f8"
         },
         "xaxis": "x",
         "y": [
          "insurance",
          "atlas_vzorek",
          "hour",
          "leisure_activity",
          "day",
          "co_fre_online",
          "weekday",
          "year",
          "news_server",
          "music",
          "cigarettes",
          "internet_tools",
          "obchody_online",
          "tv_station",
          "tv_shows",
          "investments",
          "limo",
          "shopping_monthly",
          "hobby_halfyear",
          "information_source"
         ],
         "yaxis": "y"
        }
       ],
       "layout": {
        "barmode": "relative",
        "legend": {
         "tracegroupgap": 0
        },
        "template": {
         "data": {
          "bar": [
           {
            "error_x": {
             "color": "#2a3f5f"
            },
            "error_y": {
             "color": "#2a3f5f"
            },
            "marker": {
             "line": {
              "color": "#E5ECF6",
              "width": 0.5
             },
             "pattern": {
              "fillmode": "overlay",
              "size": 10,
              "solidity": 0.2
             }
            },
            "type": "bar"
           }
          ],
          "barpolar": [
           {
            "marker": {
             "line": {
              "color": "#E5ECF6",
              "width": 0.5
             },
             "pattern": {
              "fillmode": "overlay",
              "size": 10,
              "solidity": 0.2
             }
            },
            "type": "barpolar"
           }
          ],
          "carpet": [
           {
            "aaxis": {
             "endlinecolor": "#2a3f5f",
             "gridcolor": "white",
             "linecolor": "white",
             "minorgridcolor": "white",
             "startlinecolor": "#2a3f5f"
            },
            "baxis": {
             "endlinecolor": "#2a3f5f",
             "gridcolor": "white",
             "linecolor": "white",
             "minorgridcolor": "white",
             "startlinecolor": "#2a3f5f"
            },
            "type": "carpet"
           }
          ],
          "choropleth": [
           {
            "colorbar": {
             "outlinewidth": 0,
             "ticks": ""
            },
            "type": "choropleth"
           }
          ],
          "contour": [
           {
            "colorbar": {
             "outlinewidth": 0,
             "ticks": ""
            },
            "colorscale": [
             [
              0,
              "#0d0887"
             ],
             [
              0.1111111111111111,
              "#46039f"
             ],
             [
              0.2222222222222222,
              "#7201a8"
             ],
             [
              0.3333333333333333,
              "#9c179e"
             ],
             [
              0.4444444444444444,
              "#bd3786"
             ],
             [
              0.5555555555555556,
              "#d8576b"
             ],
             [
              0.6666666666666666,
              "#ed7953"
             ],
             [
              0.7777777777777778,
              "#fb9f3a"
             ],
             [
              0.8888888888888888,
              "#fdca26"
             ],
             [
              1,
              "#f0f921"
             ]
            ],
            "type": "contour"
           }
          ],
          "contourcarpet": [
           {
            "colorbar": {
             "outlinewidth": 0,
             "ticks": ""
            },
            "type": "contourcarpet"
           }
          ],
          "heatmap": [
           {
            "colorbar": {
             "outlinewidth": 0,
             "ticks": ""
            },
            "colorscale": [
             [
              0,
              "#0d0887"
             ],
             [
              0.1111111111111111,
              "#46039f"
             ],
             [
              0.2222222222222222,
              "#7201a8"
             ],
             [
              0.3333333333333333,
              "#9c179e"
             ],
             [
              0.4444444444444444,
              "#bd3786"
             ],
             [
              0.5555555555555556,
              "#d8576b"
             ],
             [
              0.6666666666666666,
              "#ed7953"
             ],
             [
              0.7777777777777778,
              "#fb9f3a"
             ],
             [
              0.8888888888888888,
              "#fdca26"
             ],
             [
              1,
              "#f0f921"
             ]
            ],
            "type": "heatmap"
           }
          ],
          "histogram": [
           {
            "marker": {
             "pattern": {
              "fillmode": "overlay",
              "size": 10,
              "solidity": 0.2
             }
            },
            "type": "histogram"
           }
          ],
          "histogram2d": [
           {
            "colorbar": {
             "outlinewidth": 0,
             "ticks": ""
            },
            "colorscale": [
             [
              0,
              "#0d0887"
             ],
             [
              0.1111111111111111,
              "#46039f"
             ],
             [
              0.2222222222222222,
              "#7201a8"
             ],
             [
              0.3333333333333333,
              "#9c179e"
             ],
             [
              0.4444444444444444,
              "#bd3786"
             ],
             [
              0.5555555555555556,
              "#d8576b"
             ],
             [
              0.6666666666666666,
              "#ed7953"
             ],
             [
              0.7777777777777778,
              "#fb9f3a"
             ],
             [
              0.8888888888888888,
              "#fdca26"
             ],
             [
              1,
              "#f0f921"
             ]
            ],
            "type": "histogram2d"
           }
          ],
          "histogram2dcontour": [
           {
            "colorbar": {
             "outlinewidth": 0,
             "ticks": ""
            },
            "colorscale": [
             [
              0,
              "#0d0887"
             ],
             [
              0.1111111111111111,
              "#46039f"
             ],
             [
              0.2222222222222222,
              "#7201a8"
             ],
             [
              0.3333333333333333,
              "#9c179e"
             ],
             [
              0.4444444444444444,
              "#bd3786"
             ],
             [
              0.5555555555555556,
              "#d8576b"
             ],
             [
              0.6666666666666666,
              "#ed7953"
             ],
             [
              0.7777777777777778,
              "#fb9f3a"
             ],
             [
              0.8888888888888888,
              "#fdca26"
             ],
             [
              1,
              "#f0f921"
             ]
            ],
            "type": "histogram2dcontour"
           }
          ],
          "mesh3d": [
           {
            "colorbar": {
             "outlinewidth": 0,
             "ticks": ""
            },
            "type": "mesh3d"
           }
          ],
          "parcoords": [
           {
            "line": {
             "colorbar": {
              "outlinewidth": 0,
              "ticks": ""
             }
            },
            "type": "parcoords"
           }
          ],
          "pie": [
           {
            "automargin": true,
            "type": "pie"
           }
          ],
          "scatter": [
           {
            "fillpattern": {
             "fillmode": "overlay",
             "size": 10,
             "solidity": 0.2
            },
            "type": "scatter"
           }
          ],
          "scatter3d": [
           {
            "line": {
             "colorbar": {
              "outlinewidth": 0,
              "ticks": ""
             }
            },
            "marker": {
             "colorbar": {
              "outlinewidth": 0,
              "ticks": ""
             }
            },
            "type": "scatter3d"
           }
          ],
          "scattercarpet": [
           {
            "marker": {
             "colorbar": {
              "outlinewidth": 0,
              "ticks": ""
             }
            },
            "type": "scattercarpet"
           }
          ],
          "scattergeo": [
           {
            "marker": {
             "colorbar": {
              "outlinewidth": 0,
              "ticks": ""
             }
            },
            "type": "scattergeo"
           }
          ],
          "scattergl": [
           {
            "marker": {
             "colorbar": {
              "outlinewidth": 0,
              "ticks": ""
             }
            },
            "type": "scattergl"
           }
          ],
          "scattermap": [
           {
            "marker": {
             "colorbar": {
              "outlinewidth": 0,
              "ticks": ""
             }
            },
            "type": "scattermap"
           }
          ],
          "scattermapbox": [
           {
            "marker": {
             "colorbar": {
              "outlinewidth": 0,
              "ticks": ""
             }
            },
            "type": "scattermapbox"
           }
          ],
          "scatterpolar": [
           {
            "marker": {
             "colorbar": {
              "outlinewidth": 0,
              "ticks": ""
             }
            },
            "type": "scatterpolar"
           }
          ],
          "scatterpolargl": [
           {
            "marker": {
             "colorbar": {
              "outlinewidth": 0,
              "ticks": ""
             }
            },
            "type": "scatterpolargl"
           }
          ],
          "scatterternary": [
           {
            "marker": {
             "colorbar": {
              "outlinewidth": 0,
              "ticks": ""
             }
            },
            "type": "scatterternary"
           }
          ],
          "surface": [
           {
            "colorbar": {
             "outlinewidth": 0,
             "ticks": ""
            },
            "colorscale": [
             [
              0,
              "#0d0887"
             ],
             [
              0.1111111111111111,
              "#46039f"
             ],
             [
              0.2222222222222222,
              "#7201a8"
             ],
             [
              0.3333333333333333,
              "#9c179e"
             ],
             [
              0.4444444444444444,
              "#bd3786"
             ],
             [
              0.5555555555555556,
              "#d8576b"
             ],
             [
              0.6666666666666666,
              "#ed7953"
             ],
             [
              0.7777777777777778,
              "#fb9f3a"
             ],
             [
              0.8888888888888888,
              "#fdca26"
             ],
             [
              1,
              "#f0f921"
             ]
            ],
            "type": "surface"
           }
          ],
          "table": [
           {
            "cells": {
             "fill": {
              "color": "#EBF0F8"
             },
             "line": {
              "color": "white"
             }
            },
            "header": {
             "fill": {
              "color": "#C8D4E3"
             },
             "line": {
              "color": "white"
             }
            },
            "type": "table"
           }
          ]
         },
         "layout": {
          "annotationdefaults": {
           "arrowcolor": "#2a3f5f",
           "arrowhead": 0,
           "arrowwidth": 1
          },
          "autotypenumbers": "strict",
          "coloraxis": {
           "colorbar": {
            "outlinewidth": 0,
            "ticks": ""
           }
          },
          "colorscale": {
           "diverging": [
            [
             0,
             "#8e0152"
            ],
            [
             0.1,
             "#c51b7d"
            ],
            [
             0.2,
             "#de77ae"
            ],
            [
             0.3,
             "#f1b6da"
            ],
            [
             0.4,
             "#fde0ef"
            ],
            [
             0.5,
             "#f7f7f7"
            ],
            [
             0.6,
             "#e6f5d0"
            ],
            [
             0.7,
             "#b8e186"
            ],
            [
             0.8,
             "#7fbc41"
            ],
            [
             0.9,
             "#4d9221"
            ],
            [
             1,
             "#276419"
            ]
           ],
           "sequential": [
            [
             0,
             "#0d0887"
            ],
            [
             0.1111111111111111,
             "#46039f"
            ],
            [
             0.2222222222222222,
             "#7201a8"
            ],
            [
             0.3333333333333333,
             "#9c179e"
            ],
            [
             0.4444444444444444,
             "#bd3786"
            ],
            [
             0.5555555555555556,
             "#d8576b"
            ],
            [
             0.6666666666666666,
             "#ed7953"
            ],
            [
             0.7777777777777778,
             "#fb9f3a"
            ],
            [
             0.8888888888888888,
             "#fdca26"
            ],
            [
             1,
             "#f0f921"
            ]
           ],
           "sequentialminus": [
            [
             0,
             "#0d0887"
            ],
            [
             0.1111111111111111,
             "#46039f"
            ],
            [
             0.2222222222222222,
             "#7201a8"
            ],
            [
             0.3333333333333333,
             "#9c179e"
            ],
            [
             0.4444444444444444,
             "#bd3786"
            ],
            [
             0.5555555555555556,
             "#d8576b"
            ],
            [
             0.6666666666666666,
             "#ed7953"
            ],
            [
             0.7777777777777778,
             "#fb9f3a"
            ],
            [
             0.8888888888888888,
             "#fdca26"
            ],
            [
             1,
             "#f0f921"
            ]
           ]
          },
          "colorway": [
           "#636efa",
           "#EF553B",
           "#00cc96",
           "#ab63fa",
           "#FFA15A",
           "#19d3f3",
           "#FF6692",
           "#B6E880",
           "#FF97FF",
           "#FECB52"
          ],
          "font": {
           "color": "#2a3f5f"
          },
          "geo": {
           "bgcolor": "white",
           "lakecolor": "white",
           "landcolor": "#E5ECF6",
           "showlakes": true,
           "showland": true,
           "subunitcolor": "white"
          },
          "hoverlabel": {
           "align": "left"
          },
          "hovermode": "closest",
          "mapbox": {
           "style": "light"
          },
          "paper_bgcolor": "white",
          "plot_bgcolor": "#E5ECF6",
          "polar": {
           "angularaxis": {
            "gridcolor": "white",
            "linecolor": "white",
            "ticks": ""
           },
           "bgcolor": "#E5ECF6",
           "radialaxis": {
            "gridcolor": "white",
            "linecolor": "white",
            "ticks": ""
           }
          },
          "scene": {
           "xaxis": {
            "backgroundcolor": "#E5ECF6",
            "gridcolor": "white",
            "gridwidth": 2,
            "linecolor": "white",
            "showbackground": true,
            "ticks": "",
            "zerolinecolor": "white"
           },
           "yaxis": {
            "backgroundcolor": "#E5ECF6",
            "gridcolor": "white",
            "gridwidth": 2,
            "linecolor": "white",
            "showbackground": true,
            "ticks": "",
            "zerolinecolor": "white"
           },
           "zaxis": {
            "backgroundcolor": "#E5ECF6",
            "gridcolor": "white",
            "gridwidth": 2,
            "linecolor": "white",
            "showbackground": true,
            "ticks": "",
            "zerolinecolor": "white"
           }
          },
          "shapedefaults": {
           "line": {
            "color": "#2a3f5f"
           }
          },
          "ternary": {
           "aaxis": {
            "gridcolor": "white",
            "linecolor": "white",
            "ticks": ""
           },
           "baxis": {
            "gridcolor": "white",
            "linecolor": "white",
            "ticks": ""
           },
           "bgcolor": "#E5ECF6",
           "caxis": {
            "gridcolor": "white",
            "linecolor": "white",
            "ticks": ""
           }
          },
          "title": {
           "x": 0.05
          },
          "xaxis": {
           "automargin": true,
           "gridcolor": "white",
           "linecolor": "white",
           "ticks": "",
           "title": {
            "standoff": 15
           },
           "zerolinecolor": "white",
           "zerolinewidth": 2
          },
          "yaxis": {
           "automargin": true,
           "gridcolor": "white",
           "linecolor": "white",
           "ticks": "",
           "title": {
            "standoff": 15
           },
           "zerolinecolor": "white",
           "zerolinewidth": 2
          }
         }
        },
        "title": {
         "text": "Top 20 Feature Importances"
        },
        "xaxis": {
         "anchor": "y",
         "domain": [
          0,
          1
         ],
         "title": {
          "text": "Importance"
         }
        },
        "yaxis": {
         "anchor": "x",
         "domain": [
          0,
          1
         ],
         "title": {
          "text": "Feature"
         }
        }
       }
      }
     },
     "metadata": {},
     "output_type": "display_data"
    }
   ],
   "source": [
    "# Get importance values\n",
    "importances = model.get_feature_importance()\n",
    "feature_names = X_train.columns\n",
    "\n",
    "# Combine into DataFrame\n",
    "feature_importance_df = pd.DataFrame({\n",
    "    'Feature': feature_names,\n",
    "    'Importance': importances\n",
    "}).sort_values(by='Importance', ascending=False)\n",
    "\n",
    "fig = px.bar(feature_importance_df.head(20), x='Importance', y='Feature', title='Top 20 Feature Importances')\n",
    "fig.show()"
   ]
  },
  {
   "cell_type": "markdown",
   "metadata": {},
   "source": [
    "## PCA to reduce attributes - After using PCA it won't be interpretable as leaving as it is"
   ]
  },
  {
   "cell_type": "code",
   "execution_count": 19,
   "metadata": {},
   "outputs": [
    {
     "data": {
      "text/plain": [
       "'from sklearn.decomposition import PCA\\nfrom sklearn.preprocessing import StandardScaler\\nimport pandas as pd\\n\\nX = df_merge_full.drop(columns=[\\'id\\', \\'user\\', \\'batch\\', \\'state\\', \\'user_id\\', \\'changed_at\\', \\'created_at\\'])\\n\\n# PCA is sensitive to scaling\\nscaler = StandardScaler()\\nX_scaled = scaler.fit_transform(X)\\n\\npca = PCA(n_components=0.95) # Retain 95% of variance\\nX_pca = pca.fit_transform(X_scaled)\\n\\nprint(f\"Original shape: {X.shape}\")\\nprint(f\"Reduced shape: {X_pca.shape}\")'"
      ]
     },
     "execution_count": 19,
     "metadata": {},
     "output_type": "execute_result"
    }
   ],
   "source": [
    "# This doesn't work anymore - from the consultation with VS it is bad idea to do PCA as it lose the interpretability\n",
    "\n",
    "\"\"\"from sklearn.decomposition import PCA\n",
    "from sklearn.preprocessing import StandardScaler\n",
    "import pandas as pd\n",
    "\n",
    "X = df_merge_full.drop(columns=['id', 'user', 'batch', 'state', 'user_id', 'changed_at', 'created_at'])\n",
    "\n",
    "# PCA is sensitive to scaling\n",
    "scaler = StandardScaler()\n",
    "X_scaled = scaler.fit_transform(X)\n",
    "\n",
    "pca = PCA(n_components=0.95) # Retain 95% of variance\n",
    "X_pca = pca.fit_transform(X_scaled)\n",
    "\n",
    "print(f\"Original shape: {X.shape}\")\n",
    "print(f\"Reduced shape: {X_pca.shape}\")\"\"\""
   ]
  },
  {
   "cell_type": "code",
   "execution_count": 20,
   "metadata": {},
   "outputs": [
    {
     "data": {
      "text/html": [
       "<div>\n",
       "<style scoped>\n",
       "    .dataframe tbody tr th:only-of-type {\n",
       "        vertical-align: middle;\n",
       "    }\n",
       "\n",
       "    .dataframe tbody tr th {\n",
       "        vertical-align: top;\n",
       "    }\n",
       "\n",
       "    .dataframe thead th {\n",
       "        text-align: right;\n",
       "    }\n",
       "</style>\n",
       "<table border=\"1\" class=\"dataframe\">\n",
       "  <thead>\n",
       "    <tr style=\"text-align: right;\">\n",
       "      <th></th>\n",
       "      <th>user_id</th>\n",
       "      <th>all_intro-2022</th>\n",
       "      <th>atlas_vzorek-2023</th>\n",
       "      <th>atlas_vzorek-2024</th>\n",
       "      <th>all_intro-trendaro_panel_all</th>\n",
       "      <th>sex-woman</th>\n",
       "      <th>sex-man</th>\n",
       "      <th>age-15_17</th>\n",
       "      <th>age-18_24</th>\n",
       "      <th>age-25_34</th>\n",
       "      <th>...</th>\n",
       "      <th>check-tv</th>\n",
       "      <th>check-radio</th>\n",
       "      <th>check-household</th>\n",
       "      <th>check-overdraft</th>\n",
       "      <th>check-naramek</th>\n",
       "      <th>isic2_age-21_26</th>\n",
       "      <th>isic2_age-15_20</th>\n",
       "      <th>isic_age-15_17</th>\n",
       "      <th>isic_age-18_22</th>\n",
       "      <th>isic_age-23_26</th>\n",
       "    </tr>\n",
       "  </thead>\n",
       "  <tbody>\n",
       "    <tr>\n",
       "      <th>0</th>\n",
       "      <td>STUD29866</td>\n",
       "      <td>0</td>\n",
       "      <td>0</td>\n",
       "      <td>0</td>\n",
       "      <td>1</td>\n",
       "      <td>1</td>\n",
       "      <td>0</td>\n",
       "      <td>1</td>\n",
       "      <td>0</td>\n",
       "      <td>0</td>\n",
       "      <td>...</td>\n",
       "      <td>0</td>\n",
       "      <td>0</td>\n",
       "      <td>0</td>\n",
       "      <td>0</td>\n",
       "      <td>0</td>\n",
       "      <td>0</td>\n",
       "      <td>1</td>\n",
       "      <td>1</td>\n",
       "      <td>0</td>\n",
       "      <td>0</td>\n",
       "    </tr>\n",
       "    <tr>\n",
       "      <th>1</th>\n",
       "      <td>STUD35256</td>\n",
       "      <td>0</td>\n",
       "      <td>0</td>\n",
       "      <td>0</td>\n",
       "      <td>0</td>\n",
       "      <td>0</td>\n",
       "      <td>0</td>\n",
       "      <td>0</td>\n",
       "      <td>0</td>\n",
       "      <td>0</td>\n",
       "      <td>...</td>\n",
       "      <td>0</td>\n",
       "      <td>0</td>\n",
       "      <td>0</td>\n",
       "      <td>0</td>\n",
       "      <td>0</td>\n",
       "      <td>0</td>\n",
       "      <td>0</td>\n",
       "      <td>0</td>\n",
       "      <td>0</td>\n",
       "      <td>0</td>\n",
       "    </tr>\n",
       "    <tr>\n",
       "      <th>2</th>\n",
       "      <td>STUD29684</td>\n",
       "      <td>0</td>\n",
       "      <td>0</td>\n",
       "      <td>0</td>\n",
       "      <td>1</td>\n",
       "      <td>0</td>\n",
       "      <td>1</td>\n",
       "      <td>0</td>\n",
       "      <td>0</td>\n",
       "      <td>0</td>\n",
       "      <td>...</td>\n",
       "      <td>0</td>\n",
       "      <td>0</td>\n",
       "      <td>0</td>\n",
       "      <td>0</td>\n",
       "      <td>0</td>\n",
       "      <td>0</td>\n",
       "      <td>0</td>\n",
       "      <td>0</td>\n",
       "      <td>0</td>\n",
       "      <td>0</td>\n",
       "    </tr>\n",
       "    <tr>\n",
       "      <th>3</th>\n",
       "      <td>STUD11967</td>\n",
       "      <td>0</td>\n",
       "      <td>0</td>\n",
       "      <td>0</td>\n",
       "      <td>1</td>\n",
       "      <td>1</td>\n",
       "      <td>0</td>\n",
       "      <td>0</td>\n",
       "      <td>0</td>\n",
       "      <td>1</td>\n",
       "      <td>...</td>\n",
       "      <td>0</td>\n",
       "      <td>0</td>\n",
       "      <td>0</td>\n",
       "      <td>0</td>\n",
       "      <td>0</td>\n",
       "      <td>1</td>\n",
       "      <td>0</td>\n",
       "      <td>0</td>\n",
       "      <td>0</td>\n",
       "      <td>1</td>\n",
       "    </tr>\n",
       "    <tr>\n",
       "      <th>4</th>\n",
       "      <td>STUD57644</td>\n",
       "      <td>0</td>\n",
       "      <td>0</td>\n",
       "      <td>0</td>\n",
       "      <td>1</td>\n",
       "      <td>0</td>\n",
       "      <td>1</td>\n",
       "      <td>0</td>\n",
       "      <td>0</td>\n",
       "      <td>0</td>\n",
       "      <td>...</td>\n",
       "      <td>0</td>\n",
       "      <td>0</td>\n",
       "      <td>0</td>\n",
       "      <td>0</td>\n",
       "      <td>0</td>\n",
       "      <td>0</td>\n",
       "      <td>0</td>\n",
       "      <td>0</td>\n",
       "      <td>0</td>\n",
       "      <td>0</td>\n",
       "    </tr>\n",
       "    <tr>\n",
       "      <th>...</th>\n",
       "      <td>...</td>\n",
       "      <td>...</td>\n",
       "      <td>...</td>\n",
       "      <td>...</td>\n",
       "      <td>...</td>\n",
       "      <td>...</td>\n",
       "      <td>...</td>\n",
       "      <td>...</td>\n",
       "      <td>...</td>\n",
       "      <td>...</td>\n",
       "      <td>...</td>\n",
       "      <td>...</td>\n",
       "      <td>...</td>\n",
       "      <td>...</td>\n",
       "      <td>...</td>\n",
       "      <td>...</td>\n",
       "      <td>...</td>\n",
       "      <td>...</td>\n",
       "      <td>...</td>\n",
       "      <td>...</td>\n",
       "      <td>...</td>\n",
       "    </tr>\n",
       "    <tr>\n",
       "      <th>43528</th>\n",
       "      <td>STUD33520</td>\n",
       "      <td>0</td>\n",
       "      <td>0</td>\n",
       "      <td>0</td>\n",
       "      <td>1</td>\n",
       "      <td>1</td>\n",
       "      <td>0</td>\n",
       "      <td>0</td>\n",
       "      <td>0</td>\n",
       "      <td>0</td>\n",
       "      <td>...</td>\n",
       "      <td>0</td>\n",
       "      <td>0</td>\n",
       "      <td>0</td>\n",
       "      <td>0</td>\n",
       "      <td>0</td>\n",
       "      <td>0</td>\n",
       "      <td>0</td>\n",
       "      <td>0</td>\n",
       "      <td>0</td>\n",
       "      <td>0</td>\n",
       "    </tr>\n",
       "    <tr>\n",
       "      <th>43529</th>\n",
       "      <td>STUD64071</td>\n",
       "      <td>0</td>\n",
       "      <td>0</td>\n",
       "      <td>0</td>\n",
       "      <td>1</td>\n",
       "      <td>0</td>\n",
       "      <td>1</td>\n",
       "      <td>0</td>\n",
       "      <td>0</td>\n",
       "      <td>0</td>\n",
       "      <td>...</td>\n",
       "      <td>0</td>\n",
       "      <td>0</td>\n",
       "      <td>0</td>\n",
       "      <td>0</td>\n",
       "      <td>0</td>\n",
       "      <td>0</td>\n",
       "      <td>0</td>\n",
       "      <td>0</td>\n",
       "      <td>0</td>\n",
       "      <td>0</td>\n",
       "    </tr>\n",
       "    <tr>\n",
       "      <th>43530</th>\n",
       "      <td>STUD82916</td>\n",
       "      <td>1</td>\n",
       "      <td>1</td>\n",
       "      <td>1</td>\n",
       "      <td>1</td>\n",
       "      <td>0</td>\n",
       "      <td>1</td>\n",
       "      <td>0</td>\n",
       "      <td>0</td>\n",
       "      <td>0</td>\n",
       "      <td>...</td>\n",
       "      <td>0</td>\n",
       "      <td>0</td>\n",
       "      <td>0</td>\n",
       "      <td>0</td>\n",
       "      <td>0</td>\n",
       "      <td>0</td>\n",
       "      <td>0</td>\n",
       "      <td>0</td>\n",
       "      <td>0</td>\n",
       "      <td>0</td>\n",
       "    </tr>\n",
       "    <tr>\n",
       "      <th>43531</th>\n",
       "      <td>STUD63130</td>\n",
       "      <td>0</td>\n",
       "      <td>0</td>\n",
       "      <td>0</td>\n",
       "      <td>0</td>\n",
       "      <td>0</td>\n",
       "      <td>0</td>\n",
       "      <td>0</td>\n",
       "      <td>0</td>\n",
       "      <td>0</td>\n",
       "      <td>...</td>\n",
       "      <td>0</td>\n",
       "      <td>0</td>\n",
       "      <td>0</td>\n",
       "      <td>0</td>\n",
       "      <td>0</td>\n",
       "      <td>0</td>\n",
       "      <td>0</td>\n",
       "      <td>0</td>\n",
       "      <td>0</td>\n",
       "      <td>0</td>\n",
       "    </tr>\n",
       "    <tr>\n",
       "      <th>43532</th>\n",
       "      <td>STUD56842</td>\n",
       "      <td>0</td>\n",
       "      <td>0</td>\n",
       "      <td>0</td>\n",
       "      <td>1</td>\n",
       "      <td>0</td>\n",
       "      <td>1</td>\n",
       "      <td>0</td>\n",
       "      <td>0</td>\n",
       "      <td>0</td>\n",
       "      <td>...</td>\n",
       "      <td>0</td>\n",
       "      <td>0</td>\n",
       "      <td>0</td>\n",
       "      <td>0</td>\n",
       "      <td>0</td>\n",
       "      <td>0</td>\n",
       "      <td>0</td>\n",
       "      <td>0</td>\n",
       "      <td>0</td>\n",
       "      <td>0</td>\n",
       "    </tr>\n",
       "  </tbody>\n",
       "</table>\n",
       "<p>43533 rows × 1121 columns</p>\n",
       "</div>"
      ],
      "text/plain": [
       "         user_id  all_intro-2022  atlas_vzorek-2023  atlas_vzorek-2024  \\\n",
       "0      STUD29866               0                  0                  0   \n",
       "1      STUD35256               0                  0                  0   \n",
       "2      STUD29684               0                  0                  0   \n",
       "3      STUD11967               0                  0                  0   \n",
       "4      STUD57644               0                  0                  0   \n",
       "...          ...             ...                ...                ...   \n",
       "43528  STUD33520               0                  0                  0   \n",
       "43529  STUD64071               0                  0                  0   \n",
       "43530  STUD82916               1                  1                  1   \n",
       "43531  STUD63130               0                  0                  0   \n",
       "43532  STUD56842               0                  0                  0   \n",
       "\n",
       "       all_intro-trendaro_panel_all  sex-woman  sex-man  age-15_17  age-18_24  \\\n",
       "0                                 1          1        0          1          0   \n",
       "1                                 0          0        0          0          0   \n",
       "2                                 1          0        1          0          0   \n",
       "3                                 1          1        0          0          0   \n",
       "4                                 1          0        1          0          0   \n",
       "...                             ...        ...      ...        ...        ...   \n",
       "43528                             1          1        0          0          0   \n",
       "43529                             1          0        1          0          0   \n",
       "43530                             1          0        1          0          0   \n",
       "43531                             0          0        0          0          0   \n",
       "43532                             1          0        1          0          0   \n",
       "\n",
       "       age-25_34  ...  check-tv  check-radio  check-household  \\\n",
       "0              0  ...         0            0                0   \n",
       "1              0  ...         0            0                0   \n",
       "2              0  ...         0            0                0   \n",
       "3              1  ...         0            0                0   \n",
       "4              0  ...         0            0                0   \n",
       "...          ...  ...       ...          ...              ...   \n",
       "43528          0  ...         0            0                0   \n",
       "43529          0  ...         0            0                0   \n",
       "43530          0  ...         0            0                0   \n",
       "43531          0  ...         0            0                0   \n",
       "43532          0  ...         0            0                0   \n",
       "\n",
       "       check-overdraft  check-naramek  isic2_age-21_26  isic2_age-15_20  \\\n",
       "0                    0              0                0                1   \n",
       "1                    0              0                0                0   \n",
       "2                    0              0                0                0   \n",
       "3                    0              0                1                0   \n",
       "4                    0              0                0                0   \n",
       "...                ...            ...              ...              ...   \n",
       "43528                0              0                0                0   \n",
       "43529                0              0                0                0   \n",
       "43530                0              0                0                0   \n",
       "43531                0              0                0                0   \n",
       "43532                0              0                0                0   \n",
       "\n",
       "       isic_age-15_17  isic_age-18_22  isic_age-23_26  \n",
       "0                   1               0               0  \n",
       "1                   0               0               0  \n",
       "2                   0               0               0  \n",
       "3                   0               0               1  \n",
       "4                   0               0               0  \n",
       "...               ...             ...             ...  \n",
       "43528               0               0               0  \n",
       "43529               0               0               0  \n",
       "43530               0               0               0  \n",
       "43531               0               0               0  \n",
       "43532               0               0               0  \n",
       "\n",
       "[43533 rows x 1121 columns]"
      ]
     },
     "execution_count": 20,
     "metadata": {},
     "output_type": "execute_result"
    }
   ],
   "source": [
    "df_atlas"
   ]
  },
  {
   "cell_type": "code",
   "execution_count": 21,
   "metadata": {},
   "outputs": [
    {
     "data": {
      "text/plain": [
       "credits_category\n",
       "500-600     0.732855\n",
       "1001+       0.150243\n",
       "601-1000    0.116902\n",
       "Name: proportion, dtype: float64"
      ]
     },
     "execution_count": 21,
     "metadata": {},
     "output_type": "execute_result"
    }
   ],
   "source": [
    "y_train.value_counts(normalize=True)"
   ]
  },
  {
   "cell_type": "code",
   "execution_count": 22,
   "metadata": {},
   "outputs": [
    {
     "data": {
      "text/html": [
       "<div>\n",
       "<style scoped>\n",
       "    .dataframe tbody tr th:only-of-type {\n",
       "        vertical-align: middle;\n",
       "    }\n",
       "\n",
       "    .dataframe tbody tr th {\n",
       "        vertical-align: top;\n",
       "    }\n",
       "\n",
       "    .dataframe thead th {\n",
       "        text-align: right;\n",
       "    }\n",
       "</style>\n",
       "<table border=\"1\" class=\"dataframe\">\n",
       "  <thead>\n",
       "    <tr style=\"text-align: right;\">\n",
       "      <th></th>\n",
       "      <th>Feature Id</th>\n",
       "      <th>Importances</th>\n",
       "    </tr>\n",
       "  </thead>\n",
       "  <tbody>\n",
       "    <tr>\n",
       "      <th>0</th>\n",
       "      <td>year</td>\n",
       "      <td>2.239560</td>\n",
       "    </tr>\n",
       "    <tr>\n",
       "      <th>1</th>\n",
       "      <td>day</td>\n",
       "      <td>1.690253</td>\n",
       "    </tr>\n",
       "    <tr>\n",
       "      <th>2</th>\n",
       "      <td>hour</td>\n",
       "      <td>1.690020</td>\n",
       "    </tr>\n",
       "    <tr>\n",
       "      <th>3</th>\n",
       "      <td>weekday</td>\n",
       "      <td>1.639032</td>\n",
       "    </tr>\n",
       "    <tr>\n",
       "      <th>4</th>\n",
       "      <td>month</td>\n",
       "      <td>1.310483</td>\n",
       "    </tr>\n",
       "    <tr>\n",
       "      <th>...</th>\n",
       "      <td>...</td>\n",
       "      <td>...</td>\n",
       "    </tr>\n",
       "    <tr>\n",
       "      <th>1124</th>\n",
       "      <td>isic2_age-21_26</td>\n",
       "      <td>0.000000</td>\n",
       "    </tr>\n",
       "    <tr>\n",
       "      <th>1125</th>\n",
       "      <td>isic2_age-15_20</td>\n",
       "      <td>0.000000</td>\n",
       "    </tr>\n",
       "    <tr>\n",
       "      <th>1126</th>\n",
       "      <td>isic_age-15_17</td>\n",
       "      <td>0.000000</td>\n",
       "    </tr>\n",
       "    <tr>\n",
       "      <th>1127</th>\n",
       "      <td>isic_age-18_22</td>\n",
       "      <td>0.000000</td>\n",
       "    </tr>\n",
       "    <tr>\n",
       "      <th>1128</th>\n",
       "      <td>type_HANDIPET</td>\n",
       "      <td>0.000000</td>\n",
       "    </tr>\n",
       "  </tbody>\n",
       "</table>\n",
       "<p>1129 rows × 2 columns</p>\n",
       "</div>"
      ],
      "text/plain": [
       "           Feature Id  Importances\n",
       "0                year     2.239560\n",
       "1                 day     1.690253\n",
       "2                hour     1.690020\n",
       "3             weekday     1.639032\n",
       "4               month     1.310483\n",
       "...               ...          ...\n",
       "1124  isic2_age-21_26     0.000000\n",
       "1125  isic2_age-15_20     0.000000\n",
       "1126   isic_age-15_17     0.000000\n",
       "1127   isic_age-18_22     0.000000\n",
       "1128    type_HANDIPET     0.000000\n",
       "\n",
       "[1129 rows x 2 columns]"
      ]
     },
     "execution_count": 22,
     "metadata": {},
     "output_type": "execute_result"
    }
   ],
   "source": [
    "model.get_feature_importance(prettified=True)"
   ]
  },
  {
   "cell_type": "code",
   "execution_count": 23,
   "metadata": {},
   "outputs": [
    {
     "name": "stdout",
     "output_type": "stream",
     "text": [
      "NaNs in X: 0\n",
      "NaNs in y: 0\n"
     ]
    }
   ],
   "source": [
    "print(\"NaNs in X:\", X.isnull().sum().sum())\n",
    "print(\"NaNs in y:\", y.isnull().sum())"
   ]
  },
  {
   "cell_type": "code",
   "execution_count": 24,
   "metadata": {},
   "outputs": [
    {
     "ename": "KeyError",
     "evalue": "'credits'",
     "output_type": "error",
     "traceback": [
      "\u001b[31m---------------------------------------------------------------------------\u001b[39m",
      "\u001b[31mKeyError\u001b[39m                                  Traceback (most recent call last)",
      "\u001b[36mFile \u001b[39m\u001b[32mc:\\Coding\\DP-DataEight\\venv\\Lib\\site-packages\\pandas\\core\\indexes\\base.py:3805\u001b[39m, in \u001b[36mIndex.get_loc\u001b[39m\u001b[34m(self, key)\u001b[39m\n\u001b[32m   3804\u001b[39m \u001b[38;5;28;01mtry\u001b[39;00m:\n\u001b[32m-> \u001b[39m\u001b[32m3805\u001b[39m     \u001b[38;5;28;01mreturn\u001b[39;00m \u001b[38;5;28;43mself\u001b[39;49m\u001b[43m.\u001b[49m\u001b[43m_engine\u001b[49m\u001b[43m.\u001b[49m\u001b[43mget_loc\u001b[49m\u001b[43m(\u001b[49m\u001b[43mcasted_key\u001b[49m\u001b[43m)\u001b[49m\n\u001b[32m   3806\u001b[39m \u001b[38;5;28;01mexcept\u001b[39;00m \u001b[38;5;167;01mKeyError\u001b[39;00m \u001b[38;5;28;01mas\u001b[39;00m err:\n",
      "\u001b[36mFile \u001b[39m\u001b[32mindex.pyx:167\u001b[39m, in \u001b[36mpandas._libs.index.IndexEngine.get_loc\u001b[39m\u001b[34m()\u001b[39m\n",
      "\u001b[36mFile \u001b[39m\u001b[32mindex.pyx:196\u001b[39m, in \u001b[36mpandas._libs.index.IndexEngine.get_loc\u001b[39m\u001b[34m()\u001b[39m\n",
      "\u001b[36mFile \u001b[39m\u001b[32mpandas\\\\_libs\\\\hashtable_class_helper.pxi:7081\u001b[39m, in \u001b[36mpandas._libs.hashtable.PyObjectHashTable.get_item\u001b[39m\u001b[34m()\u001b[39m\n",
      "\u001b[36mFile \u001b[39m\u001b[32mpandas\\\\_libs\\\\hashtable_class_helper.pxi:7089\u001b[39m, in \u001b[36mpandas._libs.hashtable.PyObjectHashTable.get_item\u001b[39m\u001b[34m()\u001b[39m\n",
      "\u001b[31mKeyError\u001b[39m: 'credits'",
      "\nThe above exception was the direct cause of the following exception:\n",
      "\u001b[31mKeyError\u001b[39m                                  Traceback (most recent call last)",
      "\u001b[36mCell\u001b[39m\u001b[36m \u001b[39m\u001b[32mIn[24]\u001b[39m\u001b[32m, line 1\u001b[39m\n\u001b[32m----> \u001b[39m\u001b[32m1\u001b[39m \u001b[43mdf_modeling\u001b[49m\u001b[43m[\u001b[49m\u001b[43mdf_modeling\u001b[49m\u001b[43m[\u001b[49m\u001b[33;43m'\u001b[39;49m\u001b[33;43mcredits_category\u001b[39;49m\u001b[33;43m'\u001b[39;49m\u001b[43m]\u001b[49m\u001b[43m.\u001b[49m\u001b[43misna\u001b[49m\u001b[43m(\u001b[49m\u001b[43m)\u001b[49m\u001b[43m]\u001b[49m\u001b[43m[\u001b[49m\u001b[33;43m'\u001b[39;49m\u001b[33;43mcredits\u001b[39;49m\u001b[33;43m'\u001b[39;49m\u001b[43m]\u001b[49m\n",
      "\u001b[36mFile \u001b[39m\u001b[32mc:\\Coding\\DP-DataEight\\venv\\Lib\\site-packages\\pandas\\core\\frame.py:4102\u001b[39m, in \u001b[36mDataFrame.__getitem__\u001b[39m\u001b[34m(self, key)\u001b[39m\n\u001b[32m   4100\u001b[39m \u001b[38;5;28;01mif\u001b[39;00m \u001b[38;5;28mself\u001b[39m.columns.nlevels > \u001b[32m1\u001b[39m:\n\u001b[32m   4101\u001b[39m     \u001b[38;5;28;01mreturn\u001b[39;00m \u001b[38;5;28mself\u001b[39m._getitem_multilevel(key)\n\u001b[32m-> \u001b[39m\u001b[32m4102\u001b[39m indexer = \u001b[38;5;28;43mself\u001b[39;49m\u001b[43m.\u001b[49m\u001b[43mcolumns\u001b[49m\u001b[43m.\u001b[49m\u001b[43mget_loc\u001b[49m\u001b[43m(\u001b[49m\u001b[43mkey\u001b[49m\u001b[43m)\u001b[49m\n\u001b[32m   4103\u001b[39m \u001b[38;5;28;01mif\u001b[39;00m is_integer(indexer):\n\u001b[32m   4104\u001b[39m     indexer = [indexer]\n",
      "\u001b[36mFile \u001b[39m\u001b[32mc:\\Coding\\DP-DataEight\\venv\\Lib\\site-packages\\pandas\\core\\indexes\\base.py:3812\u001b[39m, in \u001b[36mIndex.get_loc\u001b[39m\u001b[34m(self, key)\u001b[39m\n\u001b[32m   3807\u001b[39m     \u001b[38;5;28;01mif\u001b[39;00m \u001b[38;5;28misinstance\u001b[39m(casted_key, \u001b[38;5;28mslice\u001b[39m) \u001b[38;5;129;01mor\u001b[39;00m (\n\u001b[32m   3808\u001b[39m         \u001b[38;5;28misinstance\u001b[39m(casted_key, abc.Iterable)\n\u001b[32m   3809\u001b[39m         \u001b[38;5;129;01mand\u001b[39;00m \u001b[38;5;28many\u001b[39m(\u001b[38;5;28misinstance\u001b[39m(x, \u001b[38;5;28mslice\u001b[39m) \u001b[38;5;28;01mfor\u001b[39;00m x \u001b[38;5;129;01min\u001b[39;00m casted_key)\n\u001b[32m   3810\u001b[39m     ):\n\u001b[32m   3811\u001b[39m         \u001b[38;5;28;01mraise\u001b[39;00m InvalidIndexError(key)\n\u001b[32m-> \u001b[39m\u001b[32m3812\u001b[39m     \u001b[38;5;28;01mraise\u001b[39;00m \u001b[38;5;167;01mKeyError\u001b[39;00m(key) \u001b[38;5;28;01mfrom\u001b[39;00m\u001b[38;5;250m \u001b[39m\u001b[34;01merr\u001b[39;00m\n\u001b[32m   3813\u001b[39m \u001b[38;5;28;01mexcept\u001b[39;00m \u001b[38;5;167;01mTypeError\u001b[39;00m:\n\u001b[32m   3814\u001b[39m     \u001b[38;5;66;03m# If we have a listlike key, _check_indexing_error will raise\u001b[39;00m\n\u001b[32m   3815\u001b[39m     \u001b[38;5;66;03m#  InvalidIndexError. Otherwise we fall through and re-raise\u001b[39;00m\n\u001b[32m   3816\u001b[39m     \u001b[38;5;66;03m#  the TypeError.\u001b[39;00m\n\u001b[32m   3817\u001b[39m     \u001b[38;5;28mself\u001b[39m._check_indexing_error(key)\n",
      "\u001b[31mKeyError\u001b[39m: 'credits'"
     ]
    }
   ],
   "source": [
    "df_modeling[df_modeling['credits_category'].isna()]['credits']"
   ]
  },
  {
   "cell_type": "code",
   "execution_count": null,
   "metadata": {},
   "outputs": [
    {
     "ename": "ValueError",
     "evalue": "Input contains NaN",
     "output_type": "error",
     "traceback": [
      "\u001b[1;31m---------------------------------------------------------------------------\u001b[0m",
      "\u001b[1;31mValueError\u001b[0m                                Traceback (most recent call last)",
      "Cell \u001b[1;32mIn[24], line 4\u001b[0m\n\u001b[0;32m      1\u001b[0m y \u001b[38;5;241m=\u001b[39m df_modeling[\u001b[38;5;124m'\u001b[39m\u001b[38;5;124mcredits_category\u001b[39m\u001b[38;5;124m'\u001b[39m]\n\u001b[0;32m      2\u001b[0m X \u001b[38;5;241m=\u001b[39m df_modeling\u001b[38;5;241m.\u001b[39mdrop(columns\u001b[38;5;241m=\u001b[39m[\u001b[38;5;124m'\u001b[39m\u001b[38;5;124mcredits_category\u001b[39m\u001b[38;5;124m'\u001b[39m])\n\u001b[1;32m----> 4\u001b[0m X_train, X_test, y_train, y_test \u001b[38;5;241m=\u001b[39m \u001b[43mtrain_test_split\u001b[49m\u001b[43m(\u001b[49m\n\u001b[0;32m      5\u001b[0m \u001b[43m    \u001b[49m\u001b[43mX\u001b[49m\u001b[43m,\u001b[49m\u001b[43m \u001b[49m\u001b[43my\u001b[49m\u001b[43m,\u001b[49m\u001b[43m \u001b[49m\u001b[43mtest_size\u001b[49m\u001b[38;5;241;43m=\u001b[39;49m\u001b[38;5;241;43m0.8\u001b[39;49m\u001b[43m,\u001b[49m\u001b[43m \u001b[49m\u001b[43mstratify\u001b[49m\u001b[38;5;241;43m=\u001b[39;49m\u001b[43my\u001b[49m\u001b[43m,\u001b[49m\u001b[43m \u001b[49m\u001b[43mrandom_state\u001b[49m\u001b[38;5;241;43m=\u001b[39;49m\u001b[38;5;241;43m42\u001b[39;49m\n\u001b[0;32m      6\u001b[0m \u001b[43m)\u001b[49m\n",
      "File \u001b[1;32md:\\Coding\\DP-DataEight\\venv\\lib\\site-packages\\sklearn\\utils\\_param_validation.py:216\u001b[0m, in \u001b[0;36mvalidate_params.<locals>.decorator.<locals>.wrapper\u001b[1;34m(*args, **kwargs)\u001b[0m\n\u001b[0;32m    210\u001b[0m \u001b[38;5;28;01mtry\u001b[39;00m:\n\u001b[0;32m    211\u001b[0m     \u001b[38;5;28;01mwith\u001b[39;00m config_context(\n\u001b[0;32m    212\u001b[0m         skip_parameter_validation\u001b[38;5;241m=\u001b[39m(\n\u001b[0;32m    213\u001b[0m             prefer_skip_nested_validation \u001b[38;5;129;01mor\u001b[39;00m global_skip_validation\n\u001b[0;32m    214\u001b[0m         )\n\u001b[0;32m    215\u001b[0m     ):\n\u001b[1;32m--> 216\u001b[0m         \u001b[38;5;28;01mreturn\u001b[39;00m func(\u001b[38;5;241m*\u001b[39margs, \u001b[38;5;241m*\u001b[39m\u001b[38;5;241m*\u001b[39mkwargs)\n\u001b[0;32m    217\u001b[0m \u001b[38;5;28;01mexcept\u001b[39;00m InvalidParameterError \u001b[38;5;28;01mas\u001b[39;00m e:\n\u001b[0;32m    218\u001b[0m     \u001b[38;5;66;03m# When the function is just a wrapper around an estimator, we allow\u001b[39;00m\n\u001b[0;32m    219\u001b[0m     \u001b[38;5;66;03m# the function to delegate validation to the estimator, but we replace\u001b[39;00m\n\u001b[0;32m    220\u001b[0m     \u001b[38;5;66;03m# the name of the estimator by the name of the function in the error\u001b[39;00m\n\u001b[0;32m    221\u001b[0m     \u001b[38;5;66;03m# message to avoid confusion.\u001b[39;00m\n\u001b[0;32m    222\u001b[0m     msg \u001b[38;5;241m=\u001b[39m re\u001b[38;5;241m.\u001b[39msub(\n\u001b[0;32m    223\u001b[0m         \u001b[38;5;124mr\u001b[39m\u001b[38;5;124m\"\u001b[39m\u001b[38;5;124mparameter of \u001b[39m\u001b[38;5;124m\\\u001b[39m\u001b[38;5;124mw+ must be\u001b[39m\u001b[38;5;124m\"\u001b[39m,\n\u001b[0;32m    224\u001b[0m         \u001b[38;5;124mf\u001b[39m\u001b[38;5;124m\"\u001b[39m\u001b[38;5;124mparameter of \u001b[39m\u001b[38;5;132;01m{\u001b[39;00mfunc\u001b[38;5;241m.\u001b[39m\u001b[38;5;18m__qualname__\u001b[39m\u001b[38;5;132;01m}\u001b[39;00m\u001b[38;5;124m must be\u001b[39m\u001b[38;5;124m\"\u001b[39m,\n\u001b[0;32m    225\u001b[0m         \u001b[38;5;28mstr\u001b[39m(e),\n\u001b[0;32m    226\u001b[0m     )\n",
      "File \u001b[1;32md:\\Coding\\DP-DataEight\\venv\\lib\\site-packages\\sklearn\\model_selection\\_split.py:2872\u001b[0m, in \u001b[0;36mtrain_test_split\u001b[1;34m(test_size, train_size, random_state, shuffle, stratify, *arrays)\u001b[0m\n\u001b[0;32m   2868\u001b[0m         CVClass \u001b[38;5;241m=\u001b[39m ShuffleSplit\n\u001b[0;32m   2870\u001b[0m     cv \u001b[38;5;241m=\u001b[39m CVClass(test_size\u001b[38;5;241m=\u001b[39mn_test, train_size\u001b[38;5;241m=\u001b[39mn_train, random_state\u001b[38;5;241m=\u001b[39mrandom_state)\n\u001b[1;32m-> 2872\u001b[0m     train, test \u001b[38;5;241m=\u001b[39m \u001b[38;5;28mnext\u001b[39m(\u001b[43mcv\u001b[49m\u001b[38;5;241;43m.\u001b[39;49m\u001b[43msplit\u001b[49m\u001b[43m(\u001b[49m\u001b[43mX\u001b[49m\u001b[38;5;241;43m=\u001b[39;49m\u001b[43marrays\u001b[49m\u001b[43m[\u001b[49m\u001b[38;5;241;43m0\u001b[39;49m\u001b[43m]\u001b[49m\u001b[43m,\u001b[49m\u001b[43m \u001b[49m\u001b[43my\u001b[49m\u001b[38;5;241;43m=\u001b[39;49m\u001b[43mstratify\u001b[49m\u001b[43m)\u001b[49m)\n\u001b[0;32m   2874\u001b[0m train, test \u001b[38;5;241m=\u001b[39m ensure_common_namespace_device(arrays[\u001b[38;5;241m0\u001b[39m], train, test)\n\u001b[0;32m   2876\u001b[0m \u001b[38;5;28;01mreturn\u001b[39;00m \u001b[38;5;28mlist\u001b[39m(\n\u001b[0;32m   2877\u001b[0m     chain\u001b[38;5;241m.\u001b[39mfrom_iterable(\n\u001b[0;32m   2878\u001b[0m         (_safe_indexing(a, train), _safe_indexing(a, test)) \u001b[38;5;28;01mfor\u001b[39;00m a \u001b[38;5;129;01min\u001b[39;00m arrays\n\u001b[0;32m   2879\u001b[0m     )\n\u001b[0;32m   2880\u001b[0m )\n",
      "File \u001b[1;32md:\\Coding\\DP-DataEight\\venv\\lib\\site-packages\\sklearn\\model_selection\\_split.py:2405\u001b[0m, in \u001b[0;36mStratifiedShuffleSplit.split\u001b[1;34m(self, X, y, groups)\u001b[0m\n\u001b[0;32m   2400\u001b[0m \u001b[38;5;28;01mif\u001b[39;00m groups \u001b[38;5;129;01mis\u001b[39;00m \u001b[38;5;129;01mnot\u001b[39;00m \u001b[38;5;28;01mNone\u001b[39;00m:\n\u001b[0;32m   2401\u001b[0m     warnings\u001b[38;5;241m.\u001b[39mwarn(\n\u001b[0;32m   2402\u001b[0m         \u001b[38;5;124mf\u001b[39m\u001b[38;5;124m\"\u001b[39m\u001b[38;5;124mThe groups parameter is ignored by \u001b[39m\u001b[38;5;132;01m{\u001b[39;00m\u001b[38;5;28mself\u001b[39m\u001b[38;5;241m.\u001b[39m\u001b[38;5;18m__class__\u001b[39m\u001b[38;5;241m.\u001b[39m\u001b[38;5;18m__name__\u001b[39m\u001b[38;5;132;01m}\u001b[39;00m\u001b[38;5;124m\"\u001b[39m,\n\u001b[0;32m   2403\u001b[0m         \u001b[38;5;167;01mUserWarning\u001b[39;00m,\n\u001b[0;32m   2404\u001b[0m     )\n\u001b[1;32m-> 2405\u001b[0m y \u001b[38;5;241m=\u001b[39m \u001b[43mcheck_array\u001b[49m\u001b[43m(\u001b[49m\u001b[43my\u001b[49m\u001b[43m,\u001b[49m\u001b[43m \u001b[49m\u001b[43minput_name\u001b[49m\u001b[38;5;241;43m=\u001b[39;49m\u001b[38;5;124;43m\"\u001b[39;49m\u001b[38;5;124;43my\u001b[39;49m\u001b[38;5;124;43m\"\u001b[39;49m\u001b[43m,\u001b[49m\u001b[43m \u001b[49m\u001b[43mensure_2d\u001b[49m\u001b[38;5;241;43m=\u001b[39;49m\u001b[38;5;28;43;01mFalse\u001b[39;49;00m\u001b[43m,\u001b[49m\u001b[43m \u001b[49m\u001b[43mdtype\u001b[49m\u001b[38;5;241;43m=\u001b[39;49m\u001b[38;5;28;43;01mNone\u001b[39;49;00m\u001b[43m)\u001b[49m\n\u001b[0;32m   2406\u001b[0m \u001b[38;5;28;01mreturn\u001b[39;00m \u001b[38;5;28msuper\u001b[39m()\u001b[38;5;241m.\u001b[39msplit(X, y, groups)\n",
      "File \u001b[1;32md:\\Coding\\DP-DataEight\\venv\\lib\\site-packages\\sklearn\\utils\\validation.py:1107\u001b[0m, in \u001b[0;36mcheck_array\u001b[1;34m(array, accept_sparse, accept_large_sparse, dtype, order, copy, force_writeable, force_all_finite, ensure_all_finite, ensure_non_negative, ensure_2d, allow_nd, ensure_min_samples, ensure_min_features, estimator, input_name)\u001b[0m\n\u001b[0;32m   1101\u001b[0m     \u001b[38;5;28;01mraise\u001b[39;00m \u001b[38;5;167;01mValueError\u001b[39;00m(\n\u001b[0;32m   1102\u001b[0m         \u001b[38;5;124m\"\u001b[39m\u001b[38;5;124mFound array with dim \u001b[39m\u001b[38;5;132;01m%d\u001b[39;00m\u001b[38;5;124m. \u001b[39m\u001b[38;5;132;01m%s\u001b[39;00m\u001b[38;5;124m expected <= 2.\u001b[39m\u001b[38;5;124m\"\u001b[39m\n\u001b[0;32m   1103\u001b[0m         \u001b[38;5;241m%\u001b[39m (array\u001b[38;5;241m.\u001b[39mndim, estimator_name)\n\u001b[0;32m   1104\u001b[0m     )\n\u001b[0;32m   1106\u001b[0m \u001b[38;5;28;01mif\u001b[39;00m ensure_all_finite:\n\u001b[1;32m-> 1107\u001b[0m     \u001b[43m_assert_all_finite\u001b[49m\u001b[43m(\u001b[49m\n\u001b[0;32m   1108\u001b[0m \u001b[43m        \u001b[49m\u001b[43marray\u001b[49m\u001b[43m,\u001b[49m\n\u001b[0;32m   1109\u001b[0m \u001b[43m        \u001b[49m\u001b[43minput_name\u001b[49m\u001b[38;5;241;43m=\u001b[39;49m\u001b[43minput_name\u001b[49m\u001b[43m,\u001b[49m\n\u001b[0;32m   1110\u001b[0m \u001b[43m        \u001b[49m\u001b[43mestimator_name\u001b[49m\u001b[38;5;241;43m=\u001b[39;49m\u001b[43mestimator_name\u001b[49m\u001b[43m,\u001b[49m\n\u001b[0;32m   1111\u001b[0m \u001b[43m        \u001b[49m\u001b[43mallow_nan\u001b[49m\u001b[38;5;241;43m=\u001b[39;49m\u001b[43mensure_all_finite\u001b[49m\u001b[43m \u001b[49m\u001b[38;5;241;43m==\u001b[39;49m\u001b[43m \u001b[49m\u001b[38;5;124;43m\"\u001b[39;49m\u001b[38;5;124;43mallow-nan\u001b[39;49m\u001b[38;5;124;43m\"\u001b[39;49m\u001b[43m,\u001b[49m\n\u001b[0;32m   1112\u001b[0m \u001b[43m    \u001b[49m\u001b[43m)\u001b[49m\n\u001b[0;32m   1114\u001b[0m \u001b[38;5;28;01mif\u001b[39;00m copy:\n\u001b[0;32m   1115\u001b[0m     \u001b[38;5;28;01mif\u001b[39;00m _is_numpy_namespace(xp):\n\u001b[0;32m   1116\u001b[0m         \u001b[38;5;66;03m# only make a copy if `array` and `array_orig` may share memory`\u001b[39;00m\n",
      "File \u001b[1;32md:\\Coding\\DP-DataEight\\venv\\lib\\site-packages\\sklearn\\utils\\validation.py:105\u001b[0m, in \u001b[0;36m_assert_all_finite\u001b[1;34m(X, allow_nan, msg_dtype, estimator_name, input_name)\u001b[0m\n\u001b[0;32m    103\u001b[0m \u001b[38;5;28;01mif\u001b[39;00m \u001b[38;5;129;01mnot\u001b[39;00m is_array_api \u001b[38;5;129;01mand\u001b[39;00m X\u001b[38;5;241m.\u001b[39mdtype \u001b[38;5;241m==\u001b[39m np\u001b[38;5;241m.\u001b[39mdtype(\u001b[38;5;124m\"\u001b[39m\u001b[38;5;124mobject\u001b[39m\u001b[38;5;124m\"\u001b[39m) \u001b[38;5;129;01mand\u001b[39;00m \u001b[38;5;129;01mnot\u001b[39;00m allow_nan:\n\u001b[0;32m    104\u001b[0m     \u001b[38;5;28;01mif\u001b[39;00m _object_dtype_isnan(X)\u001b[38;5;241m.\u001b[39many():\n\u001b[1;32m--> 105\u001b[0m         \u001b[38;5;28;01mraise\u001b[39;00m \u001b[38;5;167;01mValueError\u001b[39;00m(\u001b[38;5;124m\"\u001b[39m\u001b[38;5;124mInput contains NaN\u001b[39m\u001b[38;5;124m\"\u001b[39m)\n\u001b[0;32m    107\u001b[0m \u001b[38;5;66;03m# We need only consider float arrays, hence can early return for all else.\u001b[39;00m\n\u001b[0;32m    108\u001b[0m \u001b[38;5;28;01mif\u001b[39;00m \u001b[38;5;129;01mnot\u001b[39;00m xp\u001b[38;5;241m.\u001b[39misdtype(X\u001b[38;5;241m.\u001b[39mdtype, (\u001b[38;5;124m\"\u001b[39m\u001b[38;5;124mreal floating\u001b[39m\u001b[38;5;124m\"\u001b[39m, \u001b[38;5;124m\"\u001b[39m\u001b[38;5;124mcomplex floating\u001b[39m\u001b[38;5;124m\"\u001b[39m)):\n",
      "\u001b[1;31mValueError\u001b[0m: Input contains NaN"
     ]
    }
   ],
   "source": [
    "y = df_modeling['credits_category']\n",
    "X = df_modeling.drop(columns=['credits_category'])\n",
    "\n",
    "X_train, X_test, y_train, y_test = train_test_split(\n",
    "    X, y, test_size=0.8, stratify=y, random_state=42\n",
    ")"
   ]
  },
  {
   "cell_type": "code",
   "execution_count": null,
   "metadata": {},
   "outputs": [],
   "source": []
  }
 ],
 "metadata": {
  "kernelspec": {
   "display_name": "venv",
   "language": "python",
   "name": "python3"
  },
  "language_info": {
   "codemirror_mode": {
    "name": "ipython",
    "version": 3
   },
   "file_extension": ".py",
   "mimetype": "text/x-python",
   "name": "python",
   "nbconvert_exporter": "python",
   "pygments_lexer": "ipython3",
   "version": "3.11.0"
  }
 },
 "nbformat": 4,
 "nbformat_minor": 2
}
